{
 "cells": [
  {
   "cell_type": "code",
   "execution_count": 1,
   "metadata": {},
   "outputs": [
    {
     "data": {
      "application/javascript": [
       "\n",
       "            setTimeout(function() {\n",
       "                var nbb_cell_id = 1;\n",
       "                var nbb_unformatted_code = \"%load_ext nb_black\";\n",
       "                var nbb_formatted_code = \"%load_ext nb_black\";\n",
       "                var nbb_cells = Jupyter.notebook.get_cells();\n",
       "                for (var i = 0; i < nbb_cells.length; ++i) {\n",
       "                    if (nbb_cells[i].input_prompt_number == nbb_cell_id) {\n",
       "                        if (nbb_cells[i].get_text() == nbb_unformatted_code) {\n",
       "                             nbb_cells[i].set_text(nbb_formatted_code);\n",
       "                        }\n",
       "                        break;\n",
       "                    }\n",
       "                }\n",
       "            }, 500);\n",
       "            "
      ],
      "text/plain": [
       "<IPython.core.display.Javascript object>"
      ]
     },
     "metadata": {},
     "output_type": "display_data"
    }
   ],
   "source": [
    "%load_ext nb_black"
   ]
  },
  {
   "cell_type": "code",
   "execution_count": 2,
   "metadata": {},
   "outputs": [
    {
     "data": {
      "application/javascript": [
       "\n",
       "            setTimeout(function() {\n",
       "                var nbb_cell_id = 2;\n",
       "                var nbb_unformatted_code = \"import numpy as np\\nimport pandas as pd\\nfrom sklearn import metrics as m\";\n",
       "                var nbb_formatted_code = \"import numpy as np\\nimport pandas as pd\\nfrom sklearn import metrics as m\";\n",
       "                var nbb_cells = Jupyter.notebook.get_cells();\n",
       "                for (var i = 0; i < nbb_cells.length; ++i) {\n",
       "                    if (nbb_cells[i].input_prompt_number == nbb_cell_id) {\n",
       "                        if (nbb_cells[i].get_text() == nbb_unformatted_code) {\n",
       "                             nbb_cells[i].set_text(nbb_formatted_code);\n",
       "                        }\n",
       "                        break;\n",
       "                    }\n",
       "                }\n",
       "            }, 500);\n",
       "            "
      ],
      "text/plain": [
       "<IPython.core.display.Javascript object>"
      ]
     },
     "metadata": {},
     "output_type": "display_data"
    }
   ],
   "source": [
    "import numpy as np\n",
    "import pandas as pd\n",
    "from sklearn import metrics as m"
   ]
  },
  {
   "cell_type": "code",
   "execution_count": 3,
   "metadata": {},
   "outputs": [
    {
     "data": {
      "application/javascript": [
       "\n",
       "            setTimeout(function() {\n",
       "                var nbb_cell_id = 3;\n",
       "                var nbb_unformatted_code = \"pd_acc_class0 = pd.read_csv(\\\"pd_acc_class0.txt\\\")\\npd_ypredproba_all_class0 = pd.read_csv(\\\"pd_ypredproba_all_class0.txt\\\")\\npd_ypredconfprob_all_class0 = pd.read_csv(\\\"pd_ypredconfprob_all_class0.txt\\\")\";\n",
       "                var nbb_formatted_code = \"pd_acc_class0 = pd.read_csv(\\\"pd_acc_class0.txt\\\")\\npd_ypredproba_all_class0 = pd.read_csv(\\\"pd_ypredproba_all_class0.txt\\\")\\npd_ypredconfprob_all_class0 = pd.read_csv(\\\"pd_ypredconfprob_all_class0.txt\\\")\";\n",
       "                var nbb_cells = Jupyter.notebook.get_cells();\n",
       "                for (var i = 0; i < nbb_cells.length; ++i) {\n",
       "                    if (nbb_cells[i].input_prompt_number == nbb_cell_id) {\n",
       "                        if (nbb_cells[i].get_text() == nbb_unformatted_code) {\n",
       "                             nbb_cells[i].set_text(nbb_formatted_code);\n",
       "                        }\n",
       "                        break;\n",
       "                    }\n",
       "                }\n",
       "            }, 500);\n",
       "            "
      ],
      "text/plain": [
       "<IPython.core.display.Javascript object>"
      ]
     },
     "metadata": {},
     "output_type": "display_data"
    }
   ],
   "source": [
    "pd_acc_class0 = pd.read_csv(\"pd_acc_class0.txt\")\n",
    "pd_ypredproba_all_class0 = pd.read_csv(\"pd_ypredproba_all_class0.txt\")\n",
    "pd_ypredconfprob_all_class0 = pd.read_csv(\"pd_ypredconfprob_all_class0.txt\")"
   ]
  },
  {
   "cell_type": "code",
   "execution_count": 4,
   "metadata": {},
   "outputs": [
    {
     "data": {
      "application/javascript": [
       "\n",
       "            setTimeout(function() {\n",
       "                var nbb_cell_id = 4;\n",
       "                var nbb_unformatted_code = \"pd_acc_class1 = pd.read_csv(\\\"pd_acc_class1.txt\\\")\\npd_ypredproba_all_class1 = pd.read_csv(\\\"pd_ypredproba_all_class1.txt\\\")\\npd_ypredconfprob_all_class1 = pd.read_csv(\\\"pd_ypredconfprob_all_class1.txt\\\")\";\n",
       "                var nbb_formatted_code = \"pd_acc_class1 = pd.read_csv(\\\"pd_acc_class1.txt\\\")\\npd_ypredproba_all_class1 = pd.read_csv(\\\"pd_ypredproba_all_class1.txt\\\")\\npd_ypredconfprob_all_class1 = pd.read_csv(\\\"pd_ypredconfprob_all_class1.txt\\\")\";\n",
       "                var nbb_cells = Jupyter.notebook.get_cells();\n",
       "                for (var i = 0; i < nbb_cells.length; ++i) {\n",
       "                    if (nbb_cells[i].input_prompt_number == nbb_cell_id) {\n",
       "                        if (nbb_cells[i].get_text() == nbb_unformatted_code) {\n",
       "                             nbb_cells[i].set_text(nbb_formatted_code);\n",
       "                        }\n",
       "                        break;\n",
       "                    }\n",
       "                }\n",
       "            }, 500);\n",
       "            "
      ],
      "text/plain": [
       "<IPython.core.display.Javascript object>"
      ]
     },
     "metadata": {},
     "output_type": "display_data"
    }
   ],
   "source": [
    "pd_acc_class1 = pd.read_csv(\"pd_acc_class1.txt\")\n",
    "pd_ypredproba_all_class1 = pd.read_csv(\"pd_ypredproba_all_class1.txt\")\n",
    "pd_ypredconfprob_all_class1 = pd.read_csv(\"pd_ypredconfprob_all_class1.txt\")"
   ]
  },
  {
   "cell_type": "code",
   "execution_count": 5,
   "metadata": {},
   "outputs": [
    {
     "data": {
      "application/javascript": [
       "\n",
       "            setTimeout(function() {\n",
       "                var nbb_cell_id = 5;\n",
       "                var nbb_unformatted_code = \"pd_acc_class2 = pd.read_csv(\\\"pd_acc_class2.txt\\\")\\npd_ypredproba_all_class2 = pd.read_csv(\\\"pd_ypredproba_all_class2.txt\\\")\\npd_ypredconfprob_all_class2 = pd.read_csv(\\\"pd_ypredconfprob_all_class2.txt\\\")\";\n",
       "                var nbb_formatted_code = \"pd_acc_class2 = pd.read_csv(\\\"pd_acc_class2.txt\\\")\\npd_ypredproba_all_class2 = pd.read_csv(\\\"pd_ypredproba_all_class2.txt\\\")\\npd_ypredconfprob_all_class2 = pd.read_csv(\\\"pd_ypredconfprob_all_class2.txt\\\")\";\n",
       "                var nbb_cells = Jupyter.notebook.get_cells();\n",
       "                for (var i = 0; i < nbb_cells.length; ++i) {\n",
       "                    if (nbb_cells[i].input_prompt_number == nbb_cell_id) {\n",
       "                        if (nbb_cells[i].get_text() == nbb_unformatted_code) {\n",
       "                             nbb_cells[i].set_text(nbb_formatted_code);\n",
       "                        }\n",
       "                        break;\n",
       "                    }\n",
       "                }\n",
       "            }, 500);\n",
       "            "
      ],
      "text/plain": [
       "<IPython.core.display.Javascript object>"
      ]
     },
     "metadata": {},
     "output_type": "display_data"
    }
   ],
   "source": [
    "pd_acc_class2 = pd.read_csv(\"pd_acc_class2.txt\")\n",
    "pd_ypredproba_all_class2 = pd.read_csv(\"pd_ypredproba_all_class2.txt\")\n",
    "pd_ypredconfprob_all_class2 = pd.read_csv(\"pd_ypredconfprob_all_class2.txt\")"
   ]
  },
  {
   "cell_type": "code",
   "execution_count": 6,
   "metadata": {},
   "outputs": [
    {
     "data": {
      "application/javascript": [
       "\n",
       "            setTimeout(function() {\n",
       "                var nbb_cell_id = 6;\n",
       "                var nbb_unformatted_code = \"ytest_class0 = pd.read_csv(\\\"ytest_class0.txt\\\")\\nytest_class1 = pd.read_csv(\\\"ytest_class1.txt\\\")\\nytest_class2 = pd.read_csv(\\\"ytest_class2.txt\\\")\\nytest_original = pd.read_csv(\\\"ytest_original.txt\\\")\";\n",
       "                var nbb_formatted_code = \"ytest_class0 = pd.read_csv(\\\"ytest_class0.txt\\\")\\nytest_class1 = pd.read_csv(\\\"ytest_class1.txt\\\")\\nytest_class2 = pd.read_csv(\\\"ytest_class2.txt\\\")\\nytest_original = pd.read_csv(\\\"ytest_original.txt\\\")\";\n",
       "                var nbb_cells = Jupyter.notebook.get_cells();\n",
       "                for (var i = 0; i < nbb_cells.length; ++i) {\n",
       "                    if (nbb_cells[i].input_prompt_number == nbb_cell_id) {\n",
       "                        if (nbb_cells[i].get_text() == nbb_unformatted_code) {\n",
       "                             nbb_cells[i].set_text(nbb_formatted_code);\n",
       "                        }\n",
       "                        break;\n",
       "                    }\n",
       "                }\n",
       "            }, 500);\n",
       "            "
      ],
      "text/plain": [
       "<IPython.core.display.Javascript object>"
      ]
     },
     "metadata": {},
     "output_type": "display_data"
    }
   ],
   "source": [
    "ytest_class0 = pd.read_csv(\"ytest_class0.txt\")\n",
    "ytest_class1 = pd.read_csv(\"ytest_class1.txt\")\n",
    "ytest_class2 = pd.read_csv(\"ytest_class2.txt\")\n",
    "ytest_original = pd.read_csv(\"ytest_original.txt\")"
   ]
  },
  {
   "cell_type": "code",
   "execution_count": 7,
   "metadata": {},
   "outputs": [
    {
     "data": {
      "text/html": [
       "<div>\n",
       "<style scoped>\n",
       "    .dataframe tbody tr th:only-of-type {\n",
       "        vertical-align: middle;\n",
       "    }\n",
       "\n",
       "    .dataframe tbody tr th {\n",
       "        vertical-align: top;\n",
       "    }\n",
       "\n",
       "    .dataframe thead th {\n",
       "        text-align: right;\n",
       "    }\n",
       "</style>\n",
       "<table border=\"1\" class=\"dataframe\">\n",
       "  <thead>\n",
       "    <tr style=\"text-align: right;\">\n",
       "      <th></th>\n",
       "      <th>0</th>\n",
       "      <th>1</th>\n",
       "      <th>2</th>\n",
       "      <th>3</th>\n",
       "      <th>4</th>\n",
       "      <th>5</th>\n",
       "      <th>6</th>\n",
       "      <th>7</th>\n",
       "      <th>8</th>\n",
       "      <th>9</th>\n",
       "      <th>...</th>\n",
       "      <th>590</th>\n",
       "      <th>591</th>\n",
       "      <th>592</th>\n",
       "      <th>593</th>\n",
       "      <th>594</th>\n",
       "      <th>595</th>\n",
       "      <th>596</th>\n",
       "      <th>597</th>\n",
       "      <th>598</th>\n",
       "      <th>599</th>\n",
       "    </tr>\n",
       "  </thead>\n",
       "  <tbody>\n",
       "    <tr>\n",
       "      <th>0</th>\n",
       "      <td>0.700000</td>\n",
       "      <td>0.600000</td>\n",
       "      <td>0.400000</td>\n",
       "      <td>0.600000</td>\n",
       "      <td>0.700000</td>\n",
       "      <td>0.000000</td>\n",
       "      <td>0.800000</td>\n",
       "      <td>0.900000</td>\n",
       "      <td>0.700000</td>\n",
       "      <td>0.000000</td>\n",
       "      <td>...</td>\n",
       "      <td>0.000000</td>\n",
       "      <td>0.000000</td>\n",
       "      <td>0.000000</td>\n",
       "      <td>0.000000</td>\n",
       "      <td>0.000000</td>\n",
       "      <td>0.000000</td>\n",
       "      <td>0.100000</td>\n",
       "      <td>0.000000</td>\n",
       "      <td>0.000000</td>\n",
       "      <td>0.100000</td>\n",
       "    </tr>\n",
       "    <tr>\n",
       "      <th>1</th>\n",
       "      <td>0.992959</td>\n",
       "      <td>0.874103</td>\n",
       "      <td>0.412963</td>\n",
       "      <td>0.963460</td>\n",
       "      <td>0.894480</td>\n",
       "      <td>0.005756</td>\n",
       "      <td>0.984181</td>\n",
       "      <td>0.999981</td>\n",
       "      <td>0.919428</td>\n",
       "      <td>0.190981</td>\n",
       "      <td>...</td>\n",
       "      <td>0.008033</td>\n",
       "      <td>0.116145</td>\n",
       "      <td>0.008953</td>\n",
       "      <td>0.005724</td>\n",
       "      <td>0.019587</td>\n",
       "      <td>0.000006</td>\n",
       "      <td>0.086366</td>\n",
       "      <td>0.004611</td>\n",
       "      <td>0.023565</td>\n",
       "      <td>0.035616</td>\n",
       "    </tr>\n",
       "    <tr>\n",
       "      <th>2</th>\n",
       "      <td>0.966276</td>\n",
       "      <td>0.808556</td>\n",
       "      <td>0.250595</td>\n",
       "      <td>0.873993</td>\n",
       "      <td>0.945025</td>\n",
       "      <td>0.036350</td>\n",
       "      <td>0.983561</td>\n",
       "      <td>0.978947</td>\n",
       "      <td>0.956410</td>\n",
       "      <td>0.222362</td>\n",
       "      <td>...</td>\n",
       "      <td>0.004348</td>\n",
       "      <td>0.134424</td>\n",
       "      <td>0.008143</td>\n",
       "      <td>0.002297</td>\n",
       "      <td>0.017564</td>\n",
       "      <td>0.001495</td>\n",
       "      <td>0.077032</td>\n",
       "      <td>0.001742</td>\n",
       "      <td>0.015208</td>\n",
       "      <td>0.014884</td>\n",
       "    </tr>\n",
       "    <tr>\n",
       "      <th>3</th>\n",
       "      <td>0.900000</td>\n",
       "      <td>0.120000</td>\n",
       "      <td>0.060000</td>\n",
       "      <td>0.580000</td>\n",
       "      <td>0.960000</td>\n",
       "      <td>0.000000</td>\n",
       "      <td>0.800000</td>\n",
       "      <td>0.780000</td>\n",
       "      <td>0.960000</td>\n",
       "      <td>0.020000</td>\n",
       "      <td>...</td>\n",
       "      <td>0.040000</td>\n",
       "      <td>0.020000</td>\n",
       "      <td>0.000000</td>\n",
       "      <td>0.000000</td>\n",
       "      <td>0.000000</td>\n",
       "      <td>0.000000</td>\n",
       "      <td>0.000000</td>\n",
       "      <td>0.000000</td>\n",
       "      <td>0.000000</td>\n",
       "      <td>0.000000</td>\n",
       "    </tr>\n",
       "    <tr>\n",
       "      <th>4</th>\n",
       "      <td>0.680000</td>\n",
       "      <td>0.720000</td>\n",
       "      <td>0.080000</td>\n",
       "      <td>0.840000</td>\n",
       "      <td>0.620000</td>\n",
       "      <td>0.060000</td>\n",
       "      <td>0.920000</td>\n",
       "      <td>0.960000</td>\n",
       "      <td>0.780000</td>\n",
       "      <td>0.120000</td>\n",
       "      <td>...</td>\n",
       "      <td>0.000000</td>\n",
       "      <td>0.020000</td>\n",
       "      <td>0.000000</td>\n",
       "      <td>0.000000</td>\n",
       "      <td>0.000000</td>\n",
       "      <td>0.000000</td>\n",
       "      <td>0.020000</td>\n",
       "      <td>0.000000</td>\n",
       "      <td>0.000000</td>\n",
       "      <td>0.000000</td>\n",
       "    </tr>\n",
       "    <tr>\n",
       "      <th>...</th>\n",
       "      <td>...</td>\n",
       "      <td>...</td>\n",
       "      <td>...</td>\n",
       "      <td>...</td>\n",
       "      <td>...</td>\n",
       "      <td>...</td>\n",
       "      <td>...</td>\n",
       "      <td>...</td>\n",
       "      <td>...</td>\n",
       "      <td>...</td>\n",
       "      <td>...</td>\n",
       "      <td>...</td>\n",
       "      <td>...</td>\n",
       "      <td>...</td>\n",
       "      <td>...</td>\n",
       "      <td>...</td>\n",
       "      <td>...</td>\n",
       "      <td>...</td>\n",
       "      <td>...</td>\n",
       "      <td>...</td>\n",
       "      <td>...</td>\n",
       "    </tr>\n",
       "    <tr>\n",
       "      <th>98</th>\n",
       "      <td>0.859944</td>\n",
       "      <td>0.815526</td>\n",
       "      <td>0.646555</td>\n",
       "      <td>0.808172</td>\n",
       "      <td>0.719945</td>\n",
       "      <td>0.074826</td>\n",
       "      <td>0.974918</td>\n",
       "      <td>0.971697</td>\n",
       "      <td>0.916755</td>\n",
       "      <td>0.491769</td>\n",
       "      <td>...</td>\n",
       "      <td>0.019193</td>\n",
       "      <td>0.374320</td>\n",
       "      <td>0.025014</td>\n",
       "      <td>0.007776</td>\n",
       "      <td>0.013802</td>\n",
       "      <td>0.019193</td>\n",
       "      <td>0.254435</td>\n",
       "      <td>0.007252</td>\n",
       "      <td>0.008344</td>\n",
       "      <td>0.077484</td>\n",
       "    </tr>\n",
       "    <tr>\n",
       "      <th>99</th>\n",
       "      <td>0.825188</td>\n",
       "      <td>0.853936</td>\n",
       "      <td>0.649236</td>\n",
       "      <td>0.816580</td>\n",
       "      <td>0.721966</td>\n",
       "      <td>0.050793</td>\n",
       "      <td>0.973557</td>\n",
       "      <td>0.965487</td>\n",
       "      <td>0.912276</td>\n",
       "      <td>0.359732</td>\n",
       "      <td>...</td>\n",
       "      <td>0.024157</td>\n",
       "      <td>0.399998</td>\n",
       "      <td>0.009150</td>\n",
       "      <td>0.007357</td>\n",
       "      <td>0.032273</td>\n",
       "      <td>0.007385</td>\n",
       "      <td>0.227066</td>\n",
       "      <td>0.007357</td>\n",
       "      <td>0.012236</td>\n",
       "      <td>0.084050</td>\n",
       "    </tr>\n",
       "    <tr>\n",
       "      <th>100</th>\n",
       "      <td>0.272891</td>\n",
       "      <td>0.367220</td>\n",
       "      <td>0.591495</td>\n",
       "      <td>0.487312</td>\n",
       "      <td>0.431940</td>\n",
       "      <td>0.161098</td>\n",
       "      <td>0.509963</td>\n",
       "      <td>0.433531</td>\n",
       "      <td>0.453991</td>\n",
       "      <td>0.143212</td>\n",
       "      <td>...</td>\n",
       "      <td>0.393608</td>\n",
       "      <td>0.442770</td>\n",
       "      <td>0.043037</td>\n",
       "      <td>0.043069</td>\n",
       "      <td>0.040613</td>\n",
       "      <td>0.031311</td>\n",
       "      <td>0.238904</td>\n",
       "      <td>0.037711</td>\n",
       "      <td>0.087290</td>\n",
       "      <td>0.416681</td>\n",
       "    </tr>\n",
       "    <tr>\n",
       "      <th>101</th>\n",
       "      <td>0.317504</td>\n",
       "      <td>0.601828</td>\n",
       "      <td>0.597900</td>\n",
       "      <td>0.524252</td>\n",
       "      <td>0.501321</td>\n",
       "      <td>0.192154</td>\n",
       "      <td>0.468384</td>\n",
       "      <td>0.314368</td>\n",
       "      <td>0.503086</td>\n",
       "      <td>0.124005</td>\n",
       "      <td>...</td>\n",
       "      <td>0.330838</td>\n",
       "      <td>0.369249</td>\n",
       "      <td>0.053748</td>\n",
       "      <td>0.042346</td>\n",
       "      <td>0.041417</td>\n",
       "      <td>0.029570</td>\n",
       "      <td>0.307241</td>\n",
       "      <td>0.035201</td>\n",
       "      <td>0.087763</td>\n",
       "      <td>0.412489</td>\n",
       "    </tr>\n",
       "    <tr>\n",
       "      <th>102</th>\n",
       "      <td>0.975537</td>\n",
       "      <td>0.650952</td>\n",
       "      <td>0.169210</td>\n",
       "      <td>0.910468</td>\n",
       "      <td>0.971741</td>\n",
       "      <td>0.050816</td>\n",
       "      <td>0.927759</td>\n",
       "      <td>0.923694</td>\n",
       "      <td>0.871516</td>\n",
       "      <td>0.202806</td>\n",
       "      <td>...</td>\n",
       "      <td>0.036486</td>\n",
       "      <td>0.084485</td>\n",
       "      <td>0.080224</td>\n",
       "      <td>0.019120</td>\n",
       "      <td>0.022813</td>\n",
       "      <td>0.043722</td>\n",
       "      <td>0.089467</td>\n",
       "      <td>0.008259</td>\n",
       "      <td>0.049439</td>\n",
       "      <td>0.048733</td>\n",
       "    </tr>\n",
       "  </tbody>\n",
       "</table>\n",
       "<p>103 rows × 600 columns</p>\n",
       "</div>"
      ],
      "text/plain": [
       "            0         1         2         3         4         5         6  \\\n",
       "0    0.700000  0.600000  0.400000  0.600000  0.700000  0.000000  0.800000   \n",
       "1    0.992959  0.874103  0.412963  0.963460  0.894480  0.005756  0.984181   \n",
       "2    0.966276  0.808556  0.250595  0.873993  0.945025  0.036350  0.983561   \n",
       "3    0.900000  0.120000  0.060000  0.580000  0.960000  0.000000  0.800000   \n",
       "4    0.680000  0.720000  0.080000  0.840000  0.620000  0.060000  0.920000   \n",
       "..        ...       ...       ...       ...       ...       ...       ...   \n",
       "98   0.859944  0.815526  0.646555  0.808172  0.719945  0.074826  0.974918   \n",
       "99   0.825188  0.853936  0.649236  0.816580  0.721966  0.050793  0.973557   \n",
       "100  0.272891  0.367220  0.591495  0.487312  0.431940  0.161098  0.509963   \n",
       "101  0.317504  0.601828  0.597900  0.524252  0.501321  0.192154  0.468384   \n",
       "102  0.975537  0.650952  0.169210  0.910468  0.971741  0.050816  0.927759   \n",
       "\n",
       "            7         8         9  ...       590       591       592  \\\n",
       "0    0.900000  0.700000  0.000000  ...  0.000000  0.000000  0.000000   \n",
       "1    0.999981  0.919428  0.190981  ...  0.008033  0.116145  0.008953   \n",
       "2    0.978947  0.956410  0.222362  ...  0.004348  0.134424  0.008143   \n",
       "3    0.780000  0.960000  0.020000  ...  0.040000  0.020000  0.000000   \n",
       "4    0.960000  0.780000  0.120000  ...  0.000000  0.020000  0.000000   \n",
       "..        ...       ...       ...  ...       ...       ...       ...   \n",
       "98   0.971697  0.916755  0.491769  ...  0.019193  0.374320  0.025014   \n",
       "99   0.965487  0.912276  0.359732  ...  0.024157  0.399998  0.009150   \n",
       "100  0.433531  0.453991  0.143212  ...  0.393608  0.442770  0.043037   \n",
       "101  0.314368  0.503086  0.124005  ...  0.330838  0.369249  0.053748   \n",
       "102  0.923694  0.871516  0.202806  ...  0.036486  0.084485  0.080224   \n",
       "\n",
       "          593       594       595       596       597       598       599  \n",
       "0    0.000000  0.000000  0.000000  0.100000  0.000000  0.000000  0.100000  \n",
       "1    0.005724  0.019587  0.000006  0.086366  0.004611  0.023565  0.035616  \n",
       "2    0.002297  0.017564  0.001495  0.077032  0.001742  0.015208  0.014884  \n",
       "3    0.000000  0.000000  0.000000  0.000000  0.000000  0.000000  0.000000  \n",
       "4    0.000000  0.000000  0.000000  0.020000  0.000000  0.000000  0.000000  \n",
       "..        ...       ...       ...       ...       ...       ...       ...  \n",
       "98   0.007776  0.013802  0.019193  0.254435  0.007252  0.008344  0.077484  \n",
       "99   0.007357  0.032273  0.007385  0.227066  0.007357  0.012236  0.084050  \n",
       "100  0.043069  0.040613  0.031311  0.238904  0.037711  0.087290  0.416681  \n",
       "101  0.042346  0.041417  0.029570  0.307241  0.035201  0.087763  0.412489  \n",
       "102  0.019120  0.022813  0.043722  0.089467  0.008259  0.049439  0.048733  \n",
       "\n",
       "[103 rows x 600 columns]"
      ]
     },
     "execution_count": 7,
     "metadata": {},
     "output_type": "execute_result"
    },
    {
     "data": {
      "application/javascript": [
       "\n",
       "            setTimeout(function() {\n",
       "                var nbb_cell_id = 7;\n",
       "                var nbb_unformatted_code = \"pd_ypredproba_all_class2\";\n",
       "                var nbb_formatted_code = \"pd_ypredproba_all_class2\";\n",
       "                var nbb_cells = Jupyter.notebook.get_cells();\n",
       "                for (var i = 0; i < nbb_cells.length; ++i) {\n",
       "                    if (nbb_cells[i].input_prompt_number == nbb_cell_id) {\n",
       "                        if (nbb_cells[i].get_text() == nbb_unformatted_code) {\n",
       "                             nbb_cells[i].set_text(nbb_formatted_code);\n",
       "                        }\n",
       "                        break;\n",
       "                    }\n",
       "                }\n",
       "            }, 500);\n",
       "            "
      ],
      "text/plain": [
       "<IPython.core.display.Javascript object>"
      ]
     },
     "metadata": {},
     "output_type": "display_data"
    }
   ],
   "source": [
    "pd_ypredproba_all_class2"
   ]
  },
  {
   "cell_type": "code",
   "execution_count": 8,
   "metadata": {
    "scrolled": true
   },
   "outputs": [
    {
     "name": "stdout",
     "output_type": "stream",
     "text": [
      "0.8886190707463169 0.8886190707463169\n",
      "0.9178477001592273 0.9178477001592272\n",
      "0.9114979197447021 0.911497919744702\n",
      "0.8381496771461839 0.8381496771461839\n",
      "0.8867589442471787 0.8867589442471787\n",
      "0.8738805054594528 0.8738805054594528\n",
      "0.8943858956735599 0.8943858956735599\n",
      "0.8722700949024386 0.8722700949024386\n",
      "0.8653230433253751 0.8653230433253751\n",
      "0.8627520970908442 0.8627520970908442\n",
      "0.8452639770518461 0.8452639770518461\n",
      "0.5586426359575896 0.5586426359575896\n",
      "0.8504139628552249 0.8504139628552249\n",
      "0.8725485210611068 0.8725485210611068\n",
      "0.8643553587249411 0.8643553587249411\n",
      "0.8405141302537339 0.8405141302537339\n",
      "0.8440582606925398 0.8440582606925398\n",
      "0.8605067149800133 0.8605067149800133\n",
      "0.858573845380832 0.8585738453808319\n",
      "0.8998792977971848 0.8998792977971848\n",
      "0.895798319327731 0.895798319327731\n",
      "0.8846787824990588 0.8846787824990588\n",
      "0.8943858956735599 0.8943858956735599\n",
      "0.8630497268160019 0.8630497268160019\n",
      "0.8493572704099019 0.8493572704099019\n",
      "0.5991385920405203 0.5991385920405203\n",
      "0.8943858956735599 0.8943858956735599\n",
      "0.8687706454477107 0.8687706454477107\n",
      "0.8621094992463111 0.8621094992463111\n",
      "0.8923249299719889 0.8923249299719889\n",
      "0.8888515406162463 0.8888515406162463\n",
      "0.8811490255741504 0.8811490255741504\n",
      "0.8933862433862434 0.8933862433862434\n",
      "0.8803479820791976 0.8803479820791976\n",
      "0.8996807842822989 0.8996807842822989\n",
      "0.8646665227714224 0.8646665227714224\n",
      "0.8968253968253967 0.8968253968253967\n",
      "0.8819047619047619 0.8819047619047619\n",
      "0.8709416866339069 0.8709416866339069\n",
      "0.5908433359267371 0.5908433359267371\n",
      "0.890474378701612 0.8904743787016121\n",
      "0.5961574997625154 0.5961574997625154\n",
      "0.8592329200931736 0.8592329200931736\n",
      "0.8974283864030966 0.8974283864030966\n",
      "0.8649717726288382 0.8649717726288382\n",
      "0.8646665227714224 0.8646665227714224\n",
      "0.8879053400719719 0.8879053400719719\n",
      "0.8918700617743544 0.8918700617743544\n",
      "0.8515025376498735 0.8515025376498735\n",
      "0.8624338624338624 0.8624338624338624\n",
      "0.5831381733021077 0.5831381733021077\n",
      "0.5919067215363512 0.5919067215363512\n",
      "0.852860589702695 0.852860589702695\n",
      "0.8828792516364157 0.8828792516364157\n",
      "0.9150527935480448 0.9150527935480448\n",
      "0.911721530549929 0.9117215305499291\n",
      "0.911721530549929 0.9117215305499291\n",
      "0.9040235837781851 0.9040235837781851\n",
      "0.8977287695859769 0.8977287695859769\n",
      "0.8825577714466604 0.8825577714466604\n",
      "0.8793695696100223 0.8793695696100223\n",
      "0.660011600573923 0.6600116005739229\n",
      "0.8905532095716144 0.8905532095716144\n",
      "0.913440317210938 0.913440317210938\n",
      "0.8827204148986326 0.8827204148986326\n",
      "0.8878231504866767 0.8878231504866767\n",
      "0.8974385867889686 0.8974385867889686\n",
      "0.8905532095716144 0.8905532095716144\n",
      "0.8993352326685662 0.8993352326685662\n",
      "0.911721530549929 0.9117215305499291\n",
      "0.9165611933315788 0.9165611933315788\n",
      "0.911721530549929 0.9117215305499291\n",
      "0.911721530549929 0.9117215305499291\n",
      "0.890389493072045 0.890389493072045\n",
      "0.8825577714466604 0.8825577714466604\n",
      "0.660011600573923 0.6600116005739229\n",
      "0.9166666666666666 0.9166666666666666\n",
      "0.907658935565706 0.9076589355657059\n",
      "0.8875117942345873 0.8875117942345873\n",
      "0.9150527935480448 0.9150527935480448\n",
      "0.911721530549929 0.9117215305499291\n",
      "0.9116111126755716 0.9116111126755716\n",
      "0.911721530549929 0.9117215305499291\n",
      "0.913440317210938 0.913440317210938\n",
      "0.911721530549929 0.9117215305499291\n",
      "0.913440317210938 0.913440317210938\n",
      "0.9133333333333333 0.9133333333333332\n",
      "0.9133333333333333 0.9133333333333332\n",
      "0.8961237960530747 0.8961237960530747\n",
      "0.7339955736034559 0.7339955736034559\n",
      "0.9150527935480448 0.9150527935480448\n",
      "0.7462899145322407 0.7462899145322407\n",
      "0.8825577714466604 0.8825577714466604\n",
      "0.913440317210938 0.913440317210938\n",
      "0.9022671568627452 0.9022671568627452\n",
      "0.8985879332477535 0.8985879332477535\n",
      "0.9133333333333333 0.9133333333333332\n",
      "0.9150527935480448 0.9150527935480448\n",
      "0.9024115967121149 0.9024115967121148\n",
      "0.9024115967121149 0.9024115967121148\n",
      "0.7286387481106072 0.7286387481106072\n",
      "0.7456637783725749 0.7456637783725749\n",
      "0.8857515277707243 0.8857515277707243\n"
     ]
    },
    {
     "data": {
      "application/javascript": [
       "\n",
       "            setTimeout(function() {\n",
       "                var nbb_cell_id = 8;\n",
       "                var nbb_unformatted_code = \"# cross check the values are correct\\nfinalval = np.zeros((600, 2))\\ntemp_pd_ypredproba = pd_ypredproba_all_class2\\n\\nfor i in range(pd_acc_class2.shape[0]):\\n\\n    predprob = np.column_stack(\\n        (temp_pd_ypredproba.iloc[i, :], 1 - temp_pd_ypredproba.iloc[i, :])\\n    )\\n    finalval += predprob\\n\\n    print(\\n        m.f1_score(ytest_class2, np.argmax(predprob, axis=1), average=\\\"weighted\\\"),\\n        pd_acc_class2.iloc[i, 0],\\n    )\";\n",
       "                var nbb_formatted_code = \"# cross check the values are correct\\nfinalval = np.zeros((600, 2))\\ntemp_pd_ypredproba = pd_ypredproba_all_class2\\n\\nfor i in range(pd_acc_class2.shape[0]):\\n\\n    predprob = np.column_stack(\\n        (temp_pd_ypredproba.iloc[i, :], 1 - temp_pd_ypredproba.iloc[i, :])\\n    )\\n    finalval += predprob\\n\\n    print(\\n        m.f1_score(ytest_class2, np.argmax(predprob, axis=1), average=\\\"weighted\\\"),\\n        pd_acc_class2.iloc[i, 0],\\n    )\";\n",
       "                var nbb_cells = Jupyter.notebook.get_cells();\n",
       "                for (var i = 0; i < nbb_cells.length; ++i) {\n",
       "                    if (nbb_cells[i].input_prompt_number == nbb_cell_id) {\n",
       "                        if (nbb_cells[i].get_text() == nbb_unformatted_code) {\n",
       "                             nbb_cells[i].set_text(nbb_formatted_code);\n",
       "                        }\n",
       "                        break;\n",
       "                    }\n",
       "                }\n",
       "            }, 500);\n",
       "            "
      ],
      "text/plain": [
       "<IPython.core.display.Javascript object>"
      ]
     },
     "metadata": {},
     "output_type": "display_data"
    }
   ],
   "source": [
    "# cross check the values are correct\n",
    "finalval = np.zeros((600, 2))\n",
    "temp_pd_ypredproba = pd_ypredproba_all_class2\n",
    "\n",
    "for i in range(pd_acc_class2.shape[0]):\n",
    "\n",
    "    predprob = np.column_stack(\n",
    "        (temp_pd_ypredproba.iloc[i, :], 1 - temp_pd_ypredproba.iloc[i, :])\n",
    "    )\n",
    "    finalval += predprob\n",
    "\n",
    "    print(\n",
    "        m.f1_score(ytest_class2, np.argmax(predprob, axis=1), average=\"weighted\"),\n",
    "        pd_acc_class2.iloc[i, 0],\n",
    "    )"
   ]
  },
  {
   "cell_type": "code",
   "execution_count": 9,
   "metadata": {
    "scrolled": true
   },
   "outputs": [
    {
     "name": "stdout",
     "output_type": "stream",
     "text": [
      "f1_score 0.7180708955384928\n",
      "accuracy_score 0.7233333333333334\n"
     ]
    },
    {
     "data": {
      "application/javascript": [
       "\n",
       "            setTimeout(function() {\n",
       "                var nbb_cell_id = 9;\n",
       "                var nbb_unformatted_code = \"# using the accuracy value as a weight value for ensemble\\nfinalval = np.zeros((600, 2))\\n\\nfor i in range(pd_acc_class1.shape[0]):\\n\\n    predprob = np.column_stack(\\n        (pd_ypredproba_all_class1.iloc[i, :], 1 - pd_ypredproba_all_class1.iloc[i, :])\\n    )\\n\\n    finalval += pd_acc_class0.iloc[i, 0] * predprob\\n\\nprint(\\n    \\\"f1_score\\\",\\n    m.f1_score(ytest_class1, np.argmax(finalval, axis=1), average=\\\"weighted\\\"),\\n)\\nprint(\\\"accuracy_score\\\", m.accuracy_score(ytest_class1, np.argmax(finalval, axis=1)))\";\n",
       "                var nbb_formatted_code = \"# using the accuracy value as a weight value for ensemble\\nfinalval = np.zeros((600, 2))\\n\\nfor i in range(pd_acc_class1.shape[0]):\\n\\n    predprob = np.column_stack(\\n        (pd_ypredproba_all_class1.iloc[i, :], 1 - pd_ypredproba_all_class1.iloc[i, :])\\n    )\\n\\n    finalval += pd_acc_class0.iloc[i, 0] * predprob\\n\\nprint(\\n    \\\"f1_score\\\",\\n    m.f1_score(ytest_class1, np.argmax(finalval, axis=1), average=\\\"weighted\\\"),\\n)\\nprint(\\\"accuracy_score\\\", m.accuracy_score(ytest_class1, np.argmax(finalval, axis=1)))\";\n",
       "                var nbb_cells = Jupyter.notebook.get_cells();\n",
       "                for (var i = 0; i < nbb_cells.length; ++i) {\n",
       "                    if (nbb_cells[i].input_prompt_number == nbb_cell_id) {\n",
       "                        if (nbb_cells[i].get_text() == nbb_unformatted_code) {\n",
       "                             nbb_cells[i].set_text(nbb_formatted_code);\n",
       "                        }\n",
       "                        break;\n",
       "                    }\n",
       "                }\n",
       "            }, 500);\n",
       "            "
      ],
      "text/plain": [
       "<IPython.core.display.Javascript object>"
      ]
     },
     "metadata": {},
     "output_type": "display_data"
    }
   ],
   "source": [
    "# using the accuracy value as a weight value for ensemble\n",
    "finalval = np.zeros((600, 2))\n",
    "\n",
    "for i in range(pd_acc_class1.shape[0]):\n",
    "\n",
    "    predprob = np.column_stack(\n",
    "        (pd_ypredproba_all_class1.iloc[i, :], 1 - pd_ypredproba_all_class1.iloc[i, :])\n",
    "    )\n",
    "\n",
    "    finalval += pd_acc_class0.iloc[i, 0] * predprob\n",
    "\n",
    "print(\n",
    "    \"f1_score\",\n",
    "    m.f1_score(ytest_class1, np.argmax(finalval, axis=1), average=\"weighted\"),\n",
    ")\n",
    "print(\"accuracy_score\", m.accuracy_score(ytest_class1, np.argmax(finalval, axis=1)))"
   ]
  },
  {
   "cell_type": "code",
   "execution_count": 10,
   "metadata": {},
   "outputs": [
    {
     "name": "stdout",
     "output_type": "stream",
     "text": [
      "f1_score 0.8102345415778252\n",
      "accuracy_score 0.81\n",
      "[0.72 0.28 0.14 0.85]\n"
     ]
    },
    {
     "data": {
      "application/javascript": [
       "\n",
       "            setTimeout(function() {\n",
       "                var nbb_cell_id = 10;\n",
       "                var nbb_unformatted_code = \"finalval = np.zeros((600, 2))\\n\\ntemp_pd_ypredproba = pd_ypredproba_all_class0\\ntemp_pd_ypredconfprob = pd_ypredconfprob_all_class0\\n\\nfor i in range(pd_acc_class1.shape[0]):\\n\\n    predprob = np.column_stack(\\n        (\\n            (temp_pd_ypredproba.iloc[i, :] * temp_pd_ypredconfprob.iloc[i, 0])\\n            + ((1 - temp_pd_ypredproba.iloc[i, :]) * temp_pd_ypredconfprob.iloc[i, 1]),\\n            ((1 - temp_pd_ypredproba.iloc[i, :]) * temp_pd_ypredconfprob.iloc[i, 3])\\n            + (temp_pd_ypredproba.iloc[i, :] * temp_pd_ypredconfprob.iloc[i, 2]),\\n        )\\n    )\\n\\n    finalval += predprob\\n\\nprint(\\n    \\\"f1_score\\\",\\n    m.f1_score(ytest_class0, np.argmax(finalval, axis=1), average=\\\"weighted\\\"),\\n)\\nprint(\\\"accuracy_score\\\", m.accuracy_score(ytest_class0, np.argmax(finalval, axis=1)))\\n\\nfinalval_class0 = finalval.copy() / pd_acc_class0.shape[0]\\nconfmat = m.confusion_matrix(ytest_class0, np.argmax(finalval, axis=1))\\nconfsumh = np.sum(confmat, axis=1)\\npropconfmat = confmat.copy()\\nfor i in range(propconfmat.shape[0]):\\n    propconfmat[i] = 100 * propconfmat[i] / confsumh[i]\\npropconfmat_class0 = propconfmat.ravel() / 100\\nprint(propconfmat_class0)\";\n",
       "                var nbb_formatted_code = \"finalval = np.zeros((600, 2))\\n\\ntemp_pd_ypredproba = pd_ypredproba_all_class0\\ntemp_pd_ypredconfprob = pd_ypredconfprob_all_class0\\n\\nfor i in range(pd_acc_class1.shape[0]):\\n\\n    predprob = np.column_stack(\\n        (\\n            (temp_pd_ypredproba.iloc[i, :] * temp_pd_ypredconfprob.iloc[i, 0])\\n            + ((1 - temp_pd_ypredproba.iloc[i, :]) * temp_pd_ypredconfprob.iloc[i, 1]),\\n            ((1 - temp_pd_ypredproba.iloc[i, :]) * temp_pd_ypredconfprob.iloc[i, 3])\\n            + (temp_pd_ypredproba.iloc[i, :] * temp_pd_ypredconfprob.iloc[i, 2]),\\n        )\\n    )\\n\\n    finalval += predprob\\n\\nprint(\\n    \\\"f1_score\\\",\\n    m.f1_score(ytest_class0, np.argmax(finalval, axis=1), average=\\\"weighted\\\"),\\n)\\nprint(\\\"accuracy_score\\\", m.accuracy_score(ytest_class0, np.argmax(finalval, axis=1)))\\n\\nfinalval_class0 = finalval.copy() / pd_acc_class0.shape[0]\\nconfmat = m.confusion_matrix(ytest_class0, np.argmax(finalval, axis=1))\\nconfsumh = np.sum(confmat, axis=1)\\npropconfmat = confmat.copy()\\nfor i in range(propconfmat.shape[0]):\\n    propconfmat[i] = 100 * propconfmat[i] / confsumh[i]\\npropconfmat_class0 = propconfmat.ravel() / 100\\nprint(propconfmat_class0)\";\n",
       "                var nbb_cells = Jupyter.notebook.get_cells();\n",
       "                for (var i = 0; i < nbb_cells.length; ++i) {\n",
       "                    if (nbb_cells[i].input_prompt_number == nbb_cell_id) {\n",
       "                        if (nbb_cells[i].get_text() == nbb_unformatted_code) {\n",
       "                             nbb_cells[i].set_text(nbb_formatted_code);\n",
       "                        }\n",
       "                        break;\n",
       "                    }\n",
       "                }\n",
       "            }, 500);\n",
       "            "
      ],
      "text/plain": [
       "<IPython.core.display.Javascript object>"
      ]
     },
     "metadata": {},
     "output_type": "display_data"
    }
   ],
   "source": [
    "finalval = np.zeros((600, 2))\n",
    "\n",
    "temp_pd_ypredproba = pd_ypredproba_all_class0\n",
    "temp_pd_ypredconfprob = pd_ypredconfprob_all_class0\n",
    "\n",
    "for i in range(pd_acc_class1.shape[0]):\n",
    "\n",
    "    predprob = np.column_stack(\n",
    "        (\n",
    "            (temp_pd_ypredproba.iloc[i, :] * temp_pd_ypredconfprob.iloc[i, 0])\n",
    "            + ((1 - temp_pd_ypredproba.iloc[i, :]) * temp_pd_ypredconfprob.iloc[i, 1]),\n",
    "            ((1 - temp_pd_ypredproba.iloc[i, :]) * temp_pd_ypredconfprob.iloc[i, 3])\n",
    "            + (temp_pd_ypredproba.iloc[i, :] * temp_pd_ypredconfprob.iloc[i, 2]),\n",
    "        )\n",
    "    )\n",
    "\n",
    "    finalval += predprob\n",
    "\n",
    "print(\n",
    "    \"f1_score\",\n",
    "    m.f1_score(ytest_class0, np.argmax(finalval, axis=1), average=\"weighted\"),\n",
    ")\n",
    "print(\"accuracy_score\", m.accuracy_score(ytest_class0, np.argmax(finalval, axis=1)))\n",
    "\n",
    "finalval_class0 = finalval.copy() / pd_acc_class0.shape[0]\n",
    "confmat = m.confusion_matrix(ytest_class0, np.argmax(finalval, axis=1))\n",
    "confsumh = np.sum(confmat, axis=1)\n",
    "propconfmat = confmat.copy()\n",
    "for i in range(propconfmat.shape[0]):\n",
    "    propconfmat[i] = 100 * propconfmat[i] / confsumh[i]\n",
    "propconfmat_class0 = propconfmat.ravel() / 100\n",
    "print(propconfmat_class0)"
   ]
  },
  {
   "cell_type": "code",
   "execution_count": null,
   "metadata": {},
   "outputs": [],
   "source": []
  },
  {
   "cell_type": "code",
   "execution_count": 11,
   "metadata": {},
   "outputs": [
    {
     "name": "stdout",
     "output_type": "stream",
     "text": [
      "f1_score 0.7364082342511968\n",
      "accuracy_score 0.7383333333333333\n",
      "[0.22 0.78 0.36 0.63]\n"
     ]
    },
    {
     "data": {
      "application/javascript": [
       "\n",
       "            setTimeout(function() {\n",
       "                var nbb_cell_id = 11;\n",
       "                var nbb_unformatted_code = \"finalval = np.zeros((600, 2))\\n\\ntemp_pd_ypredproba = pd_ypredproba_all_class1\\ntemp_pd_ypredconfprob = pd_ypredconfprob_all_class1\\n\\nfor i in range(pd_acc_class1.shape[0]):\\n\\n    predprob = np.column_stack(\\n        (\\n            (temp_pd_ypredproba.iloc[i, :] * temp_pd_ypredconfprob.iloc[i, 0])\\n            + ((1 - temp_pd_ypredproba.iloc[i, :]) * temp_pd_ypredconfprob.iloc[i, 1]),\\n            ((1 - temp_pd_ypredproba.iloc[i, :]) * temp_pd_ypredconfprob.iloc[i, 3])\\n            + (temp_pd_ypredproba.iloc[i, :] * temp_pd_ypredconfprob.iloc[i, 2]),\\n        )\\n    )\\n\\n    finalval += predprob\\n\\nprint(\\n    \\\"f1_score\\\",\\n    m.f1_score(ytest_class1, np.argmax(finalval, axis=1), average=\\\"weighted\\\"),\\n)\\nprint(\\\"accuracy_score\\\", m.accuracy_score(ytest_class1, np.argmax(finalval, axis=1)))\\n\\nfinalval_class1 = finalval.copy() / pd_acc_class1.shape[0]\\nconfmat = m.confusion_matrix(ytest_class0, np.argmax(finalval, axis=1))\\nconfsumh = np.sum(confmat, axis=1)\\npropconfmat = confmat.copy()\\nfor i in range(propconfmat.shape[0]):\\n    propconfmat[i] = 100 * propconfmat[i] / confsumh[i]\\npropconfmat_class1 = propconfmat.ravel() / 100\\nprint(propconfmat_class1)\";\n",
       "                var nbb_formatted_code = \"finalval = np.zeros((600, 2))\\n\\ntemp_pd_ypredproba = pd_ypredproba_all_class1\\ntemp_pd_ypredconfprob = pd_ypredconfprob_all_class1\\n\\nfor i in range(pd_acc_class1.shape[0]):\\n\\n    predprob = np.column_stack(\\n        (\\n            (temp_pd_ypredproba.iloc[i, :] * temp_pd_ypredconfprob.iloc[i, 0])\\n            + ((1 - temp_pd_ypredproba.iloc[i, :]) * temp_pd_ypredconfprob.iloc[i, 1]),\\n            ((1 - temp_pd_ypredproba.iloc[i, :]) * temp_pd_ypredconfprob.iloc[i, 3])\\n            + (temp_pd_ypredproba.iloc[i, :] * temp_pd_ypredconfprob.iloc[i, 2]),\\n        )\\n    )\\n\\n    finalval += predprob\\n\\nprint(\\n    \\\"f1_score\\\",\\n    m.f1_score(ytest_class1, np.argmax(finalval, axis=1), average=\\\"weighted\\\"),\\n)\\nprint(\\\"accuracy_score\\\", m.accuracy_score(ytest_class1, np.argmax(finalval, axis=1)))\\n\\nfinalval_class1 = finalval.copy() / pd_acc_class1.shape[0]\\nconfmat = m.confusion_matrix(ytest_class0, np.argmax(finalval, axis=1))\\nconfsumh = np.sum(confmat, axis=1)\\npropconfmat = confmat.copy()\\nfor i in range(propconfmat.shape[0]):\\n    propconfmat[i] = 100 * propconfmat[i] / confsumh[i]\\npropconfmat_class1 = propconfmat.ravel() / 100\\nprint(propconfmat_class1)\";\n",
       "                var nbb_cells = Jupyter.notebook.get_cells();\n",
       "                for (var i = 0; i < nbb_cells.length; ++i) {\n",
       "                    if (nbb_cells[i].input_prompt_number == nbb_cell_id) {\n",
       "                        if (nbb_cells[i].get_text() == nbb_unformatted_code) {\n",
       "                             nbb_cells[i].set_text(nbb_formatted_code);\n",
       "                        }\n",
       "                        break;\n",
       "                    }\n",
       "                }\n",
       "            }, 500);\n",
       "            "
      ],
      "text/plain": [
       "<IPython.core.display.Javascript object>"
      ]
     },
     "metadata": {},
     "output_type": "display_data"
    }
   ],
   "source": [
    "finalval = np.zeros((600, 2))\n",
    "\n",
    "temp_pd_ypredproba = pd_ypredproba_all_class1\n",
    "temp_pd_ypredconfprob = pd_ypredconfprob_all_class1\n",
    "\n",
    "for i in range(pd_acc_class1.shape[0]):\n",
    "\n",
    "    predprob = np.column_stack(\n",
    "        (\n",
    "            (temp_pd_ypredproba.iloc[i, :] * temp_pd_ypredconfprob.iloc[i, 0])\n",
    "            + ((1 - temp_pd_ypredproba.iloc[i, :]) * temp_pd_ypredconfprob.iloc[i, 1]),\n",
    "            ((1 - temp_pd_ypredproba.iloc[i, :]) * temp_pd_ypredconfprob.iloc[i, 3])\n",
    "            + (temp_pd_ypredproba.iloc[i, :] * temp_pd_ypredconfprob.iloc[i, 2]),\n",
    "        )\n",
    "    )\n",
    "\n",
    "    finalval += predprob\n",
    "\n",
    "print(\n",
    "    \"f1_score\",\n",
    "    m.f1_score(ytest_class1, np.argmax(finalval, axis=1), average=\"weighted\"),\n",
    ")\n",
    "print(\"accuracy_score\", m.accuracy_score(ytest_class1, np.argmax(finalval, axis=1)))\n",
    "\n",
    "finalval_class1 = finalval.copy() / pd_acc_class1.shape[0]\n",
    "confmat = m.confusion_matrix(ytest_class0, np.argmax(finalval, axis=1))\n",
    "confsumh = np.sum(confmat, axis=1)\n",
    "propconfmat = confmat.copy()\n",
    "for i in range(propconfmat.shape[0]):\n",
    "    propconfmat[i] = 100 * propconfmat[i] / confsumh[i]\n",
    "propconfmat_class1 = propconfmat.ravel() / 100\n",
    "print(propconfmat_class1)"
   ]
  },
  {
   "cell_type": "code",
   "execution_count": null,
   "metadata": {},
   "outputs": [],
   "source": []
  },
  {
   "cell_type": "code",
   "execution_count": 12,
   "metadata": {},
   "outputs": [
    {
     "name": "stdout",
     "output_type": "stream",
     "text": [
      "f1_score 0.918478331240046\n",
      "accuracy_score 0.92\n",
      "[0.81 0.18 0.02 0.97]\n"
     ]
    },
    {
     "data": {
      "application/javascript": [
       "\n",
       "            setTimeout(function() {\n",
       "                var nbb_cell_id = 12;\n",
       "                var nbb_unformatted_code = \"finalval = np.zeros((600, 2))\\n\\ntemp_pd_ypredproba = pd_ypredproba_all_class2\\ntemp_pd_ypredconfprob = pd_ypredconfprob_all_class2\\n\\nfor i in range(pd_acc_class1.shape[0]):\\n\\n    predprob = np.column_stack(\\n        (\\n            (temp_pd_ypredproba.iloc[i, :] * temp_pd_ypredconfprob.iloc[i, 0])\\n            + ((1 - temp_pd_ypredproba.iloc[i, :]) * temp_pd_ypredconfprob.iloc[i, 1]),\\n            ((1 - temp_pd_ypredproba.iloc[i, :]) * temp_pd_ypredconfprob.iloc[i, 3])\\n            + (temp_pd_ypredproba.iloc[i, :] * temp_pd_ypredconfprob.iloc[i, 2]),\\n        )\\n    )\\n\\n    finalval += predprob\\n\\nprint(\\n    \\\"f1_score\\\",\\n    m.f1_score(ytest_class2, np.argmax(finalval, axis=1), average=\\\"weighted\\\"),\\n)\\nprint(\\\"accuracy_score\\\", m.accuracy_score(ytest_class2, np.argmax(finalval, axis=1)))\\n\\nfinalval_class2 = finalval.copy() / pd_acc_class2.shape[0]\\nconfmat = m.confusion_matrix(ytest_class2, np.argmax(finalval, axis=1))\\nconfsumh = np.sum(confmat, axis=1)\\npropconfmat = confmat.copy()\\nfor i in range(propconfmat.shape[0]):\\n    propconfmat[i] = 100 * propconfmat[i] / confsumh[i]\\npropconfmat_class2 = propconfmat.ravel() / 100\\nprint(propconfmat_class2)\";\n",
       "                var nbb_formatted_code = \"finalval = np.zeros((600, 2))\\n\\ntemp_pd_ypredproba = pd_ypredproba_all_class2\\ntemp_pd_ypredconfprob = pd_ypredconfprob_all_class2\\n\\nfor i in range(pd_acc_class1.shape[0]):\\n\\n    predprob = np.column_stack(\\n        (\\n            (temp_pd_ypredproba.iloc[i, :] * temp_pd_ypredconfprob.iloc[i, 0])\\n            + ((1 - temp_pd_ypredproba.iloc[i, :]) * temp_pd_ypredconfprob.iloc[i, 1]),\\n            ((1 - temp_pd_ypredproba.iloc[i, :]) * temp_pd_ypredconfprob.iloc[i, 3])\\n            + (temp_pd_ypredproba.iloc[i, :] * temp_pd_ypredconfprob.iloc[i, 2]),\\n        )\\n    )\\n\\n    finalval += predprob\\n\\nprint(\\n    \\\"f1_score\\\",\\n    m.f1_score(ytest_class2, np.argmax(finalval, axis=1), average=\\\"weighted\\\"),\\n)\\nprint(\\\"accuracy_score\\\", m.accuracy_score(ytest_class2, np.argmax(finalval, axis=1)))\\n\\nfinalval_class2 = finalval.copy() / pd_acc_class2.shape[0]\\nconfmat = m.confusion_matrix(ytest_class2, np.argmax(finalval, axis=1))\\nconfsumh = np.sum(confmat, axis=1)\\npropconfmat = confmat.copy()\\nfor i in range(propconfmat.shape[0]):\\n    propconfmat[i] = 100 * propconfmat[i] / confsumh[i]\\npropconfmat_class2 = propconfmat.ravel() / 100\\nprint(propconfmat_class2)\";\n",
       "                var nbb_cells = Jupyter.notebook.get_cells();\n",
       "                for (var i = 0; i < nbb_cells.length; ++i) {\n",
       "                    if (nbb_cells[i].input_prompt_number == nbb_cell_id) {\n",
       "                        if (nbb_cells[i].get_text() == nbb_unformatted_code) {\n",
       "                             nbb_cells[i].set_text(nbb_formatted_code);\n",
       "                        }\n",
       "                        break;\n",
       "                    }\n",
       "                }\n",
       "            }, 500);\n",
       "            "
      ],
      "text/plain": [
       "<IPython.core.display.Javascript object>"
      ]
     },
     "metadata": {},
     "output_type": "display_data"
    }
   ],
   "source": [
    "finalval = np.zeros((600, 2))\n",
    "\n",
    "temp_pd_ypredproba = pd_ypredproba_all_class2\n",
    "temp_pd_ypredconfprob = pd_ypredconfprob_all_class2\n",
    "\n",
    "for i in range(pd_acc_class1.shape[0]):\n",
    "\n",
    "    predprob = np.column_stack(\n",
    "        (\n",
    "            (temp_pd_ypredproba.iloc[i, :] * temp_pd_ypredconfprob.iloc[i, 0])\n",
    "            + ((1 - temp_pd_ypredproba.iloc[i, :]) * temp_pd_ypredconfprob.iloc[i, 1]),\n",
    "            ((1 - temp_pd_ypredproba.iloc[i, :]) * temp_pd_ypredconfprob.iloc[i, 3])\n",
    "            + (temp_pd_ypredproba.iloc[i, :] * temp_pd_ypredconfprob.iloc[i, 2]),\n",
    "        )\n",
    "    )\n",
    "\n",
    "    finalval += predprob\n",
    "\n",
    "print(\n",
    "    \"f1_score\",\n",
    "    m.f1_score(ytest_class2, np.argmax(finalval, axis=1), average=\"weighted\"),\n",
    ")\n",
    "print(\"accuracy_score\", m.accuracy_score(ytest_class2, np.argmax(finalval, axis=1)))\n",
    "\n",
    "finalval_class2 = finalval.copy() / pd_acc_class2.shape[0]\n",
    "confmat = m.confusion_matrix(ytest_class2, np.argmax(finalval, axis=1))\n",
    "confsumh = np.sum(confmat, axis=1)\n",
    "propconfmat = confmat.copy()\n",
    "for i in range(propconfmat.shape[0]):\n",
    "    propconfmat[i] = 100 * propconfmat[i] / confsumh[i]\n",
    "propconfmat_class2 = propconfmat.ravel() / 100\n",
    "print(propconfmat_class2)"
   ]
  },
  {
   "cell_type": "code",
   "execution_count": 13,
   "metadata": {},
   "outputs": [
    {
     "data": {
      "application/javascript": [
       "\n",
       "            setTimeout(function() {\n",
       "                var nbb_cell_id = 13;\n",
       "                var nbb_unformatted_code = \"acc = [0.8122369749204131, 0.7463460277279999, 0.9223705713932164]\";\n",
       "                var nbb_formatted_code = \"acc = [0.8122369749204131, 0.7463460277279999, 0.9223705713932164]\";\n",
       "                var nbb_cells = Jupyter.notebook.get_cells();\n",
       "                for (var i = 0; i < nbb_cells.length; ++i) {\n",
       "                    if (nbb_cells[i].input_prompt_number == nbb_cell_id) {\n",
       "                        if (nbb_cells[i].get_text() == nbb_unformatted_code) {\n",
       "                             nbb_cells[i].set_text(nbb_formatted_code);\n",
       "                        }\n",
       "                        break;\n",
       "                    }\n",
       "                }\n",
       "            }, 500);\n",
       "            "
      ],
      "text/plain": [
       "<IPython.core.display.Javascript object>"
      ]
     },
     "metadata": {},
     "output_type": "display_data"
    }
   ],
   "source": [
    "acc = [0.8122369749204131, 0.7463460277279999, 0.9223705713932164]"
   ]
  },
  {
   "cell_type": "code",
   "execution_count": 14,
   "metadata": {},
   "outputs": [
    {
     "data": {
      "application/javascript": [
       "\n",
       "            setTimeout(function() {\n",
       "                var nbb_cell_id = 14;\n",
       "                var nbb_unformatted_code = \"probablity_not_class0 = (finalval_class0[:, 1] * propconfmat_class0[3]) + (\\n    finalval_class0[i, 0] * propconfmat_class0[2]\\n)\\n\\nprobablity_not_class1 = (finalval_class1[:, 1] * propconfmat_class1[3]) + (\\n    finalval_class1[i, 0] * propconfmat_class1[2]\\n)\\nprobablity_not_class2 = (finalval_class2[:, 1] * propconfmat_class2[3]) + (\\n    finalval_class2[i, 0] * propconfmat_class2[2]\\n)\";\n",
       "                var nbb_formatted_code = \"probablity_not_class0 = (finalval_class0[:, 1] * propconfmat_class0[3]) + (\\n    finalval_class0[i, 0] * propconfmat_class0[2]\\n)\\n\\nprobablity_not_class1 = (finalval_class1[:, 1] * propconfmat_class1[3]) + (\\n    finalval_class1[i, 0] * propconfmat_class1[2]\\n)\\nprobablity_not_class2 = (finalval_class2[:, 1] * propconfmat_class2[3]) + (\\n    finalval_class2[i, 0] * propconfmat_class2[2]\\n)\";\n",
       "                var nbb_cells = Jupyter.notebook.get_cells();\n",
       "                for (var i = 0; i < nbb_cells.length; ++i) {\n",
       "                    if (nbb_cells[i].input_prompt_number == nbb_cell_id) {\n",
       "                        if (nbb_cells[i].get_text() == nbb_unformatted_code) {\n",
       "                             nbb_cells[i].set_text(nbb_formatted_code);\n",
       "                        }\n",
       "                        break;\n",
       "                    }\n",
       "                }\n",
       "            }, 500);\n",
       "            "
      ],
      "text/plain": [
       "<IPython.core.display.Javascript object>"
      ]
     },
     "metadata": {},
     "output_type": "display_data"
    }
   ],
   "source": [
    "probablity_not_class0 = (finalval_class0[:, 1] * propconfmat_class0[3]) + (\n",
    "    finalval_class0[i, 0] * propconfmat_class0[2]\n",
    ")\n",
    "\n",
    "probablity_not_class1 = (finalval_class1[:, 1] * propconfmat_class1[3]) + (\n",
    "    finalval_class1[i, 0] * propconfmat_class1[2]\n",
    ")\n",
    "probablity_not_class2 = (finalval_class2[:, 1] * propconfmat_class2[3]) + (\n",
    "    finalval_class2[i, 0] * propconfmat_class2[2]\n",
    ")"
   ]
  },
  {
   "cell_type": "code",
   "execution_count": 15,
   "metadata": {},
   "outputs": [
    {
     "data": {
      "application/javascript": [
       "\n",
       "            setTimeout(function() {\n",
       "                var nbb_cell_id = 15;\n",
       "                var nbb_unformatted_code = \"probablity_being_class0 = (finalval_class0[:, 0] * propconfmat_class0[0]) + (\\n    finalval_class0[i, 1] * propconfmat_class0[1]\\n)\\n\\nprobablity_being_class1 = (finalval_class1[:, 0] * propconfmat_class1[0]) + (\\n    finalval_class1[i, 1] * propconfmat_class1[1]\\n)\\nprobablity_being_class2 = (finalval_class2[:, 0] * propconfmat_class2[3]) + (\\n    finalval_class2[i, 0] * propconfmat_class2[2]\\n)\";\n",
       "                var nbb_formatted_code = \"probablity_being_class0 = (finalval_class0[:, 0] * propconfmat_class0[0]) + (\\n    finalval_class0[i, 1] * propconfmat_class0[1]\\n)\\n\\nprobablity_being_class1 = (finalval_class1[:, 0] * propconfmat_class1[0]) + (\\n    finalval_class1[i, 1] * propconfmat_class1[1]\\n)\\nprobablity_being_class2 = (finalval_class2[:, 0] * propconfmat_class2[3]) + (\\n    finalval_class2[i, 0] * propconfmat_class2[2]\\n)\";\n",
       "                var nbb_cells = Jupyter.notebook.get_cells();\n",
       "                for (var i = 0; i < nbb_cells.length; ++i) {\n",
       "                    if (nbb_cells[i].input_prompt_number == nbb_cell_id) {\n",
       "                        if (nbb_cells[i].get_text() == nbb_unformatted_code) {\n",
       "                             nbb_cells[i].set_text(nbb_formatted_code);\n",
       "                        }\n",
       "                        break;\n",
       "                    }\n",
       "                }\n",
       "            }, 500);\n",
       "            "
      ],
      "text/plain": [
       "<IPython.core.display.Javascript object>"
      ]
     },
     "metadata": {},
     "output_type": "display_data"
    }
   ],
   "source": [
    "probablity_being_class0 = (finalval_class0[:, 0] * propconfmat_class0[0]) + (\n",
    "    finalval_class0[i, 1] * propconfmat_class0[1]\n",
    ")\n",
    "\n",
    "probablity_being_class1 = (finalval_class1[:, 0] * propconfmat_class1[0]) + (\n",
    "    finalval_class1[i, 1] * propconfmat_class1[1]\n",
    ")\n",
    "probablity_being_class2 = (finalval_class2[:, 0] * propconfmat_class2[3]) + (\n",
    "    finalval_class2[i, 0] * propconfmat_class2[2]\n",
    ")"
   ]
  },
  {
   "cell_type": "code",
   "execution_count": 16,
   "metadata": {},
   "outputs": [
    {
     "name": "stdout",
     "output_type": "stream",
     "text": [
      "0\n",
      "1\n",
      "2\n",
      "3\n",
      "4\n",
      "5\n",
      "6\n",
      "7\n",
      "8\n",
      "9\n",
      "2.385513997934465 [0.96405632 0.93481231 0.98301626]\n"
     ]
    },
    {
     "data": {
      "application/javascript": [
       "\n",
       "            setTimeout(function() {\n",
       "                var nbb_cell_id = 16;\n",
       "                var nbb_unformatted_code = \"import calculateWeightUsingGa2 as aresult\\n\\nweightvalga = aresult.getbestvalues(np.array(acc))\";\n",
       "                var nbb_formatted_code = \"import calculateWeightUsingGa2 as aresult\\n\\nweightvalga = aresult.getbestvalues(np.array(acc))\";\n",
       "                var nbb_cells = Jupyter.notebook.get_cells();\n",
       "                for (var i = 0; i < nbb_cells.length; ++i) {\n",
       "                    if (nbb_cells[i].input_prompt_number == nbb_cell_id) {\n",
       "                        if (nbb_cells[i].get_text() == nbb_unformatted_code) {\n",
       "                             nbb_cells[i].set_text(nbb_formatted_code);\n",
       "                        }\n",
       "                        break;\n",
       "                    }\n",
       "                }\n",
       "            }, 500);\n",
       "            "
      ],
      "text/plain": [
       "<IPython.core.display.Javascript object>"
      ]
     },
     "metadata": {},
     "output_type": "display_data"
    }
   ],
   "source": [
    "import calculateWeightUsingGa2 as aresult\n",
    "\n",
    "weightvalga = aresult.getbestvalues(np.array(acc))"
   ]
  },
  {
   "cell_type": "code",
   "execution_count": 17,
   "metadata": {},
   "outputs": [
    {
     "data": {
      "application/javascript": [
       "\n",
       "            setTimeout(function() {\n",
       "                var nbb_cell_id = 17;\n",
       "                var nbb_unformatted_code = \"m0 = np.mean(abs(0.5 - finalval_class0[:, 0]))\\nm1 = np.mean(abs(0.5 - finalval_class1[:, 0]))\\nm2 = np.mean(abs(0.5 - finalval_class2[:, 0]))\\nms = m0 + m1 + m2\\n\\nw0 = m0 / ms\\nw1 = m1 / ms\\nw2 = m2 / ms\";\n",
       "                var nbb_formatted_code = \"m0 = np.mean(abs(0.5 - finalval_class0[:, 0]))\\nm1 = np.mean(abs(0.5 - finalval_class1[:, 0]))\\nm2 = np.mean(abs(0.5 - finalval_class2[:, 0]))\\nms = m0 + m1 + m2\\n\\nw0 = m0 / ms\\nw1 = m1 / ms\\nw2 = m2 / ms\";\n",
       "                var nbb_cells = Jupyter.notebook.get_cells();\n",
       "                for (var i = 0; i < nbb_cells.length; ++i) {\n",
       "                    if (nbb_cells[i].input_prompt_number == nbb_cell_id) {\n",
       "                        if (nbb_cells[i].get_text() == nbb_unformatted_code) {\n",
       "                             nbb_cells[i].set_text(nbb_formatted_code);\n",
       "                        }\n",
       "                        break;\n",
       "                    }\n",
       "                }\n",
       "            }, 500);\n",
       "            "
      ],
      "text/plain": [
       "<IPython.core.display.Javascript object>"
      ]
     },
     "metadata": {},
     "output_type": "display_data"
    }
   ],
   "source": [
    "m0 = np.mean(abs(0.5 - finalval_class0[:, 0]))\n",
    "m1 = np.mean(abs(0.5 - finalval_class1[:, 0]))\n",
    "m2 = np.mean(abs(0.5 - finalval_class2[:, 0]))\n",
    "ms = m0 + m1 + m2\n",
    "\n",
    "w0 = m0 / ms\n",
    "w1 = m1 / ms\n",
    "w2 = m2 / ms"
   ]
  },
  {
   "cell_type": "code",
   "execution_count": 18,
   "metadata": {},
   "outputs": [
    {
     "data": {
      "application/javascript": [
       "\n",
       "            setTimeout(function() {\n",
       "                var nbb_cell_id = 18;\n",
       "                var nbb_unformatted_code = \"pc0 = probablity_being_class0 * probablity_not_class1 * probablity_not_class2\\npc1 = probablity_being_class1 * probablity_not_class0 * probablity_not_class2\\npc2 = probablity_being_class2 * probablity_not_class0 * probablity_not_class1\";\n",
       "                var nbb_formatted_code = \"pc0 = probablity_being_class0 * probablity_not_class1 * probablity_not_class2\\npc1 = probablity_being_class1 * probablity_not_class0 * probablity_not_class2\\npc2 = probablity_being_class2 * probablity_not_class0 * probablity_not_class1\";\n",
       "                var nbb_cells = Jupyter.notebook.get_cells();\n",
       "                for (var i = 0; i < nbb_cells.length; ++i) {\n",
       "                    if (nbb_cells[i].input_prompt_number == nbb_cell_id) {\n",
       "                        if (nbb_cells[i].get_text() == nbb_unformatted_code) {\n",
       "                             nbb_cells[i].set_text(nbb_formatted_code);\n",
       "                        }\n",
       "                        break;\n",
       "                    }\n",
       "                }\n",
       "            }, 500);\n",
       "            "
      ],
      "text/plain": [
       "<IPython.core.display.Javascript object>"
      ]
     },
     "metadata": {},
     "output_type": "display_data"
    }
   ],
   "source": [
    "pc0 = probablity_being_class0 * probablity_not_class1 * probablity_not_class2\n",
    "pc1 = probablity_being_class1 * probablity_not_class0 * probablity_not_class2\n",
    "pc2 = probablity_being_class2 * probablity_not_class0 * probablity_not_class1"
   ]
  },
  {
   "cell_type": "code",
   "execution_count": 19,
   "metadata": {},
   "outputs": [
    {
     "name": "stdout",
     "output_type": "stream",
     "text": [
      "0.7266666666666667\n",
      "[[161  39   0]\n",
      " [ 75 115  10]\n",
      " [  4  36 160]]\n"
     ]
    },
    {
     "data": {
      "application/javascript": [
       "\n",
       "            setTimeout(function() {\n",
       "                var nbb_cell_id = 19;\n",
       "                var nbb_unformatted_code = \"finalcol = np.zeros((ytest_original.shape[0], 3))\\nfinalcol[:, 0] = pc0 * weightvalga[0]\\nfinalcol[:, 1] = pc1 * weightvalga[1]\\nfinalcol[:, 2] = pc2 * weightvalga[2]\\nfinalpred = np.argmax(finalcol, axis=1)\\n\\nytest = ytest_original.copy()\\nprint(m.accuracy_score(ytest, finalpred))\\nprint(m.confusion_matrix(ytest, finalpred))\\ntemppred = finalpred\";\n",
       "                var nbb_formatted_code = \"finalcol = np.zeros((ytest_original.shape[0], 3))\\nfinalcol[:, 0] = pc0 * weightvalga[0]\\nfinalcol[:, 1] = pc1 * weightvalga[1]\\nfinalcol[:, 2] = pc2 * weightvalga[2]\\nfinalpred = np.argmax(finalcol, axis=1)\\n\\nytest = ytest_original.copy()\\nprint(m.accuracy_score(ytest, finalpred))\\nprint(m.confusion_matrix(ytest, finalpred))\\ntemppred = finalpred\";\n",
       "                var nbb_cells = Jupyter.notebook.get_cells();\n",
       "                for (var i = 0; i < nbb_cells.length; ++i) {\n",
       "                    if (nbb_cells[i].input_prompt_number == nbb_cell_id) {\n",
       "                        if (nbb_cells[i].get_text() == nbb_unformatted_code) {\n",
       "                             nbb_cells[i].set_text(nbb_formatted_code);\n",
       "                        }\n",
       "                        break;\n",
       "                    }\n",
       "                }\n",
       "            }, 500);\n",
       "            "
      ],
      "text/plain": [
       "<IPython.core.display.Javascript object>"
      ]
     },
     "metadata": {},
     "output_type": "display_data"
    }
   ],
   "source": [
    "finalcol = np.zeros((ytest_original.shape[0], 3))\n",
    "finalcol[:, 0] = pc0 * weightvalga[0]\n",
    "finalcol[:, 1] = pc1 * weightvalga[1]\n",
    "finalcol[:, 2] = pc2 * weightvalga[2]\n",
    "finalpred = np.argmax(finalcol, axis=1)\n",
    "\n",
    "ytest = ytest_original.copy()\n",
    "print(m.accuracy_score(ytest, finalpred))\n",
    "print(m.confusion_matrix(ytest, finalpred))\n",
    "temppred = finalpred"
   ]
  },
  {
   "cell_type": "code",
   "execution_count": null,
   "metadata": {},
   "outputs": [],
   "source": []
  }
 ],
 "metadata": {
  "kernelspec": {
   "display_name": "Python 3",
   "language": "python",
   "name": "python3"
  },
  "language_info": {
   "codemirror_mode": {
    "name": "ipython",
    "version": 3
   },
   "file_extension": ".py",
   "mimetype": "text/x-python",
   "name": "python",
   "nbconvert_exporter": "python",
   "pygments_lexer": "ipython3",
   "version": "3.7.7"
  }
 },
 "nbformat": 4,
 "nbformat_minor": 4
}
