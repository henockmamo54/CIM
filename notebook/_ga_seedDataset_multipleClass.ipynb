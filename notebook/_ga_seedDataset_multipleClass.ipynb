{
 "cells": [
  {
   "cell_type": "code",
   "execution_count": 11,
   "metadata": {},
   "outputs": [
    {
     "name": "stdout",
     "output_type": "stream",
     "text": [
      "The nb_black extension is already loaded. To reload it, use:\n",
      "  %reload_ext nb_black\n"
     ]
    },
    {
     "data": {
      "application/javascript": [
       "\n",
       "            setTimeout(function() {\n",
       "                var nbb_cell_id = 11;\n",
       "                var nbb_unformatted_code = \"%load_ext nb_black\";\n",
       "                var nbb_formatted_code = \"%load_ext nb_black\";\n",
       "                var nbb_cells = Jupyter.notebook.get_cells();\n",
       "                for (var i = 0; i < nbb_cells.length; ++i) {\n",
       "                    if (nbb_cells[i].input_prompt_number == nbb_cell_id) {\n",
       "                        if (nbb_cells[i].get_text() == nbb_unformatted_code) {\n",
       "                             nbb_cells[i].set_text(nbb_formatted_code);\n",
       "                        }\n",
       "                        break;\n",
       "                    }\n",
       "                }\n",
       "            }, 500);\n",
       "            "
      ],
      "text/plain": [
       "<IPython.core.display.Javascript object>"
      ]
     },
     "metadata": {},
     "output_type": "display_data"
    }
   ],
   "source": [
    "%load_ext nb_black"
   ]
  },
  {
   "cell_type": "code",
   "execution_count": 12,
   "metadata": {},
   "outputs": [
    {
     "data": {
      "application/javascript": [
       "\n",
       "            setTimeout(function() {\n",
       "                var nbb_cell_id = 12;\n",
       "                var nbb_unformatted_code = \"import numpy as np\\nfrom sklearn import datasets\\nfrom sklearn.model_selection import train_test_split\\nfrom sklearn.ensemble import RandomForestClassifier\\nfrom sklearn.svm import SVC\\nimport xgboost as xgb\\nfrom sklearn import metrics as m\\nfrom thundersvm import SVC as svmgpu\\nimport calculateWeightUsingGa2 as aresult\\nimport pandas as pd\\nimport itertools\\nimport random\\nfrom sklearn.utils import shuffle\\nfrom sklearn.preprocessing import LabelEncoder\\nfrom sklearn.ensemble import VotingClassifier\\n\\nrandomseed = 42\\nnp.random.seed(randomseed)\";\n",
       "                var nbb_formatted_code = \"import numpy as np\\nfrom sklearn import datasets\\nfrom sklearn.model_selection import train_test_split\\nfrom sklearn.ensemble import RandomForestClassifier\\nfrom sklearn.svm import SVC\\nimport xgboost as xgb\\nfrom sklearn import metrics as m\\nfrom thundersvm import SVC as svmgpu\\nimport calculateWeightUsingGa2 as aresult\\nimport pandas as pd\\nimport itertools\\nimport random\\nfrom sklearn.utils import shuffle\\nfrom sklearn.preprocessing import LabelEncoder\\nfrom sklearn.ensemble import VotingClassifier\\n\\nrandomseed = 42\\nnp.random.seed(randomseed)\";\n",
       "                var nbb_cells = Jupyter.notebook.get_cells();\n",
       "                for (var i = 0; i < nbb_cells.length; ++i) {\n",
       "                    if (nbb_cells[i].input_prompt_number == nbb_cell_id) {\n",
       "                        if (nbb_cells[i].get_text() == nbb_unformatted_code) {\n",
       "                             nbb_cells[i].set_text(nbb_formatted_code);\n",
       "                        }\n",
       "                        break;\n",
       "                    }\n",
       "                }\n",
       "            }, 500);\n",
       "            "
      ],
      "text/plain": [
       "<IPython.core.display.Javascript object>"
      ]
     },
     "metadata": {},
     "output_type": "display_data"
    }
   ],
   "source": [
    "import numpy as np\n",
    "from sklearn import datasets\n",
    "from sklearn.model_selection import train_test_split\n",
    "from sklearn.ensemble import RandomForestClassifier\n",
    "from sklearn.svm import SVC\n",
    "import xgboost as xgb\n",
    "from sklearn import metrics as m\n",
    "from thundersvm import SVC as svmgpu\n",
    "import calculateWeightUsingGa2 as aresult\n",
    "import pandas as pd\n",
    "import itertools\n",
    "import random\n",
    "from sklearn.utils import shuffle\n",
    "from sklearn.preprocessing import LabelEncoder\n",
    "from sklearn.ensemble import VotingClassifier\n",
    "\n",
    "randomseed = 42\n",
    "np.random.seed(randomseed)"
   ]
  },
  {
   "cell_type": "markdown",
   "metadata": {},
   "source": [
    "1. Read Dataset \n",
    "==="
   ]
  },
  {
   "cell_type": "code",
   "execution_count": 13,
   "metadata": {},
   "outputs": [
    {
     "name": "stdout",
     "output_type": "stream",
     "text": [
      "[0 1 2]\n"
     ]
    },
    {
     "data": {
      "application/javascript": [
       "\n",
       "            setTimeout(function() {\n",
       "                var nbb_cell_id = 13;\n",
       "                var nbb_unformatted_code = \"data = pd.read_csv(\\\"../dataset/seeds_dataset.txt\\\", sep=\\\"\\\\t\\\", header=None)\\ndata = shuffle(data)\\n\\nle = LabelEncoder()\\ndata.iloc[:, -1] = le.fit_transform(data.iloc[:, -1])\\nx = np.array(data.iloc[:, :-1])\\ny = np.array(data.iloc[:, -1])\\n\\nprint(np.unique(y))\\n\\n# xtrain, xtest, ytrain_original, ytest_original = train_test_split(\\n#     x, y, test_size=0.3, random_state=10\\n# )\\n\\n# ytrain = ytrain_original.copy()\\n# ytest = ytest_original.copy()\";\n",
       "                var nbb_formatted_code = \"data = pd.read_csv(\\\"../dataset/seeds_dataset.txt\\\", sep=\\\"\\\\t\\\", header=None)\\ndata = shuffle(data)\\n\\nle = LabelEncoder()\\ndata.iloc[:, -1] = le.fit_transform(data.iloc[:, -1])\\nx = np.array(data.iloc[:, :-1])\\ny = np.array(data.iloc[:, -1])\\n\\nprint(np.unique(y))\\n\\n# xtrain, xtest, ytrain_original, ytest_original = train_test_split(\\n#     x, y, test_size=0.3, random_state=10\\n# )\\n\\n# ytrain = ytrain_original.copy()\\n# ytest = ytest_original.copy()\";\n",
       "                var nbb_cells = Jupyter.notebook.get_cells();\n",
       "                for (var i = 0; i < nbb_cells.length; ++i) {\n",
       "                    if (nbb_cells[i].input_prompt_number == nbb_cell_id) {\n",
       "                        if (nbb_cells[i].get_text() == nbb_unformatted_code) {\n",
       "                             nbb_cells[i].set_text(nbb_formatted_code);\n",
       "                        }\n",
       "                        break;\n",
       "                    }\n",
       "                }\n",
       "            }, 500);\n",
       "            "
      ],
      "text/plain": [
       "<IPython.core.display.Javascript object>"
      ]
     },
     "metadata": {},
     "output_type": "display_data"
    }
   ],
   "source": [
    "data = pd.read_csv(\"../dataset/seeds_dataset.txt\", sep=\"\\t\", header=None)\n",
    "data = shuffle(data)\n",
    "\n",
    "le = LabelEncoder()\n",
    "data.iloc[:, -1] = le.fit_transform(data.iloc[:, -1])\n",
    "x = np.array(data.iloc[:, :-1])\n",
    "y = np.array(data.iloc[:, -1])\n",
    "\n",
    "print(np.unique(y))\n",
    "\n",
    "xtrain, xtest, ytrain_original, ytest_original = train_test_split(\n",
    "    x, y, test_size=0.3, random_state=10\n",
    ")\n",
    "\n",
    "ytrain = ytrain_original.copy()\n",
    "ytest = ytest_original.copy()"
   ]
  },
  {
   "cell_type": "code",
   "execution_count": 14,
   "metadata": {},
   "outputs": [
    {
     "data": {
      "application/javascript": [
       "\n",
       "            setTimeout(function() {\n",
       "                var nbb_cell_id = 14;\n",
       "                var nbb_unformatted_code = \"# member values\\nclf = []\\nacc = []\\nfinalacc = []\\nypredproba_all = []\\nypredconfprob_all = []\";\n",
       "                var nbb_formatted_code = \"# member values\\nclf = []\\nacc = []\\nfinalacc = []\\nypredproba_all = []\\nypredconfprob_all = []\";\n",
       "                var nbb_cells = Jupyter.notebook.get_cells();\n",
       "                for (var i = 0; i < nbb_cells.length; ++i) {\n",
       "                    if (nbb_cells[i].input_prompt_number == nbb_cell_id) {\n",
       "                        if (nbb_cells[i].get_text() == nbb_unformatted_code) {\n",
       "                             nbb_cells[i].set_text(nbb_formatted_code);\n",
       "                        }\n",
       "                        break;\n",
       "                    }\n",
       "                }\n",
       "            }, 500);\n",
       "            "
      ],
      "text/plain": [
       "<IPython.core.display.Javascript object>"
      ]
     },
     "metadata": {},
     "output_type": "display_data"
    }
   ],
   "source": [
    "# member values\n",
    "clf = []\n",
    "acc = []\n",
    "finalacc = []\n",
    "ypredproba_all = []\n",
    "ypredconfprob_all = []"
   ]
  },
  {
   "cell_type": "code",
   "execution_count": 15,
   "metadata": {},
   "outputs": [
    {
     "name": "stdout",
     "output_type": "stream",
     "text": [
      "original score 0.9524645173581343\n"
     ]
    },
    {
     "data": {
      "application/javascript": [
       "\n",
       "            setTimeout(function() {\n",
       "                var nbb_cell_id = 15;\n",
       "                var nbb_unformatted_code = \"# orginal score using random forest classifier\\nrf = RandomForestClassifier(random_state=randomseed, n_estimators=10)\\nrf.fit(xtrain, ytrain)\\nprint(\\\"original score\\\", m.f1_score(ytest, rf.predict(xtest), average=\\\"weighted\\\"))\";\n",
       "                var nbb_formatted_code = \"# orginal score using random forest classifier\\nrf = RandomForestClassifier(random_state=randomseed, n_estimators=10)\\nrf.fit(xtrain, ytrain)\\nprint(\\\"original score\\\", m.f1_score(ytest, rf.predict(xtest), average=\\\"weighted\\\"))\";\n",
       "                var nbb_cells = Jupyter.notebook.get_cells();\n",
       "                for (var i = 0; i < nbb_cells.length; ++i) {\n",
       "                    if (nbb_cells[i].input_prompt_number == nbb_cell_id) {\n",
       "                        if (nbb_cells[i].get_text() == nbb_unformatted_code) {\n",
       "                             nbb_cells[i].set_text(nbb_formatted_code);\n",
       "                        }\n",
       "                        break;\n",
       "                    }\n",
       "                }\n",
       "            }, 500);\n",
       "            "
      ],
      "text/plain": [
       "<IPython.core.display.Javascript object>"
      ]
     },
     "metadata": {},
     "output_type": "display_data"
    }
   ],
   "source": [
    "# orginal score using random forest classifier\n",
    "rf = RandomForestClassifier(random_state=randomseed, n_estimators=10)\n",
    "rf.fit(xtrain, ytrain)\n",
    "print(\"original score\", m.f1_score(ytest, rf.predict(xtest), average=\"weighted\"))"
   ]
  },
  {
   "cell_type": "markdown",
   "metadata": {},
   "source": [
    "2. Generate baseline classifiers \n",
    "==="
   ]
  },
  {
   "cell_type": "code",
   "execution_count": 6,
   "metadata": {},
   "outputs": [
    {
     "name": "stdout",
     "output_type": "stream",
     "text": [
      "RF f1_score 0.9524645173581343\n",
      "svc f1_score 0.8897826937042623\n",
      "xgbc f1_score 0.9520778669714839\n"
     ]
    },
    {
     "data": {
      "application/javascript": [
       "\n",
       "            setTimeout(function() {\n",
       "                var nbb_cell_id = 6;\n",
       "                var nbb_unformatted_code = \"# generate three base classifers using RF,svm and XGBoost\\n\\n#================================================= \\n\\nrf=RandomForestClassifier(random_state=randomseed, n_estimators=10)\\nrf.fit(xtrain,ytrain)\\nrfpred=rf.predict(xtest)\\nprint('RF f1_score',m.f1_score(ytest,rfpred,average='weighted'))\\n\\nclf.append(rf)\\nacc.append(m.f1_score(ytest,rfpred,average='weighted'))\\nypredproba_all.append(rf.predict_proba(xtest))\\n\\nconfmat=m.confusion_matrix(ytest,rfpred)\\nconfsumh=np.sum(confmat,axis=1)\\npropconfmat=confmat.copy()\\nfor i in range(propconfmat.shape[0]):\\n    propconfmat[i]= 100*propconfmat[i]/confsumh[i] \\nypredconfprob_all.append(propconfmat/100)\\n\\n#=================================================\\nsvc=svmgpu(random_state=randomseed,probability=True,C=100,gamma=0.0001)\\nsvc.fit(xtrain,ytrain)\\n\\nsvcpred=svc.predict(xtest)\\nprint('svc f1_score',m.f1_score(ytest,svcpred,average='weighted'))\\n\\nclf.append(svc)\\nacc.append(m.f1_score(ytest,svcpred,average='weighted'))\\nypredproba_all.append(svc.predict_proba(xtest))\\n\\nconfmat=m.confusion_matrix(ytest,svcpred)\\nconfsumh=np.sum(confmat,axis=1)\\npropconfmat=confmat.copy()\\nfor i in range(propconfmat.shape[0]):\\n    propconfmat[i]= 100*propconfmat[i]/confsumh[i] \\nypredconfprob_all.append(propconfmat/100)\\n\\n#=================================================\\nxgbc=xgb.XGBClassifier(random_state=randomseed,n_estimators=100)\\nxgbc.fit(xtrain,ytrain)\\n\\nxgbpred=xgbc.predict(xtest)\\nprint('xgbc f1_score',m.f1_score(ytest,xgbpred,average='weighted'))\\n\\n\\nclf.append(xgbc)\\nacc.append(m.f1_score(ytest,xgbpred,average='weighted'))\\nypredproba_all.append(xgbc.predict_proba(xtest))\\n\\nconfmat=m.confusion_matrix(ytest,xgbpred)\\nconfsumh=np.sum(confmat,axis=1)\\npropconfmat=confmat.copy()\\nfor i in range(propconfmat.shape[0]):\\n    propconfmat[i]= 100*propconfmat[i]/confsumh[i] \\nypredconfprob_all.append(propconfmat/100)\";\n",
       "                var nbb_formatted_code = \"# generate three base classifers using RF,svm and XGBoost\\n\\n# =================================================\\n\\nrf = RandomForestClassifier(random_state=randomseed, n_estimators=10)\\nrf.fit(xtrain, ytrain)\\nrfpred = rf.predict(xtest)\\nprint(\\\"RF f1_score\\\", m.f1_score(ytest, rfpred, average=\\\"weighted\\\"))\\n\\nclf.append(rf)\\nacc.append(m.f1_score(ytest, rfpred, average=\\\"weighted\\\"))\\nypredproba_all.append(rf.predict_proba(xtest))\\n\\nconfmat = m.confusion_matrix(ytest, rfpred)\\nconfsumh = np.sum(confmat, axis=1)\\npropconfmat = confmat.copy()\\nfor i in range(propconfmat.shape[0]):\\n    propconfmat[i] = 100 * propconfmat[i] / confsumh[i]\\nypredconfprob_all.append(propconfmat / 100)\\n\\n# =================================================\\nsvc = svmgpu(random_state=randomseed, probability=True, C=100, gamma=0.0001)\\nsvc.fit(xtrain, ytrain)\\n\\nsvcpred = svc.predict(xtest)\\nprint(\\\"svc f1_score\\\", m.f1_score(ytest, svcpred, average=\\\"weighted\\\"))\\n\\nclf.append(svc)\\nacc.append(m.f1_score(ytest, svcpred, average=\\\"weighted\\\"))\\nypredproba_all.append(svc.predict_proba(xtest))\\n\\nconfmat = m.confusion_matrix(ytest, svcpred)\\nconfsumh = np.sum(confmat, axis=1)\\npropconfmat = confmat.copy()\\nfor i in range(propconfmat.shape[0]):\\n    propconfmat[i] = 100 * propconfmat[i] / confsumh[i]\\nypredconfprob_all.append(propconfmat / 100)\\n\\n# =================================================\\nxgbc = xgb.XGBClassifier(random_state=randomseed, n_estimators=100)\\nxgbc.fit(xtrain, ytrain)\\n\\nxgbpred = xgbc.predict(xtest)\\nprint(\\\"xgbc f1_score\\\", m.f1_score(ytest, xgbpred, average=\\\"weighted\\\"))\\n\\n\\nclf.append(xgbc)\\nacc.append(m.f1_score(ytest, xgbpred, average=\\\"weighted\\\"))\\nypredproba_all.append(xgbc.predict_proba(xtest))\\n\\nconfmat = m.confusion_matrix(ytest, xgbpred)\\nconfsumh = np.sum(confmat, axis=1)\\npropconfmat = confmat.copy()\\nfor i in range(propconfmat.shape[0]):\\n    propconfmat[i] = 100 * propconfmat[i] / confsumh[i]\\nypredconfprob_all.append(propconfmat / 100)\";\n",
       "                var nbb_cells = Jupyter.notebook.get_cells();\n",
       "                for (var i = 0; i < nbb_cells.length; ++i) {\n",
       "                    if (nbb_cells[i].input_prompt_number == nbb_cell_id) {\n",
       "                        if (nbb_cells[i].get_text() == nbb_unformatted_code) {\n",
       "                             nbb_cells[i].set_text(nbb_formatted_code);\n",
       "                        }\n",
       "                        break;\n",
       "                    }\n",
       "                }\n",
       "            }, 500);\n",
       "            "
      ],
      "text/plain": [
       "<IPython.core.display.Javascript object>"
      ]
     },
     "metadata": {},
     "output_type": "display_data"
    }
   ],
   "source": [
    "# generate three base classifers using RF,svm and XGBoost\n",
    "\n",
    "#================================================= \n",
    "\n",
    "rf=RandomForestClassifier(random_state=randomseed, n_estimators=10)\n",
    "rf.fit(xtrain,ytrain)\n",
    "rfpred=rf.predict(xtest)\n",
    "print('RF f1_score',m.f1_score(ytest,rfpred,average='weighted'))\n",
    "\n",
    "clf.append(rf)\n",
    "acc.append(m.f1_score(ytest,rfpred,average='weighted'))\n",
    "ypredproba_all.append(rf.predict_proba(xtest))\n",
    "\n",
    "confmat=m.confusion_matrix(ytest,rfpred)\n",
    "confsumh=np.sum(confmat,axis=1)\n",
    "propconfmat=confmat.copy()\n",
    "for i in range(propconfmat.shape[0]):\n",
    "    propconfmat[i]= 100*propconfmat[i]/confsumh[i] \n",
    "ypredconfprob_all.append(propconfmat/100)\n",
    "\n",
    "#=================================================\n",
    "svc=svmgpu(random_state=randomseed,probability=True,C=100,gamma=0.0001)\n",
    "svc.fit(xtrain,ytrain)\n",
    "\n",
    "svcpred=svc.predict(xtest)\n",
    "print('svc f1_score',m.f1_score(ytest,svcpred,average='weighted'))\n",
    "\n",
    "clf.append(svc)\n",
    "acc.append(m.f1_score(ytest,svcpred,average='weighted'))\n",
    "ypredproba_all.append(svc.predict_proba(xtest))\n",
    "\n",
    "confmat=m.confusion_matrix(ytest,svcpred)\n",
    "confsumh=np.sum(confmat,axis=1)\n",
    "propconfmat=confmat.copy()\n",
    "for i in range(propconfmat.shape[0]):\n",
    "    propconfmat[i]= 100*propconfmat[i]/confsumh[i] \n",
    "ypredconfprob_all.append(propconfmat/100)\n",
    "\n",
    "#=================================================\n",
    "xgbc=xgb.XGBClassifier(random_state=randomseed,n_estimators=100)\n",
    "xgbc.fit(xtrain,ytrain)\n",
    "\n",
    "xgbpred=xgbc.predict(xtest)\n",
    "print('xgbc f1_score',m.f1_score(ytest,xgbpred,average='weighted'))\n",
    "\n",
    "\n",
    "clf.append(xgbc)\n",
    "acc.append(m.f1_score(ytest,xgbpred,average='weighted'))\n",
    "ypredproba_all.append(xgbc.predict_proba(xtest))\n",
    "\n",
    "confmat=m.confusion_matrix(ytest,xgbpred)\n",
    "confsumh=np.sum(confmat,axis=1)\n",
    "propconfmat=confmat.copy()\n",
    "for i in range(propconfmat.shape[0]):\n",
    "    propconfmat[i]= 100*propconfmat[i]/confsumh[i] \n",
    "ypredconfprob_all.append(propconfmat/100)\n"
   ]
  },
  {
   "cell_type": "code",
   "execution_count": 7,
   "metadata": {
    "scrolled": true
   },
   "outputs": [
    {
     "name": "stdout",
     "output_type": "stream",
     "text": [
      "[21, 5, 29, 11, 2, 21, 14, 21, 0, 20]\n",
      "0  ====================  [1 2 3 5]\n",
      "0.9208012677400433\n",
      "0.9520778669714839\n",
      "1  ====================  [0 1 3 5]\n",
      "0.9208342677730433\n",
      "0.9520778669714839\n",
      "2  ====================  [1 4 5 6]\n",
      "0.9682539682539683\n",
      "0.9520778669714839\n",
      "3  ====================  [0 2 3 5]\n",
      "0.9208342677730433\n",
      "0.9520778669714839\n",
      "4  ====================  [0 1 2 5]\n",
      "0.9047619047619049\n",
      "0.9520778669714839\n",
      "5  ====================  [1 2 3 5]\n",
      "0.9208012677400433\n",
      "0.9520778669714839\n",
      "6  ====================  [0 2 4 6]\n",
      "0.9206973496706653\n",
      "0.9520778669714839\n",
      "7  ====================  [1 2 3 5]\n",
      "0.9208012677400433\n",
      "0.9520778669714839\n",
      "8  ====================  [0 1 2 3]\n",
      "0.8207484922499914\n",
      "0.9520778669714839\n",
      "9  ====================  [1 2 3 4]\n",
      "0.8712476154336619\n",
      "0.9520778669714839\n"
     ]
    },
    {
     "data": {
      "application/javascript": [
       "\n",
       "            setTimeout(function() {\n",
       "                var nbb_cell_id = 7;\n",
       "                var nbb_unformatted_code = \"# =================================================\\n# =================================================\\n# generate combinations of features 12,7\\ncomb = list(itertools.combinations(np.arange(0, 7, 1), 4))\\n\\n# generate 10 random numbers\\nrandnums = []\\nfor i in range(10):\\n    randnums.append(random.randrange(0, len(comb)))\\n\\nprint(randnums)\\n\\ncomb = np.array(comb)[randnums, :]\\n\\n\\nfor i in range(len(comb)):\\n    print(i, \\\" ==================== \\\", comb[i])\\n\\n    rf = RandomForestClassifier(random_state=randomseed, n_estimators=50)\\n    rf.fit(xtrain[:, comb[i]], ytrain)\\n    rfpred = rf.predict(xtest[:, comb[i]])\\n    print(m.f1_score(ytest, rfpred, average=\\\"weighted\\\"))\\n\\n    clf.append(rf)\\n    acc.append(m.f1_score(ytest, rfpred, average=\\\"weighted\\\"))\\n    ypredproba_all.append(rf.predict_proba(xtest[:, comb[i]]))\\n\\n    confmat = m.confusion_matrix(ytest, rfpred)\\n    confsumh = np.sum(confmat, axis=0)\\n    propconfmat = confmat.copy()\\n    for i in range(propconfmat.shape[0]):\\n        propconfmat[:, i] = 100 * propconfmat[:, i] / confsumh[i]\\n    ypredconfprob_all.append(propconfmat / 100)\\n\\n    xgbmodel = xgb.XGBClassifier(random_state=randomseed, n_estimators=50)\\n    xgbmodel.fit(xtrain, ytrain)\\n    xgbmodelpred = xgbmodel.predict(xtest)\\n    print(m.f1_score(ytest, xgbmodelpred, average=\\\"weighted\\\"))\\n\\n    clf.append(xgbmodel)\\n    acc.append(m.f1_score(ytest, xgbmodelpred, average=\\\"weighted\\\"))\\n    ypredproba_all.append(xgbmodel.predict_proba(xtest))\\n\\n    confmat = m.confusion_matrix(ytest, xgbmodelpred)\\n    confsumh = np.sum(confmat, axis=0)\\n    propconfmat = confmat.copy()\\n    for i in range(propconfmat.shape[0]):\\n        propconfmat[:, i] = 100 * propconfmat[:, i] / confsumh[i]\\n    ypredconfprob_all.append(propconfmat / 100)\\n\\n# #=================================================\";\n",
       "                var nbb_formatted_code = \"# =================================================\\n# =================================================\\n# generate combinations of features 12,7\\ncomb = list(itertools.combinations(np.arange(0, 7, 1), 4))\\n\\n# generate 10 random numbers\\nrandnums = []\\nfor i in range(10):\\n    randnums.append(random.randrange(0, len(comb)))\\n\\nprint(randnums)\\n\\ncomb = np.array(comb)[randnums, :]\\n\\n\\nfor i in range(len(comb)):\\n    print(i, \\\" ==================== \\\", comb[i])\\n\\n    rf = RandomForestClassifier(random_state=randomseed, n_estimators=50)\\n    rf.fit(xtrain[:, comb[i]], ytrain)\\n    rfpred = rf.predict(xtest[:, comb[i]])\\n    print(m.f1_score(ytest, rfpred, average=\\\"weighted\\\"))\\n\\n    clf.append(rf)\\n    acc.append(m.f1_score(ytest, rfpred, average=\\\"weighted\\\"))\\n    ypredproba_all.append(rf.predict_proba(xtest[:, comb[i]]))\\n\\n    confmat = m.confusion_matrix(ytest, rfpred)\\n    confsumh = np.sum(confmat, axis=0)\\n    propconfmat = confmat.copy()\\n    for i in range(propconfmat.shape[0]):\\n        propconfmat[:, i] = 100 * propconfmat[:, i] / confsumh[i]\\n    ypredconfprob_all.append(propconfmat / 100)\\n\\n    xgbmodel = xgb.XGBClassifier(random_state=randomseed, n_estimators=50)\\n    xgbmodel.fit(xtrain, ytrain)\\n    xgbmodelpred = xgbmodel.predict(xtest)\\n    print(m.f1_score(ytest, xgbmodelpred, average=\\\"weighted\\\"))\\n\\n    clf.append(xgbmodel)\\n    acc.append(m.f1_score(ytest, xgbmodelpred, average=\\\"weighted\\\"))\\n    ypredproba_all.append(xgbmodel.predict_proba(xtest))\\n\\n    confmat = m.confusion_matrix(ytest, xgbmodelpred)\\n    confsumh = np.sum(confmat, axis=0)\\n    propconfmat = confmat.copy()\\n    for i in range(propconfmat.shape[0]):\\n        propconfmat[:, i] = 100 * propconfmat[:, i] / confsumh[i]\\n    ypredconfprob_all.append(propconfmat / 100)\\n\\n# #=================================================\";\n",
       "                var nbb_cells = Jupyter.notebook.get_cells();\n",
       "                for (var i = 0; i < nbb_cells.length; ++i) {\n",
       "                    if (nbb_cells[i].input_prompt_number == nbb_cell_id) {\n",
       "                        if (nbb_cells[i].get_text() == nbb_unformatted_code) {\n",
       "                             nbb_cells[i].set_text(nbb_formatted_code);\n",
       "                        }\n",
       "                        break;\n",
       "                    }\n",
       "                }\n",
       "            }, 500);\n",
       "            "
      ],
      "text/plain": [
       "<IPython.core.display.Javascript object>"
      ]
     },
     "metadata": {},
     "output_type": "display_data"
    }
   ],
   "source": [
    "# =================================================\n",
    "# =================================================\n",
    "# generate combinations of features 12,7\n",
    "comb = list(itertools.combinations(np.arange(0, 7, 1), 4))\n",
    "\n",
    "# generate 10 random numbers\n",
    "randnums = []\n",
    "for i in range(10):\n",
    "    randnums.append(random.randrange(0, len(comb)))\n",
    "\n",
    "print(randnums)\n",
    "\n",
    "comb = np.array(comb)[randnums, :]\n",
    "\n",
    "\n",
    "for i in range(len(comb)):\n",
    "    print(i, \" ==================== \", comb[i])\n",
    "\n",
    "    rf = RandomForestClassifier(random_state=randomseed, n_estimators=50)\n",
    "    rf.fit(xtrain[:, comb[i]], ytrain)\n",
    "    rfpred = rf.predict(xtest[:, comb[i]])\n",
    "    print(m.f1_score(ytest, rfpred, average=\"weighted\"))\n",
    "\n",
    "    clf.append(rf)\n",
    "    acc.append(m.f1_score(ytest, rfpred, average=\"weighted\"))\n",
    "    ypredproba_all.append(rf.predict_proba(xtest[:, comb[i]]))\n",
    "\n",
    "    confmat = m.confusion_matrix(ytest, rfpred)\n",
    "    confsumh = np.sum(confmat, axis=0)\n",
    "    propconfmat = confmat.copy()\n",
    "    for i in range(propconfmat.shape[0]):\n",
    "        propconfmat[:, i] = 100 * propconfmat[:, i] / confsumh[i]\n",
    "    ypredconfprob_all.append(propconfmat / 100)\n",
    "\n",
    "    xgbmodel = xgb.XGBClassifier(random_state=randomseed, n_estimators=50)\n",
    "    xgbmodel.fit(xtrain, ytrain)\n",
    "    xgbmodelpred = xgbmodel.predict(xtest)\n",
    "    print(m.f1_score(ytest, xgbmodelpred, average=\"weighted\"))\n",
    "\n",
    "    clf.append(xgbmodel)\n",
    "    acc.append(m.f1_score(ytest, xgbmodelpred, average=\"weighted\"))\n",
    "    ypredproba_all.append(xgbmodel.predict_proba(xtest))\n",
    "\n",
    "    confmat = m.confusion_matrix(ytest, xgbmodelpred)\n",
    "    confsumh = np.sum(confmat, axis=0)\n",
    "    propconfmat = confmat.copy()\n",
    "    for i in range(propconfmat.shape[0]):\n",
    "        propconfmat[:, i] = 100 * propconfmat[:, i] / confsumh[i]\n",
    "    ypredconfprob_all.append(propconfmat / 100)\n",
    "\n",
    "# #================================================="
   ]
  },
  {
   "cell_type": "markdown",
   "metadata": {},
   "source": [
    "3. Compute the weight using ga and compute the ensemble accuracy\n",
    "==="
   ]
  },
  {
   "cell_type": "code",
   "execution_count": 8,
   "metadata": {},
   "outputs": [
    {
     "name": "stdout",
     "output_type": "stream",
     "text": [
      "0\n",
      "1\n",
      "2\n",
      "3\n",
      "4\n",
      "5\n",
      "6\n",
      "7\n",
      "8\n",
      "9\n",
      "15.36369614526178 [0.95093452 0.44584747 0.7496752  0.63463406 0.75578476 0.70916722\n",
      " 0.77685526 0.99900046 0.80701216 0.72318516 0.83091702 0.51634625\n",
      " 0.83481673 0.69720902 0.88349264 0.56772325 0.89462598 0.70629268\n",
      " 0.91784325 0.0830561  0.91954042 0.17968649 0.94316531]\n",
      "f1_score 0.9520778669714839\n",
      "accuracy_score 0.9523809523809523\n"
     ]
    },
    {
     "data": {
      "application/javascript": [
       "\n",
       "            setTimeout(function() {\n",
       "                var nbb_cell_id = 8;\n",
       "                var nbb_unformatted_code = \"import calculateWeightUsingGa2 as aresult\\nweightvalga=aresult.getbestvalues(acc)\\n\\nfinalval=0\\nfor i in range(len(acc)):\\n    finalval += weightvalga[i]*ypredproba_all[i]\\n\\nprint('f1_score',m.f1_score(ytest,np.argmax(finalval,axis=1),average='weighted'))\\nprint('accuracy_score',m.accuracy_score(ytest,np.argmax(finalval,axis=1)))\\n    \";\n",
       "                var nbb_formatted_code = \"import calculateWeightUsingGa2 as aresult\\n\\nweightvalga = aresult.getbestvalues(acc)\\n\\nfinalval = 0\\nfor i in range(len(acc)):\\n    finalval += weightvalga[i] * ypredproba_all[i]\\n\\nprint(\\\"f1_score\\\", m.f1_score(ytest, np.argmax(finalval, axis=1), average=\\\"weighted\\\"))\\nprint(\\\"accuracy_score\\\", m.accuracy_score(ytest, np.argmax(finalval, axis=1)))\";\n",
       "                var nbb_cells = Jupyter.notebook.get_cells();\n",
       "                for (var i = 0; i < nbb_cells.length; ++i) {\n",
       "                    if (nbb_cells[i].input_prompt_number == nbb_cell_id) {\n",
       "                        if (nbb_cells[i].get_text() == nbb_unformatted_code) {\n",
       "                             nbb_cells[i].set_text(nbb_formatted_code);\n",
       "                        }\n",
       "                        break;\n",
       "                    }\n",
       "                }\n",
       "            }, 500);\n",
       "            "
      ],
      "text/plain": [
       "<IPython.core.display.Javascript object>"
      ]
     },
     "metadata": {},
     "output_type": "display_data"
    }
   ],
   "source": [
    "import calculateWeightUsingGa2 as aresult\n",
    "weightvalga=aresult.getbestvalues(acc)\n",
    "\n",
    "finalval=0\n",
    "for i in range(len(acc)):\n",
    "    finalval += weightvalga[i]*ypredproba_all[i]\n",
    "\n",
    "print('f1_score',m.f1_score(ytest,np.argmax(finalval,axis=1),average='weighted'))\n",
    "print('accuracy_score',m.accuracy_score(ytest,np.argmax(finalval,axis=1)))\n",
    "    \n"
   ]
  },
  {
   "cell_type": "markdown",
   "metadata": {},
   "source": [
    "4. voting classifier\n",
    "==="
   ]
  },
  {
   "cell_type": "code",
   "execution_count": 10,
   "metadata": {},
   "outputs": [
    {
     "name": "stdout",
     "output_type": "stream",
     "text": [
      "0.9682539682539683\n"
     ]
    },
    {
     "data": {
      "application/javascript": [
       "\n",
       "            setTimeout(function() {\n",
       "                var nbb_cell_id = 10;\n",
       "                var nbb_unformatted_code = \"ensemb_clf = []\\nfor i in range(len(clf)):\\n    ensemb_clf.append([str(type(clf[i])) + str(i), clf[i]])\\n\\neclf3 = VotingClassifier(estimators=ensemb_clf, voting=\\\"soft\\\", flatten_transform=True)\\neclf3 = eclf3.fit(xtrain, ytrain)\\n_acc = m.accuracy_score(ytest, eclf3.predict(xtest))\\nprint(_acc)\";\n",
       "                var nbb_formatted_code = \"ensemb_clf = []\\nfor i in range(len(clf)):\\n    ensemb_clf.append([str(type(clf[i])) + str(i), clf[i]])\\n\\neclf3 = VotingClassifier(estimators=ensemb_clf, voting=\\\"soft\\\", flatten_transform=True)\\neclf3 = eclf3.fit(xtrain, ytrain)\\n_acc = m.accuracy_score(ytest, eclf3.predict(xtest))\\nprint(_acc)\";\n",
       "                var nbb_cells = Jupyter.notebook.get_cells();\n",
       "                for (var i = 0; i < nbb_cells.length; ++i) {\n",
       "                    if (nbb_cells[i].input_prompt_number == nbb_cell_id) {\n",
       "                        if (nbb_cells[i].get_text() == nbb_unformatted_code) {\n",
       "                             nbb_cells[i].set_text(nbb_formatted_code);\n",
       "                        }\n",
       "                        break;\n",
       "                    }\n",
       "                }\n",
       "            }, 500);\n",
       "            "
      ],
      "text/plain": [
       "<IPython.core.display.Javascript object>"
      ]
     },
     "metadata": {},
     "output_type": "display_data"
    }
   ],
   "source": [
    "ensemb_clf = []\n",
    "for i in range(len(clf)):\n",
    "    ensemb_clf.append([str(type(clf[i])) + str(i), clf[i]])\n",
    "\n",
    "eclf3 = VotingClassifier(estimators=ensemb_clf, voting=\"soft\", flatten_transform=True)\n",
    "eclf3 = eclf3.fit(xtrain, ytrain)\n",
    "_acc = m.accuracy_score(ytest, eclf3.predict(xtest))\n",
    "print(_acc)"
   ]
  },
  {
   "cell_type": "code",
   "execution_count": null,
   "metadata": {},
   "outputs": [],
   "source": []
  }
 ],
 "metadata": {
  "kernelspec": {
   "display_name": "Python 3",
   "language": "python",
   "name": "python3"
  },
  "language_info": {
   "codemirror_mode": {
    "name": "ipython",
    "version": 3
   },
   "file_extension": ".py",
   "mimetype": "text/x-python",
   "name": "python",
   "nbconvert_exporter": "python",
   "pygments_lexer": "ipython3",
   "version": "3.7.7"
  }
 },
 "nbformat": 4,
 "nbformat_minor": 4
}
