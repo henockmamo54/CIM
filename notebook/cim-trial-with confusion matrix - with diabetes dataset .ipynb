{
 "cells": [
  {
   "cell_type": "code",
   "execution_count": 13,
   "metadata": {},
   "outputs": [
    {
     "name": "stdout",
     "output_type": "stream",
     "text": [
      "The nb_black extension is already loaded. To reload it, use:\n",
      "  %reload_ext nb_black\n"
     ]
    },
    {
     "data": {
      "application/javascript": [
       "\n",
       "            setTimeout(function() {\n",
       "                var nbb_cell_id = 13;\n",
       "                var nbb_unformatted_code = \"%load_ext nb_black\";\n",
       "                var nbb_formatted_code = \"%load_ext nb_black\";\n",
       "                var nbb_cells = Jupyter.notebook.get_cells();\n",
       "                for (var i = 0; i < nbb_cells.length; ++i) {\n",
       "                    if (nbb_cells[i].input_prompt_number == nbb_cell_id) {\n",
       "                        if (nbb_cells[i].get_text() == nbb_unformatted_code) {\n",
       "                             nbb_cells[i].set_text(nbb_formatted_code);\n",
       "                        }\n",
       "                        break;\n",
       "                    }\n",
       "                }\n",
       "            }, 500);\n",
       "            "
      ],
      "text/plain": [
       "<IPython.core.display.Javascript object>"
      ]
     },
     "metadata": {},
     "output_type": "display_data"
    }
   ],
   "source": [
    "%load_ext nb_black"
   ]
  },
  {
   "cell_type": "code",
   "execution_count": 14,
   "metadata": {},
   "outputs": [
    {
     "data": {
      "application/javascript": [
       "\n",
       "            setTimeout(function() {\n",
       "                var nbb_cell_id = 14;\n",
       "                var nbb_unformatted_code = \"from sklearn import datasets\\nfrom sklearn import metrics as m\\nfrom sklearn.model_selection import train_test_split\\nfrom sklearn.ensemble import RandomForestClassifier\\nfrom sklearn.model_selection import cross_val_score\\nimport numpy as np\\nfrom itertools import combinations\\nfrom sklearn import datasets\\nfrom sklearn import metrics as m\\nfrom sklearn.model_selection import train_test_split\\nfrom sklearn.ensemble import RandomForestClassifier\\nfrom sklearn.model_selection import cross_val_score\\nimport numpy as np\\nimport pandas as pd\\nfrom itertools import combinations\\nfrom sklearn.svm import SVC\\nimport xgboost as xgb\\nfrom thundersvm import SVC as svmgpu\\nfrom sklearn.utils import shuffle\\nimport itertools\\nfrom sklearn.ensemble import VotingClassifier\";\n",
       "                var nbb_formatted_code = \"from sklearn import datasets\\nfrom sklearn import metrics as m\\nfrom sklearn.model_selection import train_test_split\\nfrom sklearn.ensemble import RandomForestClassifier\\nfrom sklearn.model_selection import cross_val_score\\nimport numpy as np\\nfrom itertools import combinations\\nfrom sklearn import datasets\\nfrom sklearn import metrics as m\\nfrom sklearn.model_selection import train_test_split\\nfrom sklearn.ensemble import RandomForestClassifier\\nfrom sklearn.model_selection import cross_val_score\\nimport numpy as np\\nimport pandas as pd\\nfrom itertools import combinations\\nfrom sklearn.svm import SVC\\nimport xgboost as xgb\\nfrom thundersvm import SVC as svmgpu\\nfrom sklearn.utils import shuffle\\nimport itertools\\nfrom sklearn.ensemble import VotingClassifier\";\n",
       "                var nbb_cells = Jupyter.notebook.get_cells();\n",
       "                for (var i = 0; i < nbb_cells.length; ++i) {\n",
       "                    if (nbb_cells[i].input_prompt_number == nbb_cell_id) {\n",
       "                        if (nbb_cells[i].get_text() == nbb_unformatted_code) {\n",
       "                             nbb_cells[i].set_text(nbb_formatted_code);\n",
       "                        }\n",
       "                        break;\n",
       "                    }\n",
       "                }\n",
       "            }, 500);\n",
       "            "
      ],
      "text/plain": [
       "<IPython.core.display.Javascript object>"
      ]
     },
     "metadata": {},
     "output_type": "display_data"
    }
   ],
   "source": [
    "from sklearn import datasets\n",
    "from sklearn import metrics as m\n",
    "from sklearn.model_selection import train_test_split\n",
    "from sklearn.ensemble import RandomForestClassifier\n",
    "from sklearn.model_selection import cross_val_score\n",
    "import numpy as np\n",
    "from itertools import combinations\n",
    "from sklearn import datasets\n",
    "from sklearn import metrics as m\n",
    "from sklearn.model_selection import train_test_split\n",
    "from sklearn.ensemble import RandomForestClassifier\n",
    "from sklearn.model_selection import cross_val_score\n",
    "import numpy as np\n",
    "import pandas as pd\n",
    "from itertools import combinations\n",
    "from sklearn.svm import SVC\n",
    "import xgboost as xgb\n",
    "from thundersvm import SVC as svmgpu\n",
    "from sklearn.utils import shuffle\n",
    "import itertools\n",
    "from sklearn.ensemble import VotingClassifier"
   ]
  },
  {
   "cell_type": "code",
   "execution_count": 15,
   "metadata": {},
   "outputs": [
    {
     "data": {
      "application/javascript": [
       "\n",
       "            setTimeout(function() {\n",
       "                var nbb_cell_id = 15;\n",
       "                var nbb_unformatted_code = \"randomseed = 10\\nnp.random.seed(randomseed)\\n\\nxtest = np.array(pd.read_csv(\\\"../dataset/xtest.txt\\\"))\\nxtrain = np.array(pd.read_csv(\\\"../dataset/xtrain.txt\\\"))\\nytest_original = np.array(pd.read_csv(\\\"../dataset/ytest.txt\\\")).ravel()\\nytrain_original = np.array(pd.read_csv(\\\"../dataset/ytrain.txt\\\")).ravel()\";\n",
       "                var nbb_formatted_code = \"randomseed = 10\\nnp.random.seed(randomseed)\\n\\nxtest = np.array(pd.read_csv(\\\"../dataset/xtest.txt\\\"))\\nxtrain = np.array(pd.read_csv(\\\"../dataset/xtrain.txt\\\"))\\nytest_original = np.array(pd.read_csv(\\\"../dataset/ytest.txt\\\")).ravel()\\nytrain_original = np.array(pd.read_csv(\\\"../dataset/ytrain.txt\\\")).ravel()\";\n",
       "                var nbb_cells = Jupyter.notebook.get_cells();\n",
       "                for (var i = 0; i < nbb_cells.length; ++i) {\n",
       "                    if (nbb_cells[i].input_prompt_number == nbb_cell_id) {\n",
       "                        if (nbb_cells[i].get_text() == nbb_unformatted_code) {\n",
       "                             nbb_cells[i].set_text(nbb_formatted_code);\n",
       "                        }\n",
       "                        break;\n",
       "                    }\n",
       "                }\n",
       "            }, 500);\n",
       "            "
      ],
      "text/plain": [
       "<IPython.core.display.Javascript object>"
      ]
     },
     "metadata": {},
     "output_type": "display_data"
    }
   ],
   "source": [
    "randomseed = 10\n",
    "np.random.seed(randomseed)\n",
    "\n",
    "xtest = np.array(pd.read_csv(\"../dataset/xtest.txt\"))\n",
    "xtrain = np.array(pd.read_csv(\"../dataset/xtrain.txt\"))\n",
    "ytest_original = np.array(pd.read_csv(\"../dataset/ytest.txt\")).ravel()\n",
    "ytrain_original = np.array(pd.read_csv(\"../dataset/ytrain.txt\")).ravel()"
   ]
  },
  {
   "cell_type": "code",
   "execution_count": 16,
   "metadata": {},
   "outputs": [
    {
     "data": {
      "application/javascript": [
       "\n",
       "            setTimeout(function() {\n",
       "                var nbb_cell_id = 16;\n",
       "                var nbb_unformatted_code = \"ytrain = ytrain_original.copy()\\nytest = ytest_original.copy()\\n\\n\\nclf = []\\nacc = []\\nypredproba_all = []\\nypredconfprob_all = []\\nacc_train = []\";\n",
       "                var nbb_formatted_code = \"ytrain = ytrain_original.copy()\\nytest = ytest_original.copy()\\n\\n\\nclf = []\\nacc = []\\nypredproba_all = []\\nypredconfprob_all = []\\nacc_train = []\";\n",
       "                var nbb_cells = Jupyter.notebook.get_cells();\n",
       "                for (var i = 0; i < nbb_cells.length; ++i) {\n",
       "                    if (nbb_cells[i].input_prompt_number == nbb_cell_id) {\n",
       "                        if (nbb_cells[i].get_text() == nbb_unformatted_code) {\n",
       "                             nbb_cells[i].set_text(nbb_formatted_code);\n",
       "                        }\n",
       "                        break;\n",
       "                    }\n",
       "                }\n",
       "            }, 500);\n",
       "            "
      ],
      "text/plain": [
       "<IPython.core.display.Javascript object>"
      ]
     },
     "metadata": {},
     "output_type": "display_data"
    }
   ],
   "source": [
    "ytrain = ytrain_original.copy()\n",
    "ytest = ytest_original.copy()\n",
    "\n",
    "\n",
    "clf = []\n",
    "acc = []\n",
    "ypredproba_all = []\n",
    "ypredconfprob_all = []\n",
    "acc_train = []"
   ]
  },
  {
   "cell_type": "markdown",
   "metadata": {},
   "source": [
    "1. Baseline classifiers\n",
    "=============="
   ]
  },
  {
   "cell_type": "code",
   "execution_count": 17,
   "metadata": {},
   "outputs": [
    {
     "name": "stdout",
     "output_type": "stream",
     "text": [
      "0.7083333333333334\n"
     ]
    },
    {
     "data": {
      "application/javascript": [
       "\n",
       "            setTimeout(function() {\n",
       "                var nbb_cell_id = 17;\n",
       "                var nbb_unformatted_code = \"# classifier 1\\n# ===========================\\n\\nrf=RandomForestClassifier(random_state=randomseed, n_estimators=100)\\nrf.fit(xtrain,ytrain)\\nrfpred=rf.predict(xtest)\\nprint(m.accuracy_score(ytest,rfpred)) \\n\\nclf.append(rf)\\nacc.append(m.accuracy_score(ytest,rfpred))\\nypredproba_all.append(rf.predict_proba(xtest)) \\n\\nconfmat=m.confusion_matrix(ytest,rfpred) \\nconfsumh=np.sum(confmat,axis=0)\\npropconfmat=confmat.copy()\\nfor i in range(propconfmat.shape[0]):\\n    propconfmat[:,i]= 100*propconfmat[:,i]/confsumh[i] \\nypredconfprob_all.append(propconfmat/100)\";\n",
       "                var nbb_formatted_code = \"# classifier 1\\n# ===========================\\n\\nrf = RandomForestClassifier(random_state=randomseed, n_estimators=100)\\nrf.fit(xtrain, ytrain)\\nrfpred = rf.predict(xtest)\\nprint(m.accuracy_score(ytest, rfpred))\\n\\nclf.append(rf)\\nacc.append(m.accuracy_score(ytest, rfpred))\\nypredproba_all.append(rf.predict_proba(xtest))\\n\\nconfmat = m.confusion_matrix(ytest, rfpred)\\nconfsumh = np.sum(confmat, axis=0)\\npropconfmat = confmat.copy()\\nfor i in range(propconfmat.shape[0]):\\n    propconfmat[:, i] = 100 * propconfmat[:, i] / confsumh[i]\\nypredconfprob_all.append(propconfmat / 100)\";\n",
       "                var nbb_cells = Jupyter.notebook.get_cells();\n",
       "                for (var i = 0; i < nbb_cells.length; ++i) {\n",
       "                    if (nbb_cells[i].input_prompt_number == nbb_cell_id) {\n",
       "                        if (nbb_cells[i].get_text() == nbb_unformatted_code) {\n",
       "                             nbb_cells[i].set_text(nbb_formatted_code);\n",
       "                        }\n",
       "                        break;\n",
       "                    }\n",
       "                }\n",
       "            }, 500);\n",
       "            "
      ],
      "text/plain": [
       "<IPython.core.display.Javascript object>"
      ]
     },
     "metadata": {},
     "output_type": "display_data"
    }
   ],
   "source": [
    "# classifier 1\n",
    "# ===========================\n",
    "\n",
    "rf=RandomForestClassifier(random_state=randomseed, n_estimators=100)\n",
    "rf.fit(xtrain,ytrain)\n",
    "rfpred=rf.predict(xtest)\n",
    "print(m.accuracy_score(ytest,rfpred)) \n",
    "\n",
    "clf.append(rf)\n",
    "acc.append(m.accuracy_score(ytest,rfpred))\n",
    "ypredproba_all.append(rf.predict_proba(xtest)) \n",
    "\n",
    "confmat=m.confusion_matrix(ytest,rfpred) \n",
    "confsumh=np.sum(confmat,axis=0)\n",
    "propconfmat=confmat.copy()\n",
    "for i in range(propconfmat.shape[0]):\n",
    "    propconfmat[:,i]= 100*propconfmat[:,i]/confsumh[i] \n",
    "ypredconfprob_all.append(propconfmat/100)\n"
   ]
  },
  {
   "cell_type": "code",
   "execution_count": 18,
   "metadata": {},
   "outputs": [
    {
     "name": "stdout",
     "output_type": "stream",
     "text": [
      "0.7266666666666667\n"
     ]
    },
    {
     "data": {
      "application/javascript": [
       "\n",
       "            setTimeout(function() {\n",
       "                var nbb_cell_id = 18;\n",
       "                var nbb_unformatted_code = \"# classifier 2\\n# ===========================\\nsvc = svmgpu(random_state=randomseed, probability=True, C=1)\\nsvc.fit(xtrain, ytrain)\\n\\nsvcpred = svc.predict(xtest)\\nprint(m.accuracy_score(ytest, svcpred))\\n\\nclf.append(svc)\\nacc.append(m.accuracy_score(ytest, svcpred))\\nypredproba_all.append(1 - svc.predict_proba(xtest))\\n\\nconfmat = m.confusion_matrix(ytest, svcpred)\\nconfsumh=np.sum(confmat,axis=0)\\npropconfmat=confmat.copy()\\nfor i in range(propconfmat.shape[0]):\\n    propconfmat[:,i]= 100*propconfmat[:,i]/confsumh[i] \\nypredconfprob_all.append(propconfmat/100)\";\n",
       "                var nbb_formatted_code = \"# classifier 2\\n# ===========================\\nsvc = svmgpu(random_state=randomseed, probability=True, C=1)\\nsvc.fit(xtrain, ytrain)\\n\\nsvcpred = svc.predict(xtest)\\nprint(m.accuracy_score(ytest, svcpred))\\n\\nclf.append(svc)\\nacc.append(m.accuracy_score(ytest, svcpred))\\nypredproba_all.append(1 - svc.predict_proba(xtest))\\n\\nconfmat = m.confusion_matrix(ytest, svcpred)\\nconfsumh = np.sum(confmat, axis=0)\\npropconfmat = confmat.copy()\\nfor i in range(propconfmat.shape[0]):\\n    propconfmat[:, i] = 100 * propconfmat[:, i] / confsumh[i]\\nypredconfprob_all.append(propconfmat / 100)\";\n",
       "                var nbb_cells = Jupyter.notebook.get_cells();\n",
       "                for (var i = 0; i < nbb_cells.length; ++i) {\n",
       "                    if (nbb_cells[i].input_prompt_number == nbb_cell_id) {\n",
       "                        if (nbb_cells[i].get_text() == nbb_unformatted_code) {\n",
       "                             nbb_cells[i].set_text(nbb_formatted_code);\n",
       "                        }\n",
       "                        break;\n",
       "                    }\n",
       "                }\n",
       "            }, 500);\n",
       "            "
      ],
      "text/plain": [
       "<IPython.core.display.Javascript object>"
      ]
     },
     "metadata": {},
     "output_type": "display_data"
    }
   ],
   "source": [
    "# classifier 2\n",
    "# ===========================\n",
    "svc = svmgpu(random_state=randomseed, probability=True, C=1)\n",
    "svc.fit(xtrain, ytrain)\n",
    "\n",
    "svcpred = svc.predict(xtest)\n",
    "print(m.accuracy_score(ytest, svcpred))\n",
    "\n",
    "clf.append(svc)\n",
    "acc.append(m.accuracy_score(ytest, svcpred))\n",
    "ypredproba_all.append(1 - svc.predict_proba(xtest))\n",
    "\n",
    "confmat = m.confusion_matrix(ytest, svcpred)\n",
    "confsumh = np.sum(confmat, axis=0)\n",
    "propconfmat = confmat.copy()\n",
    "for i in range(propconfmat.shape[0]):\n",
    "    propconfmat[:, i] = 100 * propconfmat[:, i] / confsumh[i]\n",
    "ypredconfprob_all.append(propconfmat / 100)"
   ]
  },
  {
   "cell_type": "code",
   "execution_count": 19,
   "metadata": {},
   "outputs": [
    {
     "name": "stdout",
     "output_type": "stream",
     "text": [
      "0.7266666666666667\n"
     ]
    },
    {
     "data": {
      "application/javascript": [
       "\n",
       "            setTimeout(function() {\n",
       "                var nbb_cell_id = 19;\n",
       "                var nbb_unformatted_code = \"# classifier 3\\n# ===========================\\nxgbc=xgb.XGBClassifier(random_state=randomseed,n_estimators=10)\\nxgbc.fit(xtrain,ytrain)\\n\\nxgbpred=xgbc.predict(xtest)\\nprint(m.accuracy_score(ytest,xgbpred))\\n\\n\\nclf.append(xgbc)\\nacc.append(m.accuracy_score(ytest,xgbpred))\\nypredproba_all.append(xgbc.predict_proba(xtest))\\n\\nconfmat=m.confusion_matrix(ytest,xgbpred)\\nconfsumh=np.sum(confmat,axis=0)\\npropconfmat=confmat.copy()\\nfor i in range(propconfmat.shape[0]):\\n    propconfmat[:,i]= 100*propconfmat[:,i]/confsumh[i] \\nypredconfprob_all.append(propconfmat/100)\";\n",
       "                var nbb_formatted_code = \"# classifier 3\\n# ===========================\\nxgbc = xgb.XGBClassifier(random_state=randomseed, n_estimators=10)\\nxgbc.fit(xtrain, ytrain)\\n\\nxgbpred = xgbc.predict(xtest)\\nprint(m.accuracy_score(ytest, xgbpred))\\n\\n\\nclf.append(xgbc)\\nacc.append(m.accuracy_score(ytest, xgbpred))\\nypredproba_all.append(xgbc.predict_proba(xtest))\\n\\nconfmat = m.confusion_matrix(ytest, xgbpred)\\nconfsumh = np.sum(confmat, axis=0)\\npropconfmat = confmat.copy()\\nfor i in range(propconfmat.shape[0]):\\n    propconfmat[:, i] = 100 * propconfmat[:, i] / confsumh[i]\\nypredconfprob_all.append(propconfmat / 100)\";\n",
       "                var nbb_cells = Jupyter.notebook.get_cells();\n",
       "                for (var i = 0; i < nbb_cells.length; ++i) {\n",
       "                    if (nbb_cells[i].input_prompt_number == nbb_cell_id) {\n",
       "                        if (nbb_cells[i].get_text() == nbb_unformatted_code) {\n",
       "                             nbb_cells[i].set_text(nbb_formatted_code);\n",
       "                        }\n",
       "                        break;\n",
       "                    }\n",
       "                }\n",
       "            }, 500);\n",
       "            "
      ],
      "text/plain": [
       "<IPython.core.display.Javascript object>"
      ]
     },
     "metadata": {},
     "output_type": "display_data"
    }
   ],
   "source": [
    "# classifier 3\n",
    "# ===========================\n",
    "xgbc=xgb.XGBClassifier(random_state=randomseed,n_estimators=10)\n",
    "xgbc.fit(xtrain,ytrain)\n",
    "\n",
    "xgbpred=xgbc.predict(xtest)\n",
    "print(m.accuracy_score(ytest,xgbpred))\n",
    "\n",
    "\n",
    "clf.append(xgbc)\n",
    "acc.append(m.accuracy_score(ytest,xgbpred))\n",
    "ypredproba_all.append(xgbc.predict_proba(xtest))\n",
    "\n",
    "confmat=m.confusion_matrix(ytest,xgbpred)\n",
    "confsumh=np.sum(confmat,axis=0)\n",
    "propconfmat=confmat.copy()\n",
    "for i in range(propconfmat.shape[0]):\n",
    "    propconfmat[:,i]= 100*propconfmat[:,i]/confsumh[i] \n",
    "ypredconfprob_all.append(propconfmat/100)\n"
   ]
  },
  {
   "cell_type": "code",
   "execution_count": 23,
   "metadata": {},
   "outputs": [
    {
     "data": {
      "text/plain": [
       "(3, 3, 3)"
      ]
     },
     "execution_count": 23,
     "metadata": {},
     "output_type": "execute_result"
    },
    {
     "data": {
      "application/javascript": [
       "\n",
       "            setTimeout(function() {\n",
       "                var nbb_cell_id = 23;\n",
       "                var nbb_unformatted_code = \"np.array(ypredconfprob_all).shape\";\n",
       "                var nbb_formatted_code = \"np.array(ypredconfprob_all).shape\";\n",
       "                var nbb_cells = Jupyter.notebook.get_cells();\n",
       "                for (var i = 0; i < nbb_cells.length; ++i) {\n",
       "                    if (nbb_cells[i].input_prompt_number == nbb_cell_id) {\n",
       "                        if (nbb_cells[i].get_text() == nbb_unformatted_code) {\n",
       "                             nbb_cells[i].set_text(nbb_formatted_code);\n",
       "                        }\n",
       "                        break;\n",
       "                    }\n",
       "                }\n",
       "            }, 500);\n",
       "            "
      ],
      "text/plain": [
       "<IPython.core.display.Javascript object>"
      ]
     },
     "metadata": {},
     "output_type": "display_data"
    }
   ],
   "source": [
    "np.array(ypredconfprob_all).shape"
   ]
  },
  {
   "cell_type": "markdown",
   "metadata": {},
   "source": [
    "3. Confusion matrix based ensemble method\n",
    "====="
   ]
  },
  {
   "cell_type": "code",
   "execution_count": 24,
   "metadata": {},
   "outputs": [
    {
     "data": {
      "application/javascript": [
       "\n",
       "            setTimeout(function() {\n",
       "                var nbb_cell_id = 24;\n",
       "                var nbb_unformatted_code = \"finalcol=np.zeros((ytest.shape[0],3))\\nci0=ci1=ci2=1\\n\\np_k1_c0=(ci0*(ypredproba_all[0][:,0] * ypredconfprob_all[0][0][0] + \\n                    ypredproba_all[0][:,1] * ypredconfprob_all[0][0][1] ) +\\n                    ypredproba_all[0][:,2] * ypredconfprob_all[0][0][2] ) \\n\\np_k1_c1=(ci0*(ypredproba_all[0][:,0] * ypredconfprob_all[0][1][0]   + \\n              ypredproba_all[0][:,1] * ypredconfprob_all[0][1][1] ) +\\n              ypredproba_all[0][:,2] * ypredconfprob_all[0][1][2] )   \\n\\np_k1_c2=(ci0*(ypredproba_all[0][:,0] * ypredconfprob_all[0][2][0]   + \\n              ypredproba_all[0][:,1] * ypredconfprob_all[0][2][1] ) +\\n              ypredproba_all[0][:,2] * ypredconfprob_all[0][2][2] )  \\n \\n\\n\\np_k2_c0=(ci0*(ypredproba_all[1][:,0] * ypredconfprob_all[1][0][0] + \\n              ypredproba_all[1][:,1] * ypredconfprob_all[1][0][1] ) +\\n              ypredproba_all[1][:,2] * ypredconfprob_all[1][0][2] ) \\n\\np_k2_c1=(ci0*(ypredproba_all[1][:,0] * ypredconfprob_all[1][1][0]   + \\n              ypredproba_all[1][:,1] * ypredconfprob_all[1][1][1] ) +\\n              ypredproba_all[1][:,2] * ypredconfprob_all[1][1][2] )   \\n\\np_k2_c2=(ci0*(ypredproba_all[1][:,0] * ypredconfprob_all[1][2][0]   + \\n              ypredproba_all[1][:,1] * ypredconfprob_all[1][2][1] ) +\\n              ypredproba_all[1][:,2] * ypredconfprob_all[1][2][2] )  \\n \\n    \\n\\np_k3_c0=(ci0*(ypredproba_all[2][:,0] * ypredconfprob_all[2][0][0] + \\n              ypredproba_all[2][:,1] * ypredconfprob_all[2][0][1] ) +\\n              ypredproba_all[2][:,2] * ypredconfprob_all[2][0][2] ) \\n\\np_k3_c1=(ci0*(ypredproba_all[2][:,0] * ypredconfprob_all[2][1][0]   + \\n              ypredproba_all[2][:,1] * ypredconfprob_all[2][1][1] ) +\\n              ypredproba_all[2][:,2] * ypredconfprob_all[2][1][2] )   \\n\\np_k3_c2=(ci0*(ypredproba_all[2][:,0] * ypredconfprob_all[2][2][0]   + \\n              ypredproba_all[2][:,1] * ypredconfprob_all[2][2][1] ) +\\n              ypredproba_all[2][:,2] * ypredconfprob_all[2][2][2] )  \\n \\n \";\n",
       "                var nbb_formatted_code = \"finalcol = np.zeros((ytest.shape[0], 3))\\nci0 = ci1 = ci2 = 1\\n\\np_k1_c0 = (\\n    ci0\\n    * (\\n        ypredproba_all[0][:, 0] * ypredconfprob_all[0][0][0]\\n        + ypredproba_all[0][:, 1] * ypredconfprob_all[0][0][1]\\n    )\\n    + ypredproba_all[0][:, 2] * ypredconfprob_all[0][0][2]\\n)\\n\\np_k1_c1 = (\\n    ci0\\n    * (\\n        ypredproba_all[0][:, 0] * ypredconfprob_all[0][1][0]\\n        + ypredproba_all[0][:, 1] * ypredconfprob_all[0][1][1]\\n    )\\n    + ypredproba_all[0][:, 2] * ypredconfprob_all[0][1][2]\\n)\\n\\np_k1_c2 = (\\n    ci0\\n    * (\\n        ypredproba_all[0][:, 0] * ypredconfprob_all[0][2][0]\\n        + ypredproba_all[0][:, 1] * ypredconfprob_all[0][2][1]\\n    )\\n    + ypredproba_all[0][:, 2] * ypredconfprob_all[0][2][2]\\n)\\n\\n\\np_k2_c0 = (\\n    ci0\\n    * (\\n        ypredproba_all[1][:, 0] * ypredconfprob_all[1][0][0]\\n        + ypredproba_all[1][:, 1] * ypredconfprob_all[1][0][1]\\n    )\\n    + ypredproba_all[1][:, 2] * ypredconfprob_all[1][0][2]\\n)\\n\\np_k2_c1 = (\\n    ci0\\n    * (\\n        ypredproba_all[1][:, 0] * ypredconfprob_all[1][1][0]\\n        + ypredproba_all[1][:, 1] * ypredconfprob_all[1][1][1]\\n    )\\n    + ypredproba_all[1][:, 2] * ypredconfprob_all[1][1][2]\\n)\\n\\np_k2_c2 = (\\n    ci0\\n    * (\\n        ypredproba_all[1][:, 0] * ypredconfprob_all[1][2][0]\\n        + ypredproba_all[1][:, 1] * ypredconfprob_all[1][2][1]\\n    )\\n    + ypredproba_all[1][:, 2] * ypredconfprob_all[1][2][2]\\n)\\n\\n\\np_k3_c0 = (\\n    ci0\\n    * (\\n        ypredproba_all[2][:, 0] * ypredconfprob_all[2][0][0]\\n        + ypredproba_all[2][:, 1] * ypredconfprob_all[2][0][1]\\n    )\\n    + ypredproba_all[2][:, 2] * ypredconfprob_all[2][0][2]\\n)\\n\\np_k3_c1 = (\\n    ci0\\n    * (\\n        ypredproba_all[2][:, 0] * ypredconfprob_all[2][1][0]\\n        + ypredproba_all[2][:, 1] * ypredconfprob_all[2][1][1]\\n    )\\n    + ypredproba_all[2][:, 2] * ypredconfprob_all[2][1][2]\\n)\\n\\np_k3_c2 = (\\n    ci0\\n    * (\\n        ypredproba_all[2][:, 0] * ypredconfprob_all[2][2][0]\\n        + ypredproba_all[2][:, 1] * ypredconfprob_all[2][2][1]\\n    )\\n    + ypredproba_all[2][:, 2] * ypredconfprob_all[2][2][2]\\n)\";\n",
       "                var nbb_cells = Jupyter.notebook.get_cells();\n",
       "                for (var i = 0; i < nbb_cells.length; ++i) {\n",
       "                    if (nbb_cells[i].input_prompt_number == nbb_cell_id) {\n",
       "                        if (nbb_cells[i].get_text() == nbb_unformatted_code) {\n",
       "                             nbb_cells[i].set_text(nbb_formatted_code);\n",
       "                        }\n",
       "                        break;\n",
       "                    }\n",
       "                }\n",
       "            }, 500);\n",
       "            "
      ],
      "text/plain": [
       "<IPython.core.display.Javascript object>"
      ]
     },
     "metadata": {},
     "output_type": "display_data"
    }
   ],
   "source": [
    "ci0=ci1=ci2=1\n",
    "\n",
    "p_k1_c0=(ci0*(ypredproba_all[0][:,0] * ypredconfprob_all[0][0][0] + \n",
    "              ypredproba_all[0][:,1] * ypredconfprob_all[0][0][1] ) +\n",
    "              ypredproba_all[0][:,2] * ypredconfprob_all[0][0][2] ) \n",
    "\n",
    "p_k1_c1=(ci0*(ypredproba_all[0][:,0] * ypredconfprob_all[0][1][0]   + \n",
    "              ypredproba_all[0][:,1] * ypredconfprob_all[0][1][1] ) +\n",
    "              ypredproba_all[0][:,2] * ypredconfprob_all[0][1][2] )   \n",
    "\n",
    "p_k1_c2=(ci0*(ypredproba_all[0][:,0] * ypredconfprob_all[0][2][0]   + \n",
    "              ypredproba_all[0][:,1] * ypredconfprob_all[0][2][1] ) +\n",
    "              ypredproba_all[0][:,2] * ypredconfprob_all[0][2][2] )  \n",
    " \n",
    "\n",
    "\n",
    "p_k2_c0=(ci0*(ypredproba_all[1][:,0] * ypredconfprob_all[1][0][0] + \n",
    "              ypredproba_all[1][:,1] * ypredconfprob_all[1][0][1] ) +\n",
    "              ypredproba_all[1][:,2] * ypredconfprob_all[1][0][2] ) \n",
    "\n",
    "p_k2_c1=(ci0*(ypredproba_all[1][:,0] * ypredconfprob_all[1][1][0]   + \n",
    "              ypredproba_all[1][:,1] * ypredconfprob_all[1][1][1] ) +\n",
    "              ypredproba_all[1][:,2] * ypredconfprob_all[1][1][2] )   \n",
    "\n",
    "p_k2_c2=(ci0*(ypredproba_all[1][:,0] * ypredconfprob_all[1][2][0]   + \n",
    "              ypredproba_all[1][:,1] * ypredconfprob_all[1][2][1] ) +\n",
    "              ypredproba_all[1][:,2] * ypredconfprob_all[1][2][2] )  \n",
    " \n",
    "    \n",
    "\n",
    "p_k3_c0=(ci0*(ypredproba_all[2][:,0] * ypredconfprob_all[2][0][0] + \n",
    "              ypredproba_all[2][:,1] * ypredconfprob_all[2][0][1] ) +\n",
    "              ypredproba_all[2][:,2] * ypredconfprob_all[2][0][2] ) \n",
    "\n",
    "p_k3_c1=(ci0*(ypredproba_all[2][:,0] * ypredconfprob_all[2][1][0]   + \n",
    "              ypredproba_all[2][:,1] * ypredconfprob_all[2][1][1] ) +\n",
    "              ypredproba_all[2][:,2] * ypredconfprob_all[2][1][2] )   \n",
    "\n",
    "p_k3_c2=(ci0*(ypredproba_all[2][:,0] * ypredconfprob_all[2][2][0]   + \n",
    "              ypredproba_all[2][:,1] * ypredconfprob_all[2][2][1] ) +\n",
    "              ypredproba_all[2][:,2] * ypredconfprob_all[2][2][2] )  \n",
    " \n",
    " \n"
   ]
  },
  {
   "cell_type": "code",
   "execution_count": 31,
   "metadata": {},
   "outputs": [
    {
     "data": {
      "application/javascript": [
       "\n",
       "            setTimeout(function() {\n",
       "                var nbb_cell_id = 31;\n",
       "                var nbb_unformatted_code = \"pc1 = p_k1_c0 + p_k2_c0 + p_k3_c0\\npc2 = p_k1_c1 + p_k2_c1 + p_k3_c1\\npc3 = p_k1_c2 + p_k2_c2 + p_k3_c2\";\n",
       "                var nbb_formatted_code = \"pc1 = p_k1_c0 + p_k2_c0 + p_k3_c0\\npc2 = p_k1_c1 + p_k2_c1 + p_k3_c1\\npc3 = p_k1_c2 + p_k2_c2 + p_k3_c2\";\n",
       "                var nbb_cells = Jupyter.notebook.get_cells();\n",
       "                for (var i = 0; i < nbb_cells.length; ++i) {\n",
       "                    if (nbb_cells[i].input_prompt_number == nbb_cell_id) {\n",
       "                        if (nbb_cells[i].get_text() == nbb_unformatted_code) {\n",
       "                             nbb_cells[i].set_text(nbb_formatted_code);\n",
       "                        }\n",
       "                        break;\n",
       "                    }\n",
       "                }\n",
       "            }, 500);\n",
       "            "
      ],
      "text/plain": [
       "<IPython.core.display.Javascript object>"
      ]
     },
     "metadata": {},
     "output_type": "display_data"
    }
   ],
   "source": [
    "pc1 = p_k1_c0 + p_k2_c0 + p_k3_c0\n",
    "pc2 = p_k1_c1 + p_k2_c1 + p_k3_c1\n",
    "pc3 = p_k1_c2 + p_k2_c2 + p_k3_c2"
   ]
  },
  {
   "cell_type": "code",
   "execution_count": 33,
   "metadata": {},
   "outputs": [
    {
     "name": "stdout",
     "output_type": "stream",
     "text": [
      "0.6816666666666666\n",
      "[[187  12   1]\n",
      " [123  34  43]\n",
      " [  6   6 188]]\n"
     ]
    },
    {
     "data": {
      "application/javascript": [
       "\n",
       "            setTimeout(function() {\n",
       "                var nbb_cell_id = 33;\n",
       "                var nbb_unformatted_code = \"finalcol = np.zeros((ytest.shape[0], 3))\\nfinalcol[:,0] = pc1\\nfinalcol[:,1] = pc2\\nfinalcol[:,2] = pc3\\nfinalpred = np.argmax(finalcol, axis=1)\\n\\nytest = ytest_original.copy()\\nprint(m.accuracy_score(ytest, finalpred))\\nprint(m.confusion_matrix(ytest, finalpred))\";\n",
       "                var nbb_formatted_code = \"finalcol = np.zeros((ytest.shape[0], 3))\\nfinalcol[:, 0] = pc1\\nfinalcol[:, 1] = pc2\\nfinalcol[:, 2] = pc3\\nfinalpred = np.argmax(finalcol, axis=1)\\n\\nytest = ytest_original.copy()\\nprint(m.accuracy_score(ytest, finalpred))\\nprint(m.confusion_matrix(ytest, finalpred))\";\n",
       "                var nbb_cells = Jupyter.notebook.get_cells();\n",
       "                for (var i = 0; i < nbb_cells.length; ++i) {\n",
       "                    if (nbb_cells[i].input_prompt_number == nbb_cell_id) {\n",
       "                        if (nbb_cells[i].get_text() == nbb_unformatted_code) {\n",
       "                             nbb_cells[i].set_text(nbb_formatted_code);\n",
       "                        }\n",
       "                        break;\n",
       "                    }\n",
       "                }\n",
       "            }, 500);\n",
       "            "
      ],
      "text/plain": [
       "<IPython.core.display.Javascript object>"
      ]
     },
     "metadata": {},
     "output_type": "display_data"
    }
   ],
   "source": [
    "finalcol = np.zeros((ytest.shape[0], 3))\n",
    "finalcol[:, 0] = pc1\n",
    "finalcol[:, 1] = pc2\n",
    "finalcol[:, 2] = pc3\n",
    "finalpred = np.argmax(finalcol, axis=1)\n",
    "\n",
    "ytest = ytest_original.copy()\n",
    "print(m.accuracy_score(ytest, finalpred))\n",
    "print(m.confusion_matrix(ytest, finalpred))"
   ]
  },
  {
   "cell_type": "code",
   "execution_count": 38,
   "metadata": {},
   "outputs": [
    {
     "name": "stdout",
     "output_type": "stream",
     "text": [
      "0.072\n",
      "0.1856\n",
      "0.7292999999999998\n"
     ]
    },
    {
     "data": {
      "application/javascript": [
       "\n",
       "            setTimeout(function() {\n",
       "                var nbb_cell_id = 38;\n",
       "                var nbb_unformatted_code = \"print(p_k1_c0[0])\\nprint(p_k1_c1[0])\\nprint(p_k1_c2[0])\";\n",
       "                var nbb_formatted_code = \"print(p_k1_c0[0])\\nprint(p_k1_c1[0])\\nprint(p_k1_c2[0])\";\n",
       "                var nbb_cells = Jupyter.notebook.get_cells();\n",
       "                for (var i = 0; i < nbb_cells.length; ++i) {\n",
       "                    if (nbb_cells[i].input_prompt_number == nbb_cell_id) {\n",
       "                        if (nbb_cells[i].get_text() == nbb_unformatted_code) {\n",
       "                             nbb_cells[i].set_text(nbb_formatted_code);\n",
       "                        }\n",
       "                        break;\n",
       "                    }\n",
       "                }\n",
       "            }, 500);\n",
       "            "
      ],
      "text/plain": [
       "<IPython.core.display.Javascript object>"
      ]
     },
     "metadata": {},
     "output_type": "display_data"
    }
   ],
   "source": [
    "print(p_k1_c0[0])\n",
    "print(p_k1_c1[0])\n",
    "print(p_k1_c2[0])"
   ]
  },
  {
   "cell_type": "code",
   "execution_count": 39,
   "metadata": {},
   "outputs": [
    {
     "name": "stdout",
     "output_type": "stream",
     "text": [
      "0.26203603\n",
      "0.718506\n",
      "0.98945755\n"
     ]
    },
    {
     "data": {
      "application/javascript": [
       "\n",
       "            setTimeout(function() {\n",
       "                var nbb_cell_id = 39;\n",
       "                var nbb_unformatted_code = \"print(p_k2_c0[0])\\nprint(p_k2_c1[0])\\nprint(p_k2_c2[0])\";\n",
       "                var nbb_formatted_code = \"print(p_k2_c0[0])\\nprint(p_k2_c1[0])\\nprint(p_k2_c2[0])\";\n",
       "                var nbb_cells = Jupyter.notebook.get_cells();\n",
       "                for (var i = 0; i < nbb_cells.length; ++i) {\n",
       "                    if (nbb_cells[i].input_prompt_number == nbb_cell_id) {\n",
       "                        if (nbb_cells[i].get_text() == nbb_unformatted_code) {\n",
       "                             nbb_cells[i].set_text(nbb_formatted_code);\n",
       "                        }\n",
       "                        break;\n",
       "                    }\n",
       "                }\n",
       "            }, 500);\n",
       "            "
      ],
      "text/plain": [
       "<IPython.core.display.Javascript object>"
      ]
     },
     "metadata": {},
     "output_type": "display_data"
    }
   ],
   "source": [
    "print(p_k2_c0[0])\n",
    "print(p_k2_c1[0])\n",
    "print(p_k2_c2[0])"
   ]
  },
  {
   "cell_type": "code",
   "execution_count": 40,
   "metadata": {},
   "outputs": [
    {
     "name": "stdout",
     "output_type": "stream",
     "text": [
      "0.15339293\n",
      "0.22072843\n",
      "0.6142149\n"
     ]
    },
    {
     "data": {
      "application/javascript": [
       "\n",
       "            setTimeout(function() {\n",
       "                var nbb_cell_id = 40;\n",
       "                var nbb_unformatted_code = \"print(p_k3_c0[0])\\nprint(p_k3_c1[0])\\nprint(p_k3_c2[0])\";\n",
       "                var nbb_formatted_code = \"print(p_k3_c0[0])\\nprint(p_k3_c1[0])\\nprint(p_k3_c2[0])\";\n",
       "                var nbb_cells = Jupyter.notebook.get_cells();\n",
       "                for (var i = 0; i < nbb_cells.length; ++i) {\n",
       "                    if (nbb_cells[i].input_prompt_number == nbb_cell_id) {\n",
       "                        if (nbb_cells[i].get_text() == nbb_unformatted_code) {\n",
       "                             nbb_cells[i].set_text(nbb_formatted_code);\n",
       "                        }\n",
       "                        break;\n",
       "                    }\n",
       "                }\n",
       "            }, 500);\n",
       "            "
      ],
      "text/plain": [
       "<IPython.core.display.Javascript object>"
      ]
     },
     "metadata": {},
     "output_type": "display_data"
    }
   ],
   "source": [
    "print(p_k3_c0[0])\n",
    "print(p_k3_c1[0])\n",
    "print(p_k3_c2[0])"
   ]
  },
  {
   "cell_type": "code",
   "execution_count": null,
   "metadata": {},
   "outputs": [],
   "source": []
  }
 ],
 "metadata": {
  "kernelspec": {
   "display_name": "Python 3",
   "language": "python",
   "name": "python3"
  },
  "language_info": {
   "codemirror_mode": {
    "name": "ipython",
    "version": 3
   },
   "file_extension": ".py",
   "mimetype": "text/x-python",
   "name": "python",
   "nbconvert_exporter": "python",
   "pygments_lexer": "ipython3",
   "version": "3.7.7"
  }
 },
 "nbformat": 4,
 "nbformat_minor": 2
}
