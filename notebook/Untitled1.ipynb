{
 "cells": [
  {
   "cell_type": "code",
   "execution_count": 1,
   "metadata": {},
   "outputs": [
    {
     "data": {
      "application/javascript": [
       "\n",
       "            setTimeout(function() {\n",
       "                var nbb_cell_id = 1;\n",
       "                var nbb_unformatted_code = \"%load_ext nb_black\";\n",
       "                var nbb_formatted_code = \"%load_ext nb_black\";\n",
       "                var nbb_cells = Jupyter.notebook.get_cells();\n",
       "                for (var i = 0; i < nbb_cells.length; ++i) {\n",
       "                    if (nbb_cells[i].input_prompt_number == nbb_cell_id) {\n",
       "                        if (nbb_cells[i].get_text() == nbb_unformatted_code) {\n",
       "                             nbb_cells[i].set_text(nbb_formatted_code);\n",
       "                        }\n",
       "                        break;\n",
       "                    }\n",
       "                }\n",
       "            }, 500);\n",
       "            "
      ],
      "text/plain": [
       "<IPython.core.display.Javascript object>"
      ]
     },
     "metadata": {},
     "output_type": "display_data"
    }
   ],
   "source": [
    "%load_ext nb_black"
   ]
  },
  {
   "cell_type": "code",
   "execution_count": 2,
   "metadata": {},
   "outputs": [
    {
     "data": {
      "application/javascript": [
       "\n",
       "            setTimeout(function() {\n",
       "                var nbb_cell_id = 2;\n",
       "                var nbb_unformatted_code = \"import numpy as np\\nimport pandas as pd\\nfrom sklearn import metrics as m\";\n",
       "                var nbb_formatted_code = \"import numpy as np\\nimport pandas as pd\\nfrom sklearn import metrics as m\";\n",
       "                var nbb_cells = Jupyter.notebook.get_cells();\n",
       "                for (var i = 0; i < nbb_cells.length; ++i) {\n",
       "                    if (nbb_cells[i].input_prompt_number == nbb_cell_id) {\n",
       "                        if (nbb_cells[i].get_text() == nbb_unformatted_code) {\n",
       "                             nbb_cells[i].set_text(nbb_formatted_code);\n",
       "                        }\n",
       "                        break;\n",
       "                    }\n",
       "                }\n",
       "            }, 500);\n",
       "            "
      ],
      "text/plain": [
       "<IPython.core.display.Javascript object>"
      ]
     },
     "metadata": {},
     "output_type": "display_data"
    }
   ],
   "source": [
    "import numpy as np\n",
    "import pandas as pd\n",
    "from sklearn import metrics as m"
   ]
  },
  {
   "cell_type": "code",
   "execution_count": 3,
   "metadata": {},
   "outputs": [
    {
     "data": {
      "application/javascript": [
       "\n",
       "            setTimeout(function() {\n",
       "                var nbb_cell_id = 3;\n",
       "                var nbb_unformatted_code = \"pd_acc_class0 = pd.read_csv(\\\"pd_acc_class0.txt\\\")\\npd_ypredproba_all_class0 = pd.read_csv(\\\"pd_ypredproba_all_class0.txt\\\")\\npd_ypredconfprob_all_class0 = pd.read_csv(\\\"pd_ypredconfprob_all_class0.txt\\\")\";\n",
       "                var nbb_formatted_code = \"pd_acc_class0 = pd.read_csv(\\\"pd_acc_class0.txt\\\")\\npd_ypredproba_all_class0 = pd.read_csv(\\\"pd_ypredproba_all_class0.txt\\\")\\npd_ypredconfprob_all_class0 = pd.read_csv(\\\"pd_ypredconfprob_all_class0.txt\\\")\";\n",
       "                var nbb_cells = Jupyter.notebook.get_cells();\n",
       "                for (var i = 0; i < nbb_cells.length; ++i) {\n",
       "                    if (nbb_cells[i].input_prompt_number == nbb_cell_id) {\n",
       "                        if (nbb_cells[i].get_text() == nbb_unformatted_code) {\n",
       "                             nbb_cells[i].set_text(nbb_formatted_code);\n",
       "                        }\n",
       "                        break;\n",
       "                    }\n",
       "                }\n",
       "            }, 500);\n",
       "            "
      ],
      "text/plain": [
       "<IPython.core.display.Javascript object>"
      ]
     },
     "metadata": {},
     "output_type": "display_data"
    }
   ],
   "source": [
    "pd_acc_class0 = pd.read_csv(\"pd_acc_class0.txt\")\n",
    "pd_ypredproba_all_class0 = pd.read_csv(\"pd_ypredproba_all_class0.txt\")\n",
    "pd_ypredconfprob_all_class0 = pd.read_csv(\"pd_ypredconfprob_all_class0.txt\")"
   ]
  },
  {
   "cell_type": "code",
   "execution_count": 4,
   "metadata": {},
   "outputs": [
    {
     "data": {
      "application/javascript": [
       "\n",
       "            setTimeout(function() {\n",
       "                var nbb_cell_id = 4;\n",
       "                var nbb_unformatted_code = \"pd_acc_class1 = pd.read_csv(\\\"pd_acc_class1.txt\\\")\\npd_ypredproba_all_class1 = pd.read_csv(\\\"pd_ypredproba_all_class1.txt\\\")\\npd_ypredconfprob_all_class1 = pd.read_csv(\\\"pd_ypredconfprob_all_class1.txt\\\")\";\n",
       "                var nbb_formatted_code = \"pd_acc_class1 = pd.read_csv(\\\"pd_acc_class1.txt\\\")\\npd_ypredproba_all_class1 = pd.read_csv(\\\"pd_ypredproba_all_class1.txt\\\")\\npd_ypredconfprob_all_class1 = pd.read_csv(\\\"pd_ypredconfprob_all_class1.txt\\\")\";\n",
       "                var nbb_cells = Jupyter.notebook.get_cells();\n",
       "                for (var i = 0; i < nbb_cells.length; ++i) {\n",
       "                    if (nbb_cells[i].input_prompt_number == nbb_cell_id) {\n",
       "                        if (nbb_cells[i].get_text() == nbb_unformatted_code) {\n",
       "                             nbb_cells[i].set_text(nbb_formatted_code);\n",
       "                        }\n",
       "                        break;\n",
       "                    }\n",
       "                }\n",
       "            }, 500);\n",
       "            "
      ],
      "text/plain": [
       "<IPython.core.display.Javascript object>"
      ]
     },
     "metadata": {},
     "output_type": "display_data"
    }
   ],
   "source": [
    "pd_acc_class1 = pd.read_csv(\"pd_acc_class1.txt\")\n",
    "pd_ypredproba_all_class1 = pd.read_csv(\"pd_ypredproba_all_class1.txt\")\n",
    "pd_ypredconfprob_all_class1 = pd.read_csv(\"pd_ypredconfprob_all_class1.txt\")"
   ]
  },
  {
   "cell_type": "code",
   "execution_count": 5,
   "metadata": {},
   "outputs": [
    {
     "data": {
      "application/javascript": [
       "\n",
       "            setTimeout(function() {\n",
       "                var nbb_cell_id = 5;\n",
       "                var nbb_unformatted_code = \"pd_acc_class2 = pd.read_csv(\\\"pd_acc_class2.txt\\\")\\npd_ypredproba_all_class2 = pd.read_csv(\\\"pd_ypredproba_all_class2.txt\\\")\\npd_ypredconfprob_all_class2 = pd.read_csv(\\\"pd_ypredconfprob_all_class2.txt\\\")\";\n",
       "                var nbb_formatted_code = \"pd_acc_class2 = pd.read_csv(\\\"pd_acc_class2.txt\\\")\\npd_ypredproba_all_class2 = pd.read_csv(\\\"pd_ypredproba_all_class2.txt\\\")\\npd_ypredconfprob_all_class2 = pd.read_csv(\\\"pd_ypredconfprob_all_class2.txt\\\")\";\n",
       "                var nbb_cells = Jupyter.notebook.get_cells();\n",
       "                for (var i = 0; i < nbb_cells.length; ++i) {\n",
       "                    if (nbb_cells[i].input_prompt_number == nbb_cell_id) {\n",
       "                        if (nbb_cells[i].get_text() == nbb_unformatted_code) {\n",
       "                             nbb_cells[i].set_text(nbb_formatted_code);\n",
       "                        }\n",
       "                        break;\n",
       "                    }\n",
       "                }\n",
       "            }, 500);\n",
       "            "
      ],
      "text/plain": [
       "<IPython.core.display.Javascript object>"
      ]
     },
     "metadata": {},
     "output_type": "display_data"
    }
   ],
   "source": [
    "pd_acc_class2 = pd.read_csv(\"pd_acc_class2.txt\")\n",
    "pd_ypredproba_all_class2 = pd.read_csv(\"pd_ypredproba_all_class2.txt\")\n",
    "pd_ypredconfprob_all_class2 = pd.read_csv(\"pd_ypredconfprob_all_class2.txt\")"
   ]
  },
  {
   "cell_type": "code",
   "execution_count": 6,
   "metadata": {},
   "outputs": [
    {
     "data": {
      "application/javascript": [
       "\n",
       "            setTimeout(function() {\n",
       "                var nbb_cell_id = 6;\n",
       "                var nbb_unformatted_code = \"ytest_class0 = pd.read_csv(\\\"ytest_class0.txt\\\")\\nytest_class1 = pd.read_csv(\\\"ytest_class1.txt\\\")\\nytest_class2 = pd.read_csv(\\\"ytest_class2.txt\\\")\\nytest_original = pd.read_csv(\\\"ytest_original.txt\\\")\";\n",
       "                var nbb_formatted_code = \"ytest_class0 = pd.read_csv(\\\"ytest_class0.txt\\\")\\nytest_class1 = pd.read_csv(\\\"ytest_class1.txt\\\")\\nytest_class2 = pd.read_csv(\\\"ytest_class2.txt\\\")\\nytest_original = pd.read_csv(\\\"ytest_original.txt\\\")\";\n",
       "                var nbb_cells = Jupyter.notebook.get_cells();\n",
       "                for (var i = 0; i < nbb_cells.length; ++i) {\n",
       "                    if (nbb_cells[i].input_prompt_number == nbb_cell_id) {\n",
       "                        if (nbb_cells[i].get_text() == nbb_unformatted_code) {\n",
       "                             nbb_cells[i].set_text(nbb_formatted_code);\n",
       "                        }\n",
       "                        break;\n",
       "                    }\n",
       "                }\n",
       "            }, 500);\n",
       "            "
      ],
      "text/plain": [
       "<IPython.core.display.Javascript object>"
      ]
     },
     "metadata": {},
     "output_type": "display_data"
    }
   ],
   "source": [
    "ytest_class0 = pd.read_csv(\"ytest_class0.txt\")\n",
    "ytest_class1 = pd.read_csv(\"ytest_class1.txt\")\n",
    "ytest_class2 = pd.read_csv(\"ytest_class2.txt\")\n",
    "ytest_original = pd.read_csv(\"ytest_original.txt\")"
   ]
  },
  {
   "cell_type": "code",
   "execution_count": 7,
   "metadata": {},
   "outputs": [
    {
     "data": {
      "text/html": [
       "<div>\n",
       "<style scoped>\n",
       "    .dataframe tbody tr th:only-of-type {\n",
       "        vertical-align: middle;\n",
       "    }\n",
       "\n",
       "    .dataframe tbody tr th {\n",
       "        vertical-align: top;\n",
       "    }\n",
       "\n",
       "    .dataframe thead th {\n",
       "        text-align: right;\n",
       "    }\n",
       "</style>\n",
       "<table border=\"1\" class=\"dataframe\">\n",
       "  <thead>\n",
       "    <tr style=\"text-align: right;\">\n",
       "      <th></th>\n",
       "      <th>0</th>\n",
       "      <th>1</th>\n",
       "      <th>2</th>\n",
       "      <th>3</th>\n",
       "      <th>4</th>\n",
       "      <th>5</th>\n",
       "      <th>6</th>\n",
       "      <th>7</th>\n",
       "      <th>8</th>\n",
       "      <th>9</th>\n",
       "      <th>...</th>\n",
       "      <th>590</th>\n",
       "      <th>591</th>\n",
       "      <th>592</th>\n",
       "      <th>593</th>\n",
       "      <th>594</th>\n",
       "      <th>595</th>\n",
       "      <th>596</th>\n",
       "      <th>597</th>\n",
       "      <th>598</th>\n",
       "      <th>599</th>\n",
       "    </tr>\n",
       "  </thead>\n",
       "  <tbody>\n",
       "    <tr>\n",
       "      <th>0</th>\n",
       "      <td>0.000000</td>\n",
       "      <td>0.000000</td>\n",
       "      <td>0.100000</td>\n",
       "      <td>0.000000</td>\n",
       "      <td>0.000000</td>\n",
       "      <td>0.600000</td>\n",
       "      <td>0.000000</td>\n",
       "      <td>0.000000</td>\n",
       "      <td>0.000000</td>\n",
       "      <td>0.300000</td>\n",
       "      <td>...</td>\n",
       "      <td>0.500000</td>\n",
       "      <td>0.200000</td>\n",
       "      <td>1.000000</td>\n",
       "      <td>0.800000</td>\n",
       "      <td>0.800000</td>\n",
       "      <td>0.800000</td>\n",
       "      <td>0.200000</td>\n",
       "      <td>1.000000</td>\n",
       "      <td>0.700000</td>\n",
       "      <td>0.300000</td>\n",
       "    </tr>\n",
       "    <tr>\n",
       "      <th>1</th>\n",
       "      <td>0.946915</td>\n",
       "      <td>0.964304</td>\n",
       "      <td>0.898097</td>\n",
       "      <td>0.957807</td>\n",
       "      <td>0.771532</td>\n",
       "      <td>0.603120</td>\n",
       "      <td>0.839928</td>\n",
       "      <td>0.995393</td>\n",
       "      <td>0.934074</td>\n",
       "      <td>0.812915</td>\n",
       "      <td>...</td>\n",
       "      <td>0.743753</td>\n",
       "      <td>0.838394</td>\n",
       "      <td>0.266781</td>\n",
       "      <td>0.197540</td>\n",
       "      <td>0.518553</td>\n",
       "      <td>0.149013</td>\n",
       "      <td>0.554728</td>\n",
       "      <td>0.191191</td>\n",
       "      <td>0.258657</td>\n",
       "      <td>0.705510</td>\n",
       "    </tr>\n",
       "    <tr>\n",
       "      <th>2</th>\n",
       "      <td>0.001439</td>\n",
       "      <td>0.002363</td>\n",
       "      <td>0.058239</td>\n",
       "      <td>0.005408</td>\n",
       "      <td>0.002295</td>\n",
       "      <td>0.681239</td>\n",
       "      <td>0.000936</td>\n",
       "      <td>0.003650</td>\n",
       "      <td>0.002405</td>\n",
       "      <td>0.100384</td>\n",
       "      <td>...</td>\n",
       "      <td>0.604715</td>\n",
       "      <td>0.109936</td>\n",
       "      <td>0.803831</td>\n",
       "      <td>0.869039</td>\n",
       "      <td>0.684544</td>\n",
       "      <td>0.908467</td>\n",
       "      <td>0.236095</td>\n",
       "      <td>0.878567</td>\n",
       "      <td>0.813042</td>\n",
       "      <td>0.438247</td>\n",
       "    </tr>\n",
       "    <tr>\n",
       "      <th>3</th>\n",
       "      <td>0.220000</td>\n",
       "      <td>0.200000</td>\n",
       "      <td>0.080000</td>\n",
       "      <td>0.200000</td>\n",
       "      <td>0.360000</td>\n",
       "      <td>0.420000</td>\n",
       "      <td>0.500000</td>\n",
       "      <td>0.160000</td>\n",
       "      <td>0.340000</td>\n",
       "      <td>0.300000</td>\n",
       "      <td>...</td>\n",
       "      <td>0.540000</td>\n",
       "      <td>0.100000</td>\n",
       "      <td>0.120000</td>\n",
       "      <td>0.640000</td>\n",
       "      <td>0.860000</td>\n",
       "      <td>0.700000</td>\n",
       "      <td>0.280000</td>\n",
       "      <td>0.800000</td>\n",
       "      <td>0.260000</td>\n",
       "      <td>0.300000</td>\n",
       "    </tr>\n",
       "    <tr>\n",
       "      <th>4</th>\n",
       "      <td>0.004383</td>\n",
       "      <td>0.008302</td>\n",
       "      <td>0.072385</td>\n",
       "      <td>0.010435</td>\n",
       "      <td>0.007669</td>\n",
       "      <td>0.692125</td>\n",
       "      <td>0.004383</td>\n",
       "      <td>0.008084</td>\n",
       "      <td>0.005516</td>\n",
       "      <td>0.109870</td>\n",
       "      <td>...</td>\n",
       "      <td>0.616562</td>\n",
       "      <td>0.136697</td>\n",
       "      <td>0.800308</td>\n",
       "      <td>0.858310</td>\n",
       "      <td>0.652514</td>\n",
       "      <td>0.884555</td>\n",
       "      <td>0.248048</td>\n",
       "      <td>0.868501</td>\n",
       "      <td>0.784045</td>\n",
       "      <td>0.426801</td>\n",
       "    </tr>\n",
       "  </tbody>\n",
       "</table>\n",
       "<p>5 rows × 600 columns</p>\n",
       "</div>"
      ],
      "text/plain": [
       "          0         1         2         3         4         5         6  \\\n",
       "0  0.000000  0.000000  0.100000  0.000000  0.000000  0.600000  0.000000   \n",
       "1  0.946915  0.964304  0.898097  0.957807  0.771532  0.603120  0.839928   \n",
       "2  0.001439  0.002363  0.058239  0.005408  0.002295  0.681239  0.000936   \n",
       "3  0.220000  0.200000  0.080000  0.200000  0.360000  0.420000  0.500000   \n",
       "4  0.004383  0.008302  0.072385  0.010435  0.007669  0.692125  0.004383   \n",
       "\n",
       "          7         8         9  ...       590       591       592       593  \\\n",
       "0  0.000000  0.000000  0.300000  ...  0.500000  0.200000  1.000000  0.800000   \n",
       "1  0.995393  0.934074  0.812915  ...  0.743753  0.838394  0.266781  0.197540   \n",
       "2  0.003650  0.002405  0.100384  ...  0.604715  0.109936  0.803831  0.869039   \n",
       "3  0.160000  0.340000  0.300000  ...  0.540000  0.100000  0.120000  0.640000   \n",
       "4  0.008084  0.005516  0.109870  ...  0.616562  0.136697  0.800308  0.858310   \n",
       "\n",
       "        594       595       596       597       598       599  \n",
       "0  0.800000  0.800000  0.200000  1.000000  0.700000  0.300000  \n",
       "1  0.518553  0.149013  0.554728  0.191191  0.258657  0.705510  \n",
       "2  0.684544  0.908467  0.236095  0.878567  0.813042  0.438247  \n",
       "3  0.860000  0.700000  0.280000  0.800000  0.260000  0.300000  \n",
       "4  0.652514  0.884555  0.248048  0.868501  0.784045  0.426801  \n",
       "\n",
       "[5 rows x 600 columns]"
      ]
     },
     "execution_count": 7,
     "metadata": {},
     "output_type": "execute_result"
    },
    {
     "data": {
      "application/javascript": [
       "\n",
       "            setTimeout(function() {\n",
       "                var nbb_cell_id = 7;\n",
       "                var nbb_unformatted_code = \"pd_ypredproba_all_class0.head()\";\n",
       "                var nbb_formatted_code = \"pd_ypredproba_all_class0.head()\";\n",
       "                var nbb_cells = Jupyter.notebook.get_cells();\n",
       "                for (var i = 0; i < nbb_cells.length; ++i) {\n",
       "                    if (nbb_cells[i].input_prompt_number == nbb_cell_id) {\n",
       "                        if (nbb_cells[i].get_text() == nbb_unformatted_code) {\n",
       "                             nbb_cells[i].set_text(nbb_formatted_code);\n",
       "                        }\n",
       "                        break;\n",
       "                    }\n",
       "                }\n",
       "            }, 500);\n",
       "            "
      ],
      "text/plain": [
       "<IPython.core.display.Javascript object>"
      ]
     },
     "metadata": {},
     "output_type": "display_data"
    }
   ],
   "source": [
    "pd_ypredproba_all_class0.head()"
   ]
  },
  {
   "cell_type": "code",
   "execution_count": 13,
   "metadata": {
    "scrolled": true
   },
   "outputs": [
    {
     "name": "stdout",
     "output_type": "stream",
     "text": [
      "0.7966666666666666 0.7989010989010988\n",
      "0.21333333333333335 0.7762805187278128\n",
      "0.8166666666666667 0.8173286512555166\n",
      "0.6766666666666666 0.6795852956567241\n",
      "0.8183333333333334 0.8186676048415638\n",
      "0.8016666666666666 0.80315005850724\n",
      "0.8183333333333334 0.8186676048415638\n",
      "0.7833333333333333 0.7836007930273445\n",
      "0.8183333333333334 0.8186676048415638\n",
      "0.7 0.7014260249554366\n",
      "0.8183333333333334 0.8186676048415638\n",
      "0.7416666666666667 0.7438671884992196\n",
      "0.8183333333333334 0.8186676048415638\n",
      "0.755 0.7580346303750559\n",
      "0.8183333333333334 0.8186676048415638\n",
      "0.7383333333333333 0.7420363093597032\n",
      "0.8183333333333334 0.8186676048415638\n",
      "0.775 0.7769165835315786\n",
      "0.8183333333333334 0.8186676048415638\n",
      "0.7916666666666666 0.7936516687033515\n",
      "0.8183333333333334 0.8186676048415638\n",
      "0.7066666666666667 0.7098901098901099\n",
      "0.8183333333333334 0.8186676048415638\n",
      "0.8083333333333333 0.8086860051080718\n",
      "0.8183333333333334 0.8186676048415638\n",
      "0.7666666666666667 0.7690051681167578\n",
      "0.8183333333333334 0.8186676048415638\n",
      "0.75 0.752256671899529\n",
      "0.8183333333333334 0.8186676048415638\n",
      "0.785 0.7858999662278351\n",
      "0.8183333333333334 0.8186676048415638\n",
      "0.7866666666666666 0.7888047251353214\n",
      "0.8183333333333334 0.8186676048415638\n",
      "0.78 0.7815287565915924\n",
      "0.8183333333333334 0.8186676048415638\n",
      "0.7866666666666666 0.7883738368305245\n",
      "0.8183333333333334 0.8186676048415638\n",
      "0.81 0.8106860567557171\n",
      "0.8183333333333334 0.8186676048415638\n",
      "0.765 0.7672390822973805\n",
      "0.8183333333333334 0.8186676048415638\n",
      "0.805 0.8064584608852694\n",
      "0.8183333333333334 0.8186676048415638\n",
      "0.7516666666666667 0.7540327890943949\n",
      "0.8183333333333334 0.8186676048415638\n",
      "0.7866666666666666 0.7879180817124627\n",
      "0.8183333333333334 0.8186676048415638\n",
      "0.8033333333333333 0.8046999490743023\n",
      "0.8183333333333334 0.8186676048415638\n",
      "0.7733333333333333 0.7760369075321744\n",
      "0.8183333333333334 0.8186676048415638\n",
      "0.7916666666666666 0.7927736341090735\n",
      "0.8183333333333334 0.8186676048415638\n",
      "0.67 0.6758489841010615\n",
      "0.8183333333333334 0.8186676048415638\n",
      "0.7916666666666666 0.7942471346726666\n",
      "0.8183333333333334 0.8186676048415638\n",
      "0.7533333333333333 0.7553072488352939\n",
      "0.8183333333333334 0.8186676048415638\n",
      "0.8216666666666667 0.8226142307973668\n",
      "0.8183333333333334 0.8186676048415638\n",
      "0.7783333333333333 0.7802215230348143\n",
      "0.8183333333333334 0.8186676048415638\n",
      "0.7916666666666666 0.7927736341090735\n",
      "0.8183333333333334 0.8186676048415638\n",
      "0.805 0.8068579619063369\n",
      "0.8183333333333334 0.8186676048415638\n",
      "0.7783333333333333 0.7802215230348143\n",
      "0.8183333333333334 0.8186676048415638\n",
      "0.7816666666666666 0.7837469488011124\n",
      "0.8183333333333334 0.8186676048415638\n",
      "0.7366666666666667 0.7390436944008372\n",
      "0.8183333333333334 0.8186676048415638\n",
      "0.8033333333333333 0.8046999490743023\n",
      "0.8183333333333334 0.8186676048415638\n",
      "0.7916666666666666 0.7920500055522518\n",
      "0.8183333333333334 0.8186676048415638\n",
      "0.7966666666666666 0.7971623795545384\n",
      "0.8183333333333334 0.8186676048415638\n",
      "0.7883333333333333 0.7901363415445221\n",
      "0.8183333333333334 0.8186676048415638\n",
      "0.7633333333333333 0.7649779048182281\n",
      "0.8183333333333334 0.8186676048415638\n",
      "0.7283333333333334 0.7316982636131572\n",
      "0.8183333333333334 0.8186676048415638\n",
      "0.8 0.8011732016054337\n",
      "0.8183333333333334 0.8186676048415638\n",
      "0.7533333333333333 0.7536378259080536\n",
      "0.8183333333333334 0.8186676048415638\n",
      "0.82 0.8206499485054163\n",
      "0.8183333333333334 0.8186676048415638\n",
      "0.795 0.7965332537511807\n",
      "0.8183333333333334 0.8186676048415638\n",
      "0.6966666666666667 0.7\n",
      "0.8183333333333334 0.8186676048415638\n",
      "0.7266666666666667 0.7276536255082245\n",
      "0.8183333333333334 0.8186676048415638\n",
      "0.6933333333333334 0.6967032967032967\n",
      "0.8183333333333334 0.8186676048415638\n",
      "0.8 0.8011732016054337\n",
      "0.8183333333333334 0.8186676048415638\n",
      "0.7816666666666666 0.7837469488011124\n",
      "0.8183333333333334 0.8186676048415638\n"
     ]
    },
    {
     "data": {
      "application/javascript": [
       "\n",
       "            setTimeout(function() {\n",
       "                var nbb_cell_id = 12;\n",
       "                var nbb_unformatted_code = \"pos_c = []\\nneg_c = []\\ntemp = []\\n\\nfor i in range(pd_acc_class0.shape[0]):\\n\\n    #         pos_c.append(pd_ypredproba_all_class1.iloc[i,:])\\n    #         neg_c.append((1-pd_ypredproba_all_class1.iloc[i,:]))\\n\\n    #     pos_c.append(\\n    #         pd_ypredproba_all_class1.iloc[i, :] * pd_ypredconfprob_all_class1.iloc[i, 0]\\n    #         + (1 - pd_ypredproba_all_class1.iloc[i, :])\\n    #         * pd_ypredconfprob_all_class1.iloc[i, 1]\\n    #     )\\n\\n    #     neg_c.append(\\n    #         (1 - pd_ypredproba_all_class1.iloc[i, :])\\n    #         * pd_ypredconfprob_all_class1.iloc[i, 3]\\n    #         + pd_ypredproba_all_class1.iloc[i, :] * pd_ypredconfprob_all_class1.iloc[i, 2]\\n    #     )\\n\\n    #     pos_c.append(\\n    #         (pd_ypredproba_all_class0.iloc[i, :] * pd_ypredconfprob_all_class0.iloc[i, 0])\\n    #         +\\n    #         (\\n    #             (1 - pd_ypredproba_all_class0.iloc[i, :])\\n    #             * pd_ypredconfprob_all_class0.iloc[i, 1]\\n    #         )\\n    #     )\\n\\n    #     neg_c.append(\\n    #         (\\n    #             (1 - pd_ypredproba_all_class0.iloc[i, :])\\n    #             * pd_ypredconfprob_all_class0.iloc[i, 3]\\n    #         )\\n    #         + (pd_ypredproba_all_class1.iloc[i, :] * pd_ypredconfprob_all_class1.iloc[i, 2])\\n    #     )\\n\\n    finalval = np.zeros((600, 2))\\n    #     finalval[:, 0] = np.sum(np.array(pos_c), axis=0)\\n    #     finalval[:, 1] = np.sum(np.array(neg_c), axis=0)\\n\\n    finalval += np.column_stack(\\n        (pd_ypredproba_all_class1.iloc[i, :], 1 - pd_ypredproba_all_class1.iloc[i, :])\\n    )\\n    print(\\n        m.accuracy_score(ytest_class1, np.argmax(finalval, axis=1)),\\n        pd_acc_class0.iloc[i, 0],\\n    )\";\n",
       "                var nbb_formatted_code = \"pos_c = []\\nneg_c = []\\ntemp = []\\n\\nfor i in range(pd_acc_class0.shape[0]):\\n\\n    #         pos_c.append(pd_ypredproba_all_class1.iloc[i,:])\\n    #         neg_c.append((1-pd_ypredproba_all_class1.iloc[i,:]))\\n\\n    #     pos_c.append(\\n    #         pd_ypredproba_all_class1.iloc[i, :] * pd_ypredconfprob_all_class1.iloc[i, 0]\\n    #         + (1 - pd_ypredproba_all_class1.iloc[i, :])\\n    #         * pd_ypredconfprob_all_class1.iloc[i, 1]\\n    #     )\\n\\n    #     neg_c.append(\\n    #         (1 - pd_ypredproba_all_class1.iloc[i, :])\\n    #         * pd_ypredconfprob_all_class1.iloc[i, 3]\\n    #         + pd_ypredproba_all_class1.iloc[i, :] * pd_ypredconfprob_all_class1.iloc[i, 2]\\n    #     )\\n\\n    #     pos_c.append(\\n    #         (pd_ypredproba_all_class0.iloc[i, :] * pd_ypredconfprob_all_class0.iloc[i, 0])\\n    #         +\\n    #         (\\n    #             (1 - pd_ypredproba_all_class0.iloc[i, :])\\n    #             * pd_ypredconfprob_all_class0.iloc[i, 1]\\n    #         )\\n    #     )\\n\\n    #     neg_c.append(\\n    #         (\\n    #             (1 - pd_ypredproba_all_class0.iloc[i, :])\\n    #             * pd_ypredconfprob_all_class0.iloc[i, 3]\\n    #         )\\n    #         + (pd_ypredproba_all_class1.iloc[i, :] * pd_ypredconfprob_all_class1.iloc[i, 2])\\n    #     )\\n\\n    finalval = np.zeros((600, 2))\\n    #     finalval[:, 0] = np.sum(np.array(pos_c), axis=0)\\n    #     finalval[:, 1] = np.sum(np.array(neg_c), axis=0)\\n\\n    finalval += np.column_stack(\\n        (pd_ypredproba_all_class1.iloc[i, :], 1 - pd_ypredproba_all_class1.iloc[i, :])\\n    )\\n    print(\\n        m.accuracy_score(ytest_class1, np.argmax(finalval, axis=1)),\\n        pd_acc_class0.iloc[i, 0],\\n    )\";\n",
       "                var nbb_cells = Jupyter.notebook.get_cells();\n",
       "                for (var i = 0; i < nbb_cells.length; ++i) {\n",
       "                    if (nbb_cells[i].input_prompt_number == nbb_cell_id) {\n",
       "                        if (nbb_cells[i].get_text() == nbb_unformatted_code) {\n",
       "                             nbb_cells[i].set_text(nbb_formatted_code);\n",
       "                        }\n",
       "                        break;\n",
       "                    }\n",
       "                }\n",
       "            }, 500);\n",
       "            "
      ],
      "text/plain": [
       "<IPython.core.display.Javascript object>"
      ]
     },
     "metadata": {},
     "output_type": "display_data"
    }
   ],
   "source": [
    "pos_c = []\n",
    "neg_c = []\n",
    "temp = []\n",
    "\n",
    "for i in range(pd_acc_class0.shape[0]):\n",
    "\n",
    "    #         pos_c.append(pd_ypredproba_all_class1.iloc[i,:])\n",
    "    #         neg_c.append((1-pd_ypredproba_all_class1.iloc[i,:]))\n",
    "\n",
    "    #     pos_c.append(\n",
    "    #         pd_ypredproba_all_class1.iloc[i, :] * pd_ypredconfprob_all_class1.iloc[i, 0]\n",
    "    #         + (1 - pd_ypredproba_all_class1.iloc[i, :])\n",
    "    #         * pd_ypredconfprob_all_class1.iloc[i, 1]\n",
    "    #     )\n",
    "\n",
    "    #     neg_c.append(\n",
    "    #         (1 - pd_ypredproba_all_class1.iloc[i, :])\n",
    "    #         * pd_ypredconfprob_all_class1.iloc[i, 3]\n",
    "    #         + pd_ypredproba_all_class1.iloc[i, :] * pd_ypredconfprob_all_class1.iloc[i, 2]\n",
    "    #     )\n",
    "\n",
    "    #     pos_c.append(\n",
    "    #         (pd_ypredproba_all_class0.iloc[i, :] * pd_ypredconfprob_all_class0.iloc[i, 0])\n",
    "    #         +\n",
    "    #         (\n",
    "    #             (1 - pd_ypredproba_all_class0.iloc[i, :])\n",
    "    #             * pd_ypredconfprob_all_class0.iloc[i, 1]\n",
    "    #         )\n",
    "    #     )\n",
    "\n",
    "    #     neg_c.append(\n",
    "    #         (\n",
    "    #             (1 - pd_ypredproba_all_class0.iloc[i, :])\n",
    "    #             * pd_ypredconfprob_all_class0.iloc[i, 3]\n",
    "    #         )\n",
    "    #         + (pd_ypredproba_all_class1.iloc[i, :] * pd_ypredconfprob_all_class1.iloc[i, 2])\n",
    "    #     )\n",
    "\n",
    "    finalval = np.zeros((600, 2))\n",
    "    #     finalval[:, 0] = np.sum(np.array(pos_c), axis=0)\n",
    "    #     finalval[:, 1] = np.sum(np.array(neg_c), axis=0)\n",
    "\n",
    "    finalval += np.column_stack(\n",
    "        (pd_ypredproba_all_class0.iloc[i, :], 1 - pd_ypredproba_all_class0.iloc[i, :])\n",
    "    )\n",
    "    print(\n",
    "        m.accuracy_score(ytest_class0, np.argmax(finalval, axis=1)),\n",
    "        pd_acc_class0.iloc[i, 0],\n",
    "    )"
   ]
  },
  {
   "cell_type": "code",
   "execution_count": null,
   "metadata": {},
   "outputs": [],
   "source": [
    "pd_ypredproba_all_class1"
   ]
  },
  {
   "cell_type": "code",
   "execution_count": null,
   "metadata": {},
   "outputs": [],
   "source": [
    "pd_ypredconfprob_all_class1.iloc[0,]"
   ]
  },
  {
   "cell_type": "code",
   "execution_count": null,
   "metadata": {},
   "outputs": [],
   "source": [
    "pd_ypredproba_all_class1.iloc[0,]"
   ]
  },
  {
   "cell_type": "code",
   "execution_count": null,
   "metadata": {},
   "outputs": [],
   "source": [
    "np.column_stack(\n",
    "    (pd_ypredproba_all_class0.iloc[0, :], 1 - pd_ypredproba_all_class0.iloc[0, :])\n",
    ")"
   ]
  },
  {
   "cell_type": "code",
   "execution_count": null,
   "metadata": {},
   "outputs": [],
   "source": []
  }
 ],
 "metadata": {
  "kernelspec": {
   "display_name": "Python 3",
   "language": "python",
   "name": "python3"
  },
  "language_info": {
   "codemirror_mode": {
    "name": "ipython",
    "version": 3
   },
   "file_extension": ".py",
   "mimetype": "text/x-python",
   "name": "python",
   "nbconvert_exporter": "python",
   "pygments_lexer": "ipython3",
   "version": "3.7.7"
  }
 },
 "nbformat": 4,
 "nbformat_minor": 4
}
