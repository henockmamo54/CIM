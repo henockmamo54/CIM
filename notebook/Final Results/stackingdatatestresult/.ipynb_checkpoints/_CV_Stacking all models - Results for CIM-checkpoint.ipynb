{
 "cells": [
  {
   "cell_type": "code",
   "execution_count": 1,
   "metadata": {},
   "outputs": [
    {
     "data": {
      "application/javascript": [
       "\n",
       "            setTimeout(function() {\n",
       "                var nbb_cell_id = 1;\n",
       "                var nbb_unformatted_code = \"%load_ext nb_black\\n# !pip install nb_black\\n\\nimport warnings\\n\\nwarnings.filterwarnings(\\\"ignore\\\")\";\n",
       "                var nbb_formatted_code = \"%load_ext nb_black\\n# !pip install nb_black\\n\\nimport warnings\\n\\nwarnings.filterwarnings(\\\"ignore\\\")\";\n",
       "                var nbb_cells = Jupyter.notebook.get_cells();\n",
       "                for (var i = 0; i < nbb_cells.length; ++i) {\n",
       "                    if (nbb_cells[i].input_prompt_number == nbb_cell_id) {\n",
       "                        if (nbb_cells[i].get_text() == nbb_unformatted_code) {\n",
       "                             nbb_cells[i].set_text(nbb_formatted_code);\n",
       "                        }\n",
       "                        break;\n",
       "                    }\n",
       "                }\n",
       "            }, 500);\n",
       "            "
      ],
      "text/plain": [
       "<IPython.core.display.Javascript object>"
      ]
     },
     "metadata": {},
     "output_type": "display_data"
    }
   ],
   "source": [
    "%load_ext nb_black\n",
    "# !pip install nb_black\n",
    "\n",
    "import warnings\n",
    "\n",
    "warnings.filterwarnings(\"ignore\")"
   ]
  },
  {
   "cell_type": "code",
   "execution_count": 2,
   "metadata": {},
   "outputs": [
    {
     "name": "stderr",
     "output_type": "stream",
     "text": [
      "Using TensorFlow backend.\n"
     ]
    },
    {
     "data": {
      "application/javascript": [
       "\n",
       "            setTimeout(function() {\n",
       "                var nbb_cell_id = 2;\n",
       "                var nbb_unformatted_code = \"import pandas as pd\\nimport numpy as np\\nfrom matplotlib import pyplot as plt\\nfrom sklearn import metrics as m\\nfrom sklearn.datasets import make_classification\\nfrom imblearn.over_sampling import SMOTE  # doctest: +NORMALIZE_WHITESPACE\\nfrom sklearn.metrics import confusion_matrix\\nfrom sklearn.metrics import classification_report\\nfrom sklearn.model_selection import train_test_split\\nfrom collections import Counter\\nfrom sklearn.linear_model import LogisticRegression\\nfrom sklearn.neighbors import KNeighborsClassifier\\nfrom sklearn.svm import SVC\\nfrom sklearn.model_selection import GridSearchCV\\nfrom sklearn.model_selection import RandomizedSearchCV\\nfrom sklearn.ensemble import RandomForestClassifier\\nfrom sklearn.ensemble import VotingClassifier\\nimport xgboost as xgb\\nfrom sklearn.pipeline import make_pipeline\\nfrom mlxtend.feature_selection import ColumnSelector\\nfrom sklearn import model_selection\\nfrom mlxtend.classifier import StackingClassifier\\nfrom thundersvm import SVC as svmgpu\\n\\nrandomseed = 7\\nnp.random.seed(randomseed)\";\n",
       "                var nbb_formatted_code = \"import pandas as pd\\nimport numpy as np\\nfrom matplotlib import pyplot as plt\\nfrom sklearn import metrics as m\\nfrom sklearn.datasets import make_classification\\nfrom imblearn.over_sampling import SMOTE  # doctest: +NORMALIZE_WHITESPACE\\nfrom sklearn.metrics import confusion_matrix\\nfrom sklearn.metrics import classification_report\\nfrom sklearn.model_selection import train_test_split\\nfrom collections import Counter\\nfrom sklearn.linear_model import LogisticRegression\\nfrom sklearn.neighbors import KNeighborsClassifier\\nfrom sklearn.svm import SVC\\nfrom sklearn.model_selection import GridSearchCV\\nfrom sklearn.model_selection import RandomizedSearchCV\\nfrom sklearn.ensemble import RandomForestClassifier\\nfrom sklearn.ensemble import VotingClassifier\\nimport xgboost as xgb\\nfrom sklearn.pipeline import make_pipeline\\nfrom mlxtend.feature_selection import ColumnSelector\\nfrom sklearn import model_selection\\nfrom mlxtend.classifier import StackingClassifier\\nfrom thundersvm import SVC as svmgpu\\n\\nrandomseed = 7\\nnp.random.seed(randomseed)\";\n",
       "                var nbb_cells = Jupyter.notebook.get_cells();\n",
       "                for (var i = 0; i < nbb_cells.length; ++i) {\n",
       "                    if (nbb_cells[i].input_prompt_number == nbb_cell_id) {\n",
       "                        if (nbb_cells[i].get_text() == nbb_unformatted_code) {\n",
       "                             nbb_cells[i].set_text(nbb_formatted_code);\n",
       "                        }\n",
       "                        break;\n",
       "                    }\n",
       "                }\n",
       "            }, 500);\n",
       "            "
      ],
      "text/plain": [
       "<IPython.core.display.Javascript object>"
      ]
     },
     "metadata": {},
     "output_type": "display_data"
    }
   ],
   "source": [
    "import pandas as pd\n",
    "import numpy as np\n",
    "from matplotlib import pyplot as plt\n",
    "from sklearn import metrics as m\n",
    "from sklearn.datasets import make_classification\n",
    "from imblearn.over_sampling import SMOTE  # doctest: +NORMALIZE_WHITESPACE\n",
    "from sklearn.metrics import confusion_matrix\n",
    "from sklearn.metrics import classification_report\n",
    "from sklearn.model_selection import train_test_split\n",
    "from collections import Counter\n",
    "from sklearn.linear_model import LogisticRegression\n",
    "from sklearn.neighbors import KNeighborsClassifier\n",
    "from sklearn.svm import SVC\n",
    "from sklearn.model_selection import GridSearchCV\n",
    "from sklearn.model_selection import RandomizedSearchCV\n",
    "from sklearn.ensemble import RandomForestClassifier\n",
    "from sklearn.ensemble import VotingClassifier\n",
    "import xgboost as xgb\n",
    "from sklearn.pipeline import make_pipeline\n",
    "from mlxtend.feature_selection import ColumnSelector\n",
    "from sklearn import model_selection\n",
    "from mlxtend.classifier import StackingClassifier\n",
    "from thundersvm import SVC as svmgpu\n",
    "\n",
    "randomseed = 7\n",
    "np.random.seed(randomseed)"
   ]
  },
  {
   "cell_type": "code",
   "execution_count": 5,
   "metadata": {},
   "outputs": [
    {
     "data": {
      "application/javascript": [
       "\n",
       "            setTimeout(function() {\n",
       "                var nbb_cell_id = 5;\n",
       "                var nbb_unformatted_code = \"FinalAccuracy = []\\nFinalPrecision = []\\nFinalRecall = []\\nFinalF1 = []\";\n",
       "                var nbb_formatted_code = \"FinalAccuracy = []\\nFinalPrecision = []\\nFinalRecall = []\\nFinalF1 = []\";\n",
       "                var nbb_cells = Jupyter.notebook.get_cells();\n",
       "                for (var i = 0; i < nbb_cells.length; ++i) {\n",
       "                    if (nbb_cells[i].input_prompt_number == nbb_cell_id) {\n",
       "                        if (nbb_cells[i].get_text() == nbb_unformatted_code) {\n",
       "                             nbb_cells[i].set_text(nbb_formatted_code);\n",
       "                        }\n",
       "                        break;\n",
       "                    }\n",
       "                }\n",
       "            }, 500);\n",
       "            "
      ],
      "text/plain": [
       "<IPython.core.display.Javascript object>"
      ]
     },
     "metadata": {},
     "output_type": "display_data"
    }
   ],
   "source": [
    "FinalAccuracy = []\n",
    "FinalPrecision = []\n",
    "FinalRecall = []\n",
    "FinalF1 = []"
   ]
  },
  {
   "cell_type": "code",
   "execution_count": 7,
   "metadata": {
    "scrolled": false
   },
   "outputs": [
    {
     "name": "stdout",
     "output_type": "stream",
     "text": [
      "0\n",
      "0.7468871595330739\n",
      "1\n",
      "0.7464980544747082\n",
      "2\n",
      "0.7529182879377432\n",
      "3\n",
      "0.7443082311733801\n",
      "4\n",
      "0.7517026658883051\n",
      "5\n",
      "0.750340533177661\n",
      "6\n",
      "0.7470324965946682\n",
      "7\n",
      "0.7499513524031913\n",
      "8\n",
      "0.7585133294415256\n",
      "9\n",
      "0.7583187390542907\n"
     ]
    },
    {
     "data": {
      "application/javascript": [
       "\n",
       "            setTimeout(function() {\n",
       "                var nbb_cell_id = 7;\n",
       "                var nbb_unformatted_code = \"for cv_i in range(10):\\n\\n    print(cv_i)\\n\\n    acc = pd.read_csv(\\\"cv_resulsts/CV_\\\" + str(cv_i) + \\\"_acc.txt\\\")\\n    ytest = pd.read_csv(\\\"cv_resulsts/CV_\\\" + str(cv_i) + \\\"_tempytest.txt\\\")\\n\\n    ypredproba_all_class_0 = pd.read_csv(\\n        \\\"cv_resulsts/CV_\\\" + str(cv_i) + \\\"_ypredproba_all_class_0.txt\\\"\\n    ).transpose()\\n    ypredproba_all_class_1 = pd.read_csv(\\n        \\\"cv_resulsts/CV_\\\" + str(cv_i) + \\\"_ypredproba_all_class_1.txt\\\"\\n    ).transpose()\\n    ypredproba_all_class_2 = pd.read_csv(\\n        \\\"cv_resulsts/CV_\\\" + str(cv_i) + \\\"_ypredproba_all_class_2.txt\\\"\\n    ).transpose()\\n    confmatrix = pd.read_csv(\\\"cv_resulsts/CV_\\\" + str(cv_i) + \\\"_confmatrix.txt\\\")\\n\\n    tempacc = pd.DataFrame(np.array(acc), columns=[\\\"acc\\\"])\\n    indexs = tempacc.index\\n    len(indexs)\\n\\n    ypredproba_all_class_0 = ypredproba_all_class_0.iloc[:, indexs]\\n    ypredproba_all_class_1 = ypredproba_all_class_1.iloc[:, indexs]\\n    ypredproba_all_class_2 = ypredproba_all_class_2.iloc[:, indexs]\\n\\n    ypredproba_all_class_0.columns = np.arange(indexs.shape[0])\\n    ypredproba_all_class_1.columns = np.arange(indexs.shape[0])\\n    ypredproba_all_class_2.columns = np.arange(indexs.shape[0])\\n\\n    confmatrix = confmatrix.iloc[indexs, :].reset_index(drop=True)\\n\\n    class0 = []\\n    class1 = []\\n    class2 = []\\n\\n    for i in range(ypredproba_all_class_0.shape[0]):\\n        #         print(i)\\n        temp_c0 = temp_c1 = temp_c2 = 0\\n        for j in range(confmatrix.shape[0]):\\n\\n            temp_c0 += (\\n                ypredproba_all_class_0.iloc[i][j] * confmatrix.iloc[j][0]\\n                + ypredproba_all_class_1.iloc[i][j] * confmatrix.iloc[j][1]\\n                + ypredproba_all_class_2.iloc[i][j] * confmatrix.iloc[j][2]\\n            )\\n\\n            temp_c1 += (\\n                ypredproba_all_class_0.iloc[i][j] * confmatrix.iloc[j][3]\\n                + ypredproba_all_class_1.iloc[i][j] * confmatrix.iloc[j][4]\\n                + ypredproba_all_class_2.iloc[i][j] * confmatrix.iloc[j][5]\\n            )\\n\\n            temp_c2 += (\\n                ypredproba_all_class_0.iloc[i][j] * confmatrix.iloc[j][6]\\n                + ypredproba_all_class_1.iloc[i][j] * confmatrix.iloc[j][7]\\n                + ypredproba_all_class_2.iloc[i][j] * confmatrix.iloc[j][8]\\n            )\\n\\n        class0.append(temp_c0)\\n        class1.append(temp_c1)\\n        class2.append(temp_c2)\\n\\n    finalval = np.argmax(np.column_stack((class0, class1, class2)), axis=1)\\n\\n    print(m.accuracy_score(ytest, finalval))\\n    FinalAccuracy.append(m.accuracy_score(ytest, finalval))\\n    FinalPrecision.append(m.precision_score(ytest, finalval,average=\\\"weighted\\\"))\\n    FinalRecall.append(m.recall_score(ytest, finalval,average=\\\"weighted\\\"))\\n    FinalF1.append(m.f1_score(ytest, finalval,average=\\\"weighted\\\"))\";\n",
       "                var nbb_formatted_code = \"for cv_i in range(10):\\n\\n    print(cv_i)\\n\\n    acc = pd.read_csv(\\\"cv_resulsts/CV_\\\" + str(cv_i) + \\\"_acc.txt\\\")\\n    ytest = pd.read_csv(\\\"cv_resulsts/CV_\\\" + str(cv_i) + \\\"_tempytest.txt\\\")\\n\\n    ypredproba_all_class_0 = pd.read_csv(\\n        \\\"cv_resulsts/CV_\\\" + str(cv_i) + \\\"_ypredproba_all_class_0.txt\\\"\\n    ).transpose()\\n    ypredproba_all_class_1 = pd.read_csv(\\n        \\\"cv_resulsts/CV_\\\" + str(cv_i) + \\\"_ypredproba_all_class_1.txt\\\"\\n    ).transpose()\\n    ypredproba_all_class_2 = pd.read_csv(\\n        \\\"cv_resulsts/CV_\\\" + str(cv_i) + \\\"_ypredproba_all_class_2.txt\\\"\\n    ).transpose()\\n    confmatrix = pd.read_csv(\\\"cv_resulsts/CV_\\\" + str(cv_i) + \\\"_confmatrix.txt\\\")\\n\\n    tempacc = pd.DataFrame(np.array(acc), columns=[\\\"acc\\\"])\\n    indexs = tempacc.index\\n    len(indexs)\\n\\n    ypredproba_all_class_0 = ypredproba_all_class_0.iloc[:, indexs]\\n    ypredproba_all_class_1 = ypredproba_all_class_1.iloc[:, indexs]\\n    ypredproba_all_class_2 = ypredproba_all_class_2.iloc[:, indexs]\\n\\n    ypredproba_all_class_0.columns = np.arange(indexs.shape[0])\\n    ypredproba_all_class_1.columns = np.arange(indexs.shape[0])\\n    ypredproba_all_class_2.columns = np.arange(indexs.shape[0])\\n\\n    confmatrix = confmatrix.iloc[indexs, :].reset_index(drop=True)\\n\\n    class0 = []\\n    class1 = []\\n    class2 = []\\n\\n    for i in range(ypredproba_all_class_0.shape[0]):\\n        #         print(i)\\n        temp_c0 = temp_c1 = temp_c2 = 0\\n        for j in range(confmatrix.shape[0]):\\n\\n            temp_c0 += (\\n                ypredproba_all_class_0.iloc[i][j] * confmatrix.iloc[j][0]\\n                + ypredproba_all_class_1.iloc[i][j] * confmatrix.iloc[j][1]\\n                + ypredproba_all_class_2.iloc[i][j] * confmatrix.iloc[j][2]\\n            )\\n\\n            temp_c1 += (\\n                ypredproba_all_class_0.iloc[i][j] * confmatrix.iloc[j][3]\\n                + ypredproba_all_class_1.iloc[i][j] * confmatrix.iloc[j][4]\\n                + ypredproba_all_class_2.iloc[i][j] * confmatrix.iloc[j][5]\\n            )\\n\\n            temp_c2 += (\\n                ypredproba_all_class_0.iloc[i][j] * confmatrix.iloc[j][6]\\n                + ypredproba_all_class_1.iloc[i][j] * confmatrix.iloc[j][7]\\n                + ypredproba_all_class_2.iloc[i][j] * confmatrix.iloc[j][8]\\n            )\\n\\n        class0.append(temp_c0)\\n        class1.append(temp_c1)\\n        class2.append(temp_c2)\\n\\n    finalval = np.argmax(np.column_stack((class0, class1, class2)), axis=1)\\n\\n    print(m.accuracy_score(ytest, finalval))\\n    FinalAccuracy.append(m.accuracy_score(ytest, finalval))\\n    FinalPrecision.append(m.precision_score(ytest, finalval, average=\\\"weighted\\\"))\\n    FinalRecall.append(m.recall_score(ytest, finalval, average=\\\"weighted\\\"))\\n    FinalF1.append(m.f1_score(ytest, finalval, average=\\\"weighted\\\"))\";\n",
       "                var nbb_cells = Jupyter.notebook.get_cells();\n",
       "                for (var i = 0; i < nbb_cells.length; ++i) {\n",
       "                    if (nbb_cells[i].input_prompt_number == nbb_cell_id) {\n",
       "                        if (nbb_cells[i].get_text() == nbb_unformatted_code) {\n",
       "                             nbb_cells[i].set_text(nbb_formatted_code);\n",
       "                        }\n",
       "                        break;\n",
       "                    }\n",
       "                }\n",
       "            }, 500);\n",
       "            "
      ],
      "text/plain": [
       "<IPython.core.display.Javascript object>"
      ]
     },
     "metadata": {},
     "output_type": "display_data"
    }
   ],
   "source": [
    "for cv_i in range(10):\n",
    "\n",
    "    print(cv_i)\n",
    "\n",
    "    acc = pd.read_csv(\"cv_resulsts/CV_\" + str(cv_i) + \"_acc.txt\")\n",
    "    ytest = pd.read_csv(\"cv_resulsts/CV_\" + str(cv_i) + \"_tempytest.txt\")\n",
    "\n",
    "    ypredproba_all_class_0 = pd.read_csv(\n",
    "        \"cv_resulsts/CV_\" + str(cv_i) + \"_ypredproba_all_class_0.txt\"\n",
    "    ).transpose()\n",
    "    ypredproba_all_class_1 = pd.read_csv(\n",
    "        \"cv_resulsts/CV_\" + str(cv_i) + \"_ypredproba_all_class_1.txt\"\n",
    "    ).transpose()\n",
    "    ypredproba_all_class_2 = pd.read_csv(\n",
    "        \"cv_resulsts/CV_\" + str(cv_i) + \"_ypredproba_all_class_2.txt\"\n",
    "    ).transpose()\n",
    "    confmatrix = pd.read_csv(\"cv_resulsts/CV_\" + str(cv_i) + \"_confmatrix.txt\")\n",
    "\n",
    "    tempacc = pd.DataFrame(np.array(acc), columns=[\"acc\"])\n",
    "    indexs = tempacc.index\n",
    "    len(indexs)\n",
    "\n",
    "    ypredproba_all_class_0 = ypredproba_all_class_0.iloc[:, indexs]\n",
    "    ypredproba_all_class_1 = ypredproba_all_class_1.iloc[:, indexs]\n",
    "    ypredproba_all_class_2 = ypredproba_all_class_2.iloc[:, indexs]\n",
    "\n",
    "    ypredproba_all_class_0.columns = np.arange(indexs.shape[0])\n",
    "    ypredproba_all_class_1.columns = np.arange(indexs.shape[0])\n",
    "    ypredproba_all_class_2.columns = np.arange(indexs.shape[0])\n",
    "\n",
    "    confmatrix = confmatrix.iloc[indexs, :].reset_index(drop=True)\n",
    "\n",
    "    class0 = []\n",
    "    class1 = []\n",
    "    class2 = []\n",
    "\n",
    "    for i in range(ypredproba_all_class_0.shape[0]):\n",
    "        #         print(i)\n",
    "        temp_c0 = temp_c1 = temp_c2 = 0\n",
    "        for j in range(confmatrix.shape[0]):\n",
    "\n",
    "            temp_c0 += (\n",
    "                ypredproba_all_class_0.iloc[i][j] * confmatrix.iloc[j][0]\n",
    "                + ypredproba_all_class_1.iloc[i][j] * confmatrix.iloc[j][1]\n",
    "                + ypredproba_all_class_2.iloc[i][j] * confmatrix.iloc[j][2]\n",
    "            )\n",
    "\n",
    "            temp_c1 += (\n",
    "                ypredproba_all_class_0.iloc[i][j] * confmatrix.iloc[j][3]\n",
    "                + ypredproba_all_class_1.iloc[i][j] * confmatrix.iloc[j][4]\n",
    "                + ypredproba_all_class_2.iloc[i][j] * confmatrix.iloc[j][5]\n",
    "            )\n",
    "\n",
    "            temp_c2 += (\n",
    "                ypredproba_all_class_0.iloc[i][j] * confmatrix.iloc[j][6]\n",
    "                + ypredproba_all_class_1.iloc[i][j] * confmatrix.iloc[j][7]\n",
    "                + ypredproba_all_class_2.iloc[i][j] * confmatrix.iloc[j][8]\n",
    "            )\n",
    "\n",
    "        class0.append(temp_c0)\n",
    "        class1.append(temp_c1)\n",
    "        class2.append(temp_c2)\n",
    "\n",
    "    finalval = np.argmax(np.column_stack((class0, class1, class2)), axis=1)\n",
    "\n",
    "    print(m.accuracy_score(ytest, finalval))\n",
    "    FinalAccuracy.append(m.accuracy_score(ytest, finalval))\n",
    "    FinalPrecision.append(m.precision_score(ytest, finalval, average=\"weighted\"))\n",
    "    FinalRecall.append(m.recall_score(ytest, finalval, average=\"weighted\"))\n",
    "    FinalF1.append(m.f1_score(ytest, finalval, average=\"weighted\"))"
   ]
  },
  {
   "cell_type": "code",
   "execution_count": 8,
   "metadata": {},
   "outputs": [
    {
     "data": {
      "text/plain": [
       "0.7503052735646928"
      ]
     },
     "execution_count": 8,
     "metadata": {},
     "output_type": "execute_result"
    },
    {
     "data": {
      "application/javascript": [
       "\n",
       "            setTimeout(function() {\n",
       "                var nbb_cell_id = 8;\n",
       "                var nbb_unformatted_code = \"np.mean(FinalAccuracy)\";\n",
       "                var nbb_formatted_code = \"np.mean(FinalAccuracy)\";\n",
       "                var nbb_cells = Jupyter.notebook.get_cells();\n",
       "                for (var i = 0; i < nbb_cells.length; ++i) {\n",
       "                    if (nbb_cells[i].input_prompt_number == nbb_cell_id) {\n",
       "                        if (nbb_cells[i].get_text() == nbb_unformatted_code) {\n",
       "                             nbb_cells[i].set_text(nbb_formatted_code);\n",
       "                        }\n",
       "                        break;\n",
       "                    }\n",
       "                }\n",
       "            }, 500);\n",
       "            "
      ],
      "text/plain": [
       "<IPython.core.display.Javascript object>"
      ]
     },
     "metadata": {},
     "output_type": "display_data"
    }
   ],
   "source": [
    "np.mean(FinalAccuracy)"
   ]
  },
  {
   "cell_type": "code",
   "execution_count": 9,
   "metadata": {},
   "outputs": [
    {
     "data": {
      "text/plain": [
       "0.004522995528740559"
      ]
     },
     "execution_count": 9,
     "metadata": {},
     "output_type": "execute_result"
    },
    {
     "data": {
      "application/javascript": [
       "\n",
       "            setTimeout(function() {\n",
       "                var nbb_cell_id = 9;\n",
       "                var nbb_unformatted_code = \"np.std(FinalAccuracy)\";\n",
       "                var nbb_formatted_code = \"np.std(FinalAccuracy)\";\n",
       "                var nbb_cells = Jupyter.notebook.get_cells();\n",
       "                for (var i = 0; i < nbb_cells.length; ++i) {\n",
       "                    if (nbb_cells[i].input_prompt_number == nbb_cell_id) {\n",
       "                        if (nbb_cells[i].get_text() == nbb_unformatted_code) {\n",
       "                             nbb_cells[i].set_text(nbb_formatted_code);\n",
       "                        }\n",
       "                        break;\n",
       "                    }\n",
       "                }\n",
       "            }, 500);\n",
       "            "
      ],
      "text/plain": [
       "<IPython.core.display.Javascript object>"
      ]
     },
     "metadata": {},
     "output_type": "display_data"
    }
   ],
   "source": [
    "np.std(FinalAccuracy)"
   ]
  },
  {
   "cell_type": "code",
   "execution_count": 22,
   "metadata": {},
   "outputs": [
    {
     "name": "stdout",
     "output_type": "stream",
     "text": [
      "Accuracy: 0.75 (+/- 0.005) [] \n",
      " [[0.7468871595330739, 0.7468871595330739, 0.7464980544747082, 0.7529182879377432, 0.7443082311733801, 0.7517026658883051, 0.750340533177661, 0.7470324965946682, 0.7499513524031913, 0.7585133294415256, 0.7583187390542907]]\n"
     ]
    },
    {
     "data": {
      "application/javascript": [
       "\n",
       "            setTimeout(function() {\n",
       "                var nbb_cell_id = 22;\n",
       "                var nbb_unformatted_code = \"print(\\n    \\\"Accuracy: %0.2f (+/- %0.3f) [%s] \\\\n [%s]\\\"\\n    % (np.array(FinalAccuracy).mean(), np.array(FinalAccuracy).std(), \\\"\\\", FinalAccuracy)\\n)\";\n",
       "                var nbb_formatted_code = \"print(\\n    \\\"Accuracy: %0.2f (+/- %0.3f) [%s] \\\\n [%s]\\\"\\n    % (np.array(FinalAccuracy).mean(), np.array(FinalAccuracy).std(), \\\"\\\", FinalAccuracy)\\n)\";\n",
       "                var nbb_cells = Jupyter.notebook.get_cells();\n",
       "                for (var i = 0; i < nbb_cells.length; ++i) {\n",
       "                    if (nbb_cells[i].input_prompt_number == nbb_cell_id) {\n",
       "                        if (nbb_cells[i].get_text() == nbb_unformatted_code) {\n",
       "                             nbb_cells[i].set_text(nbb_formatted_code);\n",
       "                        }\n",
       "                        break;\n",
       "                    }\n",
       "                }\n",
       "            }, 500);\n",
       "            "
      ],
      "text/plain": [
       "<IPython.core.display.Javascript object>"
      ]
     },
     "metadata": {},
     "output_type": "display_data"
    }
   ],
   "source": [
    "print(\n",
    "    \"Accuracy: %0.2f (+/- %0.3f) [%s] \\n [%s]\"\n",
    "    % (np.array(FinalAccuracy).mean(), np.array(FinalAccuracy).std(), \"\", FinalAccuracy)\n",
    ")"
   ]
  },
  {
   "cell_type": "code",
   "execution_count": 21,
   "metadata": {},
   "outputs": [
    {
     "name": "stdout",
     "output_type": "stream",
     "text": [
      "FinalPrecision: 0.748 (+/- 0.00) [] \n",
      " [[0.7434836715840674, 0.7454755888693235, 0.7491588264452427, 0.7408070702360673, 0.7495761527502646, 0.7493791642638451, 0.7425270419244586, 0.7468413352777094, 0.754814197995875, 0.75408394748165]]\n"
     ]
    },
    {
     "data": {
      "application/javascript": [
       "\n",
       "            setTimeout(function() {\n",
       "                var nbb_cell_id = 21;\n",
       "                var nbb_unformatted_code = \"print(\\n    \\\"FinalPrecision: %0.3f (+/- %0.2f) [%s] \\\\n [%s]\\\"\\n    % (\\n        np.array(FinalPrecision).mean(),\\n        np.array(FinalPrecision).std(),\\n        \\\"\\\",\\n        FinalPrecision,\\n    )\\n)\";\n",
       "                var nbb_formatted_code = \"print(\\n    \\\"FinalPrecision: %0.3f (+/- %0.2f) [%s] \\\\n [%s]\\\"\\n    % (\\n        np.array(FinalPrecision).mean(),\\n        np.array(FinalPrecision).std(),\\n        \\\"\\\",\\n        FinalPrecision,\\n    )\\n)\";\n",
       "                var nbb_cells = Jupyter.notebook.get_cells();\n",
       "                for (var i = 0; i < nbb_cells.length; ++i) {\n",
       "                    if (nbb_cells[i].input_prompt_number == nbb_cell_id) {\n",
       "                        if (nbb_cells[i].get_text() == nbb_unformatted_code) {\n",
       "                             nbb_cells[i].set_text(nbb_formatted_code);\n",
       "                        }\n",
       "                        break;\n",
       "                    }\n",
       "                }\n",
       "            }, 500);\n",
       "            "
      ],
      "text/plain": [
       "<IPython.core.display.Javascript object>"
      ]
     },
     "metadata": {},
     "output_type": "display_data"
    }
   ],
   "source": [
    "print(\n",
    "    \"FinalPrecision: %0.3f (+/- %0.2f) [%s] \\n [%s]\"\n",
    "    % (\n",
    "        np.array(FinalPrecision).mean(),\n",
    "        np.array(FinalPrecision).std(),\n",
    "        \"\",\n",
    "        FinalPrecision,\n",
    "    )\n",
    ")"
   ]
  },
  {
   "cell_type": "code",
   "execution_count": 20,
   "metadata": {},
   "outputs": [
    {
     "name": "stdout",
     "output_type": "stream",
     "text": [
      "FinalRecall: 0.75 (+/- 0.005) [] \n",
      " [[0.7468871595330739, 0.7464980544747082, 0.7529182879377432, 0.7443082311733801, 0.7517026658883051, 0.750340533177661, 0.7470324965946682, 0.7499513524031913, 0.7585133294415256, 0.7583187390542907]]\n"
     ]
    },
    {
     "data": {
      "application/javascript": [
       "\n",
       "            setTimeout(function() {\n",
       "                var nbb_cell_id = 20;\n",
       "                var nbb_unformatted_code = \"print(\\n    \\\"FinalRecall: %0.2f (+/- %0.3f) [%s] \\\\n [%s]\\\"\\n    % (np.array(FinalRecall).mean(), np.array(FinalRecall).std(), \\\"\\\", FinalRecall)\\n)\";\n",
       "                var nbb_formatted_code = \"print(\\n    \\\"FinalRecall: %0.2f (+/- %0.3f) [%s] \\\\n [%s]\\\"\\n    % (np.array(FinalRecall).mean(), np.array(FinalRecall).std(), \\\"\\\", FinalRecall)\\n)\";\n",
       "                var nbb_cells = Jupyter.notebook.get_cells();\n",
       "                for (var i = 0; i < nbb_cells.length; ++i) {\n",
       "                    if (nbb_cells[i].input_prompt_number == nbb_cell_id) {\n",
       "                        if (nbb_cells[i].get_text() == nbb_unformatted_code) {\n",
       "                             nbb_cells[i].set_text(nbb_formatted_code);\n",
       "                        }\n",
       "                        break;\n",
       "                    }\n",
       "                }\n",
       "            }, 500);\n",
       "            "
      ],
      "text/plain": [
       "<IPython.core.display.Javascript object>"
      ]
     },
     "metadata": {},
     "output_type": "display_data"
    }
   ],
   "source": [
    "print(\n",
    "    \"FinalRecall: %0.2f (+/- %0.3f) [%s] \\n [%s]\"\n",
    "    % (np.array(FinalRecall).mean(), np.array(FinalRecall).std(), \"\", FinalRecall)\n",
    ")"
   ]
  },
  {
   "cell_type": "code",
   "execution_count": 19,
   "metadata": {},
   "outputs": [
    {
     "name": "stdout",
     "output_type": "stream",
     "text": [
      "FinalF1: 0.75 (+/- 0.004) [] \n",
      " [[0.7447981408528206, 0.7458107093412706, 0.7504058018018133, 0.7420269481103574, 0.7504511879455151, 0.7498436646102544, 0.7434085021049721, 0.7481289602545091, 0.7555908934963916, 0.7552740013097564]]\n"
     ]
    },
    {
     "data": {
      "application/javascript": [
       "\n",
       "            setTimeout(function() {\n",
       "                var nbb_cell_id = 19;\n",
       "                var nbb_unformatted_code = \"print(\\n    \\\"FinalF1: %0.2f (+/- %0.3f) [%s] \\\\n [%s]\\\"\\n    % (np.array(FinalF1).mean(), np.array(FinalF1).std(), \\\"\\\", FinalF1)\\n)\";\n",
       "                var nbb_formatted_code = \"print(\\n    \\\"FinalF1: %0.2f (+/- %0.3f) [%s] \\\\n [%s]\\\"\\n    % (np.array(FinalF1).mean(), np.array(FinalF1).std(), \\\"\\\", FinalF1)\\n)\";\n",
       "                var nbb_cells = Jupyter.notebook.get_cells();\n",
       "                for (var i = 0; i < nbb_cells.length; ++i) {\n",
       "                    if (nbb_cells[i].input_prompt_number == nbb_cell_id) {\n",
       "                        if (nbb_cells[i].get_text() == nbb_unformatted_code) {\n",
       "                             nbb_cells[i].set_text(nbb_formatted_code);\n",
       "                        }\n",
       "                        break;\n",
       "                    }\n",
       "                }\n",
       "            }, 500);\n",
       "            "
      ],
      "text/plain": [
       "<IPython.core.display.Javascript object>"
      ]
     },
     "metadata": {},
     "output_type": "display_data"
    }
   ],
   "source": [
    "print(\n",
    "    \"FinalF1: %0.2f (+/- %0.3f) [%s] \\n [%s]\"\n",
    "    % (np.array(FinalF1).mean(), np.array(FinalF1).std(), \"\", FinalF1)\n",
    ")"
   ]
  },
  {
   "cell_type": "code",
   "execution_count": null,
   "metadata": {},
   "outputs": [],
   "source": []
  },
  {
   "cell_type": "markdown",
   "metadata": {},
   "source": [
    "7 Genetic algorithm\n",
    "===="
   ]
  },
  {
   "cell_type": "code",
   "execution_count": null,
   "metadata": {},
   "outputs": [],
   "source": []
  },
  {
   "cell_type": "code",
   "execution_count": null,
   "metadata": {},
   "outputs": [],
   "source": [
    "import calculateWeightUsingGa2 as aresult\n"
   ]
  },
  {
   "cell_type": "code",
   "execution_count": null,
   "metadata": {},
   "outputs": [],
   "source": [
    "weightvalga"
   ]
  },
  {
   "cell_type": "code",
   "execution_count": null,
   "metadata": {},
   "outputs": [],
   "source": [
    "for cv_i in range(10):\n",
    "\n",
    "    print(cv_i)\n",
    "\n",
    "    acc = pd.read_csv(\"cv_resulsts/CV_\" + str(cv_i) + \"_acc.txt\")\n",
    "    ytest = pd.read_csv(\"cv_resulsts/CV_\" + str(cv_i) + \"_tempytest.txt\")\n",
    "\n",
    "    ypredproba_all_class_0 = pd.read_csv(\n",
    "        \"cv_resulsts/CV_\" + str(cv_i) + \"_ypredproba_all_class_0.txt\"\n",
    "    ).transpose()\n",
    "    ypredproba_all_class_1 = pd.read_csv(\n",
    "        \"cv_resulsts/CV_\" + str(cv_i) + \"_ypredproba_all_class_1.txt\"\n",
    "    ).transpose()\n",
    "    ypredproba_all_class_2 = pd.read_csv(\n",
    "        \"cv_resulsts/CV_\" + str(cv_i) + \"_ypredproba_all_class_2.txt\"\n",
    "    ).transpose()\n",
    "    confmatrix = pd.read_csv(\"cv_resulsts/CV_\" + str(cv_i) + \"_confmatrix.txt\")\n",
    "\n",
    "    \n",
    "    weightvalga = aresult.getbestvalues(acc)\n",
    "\n",
    "    tempacc = pd.DataFrame(np.array(acc), columns=[\"acc\"])\n",
    "    indexs = tempacc.index\n",
    "    len(indexs)\n",
    "\n",
    "    ypredproba_all_class_0 = ypredproba_all_class_0.iloc[:, indexs]\n",
    "    ypredproba_all_class_1 = ypredproba_all_class_1.iloc[:, indexs]\n",
    "    ypredproba_all_class_2 = ypredproba_all_class_2.iloc[:, indexs]\n",
    "\n",
    "    ypredproba_all_class_0.columns = np.arange(indexs.shape[0])\n",
    "    ypredproba_all_class_1.columns = np.arange(indexs.shape[0])\n",
    "    ypredproba_all_class_2.columns = np.arange(indexs.shape[0])\n",
    "\n",
    "    confmatrix = confmatrix.iloc[indexs, :].reset_index(drop=True)\n",
    "\n",
    "    class0 = []\n",
    "    class1 = []\n",
    "    class2 = []\n",
    "\n",
    "    for i in range(ypredproba_all_class_0.shape[0]):\n",
    "        #         print(i)\n",
    "        temp_c0 = temp_c1 = temp_c2 = 0\n",
    "        for j in range(confmatrix.shape[0]):\n",
    "\n",
    "            temp_c0 += (\n",
    "                ypredproba_all_class_0.iloc[i][j] * confmatrix.iloc[j][0]\n",
    "                + ypredproba_all_class_1.iloc[i][j] * confmatrix.iloc[j][1]\n",
    "                + ypredproba_all_class_2.iloc[i][j] * confmatrix.iloc[j][2]\n",
    "            )\n",
    "\n",
    "            temp_c1 += (\n",
    "                ypredproba_all_class_0.iloc[i][j] * confmatrix.iloc[j][3]\n",
    "                + ypredproba_all_class_1.iloc[i][j] * confmatrix.iloc[j][4]\n",
    "                + ypredproba_all_class_2.iloc[i][j] * confmatrix.iloc[j][5]\n",
    "            )\n",
    "\n",
    "            temp_c2 += (\n",
    "                ypredproba_all_class_0.iloc[i][j] * confmatrix.iloc[j][6]\n",
    "                + ypredproba_all_class_1.iloc[i][j] * confmatrix.iloc[j][7]\n",
    "                + ypredproba_all_class_2.iloc[i][j] * confmatrix.iloc[j][8]\n",
    "            )\n",
    "\n",
    "        class0.append(temp_c0)\n",
    "        class1.append(temp_c1)\n",
    "        class2.append(temp_c2)\n",
    "\n",
    "    finalval = np.argmax(np.column_stack((class0, class1, class2)), axis=1)\n",
    "\n",
    "    print(m.accuracy_score(ytest, finalval))\n",
    "    FinalAccuracy.append(m.accuracy_score(ytest, finalval))"
   ]
  }
 ],
 "metadata": {
  "kernelspec": {
   "display_name": "Python 3",
   "language": "python",
   "name": "python3"
  },
  "language_info": {
   "codemirror_mode": {
    "name": "ipython",
    "version": 3
   },
   "file_extension": ".py",
   "mimetype": "text/x-python",
   "name": "python",
   "nbconvert_exporter": "python",
   "pygments_lexer": "ipython3",
   "version": "3.7.7"
  }
 },
 "nbformat": 4,
 "nbformat_minor": 4
}
