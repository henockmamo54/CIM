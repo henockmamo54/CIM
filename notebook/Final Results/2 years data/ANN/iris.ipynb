{
 "cells": [
  {
   "cell_type": "code",
   "execution_count": 5,
   "metadata": {},
   "outputs": [
    {
     "data": {
      "application/javascript": [
       "\n",
       "            setTimeout(function() {\n",
       "                var nbb_cell_id = 5;\n",
       "                var nbb_unformatted_code = \"%load_ext nb_black\\n# !pip install nb_black\\nimport warnings\\n\\nwarnings.filterwarnings(\\\"ignore\\\")\";\n",
       "                var nbb_formatted_code = \"%load_ext nb_black\\n# !pip install nb_black\\nimport warnings\\n\\nwarnings.filterwarnings(\\\"ignore\\\")\";\n",
       "                var nbb_cells = Jupyter.notebook.get_cells();\n",
       "                for (var i = 0; i < nbb_cells.length; ++i) {\n",
       "                    if (nbb_cells[i].input_prompt_number == nbb_cell_id) {\n",
       "                        if (nbb_cells[i].get_text() == nbb_unformatted_code) {\n",
       "                             nbb_cells[i].set_text(nbb_formatted_code);\n",
       "                        }\n",
       "                        break;\n",
       "                    }\n",
       "                }\n",
       "            }, 500);\n",
       "            "
      ],
      "text/plain": [
       "<IPython.core.display.Javascript object>"
      ]
     },
     "metadata": {},
     "output_type": "display_data"
    }
   ],
   "source": [
    "%load_ext nb_black\n",
    "# !pip install nb_black\n",
    "import warnings\n",
    "\n",
    "warnings.filterwarnings(\"ignore\")"
   ]
  },
  {
   "cell_type": "code",
   "execution_count": null,
   "metadata": {},
   "outputs": [],
   "source": []
  },
  {
   "cell_type": "code",
   "execution_count": 6,
   "metadata": {},
   "outputs": [
    {
     "data": {
      "application/javascript": [
       "\n",
       "            setTimeout(function() {\n",
       "                var nbb_cell_id = 6;\n",
       "                var nbb_unformatted_code = \"import pandas as pd\\nimport numpy as np\\nfrom matplotlib import pyplot as plt\\nfrom sklearn import metrics as m\\nfrom sklearn.datasets import make_classification\\nfrom imblearn.over_sampling import SMOTE  # doctest: +NORMALIZE_WHITESPACE\\nfrom sklearn.metrics import confusion_matrix\\nfrom sklearn.metrics import classification_report\\nfrom sklearn.model_selection import train_test_split\\nfrom collections import Counter\\nfrom sklearn.linear_model import LogisticRegression\\nfrom sklearn.neighbors import KNeighborsClassifier\\nfrom sklearn.svm import SVC\\nfrom sklearn.model_selection import GridSearchCV\\nfrom sklearn.model_selection import RandomizedSearchCV\\nfrom sklearn.ensemble import RandomForestClassifier\\nfrom sklearn.ensemble import VotingClassifier\\nimport xgboost as xgb\\nfrom sklearn.pipeline import make_pipeline\\nfrom mlxtend.feature_selection import ColumnSelector\\nfrom sklearn import model_selection\\nfrom mlxtend.classifier import StackingClassifier\\nfrom thundersvm import SVC as svmgpu\\nfrom sklearn.preprocessing import MinMaxScaler\\nfrom imblearn.over_sampling import SMOTE, SMOTENC  # doctest: +NORMALIZE_WHITESPACE\\n\\n# from multiscorer import MultiScorer\\nfrom sklearn.model_selection import cross_val_score\\nfrom numpy import average\\nimport xgboost as xgb\\nfrom sklearn import metrics as m\\nimport itertools\";\n",
       "                var nbb_formatted_code = \"import pandas as pd\\nimport numpy as np\\nfrom matplotlib import pyplot as plt\\nfrom sklearn import metrics as m\\nfrom sklearn.datasets import make_classification\\nfrom imblearn.over_sampling import SMOTE  # doctest: +NORMALIZE_WHITESPACE\\nfrom sklearn.metrics import confusion_matrix\\nfrom sklearn.metrics import classification_report\\nfrom sklearn.model_selection import train_test_split\\nfrom collections import Counter\\nfrom sklearn.linear_model import LogisticRegression\\nfrom sklearn.neighbors import KNeighborsClassifier\\nfrom sklearn.svm import SVC\\nfrom sklearn.model_selection import GridSearchCV\\nfrom sklearn.model_selection import RandomizedSearchCV\\nfrom sklearn.ensemble import RandomForestClassifier\\nfrom sklearn.ensemble import VotingClassifier\\nimport xgboost as xgb\\nfrom sklearn.pipeline import make_pipeline\\nfrom mlxtend.feature_selection import ColumnSelector\\nfrom sklearn import model_selection\\nfrom mlxtend.classifier import StackingClassifier\\nfrom thundersvm import SVC as svmgpu\\nfrom sklearn.preprocessing import MinMaxScaler\\nfrom imblearn.over_sampling import SMOTE, SMOTENC  # doctest: +NORMALIZE_WHITESPACE\\n\\n# from multiscorer import MultiScorer\\nfrom sklearn.model_selection import cross_val_score\\nfrom numpy import average\\nimport xgboost as xgb\\nfrom sklearn import metrics as m\\nimport itertools\";\n",
       "                var nbb_cells = Jupyter.notebook.get_cells();\n",
       "                for (var i = 0; i < nbb_cells.length; ++i) {\n",
       "                    if (nbb_cells[i].input_prompt_number == nbb_cell_id) {\n",
       "                        if (nbb_cells[i].get_text() == nbb_unformatted_code) {\n",
       "                             nbb_cells[i].set_text(nbb_formatted_code);\n",
       "                        }\n",
       "                        break;\n",
       "                    }\n",
       "                }\n",
       "            }, 500);\n",
       "            "
      ],
      "text/plain": [
       "<IPython.core.display.Javascript object>"
      ]
     },
     "metadata": {},
     "output_type": "display_data"
    }
   ],
   "source": [
    "import pandas as pd\n",
    "import numpy as np\n",
    "from matplotlib import pyplot as plt\n",
    "from sklearn import metrics as m\n",
    "from sklearn.datasets import make_classification\n",
    "from imblearn.over_sampling import SMOTE  # doctest: +NORMALIZE_WHITESPACE\n",
    "from sklearn.metrics import confusion_matrix\n",
    "from sklearn.metrics import classification_report\n",
    "from sklearn.model_selection import train_test_split\n",
    "from collections import Counter\n",
    "from sklearn.linear_model import LogisticRegression\n",
    "from sklearn.neighbors import KNeighborsClassifier\n",
    "from sklearn.svm import SVC\n",
    "from sklearn.model_selection import GridSearchCV\n",
    "from sklearn.model_selection import RandomizedSearchCV\n",
    "from sklearn.ensemble import RandomForestClassifier\n",
    "from sklearn.ensemble import VotingClassifier\n",
    "import xgboost as xgb\n",
    "from sklearn.pipeline import make_pipeline\n",
    "from mlxtend.feature_selection import ColumnSelector\n",
    "from sklearn import model_selection\n",
    "from mlxtend.classifier import StackingClassifier\n",
    "from thundersvm import SVC as svmgpu\n",
    "from sklearn.preprocessing import MinMaxScaler\n",
    "from imblearn.over_sampling import SMOTE, SMOTENC  # doctest: +NORMALIZE_WHITESPACE\n",
    "\n",
    "# from multiscorer import MultiScorer\n",
    "from sklearn.model_selection import cross_val_score\n",
    "from numpy import average\n",
    "import xgboost as xgb\n",
    "from sklearn import metrics as m\n",
    "import itertools"
   ]
  },
  {
   "cell_type": "code",
   "execution_count": 7,
   "metadata": {},
   "outputs": [
    {
     "data": {
      "application/javascript": [
       "\n",
       "            setTimeout(function() {\n",
       "                var nbb_cell_id = 7;\n",
       "                var nbb_unformatted_code = \"randomseed = 7\\nnp.random.seed(randomseed)\";\n",
       "                var nbb_formatted_code = \"randomseed = 7\\nnp.random.seed(randomseed)\";\n",
       "                var nbb_cells = Jupyter.notebook.get_cells();\n",
       "                for (var i = 0; i < nbb_cells.length; ++i) {\n",
       "                    if (nbb_cells[i].input_prompt_number == nbb_cell_id) {\n",
       "                        if (nbb_cells[i].get_text() == nbb_unformatted_code) {\n",
       "                             nbb_cells[i].set_text(nbb_formatted_code);\n",
       "                        }\n",
       "                        break;\n",
       "                    }\n",
       "                }\n",
       "            }, 500);\n",
       "            "
      ],
      "text/plain": [
       "<IPython.core.display.Javascript object>"
      ]
     },
     "metadata": {},
     "output_type": "display_data"
    }
   ],
   "source": [
    "randomseed = 7\n",
    "np.random.seed(randomseed)"
   ]
  },
  {
   "cell_type": "code",
   "execution_count": 8,
   "metadata": {},
   "outputs": [
    {
     "data": {
      "application/javascript": [
       "\n",
       "            setTimeout(function() {\n",
       "                var nbb_cell_id = 8;\n",
       "                var nbb_unformatted_code = \"from sklearn import datasets\\nfrom sklearn.model_selection import train_test_split\\n\\ndata=datasets.load_iris()\\nx=data.data\\ny=data.target\\n\\nxtrain,xtest,ytrain,ytest=train_test_split(x,y,random_state=randomseed,test_size=0.2)\";\n",
       "                var nbb_formatted_code = \"from sklearn import datasets\\nfrom sklearn.model_selection import train_test_split\\n\\ndata = datasets.load_iris()\\nx = data.data\\ny = data.target\\n\\nxtrain, xtest, ytrain, ytest = train_test_split(\\n    x, y, random_state=randomseed, test_size=0.2\\n)\";\n",
       "                var nbb_cells = Jupyter.notebook.get_cells();\n",
       "                for (var i = 0; i < nbb_cells.length; ++i) {\n",
       "                    if (nbb_cells[i].input_prompt_number == nbb_cell_id) {\n",
       "                        if (nbb_cells[i].get_text() == nbb_unformatted_code) {\n",
       "                             nbb_cells[i].set_text(nbb_formatted_code);\n",
       "                        }\n",
       "                        break;\n",
       "                    }\n",
       "                }\n",
       "            }, 500);\n",
       "            "
      ],
      "text/plain": [
       "<IPython.core.display.Javascript object>"
      ]
     },
     "metadata": {},
     "output_type": "display_data"
    }
   ],
   "source": [
    "from sklearn import datasets\n",
    "from sklearn.model_selection import train_test_split\n",
    "\n",
    "data=datasets.load_iris()\n",
    "x=data.data\n",
    "y=data.target\n",
    "\n",
    "xtrain,xtest,ytrain,ytest=train_test_split(x,y,random_state=randomseed,test_size=0.2)\n"
   ]
  },
  {
   "cell_type": "code",
   "execution_count": 9,
   "metadata": {},
   "outputs": [
    {
     "data": {
      "application/javascript": [
       "\n",
       "            setTimeout(function() {\n",
       "                var nbb_cell_id = 9;\n",
       "                var nbb_unformatted_code = \"from sklearn.ensemble import RandomForestClassifier\";\n",
       "                var nbb_formatted_code = \"from sklearn.ensemble import RandomForestClassifier\";\n",
       "                var nbb_cells = Jupyter.notebook.get_cells();\n",
       "                for (var i = 0; i < nbb_cells.length; ++i) {\n",
       "                    if (nbb_cells[i].input_prompt_number == nbb_cell_id) {\n",
       "                        if (nbb_cells[i].get_text() == nbb_unformatted_code) {\n",
       "                             nbb_cells[i].set_text(nbb_formatted_code);\n",
       "                        }\n",
       "                        break;\n",
       "                    }\n",
       "                }\n",
       "            }, 500);\n",
       "            "
      ],
      "text/plain": [
       "<IPython.core.display.Javascript object>"
      ]
     },
     "metadata": {},
     "output_type": "display_data"
    }
   ],
   "source": [
    "from sklearn.ensemble import RandomForestClassifier"
   ]
  },
  {
   "cell_type": "code",
   "execution_count": 10,
   "metadata": {},
   "outputs": [
    {
     "data": {
      "application/javascript": [
       "\n",
       "            setTimeout(function() {\n",
       "                var nbb_cell_id = 10;\n",
       "                var nbb_unformatted_code = \"from sklearn.base import clone\\n\\n\\ndef drop_col_feat_imp(model, X_train, y_train, random_state=42):\\n\\n    # clone the model to have the exact same specification as the one initially trained\\n    model_clone = clone(model)\\n    # set random_state for comparability\\n    model_clone.random_state = random_state\\n    # training and scoring the benchmark model\\n    model_clone.fit(X_train, y_train)\\n    benchmark_score = model_clone.score(X_train, y_train)\\n    # list for storing feature importances\\n    importances = []\\n\\n    # iterating over all columns and storing feature importance (difference between benchmark and new model)\\n    for col in X_train.columns:\\n        model_clone = clone(model)\\n        model_clone.random_state = random_state\\n        model_clone.fit(X_train.drop(col, axis=1), y_train)\\n        drop_col_score = model_clone.score(X_train.drop(col, axis=1), y_train)\\n        importances.append(benchmark_score - drop_col_score)\\n\\n    importances_df = imp_df(X_train.columns, importances)\\n    return importances_df\";\n",
       "                var nbb_formatted_code = \"from sklearn.base import clone\\n\\n\\ndef drop_col_feat_imp(model, X_train, y_train, random_state=42):\\n\\n    # clone the model to have the exact same specification as the one initially trained\\n    model_clone = clone(model)\\n    # set random_state for comparability\\n    model_clone.random_state = random_state\\n    # training and scoring the benchmark model\\n    model_clone.fit(X_train, y_train)\\n    benchmark_score = model_clone.score(X_train, y_train)\\n    # list for storing feature importances\\n    importances = []\\n\\n    # iterating over all columns and storing feature importance (difference between benchmark and new model)\\n    for col in X_train.columns:\\n        model_clone = clone(model)\\n        model_clone.random_state = random_state\\n        model_clone.fit(X_train.drop(col, axis=1), y_train)\\n        drop_col_score = model_clone.score(X_train.drop(col, axis=1), y_train)\\n        importances.append(benchmark_score - drop_col_score)\\n\\n    importances_df = imp_df(X_train.columns, importances)\\n    return importances_df\";\n",
       "                var nbb_cells = Jupyter.notebook.get_cells();\n",
       "                for (var i = 0; i < nbb_cells.length; ++i) {\n",
       "                    if (nbb_cells[i].input_prompt_number == nbb_cell_id) {\n",
       "                        if (nbb_cells[i].get_text() == nbb_unformatted_code) {\n",
       "                             nbb_cells[i].set_text(nbb_formatted_code);\n",
       "                        }\n",
       "                        break;\n",
       "                    }\n",
       "                }\n",
       "            }, 500);\n",
       "            "
      ],
      "text/plain": [
       "<IPython.core.display.Javascript object>"
      ]
     },
     "metadata": {},
     "output_type": "display_data"
    }
   ],
   "source": [
    "from sklearn.base import clone\n",
    "\n",
    "\n",
    "def drop_col_feat_imp(model, X_train, y_train, random_state=42):\n",
    "\n",
    "    # clone the model to have the exact same specification as the one initially trained\n",
    "    model_clone = clone(model)\n",
    "    # set random_state for comparability\n",
    "    model_clone.random_state = random_state\n",
    "    # training and scoring the benchmark model\n",
    "    model_clone.fit(X_train, y_train)\n",
    "    benchmark_score = model_clone.score(X_train, y_train)\n",
    "    # list for storing feature importances\n",
    "    importances = []\n",
    "\n",
    "    # iterating over all columns and storing feature importance (difference between benchmark and new model)\n",
    "    for col in X_train.columns:\n",
    "        model_clone = clone(model)\n",
    "        model_clone.random_state = random_state\n",
    "        model_clone.fit(X_train.drop(col, axis=1), y_train)\n",
    "        drop_col_score = model_clone.score(X_train.drop(col, axis=1), y_train)\n",
    "        importances.append(benchmark_score - drop_col_score)\n",
    "\n",
    "    importances_df = imp_df(X_train.columns, importances)\n",
    "    return importances_df"
   ]
  },
  {
   "cell_type": "code",
   "execution_count": 11,
   "metadata": {},
   "outputs": [
    {
     "data": {
      "application/javascript": [
       "\n",
       "            setTimeout(function() {\n",
       "                var nbb_cell_id = 11;\n",
       "                var nbb_unformatted_code = \"rf = RandomForestClassifier(\\n    random_state=randomseed,\\n    n_estimators=100,\\n    max_depth=12,\\n    min_samples_split=2,\\n    min_samples_leaf=10,\\n    max_features=\\\"auto\\\",\\n)\";\n",
       "                var nbb_formatted_code = \"rf = RandomForestClassifier(\\n    random_state=randomseed,\\n    n_estimators=100,\\n    max_depth=12,\\n    min_samples_split=2,\\n    min_samples_leaf=10,\\n    max_features=\\\"auto\\\",\\n)\";\n",
       "                var nbb_cells = Jupyter.notebook.get_cells();\n",
       "                for (var i = 0; i < nbb_cells.length; ++i) {\n",
       "                    if (nbb_cells[i].input_prompt_number == nbb_cell_id) {\n",
       "                        if (nbb_cells[i].get_text() == nbb_unformatted_code) {\n",
       "                             nbb_cells[i].set_text(nbb_formatted_code);\n",
       "                        }\n",
       "                        break;\n",
       "                    }\n",
       "                }\n",
       "            }, 500);\n",
       "            "
      ],
      "text/plain": [
       "<IPython.core.display.Javascript object>"
      ]
     },
     "metadata": {},
     "output_type": "display_data"
    }
   ],
   "source": [
    "rf = RandomForestClassifier(\n",
    "    random_state=randomseed,\n",
    "    n_estimators=100,\n",
    "    max_depth=12,\n",
    "    min_samples_split=2,\n",
    "    min_samples_leaf=10,\n",
    "    max_features=\"auto\",\n",
    ")"
   ]
  },
  {
   "cell_type": "code",
   "execution_count": 12,
   "metadata": {},
   "outputs": [
    {
     "data": {
      "application/javascript": [
       "\n",
       "            setTimeout(function() {\n",
       "                var nbb_cell_id = 12;\n",
       "                var nbb_unformatted_code = \"from sklearn.base import clone\\n\\n\\ndef imp_df(column_names, importances):\\n    df = (\\n        pd.DataFrame({\\\"feature\\\": column_names, \\\"feature_importance\\\": importances})\\n        #         .sort_values(\\\"feature_importance\\\", ascending=False)\\n        #         .reset_index(drop=True)\\n    )\\n    return df\\n\\n\\ndef drop_col_feat_imp(model, X_train, y_train, xtest, ytest, random_state=42):\\n\\n    # clone the model to have the exact same specification as the one initially trained\\n    model_clone = clone(model)\\n    # set random_state for comparability\\n    model_clone.random_state = random_state\\n    # training and scoring the benchmark model\\n    model_clone.fit(X_train, y_train)\\n    benchmark_score = model_clone.score(xtest, ytest)\\n    benchmark_featureimportance = model_clone.feature_importances_\\n\\n    print(benchmark_score)\\n    # list for storing feature importances\\n    importances = []\\n\\n    # iterating over all columns and storing feature importance (difference between benchmark and new model)\\n    for col in X_train.columns:\\n        print(col)\\n        model_clone = clone(model)\\n        model_clone.random_state = random_state\\n        model_clone.fit(X_train.drop(col, axis=1), y_train)\\n        drop_col_score = model_clone.score(xtest.drop(col, axis=1), ytest)\\n        importances.append(benchmark_score - drop_col_score)\\n        print(benchmark_score - drop_col_score, drop_col_score)\\n\\n    importances_df = imp_df(X_train.columns, importances)\\n    return importances_df, benchmark_score, benchmark_featureimportance\";\n",
       "                var nbb_formatted_code = \"from sklearn.base import clone\\n\\n\\ndef imp_df(column_names, importances):\\n    df = (\\n        pd.DataFrame({\\\"feature\\\": column_names, \\\"feature_importance\\\": importances})\\n        #         .sort_values(\\\"feature_importance\\\", ascending=False)\\n        #         .reset_index(drop=True)\\n    )\\n    return df\\n\\n\\ndef drop_col_feat_imp(model, X_train, y_train, xtest, ytest, random_state=42):\\n\\n    # clone the model to have the exact same specification as the one initially trained\\n    model_clone = clone(model)\\n    # set random_state for comparability\\n    model_clone.random_state = random_state\\n    # training and scoring the benchmark model\\n    model_clone.fit(X_train, y_train)\\n    benchmark_score = model_clone.score(xtest, ytest)\\n    benchmark_featureimportance = model_clone.feature_importances_\\n\\n    print(benchmark_score)\\n    # list for storing feature importances\\n    importances = []\\n\\n    # iterating over all columns and storing feature importance (difference between benchmark and new model)\\n    for col in X_train.columns:\\n        print(col)\\n        model_clone = clone(model)\\n        model_clone.random_state = random_state\\n        model_clone.fit(X_train.drop(col, axis=1), y_train)\\n        drop_col_score = model_clone.score(xtest.drop(col, axis=1), ytest)\\n        importances.append(benchmark_score - drop_col_score)\\n        print(benchmark_score - drop_col_score, drop_col_score)\\n\\n    importances_df = imp_df(X_train.columns, importances)\\n    return importances_df, benchmark_score, benchmark_featureimportance\";\n",
       "                var nbb_cells = Jupyter.notebook.get_cells();\n",
       "                for (var i = 0; i < nbb_cells.length; ++i) {\n",
       "                    if (nbb_cells[i].input_prompt_number == nbb_cell_id) {\n",
       "                        if (nbb_cells[i].get_text() == nbb_unformatted_code) {\n",
       "                             nbb_cells[i].set_text(nbb_formatted_code);\n",
       "                        }\n",
       "                        break;\n",
       "                    }\n",
       "                }\n",
       "            }, 500);\n",
       "            "
      ],
      "text/plain": [
       "<IPython.core.display.Javascript object>"
      ]
     },
     "metadata": {},
     "output_type": "display_data"
    }
   ],
   "source": [
    "from sklearn.base import clone\n",
    "\n",
    "\n",
    "def imp_df(column_names, importances):\n",
    "    df = (\n",
    "        pd.DataFrame({\"feature\": column_names, \"feature_importance\": importances})\n",
    "        #         .sort_values(\"feature_importance\", ascending=False)\n",
    "        #         .reset_index(drop=True)\n",
    "    )\n",
    "    return df\n",
    "\n",
    "\n",
    "def drop_col_feat_imp(model, X_train, y_train, xtest, ytest, random_state=42):\n",
    "\n",
    "    # clone the model to have the exact same specification as the one initially trained\n",
    "    model_clone = clone(model)\n",
    "    # set random_state for comparability\n",
    "    model_clone.random_state = random_state\n",
    "    # training and scoring the benchmark model\n",
    "    model_clone.fit(X_train, y_train)\n",
    "    benchmark_score = model_clone.score(xtest, ytest)\n",
    "    benchmark_featureimportance = model_clone.feature_importances_\n",
    "\n",
    "    print(benchmark_score)\n",
    "    # list for storing feature importances\n",
    "    importances = []\n",
    "\n",
    "    # iterating over all columns and storing feature importance (difference between benchmark and new model)\n",
    "    for col in X_train.columns:\n",
    "        print(col)\n",
    "        model_clone = clone(model)\n",
    "        model_clone.random_state = random_state\n",
    "        model_clone.fit(X_train.drop(col, axis=1), y_train)\n",
    "        drop_col_score = model_clone.score(xtest.drop(col, axis=1), ytest)\n",
    "        importances.append(benchmark_score - drop_col_score)\n",
    "        print(benchmark_score - drop_col_score, drop_col_score)\n",
    "\n",
    "    importances_df = imp_df(X_train.columns, importances)\n",
    "    return importances_df, benchmark_score, benchmark_featureimportance"
   ]
  },
  {
   "cell_type": "code",
   "execution_count": 25,
   "metadata": {
    "scrolled": true
   },
   "outputs": [
    {
     "name": "stdout",
     "output_type": "stream",
     "text": [
      "0.8666666666666667\n",
      "sepal length (cm)\n",
      "0.033333333333333326 0.8333333333333334\n",
      "sepal width (cm)\n",
      "0.0 0.8666666666666667\n",
      "petal length (cm)\n",
      "0.0 0.8666666666666667\n",
      "petal width (cm)\n",
      "0.0 0.8666666666666667\n"
     ]
    },
    {
     "data": {
      "application/javascript": [
       "\n",
       "            setTimeout(function() {\n",
       "                var nbb_cell_id = 25;\n",
       "                var nbb_unformatted_code = \"importances_df, benchmark_score, benchmark_featureimportance = drop_col_feat_imp(\\n    rf,\\n    pd.DataFrame(xtrain, columns=data.feature_names),\\n    ytrain,\\n    pd.DataFrame(xtest, columns=data.feature_names),\\n    ytest,\\n    randomseed,\\n)\";\n",
       "                var nbb_formatted_code = \"importances_df, benchmark_score, benchmark_featureimportance = drop_col_feat_imp(\\n    rf,\\n    pd.DataFrame(xtrain, columns=data.feature_names),\\n    ytrain,\\n    pd.DataFrame(xtest, columns=data.feature_names),\\n    ytest,\\n    randomseed,\\n)\";\n",
       "                var nbb_cells = Jupyter.notebook.get_cells();\n",
       "                for (var i = 0; i < nbb_cells.length; ++i) {\n",
       "                    if (nbb_cells[i].input_prompt_number == nbb_cell_id) {\n",
       "                        if (nbb_cells[i].get_text() == nbb_unformatted_code) {\n",
       "                             nbb_cells[i].set_text(nbb_formatted_code);\n",
       "                        }\n",
       "                        break;\n",
       "                    }\n",
       "                }\n",
       "            }, 500);\n",
       "            "
      ],
      "text/plain": [
       "<IPython.core.display.Javascript object>"
      ]
     },
     "metadata": {},
     "output_type": "display_data"
    }
   ],
   "source": [
    "importances_df, benchmark_score, benchmark_featureimportance = drop_col_feat_imp(\n",
    "    rf,\n",
    "    pd.DataFrame(xtrain, columns=data.feature_names),\n",
    "    ytrain,\n",
    "    pd.DataFrame(xtest, columns=data.feature_names),\n",
    "    ytest,\n",
    "    randomseed,\n",
    ")"
   ]
  },
  {
   "cell_type": "code",
   "execution_count": null,
   "metadata": {},
   "outputs": [],
   "source": []
  },
  {
   "cell_type": "code",
   "execution_count": 26,
   "metadata": {},
   "outputs": [
    {
     "data": {
      "application/javascript": [
       "\n",
       "            setTimeout(function() {\n",
       "                var nbb_cell_id = 26;\n",
       "                var nbb_unformatted_code = \"Finalvalue = pd.DataFrame()\\nFinalvalue[\\\"features\\\"] = data.feature_names\\nFinalvalue[\\\"benchmark_featureimportance\\\"] = benchmark_featureimportance\\nFinalvalue[\\\"importances_df\\\"] = -importances_df.feature_importance\\nFinalvalue[\\\"newScore\\\"] = benchmark_score - importances_df.feature_importance\\nFinalvalue = Finalvalue.sort_values(\\n    by=\\\"benchmark_featureimportance\\\", ascending=False\\n).reset_index(drop=True)\";\n",
       "                var nbb_formatted_code = \"Finalvalue = pd.DataFrame()\\nFinalvalue[\\\"features\\\"] = data.feature_names\\nFinalvalue[\\\"benchmark_featureimportance\\\"] = benchmark_featureimportance\\nFinalvalue[\\\"importances_df\\\"] = -importances_df.feature_importance\\nFinalvalue[\\\"newScore\\\"] = benchmark_score - importances_df.feature_importance\\nFinalvalue = Finalvalue.sort_values(\\n    by=\\\"benchmark_featureimportance\\\", ascending=False\\n).reset_index(drop=True)\";\n",
       "                var nbb_cells = Jupyter.notebook.get_cells();\n",
       "                for (var i = 0; i < nbb_cells.length; ++i) {\n",
       "                    if (nbb_cells[i].input_prompt_number == nbb_cell_id) {\n",
       "                        if (nbb_cells[i].get_text() == nbb_unformatted_code) {\n",
       "                             nbb_cells[i].set_text(nbb_formatted_code);\n",
       "                        }\n",
       "                        break;\n",
       "                    }\n",
       "                }\n",
       "            }, 500);\n",
       "            "
      ],
      "text/plain": [
       "<IPython.core.display.Javascript object>"
      ]
     },
     "metadata": {},
     "output_type": "display_data"
    }
   ],
   "source": [
    "Finalvalue = pd.DataFrame()\n",
    "Finalvalue[\"features\"] = data.feature_names\n",
    "Finalvalue[\"benchmark_featureimportance\"] = benchmark_featureimportance\n",
    "Finalvalue[\"importances_df\"] = -importances_df.feature_importance\n",
    "Finalvalue[\"newScore\"] = benchmark_score - importances_df.feature_importance\n",
    "Finalvalue = Finalvalue.sort_values(\n",
    "    by=\"benchmark_featureimportance\", ascending=False\n",
    ").reset_index(drop=True)"
   ]
  },
  {
   "cell_type": "code",
   "execution_count": 33,
   "metadata": {},
   "outputs": [
    {
     "data": {
      "text/plain": [
       "<BarContainer object of 4 artists>"
      ]
     },
     "execution_count": 33,
     "metadata": {},
     "output_type": "execute_result"
    },
    {
     "data": {
      "image/png": "[encoded data removed]",
      "text/plain": [
       "<Figure size 1080x504 with 1 Axes>"
      ]
     },
     "metadata": {
      "needs_background": "light"
     },
     "output_type": "display_data"
    },
    {
     "data": {
      "application/javascript": [
       "\n",
       "            setTimeout(function() {\n",
       "                var nbb_cell_id = 33;\n",
       "                var nbb_unformatted_code = \"plt.rcParams[\\\"figure.figsize\\\"] = (15, 7)\\nplt.title(\\\"Feature importance\\\")\\nplt.bar(Finalvalue.features, Finalvalue.benchmark_featureimportance)\";\n",
       "                var nbb_formatted_code = \"plt.rcParams[\\\"figure.figsize\\\"] = (15, 7)\\nplt.title(\\\"Feature importance\\\")\\nplt.bar(Finalvalue.features, Finalvalue.benchmark_featureimportance)\";\n",
       "                var nbb_cells = Jupyter.notebook.get_cells();\n",
       "                for (var i = 0; i < nbb_cells.length; ++i) {\n",
       "                    if (nbb_cells[i].input_prompt_number == nbb_cell_id) {\n",
       "                        if (nbb_cells[i].get_text() == nbb_unformatted_code) {\n",
       "                             nbb_cells[i].set_text(nbb_formatted_code);\n",
       "                        }\n",
       "                        break;\n",
       "                    }\n",
       "                }\n",
       "            }, 500);\n",
       "            "
      ],
      "text/plain": [
       "<IPython.core.display.Javascript object>"
      ]
     },
     "metadata": {},
     "output_type": "display_data"
    }
   ],
   "source": [
    "plt.rcParams[\"figure.figsize\"] = (15, 7)\n",
    "plt.title(\"Feature importance\")\n",
    "plt.bar(Finalvalue.features, Finalvalue.benchmark_featureimportance)"
   ]
  },
  {
   "cell_type": "code",
   "execution_count": 34,
   "metadata": {},
   "outputs": [
    {
     "data": {
      "text/plain": [
       "[<matplotlib.lines.Line2D at 0x1d478284220>]"
      ]
     },
     "execution_count": 34,
     "metadata": {},
     "output_type": "execute_result"
    },
    {
     "data": {
      "image/png": "[encoded data removed]",
      "text/plain": [
       "<Figure size 1080x504 with 1 Axes>"
      ]
     },
     "metadata": {
      "needs_background": "light"
     },
     "output_type": "display_data"
    },
    {
     "data": {
      "application/javascript": [
       "\n",
       "            setTimeout(function() {\n",
       "                var nbb_cell_id = 34;\n",
       "                var nbb_unformatted_code = \"plt.bar(Finalvalue.features, Finalvalue.importances_df)\\nplt.title(\\\"Accuracy Loss\\\")\\nplt.plot(Finalvalue.features, np.full((4, 1), 0.0), color=\\\"green\\\")\";\n",
       "                var nbb_formatted_code = \"plt.bar(Finalvalue.features, Finalvalue.importances_df)\\nplt.title(\\\"Accuracy Loss\\\")\\nplt.plot(Finalvalue.features, np.full((4, 1), 0.0), color=\\\"green\\\")\";\n",
       "                var nbb_cells = Jupyter.notebook.get_cells();\n",
       "                for (var i = 0; i < nbb_cells.length; ++i) {\n",
       "                    if (nbb_cells[i].input_prompt_number == nbb_cell_id) {\n",
       "                        if (nbb_cells[i].get_text() == nbb_unformatted_code) {\n",
       "                             nbb_cells[i].set_text(nbb_formatted_code);\n",
       "                        }\n",
       "                        break;\n",
       "                    }\n",
       "                }\n",
       "            }, 500);\n",
       "            "
      ],
      "text/plain": [
       "<IPython.core.display.Javascript object>"
      ]
     },
     "metadata": {},
     "output_type": "display_data"
    }
   ],
   "source": [
    "plt.bar(Finalvalue.features, Finalvalue.importances_df)\n",
    "plt.title(\"Accuracy Loss\")\n",
    "plt.plot(Finalvalue.features, np.full((4, 1), 0.0), color=\"green\")"
   ]
  },
  {
   "cell_type": "code",
   "execution_count": 35,
   "metadata": {},
   "outputs": [
    {
     "data": {
      "text/plain": [
       "[<matplotlib.lines.Line2D at 0x1d478766c40>]"
      ]
     },
     "execution_count": 35,
     "metadata": {},
     "output_type": "execute_result"
    },
    {
     "data": {
      "image/png": "[encoded data removed]",
      "text/plain": [
       "<Figure size 1080x504 with 1 Axes>"
      ]
     },
     "metadata": {
      "needs_background": "light"
     },
     "output_type": "display_data"
    },
    {
     "data": {
      "application/javascript": [
       "\n",
       "            setTimeout(function() {\n",
       "                var nbb_cell_id = 35;\n",
       "                var nbb_unformatted_code = \"plt.scatter(Finalvalue.features, Finalvalue.newScore)\\nplt.title(\\\"Accuracy Plot\\\")\\nplt.plot(Finalvalue.features, np.full((4, 1), benchmark_score), color=\\\"green\\\")\";\n",
       "                var nbb_formatted_code = \"plt.scatter(Finalvalue.features, Finalvalue.newScore)\\nplt.title(\\\"Accuracy Plot\\\")\\nplt.plot(Finalvalue.features, np.full((4, 1), benchmark_score), color=\\\"green\\\")\";\n",
       "                var nbb_cells = Jupyter.notebook.get_cells();\n",
       "                for (var i = 0; i < nbb_cells.length; ++i) {\n",
       "                    if (nbb_cells[i].input_prompt_number == nbb_cell_id) {\n",
       "                        if (nbb_cells[i].get_text() == nbb_unformatted_code) {\n",
       "                             nbb_cells[i].set_text(nbb_formatted_code);\n",
       "                        }\n",
       "                        break;\n",
       "                    }\n",
       "                }\n",
       "            }, 500);\n",
       "            "
      ],
      "text/plain": [
       "<IPython.core.display.Javascript object>"
      ]
     },
     "metadata": {},
     "output_type": "display_data"
    }
   ],
   "source": [
    "plt.scatter(Finalvalue.features, Finalvalue.newScore)\n",
    "plt.title(\"Accuracy Plot\")\n",
    "plt.plot(Finalvalue.features, np.full((4, 1), benchmark_score), color=\"green\")"
   ]
  },
  {
   "cell_type": "code",
   "execution_count": 36,
   "metadata": {},
   "outputs": [
    {
     "data": {
      "text/html": [
       "<div>\n",
       "<style scoped>\n",
       "    .dataframe tbody tr th:only-of-type {\n",
       "        vertical-align: middle;\n",
       "    }\n",
       "\n",
       "    .dataframe tbody tr th {\n",
       "        vertical-align: top;\n",
       "    }\n",
       "\n",
       "    .dataframe thead th {\n",
       "        text-align: right;\n",
       "    }\n",
       "</style>\n",
       "<table border=\"1\" class=\"dataframe\">\n",
       "  <thead>\n",
       "    <tr style=\"text-align: right;\">\n",
       "      <th></th>\n",
       "      <th>features</th>\n",
       "      <th>benchmark_featureimportance</th>\n",
       "      <th>importances_df</th>\n",
       "      <th>newScore</th>\n",
       "    </tr>\n",
       "  </thead>\n",
       "  <tbody>\n",
       "    <tr>\n",
       "      <th>0</th>\n",
       "      <td>petal width (cm)</td>\n",
       "      <td>0.443958</td>\n",
       "      <td>-0.000000</td>\n",
       "      <td>0.866667</td>\n",
       "    </tr>\n",
       "    <tr>\n",
       "      <th>1</th>\n",
       "      <td>petal length (cm)</td>\n",
       "      <td>0.433182</td>\n",
       "      <td>-0.000000</td>\n",
       "      <td>0.866667</td>\n",
       "    </tr>\n",
       "    <tr>\n",
       "      <th>2</th>\n",
       "      <td>sepal length (cm)</td>\n",
       "      <td>0.112861</td>\n",
       "      <td>-0.033333</td>\n",
       "      <td>0.833333</td>\n",
       "    </tr>\n",
       "    <tr>\n",
       "      <th>3</th>\n",
       "      <td>sepal width (cm)</td>\n",
       "      <td>0.009999</td>\n",
       "      <td>-0.000000</td>\n",
       "      <td>0.866667</td>\n",
       "    </tr>\n",
       "  </tbody>\n",
       "</table>\n",
       "</div>"
      ],
      "text/plain": [
       "            features  benchmark_featureimportance  importances_df  newScore\n",
       "0   petal width (cm)                     0.443958       -0.000000  0.866667\n",
       "1  petal length (cm)                     0.433182       -0.000000  0.866667\n",
       "2  sepal length (cm)                     0.112861       -0.033333  0.833333\n",
       "3   sepal width (cm)                     0.009999       -0.000000  0.866667"
      ]
     },
     "execution_count": 36,
     "metadata": {},
     "output_type": "execute_result"
    },
    {
     "data": {
      "application/javascript": [
       "\n",
       "            setTimeout(function() {\n",
       "                var nbb_cell_id = 36;\n",
       "                var nbb_unformatted_code = \"Finalvalue\";\n",
       "                var nbb_formatted_code = \"Finalvalue\";\n",
       "                var nbb_cells = Jupyter.notebook.get_cells();\n",
       "                for (var i = 0; i < nbb_cells.length; ++i) {\n",
       "                    if (nbb_cells[i].input_prompt_number == nbb_cell_id) {\n",
       "                        if (nbb_cells[i].get_text() == nbb_unformatted_code) {\n",
       "                             nbb_cells[i].set_text(nbb_formatted_code);\n",
       "                        }\n",
       "                        break;\n",
       "                    }\n",
       "                }\n",
       "            }, 500);\n",
       "            "
      ],
      "text/plain": [
       "<IPython.core.display.Javascript object>"
      ]
     },
     "metadata": {},
     "output_type": "display_data"
    }
   ],
   "source": [
    "Finalvalue"
   ]
  },
  {
   "cell_type": "code",
   "execution_count": null,
   "metadata": {},
   "outputs": [],
   "source": []
  }
 ],
 "metadata": {
  "kernelspec": {
   "display_name": "Python 3",
   "language": "python",
   "name": "python3"
  },
  "language_info": {
   "codemirror_mode": {
    "name": "ipython",
    "version": 3
   },
   "file_extension": ".py",
   "mimetype": "text/x-python",
   "name": "python",
   "nbconvert_exporter": "python",
   "pygments_lexer": "ipython3",
   "version": "3.8.3"
  }
 },
 "nbformat": 4,
 "nbformat_minor": 4
}
