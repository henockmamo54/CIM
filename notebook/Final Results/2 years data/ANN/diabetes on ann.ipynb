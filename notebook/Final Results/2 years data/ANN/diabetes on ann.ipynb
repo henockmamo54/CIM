{
 "cells": [
  {
   "cell_type": "code",
   "execution_count": 1,
   "metadata": {},
   "outputs": [
    {
     "data": {
      "application/javascript": [
       "\n",
       "            setTimeout(function() {\n",
       "                var nbb_cell_id = 1;\n",
       "                var nbb_unformatted_code = \"%load_ext nb_black\\n# !pip install nb_black\\nimport warnings\\n\\nwarnings.filterwarnings(\\\"ignore\\\")\";\n",
       "                var nbb_formatted_code = \"%load_ext nb_black\\n# !pip install nb_black\\nimport warnings\\n\\nwarnings.filterwarnings(\\\"ignore\\\")\";\n",
       "                var nbb_cells = Jupyter.notebook.get_cells();\n",
       "                for (var i = 0; i < nbb_cells.length; ++i) {\n",
       "                    if (nbb_cells[i].input_prompt_number == nbb_cell_id) {\n",
       "                        if (nbb_cells[i].get_text() == nbb_unformatted_code) {\n",
       "                             nbb_cells[i].set_text(nbb_formatted_code);\n",
       "                        }\n",
       "                        break;\n",
       "                    }\n",
       "                }\n",
       "            }, 500);\n",
       "            "
      ],
      "text/plain": [
       "<IPython.core.display.Javascript object>"
      ]
     },
     "metadata": {},
     "output_type": "display_data"
    }
   ],
   "source": [
    "%load_ext nb_black\n",
    "# !pip install nb_black\n",
    "import warnings\n",
    "\n",
    "warnings.filterwarnings(\"ignore\")"
   ]
  },
  {
   "cell_type": "code",
   "execution_count": null,
   "metadata": {},
   "outputs": [],
   "source": []
  },
  {
   "cell_type": "code",
   "execution_count": 2,
   "metadata": {},
   "outputs": [
    {
     "data": {
      "application/javascript": [
       "\n",
       "            setTimeout(function() {\n",
       "                var nbb_cell_id = 2;\n",
       "                var nbb_unformatted_code = \"import pandas as pd\\nimport numpy as np\\nfrom matplotlib import pyplot as plt\\nfrom sklearn import metrics as m\\nfrom sklearn.datasets import make_classification\\nfrom imblearn.over_sampling import SMOTE  # doctest: +NORMALIZE_WHITESPACE\\nfrom sklearn.metrics import confusion_matrix\\nfrom sklearn.metrics import classification_report\\nfrom sklearn.model_selection import train_test_split\\nfrom collections import Counter\\nfrom sklearn.linear_model import LogisticRegression\\nfrom sklearn.neighbors import KNeighborsClassifier\\nfrom sklearn.svm import SVC\\nfrom sklearn.model_selection import GridSearchCV\\nfrom sklearn.model_selection import RandomizedSearchCV\\nfrom sklearn.ensemble import RandomForestClassifier\\nfrom sklearn.ensemble import VotingClassifier\\nimport xgboost as xgb\\nfrom sklearn.pipeline import make_pipeline\\nfrom mlxtend.feature_selection import ColumnSelector\\nfrom sklearn import model_selection\\nfrom mlxtend.classifier import StackingClassifier\\nfrom thundersvm import SVC as svmgpu\\nfrom sklearn.preprocessing import MinMaxScaler\\nfrom imblearn.over_sampling import SMOTE, SMOTENC  # doctest: +NORMALIZE_WHITESPACE\\n\\n# from multiscorer import MultiScorer\\nfrom sklearn.model_selection import cross_val_score\\nfrom numpy import average\\nimport xgboost as xgb\\nfrom sklearn import metrics as m\\nimport itertools\";\n",
       "                var nbb_formatted_code = \"import pandas as pd\\nimport numpy as np\\nfrom matplotlib import pyplot as plt\\nfrom sklearn import metrics as m\\nfrom sklearn.datasets import make_classification\\nfrom imblearn.over_sampling import SMOTE  # doctest: +NORMALIZE_WHITESPACE\\nfrom sklearn.metrics import confusion_matrix\\nfrom sklearn.metrics import classification_report\\nfrom sklearn.model_selection import train_test_split\\nfrom collections import Counter\\nfrom sklearn.linear_model import LogisticRegression\\nfrom sklearn.neighbors import KNeighborsClassifier\\nfrom sklearn.svm import SVC\\nfrom sklearn.model_selection import GridSearchCV\\nfrom sklearn.model_selection import RandomizedSearchCV\\nfrom sklearn.ensemble import RandomForestClassifier\\nfrom sklearn.ensemble import VotingClassifier\\nimport xgboost as xgb\\nfrom sklearn.pipeline import make_pipeline\\nfrom mlxtend.feature_selection import ColumnSelector\\nfrom sklearn import model_selection\\nfrom mlxtend.classifier import StackingClassifier\\nfrom thundersvm import SVC as svmgpu\\nfrom sklearn.preprocessing import MinMaxScaler\\nfrom imblearn.over_sampling import SMOTE, SMOTENC  # doctest: +NORMALIZE_WHITESPACE\\n\\n# from multiscorer import MultiScorer\\nfrom sklearn.model_selection import cross_val_score\\nfrom numpy import average\\nimport xgboost as xgb\\nfrom sklearn import metrics as m\\nimport itertools\";\n",
       "                var nbb_cells = Jupyter.notebook.get_cells();\n",
       "                for (var i = 0; i < nbb_cells.length; ++i) {\n",
       "                    if (nbb_cells[i].input_prompt_number == nbb_cell_id) {\n",
       "                        if (nbb_cells[i].get_text() == nbb_unformatted_code) {\n",
       "                             nbb_cells[i].set_text(nbb_formatted_code);\n",
       "                        }\n",
       "                        break;\n",
       "                    }\n",
       "                }\n",
       "            }, 500);\n",
       "            "
      ],
      "text/plain": [
       "<IPython.core.display.Javascript object>"
      ]
     },
     "metadata": {},
     "output_type": "display_data"
    }
   ],
   "source": [
    "import pandas as pd\n",
    "import numpy as np\n",
    "from matplotlib import pyplot as plt\n",
    "from sklearn import metrics as m\n",
    "from sklearn.datasets import make_classification\n",
    "from imblearn.over_sampling import SMOTE  # doctest: +NORMALIZE_WHITESPACE\n",
    "from sklearn.metrics import confusion_matrix\n",
    "from sklearn.metrics import classification_report\n",
    "from sklearn.model_selection import train_test_split\n",
    "from collections import Counter\n",
    "from sklearn.linear_model import LogisticRegression\n",
    "from sklearn.neighbors import KNeighborsClassifier\n",
    "from sklearn.svm import SVC\n",
    "from sklearn.model_selection import GridSearchCV\n",
    "from sklearn.model_selection import RandomizedSearchCV\n",
    "from sklearn.ensemble import RandomForestClassifier\n",
    "from sklearn.ensemble import VotingClassifier\n",
    "import xgboost as xgb\n",
    "from sklearn.pipeline import make_pipeline\n",
    "from mlxtend.feature_selection import ColumnSelector\n",
    "from sklearn import model_selection\n",
    "from mlxtend.classifier import StackingClassifier\n",
    "from thundersvm import SVC as svmgpu\n",
    "from sklearn.preprocessing import MinMaxScaler\n",
    "from imblearn.over_sampling import SMOTE, SMOTENC  # doctest: +NORMALIZE_WHITESPACE\n",
    "\n",
    "# from multiscorer import MultiScorer\n",
    "from sklearn.model_selection import cross_val_score\n",
    "from numpy import average\n",
    "import xgboost as xgb\n",
    "from sklearn import metrics as m\n",
    "import itertools"
   ]
  },
  {
   "cell_type": "code",
   "execution_count": 3,
   "metadata": {},
   "outputs": [
    {
     "data": {
      "application/javascript": [
       "\n",
       "            setTimeout(function() {\n",
       "                var nbb_cell_id = 3;\n",
       "                var nbb_unformatted_code = \"randomseed = 7\\nnp.random.seed(randomseed)\";\n",
       "                var nbb_formatted_code = \"randomseed = 7\\nnp.random.seed(randomseed)\";\n",
       "                var nbb_cells = Jupyter.notebook.get_cells();\n",
       "                for (var i = 0; i < nbb_cells.length; ++i) {\n",
       "                    if (nbb_cells[i].input_prompt_number == nbb_cell_id) {\n",
       "                        if (nbb_cells[i].get_text() == nbb_unformatted_code) {\n",
       "                             nbb_cells[i].set_text(nbb_formatted_code);\n",
       "                        }\n",
       "                        break;\n",
       "                    }\n",
       "                }\n",
       "            }, 500);\n",
       "            "
      ],
      "text/plain": [
       "<IPython.core.display.Javascript object>"
      ]
     },
     "metadata": {},
     "output_type": "display_data"
    }
   ],
   "source": [
    "randomseed = 7\n",
    "np.random.seed(randomseed)"
   ]
  },
  {
   "cell_type": "code",
   "execution_count": 4,
   "metadata": {},
   "outputs": [
    {
     "name": "stdout",
     "output_type": "stream",
     "text": [
      "(185843, 19)\n",
      "(185843, 2)\n",
      "(169024, 20)\n",
      "(56542, 13)\n",
      "1045 17331 38166\n"
     ]
    },
    {
     "data": {
      "application/javascript": [
       "\n",
       "            setTimeout(function() {\n",
       "                var nbb_cell_id = 4;\n",
       "                var nbb_unformatted_code = \"# read the data set\\nx_original = pd.read_csv(\\\"../../../../dataset/XLable_onlyDiabeticRemoved.txt\\\")\\n\\nconditions = [\\n    (x_original.L100800 < 100),\\n    (x_original.L100800 >= 100) & (x_original.L100800 < 126),\\n    (x_original.L100800 >= 126),\\n]\\nchoices = [0, 1, 2]\\nx_original[\\\"CLASS\\\"] = np.select(conditions, choices, default=0)\\nx_original = x_original[\\n    [\\n        \\\"Unnamed: 0\\\",\\n        \\\"L100800\\\",\\n        \\\"L104600\\\",\\n        \\\"L103000\\\",\\n        \\\"S000300\\\",\\n        \\\"L101700\\\",\\n        \\\"L100700\\\",\\n        \\\"FIELD_33\\\",\\n        \\\"FIELD_38\\\",\\n        \\\"FIELD_40\\\",\\n        \\\"FIELD_31\\\",\\n        \\\"SEX\\\",\\n        \\\"AGE\\\",  #'CLASS',\\n        \\\"FIELD_16\\\",\\n        \\\"FIELD_23\\\",\\n        \\\"FIELD_15\\\",\\n        \\\"FIELD_22\\\",\\n        \\\"FIELD_17\\\",\\n        \\\"FIELD_24\\\",\\n    ]\\n]\\n\\nprint(x_original.shape)\\n\\ny_original = pd.read_csv(\\\"../../../../dataset/TargetLable_onlyDiabeticRemoved.txt\\\")\\n\\nconditions = [\\n    (y_original.L100800 < 100),\\n    (y_original.L100800 >= 100) & (y_original.L100800 < 126),\\n    (y_original.L100800 >= 126),\\n]\\n\\nchoices = [0, 1, 2]\\ny_original[\\\"CLASS\\\"] = np.select(conditions, choices, default=0)\\n\\ny_original = y_original[[\\\"Unnamed: 0\\\", \\\"CLASS\\\"]]\\n\\nprint(y_original.shape)\\n\\ndata = pd.merge(\\n    x_original, y_original, how=\\\"inner\\\", left_on=\\\"Unnamed: 0\\\", right_on=\\\"Unnamed: 0\\\"\\n)\\n\\n# filter the data set\\ndata = data[data.FIELD_16 != 1]  # exclude people who are diagnosed for (diabetes)\\ndata = data[data.FIELD_23 != 1]  # exclude people who are on medication for diabetes\\n\\ndata = data[\\n    data.FIELD_15 != 1\\n]  # exclude people who are diagnosed for (high blood pressure)\\ndata = data[\\n    data.FIELD_22 != 1\\n]  # exclude people who are on medication for high blood pressure\\n\\ndata = data[data.FIELD_17 != 1]  # exclude people who are diagnosed for hyperlipidemia\\ndata = data[\\n    data.FIELD_24 != 1\\n]  # exclude people who are on medication for hyperlipidemia\\n\\nprint(data.shape)\\n\\ndata = data[\\n    [\\n        \\\"L100800\\\",\\n        \\\"L104600\\\",\\n        \\\"L103000\\\",\\n        \\\"S000300\\\",\\n        \\\"L101700\\\",\\n        \\\"L100700\\\",\\n        \\\"FIELD_33\\\",\\n        \\\"FIELD_38\\\",\\n        \\\"FIELD_40\\\",\\n        \\\"FIELD_31\\\",\\n        \\\"SEX\\\",\\n        \\\"AGE\\\",\\n        \\\"CLASS\\\",\\n    ]\\n]\\ndata = data.dropna()\\nprint(data.shape)\\ndata.head()\\n\\ndiabetic = data[data.CLASS == 2]\\nprediabetic = data[data.CLASS == 1]\\nnormal = data[data.CLASS == 0]\\n\\nprint(diabetic.shape[0], prediabetic.shape[0], normal.shape[0])\\n\\ndiabetic_test = diabetic.sample(200, random_state=randomseed)\\nprediabetic_test = prediabetic.sample(200, random_state=randomseed)\\nnormal_test = normal.sample(200, random_state=randomseed)\\ntest = pd.concat([diabetic_test, prediabetic_test, normal_test])\\n\\ndiabetic_train = diabetic.drop(diabetic_test.index)\\nprediabetic_train = prediabetic.drop(prediabetic_test.index)\\n# .sample(\\n#     10 * diabetic_train.shape[0], random_state=randomseed\\n# )\\nnormal_train = normal.drop(normal_test.index).sample(\\n    prediabetic_train.shape[0],\\n    random_state=randomseed\\n    #     10 * diabetic_train.shape[0], random_state=randomseed\\n)\\ntrain = pd.concat([diabetic_train, diabetic_train, prediabetic_train, normal_train])\\n\\n\\nxtrain = train.iloc[:, :-1]\\nxtest = test.iloc[:, :-1]\\n\\nytest = test.iloc[:, -1]\\nytrain = train.iloc[:, -1]\\n\\n\\nscaler = MinMaxScaler()\\nxtrain = scaler.fit_transform(xtrain)\\nxtest = scaler.transform(xtest)\\nrandomseed = 42\\n\\nsm = SMOTE(random_state=randomseed, sampling_strategy=\\\"minority\\\")\\n\\nX_res, y_res = sm.fit_resample(xtrain, ytrain)\\nxtrain = X_res\\nytrain = y_res\";\n",
       "                var nbb_formatted_code = \"# read the data set\\nx_original = pd.read_csv(\\\"../../../../dataset/XLable_onlyDiabeticRemoved.txt\\\")\\n\\nconditions = [\\n    (x_original.L100800 < 100),\\n    (x_original.L100800 >= 100) & (x_original.L100800 < 126),\\n    (x_original.L100800 >= 126),\\n]\\nchoices = [0, 1, 2]\\nx_original[\\\"CLASS\\\"] = np.select(conditions, choices, default=0)\\nx_original = x_original[\\n    [\\n        \\\"Unnamed: 0\\\",\\n        \\\"L100800\\\",\\n        \\\"L104600\\\",\\n        \\\"L103000\\\",\\n        \\\"S000300\\\",\\n        \\\"L101700\\\",\\n        \\\"L100700\\\",\\n        \\\"FIELD_33\\\",\\n        \\\"FIELD_38\\\",\\n        \\\"FIELD_40\\\",\\n        \\\"FIELD_31\\\",\\n        \\\"SEX\\\",\\n        \\\"AGE\\\",  #'CLASS',\\n        \\\"FIELD_16\\\",\\n        \\\"FIELD_23\\\",\\n        \\\"FIELD_15\\\",\\n        \\\"FIELD_22\\\",\\n        \\\"FIELD_17\\\",\\n        \\\"FIELD_24\\\",\\n    ]\\n]\\n\\nprint(x_original.shape)\\n\\ny_original = pd.read_csv(\\\"../../../../dataset/TargetLable_onlyDiabeticRemoved.txt\\\")\\n\\nconditions = [\\n    (y_original.L100800 < 100),\\n    (y_original.L100800 >= 100) & (y_original.L100800 < 126),\\n    (y_original.L100800 >= 126),\\n]\\n\\nchoices = [0, 1, 2]\\ny_original[\\\"CLASS\\\"] = np.select(conditions, choices, default=0)\\n\\ny_original = y_original[[\\\"Unnamed: 0\\\", \\\"CLASS\\\"]]\\n\\nprint(y_original.shape)\\n\\ndata = pd.merge(\\n    x_original, y_original, how=\\\"inner\\\", left_on=\\\"Unnamed: 0\\\", right_on=\\\"Unnamed: 0\\\"\\n)\\n\\n# filter the data set\\ndata = data[data.FIELD_16 != 1]  # exclude people who are diagnosed for (diabetes)\\ndata = data[data.FIELD_23 != 1]  # exclude people who are on medication for diabetes\\n\\ndata = data[\\n    data.FIELD_15 != 1\\n]  # exclude people who are diagnosed for (high blood pressure)\\ndata = data[\\n    data.FIELD_22 != 1\\n]  # exclude people who are on medication for high blood pressure\\n\\ndata = data[data.FIELD_17 != 1]  # exclude people who are diagnosed for hyperlipidemia\\ndata = data[\\n    data.FIELD_24 != 1\\n]  # exclude people who are on medication for hyperlipidemia\\n\\nprint(data.shape)\\n\\ndata = data[\\n    [\\n        \\\"L100800\\\",\\n        \\\"L104600\\\",\\n        \\\"L103000\\\",\\n        \\\"S000300\\\",\\n        \\\"L101700\\\",\\n        \\\"L100700\\\",\\n        \\\"FIELD_33\\\",\\n        \\\"FIELD_38\\\",\\n        \\\"FIELD_40\\\",\\n        \\\"FIELD_31\\\",\\n        \\\"SEX\\\",\\n        \\\"AGE\\\",\\n        \\\"CLASS\\\",\\n    ]\\n]\\ndata = data.dropna()\\nprint(data.shape)\\ndata.head()\\n\\ndiabetic = data[data.CLASS == 2]\\nprediabetic = data[data.CLASS == 1]\\nnormal = data[data.CLASS == 0]\\n\\nprint(diabetic.shape[0], prediabetic.shape[0], normal.shape[0])\\n\\ndiabetic_test = diabetic.sample(200, random_state=randomseed)\\nprediabetic_test = prediabetic.sample(200, random_state=randomseed)\\nnormal_test = normal.sample(200, random_state=randomseed)\\ntest = pd.concat([diabetic_test, prediabetic_test, normal_test])\\n\\ndiabetic_train = diabetic.drop(diabetic_test.index)\\nprediabetic_train = prediabetic.drop(prediabetic_test.index)\\n# .sample(\\n#     10 * diabetic_train.shape[0], random_state=randomseed\\n# )\\nnormal_train = normal.drop(normal_test.index).sample(\\n    prediabetic_train.shape[0],\\n    random_state=randomseed\\n    #     10 * diabetic_train.shape[0], random_state=randomseed\\n)\\ntrain = pd.concat([diabetic_train, diabetic_train, prediabetic_train, normal_train])\\n\\n\\nxtrain = train.iloc[:, :-1]\\nxtest = test.iloc[:, :-1]\\n\\nytest = test.iloc[:, -1]\\nytrain = train.iloc[:, -1]\\n\\n\\nscaler = MinMaxScaler()\\nxtrain = scaler.fit_transform(xtrain)\\nxtest = scaler.transform(xtest)\\nrandomseed = 42\\n\\nsm = SMOTE(random_state=randomseed, sampling_strategy=\\\"minority\\\")\\n\\nX_res, y_res = sm.fit_resample(xtrain, ytrain)\\nxtrain = X_res\\nytrain = y_res\";\n",
       "                var nbb_cells = Jupyter.notebook.get_cells();\n",
       "                for (var i = 0; i < nbb_cells.length; ++i) {\n",
       "                    if (nbb_cells[i].input_prompt_number == nbb_cell_id) {\n",
       "                        if (nbb_cells[i].get_text() == nbb_unformatted_code) {\n",
       "                             nbb_cells[i].set_text(nbb_formatted_code);\n",
       "                        }\n",
       "                        break;\n",
       "                    }\n",
       "                }\n",
       "            }, 500);\n",
       "            "
      ],
      "text/plain": [
       "<IPython.core.display.Javascript object>"
      ]
     },
     "metadata": {},
     "output_type": "display_data"
    }
   ],
   "source": [
    "# read the data set\n",
    "x_original = pd.read_csv(\"../../../../dataset/XLable_onlyDiabeticRemoved.txt\")\n",
    "\n",
    "conditions = [\n",
    "    (x_original.L100800 < 100),\n",
    "    (x_original.L100800 >= 100) & (x_original.L100800 < 126),\n",
    "    (x_original.L100800 >= 126),\n",
    "]\n",
    "choices = [0, 1, 2]\n",
    "x_original[\"CLASS\"] = np.select(conditions, choices, default=0)\n",
    "x_original = x_original[\n",
    "    [\n",
    "        \"Unnamed: 0\",\n",
    "        \"L100800\",\n",
    "        \"L104600\",\n",
    "        \"L103000\",\n",
    "        \"S000300\",\n",
    "        \"L101700\",\n",
    "        \"L100700\",\n",
    "        \"FIELD_33\",\n",
    "        \"FIELD_38\",\n",
    "        \"FIELD_40\",\n",
    "        \"FIELD_31\",\n",
    "        \"SEX\",\n",
    "        \"AGE\",  #'CLASS',\n",
    "        \"FIELD_16\",\n",
    "        \"FIELD_23\",\n",
    "        \"FIELD_15\",\n",
    "        \"FIELD_22\",\n",
    "        \"FIELD_17\",\n",
    "        \"FIELD_24\",\n",
    "    ]\n",
    "]\n",
    "\n",
    "print(x_original.shape)\n",
    "\n",
    "y_original = pd.read_csv(\"../../../../dataset/TargetLable_onlyDiabeticRemoved.txt\")\n",
    "\n",
    "conditions = [\n",
    "    (y_original.L100800 < 100),\n",
    "    (y_original.L100800 >= 100) & (y_original.L100800 < 126),\n",
    "    (y_original.L100800 >= 126),\n",
    "]\n",
    "\n",
    "choices = [0, 1, 2]\n",
    "y_original[\"CLASS\"] = np.select(conditions, choices, default=0)\n",
    "\n",
    "y_original = y_original[[\"Unnamed: 0\", \"CLASS\"]]\n",
    "\n",
    "print(y_original.shape)\n",
    "\n",
    "data = pd.merge(\n",
    "    x_original, y_original, how=\"inner\", left_on=\"Unnamed: 0\", right_on=\"Unnamed: 0\"\n",
    ")\n",
    "\n",
    "# filter the data set\n",
    "data = data[data.FIELD_16 != 1]  # exclude people who are diagnosed for (diabetes)\n",
    "data = data[data.FIELD_23 != 1]  # exclude people who are on medication for diabetes\n",
    "\n",
    "data = data[\n",
    "    data.FIELD_15 != 1\n",
    "]  # exclude people who are diagnosed for (high blood pressure)\n",
    "data = data[\n",
    "    data.FIELD_22 != 1\n",
    "]  # exclude people who are on medication for high blood pressure\n",
    "\n",
    "data = data[data.FIELD_17 != 1]  # exclude people who are diagnosed for hyperlipidemia\n",
    "data = data[\n",
    "    data.FIELD_24 != 1\n",
    "]  # exclude people who are on medication for hyperlipidemia\n",
    "\n",
    "print(data.shape)\n",
    "\n",
    "data = data[\n",
    "    [\n",
    "        \"L100800\",\n",
    "        \"L104600\",\n",
    "        \"L103000\",\n",
    "        \"S000300\",\n",
    "        \"L101700\",\n",
    "        \"L100700\",\n",
    "        \"FIELD_33\",\n",
    "        \"FIELD_38\",\n",
    "        \"FIELD_40\",\n",
    "        \"FIELD_31\",\n",
    "        \"SEX\",\n",
    "        \"AGE\",\n",
    "        \"CLASS\",\n",
    "    ]\n",
    "]\n",
    "data = data.dropna()\n",
    "print(data.shape)\n",
    "data.head()\n",
    "\n",
    "diabetic = data[data.CLASS == 2]\n",
    "prediabetic = data[data.CLASS == 1]\n",
    "normal = data[data.CLASS == 0]\n",
    "\n",
    "print(diabetic.shape[0], prediabetic.shape[0], normal.shape[0])\n",
    "\n",
    "diabetic_test = diabetic.sample(200, random_state=randomseed)\n",
    "prediabetic_test = prediabetic.sample(200, random_state=randomseed)\n",
    "normal_test = normal.sample(200, random_state=randomseed)\n",
    "test = pd.concat([diabetic_test, prediabetic_test, normal_test])\n",
    "\n",
    "diabetic_train = diabetic.drop(diabetic_test.index)\n",
    "prediabetic_train = prediabetic.drop(prediabetic_test.index)\n",
    "# .sample(\n",
    "#     10 * diabetic_train.shape[0], random_state=randomseed\n",
    "# )\n",
    "normal_train = normal.drop(normal_test.index).sample(\n",
    "    prediabetic_train.shape[0],\n",
    "    random_state=randomseed\n",
    "    #     10 * diabetic_train.shape[0], random_state=randomseed\n",
    ")\n",
    "train = pd.concat([diabetic_train, diabetic_train, prediabetic_train, normal_train])\n",
    "\n",
    "\n",
    "xtrain = train.iloc[:, :-1]\n",
    "xtest = test.iloc[:, :-1]\n",
    "\n",
    "ytest = test.iloc[:, -1]\n",
    "ytrain = train.iloc[:, -1]\n",
    "\n",
    "\n",
    "scaler = MinMaxScaler()\n",
    "xtrain = scaler.fit_transform(xtrain)\n",
    "xtest = scaler.transform(xtest)\n",
    "randomseed = 42\n",
    "\n",
    "sm = SMOTE(random_state=randomseed, sampling_strategy=\"minority\")\n",
    "\n",
    "X_res, y_res = sm.fit_resample(xtrain, ytrain)\n",
    "xtrain = X_res\n",
    "ytrain = y_res"
   ]
  },
  {
   "cell_type": "code",
   "execution_count": 5,
   "metadata": {},
   "outputs": [
    {
     "data": {
      "application/javascript": [
       "\n",
       "            setTimeout(function() {\n",
       "                var nbb_cell_id = 5;\n",
       "                var nbb_unformatted_code = \"from keras.models import Sequential\\nfrom keras.layers import Dense\\nfrom keras.layers import Dropout\\nfrom keras.layers.normalization import BatchNormalization\\nimport matplotlib.pyplot as plt\\nimport pandas as pd\\nfrom sklearn import preprocessing\\nfrom sklearn.preprocessing import MinMaxScaler\";\n",
       "                var nbb_formatted_code = \"from keras.models import Sequential\\nfrom keras.layers import Dense\\nfrom keras.layers import Dropout\\nfrom keras.layers.normalization import BatchNormalization\\nimport matplotlib.pyplot as plt\\nimport pandas as pd\\nfrom sklearn import preprocessing\\nfrom sklearn.preprocessing import MinMaxScaler\";\n",
       "                var nbb_cells = Jupyter.notebook.get_cells();\n",
       "                for (var i = 0; i < nbb_cells.length; ++i) {\n",
       "                    if (nbb_cells[i].input_prompt_number == nbb_cell_id) {\n",
       "                        if (nbb_cells[i].get_text() == nbb_unformatted_code) {\n",
       "                             nbb_cells[i].set_text(nbb_formatted_code);\n",
       "                        }\n",
       "                        break;\n",
       "                    }\n",
       "                }\n",
       "            }, 500);\n",
       "            "
      ],
      "text/plain": [
       "<IPython.core.display.Javascript object>"
      ]
     },
     "metadata": {},
     "output_type": "display_data"
    }
   ],
   "source": [
    "from keras.models import Sequential\n",
    "from keras.layers import Dense\n",
    "from keras.layers import Dropout\n",
    "from keras.layers.normalization import BatchNormalization\n",
    "import matplotlib.pyplot as plt\n",
    "import pandas as pd\n",
    "from sklearn import preprocessing\n",
    "from sklearn.preprocessing import MinMaxScaler\n",
    "\n"
   ]
  },
  {
   "cell_type": "code",
   "execution_count": 6,
   "metadata": {},
   "outputs": [
    {
     "data": {
      "text/plain": [
       "(51393, 12)"
      ]
     },
     "execution_count": 6,
     "metadata": {},
     "output_type": "execute_result"
    },
    {
     "data": {
      "application/javascript": [
       "\n",
       "            setTimeout(function() {\n",
       "                var nbb_cell_id = 6;\n",
       "                var nbb_unformatted_code = \"xtrain.shape\";\n",
       "                var nbb_formatted_code = \"xtrain.shape\";\n",
       "                var nbb_cells = Jupyter.notebook.get_cells();\n",
       "                for (var i = 0; i < nbb_cells.length; ++i) {\n",
       "                    if (nbb_cells[i].input_prompt_number == nbb_cell_id) {\n",
       "                        if (nbb_cells[i].get_text() == nbb_unformatted_code) {\n",
       "                             nbb_cells[i].set_text(nbb_formatted_code);\n",
       "                        }\n",
       "                        break;\n",
       "                    }\n",
       "                }\n",
       "            }, 500);\n",
       "            "
      ],
      "text/plain": [
       "<IPython.core.display.Javascript object>"
      ]
     },
     "metadata": {},
     "output_type": "display_data"
    }
   ],
   "source": [
    "xtrain.shape"
   ]
  },
  {
   "cell_type": "code",
   "execution_count": 7,
   "metadata": {
    "scrolled": true
   },
   "outputs": [
    {
     "name": "stdout",
     "output_type": "stream",
     "text": [
      "Epoch 1/150\n",
      "2570/2570 [==============================] - 3s 1ms/step - loss: 8.8565 - accuracy: 0.3369\n",
      "Epoch 2/150\n",
      "2570/2570 [==============================] - 3s 1ms/step - loss: 2.3893 - accuracy: 0.3349\n",
      "Epoch 3/150\n",
      "2570/2570 [==============================] - 4s 1ms/step - loss: 0.3083 - accuracy: 0.3349\n",
      "Epoch 4/150\n",
      "2570/2570 [==============================] - 4s 1ms/step - loss: 0.0609 - accuracy: 0.3333\n",
      "Epoch 5/150\n",
      "2570/2570 [==============================] - 4s 1ms/step - loss: 0.0279 - accuracy: 0.3333\n",
      "Epoch 6/150\n",
      "2570/2570 [==============================] - 4s 1ms/step - loss: 0.0635 - accuracy: 0.3333\n",
      "Epoch 7/150\n",
      "2570/2570 [==============================] - 4s 2ms/step - loss: 0.0061 - accuracy: 0.3333\n",
      "Epoch 8/150\n",
      "2570/2570 [==============================] - 4s 1ms/step - loss: 0.0011 - accuracy: 0.3333\n",
      "Epoch 9/150\n",
      "2570/2570 [==============================] - 3s 1ms/step - loss: -1.2518e-04 - accuracy: 0.3333\n",
      "Epoch 10/150\n",
      "2570/2570 [==============================] - 3s 1ms/step - loss: 6.2296e-04 - accuracy: 0.3333\n",
      "Epoch 11/150\n",
      "2570/2570 [==============================] - 3s 1ms/step - loss: 2.3044e-04 - accuracy: 0.3333\n",
      "Epoch 12/150\n",
      "2570/2570 [==============================] - 3s 1ms/step - loss: 1.5486e-04 - accuracy: 0.3333\n",
      "Epoch 13/150\n",
      "2570/2570 [==============================] - 3s 1ms/step - loss: -2.7018e-08 - accuracy: 0.3333\n",
      "Epoch 14/150\n",
      "2570/2570 [==============================] - 3s 1ms/step - loss: -1.1542e-08 - accuracy: 0.3333\n",
      "Epoch 15/150\n",
      "2570/2570 [==============================] - 3s 1ms/step - loss: 2.5664e-08 - accuracy: 0.3333\n",
      "Epoch 16/150\n",
      "2570/2570 [==============================] - 3s 1ms/step - loss: 2.5460e-08 - accuracy: 0.3333\n",
      "Epoch 17/150\n",
      "2570/2570 [==============================] - 3s 1ms/step - loss: 4.1938e-08 - accuracy: 0.3333\n",
      "Epoch 18/150\n",
      "2570/2570 [==============================] - 3s 1ms/step - loss: 1.1724e-07 - accuracy: 0.3333\n",
      "Epoch 19/150\n",
      "2570/2570 [==============================] - 3s 1ms/step - loss: -1.5068e-08 - accuracy: 0.3333\n",
      "Epoch 20/150\n",
      "2570/2570 [==============================] - 3s 1ms/step - loss: 1.0429e-08 - accuracy: 0.3333\n",
      "Epoch 21/150\n",
      "2570/2570 [==============================] - 3s 1ms/step - loss: -2.6053e-08 - accuracy: 0.3333\n",
      "Epoch 22/150\n",
      "2570/2570 [==============================] - 3s 1ms/step - loss: -2.4272e-08 - accuracy: 0.3333\n",
      "Epoch 23/150\n",
      "2570/2570 [==============================] - 3s 1ms/step - loss: -1.2043e-08 - accuracy: 0.3333\n",
      "Epoch 24/150\n",
      "2570/2570 [==============================] - 3s 1ms/step - loss: -5.1958e-08 - accuracy: 0.3333\n",
      "Epoch 25/150\n",
      "2570/2570 [==============================] - 3s 1ms/step - loss: -4.6020e-08 - accuracy: 0.3333\n",
      "Epoch 26/150\n",
      "2570/2570 [==============================] - 3s 1ms/step - loss: 1.5216e-08 - accuracy: 0.3333\n",
      "Epoch 27/150\n",
      "2570/2570 [==============================] - 3s 1ms/step - loss: -5.8453e-09 - accuracy: 0.3333\n",
      "Epoch 28/150\n",
      "2570/2570 [==============================] - 3s 1ms/step - loss: -6.9216e-09 - accuracy: 0.3333\n",
      "Epoch 29/150\n",
      "2570/2570 [==============================] - 3s 1ms/step - loss: 6.2721e-08 - accuracy: 0.3333\n",
      "Epoch 30/150\n",
      "2570/2570 [==============================] - 3s 1ms/step - loss: -4.0639e-09 - accuracy: 0.3333\n",
      "Epoch 31/150\n",
      "2570/2570 [==============================] - 3s 1ms/step - loss: 1.1245e-08 - accuracy: 0.3333\n",
      "Epoch 32/150\n",
      "2570/2570 [==============================] - 3s 1ms/step - loss: -2.5979e-09 - accuracy: 0.3333\n",
      "Epoch 33/150\n",
      "2570/2570 [==============================] - 3s 1ms/step - loss: -6.8585e-08 - accuracy: 0.3333\n",
      "Epoch 34/150\n",
      "2570/2570 [==============================] - 3s 1ms/step - loss: -7.4226e-09 - accuracy: 0.3333\n",
      "Epoch 35/150\n",
      "2570/2570 [==============================] - 3s 1ms/step - loss: -2.0653e-08 - accuracy: 0.3333\n",
      "Epoch 36/150\n",
      "2570/2570 [==============================] - 3s 1ms/step - loss: 1.2322e-08 - accuracy: 0.3333\n",
      "Epoch 37/150\n",
      "2570/2570 [==============================] - 3s 1ms/step - loss: -1.0392e-09 - accuracy: 0.3333\n",
      "Epoch 38/150\n",
      "2570/2570 [==============================] - 3s 1ms/step - loss: 3.9748e-08 - accuracy: 0.3333\n",
      "Epoch 39/150\n",
      "2570/2570 [==============================] - 3s 1ms/step - loss: 2.9431e-08 - accuracy: 0.3333\n",
      "Epoch 40/150\n",
      "2570/2570 [==============================] - 3s 1ms/step - loss: -6.2721e-08 - accuracy: 0.3333\n",
      "Epoch 41/150\n",
      "2570/2570 [==============================] - 3s 1ms/step - loss: 1.6849e-08 - accuracy: 0.3333\n",
      "Epoch 42/150\n",
      "2570/2570 [==============================] - 3s 1ms/step - loss: 2.8354e-08 - accuracy: 0.3333\n",
      "Epoch 43/150\n",
      "2570/2570 [==============================] - 3s 1ms/step - loss: 7.3113e-09 - accuracy: 0.3333\n",
      "Epoch 44/150\n",
      "2570/2570 [==============================] - 3s 1ms/step - loss: 4.8989e-09 - accuracy: 0.3333\n",
      "Epoch 45/150\n",
      "2570/2570 [==============================] - 3s 1ms/step - loss: 7.7956e-08 - accuracy: 0.3333\n",
      "Epoch 46/150\n",
      "2570/2570 [==============================] - 4s 1ms/step - loss: 7.4226e-09 - accuracy: 0.3333\n",
      "Epoch 47/150\n",
      "2570/2570 [==============================] - 3s 1ms/step - loss: 1.4437e-08 - accuracy: 0.3333\n",
      "Epoch 48/150\n",
      "2570/2570 [==============================] - 3s 1ms/step - loss: 8.3133e-09 - accuracy: 0.3333\n",
      "Epoch 49/150\n",
      "2570/2570 [==============================] - 3s 1ms/step - loss: 7.4968e-09 - accuracy: 0.3333\n",
      "Epoch 50/150\n",
      "2570/2570 [==============================] - 3s 1ms/step - loss: 2.2249e-08 - accuracy: 0.3333\n",
      "Epoch 51/150\n",
      "2570/2570 [==============================] - 3s 1ms/step - loss: -6.2350e-09 - accuracy: 0.3333\n",
      "Epoch 52/150\n",
      "2570/2570 [==============================] - 3s 1ms/step - loss: -1.4177e-08 - accuracy: 0.3333\n",
      "Epoch 53/150\n",
      "2570/2570 [==============================] - 3s 1ms/step - loss: -3.4125e-08 - accuracy: 0.3333\n",
      "Epoch 54/150\n",
      "2570/2570 [==============================] - 3s 1ms/step - loss: 1.8575e-08 - accuracy: 0.3333\n",
      "Epoch 55/150\n",
      "2570/2570 [==============================] - 3s 1ms/step - loss: 1.4381e-08 - accuracy: 0.3333\n",
      "Epoch 56/150\n",
      "2570/2570 [==============================] - 3s 1ms/step - loss: -2.7649e-08 - accuracy: 0.3333\n",
      "Epoch 57/150\n",
      "2570/2570 [==============================] - 3s 1ms/step - loss: -6.7546e-09 - accuracy: 0.3333\n",
      "Epoch 58/150\n",
      "2570/2570 [==============================] - 3s 1ms/step - loss: 1.8649e-08 - accuracy: 0.3333\n",
      "Epoch 59/150\n",
      "2570/2570 [==============================] - 3s 1ms/step - loss: 6.3278e-09 - accuracy: 0.3333\n",
      "Epoch 60/150\n",
      "2570/2570 [==============================] - 3s 1ms/step - loss: 6.6432e-09 - accuracy: 0.3333\n",
      "Epoch 61/150\n",
      "2570/2570 [==============================] - 3s 1ms/step - loss: -2.7556e-08 - accuracy: 0.3333\n",
      "Epoch 62/150\n",
      "2570/2570 [==============================] - 3s 1ms/step - loss: 2.1154e-08 - accuracy: 0.3333\n",
      "Epoch 63/150\n",
      "2570/2570 [==============================] - 3s 1ms/step - loss: -1.6849e-08 - accuracy: 0.3333\n",
      "Epoch 64/150\n",
      "2570/2570 [==============================] - 3s 1ms/step - loss: 1.5216e-08 - accuracy: 0.3333\n",
      "Epoch 65/150\n",
      "2570/2570 [==============================] - 3s 1ms/step - loss: 7.4968e-09 - accuracy: 0.3333\n",
      "Epoch 66/150\n",
      "2570/2570 [==============================] - 3s 1ms/step - loss: -4.8989e-09 - accuracy: 0.3333\n",
      "Epoch 67/150\n",
      "2570/2570 [==============================] - 3s 1ms/step - loss: -1.4938e-08 - accuracy: 0.3333\n",
      "Epoch 68/150\n",
      "2570/2570 [==============================] - 3s 1ms/step - loss: -4.8989e-09 - accuracy: 0.3333\n",
      "Epoch 69/150\n",
      "2570/2570 [==============================] - 3s 1ms/step - loss: 2.6888e-08 - accuracy: 0.3333\n",
      "Epoch 70/150\n",
      "2570/2570 [==============================] - 3s 1ms/step - loss: 3.1546e-09 - accuracy: 0.3333\n",
      "Epoch 71/150\n",
      "2570/2570 [==============================] - 3s 1ms/step - loss: -7.2741e-09 - accuracy: 0.3333\n",
      "Epoch 72/150\n",
      "2570/2570 [==============================] - 3s 1ms/step - loss: 4.4981e-08 - accuracy: 0.3333\n",
      "Epoch 73/150\n",
      "2570/2570 [==============================] - 3s 1ms/step - loss: -4.3738e-08 - accuracy: 0.3333\n",
      "Epoch 74/150\n",
      "2570/2570 [==============================] - 3s 1ms/step - loss: 3.7373e-08 - accuracy: 0.3333\n",
      "Epoch 75/150\n",
      "2570/2570 [==============================] - 3s 1ms/step - loss: 5.4148e-08 - accuracy: 0.3333\n",
      "Epoch 76/150\n",
      "2570/2570 [==============================] - 3s 1ms/step - loss: 3.7113e-08 - accuracy: 0.3333\n"
     ]
    },
    {
     "name": "stdout",
     "output_type": "stream",
     "text": [
      "Epoch 77/150\n",
      "2570/2570 [==============================] - 3s 1ms/step - loss: 3.4441e-08 - accuracy: 0.3333\n",
      "Epoch 78/150\n",
      "2570/2570 [==============================] - 3s 1ms/step - loss: 1.3268e-08 - accuracy: 0.3333\n",
      "Epoch 79/150\n",
      "2570/2570 [==============================] - 3s 1ms/step - loss: -1.3620e-08 - accuracy: 0.3333\n",
      "Epoch 80/150\n",
      "2570/2570 [==============================] - 3s 1ms/step - loss: 2.2305e-08 - accuracy: 0.3333\n",
      "Epoch 81/150\n",
      "2570/2570 [==============================] - 3s 1ms/step - loss: 1.5291e-08 - accuracy: 0.3333\n",
      "Epoch 82/150\n",
      "2570/2570 [==============================] - 4s 1ms/step - loss: -1.9874e-08 - accuracy: 0.3333\n",
      "Epoch 83/150\n",
      "2570/2570 [==============================] - 4s 1ms/step - loss: 2.5422e-09 - accuracy: 0.3333\n",
      "Epoch 84/150\n",
      "2570/2570 [==============================] - 4s 1ms/step - loss: -1.3268e-08 - accuracy: 0.3333\n",
      "Epoch 85/150\n",
      "2570/2570 [==============================] - 3s 1ms/step - loss: -2.8651e-08 - accuracy: 0.3333\n",
      "Epoch 86/150\n",
      "2570/2570 [==============================] - 3s 1ms/step - loss: -8.1092e-09 - accuracy: 0.3333\n",
      "Epoch 87/150\n",
      "2570/2570 [==============================] - 3s 1ms/step - loss: -3.0804e-09 - accuracy: 0.3333\n",
      "Epoch 88/150\n",
      "2570/2570 [==============================] - 3s 1ms/step - loss: 1.3732e-08 - accuracy: 0.3333\n",
      "Epoch 89/150\n",
      "2570/2570 [==============================] - 3s 1ms/step - loss: -6.2535e-09 - accuracy: 0.3333\n",
      "Epoch 90/150\n",
      "2570/2570 [==============================] - 3s 1ms/step - loss: -5.3072e-08 - accuracy: 0.3333\n",
      "Epoch 91/150\n",
      "2570/2570 [==============================] - 3s 1ms/step - loss: -3.3216e-08 - accuracy: 0.3333\n",
      "Epoch 92/150\n",
      "2570/2570 [==============================] - 3s 1ms/step - loss: -6.9030e-09 - accuracy: 0.3333\n",
      "Epoch 93/150\n",
      "2570/2570 [==============================] - 3s 1ms/step - loss: -1.2080e-08 - accuracy: 0.3333\n",
      "Epoch 94/150\n",
      "2570/2570 [==============================] - 3s 1ms/step - loss: 7.1257e-08 - accuracy: 0.3333\n",
      "Epoch 95/150\n",
      "2570/2570 [==============================] - 3s 1ms/step - loss: 4.1567e-09 - accuracy: 0.3333\n",
      "Epoch 96/150\n",
      "2570/2570 [==============================] - 4s 1ms/step - loss: 4.5018e-08 - accuracy: 0.3333\n",
      "Epoch 97/150\n",
      "2570/2570 [==============================] - 4s 1ms/step - loss: 1.2025e-08 - accuracy: 0.3333\n",
      "Epoch 98/150\n",
      "2570/2570 [==============================] - 4s 1ms/step - loss: -3.0099e-08 - accuracy: 0.3333\n",
      "Epoch 99/150\n",
      "2570/2570 [==============================] - 3s 1ms/step - loss: 2.8707e-08 - accuracy: 0.3333\n",
      "Epoch 100/150\n",
      "2570/2570 [==============================] - 3s 1ms/step - loss: -1.4623e-08 - accuracy: 0.3333\n",
      "Epoch 101/150\n",
      "2570/2570 [==============================] - 3s 1ms/step - loss: 1.0243e-08 - accuracy: 0.3333\n",
      "Epoch 102/150\n",
      "2570/2570 [==============================] - 3s 1ms/step - loss: 1.4289e-08 - accuracy: 0.3333\n",
      "Epoch 103/150\n",
      "2570/2570 [==============================] - 3s 1ms/step - loss: 2.1618e-08 - accuracy: 0.3333\n",
      "Epoch 104/150\n",
      "2570/2570 [==============================] - 3s 1ms/step - loss: 6.6803e-10 - accuracy: 0.3333\n",
      "Epoch 105/150\n",
      "2570/2570 [==============================] - 3s 1ms/step - loss: 6.3092e-10 - accuracy: 0.3333\n",
      "Epoch 106/150\n",
      "2570/2570 [==============================] - 3s 1ms/step - loss: 8.4989e-09 - accuracy: 0.3333\n",
      "Epoch 107/150\n",
      "2570/2570 [==============================] - 3s 1ms/step - loss: -4.1492e-08 - accuracy: 0.3333\n",
      "Epoch 108/150\n",
      "2570/2570 [==============================] - 3s 1ms/step - loss: -1.5587e-09 - accuracy: 0.3333\n",
      "Epoch 109/150\n",
      "2570/2570 [==============================] - 3s 1ms/step - loss: -2.8911e-08 - accuracy: 0.3333\n",
      "Epoch 110/150\n",
      "2570/2570 [==============================] - 3s 1ms/step - loss: 8.2391e-09 - accuracy: 0.3333\n",
      "Epoch 111/150\n",
      "2570/2570 [==============================] - 4s 1ms/step - loss: 7.8680e-09 - accuracy: 0.3333\n",
      "Epoch 112/150\n",
      "2570/2570 [==============================] - 4s 2ms/step - loss: -2.1897e-09 - accuracy: 0.3333\n",
      "Epoch 113/150\n",
      "2570/2570 [==============================] - 4s 1ms/step - loss: 1.3843e-08 - accuracy: 0.3333\n",
      "Epoch 114/150\n",
      "2570/2570 [==============================] - 3s 1ms/step - loss: -6.6803e-10 - accuracy: 0.3333\n",
      "Epoch 115/150\n",
      "2570/2570 [==============================] - 3s 1ms/step - loss: 3.3402e-09 - accuracy: 0.3333\n",
      "Epoch 116/150\n",
      "2570/2570 [==============================] - 3s 1ms/step - loss: -7.1071e-09 - accuracy: 0.3333\n",
      "Epoch 117/150\n",
      "2570/2570 [==============================] - 3s 1ms/step - loss: -2.1144e-04 - accuracy: 0.3333\n",
      "Epoch 118/150\n",
      "2570/2570 [==============================] - 3s 1ms/step - loss: -0.0042 - accuracy: 0.3333\n",
      "Epoch 119/150\n",
      "2570/2570 [==============================] - 3s 1ms/step - loss: 0.0016 - accuracy: 0.3333\n",
      "Epoch 120/150\n",
      "2570/2570 [==============================] - 3s 1ms/step - loss: 0.0011 - accuracy: 0.3333 \n",
      "Epoch 121/150\n",
      "2570/2570 [==============================] - 3s 1ms/step - loss: -7.8865e-09 - accuracy: 0.3333\n",
      "Epoch 122/150\n",
      "2570/2570 [==============================] - 3s 1ms/step - loss: -3.0989e-08 - accuracy: 0.3333\n",
      "Epoch 123/150\n",
      "2570/2570 [==============================] - 3s 1ms/step - loss: -2.8948e-08 - accuracy: 0.3333\n",
      "Epoch 124/150\n",
      "2570/2570 [==============================] - 3s 1ms/step - loss: 1.5216e-09 - accuracy: 0.3333\n",
      "Epoch 125/150\n",
      "2570/2570 [==============================] - 3s 1ms/step - loss: -2.1600e-08 - accuracy: 0.3333\n",
      "Epoch 126/150\n",
      "2570/2570 [==============================] - 3s 1ms/step - loss: -3.0433e-09 - accuracy: 0.3333\n",
      "Epoch 127/150\n",
      "2570/2570 [==============================] - 3s 1ms/step - loss: 1.8519e-08 - accuracy: 0.3333\n",
      "Epoch 128/150\n",
      "2570/2570 [==============================] - 3s 1ms/step - loss: -6.7917e-09 - accuracy: 0.3333\n",
      "Epoch 129/150\n",
      "2570/2570 [==============================] - 3s 1ms/step - loss: -1.1060e-08 - accuracy: 0.3333\n",
      "Epoch 130/150\n",
      "2570/2570 [==============================] - 3s 1ms/step - loss: 1.8111e-08 - accuracy: 0.3333\n",
      "Epoch 131/150\n",
      "2570/2570 [==============================] - 3s 1ms/step - loss: 7.0515e-09 - accuracy: 0.3333\n",
      "Epoch 132/150\n",
      "2570/2570 [==============================] - 3s 1ms/step - loss: -1.5587e-09 - accuracy: 0.3333\n",
      "Epoch 133/150\n",
      "2570/2570 [==============================] - 3s 1ms/step - loss: -1.4845e-10 - accuracy: 0.3333\n",
      "Epoch 134/150\n",
      "2570/2570 [==============================] - 3s 1ms/step - loss: 5.5670e-11 - accuracy: 0.3333\n",
      "Epoch 135/150\n",
      "2570/2570 [==============================] - 3s 1ms/step - loss: 2.5518e-04 - accuracy: 0.3333\n",
      "Epoch 136/150\n",
      "2570/2570 [==============================] - 3s 1ms/step - loss: 1.0948e-08 - accuracy: 0.3333\n",
      "Epoch 137/150\n",
      "2570/2570 [==============================] - 3s 1ms/step - loss: 5.3164e-08 - accuracy: 0.3333\n",
      "Epoch 138/150\n",
      "2570/2570 [==============================] - 3s 1ms/step - loss: -1.1950e-08 - accuracy: 0.3333\n",
      "Epoch 139/150\n",
      "2570/2570 [==============================] - 3s 1ms/step - loss: 2.8577e-09 - accuracy: 0.3333\n",
      "Epoch 140/150\n",
      "2570/2570 [==============================] - 3s 1ms/step - loss: -2.5738e-08 - accuracy: 0.3333\n",
      "Epoch 141/150\n",
      "2570/2570 [==============================] - 3s 1ms/step - loss: 2.0412e-08 - accuracy: 0.3333\n",
      "Epoch 142/150\n",
      "2570/2570 [==============================] - 3s 1ms/step - loss: 2.8391e-08 - accuracy: 0.3333\n",
      "Epoch 143/150\n",
      "2570/2570 [==============================] - 3s 1ms/step - loss: 5.5447e-08 - accuracy: 0.3333\n",
      "Epoch 144/150\n",
      "2570/2570 [==============================] - 3s 1ms/step - loss: -7.6824e-09 - accuracy: 0.3333\n",
      "Epoch 145/150\n",
      "2570/2570 [==============================] - 3s 1ms/step - loss: 5.3072e-09 - accuracy: 0.3333\n",
      "Epoch 146/150\n",
      "2570/2570 [==============================] - 3s 1ms/step - loss: -1.8557e-08 - accuracy: 0.3333\n",
      "Epoch 147/150\n",
      "2570/2570 [==============================] - 3s 1ms/step - loss: 2.3159e-08 - accuracy: 0.3333\n",
      "Epoch 148/150\n",
      "2570/2570 [==============================] - 3s 1ms/step - loss: 2.0301e-08 - accuracy: 0.3333\n",
      "Epoch 149/150\n",
      "2570/2570 [==============================] - 3s 1ms/step - loss: -1.9410e-08 - accuracy: 0.3333\n",
      "Epoch 150/150\n",
      "2570/2570 [==============================] - 3s 1ms/step - loss: 1.0985e-08 - accuracy: 0.3333\n",
      "19/19 [==============================] - 0s 630us/step - loss: -3.0518e-07 - accuracy: 0.3333\n",
      "accuracy: 33.33%\n"
     ]
    },
    {
     "data": {
      "application/javascript": [
       "\n",
       "            setTimeout(function() {\n",
       "                var nbb_cell_id = 7;\n",
       "                var nbb_unformatted_code = \"# Using Relu activation, and Adam optimizer, 50 epochs\\nmodel = Sequential()\\nmodel.add(Dense(16, input_dim=12, activation=\\\"relu\\\"))\\nmodel.add(Dropout(0.2, input_shape=(60,)))\\n\\n\\nmodel.add(Dense(16, activation=\\\"relu\\\"))\\nmodel.add(Dropout(0.2, input_shape=(60,)))\\nmodel.add(BatchNormalization())\\n\\nmodel.add(Dense(16, activation=\\\"relu\\\"))\\nmodel.add(Dropout(0.2, input_shape=(60,)))\\nmodel.add(BatchNormalization())\\n\\nmodel.add(Dense(8, activation=\\\"relu\\\"))\\nmodel.add(Dropout(0.2, input_shape=(60,)))\\nmodel.add(BatchNormalization())\\n\\nmodel.add(Dense(8, activation=\\\"relu\\\"))\\nmodel.add(Dropout(0.2, input_shape=(60,)))\\nmodel.add(BatchNormalization())\\n\\nmodel.add(Dense(8, activation=\\\"relu\\\"))\\nmodel.add(Dropout(0.2, input_shape=(60,)))\\nmodel.add(BatchNormalization())\\n\\nmodel.add(Dense(4, activation=\\\"relu\\\"))\\nmodel.add(Dropout(0.2, input_shape=(60,)))\\nmodel.add(BatchNormalization())\\n\\nmodel.add(Dense(4, activation=\\\"relu\\\"))\\nmodel.add(Dropout(0.2, input_shape=(60,)))\\nmodel.add(BatchNormalization())\\n\\nmodel.add(Dense(2, activation=\\\"relu\\\"))\\nmodel.add(Dropout(0.2, input_shape=(60,)))\\nmodel.add(BatchNormalization())\\n\\nmodel.add(Dense(2, activation=\\\"relu\\\"))\\nmodel.add(Dropout(0.2, input_shape=(60,)))\\nmodel.add(BatchNormalization())\\n\\nmodel.add(Dense(1, activation=\\\"relu\\\"))\\nmodel.compile(loss=\\\"binary_crossentropy\\\", optimizer=\\\"adam\\\", metrics=[\\\"accuracy\\\"])\\n# Train model\\nhistory = model.fit(xtrain, ytrain, epochs=150, batch_size=20, verbose=1)\\n# Print Accuracy\\nscores = model.evaluate(xtest, ytest)\\nprint(\\\"%s: %.2f%%\\\" % (model.metrics_names[1], scores[1] * 100))\";\n",
       "                var nbb_formatted_code = \"# Using Relu activation, and Adam optimizer, 50 epochs\\nmodel = Sequential()\\nmodel.add(Dense(16, input_dim=12, activation=\\\"relu\\\"))\\nmodel.add(Dropout(0.2, input_shape=(60,)))\\n\\n\\nmodel.add(Dense(16, activation=\\\"relu\\\"))\\nmodel.add(Dropout(0.2, input_shape=(60,)))\\nmodel.add(BatchNormalization())\\n\\nmodel.add(Dense(16, activation=\\\"relu\\\"))\\nmodel.add(Dropout(0.2, input_shape=(60,)))\\nmodel.add(BatchNormalization())\\n\\nmodel.add(Dense(8, activation=\\\"relu\\\"))\\nmodel.add(Dropout(0.2, input_shape=(60,)))\\nmodel.add(BatchNormalization())\\n\\nmodel.add(Dense(8, activation=\\\"relu\\\"))\\nmodel.add(Dropout(0.2, input_shape=(60,)))\\nmodel.add(BatchNormalization())\\n\\nmodel.add(Dense(8, activation=\\\"relu\\\"))\\nmodel.add(Dropout(0.2, input_shape=(60,)))\\nmodel.add(BatchNormalization())\\n\\nmodel.add(Dense(4, activation=\\\"relu\\\"))\\nmodel.add(Dropout(0.2, input_shape=(60,)))\\nmodel.add(BatchNormalization())\\n\\nmodel.add(Dense(4, activation=\\\"relu\\\"))\\nmodel.add(Dropout(0.2, input_shape=(60,)))\\nmodel.add(BatchNormalization())\\n\\nmodel.add(Dense(2, activation=\\\"relu\\\"))\\nmodel.add(Dropout(0.2, input_shape=(60,)))\\nmodel.add(BatchNormalization())\\n\\nmodel.add(Dense(2, activation=\\\"relu\\\"))\\nmodel.add(Dropout(0.2, input_shape=(60,)))\\nmodel.add(BatchNormalization())\\n\\nmodel.add(Dense(1, activation=\\\"relu\\\"))\\nmodel.compile(loss=\\\"binary_crossentropy\\\", optimizer=\\\"adam\\\", metrics=[\\\"accuracy\\\"])\\n# Train model\\nhistory = model.fit(xtrain, ytrain, epochs=150, batch_size=20, verbose=1)\\n# Print Accuracy\\nscores = model.evaluate(xtest, ytest)\\nprint(\\\"%s: %.2f%%\\\" % (model.metrics_names[1], scores[1] * 100))\";\n",
       "                var nbb_cells = Jupyter.notebook.get_cells();\n",
       "                for (var i = 0; i < nbb_cells.length; ++i) {\n",
       "                    if (nbb_cells[i].input_prompt_number == nbb_cell_id) {\n",
       "                        if (nbb_cells[i].get_text() == nbb_unformatted_code) {\n",
       "                             nbb_cells[i].set_text(nbb_formatted_code);\n",
       "                        }\n",
       "                        break;\n",
       "                    }\n",
       "                }\n",
       "            }, 500);\n",
       "            "
      ],
      "text/plain": [
       "<IPython.core.display.Javascript object>"
      ]
     },
     "metadata": {},
     "output_type": "display_data"
    }
   ],
   "source": [
    "# Using Relu activation, and Adam optimizer, 50 epochs\n",
    "model = Sequential()\n",
    "model.add(Dense(16, input_dim=12, activation=\"relu\"))\n",
    "model.add(Dropout(0.2, input_shape=(60,)))\n",
    "\n",
    "\n",
    "model.add(Dense(16, activation=\"relu\"))\n",
    "model.add(Dropout(0.2, input_shape=(60,)))\n",
    "model.add(BatchNormalization())\n",
    "\n",
    "model.add(Dense(16, activation=\"relu\"))\n",
    "model.add(Dropout(0.2, input_shape=(60,)))\n",
    "model.add(BatchNormalization())\n",
    "\n",
    "model.add(Dense(8, activation=\"relu\"))\n",
    "model.add(Dropout(0.2, input_shape=(60,)))\n",
    "model.add(BatchNormalization())\n",
    "\n",
    "model.add(Dense(8, activation=\"relu\"))\n",
    "model.add(Dropout(0.2, input_shape=(60,)))\n",
    "model.add(BatchNormalization())\n",
    "\n",
    "model.add(Dense(8, activation=\"relu\"))\n",
    "model.add(Dropout(0.2, input_shape=(60,)))\n",
    "model.add(BatchNormalization())\n",
    "\n",
    "model.add(Dense(4, activation=\"relu\"))\n",
    "model.add(Dropout(0.2, input_shape=(60,)))\n",
    "model.add(BatchNormalization())\n",
    "\n",
    "model.add(Dense(4, activation=\"relu\"))\n",
    "model.add(Dropout(0.2, input_shape=(60,)))\n",
    "model.add(BatchNormalization())\n",
    "\n",
    "model.add(Dense(2, activation=\"relu\"))\n",
    "model.add(Dropout(0.2, input_shape=(60,)))\n",
    "model.add(BatchNormalization())\n",
    "\n",
    "model.add(Dense(2, activation=\"relu\"))\n",
    "model.add(Dropout(0.2, input_shape=(60,)))\n",
    "model.add(BatchNormalization())\n",
    "\n",
    "model.add(Dense(1, activation=\"relu\"))\n",
    "model.compile(loss=\"binary_crossentropy\", optimizer=\"adam\", metrics=[\"accuracy\"])\n",
    "# Train model\n",
    "history = model.fit(xtrain, ytrain, epochs=150, batch_size=20, verbose=1)\n",
    "# Print Accuracy\n",
    "scores = model.evaluate(xtest, ytest)\n",
    "print(\"%s: %.2f%%\" % (model.metrics_names[1], scores[1] * 100))"
   ]
  },
  {
   "cell_type": "code",
   "execution_count": null,
   "metadata": {},
   "outputs": [],
   "source": []
  },
  {
   "cell_type": "code",
   "execution_count": 8,
   "metadata": {},
   "outputs": [
    {
     "data": {
      "application/javascript": [
       "\n",
       "            setTimeout(function() {\n",
       "                var nbb_cell_id = 8;\n",
       "                var nbb_unformatted_code = \"from sklearn.ensemble import RandomForestClassifier\";\n",
       "                var nbb_formatted_code = \"from sklearn.ensemble import RandomForestClassifier\";\n",
       "                var nbb_cells = Jupyter.notebook.get_cells();\n",
       "                for (var i = 0; i < nbb_cells.length; ++i) {\n",
       "                    if (nbb_cells[i].input_prompt_number == nbb_cell_id) {\n",
       "                        if (nbb_cells[i].get_text() == nbb_unformatted_code) {\n",
       "                             nbb_cells[i].set_text(nbb_formatted_code);\n",
       "                        }\n",
       "                        break;\n",
       "                    }\n",
       "                }\n",
       "            }, 500);\n",
       "            "
      ],
      "text/plain": [
       "<IPython.core.display.Javascript object>"
      ]
     },
     "metadata": {},
     "output_type": "display_data"
    }
   ],
   "source": [
    "from sklearn.ensemble import RandomForestClassifier"
   ]
  },
  {
   "cell_type": "code",
   "execution_count": 9,
   "metadata": {},
   "outputs": [
    {
     "data": {
      "application/javascript": [
       "\n",
       "            setTimeout(function() {\n",
       "                var nbb_cell_id = 9;\n",
       "                var nbb_unformatted_code = \"from sklearn.base import clone\\n\\n\\ndef drop_col_feat_imp(model, X_train, y_train, random_state=42):\\n\\n    # clone the model to have the exact same specification as the one initially trained\\n    model_clone = clone(model)\\n    # set random_state for comparability\\n    model_clone.random_state = random_state\\n    # training and scoring the benchmark model\\n    model_clone.fit(X_train, y_train)\\n    benchmark_score = model_clone.score(X_train, y_train)\\n    # list for storing feature importances\\n    importances = []\\n\\n    # iterating over all columns and storing feature importance (difference between benchmark and new model)\\n    for col in X_train.columns:\\n        model_clone = clone(model)\\n        model_clone.random_state = random_state\\n        model_clone.fit(X_train.drop(col, axis=1), y_train)\\n        drop_col_score = model_clone.score(X_train.drop(col, axis=1), y_train)\\n        importances.append(benchmark_score - drop_col_score)\\n\\n    importances_df = imp_df(X_train.columns, importances)\\n    return importances_df\";\n",
       "                var nbb_formatted_code = \"from sklearn.base import clone\\n\\n\\ndef drop_col_feat_imp(model, X_train, y_train, random_state=42):\\n\\n    # clone the model to have the exact same specification as the one initially trained\\n    model_clone = clone(model)\\n    # set random_state for comparability\\n    model_clone.random_state = random_state\\n    # training and scoring the benchmark model\\n    model_clone.fit(X_train, y_train)\\n    benchmark_score = model_clone.score(X_train, y_train)\\n    # list for storing feature importances\\n    importances = []\\n\\n    # iterating over all columns and storing feature importance (difference between benchmark and new model)\\n    for col in X_train.columns:\\n        model_clone = clone(model)\\n        model_clone.random_state = random_state\\n        model_clone.fit(X_train.drop(col, axis=1), y_train)\\n        drop_col_score = model_clone.score(X_train.drop(col, axis=1), y_train)\\n        importances.append(benchmark_score - drop_col_score)\\n\\n    importances_df = imp_df(X_train.columns, importances)\\n    return importances_df\";\n",
       "                var nbb_cells = Jupyter.notebook.get_cells();\n",
       "                for (var i = 0; i < nbb_cells.length; ++i) {\n",
       "                    if (nbb_cells[i].input_prompt_number == nbb_cell_id) {\n",
       "                        if (nbb_cells[i].get_text() == nbb_unformatted_code) {\n",
       "                             nbb_cells[i].set_text(nbb_formatted_code);\n",
       "                        }\n",
       "                        break;\n",
       "                    }\n",
       "                }\n",
       "            }, 500);\n",
       "            "
      ],
      "text/plain": [
       "<IPython.core.display.Javascript object>"
      ]
     },
     "metadata": {},
     "output_type": "display_data"
    }
   ],
   "source": [
    "from sklearn.base import clone\n",
    "\n",
    "\n",
    "def drop_col_feat_imp(model, X_train, y_train, random_state=42):\n",
    "\n",
    "    # clone the model to have the exact same specification as the one initially trained\n",
    "    model_clone = clone(model)\n",
    "    # set random_state for comparability\n",
    "    model_clone.random_state = random_state\n",
    "    # training and scoring the benchmark model\n",
    "    model_clone.fit(X_train, y_train)\n",
    "    benchmark_score = model_clone.score(X_train, y_train)\n",
    "    # list for storing feature importances\n",
    "    importances = []\n",
    "\n",
    "    # iterating over all columns and storing feature importance (difference between benchmark and new model)\n",
    "    for col in X_train.columns:\n",
    "        model_clone = clone(model)\n",
    "        model_clone.random_state = random_state\n",
    "        model_clone.fit(X_train.drop(col, axis=1), y_train)\n",
    "        drop_col_score = model_clone.score(X_train.drop(col, axis=1), y_train)\n",
    "        importances.append(benchmark_score - drop_col_score)\n",
    "\n",
    "    importances_df = imp_df(X_train.columns, importances)\n",
    "    return importances_df"
   ]
  },
  {
   "cell_type": "code",
   "execution_count": 10,
   "metadata": {},
   "outputs": [
    {
     "data": {
      "application/javascript": [
       "\n",
       "            setTimeout(function() {\n",
       "                var nbb_cell_id = 10;\n",
       "                var nbb_unformatted_code = \"rf = RandomForestClassifier(\\n    random_state=randomseed,\\n    n_estimators=100,\\n    max_depth=12,\\n    min_samples_split=2,\\n    min_samples_leaf=10,\\n    max_features=\\\"auto\\\",\\n)\";\n",
       "                var nbb_formatted_code = \"rf = RandomForestClassifier(\\n    random_state=randomseed,\\n    n_estimators=100,\\n    max_depth=12,\\n    min_samples_split=2,\\n    min_samples_leaf=10,\\n    max_features=\\\"auto\\\",\\n)\";\n",
       "                var nbb_cells = Jupyter.notebook.get_cells();\n",
       "                for (var i = 0; i < nbb_cells.length; ++i) {\n",
       "                    if (nbb_cells[i].input_prompt_number == nbb_cell_id) {\n",
       "                        if (nbb_cells[i].get_text() == nbb_unformatted_code) {\n",
       "                             nbb_cells[i].set_text(nbb_formatted_code);\n",
       "                        }\n",
       "                        break;\n",
       "                    }\n",
       "                }\n",
       "            }, 500);\n",
       "            "
      ],
      "text/plain": [
       "<IPython.core.display.Javascript object>"
      ]
     },
     "metadata": {},
     "output_type": "display_data"
    }
   ],
   "source": [
    "rf = RandomForestClassifier(\n",
    "    random_state=randomseed,\n",
    "    n_estimators=100,\n",
    "    max_depth=12,\n",
    "    min_samples_split=2,\n",
    "    min_samples_leaf=10,\n",
    "    max_features=\"auto\",\n",
    ")"
   ]
  },
  {
   "cell_type": "code",
   "execution_count": 11,
   "metadata": {},
   "outputs": [
    {
     "data": {
      "application/javascript": [
       "\n",
       "            setTimeout(function() {\n",
       "                var nbb_cell_id = 11;\n",
       "                var nbb_unformatted_code = \"from sklearn.base import clone\\n\\n\\ndef imp_df(column_names, importances):\\n    df = (\\n        pd.DataFrame({\\\"feature\\\": column_names, \\\"feature_importance\\\": importances})\\n        #         .sort_values(\\\"feature_importance\\\", ascending=False)\\n        #         .reset_index(drop=True)\\n    )\\n    return df\\n\\n\\ndef drop_col_feat_imp(model, X_train, y_train, xtest, ytest, random_state=42):\\n\\n    # clone the model to have the exact same specification as the one initially trained\\n    model_clone = clone(model)\\n    # set random_state for comparability\\n    model_clone.random_state = random_state\\n    # training and scoring the benchmark model\\n    model_clone.fit(X_train, y_train)\\n    benchmark_score = model_clone.score(xtest, ytest)\\n    benchmark_featureimportance = model_clone.feature_importances_\\n\\n    print(benchmark_score)\\n    # list for storing feature importances\\n    importances = []\\n\\n    # iterating over all columns and storing feature importance (difference between benchmark and new model)\\n    for col in X_train.columns:\\n        print(col)\\n        model_clone = clone(model)\\n        model_clone.random_state = random_state\\n        model_clone.fit(X_train.drop(col, axis=1), y_train)\\n        drop_col_score = model_clone.score(xtest.drop(col, axis=1), ytest)\\n        importances.append(benchmark_score - drop_col_score)\\n        print(benchmark_score - drop_col_score, drop_col_score)\\n\\n    importances_df = imp_df(X_train.columns, importances)\\n    return importances_df, benchmark_score, benchmark_featureimportance\";\n",
       "                var nbb_formatted_code = \"from sklearn.base import clone\\n\\n\\ndef imp_df(column_names, importances):\\n    df = (\\n        pd.DataFrame({\\\"feature\\\": column_names, \\\"feature_importance\\\": importances})\\n        #         .sort_values(\\\"feature_importance\\\", ascending=False)\\n        #         .reset_index(drop=True)\\n    )\\n    return df\\n\\n\\ndef drop_col_feat_imp(model, X_train, y_train, xtest, ytest, random_state=42):\\n\\n    # clone the model to have the exact same specification as the one initially trained\\n    model_clone = clone(model)\\n    # set random_state for comparability\\n    model_clone.random_state = random_state\\n    # training and scoring the benchmark model\\n    model_clone.fit(X_train, y_train)\\n    benchmark_score = model_clone.score(xtest, ytest)\\n    benchmark_featureimportance = model_clone.feature_importances_\\n\\n    print(benchmark_score)\\n    # list for storing feature importances\\n    importances = []\\n\\n    # iterating over all columns and storing feature importance (difference between benchmark and new model)\\n    for col in X_train.columns:\\n        print(col)\\n        model_clone = clone(model)\\n        model_clone.random_state = random_state\\n        model_clone.fit(X_train.drop(col, axis=1), y_train)\\n        drop_col_score = model_clone.score(xtest.drop(col, axis=1), ytest)\\n        importances.append(benchmark_score - drop_col_score)\\n        print(benchmark_score - drop_col_score, drop_col_score)\\n\\n    importances_df = imp_df(X_train.columns, importances)\\n    return importances_df, benchmark_score, benchmark_featureimportance\";\n",
       "                var nbb_cells = Jupyter.notebook.get_cells();\n",
       "                for (var i = 0; i < nbb_cells.length; ++i) {\n",
       "                    if (nbb_cells[i].input_prompt_number == nbb_cell_id) {\n",
       "                        if (nbb_cells[i].get_text() == nbb_unformatted_code) {\n",
       "                             nbb_cells[i].set_text(nbb_formatted_code);\n",
       "                        }\n",
       "                        break;\n",
       "                    }\n",
       "                }\n",
       "            }, 500);\n",
       "            "
      ],
      "text/plain": [
       "<IPython.core.display.Javascript object>"
      ]
     },
     "metadata": {},
     "output_type": "display_data"
    }
   ],
   "source": [
    "from sklearn.base import clone\n",
    "\n",
    "\n",
    "def imp_df(column_names, importances):\n",
    "    df = (\n",
    "        pd.DataFrame({\"feature\": column_names, \"feature_importance\": importances})\n",
    "        #         .sort_values(\"feature_importance\", ascending=False)\n",
    "        #         .reset_index(drop=True)\n",
    "    )\n",
    "    return df\n",
    "\n",
    "\n",
    "def drop_col_feat_imp(model, X_train, y_train, xtest, ytest, random_state=42):\n",
    "\n",
    "    # clone the model to have the exact same specification as the one initially trained\n",
    "    model_clone = clone(model)\n",
    "    # set random_state for comparability\n",
    "    model_clone.random_state = random_state\n",
    "    # training and scoring the benchmark model\n",
    "    model_clone.fit(X_train, y_train)\n",
    "    benchmark_score = model_clone.score(xtest, ytest)\n",
    "    benchmark_featureimportance = model_clone.feature_importances_\n",
    "\n",
    "    print(benchmark_score)\n",
    "    # list for storing feature importances\n",
    "    importances = []\n",
    "\n",
    "    # iterating over all columns and storing feature importance (difference between benchmark and new model)\n",
    "    for col in X_train.columns:\n",
    "        print(col)\n",
    "        model_clone = clone(model)\n",
    "        model_clone.random_state = random_state\n",
    "        model_clone.fit(X_train.drop(col, axis=1), y_train)\n",
    "        drop_col_score = model_clone.score(xtest.drop(col, axis=1), ytest)\n",
    "        importances.append(benchmark_score - drop_col_score)\n",
    "        print(benchmark_score - drop_col_score, drop_col_score)\n",
    "\n",
    "    importances_df = imp_df(X_train.columns, importances)\n",
    "    return importances_df, benchmark_score, benchmark_featureimportance"
   ]
  },
  {
   "cell_type": "code",
   "execution_count": 12,
   "metadata": {
    "scrolled": true
   },
   "outputs": [
    {
     "name": "stdout",
     "output_type": "stream",
     "text": [
      "0.7333333333333333\n",
      "L100800\n",
      "0.046666666666666634 0.6866666666666666\n",
      "L104600\n",
      "0.011666666666666603 0.7216666666666667\n",
      "L103000\n",
      "0.0 0.7333333333333333\n",
      "S000300\n",
      "0.0016666666666665941 0.7316666666666667\n",
      "L101700\n",
      "0.0 0.7333333333333333\n",
      "L100700\n",
      "-0.0050000000000000044 0.7383333333333333\n",
      "FIELD_33\n",
      "0.0 0.7333333333333333\n",
      "FIELD_38\n",
      "-0.0033333333333334103 0.7366666666666667\n",
      "FIELD_40\n",
      "0.004999999999999893 0.7283333333333334\n",
      "FIELD_31\n",
      "0.004999999999999893 0.7283333333333334\n",
      "SEX\n",
      "0.009999999999999898 0.7233333333333334\n",
      "AGE\n",
      "0.009999999999999898 0.7233333333333334\n"
     ]
    },
    {
     "data": {
      "application/javascript": [
       "\n",
       "            setTimeout(function() {\n",
       "                var nbb_cell_id = 12;\n",
       "                var nbb_unformatted_code = \"importances_df, benchmark_score, benchmark_featureimportance = drop_col_feat_imp(\\n    rf,\\n    pd.DataFrame(xtrain, columns=data.columns[:-1]),\\n    ytrain,\\n    pd.DataFrame(xtest, columns=data.columns[:-1]),\\n    ytest,\\n    randomseed,\\n)\";\n",
       "                var nbb_formatted_code = \"importances_df, benchmark_score, benchmark_featureimportance = drop_col_feat_imp(\\n    rf,\\n    pd.DataFrame(xtrain, columns=data.columns[:-1]),\\n    ytrain,\\n    pd.DataFrame(xtest, columns=data.columns[:-1]),\\n    ytest,\\n    randomseed,\\n)\";\n",
       "                var nbb_cells = Jupyter.notebook.get_cells();\n",
       "                for (var i = 0; i < nbb_cells.length; ++i) {\n",
       "                    if (nbb_cells[i].input_prompt_number == nbb_cell_id) {\n",
       "                        if (nbb_cells[i].get_text() == nbb_unformatted_code) {\n",
       "                             nbb_cells[i].set_text(nbb_formatted_code);\n",
       "                        }\n",
       "                        break;\n",
       "                    }\n",
       "                }\n",
       "            }, 500);\n",
       "            "
      ],
      "text/plain": [
       "<IPython.core.display.Javascript object>"
      ]
     },
     "metadata": {},
     "output_type": "display_data"
    }
   ],
   "source": [
    "importances_df, benchmark_score, benchmark_featureimportance = drop_col_feat_imp(\n",
    "    rf,\n",
    "    pd.DataFrame(xtrain, columns=data.columns[:-1]),\n",
    "    ytrain,\n",
    "    pd.DataFrame(xtest, columns=data.columns[:-1]),\n",
    "    ytest,\n",
    "    randomseed,\n",
    ")"
   ]
  },
  {
   "cell_type": "code",
   "execution_count": 13,
   "metadata": {},
   "outputs": [
    {
     "data": {
      "application/javascript": [
       "\n",
       "            setTimeout(function() {\n",
       "                var nbb_cell_id = 13;\n",
       "                var nbb_unformatted_code = \"Finalvalue = pd.DataFrame()\\nFinalvalue[\\\"features\\\"] = data.columns[:-1]\\nFinalvalue[\\\"benchmark_featureimportance\\\"] = benchmark_featureimportance\\nFinalvalue[\\\"importances_df\\\"] = -importances_df.feature_importance\\nFinalvalue[\\\"newScore\\\"] = benchmark_score - importances_df.feature_importance\\nFinalvalue = Finalvalue.sort_values(\\n    by=\\\"benchmark_featureimportance\\\", ascending=False\\n).reset_index(drop=True)\";\n",
       "                var nbb_formatted_code = \"Finalvalue = pd.DataFrame()\\nFinalvalue[\\\"features\\\"] = data.columns[:-1]\\nFinalvalue[\\\"benchmark_featureimportance\\\"] = benchmark_featureimportance\\nFinalvalue[\\\"importances_df\\\"] = -importances_df.feature_importance\\nFinalvalue[\\\"newScore\\\"] = benchmark_score - importances_df.feature_importance\\nFinalvalue = Finalvalue.sort_values(\\n    by=\\\"benchmark_featureimportance\\\", ascending=False\\n).reset_index(drop=True)\";\n",
       "                var nbb_cells = Jupyter.notebook.get_cells();\n",
       "                for (var i = 0; i < nbb_cells.length; ++i) {\n",
       "                    if (nbb_cells[i].input_prompt_number == nbb_cell_id) {\n",
       "                        if (nbb_cells[i].get_text() == nbb_unformatted_code) {\n",
       "                             nbb_cells[i].set_text(nbb_formatted_code);\n",
       "                        }\n",
       "                        break;\n",
       "                    }\n",
       "                }\n",
       "            }, 500);\n",
       "            "
      ],
      "text/plain": [
       "<IPython.core.display.Javascript object>"
      ]
     },
     "metadata": {},
     "output_type": "display_data"
    }
   ],
   "source": [
    "Finalvalue = pd.DataFrame()\n",
    "Finalvalue[\"features\"] = data.columns[:-1]\n",
    "Finalvalue[\"benchmark_featureimportance\"] = benchmark_featureimportance\n",
    "Finalvalue[\"importances_df\"] = -importances_df.feature_importance\n",
    "Finalvalue[\"newScore\"] = benchmark_score - importances_df.feature_importance\n",
    "Finalvalue = Finalvalue.sort_values(\n",
    "    by=\"benchmark_featureimportance\", ascending=False\n",
    ").reset_index(drop=True)"
   ]
  },
  {
   "cell_type": "code",
   "execution_count": 14,
   "metadata": {},
   "outputs": [
    {
     "data": {
      "text/plain": [
       "<BarContainer object of 12 artists>"
      ]
     },
     "execution_count": 14,
     "metadata": {},
     "output_type": "execute_result"
    },
    {
     "data": {
      "image/png": "[encoded data removed]",
      "text/plain": [
       "<Figure size 1080x504 with 1 Axes>"
      ]
     },
     "metadata": {
      "needs_background": "light"
     },
     "output_type": "display_data"
    },
    {
     "data": {
      "application/javascript": [
       "\n",
       "            setTimeout(function() {\n",
       "                var nbb_cell_id = 14;\n",
       "                var nbb_unformatted_code = \"plt.rcParams[\\\"figure.figsize\\\"] = (15, 7)\\nplt.title(\\\"Feature importance\\\")\\nplt.bar(Finalvalue.features, Finalvalue.benchmark_featureimportance)\";\n",
       "                var nbb_formatted_code = \"plt.rcParams[\\\"figure.figsize\\\"] = (15, 7)\\nplt.title(\\\"Feature importance\\\")\\nplt.bar(Finalvalue.features, Finalvalue.benchmark_featureimportance)\";\n",
       "                var nbb_cells = Jupyter.notebook.get_cells();\n",
       "                for (var i = 0; i < nbb_cells.length; ++i) {\n",
       "                    if (nbb_cells[i].input_prompt_number == nbb_cell_id) {\n",
       "                        if (nbb_cells[i].get_text() == nbb_unformatted_code) {\n",
       "                             nbb_cells[i].set_text(nbb_formatted_code);\n",
       "                        }\n",
       "                        break;\n",
       "                    }\n",
       "                }\n",
       "            }, 500);\n",
       "            "
      ],
      "text/plain": [
       "<IPython.core.display.Javascript object>"
      ]
     },
     "metadata": {},
     "output_type": "display_data"
    }
   ],
   "source": [
    "plt.rcParams[\"figure.figsize\"] = (15, 7)\n",
    "plt.title(\"Feature importance\")\n",
    "plt.bar(Finalvalue.features, Finalvalue.benchmark_featureimportance)"
   ]
  },
  {
   "cell_type": "code",
   "execution_count": 16,
   "metadata": {},
   "outputs": [
    {
     "data": {
      "text/plain": [
       "[<matplotlib.lines.Line2D at 0x1fa43590e80>]"
      ]
     },
     "execution_count": 16,
     "metadata": {},
     "output_type": "execute_result"
    },
    {
     "data": {
      "image/png": "[encoded data removed]",
      "text/plain": [
       "<Figure size 1080x504 with 1 Axes>"
      ]
     },
     "metadata": {
      "needs_background": "light"
     },
     "output_type": "display_data"
    },
    {
     "data": {
      "application/javascript": [
       "\n",
       "            setTimeout(function() {\n",
       "                var nbb_cell_id = 16;\n",
       "                var nbb_unformatted_code = \"plt.bar(Finalvalue.features, Finalvalue.importances_df)\\nplt.title(\\\"Accuracy Loss\\\")\\nplt.plot(Finalvalue.features, np.full((12, 1), 0.0), color=\\\"green\\\")\";\n",
       "                var nbb_formatted_code = \"plt.bar(Finalvalue.features, Finalvalue.importances_df)\\nplt.title(\\\"Accuracy Loss\\\")\\nplt.plot(Finalvalue.features, np.full((12, 1), 0.0), color=\\\"green\\\")\";\n",
       "                var nbb_cells = Jupyter.notebook.get_cells();\n",
       "                for (var i = 0; i < nbb_cells.length; ++i) {\n",
       "                    if (nbb_cells[i].input_prompt_number == nbb_cell_id) {\n",
       "                        if (nbb_cells[i].get_text() == nbb_unformatted_code) {\n",
       "                             nbb_cells[i].set_text(nbb_formatted_code);\n",
       "                        }\n",
       "                        break;\n",
       "                    }\n",
       "                }\n",
       "            }, 500);\n",
       "            "
      ],
      "text/plain": [
       "<IPython.core.display.Javascript object>"
      ]
     },
     "metadata": {},
     "output_type": "display_data"
    }
   ],
   "source": [
    "plt.bar(Finalvalue.features, Finalvalue.importances_df)\n",
    "plt.title(\"Accuracy Loss\")\n",
    "plt.plot(Finalvalue.features, np.full((12, 1), 0.0), color=\"green\")"
   ]
  },
  {
   "cell_type": "code",
   "execution_count": 17,
   "metadata": {},
   "outputs": [
    {
     "data": {
      "text/plain": [
       "[<matplotlib.lines.Line2D at 0x1fa4394a5b0>]"
      ]
     },
     "execution_count": 17,
     "metadata": {},
     "output_type": "execute_result"
    },
    {
     "data": {
      "image/png": "[encoded data removed]",
      "text/plain": [
       "<Figure size 1080x504 with 1 Axes>"
      ]
     },
     "metadata": {
      "needs_background": "light"
     },
     "output_type": "display_data"
    },
    {
     "data": {
      "application/javascript": [
       "\n",
       "            setTimeout(function() {\n",
       "                var nbb_cell_id = 17;\n",
       "                var nbb_unformatted_code = \"plt.scatter(Finalvalue.features, Finalvalue.newScore)\\nplt.title(\\\"Accuracy Plot\\\")\\nplt.plot(Finalvalue.features, np.full((12, 1), 0.7333), color=\\\"green\\\")\";\n",
       "                var nbb_formatted_code = \"plt.scatter(Finalvalue.features, Finalvalue.newScore)\\nplt.title(\\\"Accuracy Plot\\\")\\nplt.plot(Finalvalue.features, np.full((12, 1), 0.7333), color=\\\"green\\\")\";\n",
       "                var nbb_cells = Jupyter.notebook.get_cells();\n",
       "                for (var i = 0; i < nbb_cells.length; ++i) {\n",
       "                    if (nbb_cells[i].input_prompt_number == nbb_cell_id) {\n",
       "                        if (nbb_cells[i].get_text() == nbb_unformatted_code) {\n",
       "                             nbb_cells[i].set_text(nbb_formatted_code);\n",
       "                        }\n",
       "                        break;\n",
       "                    }\n",
       "                }\n",
       "            }, 500);\n",
       "            "
      ],
      "text/plain": [
       "<IPython.core.display.Javascript object>"
      ]
     },
     "metadata": {},
     "output_type": "display_data"
    }
   ],
   "source": [
    "plt.scatter(Finalvalue.features, Finalvalue.newScore)\n",
    "plt.title(\"Accuracy Plot\")\n",
    "plt.plot(Finalvalue.features, np.full((12, 1), 0.7333), color=\"green\")"
   ]
  },
  {
   "cell_type": "code",
   "execution_count": 18,
   "metadata": {},
   "outputs": [
    {
     "data": {
      "text/html": [
       "<div>\n",
       "<style scoped>\n",
       "    .dataframe tbody tr th:only-of-type {\n",
       "        vertical-align: middle;\n",
       "    }\n",
       "\n",
       "    .dataframe tbody tr th {\n",
       "        vertical-align: top;\n",
       "    }\n",
       "\n",
       "    .dataframe thead th {\n",
       "        text-align: right;\n",
       "    }\n",
       "</style>\n",
       "<table border=\"1\" class=\"dataframe\">\n",
       "  <thead>\n",
       "    <tr style=\"text-align: right;\">\n",
       "      <th></th>\n",
       "      <th>features</th>\n",
       "      <th>benchmark_featureimportance</th>\n",
       "      <th>importances_df</th>\n",
       "      <th>newScore</th>\n",
       "    </tr>\n",
       "  </thead>\n",
       "  <tbody>\n",
       "    <tr>\n",
       "      <th>0</th>\n",
       "      <td>L100800</td>\n",
       "      <td>0.396264</td>\n",
       "      <td>-0.046667</td>\n",
       "      <td>0.686667</td>\n",
       "    </tr>\n",
       "    <tr>\n",
       "      <th>1</th>\n",
       "      <td>L104600</td>\n",
       "      <td>0.317464</td>\n",
       "      <td>-0.011667</td>\n",
       "      <td>0.721667</td>\n",
       "    </tr>\n",
       "    <tr>\n",
       "      <th>2</th>\n",
       "      <td>L101700</td>\n",
       "      <td>0.069805</td>\n",
       "      <td>-0.000000</td>\n",
       "      <td>0.733333</td>\n",
       "    </tr>\n",
       "    <tr>\n",
       "      <th>3</th>\n",
       "      <td>S000300</td>\n",
       "      <td>0.051339</td>\n",
       "      <td>-0.001667</td>\n",
       "      <td>0.731667</td>\n",
       "    </tr>\n",
       "    <tr>\n",
       "      <th>4</th>\n",
       "      <td>L103000</td>\n",
       "      <td>0.044488</td>\n",
       "      <td>-0.000000</td>\n",
       "      <td>0.733333</td>\n",
       "    </tr>\n",
       "    <tr>\n",
       "      <th>5</th>\n",
       "      <td>AGE</td>\n",
       "      <td>0.037111</td>\n",
       "      <td>-0.010000</td>\n",
       "      <td>0.723333</td>\n",
       "    </tr>\n",
       "    <tr>\n",
       "      <th>6</th>\n",
       "      <td>L100700</td>\n",
       "      <td>0.027338</td>\n",
       "      <td>0.005000</td>\n",
       "      <td>0.738333</td>\n",
       "    </tr>\n",
       "    <tr>\n",
       "      <th>7</th>\n",
       "      <td>SEX</td>\n",
       "      <td>0.018519</td>\n",
       "      <td>-0.010000</td>\n",
       "      <td>0.723333</td>\n",
       "    </tr>\n",
       "    <tr>\n",
       "      <th>8</th>\n",
       "      <td>FIELD_38</td>\n",
       "      <td>0.015621</td>\n",
       "      <td>0.003333</td>\n",
       "      <td>0.736667</td>\n",
       "    </tr>\n",
       "    <tr>\n",
       "      <th>9</th>\n",
       "      <td>FIELD_40</td>\n",
       "      <td>0.010854</td>\n",
       "      <td>-0.005000</td>\n",
       "      <td>0.728333</td>\n",
       "    </tr>\n",
       "    <tr>\n",
       "      <th>10</th>\n",
       "      <td>FIELD_33</td>\n",
       "      <td>0.008095</td>\n",
       "      <td>-0.000000</td>\n",
       "      <td>0.733333</td>\n",
       "    </tr>\n",
       "    <tr>\n",
       "      <th>11</th>\n",
       "      <td>FIELD_31</td>\n",
       "      <td>0.003100</td>\n",
       "      <td>-0.005000</td>\n",
       "      <td>0.728333</td>\n",
       "    </tr>\n",
       "  </tbody>\n",
       "</table>\n",
       "</div>"
      ],
      "text/plain": [
       "    features  benchmark_featureimportance  importances_df  newScore\n",
       "0    L100800                     0.396264       -0.046667  0.686667\n",
       "1    L104600                     0.317464       -0.011667  0.721667\n",
       "2    L101700                     0.069805       -0.000000  0.733333\n",
       "3    S000300                     0.051339       -0.001667  0.731667\n",
       "4    L103000                     0.044488       -0.000000  0.733333\n",
       "5        AGE                     0.037111       -0.010000  0.723333\n",
       "6    L100700                     0.027338        0.005000  0.738333\n",
       "7        SEX                     0.018519       -0.010000  0.723333\n",
       "8   FIELD_38                     0.015621        0.003333  0.736667\n",
       "9   FIELD_40                     0.010854       -0.005000  0.728333\n",
       "10  FIELD_33                     0.008095       -0.000000  0.733333\n",
       "11  FIELD_31                     0.003100       -0.005000  0.728333"
      ]
     },
     "execution_count": 18,
     "metadata": {},
     "output_type": "execute_result"
    },
    {
     "data": {
      "application/javascript": [
       "\n",
       "            setTimeout(function() {\n",
       "                var nbb_cell_id = 18;\n",
       "                var nbb_unformatted_code = \"Finalvalue\";\n",
       "                var nbb_formatted_code = \"Finalvalue\";\n",
       "                var nbb_cells = Jupyter.notebook.get_cells();\n",
       "                for (var i = 0; i < nbb_cells.length; ++i) {\n",
       "                    if (nbb_cells[i].input_prompt_number == nbb_cell_id) {\n",
       "                        if (nbb_cells[i].get_text() == nbb_unformatted_code) {\n",
       "                             nbb_cells[i].set_text(nbb_formatted_code);\n",
       "                        }\n",
       "                        break;\n",
       "                    }\n",
       "                }\n",
       "            }, 500);\n",
       "            "
      ],
      "text/plain": [
       "<IPython.core.display.Javascript object>"
      ]
     },
     "metadata": {},
     "output_type": "display_data"
    }
   ],
   "source": [
    "Finalvalue"
   ]
  },
  {
   "cell_type": "code",
   "execution_count": null,
   "metadata": {},
   "outputs": [],
   "source": []
  }
 ],
 "metadata": {
  "kernelspec": {
   "display_name": "Python 3",
   "language": "python",
   "name": "python3"
  },
  "language_info": {
   "codemirror_mode": {
    "name": "ipython",
    "version": 3
   },
   "file_extension": ".py",
   "mimetype": "text/x-python",
   "name": "python",
   "nbconvert_exporter": "python",
   "pygments_lexer": "ipython3",
   "version": "3.8.3"
  }
 },
 "nbformat": 4,
 "nbformat_minor": 4
}
