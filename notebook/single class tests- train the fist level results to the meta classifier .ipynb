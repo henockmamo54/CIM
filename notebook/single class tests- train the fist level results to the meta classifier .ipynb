{
 "cells": [
  {
   "cell_type": "code",
   "execution_count": 1,
   "metadata": {},
   "outputs": [
    {
     "data": {
      "application/javascript": [
       "\n",
       "            setTimeout(function() {\n",
       "                var nbb_cell_id = 1;\n",
       "                var nbb_unformatted_code = \"%load_ext nb_black\";\n",
       "                var nbb_formatted_code = \"%load_ext nb_black\";\n",
       "                var nbb_cells = Jupyter.notebook.get_cells();\n",
       "                for (var i = 0; i < nbb_cells.length; ++i) {\n",
       "                    if (nbb_cells[i].input_prompt_number == nbb_cell_id) {\n",
       "                        if (nbb_cells[i].get_text() == nbb_unformatted_code) {\n",
       "                             nbb_cells[i].set_text(nbb_formatted_code);\n",
       "                        }\n",
       "                        break;\n",
       "                    }\n",
       "                }\n",
       "            }, 500);\n",
       "            "
      ],
      "text/plain": [
       "<IPython.core.display.Javascript object>"
      ]
     },
     "metadata": {},
     "output_type": "display_data"
    }
   ],
   "source": [
    "%load_ext nb_black"
   ]
  },
  {
   "cell_type": "code",
   "execution_count": 2,
   "metadata": {},
   "outputs": [
    {
     "data": {
      "application/javascript": [
       "\n",
       "            setTimeout(function() {\n",
       "                var nbb_cell_id = 2;\n",
       "                var nbb_unformatted_code = \"import numpy as np\\nimport pandas as pd\\nfrom sklearn import metrics as m\\nfrom sklearn.model_selection import train_test_split\\nfrom sklearn.ensemble import RandomForestClassifier\\nfrom sklearn.svm import SVC\\nimport xgboost as xgb\\nfrom thundersvm import SVC as svmgpu\\nfrom sklearn.decomposition import PCA\\nfrom sklearn.model_selection import cross_val_score\\n\\nrandomseed = 10\\nnp.random.seed(randomseed)\";\n",
       "                var nbb_formatted_code = \"import numpy as np\\nimport pandas as pd\\nfrom sklearn import metrics as m\\nfrom sklearn.model_selection import train_test_split\\nfrom sklearn.ensemble import RandomForestClassifier\\nfrom sklearn.svm import SVC\\nimport xgboost as xgb\\nfrom thundersvm import SVC as svmgpu\\nfrom sklearn.decomposition import PCA\\nfrom sklearn.model_selection import cross_val_score\\n\\nrandomseed = 10\\nnp.random.seed(randomseed)\";\n",
       "                var nbb_cells = Jupyter.notebook.get_cells();\n",
       "                for (var i = 0; i < nbb_cells.length; ++i) {\n",
       "                    if (nbb_cells[i].input_prompt_number == nbb_cell_id) {\n",
       "                        if (nbb_cells[i].get_text() == nbb_unformatted_code) {\n",
       "                             nbb_cells[i].set_text(nbb_formatted_code);\n",
       "                        }\n",
       "                        break;\n",
       "                    }\n",
       "                }\n",
       "            }, 500);\n",
       "            "
      ],
      "text/plain": [
       "<IPython.core.display.Javascript object>"
      ]
     },
     "metadata": {},
     "output_type": "display_data"
    }
   ],
   "source": [
    "import numpy as np\n",
    "import pandas as pd\n",
    "from sklearn import metrics as m\n",
    "from sklearn.model_selection import train_test_split\n",
    "from sklearn.ensemble import RandomForestClassifier\n",
    "from sklearn.svm import SVC\n",
    "import xgboost as xgb\n",
    "from thundersvm import SVC as svmgpu\n",
    "from sklearn.decomposition import PCA\n",
    "from sklearn.model_selection import cross_val_score\n",
    "\n",
    "randomseed = 10\n",
    "np.random.seed(randomseed)"
   ]
  },
  {
   "cell_type": "code",
   "execution_count": 3,
   "metadata": {},
   "outputs": [
    {
     "data": {
      "application/javascript": [
       "\n",
       "            setTimeout(function() {\n",
       "                var nbb_cell_id = 3;\n",
       "                var nbb_unformatted_code = \"pd_acc_class0 = pd.read_csv(\\\"pd_acc_class0.txt\\\")\\npd_ypredproba_all_class0 = pd.read_csv(\\\"pd_ypredproba_all_class0.txt\\\")\\npd_ypredconfprob_all_class0 = pd.read_csv(\\\"pd_ypredconfprob_all_class0.txt\\\")\";\n",
       "                var nbb_formatted_code = \"pd_acc_class0 = pd.read_csv(\\\"pd_acc_class0.txt\\\")\\npd_ypredproba_all_class0 = pd.read_csv(\\\"pd_ypredproba_all_class0.txt\\\")\\npd_ypredconfprob_all_class0 = pd.read_csv(\\\"pd_ypredconfprob_all_class0.txt\\\")\";\n",
       "                var nbb_cells = Jupyter.notebook.get_cells();\n",
       "                for (var i = 0; i < nbb_cells.length; ++i) {\n",
       "                    if (nbb_cells[i].input_prompt_number == nbb_cell_id) {\n",
       "                        if (nbb_cells[i].get_text() == nbb_unformatted_code) {\n",
       "                             nbb_cells[i].set_text(nbb_formatted_code);\n",
       "                        }\n",
       "                        break;\n",
       "                    }\n",
       "                }\n",
       "            }, 500);\n",
       "            "
      ],
      "text/plain": [
       "<IPython.core.display.Javascript object>"
      ]
     },
     "metadata": {},
     "output_type": "display_data"
    }
   ],
   "source": [
    "pd_acc_class0 = pd.read_csv(\"pd_acc_class0.txt\")\n",
    "pd_ypredproba_all_class0 = pd.read_csv(\"pd_ypredproba_all_class0.txt\")\n",
    "pd_ypredconfprob_all_class0 = pd.read_csv(\"pd_ypredconfprob_all_class0.txt\")"
   ]
  },
  {
   "cell_type": "code",
   "execution_count": 4,
   "metadata": {},
   "outputs": [
    {
     "data": {
      "application/javascript": [
       "\n",
       "            setTimeout(function() {\n",
       "                var nbb_cell_id = 4;\n",
       "                var nbb_unformatted_code = \"pd_acc_class1 = pd.read_csv(\\\"pd_acc_class1.txt\\\")\\npd_ypredproba_all_class1 = pd.read_csv(\\\"pd_ypredproba_all_class1.txt\\\")\\npd_ypredconfprob_all_class1 = pd.read_csv(\\\"pd_ypredconfprob_all_class1.txt\\\")\";\n",
       "                var nbb_formatted_code = \"pd_acc_class1 = pd.read_csv(\\\"pd_acc_class1.txt\\\")\\npd_ypredproba_all_class1 = pd.read_csv(\\\"pd_ypredproba_all_class1.txt\\\")\\npd_ypredconfprob_all_class1 = pd.read_csv(\\\"pd_ypredconfprob_all_class1.txt\\\")\";\n",
       "                var nbb_cells = Jupyter.notebook.get_cells();\n",
       "                for (var i = 0; i < nbb_cells.length; ++i) {\n",
       "                    if (nbb_cells[i].input_prompt_number == nbb_cell_id) {\n",
       "                        if (nbb_cells[i].get_text() == nbb_unformatted_code) {\n",
       "                             nbb_cells[i].set_text(nbb_formatted_code);\n",
       "                        }\n",
       "                        break;\n",
       "                    }\n",
       "                }\n",
       "            }, 500);\n",
       "            "
      ],
      "text/plain": [
       "<IPython.core.display.Javascript object>"
      ]
     },
     "metadata": {},
     "output_type": "display_data"
    }
   ],
   "source": [
    "pd_acc_class1 = pd.read_csv(\"pd_acc_class1.txt\")\n",
    "pd_ypredproba_all_class1 = pd.read_csv(\"pd_ypredproba_all_class1.txt\")\n",
    "pd_ypredconfprob_all_class1 = pd.read_csv(\"pd_ypredconfprob_all_class1.txt\")"
   ]
  },
  {
   "cell_type": "code",
   "execution_count": 5,
   "metadata": {},
   "outputs": [
    {
     "data": {
      "application/javascript": [
       "\n",
       "            setTimeout(function() {\n",
       "                var nbb_cell_id = 5;\n",
       "                var nbb_unformatted_code = \"pd_acc_class2 = pd.read_csv(\\\"pd_acc_class2.txt\\\")\\npd_ypredproba_all_class2 = pd.read_csv(\\\"pd_ypredproba_all_class2.txt\\\")\\npd_ypredconfprob_all_class2 = pd.read_csv(\\\"pd_ypredconfprob_all_class2.txt\\\")\";\n",
       "                var nbb_formatted_code = \"pd_acc_class2 = pd.read_csv(\\\"pd_acc_class2.txt\\\")\\npd_ypredproba_all_class2 = pd.read_csv(\\\"pd_ypredproba_all_class2.txt\\\")\\npd_ypredconfprob_all_class2 = pd.read_csv(\\\"pd_ypredconfprob_all_class2.txt\\\")\";\n",
       "                var nbb_cells = Jupyter.notebook.get_cells();\n",
       "                for (var i = 0; i < nbb_cells.length; ++i) {\n",
       "                    if (nbb_cells[i].input_prompt_number == nbb_cell_id) {\n",
       "                        if (nbb_cells[i].get_text() == nbb_unformatted_code) {\n",
       "                             nbb_cells[i].set_text(nbb_formatted_code);\n",
       "                        }\n",
       "                        break;\n",
       "                    }\n",
       "                }\n",
       "            }, 500);\n",
       "            "
      ],
      "text/plain": [
       "<IPython.core.display.Javascript object>"
      ]
     },
     "metadata": {},
     "output_type": "display_data"
    }
   ],
   "source": [
    "pd_acc_class2 = pd.read_csv(\"pd_acc_class2.txt\")\n",
    "pd_ypredproba_all_class2 = pd.read_csv(\"pd_ypredproba_all_class2.txt\")\n",
    "pd_ypredconfprob_all_class2 = pd.read_csv(\"pd_ypredconfprob_all_class2.txt\")"
   ]
  },
  {
   "cell_type": "code",
   "execution_count": 6,
   "metadata": {},
   "outputs": [
    {
     "data": {
      "application/javascript": [
       "\n",
       "            setTimeout(function() {\n",
       "                var nbb_cell_id = 6;\n",
       "                var nbb_unformatted_code = \"ytest_class0 = pd.read_csv(\\\"ytest_class0.txt\\\")\\nytest_class1 = pd.read_csv(\\\"ytest_class1.txt\\\")\\nytest_class2 = pd.read_csv(\\\"ytest_class2.txt\\\")\\nytest_original = pd.read_csv(\\\"ytest_original.txt\\\")\";\n",
       "                var nbb_formatted_code = \"ytest_class0 = pd.read_csv(\\\"ytest_class0.txt\\\")\\nytest_class1 = pd.read_csv(\\\"ytest_class1.txt\\\")\\nytest_class2 = pd.read_csv(\\\"ytest_class2.txt\\\")\\nytest_original = pd.read_csv(\\\"ytest_original.txt\\\")\";\n",
       "                var nbb_cells = Jupyter.notebook.get_cells();\n",
       "                for (var i = 0; i < nbb_cells.length; ++i) {\n",
       "                    if (nbb_cells[i].input_prompt_number == nbb_cell_id) {\n",
       "                        if (nbb_cells[i].get_text() == nbb_unformatted_code) {\n",
       "                             nbb_cells[i].set_text(nbb_formatted_code);\n",
       "                        }\n",
       "                        break;\n",
       "                    }\n",
       "                }\n",
       "            }, 500);\n",
       "            "
      ],
      "text/plain": [
       "<IPython.core.display.Javascript object>"
      ]
     },
     "metadata": {},
     "output_type": "display_data"
    }
   ],
   "source": [
    "ytest_class0 = pd.read_csv(\"ytest_class0.txt\")\n",
    "ytest_class1 = pd.read_csv(\"ytest_class1.txt\")\n",
    "ytest_class2 = pd.read_csv(\"ytest_class2.txt\")\n",
    "ytest_original = pd.read_csv(\"ytest_original.txt\")"
   ]
  },
  {
   "cell_type": "code",
   "execution_count": 7,
   "metadata": {},
   "outputs": [
    {
     "data": {
      "application/javascript": [
       "\n",
       "            setTimeout(function() {\n",
       "                var nbb_cell_id = 7;\n",
       "                var nbb_unformatted_code = \"temp_0 = []\\nval_ = np.array(\\n    pd.DataFrame(\\n        np.array(pd_ypredconfprob_all_class0.transpose()).flatten()\\n    ).transpose()\\n).ravel()\\n\\nfor i in range(ytest_class0.shape[0]):\\n    temp_0.append(val_)\\n\\n# temp_0 = pd.DataFrame(temp_0)\";\n",
       "                var nbb_formatted_code = \"temp_0 = []\\nval_ = np.array(\\n    pd.DataFrame(\\n        np.array(pd_ypredconfprob_all_class0.transpose()).flatten()\\n    ).transpose()\\n).ravel()\\n\\nfor i in range(ytest_class0.shape[0]):\\n    temp_0.append(val_)\\n\\n# temp_0 = pd.DataFrame(temp_0)\";\n",
       "                var nbb_cells = Jupyter.notebook.get_cells();\n",
       "                for (var i = 0; i < nbb_cells.length; ++i) {\n",
       "                    if (nbb_cells[i].input_prompt_number == nbb_cell_id) {\n",
       "                        if (nbb_cells[i].get_text() == nbb_unformatted_code) {\n",
       "                             nbb_cells[i].set_text(nbb_formatted_code);\n",
       "                        }\n",
       "                        break;\n",
       "                    }\n",
       "                }\n",
       "            }, 500);\n",
       "            "
      ],
      "text/plain": [
       "<IPython.core.display.Javascript object>"
      ]
     },
     "metadata": {},
     "output_type": "display_data"
    }
   ],
   "source": [
    "temp_0 = []\n",
    "val_ = np.array(\n",
    "    pd.DataFrame(\n",
    "        np.array(pd_ypredconfprob_all_class0.transpose()).flatten()\n",
    "    ).transpose()\n",
    ").ravel()\n",
    "\n",
    "for i in range(ytest_class0.shape[0]):\n",
    "    temp_0.append(val_)\n",
    "\n",
    "# temp_0 = pd.DataFrame(temp_0)"
   ]
  },
  {
   "cell_type": "code",
   "execution_count": 8,
   "metadata": {},
   "outputs": [
    {
     "data": {
      "application/javascript": [
       "\n",
       "            setTimeout(function() {\n",
       "                var nbb_cell_id = 8;\n",
       "                var nbb_unformatted_code = \"temp_1 = []\\nval_ = np.array(\\n    pd.DataFrame(\\n        np.array(pd_ypredconfprob_all_class1.transpose()).flatten()\\n    ).transpose()\\n).ravel()\\n\\nfor i in range(ytest_class1.shape[0]):\\n    temp_1.append(val_)\\n\\ntemp_1 = pd.DataFrame(temp_1)\";\n",
       "                var nbb_formatted_code = \"temp_1 = []\\nval_ = np.array(\\n    pd.DataFrame(\\n        np.array(pd_ypredconfprob_all_class1.transpose()).flatten()\\n    ).transpose()\\n).ravel()\\n\\nfor i in range(ytest_class1.shape[0]):\\n    temp_1.append(val_)\\n\\ntemp_1 = pd.DataFrame(temp_1)\";\n",
       "                var nbb_cells = Jupyter.notebook.get_cells();\n",
       "                for (var i = 0; i < nbb_cells.length; ++i) {\n",
       "                    if (nbb_cells[i].input_prompt_number == nbb_cell_id) {\n",
       "                        if (nbb_cells[i].get_text() == nbb_unformatted_code) {\n",
       "                             nbb_cells[i].set_text(nbb_formatted_code);\n",
       "                        }\n",
       "                        break;\n",
       "                    }\n",
       "                }\n",
       "            }, 500);\n",
       "            "
      ],
      "text/plain": [
       "<IPython.core.display.Javascript object>"
      ]
     },
     "metadata": {},
     "output_type": "display_data"
    }
   ],
   "source": [
    "temp_1 = []\n",
    "val_ = np.array(\n",
    "    pd.DataFrame(\n",
    "        np.array(pd_ypredconfprob_all_class1.transpose()).flatten()\n",
    "    ).transpose()\n",
    ").ravel()\n",
    "\n",
    "for i in range(ytest_class1.shape[0]):\n",
    "    temp_1.append(val_)\n",
    "\n",
    "temp_1 = pd.DataFrame(temp_1)"
   ]
  },
  {
   "cell_type": "code",
   "execution_count": 9,
   "metadata": {},
   "outputs": [
    {
     "data": {
      "application/javascript": [
       "\n",
       "            setTimeout(function() {\n",
       "                var nbb_cell_id = 9;\n",
       "                var nbb_unformatted_code = \"temp_2 = []\\nval_ = np.array(\\n    pd.DataFrame(\\n        np.array(pd_ypredconfprob_all_class2.transpose()).flatten()\\n    ).transpose()\\n).ravel()\\n\\nfor i in range(ytest_class2.shape[0]):\\n    temp_2.append(val_)\\n\\ntemp_2 = pd.DataFrame(temp_2)\";\n",
       "                var nbb_formatted_code = \"temp_2 = []\\nval_ = np.array(\\n    pd.DataFrame(\\n        np.array(pd_ypredconfprob_all_class2.transpose()).flatten()\\n    ).transpose()\\n).ravel()\\n\\nfor i in range(ytest_class2.shape[0]):\\n    temp_2.append(val_)\\n\\ntemp_2 = pd.DataFrame(temp_2)\";\n",
       "                var nbb_cells = Jupyter.notebook.get_cells();\n",
       "                for (var i = 0; i < nbb_cells.length; ++i) {\n",
       "                    if (nbb_cells[i].input_prompt_number == nbb_cell_id) {\n",
       "                        if (nbb_cells[i].get_text() == nbb_unformatted_code) {\n",
       "                             nbb_cells[i].set_text(nbb_formatted_code);\n",
       "                        }\n",
       "                        break;\n",
       "                    }\n",
       "                }\n",
       "            }, 500);\n",
       "            "
      ],
      "text/plain": [
       "<IPython.core.display.Javascript object>"
      ]
     },
     "metadata": {},
     "output_type": "display_data"
    }
   ],
   "source": [
    "temp_2 = []\n",
    "val_ = np.array(\n",
    "    pd.DataFrame(\n",
    "        np.array(pd_ypredconfprob_all_class2.transpose()).flatten()\n",
    "    ).transpose()\n",
    ").ravel()\n",
    "\n",
    "for i in range(ytest_class2.shape[0]):\n",
    "    temp_2.append(val_)\n",
    "\n",
    "temp_2 = pd.DataFrame(temp_2)"
   ]
  },
  {
   "cell_type": "code",
   "execution_count": 10,
   "metadata": {},
   "outputs": [
    {
     "data": {
      "application/javascript": [
       "\n",
       "            setTimeout(function() {\n",
       "                var nbb_cell_id = 10;\n",
       "                var nbb_unformatted_code = \"mydata = pd.DataFrame(\\n    np.column_stack(\\n        (\\n            pd_ypredproba_all_class0.transpose(),\\n            pd_ypredproba_all_class1.transpose(),\\n            pd_ypredproba_all_class2.transpose(),\\n            temp_0,\\n            temp_1,\\n            temp_2,\\n            ytest_original,\\n        )\\n    )\\n)\";\n",
       "                var nbb_formatted_code = \"mydata = pd.DataFrame(\\n    np.column_stack(\\n        (\\n            pd_ypredproba_all_class0.transpose(),\\n            pd_ypredproba_all_class1.transpose(),\\n            pd_ypredproba_all_class2.transpose(),\\n            temp_0,\\n            temp_1,\\n            temp_2,\\n            ytest_original,\\n        )\\n    )\\n)\";\n",
       "                var nbb_cells = Jupyter.notebook.get_cells();\n",
       "                for (var i = 0; i < nbb_cells.length; ++i) {\n",
       "                    if (nbb_cells[i].input_prompt_number == nbb_cell_id) {\n",
       "                        if (nbb_cells[i].get_text() == nbb_unformatted_code) {\n",
       "                             nbb_cells[i].set_text(nbb_formatted_code);\n",
       "                        }\n",
       "                        break;\n",
       "                    }\n",
       "                }\n",
       "            }, 500);\n",
       "            "
      ],
      "text/plain": [
       "<IPython.core.display.Javascript object>"
      ]
     },
     "metadata": {},
     "output_type": "display_data"
    }
   ],
   "source": [
    "mydata = pd.DataFrame(\n",
    "    np.column_stack(\n",
    "        (\n",
    "            pd_ypredproba_all_class0.transpose(),\n",
    "            pd_ypredproba_all_class1.transpose(),\n",
    "            pd_ypredproba_all_class2.transpose(),\n",
    "            temp_0,\n",
    "            temp_1,\n",
    "            temp_2,\n",
    "            ytest_original,\n",
    "        )\n",
    "    )\n",
    ")"
   ]
  },
  {
   "cell_type": "code",
   "execution_count": 11,
   "metadata": {},
   "outputs": [
    {
     "data": {
      "text/html": [
       "<div>\n",
       "<style scoped>\n",
       "    .dataframe tbody tr th:only-of-type {\n",
       "        vertical-align: middle;\n",
       "    }\n",
       "\n",
       "    .dataframe tbody tr th {\n",
       "        vertical-align: top;\n",
       "    }\n",
       "\n",
       "    .dataframe thead th {\n",
       "        text-align: right;\n",
       "    }\n",
       "</style>\n",
       "<table border=\"1\" class=\"dataframe\">\n",
       "  <thead>\n",
       "    <tr style=\"text-align: right;\">\n",
       "      <th></th>\n",
       "      <th>0</th>\n",
       "      <th>1</th>\n",
       "      <th>2</th>\n",
       "      <th>3</th>\n",
       "      <th>4</th>\n",
       "      <th>5</th>\n",
       "      <th>6</th>\n",
       "      <th>7</th>\n",
       "      <th>8</th>\n",
       "      <th>9</th>\n",
       "      <th>...</th>\n",
       "      <th>1536</th>\n",
       "      <th>1537</th>\n",
       "      <th>1538</th>\n",
       "      <th>1539</th>\n",
       "      <th>1540</th>\n",
       "      <th>1541</th>\n",
       "      <th>1542</th>\n",
       "      <th>1543</th>\n",
       "      <th>1544</th>\n",
       "      <th>1545</th>\n",
       "    </tr>\n",
       "  </thead>\n",
       "  <tbody>\n",
       "    <tr>\n",
       "      <th>0</th>\n",
       "      <td>0.0</td>\n",
       "      <td>0.053085</td>\n",
       "      <td>0.001439</td>\n",
       "      <td>0.00</td>\n",
       "      <td>0.004383</td>\n",
       "      <td>0.00</td>\n",
       "      <td>0.004383</td>\n",
       "      <td>0.00</td>\n",
       "      <td>0.004383</td>\n",
       "      <td>0.320</td>\n",
       "      <td>...</td>\n",
       "      <td>0.93</td>\n",
       "      <td>0.98</td>\n",
       "      <td>0.93</td>\n",
       "      <td>0.97</td>\n",
       "      <td>0.93</td>\n",
       "      <td>0.97</td>\n",
       "      <td>0.93</td>\n",
       "      <td>0.98</td>\n",
       "      <td>0.93</td>\n",
       "      <td>2.0</td>\n",
       "    </tr>\n",
       "    <tr>\n",
       "      <th>1</th>\n",
       "      <td>0.0</td>\n",
       "      <td>0.035696</td>\n",
       "      <td>0.002363</td>\n",
       "      <td>0.06</td>\n",
       "      <td>0.008302</td>\n",
       "      <td>0.04</td>\n",
       "      <td>0.008302</td>\n",
       "      <td>0.04</td>\n",
       "      <td>0.008302</td>\n",
       "      <td>0.180</td>\n",
       "      <td>...</td>\n",
       "      <td>0.93</td>\n",
       "      <td>0.98</td>\n",
       "      <td>0.93</td>\n",
       "      <td>0.97</td>\n",
       "      <td>0.93</td>\n",
       "      <td>0.97</td>\n",
       "      <td>0.93</td>\n",
       "      <td>0.98</td>\n",
       "      <td>0.93</td>\n",
       "      <td>2.0</td>\n",
       "    </tr>\n",
       "    <tr>\n",
       "      <th>2</th>\n",
       "      <td>0.1</td>\n",
       "      <td>0.101903</td>\n",
       "      <td>0.058239</td>\n",
       "      <td>0.24</td>\n",
       "      <td>0.072385</td>\n",
       "      <td>0.12</td>\n",
       "      <td>0.072385</td>\n",
       "      <td>0.16</td>\n",
       "      <td>0.072385</td>\n",
       "      <td>0.080</td>\n",
       "      <td>...</td>\n",
       "      <td>0.93</td>\n",
       "      <td>0.98</td>\n",
       "      <td>0.93</td>\n",
       "      <td>0.97</td>\n",
       "      <td>0.93</td>\n",
       "      <td>0.97</td>\n",
       "      <td>0.93</td>\n",
       "      <td>0.98</td>\n",
       "      <td>0.93</td>\n",
       "      <td>2.0</td>\n",
       "    </tr>\n",
       "    <tr>\n",
       "      <th>3</th>\n",
       "      <td>0.0</td>\n",
       "      <td>0.042193</td>\n",
       "      <td>0.005408</td>\n",
       "      <td>0.00</td>\n",
       "      <td>0.010435</td>\n",
       "      <td>0.00</td>\n",
       "      <td>0.010435</td>\n",
       "      <td>0.06</td>\n",
       "      <td>0.010435</td>\n",
       "      <td>0.420</td>\n",
       "      <td>...</td>\n",
       "      <td>0.93</td>\n",
       "      <td>0.98</td>\n",
       "      <td>0.93</td>\n",
       "      <td>0.97</td>\n",
       "      <td>0.93</td>\n",
       "      <td>0.97</td>\n",
       "      <td>0.93</td>\n",
       "      <td>0.98</td>\n",
       "      <td>0.93</td>\n",
       "      <td>2.0</td>\n",
       "    </tr>\n",
       "    <tr>\n",
       "      <th>4</th>\n",
       "      <td>0.0</td>\n",
       "      <td>0.228468</td>\n",
       "      <td>0.002295</td>\n",
       "      <td>0.02</td>\n",
       "      <td>0.007669</td>\n",
       "      <td>0.02</td>\n",
       "      <td>0.007669</td>\n",
       "      <td>0.10</td>\n",
       "      <td>0.007669</td>\n",
       "      <td>0.360</td>\n",
       "      <td>...</td>\n",
       "      <td>0.93</td>\n",
       "      <td>0.98</td>\n",
       "      <td>0.93</td>\n",
       "      <td>0.97</td>\n",
       "      <td>0.93</td>\n",
       "      <td>0.97</td>\n",
       "      <td>0.93</td>\n",
       "      <td>0.98</td>\n",
       "      <td>0.93</td>\n",
       "      <td>2.0</td>\n",
       "    </tr>\n",
       "    <tr>\n",
       "      <th>...</th>\n",
       "      <td>...</td>\n",
       "      <td>...</td>\n",
       "      <td>...</td>\n",
       "      <td>...</td>\n",
       "      <td>...</td>\n",
       "      <td>...</td>\n",
       "      <td>...</td>\n",
       "      <td>...</td>\n",
       "      <td>...</td>\n",
       "      <td>...</td>\n",
       "      <td>...</td>\n",
       "      <td>...</td>\n",
       "      <td>...</td>\n",
       "      <td>...</td>\n",
       "      <td>...</td>\n",
       "      <td>...</td>\n",
       "      <td>...</td>\n",
       "      <td>...</td>\n",
       "      <td>...</td>\n",
       "      <td>...</td>\n",
       "      <td>...</td>\n",
       "    </tr>\n",
       "    <tr>\n",
       "      <th>595</th>\n",
       "      <td>0.8</td>\n",
       "      <td>0.850987</td>\n",
       "      <td>0.908467</td>\n",
       "      <td>0.78</td>\n",
       "      <td>0.884555</td>\n",
       "      <td>0.60</td>\n",
       "      <td>0.884555</td>\n",
       "      <td>0.70</td>\n",
       "      <td>0.884555</td>\n",
       "      <td>0.480</td>\n",
       "      <td>...</td>\n",
       "      <td>0.93</td>\n",
       "      <td>0.98</td>\n",
       "      <td>0.93</td>\n",
       "      <td>0.97</td>\n",
       "      <td>0.93</td>\n",
       "      <td>0.97</td>\n",
       "      <td>0.93</td>\n",
       "      <td>0.98</td>\n",
       "      <td>0.93</td>\n",
       "      <td>0.0</td>\n",
       "    </tr>\n",
       "    <tr>\n",
       "      <th>596</th>\n",
       "      <td>0.2</td>\n",
       "      <td>0.445272</td>\n",
       "      <td>0.236095</td>\n",
       "      <td>0.40</td>\n",
       "      <td>0.248048</td>\n",
       "      <td>0.58</td>\n",
       "      <td>0.248048</td>\n",
       "      <td>0.10</td>\n",
       "      <td>0.248048</td>\n",
       "      <td>0.300</td>\n",
       "      <td>...</td>\n",
       "      <td>0.93</td>\n",
       "      <td>0.98</td>\n",
       "      <td>0.93</td>\n",
       "      <td>0.97</td>\n",
       "      <td>0.93</td>\n",
       "      <td>0.97</td>\n",
       "      <td>0.93</td>\n",
       "      <td>0.98</td>\n",
       "      <td>0.93</td>\n",
       "      <td>0.0</td>\n",
       "    </tr>\n",
       "    <tr>\n",
       "      <th>597</th>\n",
       "      <td>1.0</td>\n",
       "      <td>0.808809</td>\n",
       "      <td>0.878567</td>\n",
       "      <td>0.82</td>\n",
       "      <td>0.868501</td>\n",
       "      <td>0.74</td>\n",
       "      <td>0.868501</td>\n",
       "      <td>0.94</td>\n",
       "      <td>0.868501</td>\n",
       "      <td>0.926</td>\n",
       "      <td>...</td>\n",
       "      <td>0.93</td>\n",
       "      <td>0.98</td>\n",
       "      <td>0.93</td>\n",
       "      <td>0.97</td>\n",
       "      <td>0.93</td>\n",
       "      <td>0.97</td>\n",
       "      <td>0.93</td>\n",
       "      <td>0.98</td>\n",
       "      <td>0.93</td>\n",
       "      <td>0.0</td>\n",
       "    </tr>\n",
       "    <tr>\n",
       "      <th>598</th>\n",
       "      <td>0.7</td>\n",
       "      <td>0.741343</td>\n",
       "      <td>0.813042</td>\n",
       "      <td>0.57</td>\n",
       "      <td>0.784045</td>\n",
       "      <td>0.80</td>\n",
       "      <td>0.784045</td>\n",
       "      <td>0.80</td>\n",
       "      <td>0.784045</td>\n",
       "      <td>0.440</td>\n",
       "      <td>...</td>\n",
       "      <td>0.93</td>\n",
       "      <td>0.98</td>\n",
       "      <td>0.93</td>\n",
       "      <td>0.97</td>\n",
       "      <td>0.93</td>\n",
       "      <td>0.97</td>\n",
       "      <td>0.93</td>\n",
       "      <td>0.98</td>\n",
       "      <td>0.93</td>\n",
       "      <td>0.0</td>\n",
       "    </tr>\n",
       "    <tr>\n",
       "      <th>599</th>\n",
       "      <td>0.3</td>\n",
       "      <td>0.294490</td>\n",
       "      <td>0.438247</td>\n",
       "      <td>0.40</td>\n",
       "      <td>0.426801</td>\n",
       "      <td>0.32</td>\n",
       "      <td>0.426801</td>\n",
       "      <td>0.30</td>\n",
       "      <td>0.426801</td>\n",
       "      <td>0.320</td>\n",
       "      <td>...</td>\n",
       "      <td>0.93</td>\n",
       "      <td>0.98</td>\n",
       "      <td>0.93</td>\n",
       "      <td>0.97</td>\n",
       "      <td>0.93</td>\n",
       "      <td>0.97</td>\n",
       "      <td>0.93</td>\n",
       "      <td>0.98</td>\n",
       "      <td>0.93</td>\n",
       "      <td>0.0</td>\n",
       "    </tr>\n",
       "  </tbody>\n",
       "</table>\n",
       "<p>600 rows × 1546 columns</p>\n",
       "</div>"
      ],
      "text/plain": [
       "     0         1         2     3         4     5         6     7         8     \\\n",
       "0     0.0  0.053085  0.001439  0.00  0.004383  0.00  0.004383  0.00  0.004383   \n",
       "1     0.0  0.035696  0.002363  0.06  0.008302  0.04  0.008302  0.04  0.008302   \n",
       "2     0.1  0.101903  0.058239  0.24  0.072385  0.12  0.072385  0.16  0.072385   \n",
       "3     0.0  0.042193  0.005408  0.00  0.010435  0.00  0.010435  0.06  0.010435   \n",
       "4     0.0  0.228468  0.002295  0.02  0.007669  0.02  0.007669  0.10  0.007669   \n",
       "..    ...       ...       ...   ...       ...   ...       ...   ...       ...   \n",
       "595   0.8  0.850987  0.908467  0.78  0.884555  0.60  0.884555  0.70  0.884555   \n",
       "596   0.2  0.445272  0.236095  0.40  0.248048  0.58  0.248048  0.10  0.248048   \n",
       "597   1.0  0.808809  0.878567  0.82  0.868501  0.74  0.868501  0.94  0.868501   \n",
       "598   0.7  0.741343  0.813042  0.57  0.784045  0.80  0.784045  0.80  0.784045   \n",
       "599   0.3  0.294490  0.438247  0.40  0.426801  0.32  0.426801  0.30  0.426801   \n",
       "\n",
       "      9     ...  1536  1537  1538  1539  1540  1541  1542  1543  1544  1545  \n",
       "0    0.320  ...  0.93  0.98  0.93  0.97  0.93  0.97  0.93  0.98  0.93   2.0  \n",
       "1    0.180  ...  0.93  0.98  0.93  0.97  0.93  0.97  0.93  0.98  0.93   2.0  \n",
       "2    0.080  ...  0.93  0.98  0.93  0.97  0.93  0.97  0.93  0.98  0.93   2.0  \n",
       "3    0.420  ...  0.93  0.98  0.93  0.97  0.93  0.97  0.93  0.98  0.93   2.0  \n",
       "4    0.360  ...  0.93  0.98  0.93  0.97  0.93  0.97  0.93  0.98  0.93   2.0  \n",
       "..     ...  ...   ...   ...   ...   ...   ...   ...   ...   ...   ...   ...  \n",
       "595  0.480  ...  0.93  0.98  0.93  0.97  0.93  0.97  0.93  0.98  0.93   0.0  \n",
       "596  0.300  ...  0.93  0.98  0.93  0.97  0.93  0.97  0.93  0.98  0.93   0.0  \n",
       "597  0.926  ...  0.93  0.98  0.93  0.97  0.93  0.97  0.93  0.98  0.93   0.0  \n",
       "598  0.440  ...  0.93  0.98  0.93  0.97  0.93  0.97  0.93  0.98  0.93   0.0  \n",
       "599  0.320  ...  0.93  0.98  0.93  0.97  0.93  0.97  0.93  0.98  0.93   0.0  \n",
       "\n",
       "[600 rows x 1546 columns]"
      ]
     },
     "execution_count": 11,
     "metadata": {},
     "output_type": "execute_result"
    },
    {
     "data": {
      "application/javascript": [
       "\n",
       "            setTimeout(function() {\n",
       "                var nbb_cell_id = 11;\n",
       "                var nbb_unformatted_code = \"mydata\";\n",
       "                var nbb_formatted_code = \"mydata\";\n",
       "                var nbb_cells = Jupyter.notebook.get_cells();\n",
       "                for (var i = 0; i < nbb_cells.length; ++i) {\n",
       "                    if (nbb_cells[i].input_prompt_number == nbb_cell_id) {\n",
       "                        if (nbb_cells[i].get_text() == nbb_unformatted_code) {\n",
       "                             nbb_cells[i].set_text(nbb_formatted_code);\n",
       "                        }\n",
       "                        break;\n",
       "                    }\n",
       "                }\n",
       "            }, 500);\n",
       "            "
      ],
      "text/plain": [
       "<IPython.core.display.Javascript object>"
      ]
     },
     "metadata": {},
     "output_type": "display_data"
    }
   ],
   "source": [
    "mydata"
   ]
  },
  {
   "cell_type": "code",
   "execution_count": 12,
   "metadata": {},
   "outputs": [
    {
     "data": {
      "application/javascript": [
       "\n",
       "            setTimeout(function() {\n",
       "                var nbb_cell_id = 12;\n",
       "                var nbb_unformatted_code = \"x = mydata.iloc[:, :-1]\\ny = mydata.iloc[:, -1]\";\n",
       "                var nbb_formatted_code = \"x = mydata.iloc[:, :-1]\\ny = mydata.iloc[:, -1]\";\n",
       "                var nbb_cells = Jupyter.notebook.get_cells();\n",
       "                for (var i = 0; i < nbb_cells.length; ++i) {\n",
       "                    if (nbb_cells[i].input_prompt_number == nbb_cell_id) {\n",
       "                        if (nbb_cells[i].get_text() == nbb_unformatted_code) {\n",
       "                             nbb_cells[i].set_text(nbb_formatted_code);\n",
       "                        }\n",
       "                        break;\n",
       "                    }\n",
       "                }\n",
       "            }, 500);\n",
       "            "
      ],
      "text/plain": [
       "<IPython.core.display.Javascript object>"
      ]
     },
     "metadata": {},
     "output_type": "display_data"
    }
   ],
   "source": [
    "x = mydata.iloc[:, :-1]\n",
    "y = mydata.iloc[:, -1]"
   ]
  },
  {
   "cell_type": "code",
   "execution_count": 13,
   "metadata": {},
   "outputs": [
    {
     "name": "stdout",
     "output_type": "stream",
     "text": [
      "0.9611770515261799\n",
      "[0.69471437 0.19273916 0.01533792 0.0144969  0.01175875 0.005012\n",
      " 0.00305167 0.00289489 0.0026158  0.00255193 0.00216186 0.00199841\n",
      " 0.00180001 0.00166833 0.00158663 0.00150839 0.00147656 0.00133852\n",
      " 0.00125067 0.0012143 ]\n",
      "[108.75381801  57.283079    16.15937479  15.71009869  14.14887533\n",
      "   9.2373362    7.2079232    7.02032632   6.67335046   6.59137049\n",
      "   6.06673165   5.83288333   5.53578196   5.32944907   5.19731053\n",
      "   5.06755552   5.013797     4.77367774   4.6143664    4.54679304]\n"
     ]
    },
    {
     "data": {
      "application/javascript": [
       "\n",
       "            setTimeout(function() {\n",
       "                var nbb_cell_id = 13;\n",
       "                var nbb_unformatted_code = \"pca = PCA(n_components=20)\\nx = pca.fit_transform(x)\\n\\nprint(np.sum(pca.explained_variance_ratio_))\\nprint(pca.explained_variance_ratio_)\\n\\nprint(pca.singular_values_)\";\n",
       "                var nbb_formatted_code = \"pca = PCA(n_components=20)\\nx = pca.fit_transform(x)\\n\\nprint(np.sum(pca.explained_variance_ratio_))\\nprint(pca.explained_variance_ratio_)\\n\\nprint(pca.singular_values_)\";\n",
       "                var nbb_cells = Jupyter.notebook.get_cells();\n",
       "                for (var i = 0; i < nbb_cells.length; ++i) {\n",
       "                    if (nbb_cells[i].input_prompt_number == nbb_cell_id) {\n",
       "                        if (nbb_cells[i].get_text() == nbb_unformatted_code) {\n",
       "                             nbb_cells[i].set_text(nbb_formatted_code);\n",
       "                        }\n",
       "                        break;\n",
       "                    }\n",
       "                }\n",
       "            }, 500);\n",
       "            "
      ],
      "text/plain": [
       "<IPython.core.display.Javascript object>"
      ]
     },
     "metadata": {},
     "output_type": "display_data"
    }
   ],
   "source": [
    "pca = PCA(n_components=20)\n",
    "x = pca.fit_transform(x)\n",
    "\n",
    "print(np.sum(pca.explained_variance_ratio_))\n",
    "print(pca.explained_variance_ratio_)\n",
    "\n",
    "print(pca.singular_values_)"
   ]
  },
  {
   "cell_type": "code",
   "execution_count": 14,
   "metadata": {},
   "outputs": [
    {
     "data": {
      "application/javascript": [
       "\n",
       "            setTimeout(function() {\n",
       "                var nbb_cell_id = 14;\n",
       "                var nbb_unformatted_code = \"xtrain, xtest, ytrain, ytest = train_test_split(\\n    x, y, test_size=0.3, random_state=randomseed\\n)\";\n",
       "                var nbb_formatted_code = \"xtrain, xtest, ytrain, ytest = train_test_split(\\n    x, y, test_size=0.3, random_state=randomseed\\n)\";\n",
       "                var nbb_cells = Jupyter.notebook.get_cells();\n",
       "                for (var i = 0; i < nbb_cells.length; ++i) {\n",
       "                    if (nbb_cells[i].input_prompt_number == nbb_cell_id) {\n",
       "                        if (nbb_cells[i].get_text() == nbb_unformatted_code) {\n",
       "                             nbb_cells[i].set_text(nbb_formatted_code);\n",
       "                        }\n",
       "                        break;\n",
       "                    }\n",
       "                }\n",
       "            }, 500);\n",
       "            "
      ],
      "text/plain": [
       "<IPython.core.display.Javascript object>"
      ]
     },
     "metadata": {},
     "output_type": "display_data"
    }
   ],
   "source": [
    "xtrain, xtest, ytrain, ytest = train_test_split(\n",
    "    x, y, test_size=0.3, random_state=randomseed\n",
    ")"
   ]
  },
  {
   "cell_type": "code",
   "execution_count": 15,
   "metadata": {},
   "outputs": [
    {
     "name": "stdout",
     "output_type": "stream",
     "text": [
      "original score 0.7487706331608771\n"
     ]
    },
    {
     "data": {
      "application/javascript": [
       "\n",
       "            setTimeout(function() {\n",
       "                var nbb_cell_id = 15;\n",
       "                var nbb_unformatted_code = \"rf = RandomForestClassifier(\\n    random_state=randomseed,\\n    n_estimators=100,\\n    criterion=\\\"entropy\\\",\\n    max_depth=30,\\n    min_samples_split=4,\\n    min_samples_leaf=2,\\n    max_features=\\\"auto\\\",\\n)\\nrf.fit(xtrain, ytrain)\\nprint(\\\"original score\\\", m.f1_score(ytest, rf.predict(xtest), average=\\\"weighted\\\"))\";\n",
       "                var nbb_formatted_code = \"rf = RandomForestClassifier(\\n    random_state=randomseed,\\n    n_estimators=100,\\n    criterion=\\\"entropy\\\",\\n    max_depth=30,\\n    min_samples_split=4,\\n    min_samples_leaf=2,\\n    max_features=\\\"auto\\\",\\n)\\nrf.fit(xtrain, ytrain)\\nprint(\\\"original score\\\", m.f1_score(ytest, rf.predict(xtest), average=\\\"weighted\\\"))\";\n",
       "                var nbb_cells = Jupyter.notebook.get_cells();\n",
       "                for (var i = 0; i < nbb_cells.length; ++i) {\n",
       "                    if (nbb_cells[i].input_prompt_number == nbb_cell_id) {\n",
       "                        if (nbb_cells[i].get_text() == nbb_unformatted_code) {\n",
       "                             nbb_cells[i].set_text(nbb_formatted_code);\n",
       "                        }\n",
       "                        break;\n",
       "                    }\n",
       "                }\n",
       "            }, 500);\n",
       "            "
      ],
      "text/plain": [
       "<IPython.core.display.Javascript object>"
      ]
     },
     "metadata": {},
     "output_type": "display_data"
    }
   ],
   "source": [
    "rf = RandomForestClassifier(\n",
    "    random_state=randomseed,\n",
    "    n_estimators=100,\n",
    "    criterion=\"entropy\",\n",
    "    max_depth=30,\n",
    "    min_samples_split=4,\n",
    "    min_samples_leaf=2,\n",
    "    max_features=\"auto\",\n",
    ")\n",
    "rf.fit(xtrain, ytrain)\n",
    "print(\"original score\", m.f1_score(ytest, rf.predict(xtest), average=\"weighted\"))"
   ]
  },
  {
   "cell_type": "code",
   "execution_count": 16,
   "metadata": {},
   "outputs": [
    {
     "name": "stdout",
     "output_type": "stream",
     "text": [
      "original score 2 0.725464068609665\n"
     ]
    },
    {
     "data": {
      "application/javascript": [
       "\n",
       "            setTimeout(function() {\n",
       "                var nbb_cell_id = 16;\n",
       "                var nbb_unformatted_code = \"xgbc = xgb.XGBClassifier(random_state=randomseed, n_estimators=100)\\nxgbc.fit(xtrain, ytrain)\\nxgbpred = xgbc.predict(xtest)\\nprint(\\\"original score 2\\\", m.f1_score(ytest, xgbpred, average=\\\"weighted\\\"))\";\n",
       "                var nbb_formatted_code = \"xgbc = xgb.XGBClassifier(random_state=randomseed, n_estimators=100)\\nxgbc.fit(xtrain, ytrain)\\nxgbpred = xgbc.predict(xtest)\\nprint(\\\"original score 2\\\", m.f1_score(ytest, xgbpred, average=\\\"weighted\\\"))\";\n",
       "                var nbb_cells = Jupyter.notebook.get_cells();\n",
       "                for (var i = 0; i < nbb_cells.length; ++i) {\n",
       "                    if (nbb_cells[i].input_prompt_number == nbb_cell_id) {\n",
       "                        if (nbb_cells[i].get_text() == nbb_unformatted_code) {\n",
       "                             nbb_cells[i].set_text(nbb_formatted_code);\n",
       "                        }\n",
       "                        break;\n",
       "                    }\n",
       "                }\n",
       "            }, 500);\n",
       "            "
      ],
      "text/plain": [
       "<IPython.core.display.Javascript object>"
      ]
     },
     "metadata": {},
     "output_type": "display_data"
    }
   ],
   "source": [
    "xgbc = xgb.XGBClassifier(random_state=randomseed, n_estimators=100)\n",
    "xgbc.fit(xtrain, ytrain)\n",
    "xgbpred = xgbc.predict(xtest)\n",
    "print(\"original score 2\", m.f1_score(ytest, xgbpred, average=\"weighted\"))"
   ]
  },
  {
   "cell_type": "code",
   "execution_count": 17,
   "metadata": {},
   "outputs": [
    {
     "name": "stdout",
     "output_type": "stream",
     "text": [
      "0.7577675862228707\n"
     ]
    },
    {
     "data": {
      "application/javascript": [
       "\n",
       "            setTimeout(function() {\n",
       "                var nbb_cell_id = 17;\n",
       "                var nbb_unformatted_code = \"svc = svmgpu(random_state=randomseed, probability=True, C=0.85, gamma=0.0001)\\nsvc.fit(xtrain, ytrain)\\n\\nsvcpred = svc.predict(xtest)\\nprint(m.f1_score(ytest, svcpred, average=\\\"weighted\\\"))\";\n",
       "                var nbb_formatted_code = \"svc = svmgpu(random_state=randomseed, probability=True, C=0.85, gamma=0.0001)\\nsvc.fit(xtrain, ytrain)\\n\\nsvcpred = svc.predict(xtest)\\nprint(m.f1_score(ytest, svcpred, average=\\\"weighted\\\"))\";\n",
       "                var nbb_cells = Jupyter.notebook.get_cells();\n",
       "                for (var i = 0; i < nbb_cells.length; ++i) {\n",
       "                    if (nbb_cells[i].input_prompt_number == nbb_cell_id) {\n",
       "                        if (nbb_cells[i].get_text() == nbb_unformatted_code) {\n",
       "                             nbb_cells[i].set_text(nbb_formatted_code);\n",
       "                        }\n",
       "                        break;\n",
       "                    }\n",
       "                }\n",
       "            }, 500);\n",
       "            "
      ],
      "text/plain": [
       "<IPython.core.display.Javascript object>"
      ]
     },
     "metadata": {},
     "output_type": "display_data"
    }
   ],
   "source": [
    "svc = svmgpu(random_state=randomseed, probability=True, C=0.85, gamma=0.0001)\n",
    "svc.fit(xtrain, ytrain)\n",
    "\n",
    "svcpred = svc.predict(xtest)\n",
    "print(m.f1_score(ytest, svcpred, average=\"weighted\"))"
   ]
  },
  {
   "cell_type": "code",
   "execution_count": 18,
   "metadata": {},
   "outputs": [
    {
     "name": "stdout",
     "output_type": "stream",
     "text": [
      "0.745  std  0.03876567783204336\n"
     ]
    },
    {
     "data": {
      "application/javascript": [
       "\n",
       "            setTimeout(function() {\n",
       "                var nbb_cell_id = 18;\n",
       "                var nbb_unformatted_code = \"rf_cv = cross_val_score(rf, x, y, cv=10, verbose=0)\\nprint(np.mean(rf_cv), \\\" std \\\", np.std(rf_cv))\";\n",
       "                var nbb_formatted_code = \"rf_cv = cross_val_score(rf, x, y, cv=10, verbose=0)\\nprint(np.mean(rf_cv), \\\" std \\\", np.std(rf_cv))\";\n",
       "                var nbb_cells = Jupyter.notebook.get_cells();\n",
       "                for (var i = 0; i < nbb_cells.length; ++i) {\n",
       "                    if (nbb_cells[i].input_prompt_number == nbb_cell_id) {\n",
       "                        if (nbb_cells[i].get_text() == nbb_unformatted_code) {\n",
       "                             nbb_cells[i].set_text(nbb_formatted_code);\n",
       "                        }\n",
       "                        break;\n",
       "                    }\n",
       "                }\n",
       "            }, 500);\n",
       "            "
      ],
      "text/plain": [
       "<IPython.core.display.Javascript object>"
      ]
     },
     "metadata": {},
     "output_type": "display_data"
    }
   ],
   "source": [
    "rf_cv = cross_val_score(rf, x, y, cv=10, verbose=0)\n",
    "print(np.mean(rf_cv), \" std \", np.std(rf_cv))"
   ]
  },
  {
   "cell_type": "code",
   "execution_count": 19,
   "metadata": {},
   "outputs": [
    {
     "name": "stdout",
     "output_type": "stream",
     "text": [
      "0.735  std  0.033706247360261135\n"
     ]
    },
    {
     "data": {
      "application/javascript": [
       "\n",
       "            setTimeout(function() {\n",
       "                var nbb_cell_id = 19;\n",
       "                var nbb_unformatted_code = \"svc_cv = cross_val_score(svc, x, y, cv=10, verbose=0)\\nprint(np.mean(svc_cv), \\\" std \\\", np.std(svc_cv))\";\n",
       "                var nbb_formatted_code = \"svc_cv = cross_val_score(svc, x, y, cv=10, verbose=0)\\nprint(np.mean(svc_cv), \\\" std \\\", np.std(svc_cv))\";\n",
       "                var nbb_cells = Jupyter.notebook.get_cells();\n",
       "                for (var i = 0; i < nbb_cells.length; ++i) {\n",
       "                    if (nbb_cells[i].input_prompt_number == nbb_cell_id) {\n",
       "                        if (nbb_cells[i].get_text() == nbb_unformatted_code) {\n",
       "                             nbb_cells[i].set_text(nbb_formatted_code);\n",
       "                        }\n",
       "                        break;\n",
       "                    }\n",
       "                }\n",
       "            }, 500);\n",
       "            "
      ],
      "text/plain": [
       "<IPython.core.display.Javascript object>"
      ]
     },
     "metadata": {},
     "output_type": "display_data"
    }
   ],
   "source": [
    "svc_cv = cross_val_score(svc, x, y, cv=10, verbose=0)\n",
    "print(np.mean(svc_cv), \" std \", np.std(svc_cv))"
   ]
  },
  {
   "cell_type": "code",
   "execution_count": 20,
   "metadata": {},
   "outputs": [
    {
     "name": "stdout",
     "output_type": "stream",
     "text": [
      "0.7350000000000001  std  0.036855573979159985\n"
     ]
    },
    {
     "data": {
      "application/javascript": [
       "\n",
       "            setTimeout(function() {\n",
       "                var nbb_cell_id = 20;\n",
       "                var nbb_unformatted_code = \"xgbc_cv = cross_val_score(xgbc, x, y, cv=10, verbose=0)\\nprint(np.mean(xgbc_cv), \\\" std \\\", np.std(xgbc_cv))\";\n",
       "                var nbb_formatted_code = \"xgbc_cv = cross_val_score(xgbc, x, y, cv=10, verbose=0)\\nprint(np.mean(xgbc_cv), \\\" std \\\", np.std(xgbc_cv))\";\n",
       "                var nbb_cells = Jupyter.notebook.get_cells();\n",
       "                for (var i = 0; i < nbb_cells.length; ++i) {\n",
       "                    if (nbb_cells[i].input_prompt_number == nbb_cell_id) {\n",
       "                        if (nbb_cells[i].get_text() == nbb_unformatted_code) {\n",
       "                             nbb_cells[i].set_text(nbb_formatted_code);\n",
       "                        }\n",
       "                        break;\n",
       "                    }\n",
       "                }\n",
       "            }, 500);\n",
       "            "
      ],
      "text/plain": [
       "<IPython.core.display.Javascript object>"
      ]
     },
     "metadata": {},
     "output_type": "display_data"
    }
   ],
   "source": [
    "xgbc_cv = cross_val_score(xgbc, x, y, cv=10, verbose=0)\n",
    "print(np.mean(xgbc_cv), \" std \", np.std(xgbc_cv))"
   ]
  },
  {
   "cell_type": "code",
   "execution_count": 21,
   "metadata": {},
   "outputs": [
    {
     "data": {
      "text/plain": [
       "array([0.8       , 0.76666667, 0.75      , 0.71666667, 0.78333333,\n",
       "       0.68333333, 0.73333333, 0.71666667, 0.7       , 0.7       ])"
      ]
     },
     "execution_count": 21,
     "metadata": {},
     "output_type": "execute_result"
    },
    {
     "data": {
      "application/javascript": [
       "\n",
       "            setTimeout(function() {\n",
       "                var nbb_cell_id = 21;\n",
       "                var nbb_unformatted_code = \"xgbc_cv\";\n",
       "                var nbb_formatted_code = \"xgbc_cv\";\n",
       "                var nbb_cells = Jupyter.notebook.get_cells();\n",
       "                for (var i = 0; i < nbb_cells.length; ++i) {\n",
       "                    if (nbb_cells[i].input_prompt_number == nbb_cell_id) {\n",
       "                        if (nbb_cells[i].get_text() == nbb_unformatted_code) {\n",
       "                             nbb_cells[i].set_text(nbb_formatted_code);\n",
       "                        }\n",
       "                        break;\n",
       "                    }\n",
       "                }\n",
       "            }, 500);\n",
       "            "
      ],
      "text/plain": [
       "<IPython.core.display.Javascript object>"
      ]
     },
     "metadata": {},
     "output_type": "display_data"
    }
   ],
   "source": [
    "xgbc_cv"
   ]
  },
  {
   "cell_type": "code",
   "execution_count": null,
   "metadata": {},
   "outputs": [],
   "source": []
  }
 ],
 "metadata": {
  "kernelspec": {
   "display_name": "Python 3",
   "language": "python",
   "name": "python3"
  },
  "language_info": {
   "codemirror_mode": {
    "name": "ipython",
    "version": 3
   },
   "file_extension": ".py",
   "mimetype": "text/x-python",
   "name": "python",
   "nbconvert_exporter": "python",
   "pygments_lexer": "ipython3",
   "version": "3.7.7"
  }
 },
 "nbformat": 4,
 "nbformat_minor": 4
}
