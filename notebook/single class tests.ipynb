{
 "cells": [
  {
   "cell_type": "code",
   "execution_count": 1,
   "metadata": {},
   "outputs": [
    {
     "data": {
      "application/javascript": [
       "\n",
       "            setTimeout(function() {\n",
       "                var nbb_cell_id = 1;\n",
       "                var nbb_unformatted_code = \"%load_ext nb_black\";\n",
       "                var nbb_formatted_code = \"%load_ext nb_black\";\n",
       "                var nbb_cells = Jupyter.notebook.get_cells();\n",
       "                for (var i = 0; i < nbb_cells.length; ++i) {\n",
       "                    if (nbb_cells[i].input_prompt_number == nbb_cell_id) {\n",
       "                        if (nbb_cells[i].get_text() == nbb_unformatted_code) {\n",
       "                             nbb_cells[i].set_text(nbb_formatted_code);\n",
       "                        }\n",
       "                        break;\n",
       "                    }\n",
       "                }\n",
       "            }, 500);\n",
       "            "
      ],
      "text/plain": [
       "<IPython.core.display.Javascript object>"
      ]
     },
     "metadata": {},
     "output_type": "display_data"
    }
   ],
   "source": [
    "%load_ext nb_black"
   ]
  },
  {
   "cell_type": "code",
   "execution_count": 2,
   "metadata": {},
   "outputs": [
    {
     "data": {
      "application/javascript": [
       "\n",
       "            setTimeout(function() {\n",
       "                var nbb_cell_id = 2;\n",
       "                var nbb_unformatted_code = \"import numpy as np\\nimport pandas as pd\\nfrom sklearn import metrics as m\";\n",
       "                var nbb_formatted_code = \"import numpy as np\\nimport pandas as pd\\nfrom sklearn import metrics as m\";\n",
       "                var nbb_cells = Jupyter.notebook.get_cells();\n",
       "                for (var i = 0; i < nbb_cells.length; ++i) {\n",
       "                    if (nbb_cells[i].input_prompt_number == nbb_cell_id) {\n",
       "                        if (nbb_cells[i].get_text() == nbb_unformatted_code) {\n",
       "                             nbb_cells[i].set_text(nbb_formatted_code);\n",
       "                        }\n",
       "                        break;\n",
       "                    }\n",
       "                }\n",
       "            }, 500);\n",
       "            "
      ],
      "text/plain": [
       "<IPython.core.display.Javascript object>"
      ]
     },
     "metadata": {},
     "output_type": "display_data"
    }
   ],
   "source": [
    "import numpy as np\n",
    "import pandas as pd\n",
    "from sklearn import metrics as m"
   ]
  },
  {
   "cell_type": "code",
   "execution_count": 3,
   "metadata": {},
   "outputs": [
    {
     "data": {
      "application/javascript": [
       "\n",
       "            setTimeout(function() {\n",
       "                var nbb_cell_id = 3;\n",
       "                var nbb_unformatted_code = \"pd_acc_class0 = pd.read_csv(\\\"pd_acc_class0.txt\\\")\\npd_ypredproba_all_class0 = pd.read_csv(\\\"pd_ypredproba_all_class0.txt\\\")\\npd_ypredconfprob_all_class0 = pd.read_csv(\\\"pd_ypredconfprob_all_class0.txt\\\")\";\n",
       "                var nbb_formatted_code = \"pd_acc_class0 = pd.read_csv(\\\"pd_acc_class0.txt\\\")\\npd_ypredproba_all_class0 = pd.read_csv(\\\"pd_ypredproba_all_class0.txt\\\")\\npd_ypredconfprob_all_class0 = pd.read_csv(\\\"pd_ypredconfprob_all_class0.txt\\\")\";\n",
       "                var nbb_cells = Jupyter.notebook.get_cells();\n",
       "                for (var i = 0; i < nbb_cells.length; ++i) {\n",
       "                    if (nbb_cells[i].input_prompt_number == nbb_cell_id) {\n",
       "                        if (nbb_cells[i].get_text() == nbb_unformatted_code) {\n",
       "                             nbb_cells[i].set_text(nbb_formatted_code);\n",
       "                        }\n",
       "                        break;\n",
       "                    }\n",
       "                }\n",
       "            }, 500);\n",
       "            "
      ],
      "text/plain": [
       "<IPython.core.display.Javascript object>"
      ]
     },
     "metadata": {},
     "output_type": "display_data"
    }
   ],
   "source": [
    "pd_acc_class0 = pd.read_csv(\"pd_acc_class0.txt\")\n",
    "pd_ypredproba_all_class0 = pd.read_csv(\"pd_ypredproba_all_class0.txt\")\n",
    "pd_ypredconfprob_all_class0 = pd.read_csv(\"pd_ypredconfprob_all_class0.txt\")"
   ]
  },
  {
   "cell_type": "code",
   "execution_count": 4,
   "metadata": {},
   "outputs": [
    {
     "data": {
      "application/javascript": [
       "\n",
       "            setTimeout(function() {\n",
       "                var nbb_cell_id = 4;\n",
       "                var nbb_unformatted_code = \"pd_acc_class1 = pd.read_csv(\\\"pd_acc_class1.txt\\\")\\npd_ypredproba_all_class1 = pd.read_csv(\\\"pd_ypredproba_all_class1.txt\\\")\\npd_ypredconfprob_all_class1 = pd.read_csv(\\\"pd_ypredconfprob_all_class1.txt\\\")\";\n",
       "                var nbb_formatted_code = \"pd_acc_class1 = pd.read_csv(\\\"pd_acc_class1.txt\\\")\\npd_ypredproba_all_class1 = pd.read_csv(\\\"pd_ypredproba_all_class1.txt\\\")\\npd_ypredconfprob_all_class1 = pd.read_csv(\\\"pd_ypredconfprob_all_class1.txt\\\")\";\n",
       "                var nbb_cells = Jupyter.notebook.get_cells();\n",
       "                for (var i = 0; i < nbb_cells.length; ++i) {\n",
       "                    if (nbb_cells[i].input_prompt_number == nbb_cell_id) {\n",
       "                        if (nbb_cells[i].get_text() == nbb_unformatted_code) {\n",
       "                             nbb_cells[i].set_text(nbb_formatted_code);\n",
       "                        }\n",
       "                        break;\n",
       "                    }\n",
       "                }\n",
       "            }, 500);\n",
       "            "
      ],
      "text/plain": [
       "<IPython.core.display.Javascript object>"
      ]
     },
     "metadata": {},
     "output_type": "display_data"
    }
   ],
   "source": [
    "pd_acc_class1 = pd.read_csv(\"pd_acc_class1.txt\")\n",
    "pd_ypredproba_all_class1 = pd.read_csv(\"pd_ypredproba_all_class1.txt\")\n",
    "pd_ypredconfprob_all_class1 = pd.read_csv(\"pd_ypredconfprob_all_class1.txt\")"
   ]
  },
  {
   "cell_type": "code",
   "execution_count": 5,
   "metadata": {},
   "outputs": [
    {
     "data": {
      "application/javascript": [
       "\n",
       "            setTimeout(function() {\n",
       "                var nbb_cell_id = 5;\n",
       "                var nbb_unformatted_code = \"pd_acc_class2 = pd.read_csv(\\\"pd_acc_class2.txt\\\")\\npd_ypredproba_all_class2 = pd.read_csv(\\\"pd_ypredproba_all_class2.txt\\\")\\npd_ypredconfprob_all_class2 = pd.read_csv(\\\"pd_ypredconfprob_all_class2.txt\\\")\";\n",
       "                var nbb_formatted_code = \"pd_acc_class2 = pd.read_csv(\\\"pd_acc_class2.txt\\\")\\npd_ypredproba_all_class2 = pd.read_csv(\\\"pd_ypredproba_all_class2.txt\\\")\\npd_ypredconfprob_all_class2 = pd.read_csv(\\\"pd_ypredconfprob_all_class2.txt\\\")\";\n",
       "                var nbb_cells = Jupyter.notebook.get_cells();\n",
       "                for (var i = 0; i < nbb_cells.length; ++i) {\n",
       "                    if (nbb_cells[i].input_prompt_number == nbb_cell_id) {\n",
       "                        if (nbb_cells[i].get_text() == nbb_unformatted_code) {\n",
       "                             nbb_cells[i].set_text(nbb_formatted_code);\n",
       "                        }\n",
       "                        break;\n",
       "                    }\n",
       "                }\n",
       "            }, 500);\n",
       "            "
      ],
      "text/plain": [
       "<IPython.core.display.Javascript object>"
      ]
     },
     "metadata": {},
     "output_type": "display_data"
    }
   ],
   "source": [
    "pd_acc_class2 = pd.read_csv(\"pd_acc_class2.txt\")\n",
    "pd_ypredproba_all_class2 = pd.read_csv(\"pd_ypredproba_all_class2.txt\")\n",
    "pd_ypredconfprob_all_class2 = pd.read_csv(\"pd_ypredconfprob_all_class2.txt\")"
   ]
  },
  {
   "cell_type": "code",
   "execution_count": 6,
   "metadata": {},
   "outputs": [
    {
     "data": {
      "application/javascript": [
       "\n",
       "            setTimeout(function() {\n",
       "                var nbb_cell_id = 6;\n",
       "                var nbb_unformatted_code = \"ytest_class0 = pd.read_csv(\\\"ytest_class0.txt\\\")\\nytest_class1 = pd.read_csv(\\\"ytest_class1.txt\\\")\\nytest_class2 = pd.read_csv(\\\"ytest_class2.txt\\\")\\nytest_original = pd.read_csv(\\\"ytest_original.txt\\\")\";\n",
       "                var nbb_formatted_code = \"ytest_class0 = pd.read_csv(\\\"ytest_class0.txt\\\")\\nytest_class1 = pd.read_csv(\\\"ytest_class1.txt\\\")\\nytest_class2 = pd.read_csv(\\\"ytest_class2.txt\\\")\\nytest_original = pd.read_csv(\\\"ytest_original.txt\\\")\";\n",
       "                var nbb_cells = Jupyter.notebook.get_cells();\n",
       "                for (var i = 0; i < nbb_cells.length; ++i) {\n",
       "                    if (nbb_cells[i].input_prompt_number == nbb_cell_id) {\n",
       "                        if (nbb_cells[i].get_text() == nbb_unformatted_code) {\n",
       "                             nbb_cells[i].set_text(nbb_formatted_code);\n",
       "                        }\n",
       "                        break;\n",
       "                    }\n",
       "                }\n",
       "            }, 500);\n",
       "            "
      ],
      "text/plain": [
       "<IPython.core.display.Javascript object>"
      ]
     },
     "metadata": {},
     "output_type": "display_data"
    }
   ],
   "source": [
    "ytest_class0 = pd.read_csv(\"ytest_class0.txt\")\n",
    "ytest_class1 = pd.read_csv(\"ytest_class1.txt\")\n",
    "ytest_class2 = pd.read_csv(\"ytest_class2.txt\")\n",
    "ytest_original = pd.read_csv(\"ytest_original.txt\")"
   ]
  },
  {
   "cell_type": "code",
   "execution_count": 7,
   "metadata": {},
   "outputs": [
    {
     "data": {
      "text/html": [
       "<div>\n",
       "<style scoped>\n",
       "    .dataframe tbody tr th:only-of-type {\n",
       "        vertical-align: middle;\n",
       "    }\n",
       "\n",
       "    .dataframe tbody tr th {\n",
       "        vertical-align: top;\n",
       "    }\n",
       "\n",
       "    .dataframe thead th {\n",
       "        text-align: right;\n",
       "    }\n",
       "</style>\n",
       "<table border=\"1\" class=\"dataframe\">\n",
       "  <thead>\n",
       "    <tr style=\"text-align: right;\">\n",
       "      <th></th>\n",
       "      <th>0</th>\n",
       "      <th>1</th>\n",
       "      <th>2</th>\n",
       "      <th>3</th>\n",
       "      <th>4</th>\n",
       "      <th>5</th>\n",
       "      <th>6</th>\n",
       "      <th>7</th>\n",
       "      <th>8</th>\n",
       "      <th>9</th>\n",
       "      <th>...</th>\n",
       "      <th>590</th>\n",
       "      <th>591</th>\n",
       "      <th>592</th>\n",
       "      <th>593</th>\n",
       "      <th>594</th>\n",
       "      <th>595</th>\n",
       "      <th>596</th>\n",
       "      <th>597</th>\n",
       "      <th>598</th>\n",
       "      <th>599</th>\n",
       "    </tr>\n",
       "  </thead>\n",
       "  <tbody>\n",
       "    <tr>\n",
       "      <th>0</th>\n",
       "      <td>0.000000</td>\n",
       "      <td>0.000000</td>\n",
       "      <td>0.100000</td>\n",
       "      <td>0.000000</td>\n",
       "      <td>0.000000</td>\n",
       "      <td>0.600000</td>\n",
       "      <td>0.000000</td>\n",
       "      <td>0.000000</td>\n",
       "      <td>0.000000</td>\n",
       "      <td>0.300000</td>\n",
       "      <td>...</td>\n",
       "      <td>0.500000</td>\n",
       "      <td>0.200000</td>\n",
       "      <td>1.000000</td>\n",
       "      <td>0.800000</td>\n",
       "      <td>0.800000</td>\n",
       "      <td>0.800000</td>\n",
       "      <td>0.200000</td>\n",
       "      <td>1.000000</td>\n",
       "      <td>0.700000</td>\n",
       "      <td>0.300000</td>\n",
       "    </tr>\n",
       "    <tr>\n",
       "      <th>1</th>\n",
       "      <td>0.053085</td>\n",
       "      <td>0.035696</td>\n",
       "      <td>0.101903</td>\n",
       "      <td>0.042193</td>\n",
       "      <td>0.228468</td>\n",
       "      <td>0.396880</td>\n",
       "      <td>0.160072</td>\n",
       "      <td>0.004607</td>\n",
       "      <td>0.065926</td>\n",
       "      <td>0.187085</td>\n",
       "      <td>...</td>\n",
       "      <td>0.256247</td>\n",
       "      <td>0.161606</td>\n",
       "      <td>0.733219</td>\n",
       "      <td>0.802460</td>\n",
       "      <td>0.481447</td>\n",
       "      <td>0.850987</td>\n",
       "      <td>0.445272</td>\n",
       "      <td>0.808809</td>\n",
       "      <td>0.741343</td>\n",
       "      <td>0.294490</td>\n",
       "    </tr>\n",
       "    <tr>\n",
       "      <th>2</th>\n",
       "      <td>0.001439</td>\n",
       "      <td>0.002363</td>\n",
       "      <td>0.058239</td>\n",
       "      <td>0.005408</td>\n",
       "      <td>0.002295</td>\n",
       "      <td>0.681239</td>\n",
       "      <td>0.000936</td>\n",
       "      <td>0.003650</td>\n",
       "      <td>0.002405</td>\n",
       "      <td>0.100384</td>\n",
       "      <td>...</td>\n",
       "      <td>0.604715</td>\n",
       "      <td>0.109936</td>\n",
       "      <td>0.803831</td>\n",
       "      <td>0.869039</td>\n",
       "      <td>0.684544</td>\n",
       "      <td>0.908467</td>\n",
       "      <td>0.236095</td>\n",
       "      <td>0.878567</td>\n",
       "      <td>0.813042</td>\n",
       "      <td>0.438247</td>\n",
       "    </tr>\n",
       "    <tr>\n",
       "      <th>3</th>\n",
       "      <td>0.040000</td>\n",
       "      <td>0.000000</td>\n",
       "      <td>0.180000</td>\n",
       "      <td>0.080000</td>\n",
       "      <td>0.080000</td>\n",
       "      <td>0.680000</td>\n",
       "      <td>0.160000</td>\n",
       "      <td>0.040000</td>\n",
       "      <td>0.040000</td>\n",
       "      <td>0.140000</td>\n",
       "      <td>...</td>\n",
       "      <td>0.260000</td>\n",
       "      <td>0.240000</td>\n",
       "      <td>0.700000</td>\n",
       "      <td>0.820000</td>\n",
       "      <td>0.740000</td>\n",
       "      <td>0.720000</td>\n",
       "      <td>0.560000</td>\n",
       "      <td>0.680000</td>\n",
       "      <td>0.560000</td>\n",
       "      <td>0.480000</td>\n",
       "    </tr>\n",
       "    <tr>\n",
       "      <th>4</th>\n",
       "      <td>0.004383</td>\n",
       "      <td>0.008302</td>\n",
       "      <td>0.072385</td>\n",
       "      <td>0.010435</td>\n",
       "      <td>0.007669</td>\n",
       "      <td>0.692125</td>\n",
       "      <td>0.004383</td>\n",
       "      <td>0.008084</td>\n",
       "      <td>0.005516</td>\n",
       "      <td>0.109870</td>\n",
       "      <td>...</td>\n",
       "      <td>0.616562</td>\n",
       "      <td>0.136697</td>\n",
       "      <td>0.800308</td>\n",
       "      <td>0.858310</td>\n",
       "      <td>0.652514</td>\n",
       "      <td>0.884555</td>\n",
       "      <td>0.248048</td>\n",
       "      <td>0.868501</td>\n",
       "      <td>0.784045</td>\n",
       "      <td>0.426801</td>\n",
       "    </tr>\n",
       "  </tbody>\n",
       "</table>\n",
       "<p>5 rows × 600 columns</p>\n",
       "</div>"
      ],
      "text/plain": [
       "          0         1         2         3         4         5         6  \\\n",
       "0  0.000000  0.000000  0.100000  0.000000  0.000000  0.600000  0.000000   \n",
       "1  0.053085  0.035696  0.101903  0.042193  0.228468  0.396880  0.160072   \n",
       "2  0.001439  0.002363  0.058239  0.005408  0.002295  0.681239  0.000936   \n",
       "3  0.040000  0.000000  0.180000  0.080000  0.080000  0.680000  0.160000   \n",
       "4  0.004383  0.008302  0.072385  0.010435  0.007669  0.692125  0.004383   \n",
       "\n",
       "          7         8         9  ...       590       591       592       593  \\\n",
       "0  0.000000  0.000000  0.300000  ...  0.500000  0.200000  1.000000  0.800000   \n",
       "1  0.004607  0.065926  0.187085  ...  0.256247  0.161606  0.733219  0.802460   \n",
       "2  0.003650  0.002405  0.100384  ...  0.604715  0.109936  0.803831  0.869039   \n",
       "3  0.040000  0.040000  0.140000  ...  0.260000  0.240000  0.700000  0.820000   \n",
       "4  0.008084  0.005516  0.109870  ...  0.616562  0.136697  0.800308  0.858310   \n",
       "\n",
       "        594       595       596       597       598       599  \n",
       "0  0.800000  0.800000  0.200000  1.000000  0.700000  0.300000  \n",
       "1  0.481447  0.850987  0.445272  0.808809  0.741343  0.294490  \n",
       "2  0.684544  0.908467  0.236095  0.878567  0.813042  0.438247  \n",
       "3  0.740000  0.720000  0.560000  0.680000  0.560000  0.480000  \n",
       "4  0.652514  0.884555  0.248048  0.868501  0.784045  0.426801  \n",
       "\n",
       "[5 rows x 600 columns]"
      ]
     },
     "execution_count": 7,
     "metadata": {},
     "output_type": "execute_result"
    },
    {
     "data": {
      "application/javascript": [
       "\n",
       "            setTimeout(function() {\n",
       "                var nbb_cell_id = 7;\n",
       "                var nbb_unformatted_code = \"pd_ypredproba_all_class0.head()\";\n",
       "                var nbb_formatted_code = \"pd_ypredproba_all_class0.head()\";\n",
       "                var nbb_cells = Jupyter.notebook.get_cells();\n",
       "                for (var i = 0; i < nbb_cells.length; ++i) {\n",
       "                    if (nbb_cells[i].input_prompt_number == nbb_cell_id) {\n",
       "                        if (nbb_cells[i].get_text() == nbb_unformatted_code) {\n",
       "                             nbb_cells[i].set_text(nbb_formatted_code);\n",
       "                        }\n",
       "                        break;\n",
       "                    }\n",
       "                }\n",
       "            }, 500);\n",
       "            "
      ],
      "text/plain": [
       "<IPython.core.display.Javascript object>"
      ]
     },
     "metadata": {},
     "output_type": "display_data"
    }
   ],
   "source": [
    "pd_ypredproba_all_class0.head()"
   ]
  },
  {
   "cell_type": "code",
   "execution_count": 35,
   "metadata": {
    "scrolled": true
   },
   "outputs": [
    {
     "name": "stdout",
     "output_type": "stream",
     "text": [
      "0.6765880295918836 0.6765880295918836\n",
      "0.5333333333333333 0.5333333333333333\n",
      "0.7315606204495092 0.7315606204495092\n",
      "0.6719547585385817 0.6719547585385817\n",
      "0.738221824835998 0.738221824835998\n",
      "0.5554454483629652 0.5554454483629652\n",
      "0.738221824835998 0.738221824835998\n",
      "0.6909657774380997 0.6909657774380997\n",
      "0.738221824835998 0.738221824835998\n",
      "0.6671622795018497 0.6671622795018497\n",
      "0.738221824835998 0.738221824835998\n",
      "0.7195062755703487 0.7195062755703487\n",
      "0.738221824835998 0.738221824835998\n",
      "0.7133949365186689 0.7133949365186689\n",
      "0.738221824835998 0.738221824835998\n",
      "0.7365201995815226 0.7365201995815226\n",
      "0.738221824835998 0.738221824835998\n",
      "0.7151400163312359 0.7151400163312359\n",
      "0.738221824835998 0.738221824835998\n",
      "0.6686906267827467 0.6686906267827467\n",
      "0.738221824835998 0.738221824835998\n",
      "0.7367099797752427 0.7367099797752427\n",
      "0.738221824835998 0.738221824835998\n",
      "0.5572195123871613 0.5572195123871613\n",
      "0.738221824835998 0.738221824835998\n",
      "0.714013844448627 0.714013844448627\n",
      "0.738221824835998 0.738221824835998\n",
      "0.6792261023490579 0.6792261023490579\n",
      "0.738221824835998 0.738221824835998\n",
      "0.6488836662749705 0.6488836662749705\n",
      "0.738221824835998 0.738221824835998\n",
      "0.675610939929636 0.675610939929636\n",
      "0.738221824835998 0.738221824835998\n",
      "0.7326275222087121 0.7326275222087121\n",
      "0.738221824835998 0.738221824835998\n",
      "0.6708136128014424 0.6708136128014424\n",
      "0.738221824835998 0.738221824835998\n",
      "0.7049526639561011 0.7049526639561011\n",
      "0.738221824835998 0.738221824835998\n",
      "0.6574682115197958 0.6574682115197958\n",
      "0.738221824835998 0.738221824835998\n",
      "0.714013844448627 0.714013844448627\n",
      "0.738221824835998 0.738221824835998\n",
      "0.5761411906311451 0.5761411906311451\n",
      "0.738221824835998 0.738221824835998\n",
      "0.6702952881223997 0.6702952881223997\n",
      "0.738221824835998 0.738221824835998\n",
      "0.6843790440783967 0.6843790440783967\n",
      "0.738221824835998 0.738221824835998\n",
      "0.6658573467084106 0.6658573467084106\n",
      "0.738221824835998 0.738221824835998\n",
      "0.7209167348761069 0.7209167348761069\n",
      "0.738221824835998 0.738221824835998\n",
      "0.6807691700976448 0.6807691700976448\n",
      "0.738221824835998 0.738221824835998\n",
      "0.6654264950269118 0.6654264950269118\n",
      "0.738221824835998 0.738221824835998\n",
      "0.5771685950478074 0.5771685950478074\n",
      "0.738221824835998 0.738221824835998\n",
      "0.691007819458013 0.6910078194580129\n",
      "0.738221824835998 0.738221824835998\n",
      "0.6802147391292281 0.6802147391292281\n",
      "0.738221824835998 0.738221824835998\n",
      "0.6424786838192174 0.6424786838192174\n",
      "0.738221824835998 0.738221824835998\n",
      "0.7128458881976741 0.7128458881976741\n",
      "0.738221824835998 0.738221824835998\n",
      "0.6802147391292281 0.6802147391292281\n",
      "0.738221824835998 0.738221824835998\n",
      "0.6704253944086941 0.6704253944086941\n",
      "0.738221824835998 0.738221824835998\n",
      "0.6753472222222222 0.6753472222222222\n",
      "0.738221824835998 0.738221824835998\n",
      "0.7147332386315894 0.7147332386315894\n",
      "0.738221824835998 0.738221824835998\n",
      "0.7113024412417444 0.7113024412417444\n",
      "0.738221824835998 0.738221824835998\n",
      "0.5436910247970155 0.5436910247970155\n",
      "0.738221824835998 0.738221824835998\n",
      "0.5466130114017438 0.5466130114017438\n",
      "0.738221824835998 0.738221824835998\n",
      "0.6905415424415945 0.6905415424415945\n",
      "0.738221824835998 0.738221824835998\n",
      "0.7111849390919159 0.7111849390919159\n",
      "0.738221824835998 0.738221824835998\n",
      "0.6686906267827467 0.6686906267827467\n",
      "0.738221824835998 0.738221824835998\n",
      "0.666734321087883 0.666734321087883\n",
      "0.738221824835998 0.738221824835998\n",
      "0.5394301447992723 0.5394301447992723\n",
      "0.738221824835998 0.738221824835998\n",
      "0.6715244727667088 0.6715244727667088\n",
      "0.738221824835998 0.738221824835998\n",
      "0.6778438030560271 0.6778438030560271\n",
      "0.738221824835998 0.738221824835998\n",
      "0.6894528091638514 0.6894528091638514\n",
      "0.738221824835998 0.738221824835998\n",
      "0.705711824390875 0.705711824390875\n",
      "0.738221824835998 0.738221824835998\n",
      "0.5561288843022589 0.5561288843022589\n",
      "0.738221824835998 0.738221824835998\n",
      "0.6952629615814995 0.6952629615814995\n",
      "0.738221824835998 0.738221824835998\n"
     ]
    },
    {
     "data": {
      "application/javascript": [
       "\n",
       "            setTimeout(function() {\n",
       "                var nbb_cell_id = 35;\n",
       "                var nbb_unformatted_code = \"finalval = np.zeros((600, 2))\\nfor i in range(pd_acc_class0.shape[0]):\\n\\n\\n    predprob = np.column_stack(\\n        (pd_ypredproba_all_class1.iloc[i, :], 1 - pd_ypredproba_all_class1.iloc[i, :])\\n    )\\n    finalval += predprob\\n\\n    print(\\n        m.f1_score(ytest_class1, np.argmax(predprob, axis=1), average=\\\"weighted\\\"),\\n        pd_acc_class1.iloc[i, 0],\\n    )\";\n",
       "                var nbb_formatted_code = \"finalval = np.zeros((600, 2))\\nfor i in range(pd_acc_class0.shape[0]):\\n\\n    predprob = np.column_stack(\\n        (pd_ypredproba_all_class1.iloc[i, :], 1 - pd_ypredproba_all_class1.iloc[i, :])\\n    )\\n    finalval += predprob\\n\\n    print(\\n        m.f1_score(ytest_class1, np.argmax(predprob, axis=1), average=\\\"weighted\\\"),\\n        pd_acc_class1.iloc[i, 0],\\n    )\";\n",
       "                var nbb_cells = Jupyter.notebook.get_cells();\n",
       "                for (var i = 0; i < nbb_cells.length; ++i) {\n",
       "                    if (nbb_cells[i].input_prompt_number == nbb_cell_id) {\n",
       "                        if (nbb_cells[i].get_text() == nbb_unformatted_code) {\n",
       "                             nbb_cells[i].set_text(nbb_formatted_code);\n",
       "                        }\n",
       "                        break;\n",
       "                    }\n",
       "                }\n",
       "            }, 500);\n",
       "            "
      ],
      "text/plain": [
       "<IPython.core.display.Javascript object>"
      ]
     },
     "metadata": {},
     "output_type": "display_data"
    }
   ],
   "source": [
    "# cross check the values are correct \n",
    "finalval = np.zeros((600, 2))\n",
    "for i in range(pd_acc_class0.shape[0]):\n",
    "\n",
    "    predprob = np.column_stack(\n",
    "        (pd_ypredproba_all_class1.iloc[i, :], 1 - pd_ypredproba_all_class1.iloc[i, :])\n",
    "    )\n",
    "    finalval += predprob\n",
    "\n",
    "    print(\n",
    "        m.f1_score(ytest_class1, np.argmax(predprob, axis=1), average=\"weighted\"),\n",
    "        pd_acc_class1.iloc[i, 0],\n",
    "    )"
   ]
  },
  {
   "cell_type": "code",
   "execution_count": 19,
   "metadata": {},
   "outputs": [
    {
     "data": {
      "text/plain": [
       "array([[0.04639721, 0.95360279],\n",
       "       [0.12691385, 0.87308615],\n",
       "       [0.49908471, 0.50091529],\n",
       "       ...,\n",
       "       [0.15809232, 0.84190768],\n",
       "       [0.2025553 , 0.7974447 ],\n",
       "       [0.55188382, 0.44811618]])"
      ]
     },
     "execution_count": 19,
     "metadata": {},
     "output_type": "execute_result"
    },
    {
     "data": {
      "application/javascript": [
       "\n",
       "            setTimeout(function() {\n",
       "                var nbb_cell_id = 19;\n",
       "                var nbb_unformatted_code = \"finalval\";\n",
       "                var nbb_formatted_code = \"finalval\";\n",
       "                var nbb_cells = Jupyter.notebook.get_cells();\n",
       "                for (var i = 0; i < nbb_cells.length; ++i) {\n",
       "                    if (nbb_cells[i].input_prompt_number == nbb_cell_id) {\n",
       "                        if (nbb_cells[i].get_text() == nbb_unformatted_code) {\n",
       "                             nbb_cells[i].set_text(nbb_formatted_code);\n",
       "                        }\n",
       "                        break;\n",
       "                    }\n",
       "                }\n",
       "            }, 500);\n",
       "            "
      ],
      "text/plain": [
       "<IPython.core.display.Javascript object>"
      ]
     },
     "metadata": {},
     "output_type": "display_data"
    }
   ],
   "source": [
    "finalval"
   ]
  },
  {
   "cell_type": "code",
   "execution_count": 37,
   "metadata": {
    "scrolled": true
   },
   "outputs": [
    {
     "name": "stdout",
     "output_type": "stream",
     "text": [
      "f1_score 0.7396709231945262\n",
      "accuracy_score 0.74\n"
     ]
    },
    {
     "data": {
      "application/javascript": [
       "\n",
       "            setTimeout(function() {\n",
       "                var nbb_cell_id = 37;\n",
       "                var nbb_unformatted_code = \"finalval = np.zeros((600, 2))\\n\\nfor i in range(pd_acc_class1.shape[0]):\\n\\n    predprob = np.column_stack(\\n        (pd_ypredproba_all_class1.iloc[i, :], 1 - pd_ypredproba_all_class1.iloc[i, :])\\n    )\\n\\n    finalval += pd_acc_class0.iloc[i, 0] * predprob\\n\\nprint(\\n    \\\"f1_score\\\",\\n    m.f1_score(ytest_class1, np.argmax(finalval, axis=1), average=\\\"weighted\\\"),\\n)\\nprint(\\\"accuracy_score\\\", m.accuracy_score(ytest_class1, np.argmax(finalval, axis=1)))\";\n",
       "                var nbb_formatted_code = \"finalval = np.zeros((600, 2))\\n\\nfor i in range(pd_acc_class1.shape[0]):\\n\\n    predprob = np.column_stack(\\n        (pd_ypredproba_all_class1.iloc[i, :], 1 - pd_ypredproba_all_class1.iloc[i, :])\\n    )\\n\\n    finalval += pd_acc_class0.iloc[i, 0] * predprob\\n\\nprint(\\n    \\\"f1_score\\\",\\n    m.f1_score(ytest_class1, np.argmax(finalval, axis=1), average=\\\"weighted\\\"),\\n)\\nprint(\\\"accuracy_score\\\", m.accuracy_score(ytest_class1, np.argmax(finalval, axis=1)))\";\n",
       "                var nbb_cells = Jupyter.notebook.get_cells();\n",
       "                for (var i = 0; i < nbb_cells.length; ++i) {\n",
       "                    if (nbb_cells[i].input_prompt_number == nbb_cell_id) {\n",
       "                        if (nbb_cells[i].get_text() == nbb_unformatted_code) {\n",
       "                             nbb_cells[i].set_text(nbb_formatted_code);\n",
       "                        }\n",
       "                        break;\n",
       "                    }\n",
       "                }\n",
       "            }, 500);\n",
       "            "
      ],
      "text/plain": [
       "<IPython.core.display.Javascript object>"
      ]
     },
     "metadata": {},
     "output_type": "display_data"
    }
   ],
   "source": [
    "#using the accuracy value as a weight value for ensemble\n",
    "finalval = np.zeros((600, 2))\n",
    "\n",
    "for i in range(pd_acc_class1.shape[0]):\n",
    "\n",
    "    predprob = np.column_stack(\n",
    "        (pd_ypredproba_all_class1.iloc[i, :], 1 - pd_ypredproba_all_class1.iloc[i, :])\n",
    "    )\n",
    "\n",
    "    finalval += pd_acc_class0.iloc[i, 0] * predprob\n",
    "\n",
    "print(\n",
    "    \"f1_score\",\n",
    "    m.f1_score(ytest_class1, np.argmax(finalval, axis=1), average=\"weighted\"),\n",
    ")\n",
    "print(\"accuracy_score\", m.accuracy_score(ytest_class1, np.argmax(finalval, axis=1)))"
   ]
  },
  {
   "cell_type": "code",
   "execution_count": 38,
   "metadata": {
    "scrolled": true
   },
   "outputs": [
    {
     "name": "stdout",
     "output_type": "stream",
     "text": [
      "0\n",
      "1\n",
      "2\n",
      "3\n",
      "4\n",
      "5\n",
      "6\n",
      "7\n",
      "8\n",
      "9\n",
      "43.443399456855595 [0.00224695 0.03257801 0.07981553 0.11444241 0.63521941 0.\n",
      " 0.64332163 0.         0.64567468 0.         0.66946612 0.\n",
      " 0.67000201 0.         0.68416554 0.         0.69582048 0.\n",
      " 0.71412019 0.         0.72689148 0.         0.72988496 0.\n",
      " 0.73914418 0.         0.74279507 0.         0.76412267 0.\n",
      " 0.78332518 0.         0.79111363 0.         0.798453   0.\n",
      " 0.80699059 0.         0.80843247 0.         0.81562284 0.\n",
      " 0.82585422 0.         0.83463817 0.         0.85119238 0.\n",
      " 0.85934388 0.         0.86149192 0.         0.86546636 0.\n",
      " 0.86852256 0.         0.86860269 0.         0.88526385 0.\n",
      " 0.88865138 0.         0.89761945 0.         0.90839222 0.\n",
      " 0.91384759 0.         0.91849547 0.         0.92669596 0.\n",
      " 0.93322666 0.         0.93713979 0.         0.94379254 0.\n",
      " 0.9467861  0.         0.94935122 0.         0.9519434  0.\n",
      " 0.95534122 0.         0.96625865 0.         0.96645102 0.\n",
      " 0.97138409 0.         0.97247562 0.         0.9899915  0.\n",
      " 0.99027471 0.         0.99663467 0.         0.99678398 0.\n",
      " 0.63055498]\n",
      "f1_score 0.739709028669234\n",
      "accuracy_score 0.7433333333333333\n"
     ]
    },
    {
     "data": {
      "application/javascript": [
       "\n",
       "            setTimeout(function() {\n",
       "                var nbb_cell_id = 38;\n",
       "                var nbb_unformatted_code = \"import calculateWeightUsingGa2 as aresult\\nweightvalga=aresult.getbestvalues(np.array(pd_acc_class1) )\\nfinalval = np.zeros((600, 2))\\n\\nfor i in range(pd_acc_class1.shape[0]):\\n\\n    predprob = np.column_stack(\\n        (pd_ypredproba_all_class1.iloc[i, :], 1 - pd_ypredproba_all_class1.iloc[i, :])\\n    )\\n\\n    finalval += weightvalga[i] * predprob\\n\\nprint(\\n    \\\"f1_score\\\",\\n    m.f1_score(ytest_class1, np.argmax(finalval, axis=1), average=\\\"weighted\\\"),\\n)\\nprint(\\\"accuracy_score\\\", m.accuracy_score(ytest_class1, np.argmax(finalval, axis=1)))\";\n",
       "                var nbb_formatted_code = \"import calculateWeightUsingGa2 as aresult\\n\\nweightvalga = aresult.getbestvalues(np.array(pd_acc_class1))\\nfinalval = np.zeros((600, 2))\\n\\nfor i in range(pd_acc_class1.shape[0]):\\n\\n    predprob = np.column_stack(\\n        (pd_ypredproba_all_class1.iloc[i, :], 1 - pd_ypredproba_all_class1.iloc[i, :])\\n    )\\n\\n    finalval += weightvalga[i] * predprob\\n\\nprint(\\n    \\\"f1_score\\\",\\n    m.f1_score(ytest_class1, np.argmax(finalval, axis=1), average=\\\"weighted\\\"),\\n)\\nprint(\\\"accuracy_score\\\", m.accuracy_score(ytest_class1, np.argmax(finalval, axis=1)))\";\n",
       "                var nbb_cells = Jupyter.notebook.get_cells();\n",
       "                for (var i = 0; i < nbb_cells.length; ++i) {\n",
       "                    if (nbb_cells[i].input_prompt_number == nbb_cell_id) {\n",
       "                        if (nbb_cells[i].get_text() == nbb_unformatted_code) {\n",
       "                             nbb_cells[i].set_text(nbb_formatted_code);\n",
       "                        }\n",
       "                        break;\n",
       "                    }\n",
       "                }\n",
       "            }, 500);\n",
       "            "
      ],
      "text/plain": [
       "<IPython.core.display.Javascript object>"
      ]
     },
     "metadata": {},
     "output_type": "display_data"
    }
   ],
   "source": [
    "# uisng the genetic algorithm to generate the weight values\n",
    "\n",
    "import calculateWeightUsingGa2 as aresult\n",
    "weightvalga=aresult.getbestvalues(np.array(pd_acc_class1) )\n",
    "finalval = np.zeros((600, 2))\n",
    "\n",
    "for i in range(pd_acc_class1.shape[0]):\n",
    "\n",
    "    predprob = np.column_stack(\n",
    "        (pd_ypredproba_all_class1.iloc[i, :], 1 - pd_ypredproba_all_class1.iloc[i, :])\n",
    "    )\n",
    "\n",
    "    finalval += weightvalga[i] * predprob\n",
    "\n",
    "print(\n",
    "    \"f1_score\",\n",
    "    m.f1_score(ytest_class1, np.argmax(finalval, axis=1), average=\"weighted\"),\n",
    ")\n",
    "print(\"accuracy_score\", m.accuracy_score(ytest_class1, np.argmax(finalval, axis=1)))\n"
   ]
  },
  {
   "cell_type": "code",
   "execution_count": 77,
   "metadata": {},
   "outputs": [
    {
     "name": "stdout",
     "output_type": "stream",
     "text": [
      "f1_score 0.5333333333333333\n",
      "accuracy_score 0.6666666666666666\n"
     ]
    },
    {
     "data": {
      "application/javascript": [
       "\n",
       "            setTimeout(function() {\n",
       "                var nbb_cell_id = 77;\n",
       "                var nbb_unformatted_code = \"\\n# import calculateWeightUsingGa2 as aresult\\n# weightvalga=aresult.getbestvalues(np.array(pd_acc_class1) )\\nfinalval = np.zeros((600, 2))\\n\\ntemp_pd_ypredproba=pd_ypredproba_all_class1\\ntemp_pd_ypredconfprob=pd_ypredconfprob_all_class1\\n\\nfor i in range(pd_acc_class1.shape[0]):\\n\\n    predprob = np.column_stack(\\n        \\n        (\\n            (temp_pd_ypredproba.iloc[i, :] * temp_pd_ypredconfprob.iloc[i, 0])  \\n             + ((1 - temp_pd_ypredproba.iloc[i, :]) * temp_pd_ypredconfprob.iloc[i, 1])\\n         , \\n         ( \\n             (1 - temp_pd_ypredproba.iloc[i, :]) * temp_pd_ypredconfprob.iloc[i, 3])\\n            + (temp_pd_ypredproba.iloc[i, :] * temp_pd_ypredconfprob.iloc[i, 2] ) \\n        )\\n    )\\n\\n    finalval +=  predprob\\n\\nprint(\\n    \\\"f1_score\\\",\\n    m.f1_score(ytest_class1, np.argmax(finalval, axis=1), average=\\\"weighted\\\"),\\n)\\nprint(\\\"accuracy_score\\\", m.accuracy_score(ytest_class1, np.argmax(finalval, axis=1)))\";\n",
       "                var nbb_formatted_code = \"# import calculateWeightUsingGa2 as aresult\\n# weightvalga=aresult.getbestvalues(np.array(pd_acc_class1) )\\nfinalval = np.zeros((600, 2))\\n\\ntemp_pd_ypredproba = pd_ypredproba_all_class1\\ntemp_pd_ypredconfprob = pd_ypredconfprob_all_class1\\n\\nfor i in range(pd_acc_class1.shape[0]):\\n\\n    predprob = np.column_stack(\\n        (\\n            (temp_pd_ypredproba.iloc[i, :] * temp_pd_ypredconfprob.iloc[i, 0])\\n            + ((1 - temp_pd_ypredproba.iloc[i, :]) * temp_pd_ypredconfprob.iloc[i, 1]),\\n            ((1 - temp_pd_ypredproba.iloc[i, :]) * temp_pd_ypredconfprob.iloc[i, 3])\\n            + (temp_pd_ypredproba.iloc[i, :] * temp_pd_ypredconfprob.iloc[i, 2]),\\n        )\\n    )\\n\\n    finalval += predprob\\n\\nprint(\\n    \\\"f1_score\\\",\\n    m.f1_score(ytest_class1, np.argmax(finalval, axis=1), average=\\\"weighted\\\"),\\n)\\nprint(\\\"accuracy_score\\\", m.accuracy_score(ytest_class1, np.argmax(finalval, axis=1)))\";\n",
       "                var nbb_cells = Jupyter.notebook.get_cells();\n",
       "                for (var i = 0; i < nbb_cells.length; ++i) {\n",
       "                    if (nbb_cells[i].input_prompt_number == nbb_cell_id) {\n",
       "                        if (nbb_cells[i].get_text() == nbb_unformatted_code) {\n",
       "                             nbb_cells[i].set_text(nbb_formatted_code);\n",
       "                        }\n",
       "                        break;\n",
       "                    }\n",
       "                }\n",
       "            }, 500);\n",
       "            "
      ],
      "text/plain": [
       "<IPython.core.display.Javascript object>"
      ]
     },
     "metadata": {},
     "output_type": "display_data"
    }
   ],
   "source": [
    "\n",
    "# import calculateWeightUsingGa2 as aresult\n",
    "# weightvalga=aresult.getbestvalues(np.array(pd_acc_class1) )\n",
    "finalval = np.zeros((600, 2))\n",
    "\n",
    "temp_pd_ypredproba=pd_ypredproba_all_class1\n",
    "temp_pd_ypredconfprob=pd_ypredconfprob_all_class1\n",
    "\n",
    "for i in range(pd_acc_class1.shape[0]):\n",
    "\n",
    "    predprob = np.column_stack(\n",
    "        \n",
    "        (\n",
    "            (temp_pd_ypredproba.iloc[i, :] * temp_pd_ypredconfprob.iloc[i, 0])  \n",
    "             + ((1 - temp_pd_ypredproba.iloc[i, :]) * temp_pd_ypredconfprob.iloc[i, 1])\n",
    "         , \n",
    "         ( \n",
    "             (1 - temp_pd_ypredproba.iloc[i, :]) * temp_pd_ypredconfprob.iloc[i, 3])\n",
    "            + (temp_pd_ypredproba.iloc[i, :] * temp_pd_ypredconfprob.iloc[i, 2] ) \n",
    "        )\n",
    "    )\n",
    "\n",
    "    finalval +=  predprob\n",
    "\n",
    "print(\n",
    "    \"f1_score\",\n",
    "    m.f1_score(ytest_class1, np.argmax(finalval, axis=1), average=\"weighted\"),\n",
    ")\n",
    "print(\"accuracy_score\", m.accuracy_score(ytest_class1, np.argmax(finalval, axis=1)))\n"
   ]
  },
  {
   "cell_type": "code",
   "execution_count": 79,
   "metadata": {},
   "outputs": [
    {
     "data": {
      "text/html": [
       "<div>\n",
       "<style scoped>\n",
       "    .dataframe tbody tr th:only-of-type {\n",
       "        vertical-align: middle;\n",
       "    }\n",
       "\n",
       "    .dataframe tbody tr th {\n",
       "        vertical-align: top;\n",
       "    }\n",
       "\n",
       "    .dataframe thead th {\n",
       "        text-align: right;\n",
       "    }\n",
       "</style>\n",
       "<table border=\"1\" class=\"dataframe\">\n",
       "  <thead>\n",
       "    <tr style=\"text-align: right;\">\n",
       "      <th></th>\n",
       "      <th>0</th>\n",
       "      <th>1</th>\n",
       "      <th>2</th>\n",
       "      <th>3</th>\n",
       "    </tr>\n",
       "  </thead>\n",
       "  <tbody>\n",
       "    <tr>\n",
       "      <th>0</th>\n",
       "      <td>0.50</td>\n",
       "      <td>0.20</td>\n",
       "      <td>0.49</td>\n",
       "      <td>0.79</td>\n",
       "    </tr>\n",
       "    <tr>\n",
       "      <th>1</th>\n",
       "      <td>0.50</td>\n",
       "      <td>0.20</td>\n",
       "      <td>0.49</td>\n",
       "      <td>0.79</td>\n",
       "    </tr>\n",
       "    <tr>\n",
       "      <th>2</th>\n",
       "      <td>0.50</td>\n",
       "      <td>0.20</td>\n",
       "      <td>0.49</td>\n",
       "      <td>0.79</td>\n",
       "    </tr>\n",
       "    <tr>\n",
       "      <th>3</th>\n",
       "      <td>0.49</td>\n",
       "      <td>0.21</td>\n",
       "      <td>0.50</td>\n",
       "      <td>0.78</td>\n",
       "    </tr>\n",
       "    <tr>\n",
       "      <th>4</th>\n",
       "      <td>0.62</td>\n",
       "      <td>0.20</td>\n",
       "      <td>0.37</td>\n",
       "      <td>0.79</td>\n",
       "    </tr>\n",
       "    <tr>\n",
       "      <th>...</th>\n",
       "      <td>...</td>\n",
       "      <td>...</td>\n",
       "      <td>...</td>\n",
       "      <td>...</td>\n",
       "    </tr>\n",
       "    <tr>\n",
       "      <th>98</th>\n",
       "      <td>0.62</td>\n",
       "      <td>0.20</td>\n",
       "      <td>0.37</td>\n",
       "      <td>0.79</td>\n",
       "    </tr>\n",
       "    <tr>\n",
       "      <th>99</th>\n",
       "      <td>0.35</td>\n",
       "      <td>0.31</td>\n",
       "      <td>0.64</td>\n",
       "      <td>0.68</td>\n",
       "    </tr>\n",
       "    <tr>\n",
       "      <th>100</th>\n",
       "      <td>0.62</td>\n",
       "      <td>0.20</td>\n",
       "      <td>0.37</td>\n",
       "      <td>0.79</td>\n",
       "    </tr>\n",
       "    <tr>\n",
       "      <th>101</th>\n",
       "      <td>0.52</td>\n",
       "      <td>0.20</td>\n",
       "      <td>0.47</td>\n",
       "      <td>0.79</td>\n",
       "    </tr>\n",
       "    <tr>\n",
       "      <th>102</th>\n",
       "      <td>0.62</td>\n",
       "      <td>0.20</td>\n",
       "      <td>0.37</td>\n",
       "      <td>0.79</td>\n",
       "    </tr>\n",
       "  </tbody>\n",
       "</table>\n",
       "<p>103 rows × 4 columns</p>\n",
       "</div>"
      ],
      "text/plain": [
       "        0     1     2     3\n",
       "0    0.50  0.20  0.49  0.79\n",
       "1    0.50  0.20  0.49  0.79\n",
       "2    0.50  0.20  0.49  0.79\n",
       "3    0.49  0.21  0.50  0.78\n",
       "4    0.62  0.20  0.37  0.79\n",
       "..    ...   ...   ...   ...\n",
       "98   0.62  0.20  0.37  0.79\n",
       "99   0.35  0.31  0.64  0.68\n",
       "100  0.62  0.20  0.37  0.79\n",
       "101  0.52  0.20  0.47  0.79\n",
       "102  0.62  0.20  0.37  0.79\n",
       "\n",
       "[103 rows x 4 columns]"
      ]
     },
     "execution_count": 79,
     "metadata": {},
     "output_type": "execute_result"
    },
    {
     "data": {
      "application/javascript": [
       "\n",
       "            setTimeout(function() {\n",
       "                var nbb_cell_id = 79;\n",
       "                var nbb_unformatted_code = \"pd_ypredconfprob_all_class1\";\n",
       "                var nbb_formatted_code = \"pd_ypredconfprob_all_class1\";\n",
       "                var nbb_cells = Jupyter.notebook.get_cells();\n",
       "                for (var i = 0; i < nbb_cells.length; ++i) {\n",
       "                    if (nbb_cells[i].input_prompt_number == nbb_cell_id) {\n",
       "                        if (nbb_cells[i].get_text() == nbb_unformatted_code) {\n",
       "                             nbb_cells[i].set_text(nbb_formatted_code);\n",
       "                        }\n",
       "                        break;\n",
       "                    }\n",
       "                }\n",
       "            }, 500);\n",
       "            "
      ],
      "text/plain": [
       "<IPython.core.display.Javascript object>"
      ]
     },
     "metadata": {},
     "output_type": "display_data"
    }
   ],
   "source": [
    "pd_ypredconfprob_all_class1"
   ]
  },
  {
   "cell_type": "code",
   "execution_count": null,
   "metadata": {},
   "outputs": [],
   "source": []
  }
 ],
 "metadata": {
  "kernelspec": {
   "display_name": "Python 3",
   "language": "python",
   "name": "python3"
  },
  "language_info": {
   "codemirror_mode": {
    "name": "ipython",
    "version": 3
   },
   "file_extension": ".py",
   "mimetype": "text/x-python",
   "name": "python",
   "nbconvert_exporter": "python",
   "pygments_lexer": "ipython3",
   "version": "3.7.7"
  }
 },
 "nbformat": 4,
 "nbformat_minor": 4
}
