{
 "cells": [
  {
   "cell_type": "code",
   "execution_count": 3,
   "metadata": {},
   "outputs": [
    {
     "name": "stdout",
     "output_type": "stream",
     "text": [
      "The nb_black extension is already loaded. To reload it, use:\n",
      "  %reload_ext nb_black\n"
     ]
    },
    {
     "data": {
      "application/javascript": [
       "\n",
       "            setTimeout(function() {\n",
       "                var nbb_cell_id = 3;\n",
       "                var nbb_unformatted_code = \"%load_ext nb_black\";\n",
       "                var nbb_formatted_code = \"%load_ext nb_black\";\n",
       "                var nbb_cells = Jupyter.notebook.get_cells();\n",
       "                for (var i = 0; i < nbb_cells.length; ++i) {\n",
       "                    if (nbb_cells[i].input_prompt_number == nbb_cell_id) {\n",
       "                        if (nbb_cells[i].get_text() == nbb_unformatted_code) {\n",
       "                             nbb_cells[i].set_text(nbb_formatted_code);\n",
       "                        }\n",
       "                        break;\n",
       "                    }\n",
       "                }\n",
       "            }, 500);\n",
       "            "
      ],
      "text/plain": [
       "<IPython.core.display.Javascript object>"
      ]
     },
     "metadata": {},
     "output_type": "display_data"
    }
   ],
   "source": [
    "%load_ext nb_black"
   ]
  },
  {
   "cell_type": "code",
   "execution_count": 4,
   "metadata": {},
   "outputs": [
    {
     "data": {
      "application/javascript": [
       "\n",
       "            setTimeout(function() {\n",
       "                var nbb_cell_id = 4;\n",
       "                var nbb_unformatted_code = \"from sklearn import datasets\\nfrom sklearn import metrics as m\\nfrom sklearn.model_selection import train_test_split\\nfrom sklearn.ensemble import RandomForestClassifier\\nfrom sklearn.model_selection import cross_val_score\\nimport numpy as np\\nfrom itertools import combinations\\nfrom sklearn import datasets\\nfrom sklearn import metrics as m\\nfrom sklearn.model_selection import train_test_split\\nfrom sklearn.ensemble import RandomForestClassifier\\nfrom sklearn.model_selection import cross_val_score\\nimport numpy as np\\nimport pandas as pd\\nfrom itertools import combinations\\nfrom sklearn.svm import SVC\\nimport xgboost as xgb\\nfrom thundersvm import SVC as svmgpu\\nfrom sklearn.utils import shuffle\\nimport itertools\\nfrom sklearn.ensemble import VotingClassifier\\nfrom sklearn.preprocessing import LabelEncoder\\n\\nrandomseed = 10\\nnp.random.seed(randomseed)\";\n",
       "                var nbb_formatted_code = \"from sklearn import datasets\\nfrom sklearn import metrics as m\\nfrom sklearn.model_selection import train_test_split\\nfrom sklearn.ensemble import RandomForestClassifier\\nfrom sklearn.model_selection import cross_val_score\\nimport numpy as np\\nfrom itertools import combinations\\nfrom sklearn import datasets\\nfrom sklearn import metrics as m\\nfrom sklearn.model_selection import train_test_split\\nfrom sklearn.ensemble import RandomForestClassifier\\nfrom sklearn.model_selection import cross_val_score\\nimport numpy as np\\nimport pandas as pd\\nfrom itertools import combinations\\nfrom sklearn.svm import SVC\\nimport xgboost as xgb\\nfrom thundersvm import SVC as svmgpu\\nfrom sklearn.utils import shuffle\\nimport itertools\\nfrom sklearn.ensemble import VotingClassifier\\nfrom sklearn.preprocessing import LabelEncoder\\n\\nrandomseed = 10\\nnp.random.seed(randomseed)\";\n",
       "                var nbb_cells = Jupyter.notebook.get_cells();\n",
       "                for (var i = 0; i < nbb_cells.length; ++i) {\n",
       "                    if (nbb_cells[i].input_prompt_number == nbb_cell_id) {\n",
       "                        if (nbb_cells[i].get_text() == nbb_unformatted_code) {\n",
       "                             nbb_cells[i].set_text(nbb_formatted_code);\n",
       "                        }\n",
       "                        break;\n",
       "                    }\n",
       "                }\n",
       "            }, 500);\n",
       "            "
      ],
      "text/plain": [
       "<IPython.core.display.Javascript object>"
      ]
     },
     "metadata": {},
     "output_type": "display_data"
    }
   ],
   "source": [
    "from sklearn import datasets\n",
    "from sklearn import metrics as m\n",
    "from sklearn.model_selection import train_test_split\n",
    "from sklearn.ensemble import RandomForestClassifier\n",
    "from sklearn.model_selection import cross_val_score\n",
    "import numpy as np\n",
    "from itertools import combinations\n",
    "from sklearn import datasets\n",
    "from sklearn import metrics as m\n",
    "from sklearn.model_selection import train_test_split\n",
    "from sklearn.ensemble import RandomForestClassifier\n",
    "from sklearn.model_selection import cross_val_score\n",
    "import numpy as np\n",
    "import pandas as pd\n",
    "from itertools import combinations\n",
    "from sklearn.svm import SVC\n",
    "import xgboost as xgb\n",
    "from thundersvm import SVC as svmgpu\n",
    "from sklearn.utils import shuffle\n",
    "import itertools\n",
    "from sklearn.ensemble import VotingClassifier\n",
    "from sklearn.preprocessing import LabelEncoder\n",
    "\n",
    "randomseed = 10\n",
    "np.random.seed(randomseed)"
   ]
  },
  {
   "cell_type": "code",
   "execution_count": 5,
   "metadata": {},
   "outputs": [
    {
     "data": {
      "application/javascript": [
       "\n",
       "            setTimeout(function() {\n",
       "                var nbb_cell_id = 5;\n",
       "                var nbb_unformatted_code = \"def swapcolumns(trainval, testval, coldindexval):\\n    trainval[trainval != coldindexval] = 5\\n    testval[testval != coldindexval] = 5\\n\\n    trainval[trainval == coldindexval] = 0\\n    trainval[trainval == 5] = 1\\n\\n    testval[testval == coldindexval] = 0\\n    testval[testval == 5] = 1\\n\\n    return trainval, testval\";\n",
       "                var nbb_formatted_code = \"def swapcolumns(trainval, testval, coldindexval):\\n    trainval[trainval != coldindexval] = 5\\n    testval[testval != coldindexval] = 5\\n\\n    trainval[trainval == coldindexval] = 0\\n    trainval[trainval == 5] = 1\\n\\n    testval[testval == coldindexval] = 0\\n    testval[testval == 5] = 1\\n\\n    return trainval, testval\";\n",
       "                var nbb_cells = Jupyter.notebook.get_cells();\n",
       "                for (var i = 0; i < nbb_cells.length; ++i) {\n",
       "                    if (nbb_cells[i].input_prompt_number == nbb_cell_id) {\n",
       "                        if (nbb_cells[i].get_text() == nbb_unformatted_code) {\n",
       "                             nbb_cells[i].set_text(nbb_formatted_code);\n",
       "                        }\n",
       "                        break;\n",
       "                    }\n",
       "                }\n",
       "            }, 500);\n",
       "            "
      ],
      "text/plain": [
       "<IPython.core.display.Javascript object>"
      ]
     },
     "metadata": {},
     "output_type": "display_data"
    }
   ],
   "source": [
    "def swapcolumns(trainval, testval, coldindexval):\n",
    "    trainval[trainval != coldindexval] = 5\n",
    "    testval[testval != coldindexval] = 5\n",
    "\n",
    "    trainval[trainval == coldindexval] = 0\n",
    "    trainval[trainval == 5] = 1\n",
    "\n",
    "    testval[testval == coldindexval] = 0\n",
    "    testval[testval == 5] = 1\n",
    "\n",
    "    return trainval, testval"
   ]
  },
  {
   "cell_type": "code",
   "execution_count": 6,
   "metadata": {
    "scrolled": true
   },
   "outputs": [
    {
     "name": "stdout",
     "output_type": "stream",
     "text": [
      "[0 1 2]\n"
     ]
    },
    {
     "data": {
      "application/javascript": [
       "\n",
       "            setTimeout(function() {\n",
       "                var nbb_cell_id = 6;\n",
       "                var nbb_unformatted_code = \"data = pd.read_csv(\\\"../dataset/seeds_dataset.txt\\\", sep=\\\"\\\\t\\\", header=None)\\ndata = shuffle(data)\\n\\nle = LabelEncoder()\\ndata.iloc[:, -1] = le.fit_transform(data.iloc[:, -1])\\nx = data.iloc[:, :-1]\\ny = data.iloc[:, -1]\\nprint(np.unique(y))\";\n",
       "                var nbb_formatted_code = \"data = pd.read_csv(\\\"../dataset/seeds_dataset.txt\\\", sep=\\\"\\\\t\\\", header=None)\\ndata = shuffle(data)\\n\\nle = LabelEncoder()\\ndata.iloc[:, -1] = le.fit_transform(data.iloc[:, -1])\\nx = data.iloc[:, :-1]\\ny = data.iloc[:, -1]\\nprint(np.unique(y))\";\n",
       "                var nbb_cells = Jupyter.notebook.get_cells();\n",
       "                for (var i = 0; i < nbb_cells.length; ++i) {\n",
       "                    if (nbb_cells[i].input_prompt_number == nbb_cell_id) {\n",
       "                        if (nbb_cells[i].get_text() == nbb_unformatted_code) {\n",
       "                             nbb_cells[i].set_text(nbb_formatted_code);\n",
       "                        }\n",
       "                        break;\n",
       "                    }\n",
       "                }\n",
       "            }, 500);\n",
       "            "
      ],
      "text/plain": [
       "<IPython.core.display.Javascript object>"
      ]
     },
     "metadata": {},
     "output_type": "display_data"
    }
   ],
   "source": [
    "data = pd.read_csv(\"../dataset/seeds_dataset.txt\", sep=\"\\t\", header=None)\n",
    "data = shuffle(data)\n",
    "\n",
    "le = LabelEncoder()\n",
    "data.iloc[:, -1] = le.fit_transform(data.iloc[:, -1])\n",
    "x = data.iloc[:, :-1]\n",
    "y = data.iloc[:, -1]\n",
    "print(np.unique(y))"
   ]
  },
  {
   "cell_type": "code",
   "execution_count": 7,
   "metadata": {},
   "outputs": [
    {
     "data": {
      "application/javascript": [
       "\n",
       "            setTimeout(function() {\n",
       "                var nbb_cell_id = 7;\n",
       "                var nbb_unformatted_code = \"# data = datasets.load_iris()\\n# x = data.data\\n# y = data.target.ravel()\\n# print(np.unique(y))\";\n",
       "                var nbb_formatted_code = \"# data = datasets.load_iris()\\n# x = data.data\\n# y = data.target.ravel()\\n# print(np.unique(y))\";\n",
       "                var nbb_cells = Jupyter.notebook.get_cells();\n",
       "                for (var i = 0; i < nbb_cells.length; ++i) {\n",
       "                    if (nbb_cells[i].input_prompt_number == nbb_cell_id) {\n",
       "                        if (nbb_cells[i].get_text() == nbb_unformatted_code) {\n",
       "                             nbb_cells[i].set_text(nbb_formatted_code);\n",
       "                        }\n",
       "                        break;\n",
       "                    }\n",
       "                }\n",
       "            }, 500);\n",
       "            "
      ],
      "text/plain": [
       "<IPython.core.display.Javascript object>"
      ]
     },
     "metadata": {},
     "output_type": "display_data"
    }
   ],
   "source": [
    "# data = datasets.load_iris()\n",
    "# x = data.data\n",
    "# y = data.target.ravel()\n",
    "# print(np.unique(y))"
   ]
  },
  {
   "cell_type": "code",
   "execution_count": 8,
   "metadata": {},
   "outputs": [
    {
     "data": {
      "application/javascript": [
       "\n",
       "            setTimeout(function() {\n",
       "                var nbb_cell_id = 8;\n",
       "                var nbb_unformatted_code = \"xtrain, xtest, ytrain_original, ytest_original = train_test_split(\\n    x, y, test_size=0.3, random_state=10\\n)\";\n",
       "                var nbb_formatted_code = \"xtrain, xtest, ytrain_original, ytest_original = train_test_split(\\n    x, y, test_size=0.3, random_state=10\\n)\";\n",
       "                var nbb_cells = Jupyter.notebook.get_cells();\n",
       "                for (var i = 0; i < nbb_cells.length; ++i) {\n",
       "                    if (nbb_cells[i].input_prompt_number == nbb_cell_id) {\n",
       "                        if (nbb_cells[i].get_text() == nbb_unformatted_code) {\n",
       "                             nbb_cells[i].set_text(nbb_formatted_code);\n",
       "                        }\n",
       "                        break;\n",
       "                    }\n",
       "                }\n",
       "            }, 500);\n",
       "            "
      ],
      "text/plain": [
       "<IPython.core.display.Javascript object>"
      ]
     },
     "metadata": {},
     "output_type": "display_data"
    }
   ],
   "source": [
    "xtrain, xtest, ytrain_original, ytest_original = train_test_split(\n",
    "    x, y, test_size=0.3, random_state=10\n",
    ")"
   ]
  },
  {
   "cell_type": "code",
   "execution_count": 9,
   "metadata": {
    "scrolled": true
   },
   "outputs": [
    {
     "name": "stdout",
     "output_type": "stream",
     "text": [
      "0.9365079365079365\n"
     ]
    },
    {
     "data": {
      "application/javascript": [
       "\n",
       "            setTimeout(function() {\n",
       "                var nbb_cell_id = 9;\n",
       "                var nbb_unformatted_code = \"xgbmodel = xgb.XGBClassifier(random_state=randomseed)\\nxgbmodel.fit(xtrain, ytrain_original)\\nprint(m.accuracy_score(ytest_original, xgbmodel.predict(xtest)))\";\n",
       "                var nbb_formatted_code = \"xgbmodel = xgb.XGBClassifier(random_state=randomseed)\\nxgbmodel.fit(xtrain, ytrain_original)\\nprint(m.accuracy_score(ytest_original, xgbmodel.predict(xtest)))\";\n",
       "                var nbb_cells = Jupyter.notebook.get_cells();\n",
       "                for (var i = 0; i < nbb_cells.length; ++i) {\n",
       "                    if (nbb_cells[i].input_prompt_number == nbb_cell_id) {\n",
       "                        if (nbb_cells[i].get_text() == nbb_unformatted_code) {\n",
       "                             nbb_cells[i].set_text(nbb_formatted_code);\n",
       "                        }\n",
       "                        break;\n",
       "                    }\n",
       "                }\n",
       "            }, 500);\n",
       "            "
      ],
      "text/plain": [
       "<IPython.core.display.Javascript object>"
      ]
     },
     "metadata": {},
     "output_type": "display_data"
    }
   ],
   "source": [
    "xgbmodel = xgb.XGBClassifier(random_state=randomseed)\n",
    "xgbmodel.fit(xtrain, ytrain_original)\n",
    "print(m.accuracy_score(ytest_original, xgbmodel.predict(xtest)))"
   ]
  },
  {
   "cell_type": "code",
   "execution_count": 10,
   "metadata": {},
   "outputs": [
    {
     "name": "stdout",
     "output_type": "stream",
     "text": [
      "mean=  0.9333333333333333 , std=  0.03809523809523809\n"
     ]
    },
    {
     "data": {
      "application/javascript": [
       "\n",
       "            setTimeout(function() {\n",
       "                var nbb_cell_id = 10;\n",
       "                var nbb_unformatted_code = \"cvscore = cross_val_score(xgbmodel, x, y, cv=10)\\nprint(\\\"mean= \\\", np.mean(cvscore), \\\", std= \\\", np.std(cvscore))\";\n",
       "                var nbb_formatted_code = \"cvscore = cross_val_score(xgbmodel, x, y, cv=10)\\nprint(\\\"mean= \\\", np.mean(cvscore), \\\", std= \\\", np.std(cvscore))\";\n",
       "                var nbb_cells = Jupyter.notebook.get_cells();\n",
       "                for (var i = 0; i < nbb_cells.length; ++i) {\n",
       "                    if (nbb_cells[i].input_prompt_number == nbb_cell_id) {\n",
       "                        if (nbb_cells[i].get_text() == nbb_unformatted_code) {\n",
       "                             nbb_cells[i].set_text(nbb_formatted_code);\n",
       "                        }\n",
       "                        break;\n",
       "                    }\n",
       "                }\n",
       "            }, 500);\n",
       "            "
      ],
      "text/plain": [
       "<IPython.core.display.Javascript object>"
      ]
     },
     "metadata": {},
     "output_type": "display_data"
    }
   ],
   "source": [
    "cvscore = cross_val_score(xgbmodel, x, y, cv=10)\n",
    "print(\"mean= \", np.mean(cvscore), \", std= \", np.std(cvscore))"
   ]
  },
  {
   "cell_type": "markdown",
   "metadata": {},
   "source": [
    "Confusion matrix based models\n",
    "===="
   ]
  },
  {
   "cell_type": "code",
   "execution_count": 11,
   "metadata": {},
   "outputs": [
    {
     "data": {
      "application/javascript": [
       "\n",
       "            setTimeout(function() {\n",
       "                var nbb_cell_id = 11;\n",
       "                var nbb_unformatted_code = \"clf_c0 = []\\nacc_c0 = []\\npredictedprobablities_c0 = []\\npredictedconfusionmatrix_proba_c0 = []\";\n",
       "                var nbb_formatted_code = \"clf_c0 = []\\nacc_c0 = []\\npredictedprobablities_c0 = []\\npredictedconfusionmatrix_proba_c0 = []\";\n",
       "                var nbb_cells = Jupyter.notebook.get_cells();\n",
       "                for (var i = 0; i < nbb_cells.length; ++i) {\n",
       "                    if (nbb_cells[i].input_prompt_number == nbb_cell_id) {\n",
       "                        if (nbb_cells[i].get_text() == nbb_unformatted_code) {\n",
       "                             nbb_cells[i].set_text(nbb_formatted_code);\n",
       "                        }\n",
       "                        break;\n",
       "                    }\n",
       "                }\n",
       "            }, 500);\n",
       "            "
      ],
      "text/plain": [
       "<IPython.core.display.Javascript object>"
      ]
     },
     "metadata": {},
     "output_type": "display_data"
    }
   ],
   "source": [
    "clf_c0 = []\n",
    "acc_c0 = []\n",
    "predictedprobablities_c0 = []\n",
    "predictedconfusionmatrix_proba_c0 = []"
   ]
  },
  {
   "cell_type": "code",
   "execution_count": 12,
   "metadata": {},
   "outputs": [
    {
     "data": {
      "application/javascript": [
       "\n",
       "            setTimeout(function() {\n",
       "                var nbb_cell_id = 12;\n",
       "                var nbb_unformatted_code = \"# 1. baseline classifiers\";\n",
       "                var nbb_formatted_code = \"# 1. baseline classifiers\";\n",
       "                var nbb_cells = Jupyter.notebook.get_cells();\n",
       "                for (var i = 0; i < nbb_cells.length; ++i) {\n",
       "                    if (nbb_cells[i].input_prompt_number == nbb_cell_id) {\n",
       "                        if (nbb_cells[i].get_text() == nbb_unformatted_code) {\n",
       "                             nbb_cells[i].set_text(nbb_formatted_code);\n",
       "                        }\n",
       "                        break;\n",
       "                    }\n",
       "                }\n",
       "            }, 500);\n",
       "            "
      ],
      "text/plain": [
       "<IPython.core.display.Javascript object>"
      ]
     },
     "metadata": {},
     "output_type": "display_data"
    }
   ],
   "source": [
    "# 1. baseline classifiers"
   ]
  },
  {
   "cell_type": "code",
   "execution_count": 13,
   "metadata": {},
   "outputs": [
    {
     "name": "stdout",
     "output_type": "stream",
     "text": [
      "0.9365079365079365\n"
     ]
    },
    {
     "data": {
      "application/javascript": [
       "\n",
       "            setTimeout(function() {\n",
       "                var nbb_cell_id = 13;\n",
       "                var nbb_unformatted_code = \"# ===========================\\nytrain = ytrain_original.copy()\\nytest = ytest_original.copy()\\nytrain, ytest = swapcolumns(ytrain, ytest, 0)\\n# =================================================\\n\\nrf_c0 = RandomForestClassifier(random_state=randomseed, n_estimators=50)\\nrf_c0.fit(xtrain, ytrain)\\nrfpred_c0 = rf_c0.predict(xtest)\\nprint(m.accuracy_score(ytest, rfpred_c0))\\n\\nclf_c0.append(rf_c0)\\nacc_c0.append(m.accuracy_score(ytest, rfpred_c0))\\npredictedprobablities_c0.append(rf_c0.predict_proba(xtest))\\n\\nconfmat = m.confusion_matrix(ytest, rfpred_c0)\\nconfsumh = np.sum(confmat, axis=0)\\npropconfmat = confmat.copy()\\nfor i in range(propconfmat.shape[0]):\\n    propconfmat[:, i] = 100 * propconfmat[:, i] / confsumh[i]\\npredictedconfusionmatrix_proba_c0.append(propconfmat / 100)\";\n",
       "                var nbb_formatted_code = \"# ===========================\\nytrain = ytrain_original.copy()\\nytest = ytest_original.copy()\\nytrain, ytest = swapcolumns(ytrain, ytest, 0)\\n# =================================================\\n\\nrf_c0 = RandomForestClassifier(random_state=randomseed, n_estimators=50)\\nrf_c0.fit(xtrain, ytrain)\\nrfpred_c0 = rf_c0.predict(xtest)\\nprint(m.accuracy_score(ytest, rfpred_c0))\\n\\nclf_c0.append(rf_c0)\\nacc_c0.append(m.accuracy_score(ytest, rfpred_c0))\\npredictedprobablities_c0.append(rf_c0.predict_proba(xtest))\\n\\nconfmat = m.confusion_matrix(ytest, rfpred_c0)\\nconfsumh = np.sum(confmat, axis=0)\\npropconfmat = confmat.copy()\\nfor i in range(propconfmat.shape[0]):\\n    propconfmat[:, i] = 100 * propconfmat[:, i] / confsumh[i]\\npredictedconfusionmatrix_proba_c0.append(propconfmat / 100)\";\n",
       "                var nbb_cells = Jupyter.notebook.get_cells();\n",
       "                for (var i = 0; i < nbb_cells.length; ++i) {\n",
       "                    if (nbb_cells[i].input_prompt_number == nbb_cell_id) {\n",
       "                        if (nbb_cells[i].get_text() == nbb_unformatted_code) {\n",
       "                             nbb_cells[i].set_text(nbb_formatted_code);\n",
       "                        }\n",
       "                        break;\n",
       "                    }\n",
       "                }\n",
       "            }, 500);\n",
       "            "
      ],
      "text/plain": [
       "<IPython.core.display.Javascript object>"
      ]
     },
     "metadata": {},
     "output_type": "display_data"
    }
   ],
   "source": [
    "# ===========================\n",
    "ytrain = ytrain_original.copy()\n",
    "ytest = ytest_original.copy()\n",
    "ytrain, ytest = swapcolumns(ytrain, ytest, 0)\n",
    "# =================================================\n",
    "\n",
    "rf_c0 = RandomForestClassifier(random_state=randomseed, n_estimators=50)\n",
    "rf_c0.fit(xtrain, ytrain)\n",
    "rfpred_c0 = rf_c0.predict(xtest)\n",
    "print(m.accuracy_score(ytest, rfpred_c0))\n",
    "\n",
    "clf_c0.append(rf_c0)\n",
    "acc_c0.append(m.accuracy_score(ytest, rfpred_c0))\n",
    "predictedprobablities_c0.append(rf_c0.predict_proba(xtest))\n",
    "\n",
    "confmat = m.confusion_matrix(ytest, rfpred_c0)\n",
    "confsumh = np.sum(confmat, axis=0)\n",
    "propconfmat = confmat.copy()\n",
    "for i in range(propconfmat.shape[0]):\n",
    "    propconfmat[:, i] = 100 * propconfmat[:, i] / confsumh[i]\n",
    "predictedconfusionmatrix_proba_c0.append(propconfmat / 100)"
   ]
  },
  {
   "cell_type": "code",
   "execution_count": 14,
   "metadata": {
    "scrolled": true
   },
   "outputs": [
    {
     "data": {
      "text/plain": [
       "array([[0.02, 0.98],\n",
       "       [0.18, 0.82],\n",
       "       [0.  , 1.  ],\n",
       "       [0.06, 0.94],\n",
       "       [0.22, 0.78],\n",
       "       [0.  , 1.  ],\n",
       "       [0.68, 0.32],\n",
       "       [0.04, 0.96],\n",
       "       [0.  , 1.  ],\n",
       "       [0.5 , 0.5 ],\n",
       "       [0.  , 1.  ],\n",
       "       [0.06, 0.94],\n",
       "       [0.04, 0.96],\n",
       "       [1.  , 0.  ],\n",
       "       [0.38, 0.62],\n",
       "       [0.  , 1.  ],\n",
       "       [0.64, 0.36],\n",
       "       [0.  , 1.  ],\n",
       "       [0.28, 0.72],\n",
       "       [0.  , 1.  ],\n",
       "       [0.  , 1.  ],\n",
       "       [0.02, 0.98],\n",
       "       [0.36, 0.64],\n",
       "       [0.  , 1.  ],\n",
       "       [0.02, 0.98],\n",
       "       [0.96, 0.04],\n",
       "       [0.44, 0.56],\n",
       "       [0.98, 0.02],\n",
       "       [0.02, 0.98],\n",
       "       [0.18, 0.82],\n",
       "       [0.  , 1.  ],\n",
       "       [0.06, 0.94],\n",
       "       [0.06, 0.94],\n",
       "       [0.72, 0.28],\n",
       "       [0.9 , 0.1 ],\n",
       "       [0.  , 1.  ],\n",
       "       [0.26, 0.74],\n",
       "       [0.52, 0.48],\n",
       "       [0.  , 1.  ],\n",
       "       [0.8 , 0.2 ],\n",
       "       [0.  , 1.  ],\n",
       "       [0.  , 1.  ],\n",
       "       [0.  , 1.  ],\n",
       "       [0.  , 1.  ],\n",
       "       [0.82, 0.18],\n",
       "       [0.66, 0.34],\n",
       "       [0.  , 1.  ],\n",
       "       [0.  , 1.  ],\n",
       "       [0.  , 1.  ],\n",
       "       [0.  , 1.  ],\n",
       "       [0.  , 1.  ],\n",
       "       [0.76, 0.24],\n",
       "       [0.12, 0.88],\n",
       "       [0.88, 0.12],\n",
       "       [1.  , 0.  ],\n",
       "       [1.  , 0.  ],\n",
       "       [0.06, 0.94],\n",
       "       [1.  , 0.  ],\n",
       "       [0.52, 0.48],\n",
       "       [0.  , 1.  ],\n",
       "       [0.  , 1.  ],\n",
       "       [0.3 , 0.7 ],\n",
       "       [0.  , 1.  ]])"
      ]
     },
     "execution_count": 14,
     "metadata": {},
     "output_type": "execute_result"
    },
    {
     "data": {
      "application/javascript": [
       "\n",
       "            setTimeout(function() {\n",
       "                var nbb_cell_id = 14;\n",
       "                var nbb_unformatted_code = \"rf_c0.predict_proba(xtest)\";\n",
       "                var nbb_formatted_code = \"rf_c0.predict_proba(xtest)\";\n",
       "                var nbb_cells = Jupyter.notebook.get_cells();\n",
       "                for (var i = 0; i < nbb_cells.length; ++i) {\n",
       "                    if (nbb_cells[i].input_prompt_number == nbb_cell_id) {\n",
       "                        if (nbb_cells[i].get_text() == nbb_unformatted_code) {\n",
       "                             nbb_cells[i].set_text(nbb_formatted_code);\n",
       "                        }\n",
       "                        break;\n",
       "                    }\n",
       "                }\n",
       "            }, 500);\n",
       "            "
      ],
      "text/plain": [
       "<IPython.core.display.Javascript object>"
      ]
     },
     "metadata": {},
     "output_type": "display_data"
    }
   ],
   "source": [
    "rf_c0.predict_proba(xtest)"
   ]
  },
  {
   "cell_type": "code",
   "execution_count": 15,
   "metadata": {},
   "outputs": [
    {
     "data": {
      "text/plain": [
       "array([0, 1], dtype=int64)"
      ]
     },
     "execution_count": 15,
     "metadata": {},
     "output_type": "execute_result"
    },
    {
     "data": {
      "application/javascript": [
       "\n",
       "            setTimeout(function() {\n",
       "                var nbb_cell_id = 15;\n",
       "                var nbb_unformatted_code = \"# rf_c0.predict_proba(xtest)\\nnp.unique(ytest)\";\n",
       "                var nbb_formatted_code = \"# rf_c0.predict_proba(xtest)\\nnp.unique(ytest)\";\n",
       "                var nbb_cells = Jupyter.notebook.get_cells();\n",
       "                for (var i = 0; i < nbb_cells.length; ++i) {\n",
       "                    if (nbb_cells[i].input_prompt_number == nbb_cell_id) {\n",
       "                        if (nbb_cells[i].get_text() == nbb_unformatted_code) {\n",
       "                             nbb_cells[i].set_text(nbb_formatted_code);\n",
       "                        }\n",
       "                        break;\n",
       "                    }\n",
       "                }\n",
       "            }, 500);\n",
       "            "
      ],
      "text/plain": [
       "<IPython.core.display.Javascript object>"
      ]
     },
     "metadata": {},
     "output_type": "display_data"
    }
   ],
   "source": [
    "# rf_c0.predict_proba(xtest)\n",
    "np.unique(ytest)"
   ]
  },
  {
   "cell_type": "code",
   "execution_count": null,
   "metadata": {},
   "outputs": [],
   "source": []
  },
  {
   "cell_type": "code",
   "execution_count": 18,
   "metadata": {},
   "outputs": [
    {
     "name": "stdout",
     "output_type": "stream",
     "text": [
      "0\n"
     ]
    },
    {
     "data": {
      "application/javascript": [
       "\n",
       "            setTimeout(function() {\n",
       "                var nbb_cell_id = 18;\n",
       "                var nbb_unformatted_code = \"p_k1_c0 = 0\\np_k1_c1 = 0\\nfor i in range(len(predictedprobablities_c0)):\\n    p_k1_c0 += (\\n        predictedprobablities_c0[i][:, 0] * predictedconfusionmatrix_proba_c0[i][0][0]\\n        + predictedprobablities_c0[i][:, 1] * predictedconfusionmatrix_proba_c0[i][0][1]\\n    )\\n\\n    p_k1_c1 += (\\n        predictedprobablities_c0[0][:, 0] * predictedconfusionmatrix_proba_c0[0][1][0]\\n        + predictedprobablities_c0[0][:, 1] * predictedconfusionmatrix_proba_c0[0][1][1]\\n    )\\n\\n    print(i)\\np_k1_c0 = p_k1_c0 / len(predictedprobablities_c0)\\np_k1_c1 = p_k1_c1 / len(predictedprobablities_c0)\";\n",
       "                var nbb_formatted_code = \"p_k1_c0 = 0\\np_k1_c1 = 0\\nfor i in range(len(predictedprobablities_c0)):\\n    p_k1_c0 += (\\n        predictedprobablities_c0[i][:, 0] * predictedconfusionmatrix_proba_c0[i][0][0]\\n        + predictedprobablities_c0[i][:, 1] * predictedconfusionmatrix_proba_c0[i][0][1]\\n    )\\n\\n    p_k1_c1 += (\\n        predictedprobablities_c0[0][:, 0] * predictedconfusionmatrix_proba_c0[0][1][0]\\n        + predictedprobablities_c0[0][:, 1] * predictedconfusionmatrix_proba_c0[0][1][1]\\n    )\\n\\n    print(i)\\np_k1_c0 = p_k1_c0 / len(predictedprobablities_c0)\\np_k1_c1 = p_k1_c1 / len(predictedprobablities_c0)\";\n",
       "                var nbb_cells = Jupyter.notebook.get_cells();\n",
       "                for (var i = 0; i < nbb_cells.length; ++i) {\n",
       "                    if (nbb_cells[i].input_prompt_number == nbb_cell_id) {\n",
       "                        if (nbb_cells[i].get_text() == nbb_unformatted_code) {\n",
       "                             nbb_cells[i].set_text(nbb_formatted_code);\n",
       "                        }\n",
       "                        break;\n",
       "                    }\n",
       "                }\n",
       "            }, 500);\n",
       "            "
      ],
      "text/plain": [
       "<IPython.core.display.Javascript object>"
      ]
     },
     "metadata": {},
     "output_type": "display_data"
    }
   ],
   "source": [
    "p_k1_c0 = 0\n",
    "p_k1_c1 = 0\n",
    "for i in range(len(predictedprobablities_c0)):\n",
    "    p_k1_c0 += (\n",
    "        predictedprobablities_c0[i][:, 0] * predictedconfusionmatrix_proba_c0[i][0][0]\n",
    "        + predictedprobablities_c0[i][:, 1] * predictedconfusionmatrix_proba_c0[i][0][1]\n",
    "    )\n",
    "\n",
    "    p_k1_c1 += (\n",
    "        predictedprobablities_c0[0][:, 0] * predictedconfusionmatrix_proba_c0[0][1][0]\n",
    "        + predictedprobablities_c0[0][:, 1] * predictedconfusionmatrix_proba_c0[0][1][1]\n",
    "    )\n",
    "\n",
    "    print(i)\n",
    "p_k1_c0 = p_k1_c0 / len(predictedprobablities_c0)\n",
    "p_k1_c1 = p_k1_c1 / len(predictedprobablities_c0)"
   ]
  },
  {
   "cell_type": "code",
   "execution_count": 19,
   "metadata": {},
   "outputs": [
    {
     "name": "stdout",
     "output_type": "stream",
     "text": [
      "0.9365079365079365\n",
      "[[18  4]\n",
      " [ 0 41]]\n"
     ]
    },
    {
     "data": {
      "application/javascript": [
       "\n",
       "            setTimeout(function() {\n",
       "                var nbb_cell_id = 19;\n",
       "                var nbb_unformatted_code = \"finalcol = np.zeros((ytest.shape[0], 2))\\nfinalcol[:, 0] = p_k1_c0\\nfinalcol[:, 1] = p_k1_c1\\nfinalpred = np.argmax(finalcol, axis=1)\\nytrain, ytest = swapcolumns(ytrain, ytest, 0)\\n\\nprint(m.accuracy_score(ytest, finalpred))\\nprint(m.confusion_matrix(ytest, finalpred))\";\n",
       "                var nbb_formatted_code = \"finalcol = np.zeros((ytest.shape[0], 2))\\nfinalcol[:, 0] = p_k1_c0\\nfinalcol[:, 1] = p_k1_c1\\nfinalpred = np.argmax(finalcol, axis=1)\\nytrain, ytest = swapcolumns(ytrain, ytest, 0)\\n\\nprint(m.accuracy_score(ytest, finalpred))\\nprint(m.confusion_matrix(ytest, finalpred))\";\n",
       "                var nbb_cells = Jupyter.notebook.get_cells();\n",
       "                for (var i = 0; i < nbb_cells.length; ++i) {\n",
       "                    if (nbb_cells[i].input_prompt_number == nbb_cell_id) {\n",
       "                        if (nbb_cells[i].get_text() == nbb_unformatted_code) {\n",
       "                             nbb_cells[i].set_text(nbb_formatted_code);\n",
       "                        }\n",
       "                        break;\n",
       "                    }\n",
       "                }\n",
       "            }, 500);\n",
       "            "
      ],
      "text/plain": [
       "<IPython.core.display.Javascript object>"
      ]
     },
     "metadata": {},
     "output_type": "display_data"
    }
   ],
   "source": [
    "finalcol = np.zeros((ytest.shape[0], 2))\n",
    "finalcol[:, 0] = p_k1_c0\n",
    "finalcol[:, 1] = p_k1_c1\n",
    "finalpred = np.argmax(finalcol, axis=1)\n",
    "ytrain, ytest = swapcolumns(ytrain, ytest, 0)\n",
    "\n",
    "print(m.accuracy_score(ytest, finalpred))\n",
    "print(m.confusion_matrix(ytest, finalpred))"
   ]
  },
  {
   "cell_type": "code",
   "execution_count": null,
   "metadata": {},
   "outputs": [],
   "source": []
  },
  {
   "cell_type": "code",
   "execution_count": 20,
   "metadata": {},
   "outputs": [
    {
     "data": {
      "application/javascript": [
       "\n",
       "            setTimeout(function() {\n",
       "                var nbb_cell_id = 20;\n",
       "                var nbb_unformatted_code = \"# ytrain = ytrain_original.copy()\\n# ytest = ytest_original.copy()\\n# ytrain, ytest = swapcolumns(ytrain, ytest, 0)\\n# # =================================================\\n# xgbmodel_c0 = xgb.XGBClassifier(random_state=randomseed, n_estimators=50)\\n# xgbmodel_c0.fit(xtrain, ytrain)\\n# xgbmodelpred_c0 = xgbmodel_c0.predict(xtest)\\n# print(m.accuracy_score(ytest, xgbmodelpred_c0))\\n\\n# clf_c0.append(xgbmodel_c0)\\n# acc_c0.append(m.accuracy_score(ytest, xgbmodelpred_c0))\\n# predictedprobablities_c0.append(xgbmodel_c0.predict_proba(xtest))\\n\\n# confmat = m.confusion_matrix(ytest, xgbmodelpred_c0)\\n# confsumh = np.sum(confmat, axis=0)\\n# propconfmat = confmat.copy()\\n# for i in range(propconfmat.shape[0]):\\n#     propconfmat[:, i] = 100 * propconfmat[:, i] / confsumh[i]\\n# predictedconfusionmatrix_proba_c0.append(propconfmat / 100)\";\n",
       "                var nbb_formatted_code = \"# ytrain = ytrain_original.copy()\\n# ytest = ytest_original.copy()\\n# ytrain, ytest = swapcolumns(ytrain, ytest, 0)\\n# # =================================================\\n# xgbmodel_c0 = xgb.XGBClassifier(random_state=randomseed, n_estimators=50)\\n# xgbmodel_c0.fit(xtrain, ytrain)\\n# xgbmodelpred_c0 = xgbmodel_c0.predict(xtest)\\n# print(m.accuracy_score(ytest, xgbmodelpred_c0))\\n\\n# clf_c0.append(xgbmodel_c0)\\n# acc_c0.append(m.accuracy_score(ytest, xgbmodelpred_c0))\\n# predictedprobablities_c0.append(xgbmodel_c0.predict_proba(xtest))\\n\\n# confmat = m.confusion_matrix(ytest, xgbmodelpred_c0)\\n# confsumh = np.sum(confmat, axis=0)\\n# propconfmat = confmat.copy()\\n# for i in range(propconfmat.shape[0]):\\n#     propconfmat[:, i] = 100 * propconfmat[:, i] / confsumh[i]\\n# predictedconfusionmatrix_proba_c0.append(propconfmat / 100)\";\n",
       "                var nbb_cells = Jupyter.notebook.get_cells();\n",
       "                for (var i = 0; i < nbb_cells.length; ++i) {\n",
       "                    if (nbb_cells[i].input_prompt_number == nbb_cell_id) {\n",
       "                        if (nbb_cells[i].get_text() == nbb_unformatted_code) {\n",
       "                             nbb_cells[i].set_text(nbb_formatted_code);\n",
       "                        }\n",
       "                        break;\n",
       "                    }\n",
       "                }\n",
       "            }, 500);\n",
       "            "
      ],
      "text/plain": [
       "<IPython.core.display.Javascript object>"
      ]
     },
     "metadata": {},
     "output_type": "display_data"
    }
   ],
   "source": [
    "# ytrain = ytrain_original.copy()\n",
    "# ytest = ytest_original.copy()\n",
    "# ytrain, ytest = swapcolumns(ytrain, ytest, 0)\n",
    "# # =================================================\n",
    "# xgbmodel_c0 = xgb.XGBClassifier(random_state=randomseed, n_estimators=50)\n",
    "# xgbmodel_c0.fit(xtrain, ytrain)\n",
    "# xgbmodelpred_c0 = xgbmodel_c0.predict(xtest)\n",
    "# print(m.accuracy_score(ytest, xgbmodelpred_c0))\n",
    "\n",
    "# clf_c0.append(xgbmodel_c0)\n",
    "# acc_c0.append(m.accuracy_score(ytest, xgbmodelpred_c0))\n",
    "# predictedprobablities_c0.append(xgbmodel_c0.predict_proba(xtest))\n",
    "\n",
    "# confmat = m.confusion_matrix(ytest, xgbmodelpred_c0)\n",
    "# confsumh = np.sum(confmat, axis=0)\n",
    "# propconfmat = confmat.copy()\n",
    "# for i in range(propconfmat.shape[0]):\n",
    "#     propconfmat[:, i] = 100 * propconfmat[:, i] / confsumh[i]\n",
    "# predictedconfusionmatrix_proba_c0.append(propconfmat / 100)\n"
   ]
  },
  {
   "cell_type": "code",
   "execution_count": 21,
   "metadata": {},
   "outputs": [
    {
     "name": "stdout",
     "output_type": "stream",
     "text": [
      "0.9682539682539683\n"
     ]
    },
    {
     "data": {
      "application/javascript": [
       "\n",
       "            setTimeout(function() {\n",
       "                var nbb_cell_id = 21;\n",
       "                var nbb_unformatted_code = \"clf_c1 = []\\nacc_c1 = []\\npredictedprobablities_c1 = []\\npredictedconfusionmatrix_proba_c1 = []\\n\\n# =================================================\\n# classs 1\\n# =================================================\\nytrain = ytrain_original.copy()\\nytest = ytest_original.copy()\\nytrain, ytest = swapcolumns(ytrain, ytest, 1)\\n# =================================================\\n\\nrf = RandomForestClassifier(random_state=randomseed, n_estimators=50)\\nrf.fit(xtrain, ytrain)\\nrfpred = rf.predict(xtest)\\nprint(m.accuracy_score(ytest, rfpred))\\n\\nclf_c1.append(rf)\\nacc_c1.append(m.accuracy_score(ytest, rfpred))\\npredictedprobablities_c1.append(rf.predict_proba(xtest))\\n\\nconfmat = m.confusion_matrix(ytest, rfpred)\\nconfsumh = np.sum(confmat, axis=0)\\npropconfmat = confmat.copy()\\nfor i in range(propconfmat.shape[0]):\\n    propconfmat[:, i] = 100 * propconfmat[:, i] / confsumh[i]\\npredictedconfusionmatrix_proba_c1.append(propconfmat / 100)\";\n",
       "                var nbb_formatted_code = \"clf_c1 = []\\nacc_c1 = []\\npredictedprobablities_c1 = []\\npredictedconfusionmatrix_proba_c1 = []\\n\\n# =================================================\\n# classs 1\\n# =================================================\\nytrain = ytrain_original.copy()\\nytest = ytest_original.copy()\\nytrain, ytest = swapcolumns(ytrain, ytest, 1)\\n# =================================================\\n\\nrf = RandomForestClassifier(random_state=randomseed, n_estimators=50)\\nrf.fit(xtrain, ytrain)\\nrfpred = rf.predict(xtest)\\nprint(m.accuracy_score(ytest, rfpred))\\n\\nclf_c1.append(rf)\\nacc_c1.append(m.accuracy_score(ytest, rfpred))\\npredictedprobablities_c1.append(rf.predict_proba(xtest))\\n\\nconfmat = m.confusion_matrix(ytest, rfpred)\\nconfsumh = np.sum(confmat, axis=0)\\npropconfmat = confmat.copy()\\nfor i in range(propconfmat.shape[0]):\\n    propconfmat[:, i] = 100 * propconfmat[:, i] / confsumh[i]\\npredictedconfusionmatrix_proba_c1.append(propconfmat / 100)\";\n",
       "                var nbb_cells = Jupyter.notebook.get_cells();\n",
       "                for (var i = 0; i < nbb_cells.length; ++i) {\n",
       "                    if (nbb_cells[i].input_prompt_number == nbb_cell_id) {\n",
       "                        if (nbb_cells[i].get_text() == nbb_unformatted_code) {\n",
       "                             nbb_cells[i].set_text(nbb_formatted_code);\n",
       "                        }\n",
       "                        break;\n",
       "                    }\n",
       "                }\n",
       "            }, 500);\n",
       "            "
      ],
      "text/plain": [
       "<IPython.core.display.Javascript object>"
      ]
     },
     "metadata": {},
     "output_type": "display_data"
    }
   ],
   "source": [
    "clf_c1 = []\n",
    "acc_c1 = []\n",
    "predictedprobablities_c1 = []\n",
    "predictedconfusionmatrix_proba_c1 = []\n",
    "\n",
    "# =================================================\n",
    "# classs 1\n",
    "# =================================================\n",
    "ytrain = ytrain_original.copy()\n",
    "ytest = ytest_original.copy()\n",
    "ytrain, ytest = swapcolumns(ytrain, ytest, 1)\n",
    "# =================================================\n",
    "\n",
    "rf = RandomForestClassifier(random_state=randomseed, n_estimators=50)\n",
    "rf.fit(xtrain, ytrain)\n",
    "rfpred = rf.predict(xtest)\n",
    "print(m.accuracy_score(ytest, rfpred))\n",
    "\n",
    "clf_c1.append(rf)\n",
    "acc_c1.append(m.accuracy_score(ytest, rfpred))\n",
    "predictedprobablities_c1.append(rf.predict_proba(xtest))\n",
    "\n",
    "confmat = m.confusion_matrix(ytest, rfpred)\n",
    "confsumh = np.sum(confmat, axis=0)\n",
    "propconfmat = confmat.copy()\n",
    "for i in range(propconfmat.shape[0]):\n",
    "    propconfmat[:, i] = 100 * propconfmat[:, i] / confsumh[i]\n",
    "predictedconfusionmatrix_proba_c1.append(propconfmat / 100)\n"
   ]
  },
  {
   "cell_type": "code",
   "execution_count": 22,
   "metadata": {
    "scrolled": true
   },
   "outputs": [
    {
     "name": "stdout",
     "output_type": "stream",
     "text": [
      "[[0.   1.  ]\n",
      " [0.74 0.26]\n",
      " [0.98 0.02]\n",
      " [0.   1.  ]\n",
      " [0.   1.  ]\n",
      " [1.   0.  ]\n",
      " [0.   1.  ]\n",
      " [0.98 0.02]\n",
      " [1.   0.  ]\n",
      " [0.   1.  ]\n",
      " [1.   0.  ]\n",
      " [0.92 0.08]\n",
      " [0.92 0.08]\n",
      " [0.   1.  ]\n",
      " [0.68 0.32]\n",
      " [0.   1.  ]\n",
      " [0.   1.  ]\n",
      " [0.   1.  ]\n",
      " [0.   1.  ]\n",
      " [1.   0.  ]\n",
      " [0.   1.  ]\n",
      " [1.   0.  ]\n",
      " [0.42 0.58]\n",
      " [0.   1.  ]\n",
      " [0.   1.  ]\n",
      " [0.   1.  ]\n",
      " [0.4  0.6 ]\n",
      " [0.   1.  ]\n",
      " [0.   1.  ]\n",
      " [0.   1.  ]\n",
      " [1.   0.  ]\n",
      " [0.98 0.02]\n",
      " [0.   1.  ]\n",
      " [0.36 0.64]\n",
      " [0.06 0.94]\n",
      " [1.   0.  ]\n",
      " [0.   1.  ]\n",
      " [0.12 0.88]\n",
      " [1.   0.  ]\n",
      " [0.14 0.86]\n",
      " [0.   1.  ]\n",
      " [0.   1.  ]\n",
      " [0.   1.  ]\n",
      " [1.   0.  ]\n",
      " [0.42 0.58]\n",
      " [0.   1.  ]\n",
      " [0.   1.  ]\n",
      " [0.   1.  ]\n",
      " [0.   1.  ]\n",
      " [0.   1.  ]\n",
      " [0.98 0.02]\n",
      " [0.4  0.6 ]\n",
      " [0.   1.  ]\n",
      " [0.   1.  ]\n",
      " [0.   1.  ]\n",
      " [0.   1.  ]\n",
      " [0.92 0.08]\n",
      " [0.   1.  ]\n",
      " [0.   1.  ]\n",
      " [0.   1.  ]\n",
      " [0.   1.  ]\n",
      " [0.74 0.26]\n",
      " [1.   0.  ]]\n"
     ]
    },
    {
     "data": {
      "application/javascript": [
       "\n",
       "            setTimeout(function() {\n",
       "                var nbb_cell_id = 22;\n",
       "                var nbb_unformatted_code = \"print(rf.predict_proba(xtest))\";\n",
       "                var nbb_formatted_code = \"print(rf.predict_proba(xtest))\";\n",
       "                var nbb_cells = Jupyter.notebook.get_cells();\n",
       "                for (var i = 0; i < nbb_cells.length; ++i) {\n",
       "                    if (nbb_cells[i].input_prompt_number == nbb_cell_id) {\n",
       "                        if (nbb_cells[i].get_text() == nbb_unformatted_code) {\n",
       "                             nbb_cells[i].set_text(nbb_formatted_code);\n",
       "                        }\n",
       "                        break;\n",
       "                    }\n",
       "                }\n",
       "            }, 500);\n",
       "            "
      ],
      "text/plain": [
       "<IPython.core.display.Javascript object>"
      ]
     },
     "metadata": {},
     "output_type": "display_data"
    }
   ],
   "source": [
    "print(rf.predict_proba(xtest))"
   ]
  },
  {
   "cell_type": "code",
   "execution_count": null,
   "metadata": {},
   "outputs": [],
   "source": []
  },
  {
   "cell_type": "code",
   "execution_count": 24,
   "metadata": {},
   "outputs": [
    {
     "name": "stdout",
     "output_type": "stream",
     "text": [
      "0\n"
     ]
    },
    {
     "data": {
      "application/javascript": [
       "\n",
       "            setTimeout(function() {\n",
       "                var nbb_cell_id = 24;\n",
       "                var nbb_unformatted_code = \"p_k2_c0 = 0\\np_k2_c1 = 0\\nfor i in range(len(predictedprobablities_c1)):\\n    p_k2_c0 += (\\n        predictedprobablities_c1[i][:, 0] * predictedconfusionmatrix_proba_c1[i][0][0]\\n        + predictedprobablities_c1[i][:, 1] * predictedconfusionmatrix_proba_c1[i][0][1]\\n    )\\n\\n    p_k2_c1 += (\\n        predictedprobablities_c1[i][:, 0] * predictedconfusionmatrix_proba_c1[i][1][0]\\n        + predictedprobablities_c1[i][:, 1] * predictedconfusionmatrix_proba_c1[i][1][1]\\n    )\\n\\n    print(i)\\np_k2_c0 = p_k2_c0 / len(predictedprobablities_c0)\\np_k2_c1 = p_k2_c1 / len(predictedprobablities_c0)\";\n",
       "                var nbb_formatted_code = \"p_k2_c0 = 0\\np_k2_c1 = 0\\nfor i in range(len(predictedprobablities_c1)):\\n    p_k2_c0 += (\\n        predictedprobablities_c1[i][:, 0] * predictedconfusionmatrix_proba_c1[i][0][0]\\n        + predictedprobablities_c1[i][:, 1] * predictedconfusionmatrix_proba_c1[i][0][1]\\n    )\\n\\n    p_k2_c1 += (\\n        predictedprobablities_c1[i][:, 0] * predictedconfusionmatrix_proba_c1[i][1][0]\\n        + predictedprobablities_c1[i][:, 1] * predictedconfusionmatrix_proba_c1[i][1][1]\\n    )\\n\\n    print(i)\\np_k2_c0 = p_k2_c0 / len(predictedprobablities_c0)\\np_k2_c1 = p_k2_c1 / len(predictedprobablities_c0)\";\n",
       "                var nbb_cells = Jupyter.notebook.get_cells();\n",
       "                for (var i = 0; i < nbb_cells.length; ++i) {\n",
       "                    if (nbb_cells[i].input_prompt_number == nbb_cell_id) {\n",
       "                        if (nbb_cells[i].get_text() == nbb_unformatted_code) {\n",
       "                             nbb_cells[i].set_text(nbb_formatted_code);\n",
       "                        }\n",
       "                        break;\n",
       "                    }\n",
       "                }\n",
       "            }, 500);\n",
       "            "
      ],
      "text/plain": [
       "<IPython.core.display.Javascript object>"
      ]
     },
     "metadata": {},
     "output_type": "display_data"
    }
   ],
   "source": [
    "p_k2_c0 = 0\n",
    "p_k2_c1 = 0\n",
    "for i in range(len(predictedprobablities_c1)):\n",
    "    p_k2_c0 += (\n",
    "        predictedprobablities_c1[i][:, 0] * predictedconfusionmatrix_proba_c1[i][0][0]\n",
    "        + predictedprobablities_c1[i][:, 1] * predictedconfusionmatrix_proba_c1[i][0][1]\n",
    "    )\n",
    "\n",
    "    p_k2_c1 += (\n",
    "        predictedprobablities_c1[i][:, 0] * predictedconfusionmatrix_proba_c1[i][1][0]\n",
    "        + predictedprobablities_c1[i][:, 1] * predictedconfusionmatrix_proba_c1[i][1][1]\n",
    "    )\n",
    "\n",
    "    print(i)\n",
    "p_k2_c0 = p_k2_c0 / len(predictedprobablities_c0)\n",
    "p_k2_c1 = p_k2_c1 / len(predictedprobablities_c0)"
   ]
  },
  {
   "cell_type": "code",
   "execution_count": 25,
   "metadata": {},
   "outputs": [
    {
     "name": "stdout",
     "output_type": "stream",
     "text": [
      "0.9682539682539683\n",
      "[[20  2]\n",
      " [ 0 41]]\n"
     ]
    },
    {
     "data": {
      "application/javascript": [
       "\n",
       "            setTimeout(function() {\n",
       "                var nbb_cell_id = 25;\n",
       "                var nbb_unformatted_code = \"finalcol = np.zeros((ytest.shape[0], 2))\\nfinalcol[:, 0] = p_k2_c0\\nfinalcol[:, 1] = p_k2_c1\\nfinalpred = np.argmax(finalcol, axis=1)\\nytrain, ytest = swapcolumns(ytrain, ytest, 0)\\n\\nprint(m.accuracy_score(ytest, finalpred))\\nprint(m.confusion_matrix(ytest, finalpred))\";\n",
       "                var nbb_formatted_code = \"finalcol = np.zeros((ytest.shape[0], 2))\\nfinalcol[:, 0] = p_k2_c0\\nfinalcol[:, 1] = p_k2_c1\\nfinalpred = np.argmax(finalcol, axis=1)\\nytrain, ytest = swapcolumns(ytrain, ytest, 0)\\n\\nprint(m.accuracy_score(ytest, finalpred))\\nprint(m.confusion_matrix(ytest, finalpred))\";\n",
       "                var nbb_cells = Jupyter.notebook.get_cells();\n",
       "                for (var i = 0; i < nbb_cells.length; ++i) {\n",
       "                    if (nbb_cells[i].input_prompt_number == nbb_cell_id) {\n",
       "                        if (nbb_cells[i].get_text() == nbb_unformatted_code) {\n",
       "                             nbb_cells[i].set_text(nbb_formatted_code);\n",
       "                        }\n",
       "                        break;\n",
       "                    }\n",
       "                }\n",
       "            }, 500);\n",
       "            "
      ],
      "text/plain": [
       "<IPython.core.display.Javascript object>"
      ]
     },
     "metadata": {},
     "output_type": "display_data"
    }
   ],
   "source": [
    "finalcol = np.zeros((ytest.shape[0], 2))\n",
    "finalcol[:, 0] = p_k2_c0\n",
    "finalcol[:, 1] = p_k2_c1\n",
    "finalpred = np.argmax(finalcol, axis=1)\n",
    "ytrain, ytest = swapcolumns(ytrain, ytest, 0)\n",
    "\n",
    "print(m.accuracy_score(ytest, finalpred))\n",
    "print(m.confusion_matrix(ytest, finalpred))"
   ]
  },
  {
   "cell_type": "code",
   "execution_count": null,
   "metadata": {},
   "outputs": [],
   "source": []
  },
  {
   "cell_type": "code",
   "execution_count": null,
   "metadata": {},
   "outputs": [],
   "source": []
  },
  {
   "cell_type": "code",
   "execution_count": null,
   "metadata": {},
   "outputs": [],
   "source": []
  },
  {
   "cell_type": "code",
   "execution_count": null,
   "metadata": {},
   "outputs": [],
   "source": []
  },
  {
   "cell_type": "code",
   "execution_count": 26,
   "metadata": {},
   "outputs": [
    {
     "data": {
      "application/javascript": [
       "\n",
       "            setTimeout(function() {\n",
       "                var nbb_cell_id = 26;\n",
       "                var nbb_unformatted_code = \"# ytrain = ytrain_original.copy()\\n# ytest = ytest_original.copy()\\n# ytrain, ytest = swapcolumns(ytrain, ytest, 1)\\n# # =================================================\\n# xgbmodel = xgb.XGBClassifier(random_state=randomseed, n_estimators=50)\\n# xgbmodel.fit(xtrain, ytrain)\\n# xgbmodelpred = xgbmodel.predict(xtest)\\n# print(m.accuracy_score(ytest, xgbmodelpred))\\n\\n# clf_c1.append(xgbmodel)\\n# acc_c1.append(m.accuracy_score(ytest, xgbmodelpred))\\n# predictedprobablities_c1.append(xgbmodel.predict_proba(xtest))\\n\\n# confmat = m.confusion_matrix(ytest, xgbmodelpred)\\n# confsumh = np.sum(confmat, axis=0)\\n# propconfmat = confmat.copy()\\n# for i in range(propconfmat.shape[0]):\\n#     propconfmat[:, i] = 100 * propconfmat[:, i] / confsumh[i]\\n# predictedconfusionmatrix_proba_c1.append(propconfmat / 100)\";\n",
       "                var nbb_formatted_code = \"# ytrain = ytrain_original.copy()\\n# ytest = ytest_original.copy()\\n# ytrain, ytest = swapcolumns(ytrain, ytest, 1)\\n# # =================================================\\n# xgbmodel = xgb.XGBClassifier(random_state=randomseed, n_estimators=50)\\n# xgbmodel.fit(xtrain, ytrain)\\n# xgbmodelpred = xgbmodel.predict(xtest)\\n# print(m.accuracy_score(ytest, xgbmodelpred))\\n\\n# clf_c1.append(xgbmodel)\\n# acc_c1.append(m.accuracy_score(ytest, xgbmodelpred))\\n# predictedprobablities_c1.append(xgbmodel.predict_proba(xtest))\\n\\n# confmat = m.confusion_matrix(ytest, xgbmodelpred)\\n# confsumh = np.sum(confmat, axis=0)\\n# propconfmat = confmat.copy()\\n# for i in range(propconfmat.shape[0]):\\n#     propconfmat[:, i] = 100 * propconfmat[:, i] / confsumh[i]\\n# predictedconfusionmatrix_proba_c1.append(propconfmat / 100)\";\n",
       "                var nbb_cells = Jupyter.notebook.get_cells();\n",
       "                for (var i = 0; i < nbb_cells.length; ++i) {\n",
       "                    if (nbb_cells[i].input_prompt_number == nbb_cell_id) {\n",
       "                        if (nbb_cells[i].get_text() == nbb_unformatted_code) {\n",
       "                             nbb_cells[i].set_text(nbb_formatted_code);\n",
       "                        }\n",
       "                        break;\n",
       "                    }\n",
       "                }\n",
       "            }, 500);\n",
       "            "
      ],
      "text/plain": [
       "<IPython.core.display.Javascript object>"
      ]
     },
     "metadata": {},
     "output_type": "display_data"
    }
   ],
   "source": [
    "# ytrain = ytrain_original.copy()\n",
    "# ytest = ytest_original.copy()\n",
    "# ytrain, ytest = swapcolumns(ytrain, ytest, 1)\n",
    "# # =================================================\n",
    "# xgbmodel = xgb.XGBClassifier(random_state=randomseed, n_estimators=50)\n",
    "# xgbmodel.fit(xtrain, ytrain)\n",
    "# xgbmodelpred = xgbmodel.predict(xtest)\n",
    "# print(m.accuracy_score(ytest, xgbmodelpred))\n",
    "\n",
    "# clf_c1.append(xgbmodel)\n",
    "# acc_c1.append(m.accuracy_score(ytest, xgbmodelpred))\n",
    "# predictedprobablities_c1.append(xgbmodel.predict_proba(xtest))\n",
    "\n",
    "# confmat = m.confusion_matrix(ytest, xgbmodelpred)\n",
    "# confsumh = np.sum(confmat, axis=0)\n",
    "# propconfmat = confmat.copy()\n",
    "# for i in range(propconfmat.shape[0]):\n",
    "#     propconfmat[:, i] = 100 * propconfmat[:, i] / confsumh[i]\n",
    "# predictedconfusionmatrix_proba_c1.append(propconfmat / 100)\n"
   ]
  },
  {
   "cell_type": "code",
   "execution_count": 27,
   "metadata": {},
   "outputs": [
    {
     "name": "stdout",
     "output_type": "stream",
     "text": [
      "0.9047619047619048\n"
     ]
    },
    {
     "data": {
      "application/javascript": [
       "\n",
       "            setTimeout(function() {\n",
       "                var nbb_cell_id = 27;\n",
       "                var nbb_unformatted_code = \"#=================================================\\n# classs 2\\n#=================================================\\n\\nclf_c2 = []\\nacc_c2 = []\\npredictedprobablities_c2 = []\\npredictedconfusionmatrix_proba_c2 = []\\n\\nytrain=ytrain_original.copy()\\nytest=ytest_original.copy()\\nytrain,ytest= swapcolumns(ytrain,ytest,2)\\n\\n#=================================================\\n\\nrf=RandomForestClassifier(random_state=randomseed, n_estimators=50)\\nrf.fit(xtrain,ytrain)\\nrfpred=rf.predict(xtest)\\nprint(m.accuracy_score(ytest,rfpred))\\n\\nclf_c2.append(rf)\\nacc_c2.append(m.accuracy_score(ytest,rfpred))\\npredictedprobablities_c2.append(rf.predict_proba(xtest))\\n\\nconfmat=m.confusion_matrix(ytest,rfpred)\\nconfsumh=np.sum(confmat,axis=0)\\npropconfmat=confmat.copy()\\nfor i in range(propconfmat.shape[0]):\\n    propconfmat[:,i]= 100*propconfmat[:,i]/confsumh[i] \\npredictedconfusionmatrix_proba_c2.append(propconfmat/100)\";\n",
       "                var nbb_formatted_code = \"# =================================================\\n# classs 2\\n# =================================================\\n\\nclf_c2 = []\\nacc_c2 = []\\npredictedprobablities_c2 = []\\npredictedconfusionmatrix_proba_c2 = []\\n\\nytrain = ytrain_original.copy()\\nytest = ytest_original.copy()\\nytrain, ytest = swapcolumns(ytrain, ytest, 2)\\n\\n# =================================================\\n\\nrf = RandomForestClassifier(random_state=randomseed, n_estimators=50)\\nrf.fit(xtrain, ytrain)\\nrfpred = rf.predict(xtest)\\nprint(m.accuracy_score(ytest, rfpred))\\n\\nclf_c2.append(rf)\\nacc_c2.append(m.accuracy_score(ytest, rfpred))\\npredictedprobablities_c2.append(rf.predict_proba(xtest))\\n\\nconfmat = m.confusion_matrix(ytest, rfpred)\\nconfsumh = np.sum(confmat, axis=0)\\npropconfmat = confmat.copy()\\nfor i in range(propconfmat.shape[0]):\\n    propconfmat[:, i] = 100 * propconfmat[:, i] / confsumh[i]\\npredictedconfusionmatrix_proba_c2.append(propconfmat / 100)\";\n",
       "                var nbb_cells = Jupyter.notebook.get_cells();\n",
       "                for (var i = 0; i < nbb_cells.length; ++i) {\n",
       "                    if (nbb_cells[i].input_prompt_number == nbb_cell_id) {\n",
       "                        if (nbb_cells[i].get_text() == nbb_unformatted_code) {\n",
       "                             nbb_cells[i].set_text(nbb_formatted_code);\n",
       "                        }\n",
       "                        break;\n",
       "                    }\n",
       "                }\n",
       "            }, 500);\n",
       "            "
      ],
      "text/plain": [
       "<IPython.core.display.Javascript object>"
      ]
     },
     "metadata": {},
     "output_type": "display_data"
    }
   ],
   "source": [
    "#=================================================\n",
    "# classs 2\n",
    "#=================================================\n",
    "\n",
    "clf_c2 = []\n",
    "acc_c2 = []\n",
    "predictedprobablities_c2 = []\n",
    "predictedconfusionmatrix_proba_c2 = []\n",
    "\n",
    "ytrain=ytrain_original.copy()\n",
    "ytest=ytest_original.copy()\n",
    "ytrain,ytest= swapcolumns(ytrain,ytest,2)\n",
    "\n",
    "#=================================================\n",
    "\n",
    "rf=RandomForestClassifier(random_state=randomseed, n_estimators=50)\n",
    "rf.fit(xtrain,ytrain)\n",
    "rfpred=rf.predict(xtest)\n",
    "print(m.accuracy_score(ytest,rfpred))\n",
    "\n",
    "clf_c2.append(rf)\n",
    "acc_c2.append(m.accuracy_score(ytest,rfpred))\n",
    "predictedprobablities_c2.append(rf.predict_proba(xtest))\n",
    "\n",
    "confmat=m.confusion_matrix(ytest,rfpred)\n",
    "confsumh=np.sum(confmat,axis=0)\n",
    "propconfmat=confmat.copy()\n",
    "for i in range(propconfmat.shape[0]):\n",
    "    propconfmat[:,i]= 100*propconfmat[:,i]/confsumh[i] \n",
    "predictedconfusionmatrix_proba_c2.append(propconfmat/100)\n"
   ]
  },
  {
   "cell_type": "code",
   "execution_count": 28,
   "metadata": {},
   "outputs": [
    {
     "data": {
      "application/javascript": [
       "\n",
       "            setTimeout(function() {\n",
       "                var nbb_cell_id = 28;\n",
       "                var nbb_unformatted_code = \"# ytrain = ytrain_original.copy()\\n# ytest = ytest_original.copy()\\n# ytrain, ytest = swapcolumns(ytrain, ytest, 2)\\n# # =================================================\\n# xgbmodel = xgb.XGBClassifier(random_state=randomseed, n_estimators=50)\\n# xgbmodel.fit(xtrain, ytrain)\\n# xgbmodelpred = xgbmodel.predict(xtest)\\n# print(m.accuracy_score(ytest, xgbmodelpred))\\n\\n# clf_c2.append(xgbmodel)\\n# acc_c2.append(m.accuracy_score(ytest, xgbmodelpred))\\n# predictedprobablities_c2.append(xgbmodel.predict_proba(xtest))\\n\\n# confmat = m.confusion_matrix(ytest, xgbmodelpred)\\n# confsumh = np.sum(confmat, axis=0)\\n# propconfmat = confmat.copy()\\n# for i in range(propconfmat.shape[0]):\\n#     propconfmat[:, i] = 100 * propconfmat[:, i] / confsumh[i]\\n# predictedconfusionmatrix_proba_c2.append(propconfmat / 100)\";\n",
       "                var nbb_formatted_code = \"# ytrain = ytrain_original.copy()\\n# ytest = ytest_original.copy()\\n# ytrain, ytest = swapcolumns(ytrain, ytest, 2)\\n# # =================================================\\n# xgbmodel = xgb.XGBClassifier(random_state=randomseed, n_estimators=50)\\n# xgbmodel.fit(xtrain, ytrain)\\n# xgbmodelpred = xgbmodel.predict(xtest)\\n# print(m.accuracy_score(ytest, xgbmodelpred))\\n\\n# clf_c2.append(xgbmodel)\\n# acc_c2.append(m.accuracy_score(ytest, xgbmodelpred))\\n# predictedprobablities_c2.append(xgbmodel.predict_proba(xtest))\\n\\n# confmat = m.confusion_matrix(ytest, xgbmodelpred)\\n# confsumh = np.sum(confmat, axis=0)\\n# propconfmat = confmat.copy()\\n# for i in range(propconfmat.shape[0]):\\n#     propconfmat[:, i] = 100 * propconfmat[:, i] / confsumh[i]\\n# predictedconfusionmatrix_proba_c2.append(propconfmat / 100)\";\n",
       "                var nbb_cells = Jupyter.notebook.get_cells();\n",
       "                for (var i = 0; i < nbb_cells.length; ++i) {\n",
       "                    if (nbb_cells[i].input_prompt_number == nbb_cell_id) {\n",
       "                        if (nbb_cells[i].get_text() == nbb_unformatted_code) {\n",
       "                             nbb_cells[i].set_text(nbb_formatted_code);\n",
       "                        }\n",
       "                        break;\n",
       "                    }\n",
       "                }\n",
       "            }, 500);\n",
       "            "
      ],
      "text/plain": [
       "<IPython.core.display.Javascript object>"
      ]
     },
     "metadata": {},
     "output_type": "display_data"
    }
   ],
   "source": [
    "# ytrain = ytrain_original.copy()\n",
    "# ytest = ytest_original.copy()\n",
    "# ytrain, ytest = swapcolumns(ytrain, ytest, 2)\n",
    "# # =================================================\n",
    "# xgbmodel = xgb.XGBClassifier(random_state=randomseed, n_estimators=50)\n",
    "# xgbmodel.fit(xtrain, ytrain)\n",
    "# xgbmodelpred = xgbmodel.predict(xtest)\n",
    "# print(m.accuracy_score(ytest, xgbmodelpred))\n",
    "\n",
    "# clf_c2.append(xgbmodel)\n",
    "# acc_c2.append(m.accuracy_score(ytest, xgbmodelpred))\n",
    "# predictedprobablities_c2.append(xgbmodel.predict_proba(xtest))\n",
    "\n",
    "# confmat = m.confusion_matrix(ytest, xgbmodelpred)\n",
    "# confsumh = np.sum(confmat, axis=0)\n",
    "# propconfmat = confmat.copy()\n",
    "# for i in range(propconfmat.shape[0]):\n",
    "#     propconfmat[:, i] = 100 * propconfmat[:, i] / confsumh[i]\n",
    "# predictedconfusionmatrix_proba_c2.append(propconfmat / 100)\n"
   ]
  },
  {
   "cell_type": "code",
   "execution_count": 29,
   "metadata": {
    "scrolled": true
   },
   "outputs": [
    {
     "data": {
      "text/plain": [
       "[array([[1.  , 0.  ],\n",
       "        [0.02, 0.98],\n",
       "        [0.  , 1.  ],\n",
       "        [0.94, 0.06],\n",
       "        [0.76, 0.24],\n",
       "        [0.  , 1.  ],\n",
       "        [0.56, 0.44],\n",
       "        [0.  , 1.  ],\n",
       "        [0.  , 1.  ],\n",
       "        [0.38, 0.62],\n",
       "        [0.  , 1.  ],\n",
       "        [0.  , 1.  ],\n",
       "        [0.  , 1.  ],\n",
       "        [0.  , 1.  ],\n",
       "        [0.  , 1.  ],\n",
       "        [1.  , 0.  ],\n",
       "        [0.58, 0.42],\n",
       "        [1.  , 0.  ],\n",
       "        [0.78, 0.22],\n",
       "        [0.  , 1.  ],\n",
       "        [1.  , 0.  ],\n",
       "        [0.  , 1.  ],\n",
       "        [0.  , 1.  ],\n",
       "        [1.  , 0.  ],\n",
       "        [1.  , 0.  ],\n",
       "        [0.  , 1.  ],\n",
       "        [0.  , 1.  ],\n",
       "        [0.  , 1.  ],\n",
       "        [1.  , 0.  ],\n",
       "        [0.8 , 0.2 ],\n",
       "        [0.  , 1.  ],\n",
       "        [0.  , 1.  ],\n",
       "        [1.  , 0.  ],\n",
       "        [0.  , 1.  ],\n",
       "        [0.  , 1.  ],\n",
       "        [0.  , 1.  ],\n",
       "        [0.82, 0.18],\n",
       "        [0.02, 0.98],\n",
       "        [0.  , 1.  ],\n",
       "        [0.  , 1.  ],\n",
       "        [1.  , 0.  ],\n",
       "        [1.  , 0.  ],\n",
       "        [1.  , 0.  ],\n",
       "        [0.  , 1.  ],\n",
       "        [0.  , 1.  ],\n",
       "        [0.04, 0.96],\n",
       "        [1.  , 0.  ],\n",
       "        [1.  , 0.  ],\n",
       "        [1.  , 0.  ],\n",
       "        [1.  , 0.  ],\n",
       "        [0.  , 1.  ],\n",
       "        [0.  , 1.  ],\n",
       "        [0.96, 0.04],\n",
       "        [0.08, 0.92],\n",
       "        [0.04, 0.96],\n",
       "        [0.  , 1.  ],\n",
       "        [0.  , 1.  ],\n",
       "        [0.06, 0.94],\n",
       "        [0.36, 0.64],\n",
       "        [1.  , 0.  ],\n",
       "        [1.  , 0.  ],\n",
       "        [0.  , 1.  ],\n",
       "        [0.  , 1.  ]])]"
      ]
     },
     "execution_count": 29,
     "metadata": {},
     "output_type": "execute_result"
    },
    {
     "data": {
      "application/javascript": [
       "\n",
       "            setTimeout(function() {\n",
       "                var nbb_cell_id = 29;\n",
       "                var nbb_unformatted_code = \"predictedprobablities_c2\";\n",
       "                var nbb_formatted_code = \"predictedprobablities_c2\";\n",
       "                var nbb_cells = Jupyter.notebook.get_cells();\n",
       "                for (var i = 0; i < nbb_cells.length; ++i) {\n",
       "                    if (nbb_cells[i].input_prompt_number == nbb_cell_id) {\n",
       "                        if (nbb_cells[i].get_text() == nbb_unformatted_code) {\n",
       "                             nbb_cells[i].set_text(nbb_formatted_code);\n",
       "                        }\n",
       "                        break;\n",
       "                    }\n",
       "                }\n",
       "            }, 500);\n",
       "            "
      ],
      "text/plain": [
       "<IPython.core.display.Javascript object>"
      ]
     },
     "metadata": {},
     "output_type": "display_data"
    }
   ],
   "source": [
    "predictedprobablities_c2"
   ]
  },
  {
   "cell_type": "code",
   "execution_count": 30,
   "metadata": {
    "scrolled": true
   },
   "outputs": [
    {
     "name": "stdout",
     "output_type": "stream",
     "text": [
      "[[1.   0.  ]\n",
      " [0.02 0.98]\n",
      " [0.   1.  ]\n",
      " [0.94 0.06]\n",
      " [0.76 0.24]\n",
      " [0.   1.  ]\n",
      " [0.56 0.44]\n",
      " [0.   1.  ]\n",
      " [0.   1.  ]\n",
      " [0.38 0.62]\n",
      " [0.   1.  ]\n",
      " [0.   1.  ]\n",
      " [0.   1.  ]\n",
      " [0.   1.  ]\n",
      " [0.   1.  ]\n",
      " [1.   0.  ]\n",
      " [0.58 0.42]\n",
      " [1.   0.  ]\n",
      " [0.78 0.22]\n",
      " [0.   1.  ]\n",
      " [1.   0.  ]\n",
      " [0.   1.  ]\n",
      " [0.   1.  ]\n",
      " [1.   0.  ]\n",
      " [1.   0.  ]\n",
      " [0.   1.  ]\n",
      " [0.   1.  ]\n",
      " [0.   1.  ]\n",
      " [1.   0.  ]\n",
      " [0.8  0.2 ]\n",
      " [0.   1.  ]\n",
      " [0.   1.  ]\n",
      " [1.   0.  ]\n",
      " [0.   1.  ]\n",
      " [0.   1.  ]\n",
      " [0.   1.  ]\n",
      " [0.82 0.18]\n",
      " [0.02 0.98]\n",
      " [0.   1.  ]\n",
      " [0.   1.  ]\n",
      " [1.   0.  ]\n",
      " [1.   0.  ]\n",
      " [1.   0.  ]\n",
      " [0.   1.  ]\n",
      " [0.   1.  ]\n",
      " [0.04 0.96]\n",
      " [1.   0.  ]\n",
      " [1.   0.  ]\n",
      " [1.   0.  ]\n",
      " [1.   0.  ]\n",
      " [0.   1.  ]\n",
      " [0.   1.  ]\n",
      " [0.96 0.04]\n",
      " [0.08 0.92]\n",
      " [0.04 0.96]\n",
      " [0.   1.  ]\n",
      " [0.   1.  ]\n",
      " [0.06 0.94]\n",
      " [0.36 0.64]\n",
      " [1.   0.  ]\n",
      " [1.   0.  ]\n",
      " [0.   1.  ]\n",
      " [0.   1.  ]]\n"
     ]
    },
    {
     "data": {
      "application/javascript": [
       "\n",
       "            setTimeout(function() {\n",
       "                var nbb_cell_id = 30;\n",
       "                var nbb_unformatted_code = \"print((rf.predict_proba(xtest)))\";\n",
       "                var nbb_formatted_code = \"print((rf.predict_proba(xtest)))\";\n",
       "                var nbb_cells = Jupyter.notebook.get_cells();\n",
       "                for (var i = 0; i < nbb_cells.length; ++i) {\n",
       "                    if (nbb_cells[i].input_prompt_number == nbb_cell_id) {\n",
       "                        if (nbb_cells[i].get_text() == nbb_unformatted_code) {\n",
       "                             nbb_cells[i].set_text(nbb_formatted_code);\n",
       "                        }\n",
       "                        break;\n",
       "                    }\n",
       "                }\n",
       "            }, 500);\n",
       "            "
      ],
      "text/plain": [
       "<IPython.core.display.Javascript object>"
      ]
     },
     "metadata": {},
     "output_type": "display_data"
    }
   ],
   "source": [
    "print((rf.predict_proba(xtest)))"
   ]
  },
  {
   "cell_type": "code",
   "execution_count": null,
   "metadata": {},
   "outputs": [],
   "source": []
  },
  {
   "cell_type": "code",
   "execution_count": 31,
   "metadata": {},
   "outputs": [
    {
     "name": "stdout",
     "output_type": "stream",
     "text": [
      "0\n"
     ]
    },
    {
     "data": {
      "application/javascript": [
       "\n",
       "            setTimeout(function() {\n",
       "                var nbb_cell_id = 31;\n",
       "                var nbb_unformatted_code = \"p_k3_c0 = 0\\np_k3_c1 = 0\\nfor i in range(len(predictedprobablities_c2)):\\n    p_k3_c0 += (\\n        predictedprobablities_c2[i][:, 0] * predictedconfusionmatrix_proba_c2[i][0][0]\\n        + predictedprobablities_c2[i][:, 1] * predictedconfusionmatrix_proba_c2[i][0][1]\\n    )\\n\\n    p_k3_c1 += (\\n        predictedprobablities_c2[i][:, 0] * predictedconfusionmatrix_proba_c2[i][1][0]\\n        + predictedprobablities_c2[i][:, 1] * predictedconfusionmatrix_proba_c2[i][1][1]\\n    )\\n\\n    print(i)\\np_k3_c0 = p_k3_c0 / len(predictedprobablities_c2)\\np_k3_c1 = p_k3_c1 / len(predictedprobablities_c2)\";\n",
       "                var nbb_formatted_code = \"p_k3_c0 = 0\\np_k3_c1 = 0\\nfor i in range(len(predictedprobablities_c2)):\\n    p_k3_c0 += (\\n        predictedprobablities_c2[i][:, 0] * predictedconfusionmatrix_proba_c2[i][0][0]\\n        + predictedprobablities_c2[i][:, 1] * predictedconfusionmatrix_proba_c2[i][0][1]\\n    )\\n\\n    p_k3_c1 += (\\n        predictedprobablities_c2[i][:, 0] * predictedconfusionmatrix_proba_c2[i][1][0]\\n        + predictedprobablities_c2[i][:, 1] * predictedconfusionmatrix_proba_c2[i][1][1]\\n    )\\n\\n    print(i)\\np_k3_c0 = p_k3_c0 / len(predictedprobablities_c2)\\np_k3_c1 = p_k3_c1 / len(predictedprobablities_c2)\";\n",
       "                var nbb_cells = Jupyter.notebook.get_cells();\n",
       "                for (var i = 0; i < nbb_cells.length; ++i) {\n",
       "                    if (nbb_cells[i].input_prompt_number == nbb_cell_id) {\n",
       "                        if (nbb_cells[i].get_text() == nbb_unformatted_code) {\n",
       "                             nbb_cells[i].set_text(nbb_formatted_code);\n",
       "                        }\n",
       "                        break;\n",
       "                    }\n",
       "                }\n",
       "            }, 500);\n",
       "            "
      ],
      "text/plain": [
       "<IPython.core.display.Javascript object>"
      ]
     },
     "metadata": {},
     "output_type": "display_data"
    }
   ],
   "source": [
    "p_k3_c0 = 0\n",
    "p_k3_c1 = 0\n",
    "for i in range(len(predictedprobablities_c2)):\n",
    "    p_k3_c0 += (\n",
    "        predictedprobablities_c2[i][:, 0] * predictedconfusionmatrix_proba_c2[i][0][0]\n",
    "        + predictedprobablities_c2[i][:, 1] * predictedconfusionmatrix_proba_c2[i][0][1]\n",
    "    )\n",
    "\n",
    "    p_k3_c1 += (\n",
    "        predictedprobablities_c2[i][:, 0] * predictedconfusionmatrix_proba_c2[i][1][0]\n",
    "        + predictedprobablities_c2[i][:, 1] * predictedconfusionmatrix_proba_c2[i][1][1]\n",
    "    )\n",
    "\n",
    "    print(i)\n",
    "p_k3_c0 = p_k3_c0 / len(predictedprobablities_c2)\n",
    "p_k3_c1 = p_k3_c1 / len(predictedprobablities_c2)"
   ]
  },
  {
   "cell_type": "code",
   "execution_count": 32,
   "metadata": {},
   "outputs": [
    {
     "name": "stdout",
     "output_type": "stream",
     "text": [
      "0.9365079365079365\n",
      "[[19  0]\n",
      " [ 4 40]]\n"
     ]
    },
    {
     "data": {
      "application/javascript": [
       "\n",
       "            setTimeout(function() {\n",
       "                var nbb_cell_id = 32;\n",
       "                var nbb_unformatted_code = \"finalcol = np.zeros((ytest.shape[0], 2))\\nfinalcol[:, 0] = p_k3_c0\\nfinalcol[:, 1] = p_k3_c1\\nfinalpred = np.argmax(finalcol, axis=1)\\nytrain, ytest = swapcolumns(ytrain, ytest, 0)\\n\\nprint(m.accuracy_score(ytest, finalpred))\\nprint(m.confusion_matrix(ytest, finalpred))\";\n",
       "                var nbb_formatted_code = \"finalcol = np.zeros((ytest.shape[0], 2))\\nfinalcol[:, 0] = p_k3_c0\\nfinalcol[:, 1] = p_k3_c1\\nfinalpred = np.argmax(finalcol, axis=1)\\nytrain, ytest = swapcolumns(ytrain, ytest, 0)\\n\\nprint(m.accuracy_score(ytest, finalpred))\\nprint(m.confusion_matrix(ytest, finalpred))\";\n",
       "                var nbb_cells = Jupyter.notebook.get_cells();\n",
       "                for (var i = 0; i < nbb_cells.length; ++i) {\n",
       "                    if (nbb_cells[i].input_prompt_number == nbb_cell_id) {\n",
       "                        if (nbb_cells[i].get_text() == nbb_unformatted_code) {\n",
       "                             nbb_cells[i].set_text(nbb_formatted_code);\n",
       "                        }\n",
       "                        break;\n",
       "                    }\n",
       "                }\n",
       "            }, 500);\n",
       "            "
      ],
      "text/plain": [
       "<IPython.core.display.Javascript object>"
      ]
     },
     "metadata": {},
     "output_type": "display_data"
    }
   ],
   "source": [
    "finalcol = np.zeros((ytest.shape[0], 2))\n",
    "finalcol[:, 0] = p_k3_c0\n",
    "finalcol[:, 1] = p_k3_c1\n",
    "finalpred = np.argmax(finalcol, axis=1)\n",
    "ytrain, ytest = swapcolumns(ytrain, ytest, 0)\n",
    "\n",
    "print(m.accuracy_score(ytest, finalpred))\n",
    "print(m.confusion_matrix(ytest, finalpred))"
   ]
  },
  {
   "cell_type": "code",
   "execution_count": null,
   "metadata": {},
   "outputs": [],
   "source": []
  },
  {
   "cell_type": "code",
   "execution_count": null,
   "metadata": {},
   "outputs": [],
   "source": []
  },
  {
   "cell_type": "code",
   "execution_count": 33,
   "metadata": {},
   "outputs": [
    {
     "data": {
      "application/javascript": [
       "\n",
       "            setTimeout(function() {\n",
       "                var nbb_cell_id = 33;\n",
       "                var nbb_unformatted_code = \"# # pc1_all = []\\n# # pc2_all = []\\n\\n# # for i in range(len(predictedconfusionmatrix_proba)):\\n\\n# #     pc1 = ( predictedprobablities[i][:, 0]    )\\n# #     pc2 = (  predictedprobablities[i][:, 1]    )\\n\\n# #     pc1_all.append(pc1)\\n# #     pc2_all.append(pc2)\\n\\n\\n\\n# ci0 = ci1 = ci2 = 1 \\n\\n# p_k1_c1 = ci0 * (\\n#     predictedprobablities[0][:, 0] * predictedconfusionmatrix_proba[0][1][0]\\n#     + predictedprobablities[0][:, 1] * predictedconfusionmatrix_proba[0][1][1]\\n# )\\n\\n\\n# p_k2_c1 = ci0 * (\\n#     predictedprobablities[1][:, 0] * predictedconfusionmatrix_proba[1][1][0]\\n#     + predictedprobablities[1][:, 1] * predictedconfusionmatrix_proba[1][1][1]\\n# )\\n\\n# p_k3_c1 = ci0 * (\\n#     predictedprobablities[2][:, 0] * predictedconfusionmatrix_proba[2][1][0]\\n#     + predictedprobablities[2][:, 1] * predictedconfusionmatrix_proba[2][1][1]\\n# )\\n\\n\\n# p_k1_c0 = ci0 * (\\n#     predictedprobablities[0][:, 0] * predictedconfusionmatrix_proba[0][0][0]\\n#     + predictedprobablities[0][:, 1] * predictedconfusionmatrix_proba[0][0][1]\\n# ) + (p_k2_c1 * p_k3_c1)\\n\\n\\n# p_k2_c0 = ci0 * (\\n#     predictedprobablities[1][:, 0] * predictedconfusionmatrix_proba[1][0][0]\\n#     + predictedprobablities[1][:, 1] * predictedconfusionmatrix_proba[1][0][1]\\n# ) + (p_k1_c1 * p_k3_c1)\\n\\n# p_k3_c0 = ci0 * (\\n#     predictedprobablities[2][:, 0] * predictedconfusionmatrix_proba[2][0][0]\\n#     + predictedprobablities[2][:, 1] * predictedconfusionmatrix_proba[2][0][1]\\n# ) + (p_k2_c1 * p_k1_c1)\\n\\n# finalcol = np.zeros((ytest.shape[0], 3))\\n# finalcol[:, 0] = p_k1_c0\\n# finalcol[:, 1] = p_k2_c0\\n# finalcol[:, 2] = p_k3_c0\\n# finalpred = np.argmax(finalcol, axis=1)\\n\\n# ytest = ytest_original.copy()\\n# print(m.accuracy_score(ytest, finalpred))\\n# print(m.confusion_matrix(ytest, finalpred))\";\n",
       "                var nbb_formatted_code = \"# # pc1_all = []\\n# # pc2_all = []\\n\\n# # for i in range(len(predictedconfusionmatrix_proba)):\\n\\n# #     pc1 = ( predictedprobablities[i][:, 0]    )\\n# #     pc2 = (  predictedprobablities[i][:, 1]    )\\n\\n# #     pc1_all.append(pc1)\\n# #     pc2_all.append(pc2)\\n\\n\\n# ci0 = ci1 = ci2 = 1\\n\\n# p_k1_c1 = ci0 * (\\n#     predictedprobablities[0][:, 0] * predictedconfusionmatrix_proba[0][1][0]\\n#     + predictedprobablities[0][:, 1] * predictedconfusionmatrix_proba[0][1][1]\\n# )\\n\\n\\n# p_k2_c1 = ci0 * (\\n#     predictedprobablities[1][:, 0] * predictedconfusionmatrix_proba[1][1][0]\\n#     + predictedprobablities[1][:, 1] * predictedconfusionmatrix_proba[1][1][1]\\n# )\\n\\n# p_k3_c1 = ci0 * (\\n#     predictedprobablities[2][:, 0] * predictedconfusionmatrix_proba[2][1][0]\\n#     + predictedprobablities[2][:, 1] * predictedconfusionmatrix_proba[2][1][1]\\n# )\\n\\n\\n# p_k1_c0 = ci0 * (\\n#     predictedprobablities[0][:, 0] * predictedconfusionmatrix_proba[0][0][0]\\n#     + predictedprobablities[0][:, 1] * predictedconfusionmatrix_proba[0][0][1]\\n# ) + (p_k2_c1 * p_k3_c1)\\n\\n\\n# p_k2_c0 = ci0 * (\\n#     predictedprobablities[1][:, 0] * predictedconfusionmatrix_proba[1][0][0]\\n#     + predictedprobablities[1][:, 1] * predictedconfusionmatrix_proba[1][0][1]\\n# ) + (p_k1_c1 * p_k3_c1)\\n\\n# p_k3_c0 = ci0 * (\\n#     predictedprobablities[2][:, 0] * predictedconfusionmatrix_proba[2][0][0]\\n#     + predictedprobablities[2][:, 1] * predictedconfusionmatrix_proba[2][0][1]\\n# ) + (p_k2_c1 * p_k1_c1)\\n\\n# finalcol = np.zeros((ytest.shape[0], 3))\\n# finalcol[:, 0] = p_k1_c0\\n# finalcol[:, 1] = p_k2_c0\\n# finalcol[:, 2] = p_k3_c0\\n# finalpred = np.argmax(finalcol, axis=1)\\n\\n# ytest = ytest_original.copy()\\n# print(m.accuracy_score(ytest, finalpred))\\n# print(m.confusion_matrix(ytest, finalpred))\";\n",
       "                var nbb_cells = Jupyter.notebook.get_cells();\n",
       "                for (var i = 0; i < nbb_cells.length; ++i) {\n",
       "                    if (nbb_cells[i].input_prompt_number == nbb_cell_id) {\n",
       "                        if (nbb_cells[i].get_text() == nbb_unformatted_code) {\n",
       "                             nbb_cells[i].set_text(nbb_formatted_code);\n",
       "                        }\n",
       "                        break;\n",
       "                    }\n",
       "                }\n",
       "            }, 500);\n",
       "            "
      ],
      "text/plain": [
       "<IPython.core.display.Javascript object>"
      ]
     },
     "metadata": {},
     "output_type": "display_data"
    }
   ],
   "source": [
    "# # pc1_all = []\n",
    "# # pc2_all = []\n",
    "\n",
    "# # for i in range(len(predictedconfusionmatrix_proba)):\n",
    "\n",
    "# #     pc1 = ( predictedprobablities[i][:, 0]    )\n",
    "# #     pc2 = (  predictedprobablities[i][:, 1]    )\n",
    "\n",
    "# #     pc1_all.append(pc1)\n",
    "# #     pc2_all.append(pc2)\n",
    "\n",
    "\n",
    "\n",
    "# ci0 = ci1 = ci2 = 1 \n",
    "\n",
    "# p_k1_c1 = ci0 * (\n",
    "#     predictedprobablities[0][:, 0] * predictedconfusionmatrix_proba[0][1][0]\n",
    "#     + predictedprobablities[0][:, 1] * predictedconfusionmatrix_proba[0][1][1]\n",
    "# )\n",
    "\n",
    "\n",
    "# p_k2_c1 = ci0 * (\n",
    "#     predictedprobablities[1][:, 0] * predictedconfusionmatrix_proba[1][1][0]\n",
    "#     + predictedprobablities[1][:, 1] * predictedconfusionmatrix_proba[1][1][1]\n",
    "# )\n",
    "\n",
    "# p_k3_c1 = ci0 * (\n",
    "#     predictedprobablities[2][:, 0] * predictedconfusionmatrix_proba[2][1][0]\n",
    "#     + predictedprobablities[2][:, 1] * predictedconfusionmatrix_proba[2][1][1]\n",
    "# )\n",
    "\n",
    "\n",
    "# p_k1_c0 = ci0 * (\n",
    "#     predictedprobablities[0][:, 0] * predictedconfusionmatrix_proba[0][0][0]\n",
    "#     + predictedprobablities[0][:, 1] * predictedconfusionmatrix_proba[0][0][1]\n",
    "# ) + (p_k2_c1 * p_k3_c1)\n",
    "\n",
    "\n",
    "# p_k2_c0 = ci0 * (\n",
    "#     predictedprobablities[1][:, 0] * predictedconfusionmatrix_proba[1][0][0]\n",
    "#     + predictedprobablities[1][:, 1] * predictedconfusionmatrix_proba[1][0][1]\n",
    "# ) + (p_k1_c1 * p_k3_c1)\n",
    "\n",
    "# p_k3_c0 = ci0 * (\n",
    "#     predictedprobablities[2][:, 0] * predictedconfusionmatrix_proba[2][0][0]\n",
    "#     + predictedprobablities[2][:, 1] * predictedconfusionmatrix_proba[2][0][1]\n",
    "# ) + (p_k2_c1 * p_k1_c1)\n",
    "\n",
    "# finalcol = np.zeros((ytest.shape[0], 3))\n",
    "# finalcol[:, 0] = p_k1_c0\n",
    "# finalcol[:, 1] = p_k2_c0\n",
    "# finalcol[:, 2] = p_k3_c0\n",
    "# finalpred = np.argmax(finalcol, axis=1)\n",
    "\n",
    "# ytest = ytest_original.copy()\n",
    "# print(m.accuracy_score(ytest, finalpred))\n",
    "# print(m.confusion_matrix(ytest, finalpred))\n"
   ]
  },
  {
   "cell_type": "code",
   "execution_count": 36,
   "metadata": {},
   "outputs": [
    {
     "name": "stdout",
     "output_type": "stream",
     "text": [
      "0\n"
     ]
    },
    {
     "data": {
      "application/javascript": [
       "\n",
       "            setTimeout(function() {\n",
       "                var nbb_cell_id = 36;\n",
       "                var nbb_unformatted_code = \"p_k1_c0 = 0\\np_k1_c1 = 0\\nfor i in range(len(predictedprobablities_c0)):\\n    p_k1_c0 += (\\n        predictedprobablities_c0[i][:, 0] * predictedconfusionmatrix_proba_c0[i][0][0]\\n        + predictedprobablities_c0[i][:, 1] * predictedconfusionmatrix_proba_c0[i][0][1]\\n    )\\n\\n    p_k1_c1 += (\\n        predictedprobablities_c0[0][:, 0] * predictedconfusionmatrix_proba_c0[0][1][0]\\n        + predictedprobablities_c0[0][:, 1] * predictedconfusionmatrix_proba_c0[0][1][1]\\n    )\\n\\n    print(i)\\np_k1_c0 = p_k1_c0 / len(predictedprobablities_c0)\\np_k1_c1 = p_k1_c1 / len(predictedprobablities_c0)\";\n",
       "                var nbb_formatted_code = \"p_k1_c0 = 0\\np_k1_c1 = 0\\nfor i in range(len(predictedprobablities_c0)):\\n    p_k1_c0 += (\\n        predictedprobablities_c0[i][:, 0] * predictedconfusionmatrix_proba_c0[i][0][0]\\n        + predictedprobablities_c0[i][:, 1] * predictedconfusionmatrix_proba_c0[i][0][1]\\n    )\\n\\n    p_k1_c1 += (\\n        predictedprobablities_c0[0][:, 0] * predictedconfusionmatrix_proba_c0[0][1][0]\\n        + predictedprobablities_c0[0][:, 1] * predictedconfusionmatrix_proba_c0[0][1][1]\\n    )\\n\\n    print(i)\\np_k1_c0 = p_k1_c0 / len(predictedprobablities_c0)\\np_k1_c1 = p_k1_c1 / len(predictedprobablities_c0)\";\n",
       "                var nbb_cells = Jupyter.notebook.get_cells();\n",
       "                for (var i = 0; i < nbb_cells.length; ++i) {\n",
       "                    if (nbb_cells[i].input_prompt_number == nbb_cell_id) {\n",
       "                        if (nbb_cells[i].get_text() == nbb_unformatted_code) {\n",
       "                             nbb_cells[i].set_text(nbb_formatted_code);\n",
       "                        }\n",
       "                        break;\n",
       "                    }\n",
       "                }\n",
       "            }, 500);\n",
       "            "
      ],
      "text/plain": [
       "<IPython.core.display.Javascript object>"
      ]
     },
     "metadata": {},
     "output_type": "display_data"
    }
   ],
   "source": [
    "p_k1_c0 = 0\n",
    "p_k1_c1 = 0\n",
    "for i in range(len(predictedprobablities_c0)):\n",
    "    p_k1_c0 += (\n",
    "        predictedprobablities_c0[i][:, 0] * predictedconfusionmatrix_proba_c0[i][0][0]\n",
    "        + predictedprobablities_c0[i][:, 1] * predictedconfusionmatrix_proba_c0[i][0][1]\n",
    "    )\n",
    "\n",
    "    p_k1_c1 += (\n",
    "        predictedprobablities_c0[0][:, 0] * predictedconfusionmatrix_proba_c0[0][1][0]\n",
    "        + predictedprobablities_c0[0][:, 1] * predictedconfusionmatrix_proba_c0[0][1][1]\n",
    "    )\n",
    "\n",
    "    print(i)\n",
    "p_k1_c0 = p_k1_c0 / len(predictedprobablities_c0)\n",
    "p_k1_c1 = p_k1_c1 / len(predictedprobablities_c0)"
   ]
  },
  {
   "cell_type": "code",
   "execution_count": 35,
   "metadata": {},
   "outputs": [
    {
     "name": "stdout",
     "output_type": "stream",
     "text": [
      "0.4126984126984127\n",
      "[[ 0 19]\n",
      " [18 26]]\n"
     ]
    },
    {
     "data": {
      "application/javascript": [
       "\n",
       "            setTimeout(function() {\n",
       "                var nbb_cell_id = 35;\n",
       "                var nbb_unformatted_code = \"ytrain, ytest = swapcolumns(ytrain, ytest, 0)\\n\\nfinalcol = np.zeros((ytest.shape[0], 2))\\nfinalcol[:, 0] = p_k1_c0\\nfinalcol[:, 1] = p_k1_c1\\nfinalpred = np.argmax(finalcol, axis=1)\\nytrain, ytest = swapcolumns(ytrain, ytest, 0)\\n\\nprint(m.accuracy_score(ytest, finalpred))\\nprint(m.confusion_matrix(ytest, finalpred))\";\n",
       "                var nbb_formatted_code = \"ytrain, ytest = swapcolumns(ytrain, ytest, 0)\\n\\nfinalcol = np.zeros((ytest.shape[0], 2))\\nfinalcol[:, 0] = p_k1_c0\\nfinalcol[:, 1] = p_k1_c1\\nfinalpred = np.argmax(finalcol, axis=1)\\nytrain, ytest = swapcolumns(ytrain, ytest, 0)\\n\\nprint(m.accuracy_score(ytest, finalpred))\\nprint(m.confusion_matrix(ytest, finalpred))\";\n",
       "                var nbb_cells = Jupyter.notebook.get_cells();\n",
       "                for (var i = 0; i < nbb_cells.length; ++i) {\n",
       "                    if (nbb_cells[i].input_prompt_number == nbb_cell_id) {\n",
       "                        if (nbb_cells[i].get_text() == nbb_unformatted_code) {\n",
       "                             nbb_cells[i].set_text(nbb_formatted_code);\n",
       "                        }\n",
       "                        break;\n",
       "                    }\n",
       "                }\n",
       "            }, 500);\n",
       "            "
      ],
      "text/plain": [
       "<IPython.core.display.Javascript object>"
      ]
     },
     "metadata": {},
     "output_type": "display_data"
    }
   ],
   "source": [
    "ytrain, ytest = swapcolumns(ytrain, ytest, 0)\n",
    "\n",
    "finalcol = np.zeros((ytest.shape[0], 2))\n",
    "finalcol[:, 0] = p_k1_c0\n",
    "finalcol[:, 1] = p_k1_c1\n",
    "finalpred = np.argmax(finalcol, axis=1)\n",
    "ytrain, ytest = swapcolumns(ytrain, ytest, 0)\n",
    "\n",
    "print(m.accuracy_score(ytest, finalpred))\n",
    "print(m.confusion_matrix(ytest, finalpred))"
   ]
  },
  {
   "cell_type": "code",
   "execution_count": null,
   "metadata": {},
   "outputs": [],
   "source": [
    "ytrain = ytrain_original.copy()\n",
    "ytest = ytest_original.copy()\n",
    "ytrain, ytest = swapcolumns(ytrain, ytest, 0)\n",
    "\n",
    "\n",
    "finalcol = np.zeros((ytest.shape[0], 2))\n",
    "finalcol[:, 0] = p_k1_c0\n",
    "finalcol[:, 1] = p_k1_c1\n",
    "finalpred = np.argmax(predictedprobablities_c0[0], axis=1)\n",
    "\n",
    "ytest = ytest_original.copy()\n",
    "print(m.accuracy_score(ytest, finalpred))\n",
    "print(m.confusion_matrix(ytest, finalpred))"
   ]
  },
  {
   "cell_type": "code",
   "execution_count": 30,
   "metadata": {},
   "outputs": [
    {
     "name": "stdout",
     "output_type": "stream",
     "text": [
      "0\n"
     ]
    },
    {
     "data": {
      "application/javascript": [
       "\n",
       "            setTimeout(function() {\n",
       "                var nbb_cell_id = 30;\n",
       "                var nbb_unformatted_code = \"p_k2_c0 = 0\\np_k2_c1 = 0\\nfor i in range(len(predictedprobablities_c1)):\\n    p_k2_c0 += (\\n        predictedprobablities_c1[i][:, 0] * predictedconfusionmatrix_proba_c1[i][0][0]\\n        + predictedprobablities_c1[i][:, 1] * predictedconfusionmatrix_proba_c1[i][0][1]\\n    )\\n\\n    p_k2_c1 += (\\n        predictedprobablities_c1[i][:, 0] * predictedconfusionmatrix_proba_c1[i][1][0]\\n        + predictedprobablities_c1[i][:, 1] * predictedconfusionmatrix_proba_c1[i][1][1]\\n    )\\n\\n    print(i)\\np_k2_c0 = p_k2_c0 / len(predictedprobablities_c0)\\np_k2_c1 = p_k2_c1 / len(predictedprobablities_c0)\";\n",
       "                var nbb_formatted_code = \"p_k2_c0 = 0\\np_k2_c1 = 0\\nfor i in range(len(predictedprobablities_c1)):\\n    p_k2_c0 += (\\n        predictedprobablities_c1[i][:, 0] * predictedconfusionmatrix_proba_c1[i][0][0]\\n        + predictedprobablities_c1[i][:, 1] * predictedconfusionmatrix_proba_c1[i][0][1]\\n    )\\n\\n    p_k2_c1 += (\\n        predictedprobablities_c1[i][:, 0] * predictedconfusionmatrix_proba_c1[i][1][0]\\n        + predictedprobablities_c1[i][:, 1] * predictedconfusionmatrix_proba_c1[i][1][1]\\n    )\\n\\n    print(i)\\np_k2_c0 = p_k2_c0 / len(predictedprobablities_c0)\\np_k2_c1 = p_k2_c1 / len(predictedprobablities_c0)\";\n",
       "                var nbb_cells = Jupyter.notebook.get_cells();\n",
       "                for (var i = 0; i < nbb_cells.length; ++i) {\n",
       "                    if (nbb_cells[i].input_prompt_number == nbb_cell_id) {\n",
       "                        if (nbb_cells[i].get_text() == nbb_unformatted_code) {\n",
       "                             nbb_cells[i].set_text(nbb_formatted_code);\n",
       "                        }\n",
       "                        break;\n",
       "                    }\n",
       "                }\n",
       "            }, 500);\n",
       "            "
      ],
      "text/plain": [
       "<IPython.core.display.Javascript object>"
      ]
     },
     "metadata": {},
     "output_type": "display_data"
    }
   ],
   "source": [
    "p_k2_c0 = 0\n",
    "p_k2_c1 = 0\n",
    "for i in range(len(predictedprobablities_c1)):\n",
    "    p_k2_c0 += (\n",
    "        predictedprobablities_c1[i][:, 0] * predictedconfusionmatrix_proba_c1[i][0][0]\n",
    "        + predictedprobablities_c1[i][:, 1] * predictedconfusionmatrix_proba_c1[i][0][1]\n",
    "    )\n",
    "\n",
    "    p_k2_c1 += (\n",
    "        predictedprobablities_c1[i][:, 0] * predictedconfusionmatrix_proba_c1[i][1][0]\n",
    "        + predictedprobablities_c1[i][:, 1] * predictedconfusionmatrix_proba_c1[i][1][1]\n",
    "    )\n",
    "\n",
    "    print(i)\n",
    "p_k2_c0 = p_k2_c0 / len(predictedprobablities_c0)\n",
    "p_k2_c1 = p_k2_c1 / len(predictedprobablities_c0)"
   ]
  },
  {
   "cell_type": "code",
   "execution_count": 31,
   "metadata": {},
   "outputs": [
    {
     "name": "stdout",
     "output_type": "stream",
     "text": [
      "0.3333333333333333\n",
      "[[ 0 22]\n",
      " [20 21]]\n"
     ]
    },
    {
     "data": {
      "application/javascript": [
       "\n",
       "            setTimeout(function() {\n",
       "                var nbb_cell_id = 31;\n",
       "                var nbb_unformatted_code = \"ytrain, ytest = swapcolumns(ytrain, ytest, 1)\\n\\nfinalcol = np.zeros((ytest.shape[0], 2))\\nfinalcol[:, 0] = p_k2_c0\\nfinalcol[:, 1] = p_k2_c1\\nfinalpred = np.argmax(finalcol, axis=1)\\nytrain, ytest = swapcolumns(ytrain, ytest, 0)\\n\\nprint(m.accuracy_score(ytest, finalpred))\\nprint(m.confusion_matrix(ytest, finalpred))\";\n",
       "                var nbb_formatted_code = \"ytrain, ytest = swapcolumns(ytrain, ytest, 1)\\n\\nfinalcol = np.zeros((ytest.shape[0], 2))\\nfinalcol[:, 0] = p_k2_c0\\nfinalcol[:, 1] = p_k2_c1\\nfinalpred = np.argmax(finalcol, axis=1)\\nytrain, ytest = swapcolumns(ytrain, ytest, 0)\\n\\nprint(m.accuracy_score(ytest, finalpred))\\nprint(m.confusion_matrix(ytest, finalpred))\";\n",
       "                var nbb_cells = Jupyter.notebook.get_cells();\n",
       "                for (var i = 0; i < nbb_cells.length; ++i) {\n",
       "                    if (nbb_cells[i].input_prompt_number == nbb_cell_id) {\n",
       "                        if (nbb_cells[i].get_text() == nbb_unformatted_code) {\n",
       "                             nbb_cells[i].set_text(nbb_formatted_code);\n",
       "                        }\n",
       "                        break;\n",
       "                    }\n",
       "                }\n",
       "            }, 500);\n",
       "            "
      ],
      "text/plain": [
       "<IPython.core.display.Javascript object>"
      ]
     },
     "metadata": {},
     "output_type": "display_data"
    }
   ],
   "source": [
    "ytrain, ytest = swapcolumns(ytrain, ytest, 1)\n",
    "\n",
    "finalcol = np.zeros((ytest.shape[0], 2))\n",
    "finalcol[:, 0] = p_k2_c0\n",
    "finalcol[:, 1] = p_k2_c1\n",
    "finalpred = np.argmax(finalcol, axis=1)\n",
    "ytrain, ytest = swapcolumns(ytrain, ytest, 0)\n",
    "\n",
    "print(m.accuracy_score(ytest, finalpred))\n",
    "print(m.confusion_matrix(ytest, finalpred))"
   ]
  },
  {
   "cell_type": "code",
   "execution_count": 41,
   "metadata": {},
   "outputs": [
    {
     "name": "stdout",
     "output_type": "stream",
     "text": [
      "0\n"
     ]
    },
    {
     "data": {
      "application/javascript": [
       "\n",
       "            setTimeout(function() {\n",
       "                var nbb_cell_id = 41;\n",
       "                var nbb_unformatted_code = \"p_k3_c0 = 0\\np_k3_c1 = 0\\nfor i in range(len(predictedprobablities_c2)):\\n    p_k3_c0 += (\\n        predictedprobablities_c2[i][:, 0] * predictedconfusionmatrix_proba_c2[i][0][0]\\n        + predictedprobablities_c2[i][:, 1] * predictedconfusionmatrix_proba_c2[i][0][1]\\n    )\\n\\n    p_k3_c1 += (\\n        predictedprobablities_c2[i][:, 0] * predictedconfusionmatrix_proba_c2[i][1][0]\\n        + predictedprobablities_c2[i][:, 1] * predictedconfusionmatrix_proba_c2[i][1][1]\\n    )\\n\\n    print(i)\\np_k3_c0 = p_k3_c0 / len(predictedprobablities_c2)\\np_k3_c1 = p_k3_c1 / len(predictedprobablities_c2)\";\n",
       "                var nbb_formatted_code = \"p_k3_c0 = 0\\np_k3_c1 = 0\\nfor i in range(len(predictedprobablities_c2)):\\n    p_k3_c0 += (\\n        predictedprobablities_c2[i][:, 0] * predictedconfusionmatrix_proba_c2[i][0][0]\\n        + predictedprobablities_c2[i][:, 1] * predictedconfusionmatrix_proba_c2[i][0][1]\\n    )\\n\\n    p_k3_c1 += (\\n        predictedprobablities_c2[i][:, 0] * predictedconfusionmatrix_proba_c2[i][1][0]\\n        + predictedprobablities_c2[i][:, 1] * predictedconfusionmatrix_proba_c2[i][1][1]\\n    )\\n\\n    print(i)\\np_k3_c0 = p_k3_c0 / len(predictedprobablities_c2)\\np_k3_c1 = p_k3_c1 / len(predictedprobablities_c2)\";\n",
       "                var nbb_cells = Jupyter.notebook.get_cells();\n",
       "                for (var i = 0; i < nbb_cells.length; ++i) {\n",
       "                    if (nbb_cells[i].input_prompt_number == nbb_cell_id) {\n",
       "                        if (nbb_cells[i].get_text() == nbb_unformatted_code) {\n",
       "                             nbb_cells[i].set_text(nbb_formatted_code);\n",
       "                        }\n",
       "                        break;\n",
       "                    }\n",
       "                }\n",
       "            }, 500);\n",
       "            "
      ],
      "text/plain": [
       "<IPython.core.display.Javascript object>"
      ]
     },
     "metadata": {},
     "output_type": "display_data"
    }
   ],
   "source": [
    "p_k3_c0 = 0\n",
    "p_k3_c1 = 0\n",
    "for i in range(len(predictedprobablities_c2)):\n",
    "    p_k3_c0 += (\n",
    "        predictedprobablities_c2[i][:, 0] * predictedconfusionmatrix_proba_c2[i][0][0]\n",
    "        + predictedprobablities_c2[i][:, 1] * predictedconfusionmatrix_proba_c2[i][0][1]\n",
    "    )\n",
    "\n",
    "    p_k3_c1 += (\n",
    "        predictedprobablities_c2[i][:, 0] * predictedconfusionmatrix_proba_c2[i][1][0]\n",
    "        + predictedprobablities_c2[i][:, 1] * predictedconfusionmatrix_proba_c2[i][1][1]\n",
    "    )\n",
    "\n",
    "    print(i)\n",
    "p_k3_c0 = p_k3_c0 / len(predictedprobablities_c2)\n",
    "p_k3_c1 = p_k3_c1 / len(predictedprobablities_c2)"
   ]
  },
  {
   "cell_type": "code",
   "execution_count": 42,
   "metadata": {},
   "outputs": [
    {
     "name": "stdout",
     "output_type": "stream",
     "text": [
      "0.6349206349206349\n",
      "[[ 0  0]\n",
      " [23 40]]\n"
     ]
    },
    {
     "data": {
      "application/javascript": [
       "\n",
       "            setTimeout(function() {\n",
       "                var nbb_cell_id = 42;\n",
       "                var nbb_unformatted_code = \"ytrain, ytest = swapcolumns(ytrain, ytest, 2)\\n\\nfinalcol = np.zeros((ytest.shape[0], 2))\\nfinalcol[:, 0] = p_k3_c0\\nfinalcol[:, 1] = p_k3_c1\\nfinalpred = np.argmax(finalcol, axis=1)\\nytrain, ytest = swapcolumns(ytrain, ytest, 0)\\n\\nprint(m.accuracy_score(ytest, finalpred))\\nprint(m.confusion_matrix(ytest, finalpred))\";\n",
       "                var nbb_formatted_code = \"ytrain, ytest = swapcolumns(ytrain, ytest, 2)\\n\\nfinalcol = np.zeros((ytest.shape[0], 2))\\nfinalcol[:, 0] = p_k3_c0\\nfinalcol[:, 1] = p_k3_c1\\nfinalpred = np.argmax(finalcol, axis=1)\\nytrain, ytest = swapcolumns(ytrain, ytest, 0)\\n\\nprint(m.accuracy_score(ytest, finalpred))\\nprint(m.confusion_matrix(ytest, finalpred))\";\n",
       "                var nbb_cells = Jupyter.notebook.get_cells();\n",
       "                for (var i = 0; i < nbb_cells.length; ++i) {\n",
       "                    if (nbb_cells[i].input_prompt_number == nbb_cell_id) {\n",
       "                        if (nbb_cells[i].get_text() == nbb_unformatted_code) {\n",
       "                             nbb_cells[i].set_text(nbb_formatted_code);\n",
       "                        }\n",
       "                        break;\n",
       "                    }\n",
       "                }\n",
       "            }, 500);\n",
       "            "
      ],
      "text/plain": [
       "<IPython.core.display.Javascript object>"
      ]
     },
     "metadata": {},
     "output_type": "display_data"
    }
   ],
   "source": [
    "ytrain, ytest = swapcolumns(ytrain, ytest, 2)\n",
    "\n",
    "finalcol = np.zeros((ytest.shape[0], 2))\n",
    "finalcol[:, 0] = p_k3_c0\n",
    "finalcol[:, 1] = p_k3_c1\n",
    "finalpred = np.argmax(finalcol, axis=1)\n",
    "ytrain, ytest = swapcolumns(ytrain, ytest, 0)\n",
    "\n",
    "print(m.accuracy_score(ytest, finalpred))\n",
    "print(m.confusion_matrix(ytest, finalpred))"
   ]
  },
  {
   "cell_type": "code",
   "execution_count": 24,
   "metadata": {
    "scrolled": true
   },
   "outputs": [
    {
     "data": {
      "application/javascript": [
       "\n",
       "            setTimeout(function() {\n",
       "                var nbb_cell_id = 24;\n",
       "                var nbb_unformatted_code = \"\\n# ci0 = ci1 = ci2 = 1 \\n \\n\\n\\np_k1_c0 = p_k1_c0 #+ (p_k2_c1 * p_k3_c1)\\n\\n\\np_k2_c0 =p_k2_c0 #+ (p_k1_c1 * p_k3_c1)\\n\\np_k3_c0 = p_k3_c0 #+ (p_k2_c1 * p_k1_c1)\";\n",
       "                var nbb_formatted_code = \"# ci0 = ci1 = ci2 = 1\\n\\n\\np_k1_c0 = p_k1_c0  # + (p_k2_c1 * p_k3_c1)\\n\\n\\np_k2_c0 = p_k2_c0  # + (p_k1_c1 * p_k3_c1)\\n\\np_k3_c0 = p_k3_c0  # + (p_k2_c1 * p_k1_c1)\";\n",
       "                var nbb_cells = Jupyter.notebook.get_cells();\n",
       "                for (var i = 0; i < nbb_cells.length; ++i) {\n",
       "                    if (nbb_cells[i].input_prompt_number == nbb_cell_id) {\n",
       "                        if (nbb_cells[i].get_text() == nbb_unformatted_code) {\n",
       "                             nbb_cells[i].set_text(nbb_formatted_code);\n",
       "                        }\n",
       "                        break;\n",
       "                    }\n",
       "                }\n",
       "            }, 500);\n",
       "            "
      ],
      "text/plain": [
       "<IPython.core.display.Javascript object>"
      ]
     },
     "metadata": {},
     "output_type": "display_data"
    }
   ],
   "source": [
    "\n",
    "# ci0 = ci1 = ci2 = 1 \n",
    " \n",
    "\n",
    "\n",
    "p_k1_c0 = p_k1_c0 #+ (p_k2_c1 * p_k3_c1)\n",
    "\n",
    "\n",
    "p_k2_c0 =p_k2_c0 #+ (p_k1_c1 * p_k3_c1)\n",
    "\n",
    "p_k3_c0 = p_k3_c0 #+ (p_k2_c1 * p_k1_c1)\n",
    "\n"
   ]
  },
  {
   "cell_type": "code",
   "execution_count": 25,
   "metadata": {},
   "outputs": [
    {
     "name": "stdout",
     "output_type": "stream",
     "text": [
      "0.7936507936507936\n",
      "[[15  0  7]\n",
      " [ 0 16  6]\n",
      " [ 0  0 19]]\n"
     ]
    },
    {
     "data": {
      "application/javascript": [
       "\n",
       "            setTimeout(function() {\n",
       "                var nbb_cell_id = 25;\n",
       "                var nbb_unformatted_code = \"finalcol = np.zeros((ytest.shape[0], 3))\\nfinalcol[:, 0] = p_k1_c0\\nfinalcol[:, 1] = p_k2_c0\\nfinalcol[:, 2] = p_k3_c0\\nfinalpred = np.argmax(finalcol, axis=1)\\n\\nytest = ytest_original.copy()\\nprint(m.accuracy_score(ytest, finalpred))\\nprint(m.confusion_matrix(ytest, finalpred))\";\n",
       "                var nbb_formatted_code = \"finalcol = np.zeros((ytest.shape[0], 3))\\nfinalcol[:, 0] = p_k1_c0\\nfinalcol[:, 1] = p_k2_c0\\nfinalcol[:, 2] = p_k3_c0\\nfinalpred = np.argmax(finalcol, axis=1)\\n\\nytest = ytest_original.copy()\\nprint(m.accuracy_score(ytest, finalpred))\\nprint(m.confusion_matrix(ytest, finalpred))\";\n",
       "                var nbb_cells = Jupyter.notebook.get_cells();\n",
       "                for (var i = 0; i < nbb_cells.length; ++i) {\n",
       "                    if (nbb_cells[i].input_prompt_number == nbb_cell_id) {\n",
       "                        if (nbb_cells[i].get_text() == nbb_unformatted_code) {\n",
       "                             nbb_cells[i].set_text(nbb_formatted_code);\n",
       "                        }\n",
       "                        break;\n",
       "                    }\n",
       "                }\n",
       "            }, 500);\n",
       "            "
      ],
      "text/plain": [
       "<IPython.core.display.Javascript object>"
      ]
     },
     "metadata": {},
     "output_type": "display_data"
    }
   ],
   "source": [
    "finalcol = np.zeros((ytest.shape[0], 3))\n",
    "finalcol[:, 0] = p_k1_c0\n",
    "finalcol[:, 1] = p_k2_c0\n",
    "finalcol[:, 2] = p_k3_c0\n",
    "finalpred = np.argmax(finalcol, axis=1)\n",
    "\n",
    "ytest = ytest_original.copy()\n",
    "print(m.accuracy_score(ytest, finalpred))\n",
    "print(m.confusion_matrix(ytest, finalpred))"
   ]
  },
  {
   "cell_type": "code",
   "execution_count": 23,
   "metadata": {},
   "outputs": [
    {
     "name": "stdout",
     "output_type": "stream",
     "text": [
      "0.36507936507936506\n",
      "[[ 4  0 18]\n",
      " [ 0  0 22]\n",
      " [ 0  0 19]]\n"
     ]
    },
    {
     "data": {
      "application/javascript": [
       "\n",
       "            setTimeout(function() {\n",
       "                var nbb_cell_id = 23;\n",
       "                var nbb_unformatted_code = \"\\nfinalcol = np.zeros((ytest.shape[0], 3))\\nfinalcol[:, 0] = p_k1_c1\\nfinalcol[:, 1] = p_k2_c1\\nfinalcol[:, 2] = p_k3_c1\\nfinalpred = np.argmin(finalcol, axis=1)\\n\\nytest = ytest_original.copy()\\nprint(m.accuracy_score(ytest, finalpred))\\nprint(m.confusion_matrix(ytest, finalpred))\";\n",
       "                var nbb_formatted_code = \"finalcol = np.zeros((ytest.shape[0], 3))\\nfinalcol[:, 0] = p_k1_c1\\nfinalcol[:, 1] = p_k2_c1\\nfinalcol[:, 2] = p_k3_c1\\nfinalpred = np.argmin(finalcol, axis=1)\\n\\nytest = ytest_original.copy()\\nprint(m.accuracy_score(ytest, finalpred))\\nprint(m.confusion_matrix(ytest, finalpred))\";\n",
       "                var nbb_cells = Jupyter.notebook.get_cells();\n",
       "                for (var i = 0; i < nbb_cells.length; ++i) {\n",
       "                    if (nbb_cells[i].input_prompt_number == nbb_cell_id) {\n",
       "                        if (nbb_cells[i].get_text() == nbb_unformatted_code) {\n",
       "                             nbb_cells[i].set_text(nbb_formatted_code);\n",
       "                        }\n",
       "                        break;\n",
       "                    }\n",
       "                }\n",
       "            }, 500);\n",
       "            "
      ],
      "text/plain": [
       "<IPython.core.display.Javascript object>"
      ]
     },
     "metadata": {},
     "output_type": "display_data"
    }
   ],
   "source": [
    "\n",
    "finalcol = np.zeros((ytest.shape[0], 3))\n",
    "finalcol[:, 0] = p_k1_c1\n",
    "finalcol[:, 1] = p_k2_c1\n",
    "finalcol[:, 2] = p_k3_c1\n",
    "finalpred = np.argmin(finalcol, axis=1)\n",
    "\n",
    "ytest = ytest_original.copy()\n",
    "print(m.accuracy_score(ytest, finalpred))\n",
    "print(m.confusion_matrix(ytest, finalpred))\n"
   ]
  },
  {
   "cell_type": "code",
   "execution_count": null,
   "metadata": {},
   "outputs": [],
   "source": []
  },
  {
   "cell_type": "code",
   "execution_count": null,
   "metadata": {},
   "outputs": [],
   "source": []
  }
 ],
 "metadata": {
  "kernelspec": {
   "display_name": "Python 3",
   "language": "python",
   "name": "python3"
  },
  "language_info": {
   "codemirror_mode": {
    "name": "ipython",
    "version": 3
   },
   "file_extension": ".py",
   "mimetype": "text/x-python",
   "name": "python",
   "nbconvert_exporter": "python",
   "pygments_lexer": "ipython3",
   "version": "3.7.3"
  }
 },
 "nbformat": 4,
 "nbformat_minor": 2
}
