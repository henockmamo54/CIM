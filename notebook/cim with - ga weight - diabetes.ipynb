{
 "cells": [
  {
   "cell_type": "code",
   "execution_count": 1,
   "metadata": {},
   "outputs": [
    {
     "data": {
      "application/javascript": [
       "\n",
       "            setTimeout(function() {\n",
       "                var nbb_cell_id = 1;\n",
       "                var nbb_unformatted_code = \"%load_ext nb_black\";\n",
       "                var nbb_formatted_code = \"%load_ext nb_black\";\n",
       "                var nbb_cells = Jupyter.notebook.get_cells();\n",
       "                for (var i = 0; i < nbb_cells.length; ++i) {\n",
       "                    if (nbb_cells[i].input_prompt_number == nbb_cell_id) {\n",
       "                        if (nbb_cells[i].get_text() == nbb_unformatted_code) {\n",
       "                             nbb_cells[i].set_text(nbb_formatted_code);\n",
       "                        }\n",
       "                        break;\n",
       "                    }\n",
       "                }\n",
       "            }, 500);\n",
       "            "
      ],
      "text/plain": [
       "<IPython.core.display.Javascript object>"
      ]
     },
     "metadata": {},
     "output_type": "display_data"
    }
   ],
   "source": [
    "%load_ext nb_black"
   ]
  },
  {
   "cell_type": "code",
   "execution_count": 2,
   "metadata": {},
   "outputs": [
    {
     "data": {
      "application/javascript": [
       "\n",
       "            setTimeout(function() {\n",
       "                var nbb_cell_id = 2;\n",
       "                var nbb_unformatted_code = \"import numpy as np\\nfrom sklearn import datasets\\nfrom sklearn.model_selection import train_test_split\\nfrom sklearn.ensemble import RandomForestClassifier\\nfrom sklearn.svm import SVC\\nimport xgboost as xgb\\nfrom sklearn import metrics as m\\nfrom thundersvm import SVC as svmgpu\\nimport calculateWeightUsingGa2 as aresult\\nimport pandas as pd\\nimport itertools\\nimport random\\n\\nrandomseed = 42\\nnp.random.seed(randomseed)\";\n",
       "                var nbb_formatted_code = \"import numpy as np\\nfrom sklearn import datasets\\nfrom sklearn.model_selection import train_test_split\\nfrom sklearn.ensemble import RandomForestClassifier\\nfrom sklearn.svm import SVC\\nimport xgboost as xgb\\nfrom sklearn import metrics as m\\nfrom thundersvm import SVC as svmgpu\\nimport calculateWeightUsingGa2 as aresult\\nimport pandas as pd\\nimport itertools\\nimport random\\n\\nrandomseed = 42\\nnp.random.seed(randomseed)\";\n",
       "                var nbb_cells = Jupyter.notebook.get_cells();\n",
       "                for (var i = 0; i < nbb_cells.length; ++i) {\n",
       "                    if (nbb_cells[i].input_prompt_number == nbb_cell_id) {\n",
       "                        if (nbb_cells[i].get_text() == nbb_unformatted_code) {\n",
       "                             nbb_cells[i].set_text(nbb_formatted_code);\n",
       "                        }\n",
       "                        break;\n",
       "                    }\n",
       "                }\n",
       "            }, 500);\n",
       "            "
      ],
      "text/plain": [
       "<IPython.core.display.Javascript object>"
      ]
     },
     "metadata": {},
     "output_type": "display_data"
    }
   ],
   "source": [
    "import numpy as np\n",
    "from sklearn import datasets\n",
    "from sklearn.model_selection import train_test_split\n",
    "from sklearn.ensemble import RandomForestClassifier\n",
    "from sklearn.svm import SVC\n",
    "import xgboost as xgb\n",
    "from sklearn import metrics as m\n",
    "from thundersvm import SVC as svmgpu\n",
    "import calculateWeightUsingGa2 as aresult\n",
    "import pandas as pd\n",
    "import itertools\n",
    "import random\n",
    "\n",
    "randomseed = 42\n",
    "np.random.seed(randomseed)"
   ]
  },
  {
   "cell_type": "code",
   "execution_count": 3,
   "metadata": {},
   "outputs": [
    {
     "name": "stdout",
     "output_type": "stream",
     "text": [
      "original score 0.6863966818349385\n"
     ]
    },
    {
     "data": {
      "application/javascript": [
       "\n",
       "            setTimeout(function() {\n",
       "                var nbb_cell_id = 3;\n",
       "                var nbb_unformatted_code = \"xtest = np.array(pd.read_csv(\\\"../dataset/xtest.txt\\\"))\\nxtrain = np.array(pd.read_csv(\\\"../dataset/xtrain.txt\\\"))\\nytest_original = np.array(pd.read_csv(\\\"../dataset/ytest.txt\\\")).ravel()\\nytrain_original = np.array(pd.read_csv(\\\"../dataset/ytrain.txt\\\")).ravel()\\n\\nytrain = ytrain_original.copy()\\nytest = ytest_original.copy()\\n\\n\\nclf = []\\nacc = []\\nfinalacc = []\\nypredproba_all = []\\nypredconfprob_all = []\\n\\nrf = RandomForestClassifier(random_state=randomseed, n_estimators=10)\\nrf.fit(xtrain, ytrain)\\nprint(\\\"original score\\\", m.f1_score(ytest, rf.predict(xtest), average=\\\"weighted\\\"))\";\n",
       "                var nbb_formatted_code = \"xtest = np.array(pd.read_csv(\\\"../dataset/xtest.txt\\\"))\\nxtrain = np.array(pd.read_csv(\\\"../dataset/xtrain.txt\\\"))\\nytest_original = np.array(pd.read_csv(\\\"../dataset/ytest.txt\\\")).ravel()\\nytrain_original = np.array(pd.read_csv(\\\"../dataset/ytrain.txt\\\")).ravel()\\n\\nytrain = ytrain_original.copy()\\nytest = ytest_original.copy()\\n\\n\\nclf = []\\nacc = []\\nfinalacc = []\\nypredproba_all = []\\nypredconfprob_all = []\\n\\nrf = RandomForestClassifier(random_state=randomseed, n_estimators=10)\\nrf.fit(xtrain, ytrain)\\nprint(\\\"original score\\\", m.f1_score(ytest, rf.predict(xtest), average=\\\"weighted\\\"))\";\n",
       "                var nbb_cells = Jupyter.notebook.get_cells();\n",
       "                for (var i = 0; i < nbb_cells.length; ++i) {\n",
       "                    if (nbb_cells[i].input_prompt_number == nbb_cell_id) {\n",
       "                        if (nbb_cells[i].get_text() == nbb_unformatted_code) {\n",
       "                             nbb_cells[i].set_text(nbb_formatted_code);\n",
       "                        }\n",
       "                        break;\n",
       "                    }\n",
       "                }\n",
       "            }, 500);\n",
       "            "
      ],
      "text/plain": [
       "<IPython.core.display.Javascript object>"
      ]
     },
     "metadata": {},
     "output_type": "display_data"
    }
   ],
   "source": [
    "xtest = np.array(pd.read_csv(\"../dataset/xtest.txt\"))\n",
    "xtrain = np.array(pd.read_csv(\"../dataset/xtrain.txt\"))\n",
    "ytest_original = np.array(pd.read_csv(\"../dataset/ytest.txt\")).ravel()\n",
    "ytrain_original = np.array(pd.read_csv(\"../dataset/ytrain.txt\")).ravel()\n",
    "\n",
    "ytrain = ytrain_original.copy()\n",
    "ytest = ytest_original.copy()\n",
    "\n",
    "\n",
    "clf = []\n",
    "acc = []\n",
    "finalacc = []\n",
    "ypredproba_all = []\n",
    "ypredconfprob_all = []\n",
    "\n",
    "rf = RandomForestClassifier(random_state=randomseed, n_estimators=10)\n",
    "rf.fit(xtrain, ytrain)\n",
    "print(\"original score\", m.f1_score(ytest, rf.predict(xtest), average=\"weighted\"))"
   ]
  },
  {
   "cell_type": "code",
   "execution_count": 4,
   "metadata": {},
   "outputs": [
    {
     "name": "stdout",
     "output_type": "stream",
     "text": [
      "0.6863966818349385\n"
     ]
    },
    {
     "data": {
      "application/javascript": [
       "\n",
       "            setTimeout(function() {\n",
       "                var nbb_cell_id = 4;\n",
       "                var nbb_unformatted_code = \"# =================================================\\n# RF ===========================\\n# =================================================\\nrf = RandomForestClassifier(random_state=randomseed, n_estimators=10)\\nrf.fit(xtrain, ytrain)\\nrfpred = rf.predict(xtest)\\nprint(m.f1_score(ytest, rfpred, average=\\\"weighted\\\"))\\n\\nclf.append(rf)\\nacc.append(m.f1_score(ytest, rfpred, average=\\\"weighted\\\"))\\nypredproba_all.append(rf.predict_proba(xtest))\\n\\nconfmat = m.confusion_matrix(ytest, rfpred)\\nconfsumh = np.sum(confmat, axis=1)\\npropconfmat = confmat.copy()\\nfor i in range(propconfmat.shape[0]):\\n    propconfmat[i] = 100 * propconfmat[i] / confsumh[i]\\nypredconfprob_all.append(propconfmat / 100)\";\n",
       "                var nbb_formatted_code = \"# =================================================\\n# RF ===========================\\n# =================================================\\nrf = RandomForestClassifier(random_state=randomseed, n_estimators=10)\\nrf.fit(xtrain, ytrain)\\nrfpred = rf.predict(xtest)\\nprint(m.f1_score(ytest, rfpred, average=\\\"weighted\\\"))\\n\\nclf.append(rf)\\nacc.append(m.f1_score(ytest, rfpred, average=\\\"weighted\\\"))\\nypredproba_all.append(rf.predict_proba(xtest))\\n\\nconfmat = m.confusion_matrix(ytest, rfpred)\\nconfsumh = np.sum(confmat, axis=1)\\npropconfmat = confmat.copy()\\nfor i in range(propconfmat.shape[0]):\\n    propconfmat[i] = 100 * propconfmat[i] / confsumh[i]\\nypredconfprob_all.append(propconfmat / 100)\";\n",
       "                var nbb_cells = Jupyter.notebook.get_cells();\n",
       "                for (var i = 0; i < nbb_cells.length; ++i) {\n",
       "                    if (nbb_cells[i].input_prompt_number == nbb_cell_id) {\n",
       "                        if (nbb_cells[i].get_text() == nbb_unformatted_code) {\n",
       "                             nbb_cells[i].set_text(nbb_formatted_code);\n",
       "                        }\n",
       "                        break;\n",
       "                    }\n",
       "                }\n",
       "            }, 500);\n",
       "            "
      ],
      "text/plain": [
       "<IPython.core.display.Javascript object>"
      ]
     },
     "metadata": {},
     "output_type": "display_data"
    }
   ],
   "source": [
    "# =================================================\n",
    "# RF ===========================\n",
    "# =================================================\n",
    "rf = RandomForestClassifier(random_state=randomseed, n_estimators=10)\n",
    "rf.fit(xtrain, ytrain)\n",
    "rfpred = rf.predict(xtest)\n",
    "print(m.f1_score(ytest, rfpred, average=\"weighted\"))\n",
    "\n",
    "clf.append(rf)\n",
    "acc.append(m.f1_score(ytest, rfpred, average=\"weighted\"))\n",
    "ypredproba_all.append(rf.predict_proba(xtest))\n",
    "\n",
    "confmat = m.confusion_matrix(ytest, rfpred)\n",
    "confsumh = np.sum(confmat, axis=1)\n",
    "propconfmat = confmat.copy()\n",
    "for i in range(propconfmat.shape[0]):\n",
    "    propconfmat[i] = 100 * propconfmat[i] / confsumh[i]\n",
    "ypredconfprob_all.append(propconfmat / 100)"
   ]
  },
  {
   "cell_type": "code",
   "execution_count": 5,
   "metadata": {},
   "outputs": [
    {
     "name": "stdout",
     "output_type": "stream",
     "text": [
      "0.6852023910211884\n"
     ]
    },
    {
     "data": {
      "application/javascript": [
       "\n",
       "            setTimeout(function() {\n",
       "                var nbb_cell_id = 5;\n",
       "                var nbb_unformatted_code = \"# =================================================\\n# svc ===========================\\n# =================================================\\n\\nsvc = svmgpu(random_state=randomseed, probability=True, C=100, gamma=0.0001)\\nsvc.fit(xtrain, ytrain)\\n\\nsvcpred = svc.predict(xtest)\\nprint(m.f1_score(ytest, svcpred, average=\\\"weighted\\\"))\\n\\nclf.append(svc)\\nacc.append(m.f1_score(ytest, svcpred, average=\\\"weighted\\\"))\\nypredproba_all.append(svc.predict_proba(xtest))\\n\\nconfmat = m.confusion_matrix(ytest, svcpred)\\nconfsumh = np.sum(confmat, axis=1)\\npropconfmat = confmat.copy()\\nfor i in range(propconfmat.shape[0]):\\n    propconfmat[i] = 100 * propconfmat[i] / confsumh[i]\\nypredconfprob_all.append(propconfmat / 100)\";\n",
       "                var nbb_formatted_code = \"# =================================================\\n# svc ===========================\\n# =================================================\\n\\nsvc = svmgpu(random_state=randomseed, probability=True, C=100, gamma=0.0001)\\nsvc.fit(xtrain, ytrain)\\n\\nsvcpred = svc.predict(xtest)\\nprint(m.f1_score(ytest, svcpred, average=\\\"weighted\\\"))\\n\\nclf.append(svc)\\nacc.append(m.f1_score(ytest, svcpred, average=\\\"weighted\\\"))\\nypredproba_all.append(svc.predict_proba(xtest))\\n\\nconfmat = m.confusion_matrix(ytest, svcpred)\\nconfsumh = np.sum(confmat, axis=1)\\npropconfmat = confmat.copy()\\nfor i in range(propconfmat.shape[0]):\\n    propconfmat[i] = 100 * propconfmat[i] / confsumh[i]\\nypredconfprob_all.append(propconfmat / 100)\";\n",
       "                var nbb_cells = Jupyter.notebook.get_cells();\n",
       "                for (var i = 0; i < nbb_cells.length; ++i) {\n",
       "                    if (nbb_cells[i].input_prompt_number == nbb_cell_id) {\n",
       "                        if (nbb_cells[i].get_text() == nbb_unformatted_code) {\n",
       "                             nbb_cells[i].set_text(nbb_formatted_code);\n",
       "                        }\n",
       "                        break;\n",
       "                    }\n",
       "                }\n",
       "            }, 500);\n",
       "            "
      ],
      "text/plain": [
       "<IPython.core.display.Javascript object>"
      ]
     },
     "metadata": {},
     "output_type": "display_data"
    }
   ],
   "source": [
    "# =================================================\n",
    "# svc ===========================\n",
    "# =================================================\n",
    "\n",
    "svc = svmgpu(random_state=randomseed, probability=True, C=100, gamma=0.0001)\n",
    "svc.fit(xtrain, ytrain)\n",
    "\n",
    "svcpred = svc.predict(xtest)\n",
    "print(m.f1_score(ytest, svcpred, average=\"weighted\"))\n",
    "\n",
    "clf.append(svc)\n",
    "acc.append(m.f1_score(ytest, svcpred, average=\"weighted\"))\n",
    "ypredproba_all.append(svc.predict_proba(xtest))\n",
    "\n",
    "confmat = m.confusion_matrix(ytest, svcpred)\n",
    "confsumh = np.sum(confmat, axis=1)\n",
    "propconfmat = confmat.copy()\n",
    "for i in range(propconfmat.shape[0]):\n",
    "    propconfmat[i] = 100 * propconfmat[i] / confsumh[i]\n",
    "ypredconfprob_all.append(propconfmat / 100)"
   ]
  },
  {
   "cell_type": "code",
   "execution_count": 6,
   "metadata": {},
   "outputs": [
    {
     "name": "stdout",
     "output_type": "stream",
     "text": [
      "0.7335016228212894\n"
     ]
    },
    {
     "data": {
      "application/javascript": [
       "\n",
       "            setTimeout(function() {\n",
       "                var nbb_cell_id = 6;\n",
       "                var nbb_unformatted_code = \"# =================================================\\n# xgb ===========================\\n# =================================================\\n\\nxgbc = xgb.XGBClassifier(random_state=randomseed, n_estimators=100)\\nxgbc.fit(xtrain, ytrain)\\n\\nxgbpred = xgbc.predict(xtest)\\nprint(m.f1_score(ytest, xgbpred, average=\\\"weighted\\\"))\\n\\n\\nclf.append(xgbc)\\nacc.append(m.f1_score(ytest, xgbpred, average=\\\"weighted\\\"))\\nypredproba_all.append(xgbc.predict_proba(xtest))\\n\\nconfmat = m.confusion_matrix(ytest, xgbpred)\\nconfsumh = np.sum(confmat, axis=1)\\npropconfmat = confmat.copy()\\nfor i in range(propconfmat.shape[0]):\\n    propconfmat[i] = 100 * propconfmat[i] / confsumh[i]\\nypredconfprob_all.append(propconfmat / 100)\";\n",
       "                var nbb_formatted_code = \"# =================================================\\n# xgb ===========================\\n# =================================================\\n\\nxgbc = xgb.XGBClassifier(random_state=randomseed, n_estimators=100)\\nxgbc.fit(xtrain, ytrain)\\n\\nxgbpred = xgbc.predict(xtest)\\nprint(m.f1_score(ytest, xgbpred, average=\\\"weighted\\\"))\\n\\n\\nclf.append(xgbc)\\nacc.append(m.f1_score(ytest, xgbpred, average=\\\"weighted\\\"))\\nypredproba_all.append(xgbc.predict_proba(xtest))\\n\\nconfmat = m.confusion_matrix(ytest, xgbpred)\\nconfsumh = np.sum(confmat, axis=1)\\npropconfmat = confmat.copy()\\nfor i in range(propconfmat.shape[0]):\\n    propconfmat[i] = 100 * propconfmat[i] / confsumh[i]\\nypredconfprob_all.append(propconfmat / 100)\";\n",
       "                var nbb_cells = Jupyter.notebook.get_cells();\n",
       "                for (var i = 0; i < nbb_cells.length; ++i) {\n",
       "                    if (nbb_cells[i].input_prompt_number == nbb_cell_id) {\n",
       "                        if (nbb_cells[i].get_text() == nbb_unformatted_code) {\n",
       "                             nbb_cells[i].set_text(nbb_formatted_code);\n",
       "                        }\n",
       "                        break;\n",
       "                    }\n",
       "                }\n",
       "            }, 500);\n",
       "            "
      ],
      "text/plain": [
       "<IPython.core.display.Javascript object>"
      ]
     },
     "metadata": {},
     "output_type": "display_data"
    }
   ],
   "source": [
    "# =================================================\n",
    "# xgb ===========================\n",
    "# =================================================\n",
    "\n",
    "xgbc = xgb.XGBClassifier(random_state=randomseed, n_estimators=100)\n",
    "xgbc.fit(xtrain, ytrain)\n",
    "\n",
    "xgbpred = xgbc.predict(xtest)\n",
    "print(m.f1_score(ytest, xgbpred, average=\"weighted\"))\n",
    "\n",
    "\n",
    "clf.append(xgbc)\n",
    "acc.append(m.f1_score(ytest, xgbpred, average=\"weighted\"))\n",
    "ypredproba_all.append(xgbc.predict_proba(xtest))\n",
    "\n",
    "confmat = m.confusion_matrix(ytest, xgbpred)\n",
    "confsumh = np.sum(confmat, axis=1)\n",
    "propconfmat = confmat.copy()\n",
    "for i in range(propconfmat.shape[0]):\n",
    "    propconfmat[i] = 100 * propconfmat[i] / confsumh[i]\n",
    "ypredconfprob_all.append(propconfmat / 100)"
   ]
  },
  {
   "cell_type": "code",
   "execution_count": 7,
   "metadata": {},
   "outputs": [
    {
     "name": "stdout",
     "output_type": "stream",
     "text": [
      "[306, 620, 552, 785, 261, 184, 529, 122, 309, 464]\n",
      "0  ====================  [ 0  2  3  5  9 10 11]\n",
      "0.6571913065491298\n",
      "0.7351489555824932\n",
      "1  ====================  [ 1  3  4  7  8 10 11]\n",
      "0.6501636372412671\n",
      "0.7351489555824932\n",
      "2  ====================  [1 2 4 6 7 8 9]\n",
      "0.6480557637235402\n",
      "0.7351489555824932\n",
      "3  ====================  [ 4  5  6  7  8  9 11]\n",
      "0.3780963395414345\n",
      "0.7351489555824932\n",
      "4  ====================  [0 2 3 4 5 8 9]\n",
      "0.6688360698977405\n",
      "0.7351489555824932\n",
      "5  ====================  [ 0  1  3  6  7  9 10]\n",
      "0.6898691702007088\n",
      "0.7351489555824932\n",
      "6  ====================  [ 1  2  3  7  8 10 11]\n",
      "0.6611299432792372\n",
      "0.7351489555824932\n",
      "7  ====================  [ 0  1  2  7  8  9 11]\n",
      "0.706300817378268\n",
      "0.7351489555824932\n",
      "8  ====================  [ 0  2  3  6  7  8 11]\n",
      "0.6857839273015596\n",
      "0.7351489555824932\n",
      "9  ====================  [1 2 3 4 5 6 9]\n",
      "0.6272143586082548\n",
      "0.7351489555824932\n"
     ]
    },
    {
     "data": {
      "application/javascript": [
       "\n",
       "            setTimeout(function() {\n",
       "                var nbb_cell_id = 7;\n",
       "                var nbb_unformatted_code = \"# generate combinations of features 12,6\\ncomb = list(itertools.combinations(np.arange(0, 12, 1), 7))\\n\\n# generate 50 random numbers\\nrandnums = []\\nfor i in range(10):\\n    randnums.append(random.randrange(0, len(comb)))\\n\\nprint(randnums)\\n\\ncomb = np.array(comb)[randnums, :]\\n\\n\\nfor i in range(len(comb)):\\n    print(i, \\\" ==================== \\\", comb[i])\\n\\n    rf = RandomForestClassifier(random_state=randomseed, n_estimators=50)\\n    rf.fit(xtrain[:, comb[i]], ytrain)\\n    rfpred = rf.predict(xtest[:, comb[i]])\\n    print(m.f1_score(ytest, rfpred,average='weighted'))\\n\\n    clf.append(rf)\\n    acc.append(m.f1_score(ytest, rfpred,average='weighted'))\\n    ypredproba_all.append(rf.predict_proba(xtest[:, comb[i]]))\\n\\n    confmat = m.confusion_matrix(ytest, rfpred)\\n    confsumh = np.sum(confmat, axis=0)\\n    propconfmat = confmat.copy()\\n    for i in range(propconfmat.shape[0]):\\n        propconfmat[:, i] = 100 * propconfmat[:, i] / confsumh[i]\\n    ypredconfprob_all.append(propconfmat / 100)\\n\\n    xgbmodel = xgb.XGBClassifier(random_state=randomseed, n_estimators=50)\\n    xgbmodel.fit(xtrain, ytrain)\\n    xgbmodelpred = xgbmodel.predict(xtest)\\n    print(m.f1_score(ytest, xgbmodelpred,average='weighted'))\\n\\n    clf.append(xgbmodel)\\n    acc.append(m.f1_score(ytest, xgbmodelpred,average='weighted'))\\n    ypredproba_all.append(xgbmodel.predict_proba(xtest))\\n\\n    confmat = m.confusion_matrix(ytest, xgbmodelpred)\\n    confsumh = np.sum(confmat, axis=0)\\n    propconfmat = confmat.copy()\\n    for i in range(propconfmat.shape[0]):\\n        propconfmat[:, i] = 100 * propconfmat[:, i] / confsumh[i]\\n    ypredconfprob_all.append(propconfmat / 100)\";\n",
       "                var nbb_formatted_code = \"# generate combinations of features 12,6\\ncomb = list(itertools.combinations(np.arange(0, 12, 1), 7))\\n\\n# generate 50 random numbers\\nrandnums = []\\nfor i in range(10):\\n    randnums.append(random.randrange(0, len(comb)))\\n\\nprint(randnums)\\n\\ncomb = np.array(comb)[randnums, :]\\n\\n\\nfor i in range(len(comb)):\\n    print(i, \\\" ==================== \\\", comb[i])\\n\\n    rf = RandomForestClassifier(random_state=randomseed, n_estimators=50)\\n    rf.fit(xtrain[:, comb[i]], ytrain)\\n    rfpred = rf.predict(xtest[:, comb[i]])\\n    print(m.f1_score(ytest, rfpred, average=\\\"weighted\\\"))\\n\\n    clf.append(rf)\\n    acc.append(m.f1_score(ytest, rfpred, average=\\\"weighted\\\"))\\n    ypredproba_all.append(rf.predict_proba(xtest[:, comb[i]]))\\n\\n    confmat = m.confusion_matrix(ytest, rfpred)\\n    confsumh = np.sum(confmat, axis=0)\\n    propconfmat = confmat.copy()\\n    for i in range(propconfmat.shape[0]):\\n        propconfmat[:, i] = 100 * propconfmat[:, i] / confsumh[i]\\n    ypredconfprob_all.append(propconfmat / 100)\\n\\n    xgbmodel = xgb.XGBClassifier(random_state=randomseed, n_estimators=50)\\n    xgbmodel.fit(xtrain, ytrain)\\n    xgbmodelpred = xgbmodel.predict(xtest)\\n    print(m.f1_score(ytest, xgbmodelpred, average=\\\"weighted\\\"))\\n\\n    clf.append(xgbmodel)\\n    acc.append(m.f1_score(ytest, xgbmodelpred, average=\\\"weighted\\\"))\\n    ypredproba_all.append(xgbmodel.predict_proba(xtest))\\n\\n    confmat = m.confusion_matrix(ytest, xgbmodelpred)\\n    confsumh = np.sum(confmat, axis=0)\\n    propconfmat = confmat.copy()\\n    for i in range(propconfmat.shape[0]):\\n        propconfmat[:, i] = 100 * propconfmat[:, i] / confsumh[i]\\n    ypredconfprob_all.append(propconfmat / 100)\";\n",
       "                var nbb_cells = Jupyter.notebook.get_cells();\n",
       "                for (var i = 0; i < nbb_cells.length; ++i) {\n",
       "                    if (nbb_cells[i].input_prompt_number == nbb_cell_id) {\n",
       "                        if (nbb_cells[i].get_text() == nbb_unformatted_code) {\n",
       "                             nbb_cells[i].set_text(nbb_formatted_code);\n",
       "                        }\n",
       "                        break;\n",
       "                    }\n",
       "                }\n",
       "            }, 500);\n",
       "            "
      ],
      "text/plain": [
       "<IPython.core.display.Javascript object>"
      ]
     },
     "metadata": {},
     "output_type": "display_data"
    }
   ],
   "source": [
    "# generate combinations of features 12,6\n",
    "comb = list(itertools.combinations(np.arange(0, 12, 1), 7))\n",
    "\n",
    "# generate 50 random numbers\n",
    "randnums = []\n",
    "for i in range(10):\n",
    "    randnums.append(random.randrange(0, len(comb)))\n",
    "\n",
    "print(randnums)\n",
    "\n",
    "comb = np.array(comb)[randnums, :]\n",
    "\n",
    "\n",
    "for i in range(len(comb)):\n",
    "    print(i, \" ==================== \", comb[i])\n",
    "\n",
    "    rf = RandomForestClassifier(random_state=randomseed, n_estimators=50)\n",
    "    rf.fit(xtrain[:, comb[i]], ytrain)\n",
    "    rfpred = rf.predict(xtest[:, comb[i]])\n",
    "    print(m.f1_score(ytest, rfpred,average='weighted'))\n",
    "\n",
    "    clf.append(rf)\n",
    "    acc.append(m.f1_score(ytest, rfpred,average='weighted'))\n",
    "    ypredproba_all.append(rf.predict_proba(xtest[:, comb[i]]))\n",
    "\n",
    "    confmat = m.confusion_matrix(ytest, rfpred)\n",
    "    confsumh = np.sum(confmat, axis=0)\n",
    "    propconfmat = confmat.copy()\n",
    "    for i in range(propconfmat.shape[0]):\n",
    "        propconfmat[:, i] = 100 * propconfmat[:, i] / confsumh[i]\n",
    "    ypredconfprob_all.append(propconfmat / 100)\n",
    "\n",
    "    xgbmodel = xgb.XGBClassifier(random_state=randomseed, n_estimators=50)\n",
    "    xgbmodel.fit(xtrain, ytrain)\n",
    "    xgbmodelpred = xgbmodel.predict(xtest)\n",
    "    print(m.f1_score(ytest, xgbmodelpred,average='weighted'))\n",
    "\n",
    "    clf.append(xgbmodel)\n",
    "    acc.append(m.f1_score(ytest, xgbmodelpred,average='weighted'))\n",
    "    ypredproba_all.append(xgbmodel.predict_proba(xtest))\n",
    "\n",
    "    confmat = m.confusion_matrix(ytest, xgbmodelpred)\n",
    "    confsumh = np.sum(confmat, axis=0)\n",
    "    propconfmat = confmat.copy()\n",
    "    for i in range(propconfmat.shape[0]):\n",
    "        propconfmat[:, i] = 100 * propconfmat[:, i] / confsumh[i]\n",
    "    ypredconfprob_all.append(propconfmat / 100)\n"
   ]
  },
  {
   "cell_type": "code",
   "execution_count": 8,
   "metadata": {},
   "outputs": [
    {
     "name": "stdout",
     "output_type": "stream",
     "text": [
      "0\n",
      "1\n",
      "2\n",
      "3\n",
      "4\n",
      "11.616855021717939 [0.68472474 0.62209948 0.889393   0.45361289 0.9041462  0.35790937\n",
      " 0.93188797 0.32905075 0.95030558 0.25995697 0.95393722 0.51927589\n",
      " 0.96036004 0.77051348 0.97030615 0.47728554 0.97455038 0.86423199\n",
      " 0.9832436  0.65224788 0.99046028 0.31951158 0.99998143]\n",
      "f1_score 0.7365099952049899\n",
      "accuracy_score 0.735\n"
     ]
    },
    {
     "data": {
      "application/javascript": [
       "\n",
       "            setTimeout(function() {\n",
       "                var nbb_cell_id = 8;\n",
       "                var nbb_unformatted_code = \"import calculateWeightUsingGa2 as aresult\\nweightvalga=aresult.getbestvalues(acc)\\n\\nfinalval=0\\nfor i in range(len(acc)):\\n    finalval += weightvalga[i]*ypredproba_all[i]\\n\\nprint('f1_score',m.f1_score(ytest,np.argmax(finalval,axis=1),average='weighted'))\\nprint('accuracy_score',m.accuracy_score(ytest,np.argmax(finalval,axis=1)))\\n    \";\n",
       "                var nbb_formatted_code = \"import calculateWeightUsingGa2 as aresult\\n\\nweightvalga = aresult.getbestvalues(acc)\\n\\nfinalval = 0\\nfor i in range(len(acc)):\\n    finalval += weightvalga[i] * ypredproba_all[i]\\n\\nprint(\\\"f1_score\\\", m.f1_score(ytest, np.argmax(finalval, axis=1), average=\\\"weighted\\\"))\\nprint(\\\"accuracy_score\\\", m.accuracy_score(ytest, np.argmax(finalval, axis=1)))\";\n",
       "                var nbb_cells = Jupyter.notebook.get_cells();\n",
       "                for (var i = 0; i < nbb_cells.length; ++i) {\n",
       "                    if (nbb_cells[i].input_prompt_number == nbb_cell_id) {\n",
       "                        if (nbb_cells[i].get_text() == nbb_unformatted_code) {\n",
       "                             nbb_cells[i].set_text(nbb_formatted_code);\n",
       "                        }\n",
       "                        break;\n",
       "                    }\n",
       "                }\n",
       "            }, 500);\n",
       "            "
      ],
      "text/plain": [
       "<IPython.core.display.Javascript object>"
      ]
     },
     "metadata": {},
     "output_type": "display_data"
    }
   ],
   "source": [
    "import calculateWeightUsingGa2 as aresult\n",
    "weightvalga=aresult.getbestvalues(acc)\n",
    "\n",
    "finalval=0\n",
    "for i in range(len(acc)):\n",
    "    finalval += weightvalga[i]*ypredproba_all[i]\n",
    "\n",
    "print('f1_score',m.f1_score(ytest,np.argmax(finalval,axis=1),average='weighted'))\n",
    "print('accuracy_score',m.accuracy_score(ytest,np.argmax(finalval,axis=1)))\n",
    "    \n"
   ]
  },
  {
   "cell_type": "code",
   "execution_count": null,
   "metadata": {},
   "outputs": [],
   "source": []
  },
  {
   "cell_type": "code",
   "execution_count": null,
   "metadata": {},
   "outputs": [],
   "source": []
  }
 ],
 "metadata": {
  "kernelspec": {
   "display_name": "Python 3",
   "language": "python",
   "name": "python3"
  },
  "language_info": {
   "codemirror_mode": {
    "name": "ipython",
    "version": 3
   },
   "file_extension": ".py",
   "mimetype": "text/x-python",
   "name": "python",
   "nbconvert_exporter": "python",
   "pygments_lexer": "ipython3",
   "version": "3.7.7"
  }
 },
 "nbformat": 4,
 "nbformat_minor": 4
}
