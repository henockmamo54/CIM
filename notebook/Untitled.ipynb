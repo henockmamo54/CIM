{
 "cells": [
  {
   "cell_type": "code",
   "execution_count": 1,
   "metadata": {},
   "outputs": [
    {
     "name": "stderr",
     "output_type": "stream",
     "text": [
      "C:\\ProgramData\\Anaconda3\\lib\\importlib\\_bootstrap.py:219: RuntimeWarning: numpy.ufunc size changed, may indicate binary incompatibility. Expected 192 from C header, got 216 from PyObject\n",
      "  return f(*args, **kwds)\n"
     ]
    }
   ],
   "source": [
    "from sklearn import datasets \n",
    "import numpy as np\n",
    "from sklearn.svm import SVC"
   ]
  },
  {
   "cell_type": "code",
   "execution_count": 2,
   "metadata": {},
   "outputs": [],
   "source": [
    "data=datasets.load_iris()\n",
    "x=data.data\n",
    "y=data.target"
   ]
  },
  {
   "cell_type": "code",
   "execution_count": 10,
   "metadata": {},
   "outputs": [],
   "source": [
    "from sklearn.model_selection import train_test_split\n",
    "xtrain,xtest,ytrain, ytest = train_test_split(x,y,test_size=0.35)"
   ]
  },
  {
   "cell_type": "code",
   "execution_count": 15,
   "metadata": {},
   "outputs": [],
   "source": [
    "svc=SVC(gamma=0.1,probability=True)"
   ]
  },
  {
   "cell_type": "code",
   "execution_count": 16,
   "metadata": {},
   "outputs": [
    {
     "data": {
      "text/plain": [
       "SVC(C=1.0, cache_size=200, class_weight=None, coef0=0.0,\n",
       "    decision_function_shape='ovr', degree=3, gamma=0.1, kernel='rbf',\n",
       "    max_iter=-1, probability=True, random_state=None, shrinking=True, tol=0.001,\n",
       "    verbose=False)"
      ]
     },
     "execution_count": 16,
     "metadata": {},
     "output_type": "execute_result"
    }
   ],
   "source": [
    "svc.fit(xtrain,ytrain)"
   ]
  },
  {
   "cell_type": "code",
   "execution_count": 28,
   "metadata": {},
   "outputs": [
    {
     "name": "stdout",
     "output_type": "stream",
     "text": [
      "0.9622641509433962\n",
      "0.9622641509433962\n"
     ]
    }
   ],
   "source": [
    "from sklearn import metrics as m\n",
    "print(m.accuracy_score(ytest,svc.predict(xtest)))\n",
    "print(m.accuracy_score(ytest,np.argmax(svc.predict_proba(xtest),axis=1)))"
   ]
  },
  {
   "cell_type": "code",
   "execution_count": 29,
   "metadata": {},
   "outputs": [],
   "source": [
    "pred=svc.predict(x)\n",
    "predpro=svc.predict_proba(xtest)"
   ]
  },
  {
   "cell_type": "code",
   "execution_count": 35,
   "metadata": {},
   "outputs": [
    {
     "data": {
      "text/plain": [
       "(53, 3)"
      ]
     },
     "execution_count": 35,
     "metadata": {},
     "output_type": "execute_result"
    }
   ],
   "source": [
    "predpro.shape"
   ]
  },
  {
   "cell_type": "code",
   "execution_count": 33,
   "metadata": {},
   "outputs": [
    {
     "data": {
      "text/plain": [
       "(53,)"
      ]
     },
     "execution_count": 33,
     "metadata": {},
     "output_type": "execute_result"
    }
   ],
   "source": [
    "np.argmax(predpro,axis=1).shape"
   ]
  },
  {
   "cell_type": "code",
   "execution_count": 32,
   "metadata": {
    "scrolled": true
   },
   "outputs": [
    {
     "data": {
      "text/plain": [
       "array([[0.04294332, 0.94021586, 0.01684082],\n",
       "       [0.03122663, 0.00796119, 0.96081218],\n",
       "       [0.01819258, 0.85689799, 0.12490944],\n",
       "       [0.01502937, 0.3006065 , 0.68436413],\n",
       "       [0.96876095, 0.02006572, 0.01117333],\n",
       "       [0.96531683, 0.02303777, 0.0116454 ],\n",
       "       [0.01640734, 0.25683099, 0.72676168],\n",
       "       [0.0181619 , 0.97161727, 0.01022082],\n",
       "       [0.02015955, 0.67377474, 0.30606572],\n",
       "       [0.01431148, 0.07253061, 0.91315791],\n",
       "       [0.01143947, 0.95721197, 0.03134855],\n",
       "       [0.0142157 , 0.00263402, 0.98315027],\n",
       "       [0.02222742, 0.0064016 , 0.97137098],\n",
       "       [0.95243646, 0.03404761, 0.01351593],\n",
       "       [0.97130053, 0.01779203, 0.01090744],\n",
       "       [0.0102619 , 0.9520354 , 0.0377027 ],\n",
       "       [0.01728068, 0.00748246, 0.97523686],\n",
       "       [0.93223265, 0.05242102, 0.01534633],\n",
       "       [0.01258873, 0.83046227, 0.156949  ],\n",
       "       [0.96664473, 0.02187514, 0.01148013],\n",
       "       [0.01026632, 0.92058562, 0.06914805],\n",
       "       [0.01602534, 0.94627528, 0.03769938],\n",
       "       [0.01412649, 0.92832404, 0.05754947],\n",
       "       [0.01844977, 0.0050905 , 0.97645972],\n",
       "       [0.01839582, 0.69815364, 0.28345054],\n",
       "       [0.96482866, 0.02325746, 0.01191388],\n",
       "       [0.01445466, 0.00420578, 0.98133956],\n",
       "       [0.01427726, 0.01541886, 0.97030388],\n",
       "       [0.01224959, 0.75930911, 0.2284413 ],\n",
       "       [0.01679043, 0.91368357, 0.069526  ],\n",
       "       [0.01525181, 0.87954584, 0.10520235],\n",
       "       [0.01449034, 0.00647591, 0.97903375],\n",
       "       [0.97311048, 0.01611603, 0.01077349],\n",
       "       [0.02376793, 0.95636175, 0.01987032],\n",
       "       [0.02044029, 0.0069671 , 0.97259261],\n",
       "       [0.01415689, 0.00621045, 0.97963266],\n",
       "       [0.01825269, 0.36044991, 0.6212974 ],\n",
       "       [0.96348175, 0.02468671, 0.01183154],\n",
       "       [0.02521771, 0.79114212, 0.18364017],\n",
       "       [0.013629  , 0.01173822, 0.97463279],\n",
       "       [0.02700767, 0.00931746, 0.96367487],\n",
       "       [0.01117576, 0.97548495, 0.01333929],\n",
       "       [0.0151691 , 0.12767627, 0.85715463],\n",
       "       [0.95309445, 0.03260268, 0.01430288],\n",
       "       [0.95636858, 0.02990793, 0.01372349],\n",
       "       [0.01240056, 0.02198425, 0.96561519],\n",
       "       [0.01316856, 0.03581064, 0.95102081],\n",
       "       [0.97021652, 0.01859778, 0.0111857 ],\n",
       "       [0.01512512, 0.10857794, 0.87629693],\n",
       "       [0.01336073, 0.95109893, 0.03554034],\n",
       "       [0.01461246, 0.02273017, 0.96265737],\n",
       "       [0.01462257, 0.20996567, 0.77541176],\n",
       "       [0.89712348, 0.07642366, 0.02645286]])"
      ]
     },
     "execution_count": 32,
     "metadata": {},
     "output_type": "execute_result"
    }
   ],
   "source": [
    "predpro"
   ]
  },
  {
   "cell_type": "code",
   "execution_count": null,
   "metadata": {},
   "outputs": [],
   "source": []
  }
 ],
 "metadata": {
  "kernelspec": {
   "display_name": "Python 3",
   "language": "python",
   "name": "python3"
  },
  "language_info": {
   "codemirror_mode": {
    "name": "ipython",
    "version": 3
   },
   "file_extension": ".py",
   "mimetype": "text/x-python",
   "name": "python",
   "nbconvert_exporter": "python",
   "pygments_lexer": "ipython3",
   "version": "3.7.3"
  }
 },
 "nbformat": 4,
 "nbformat_minor": 2
}
