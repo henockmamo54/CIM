{
 "cells": [
  {
   "cell_type": "code",
   "execution_count": 1,
   "metadata": {},
   "outputs": [
    {
     "data": {
      "application/javascript": [
       "\n",
       "            setTimeout(function() {\n",
       "                var nbb_cell_id = 1;\n",
       "                var nbb_unformatted_code = \"%load_ext nb_black\";\n",
       "                var nbb_formatted_code = \"%load_ext nb_black\";\n",
       "                var nbb_cells = Jupyter.notebook.get_cells();\n",
       "                for (var i = 0; i < nbb_cells.length; ++i) {\n",
       "                    if (nbb_cells[i].input_prompt_number == nbb_cell_id) {\n",
       "                        if (nbb_cells[i].get_text() == nbb_unformatted_code) {\n",
       "                             nbb_cells[i].set_text(nbb_formatted_code);\n",
       "                        }\n",
       "                        break;\n",
       "                    }\n",
       "                }\n",
       "            }, 500);\n",
       "            "
      ],
      "text/plain": [
       "<IPython.core.display.Javascript object>"
      ]
     },
     "metadata": {},
     "output_type": "display_data"
    }
   ],
   "source": [
    "%load_ext nb_black"
   ]
  },
  {
   "cell_type": "code",
   "execution_count": 2,
   "metadata": {},
   "outputs": [
    {
     "data": {
      "application/javascript": [
       "\n",
       "            setTimeout(function() {\n",
       "                var nbb_cell_id = 2;\n",
       "                var nbb_unformatted_code = \"from sklearn import datasets\\nfrom sklearn import metrics as m\\nfrom sklearn.model_selection import train_test_split\\nfrom sklearn.ensemble import RandomForestClassifier\\nfrom sklearn.model_selection import cross_val_score\\nimport numpy as np\\nfrom itertools import combinations\\nfrom sklearn import datasets\\nfrom sklearn import metrics as m\\nfrom sklearn.model_selection import train_test_split\\nfrom sklearn.ensemble import RandomForestClassifier\\nfrom sklearn.model_selection import cross_val_score\\nimport numpy as np\\nimport pandas as pd\\nfrom itertools import combinations\\nfrom sklearn.svm import SVC\\nimport xgboost as xgb\\nfrom thundersvm import SVC as svmgpu\\nfrom sklearn.utils import shuffle\\nimport itertools\\nfrom sklearn.ensemble import VotingClassifier\\nfrom sklearn.preprocessing import LabelEncoder\\n\\nrandomseed = 10\\nnp.random.seed(randomseed)\";\n",
       "                var nbb_formatted_code = \"from sklearn import datasets\\nfrom sklearn import metrics as m\\nfrom sklearn.model_selection import train_test_split\\nfrom sklearn.ensemble import RandomForestClassifier\\nfrom sklearn.model_selection import cross_val_score\\nimport numpy as np\\nfrom itertools import combinations\\nfrom sklearn import datasets\\nfrom sklearn import metrics as m\\nfrom sklearn.model_selection import train_test_split\\nfrom sklearn.ensemble import RandomForestClassifier\\nfrom sklearn.model_selection import cross_val_score\\nimport numpy as np\\nimport pandas as pd\\nfrom itertools import combinations\\nfrom sklearn.svm import SVC\\nimport xgboost as xgb\\nfrom thundersvm import SVC as svmgpu\\nfrom sklearn.utils import shuffle\\nimport itertools\\nfrom sklearn.ensemble import VotingClassifier\\nfrom sklearn.preprocessing import LabelEncoder\\n\\nrandomseed = 10\\nnp.random.seed(randomseed)\";\n",
       "                var nbb_cells = Jupyter.notebook.get_cells();\n",
       "                for (var i = 0; i < nbb_cells.length; ++i) {\n",
       "                    if (nbb_cells[i].input_prompt_number == nbb_cell_id) {\n",
       "                        if (nbb_cells[i].get_text() == nbb_unformatted_code) {\n",
       "                             nbb_cells[i].set_text(nbb_formatted_code);\n",
       "                        }\n",
       "                        break;\n",
       "                    }\n",
       "                }\n",
       "            }, 500);\n",
       "            "
      ],
      "text/plain": [
       "<IPython.core.display.Javascript object>"
      ]
     },
     "metadata": {},
     "output_type": "display_data"
    }
   ],
   "source": [
    "from sklearn import datasets\n",
    "from sklearn import metrics as m\n",
    "from sklearn.model_selection import train_test_split\n",
    "from sklearn.ensemble import RandomForestClassifier\n",
    "from sklearn.model_selection import cross_val_score\n",
    "import numpy as np\n",
    "from itertools import combinations\n",
    "from sklearn import datasets\n",
    "from sklearn import metrics as m\n",
    "from sklearn.model_selection import train_test_split\n",
    "from sklearn.ensemble import RandomForestClassifier\n",
    "from sklearn.model_selection import cross_val_score\n",
    "import numpy as np\n",
    "import pandas as pd\n",
    "from itertools import combinations\n",
    "from sklearn.svm import SVC\n",
    "import xgboost as xgb\n",
    "from thundersvm import SVC as svmgpu\n",
    "from sklearn.utils import shuffle\n",
    "import itertools\n",
    "from sklearn.ensemble import VotingClassifier\n",
    "from sklearn.preprocessing import LabelEncoder\n",
    "\n",
    "randomseed = 10\n",
    "np.random.seed(randomseed)"
   ]
  },
  {
   "cell_type": "code",
   "execution_count": 3,
   "metadata": {},
   "outputs": [
    {
     "data": {
      "application/javascript": [
       "\n",
       "            setTimeout(function() {\n",
       "                var nbb_cell_id = 3;\n",
       "                var nbb_unformatted_code = \"def swapcolumns(trainval, testval, coldindexval):\\n    trainval[trainval != coldindexval] = 5\\n    testval[testval != coldindexval] = 5\\n\\n    trainval[trainval == coldindexval] = 0\\n    trainval[trainval == 5] = 1\\n\\n    testval[testval == coldindexval] = 0\\n    testval[testval == 5] = 1\\n\\n    return trainval, testval\";\n",
       "                var nbb_formatted_code = \"def swapcolumns(trainval, testval, coldindexval):\\n    trainval[trainval != coldindexval] = 5\\n    testval[testval != coldindexval] = 5\\n\\n    trainval[trainval == coldindexval] = 0\\n    trainval[trainval == 5] = 1\\n\\n    testval[testval == coldindexval] = 0\\n    testval[testval == 5] = 1\\n\\n    return trainval, testval\";\n",
       "                var nbb_cells = Jupyter.notebook.get_cells();\n",
       "                for (var i = 0; i < nbb_cells.length; ++i) {\n",
       "                    if (nbb_cells[i].input_prompt_number == nbb_cell_id) {\n",
       "                        if (nbb_cells[i].get_text() == nbb_unformatted_code) {\n",
       "                             nbb_cells[i].set_text(nbb_formatted_code);\n",
       "                        }\n",
       "                        break;\n",
       "                    }\n",
       "                }\n",
       "            }, 500);\n",
       "            "
      ],
      "text/plain": [
       "<IPython.core.display.Javascript object>"
      ]
     },
     "metadata": {},
     "output_type": "display_data"
    }
   ],
   "source": [
    "def swapcolumns(trainval, testval, coldindexval):\n",
    "    trainval[trainval != coldindexval] = 5\n",
    "    testval[testval != coldindexval] = 5\n",
    "\n",
    "    trainval[trainval == coldindexval] = 0\n",
    "    trainval[trainval == 5] = 1\n",
    "\n",
    "    testval[testval == coldindexval] = 0\n",
    "    testval[testval == 5] = 1\n",
    "\n",
    "    return trainval, testval"
   ]
  },
  {
   "cell_type": "code",
   "execution_count": 4,
   "metadata": {
    "scrolled": true
   },
   "outputs": [
    {
     "name": "stdout",
     "output_type": "stream",
     "text": [
      "[0 1 2]\n"
     ]
    },
    {
     "data": {
      "application/javascript": [
       "\n",
       "            setTimeout(function() {\n",
       "                var nbb_cell_id = 4;\n",
       "                var nbb_unformatted_code = \"data = pd.read_csv(\\\"../dataset/seeds_dataset.txt\\\", sep=\\\"\\\\t\\\", header=None)\\ndata = shuffle(data)\\n\\nle = LabelEncoder()\\ndata.iloc[:, -1] = le.fit_transform(data.iloc[:, -1])\\nx = data.iloc[:, :-1]\\ny = data.iloc[:, -1]\\nprint(np.unique(y))\";\n",
       "                var nbb_formatted_code = \"data = pd.read_csv(\\\"../dataset/seeds_dataset.txt\\\", sep=\\\"\\\\t\\\", header=None)\\ndata = shuffle(data)\\n\\nle = LabelEncoder()\\ndata.iloc[:, -1] = le.fit_transform(data.iloc[:, -1])\\nx = data.iloc[:, :-1]\\ny = data.iloc[:, -1]\\nprint(np.unique(y))\";\n",
       "                var nbb_cells = Jupyter.notebook.get_cells();\n",
       "                for (var i = 0; i < nbb_cells.length; ++i) {\n",
       "                    if (nbb_cells[i].input_prompt_number == nbb_cell_id) {\n",
       "                        if (nbb_cells[i].get_text() == nbb_unformatted_code) {\n",
       "                             nbb_cells[i].set_text(nbb_formatted_code);\n",
       "                        }\n",
       "                        break;\n",
       "                    }\n",
       "                }\n",
       "            }, 500);\n",
       "            "
      ],
      "text/plain": [
       "<IPython.core.display.Javascript object>"
      ]
     },
     "metadata": {},
     "output_type": "display_data"
    }
   ],
   "source": [
    "data = pd.read_csv(\"../dataset/seeds_dataset.txt\", sep=\"\\t\", header=None)\n",
    "data = shuffle(data)\n",
    "\n",
    "le = LabelEncoder()\n",
    "data.iloc[:, -1] = le.fit_transform(data.iloc[:, -1])\n",
    "x = data.iloc[:, :-1]\n",
    "y = data.iloc[:, -1]\n",
    "print(np.unique(y))"
   ]
  },
  {
   "cell_type": "code",
   "execution_count": 5,
   "metadata": {},
   "outputs": [
    {
     "data": {
      "application/javascript": [
       "\n",
       "            setTimeout(function() {\n",
       "                var nbb_cell_id = 5;\n",
       "                var nbb_unformatted_code = \"# data = datasets.load_iris()\\n# x = data.data\\n# y = data.target.ravel()\\n# print(np.unique(y))\";\n",
       "                var nbb_formatted_code = \"# data = datasets.load_iris()\\n# x = data.data\\n# y = data.target.ravel()\\n# print(np.unique(y))\";\n",
       "                var nbb_cells = Jupyter.notebook.get_cells();\n",
       "                for (var i = 0; i < nbb_cells.length; ++i) {\n",
       "                    if (nbb_cells[i].input_prompt_number == nbb_cell_id) {\n",
       "                        if (nbb_cells[i].get_text() == nbb_unformatted_code) {\n",
       "                             nbb_cells[i].set_text(nbb_formatted_code);\n",
       "                        }\n",
       "                        break;\n",
       "                    }\n",
       "                }\n",
       "            }, 500);\n",
       "            "
      ],
      "text/plain": [
       "<IPython.core.display.Javascript object>"
      ]
     },
     "metadata": {},
     "output_type": "display_data"
    }
   ],
   "source": [
    "# data = datasets.load_iris()\n",
    "# x = data.data\n",
    "# y = data.target.ravel()\n",
    "# print(np.unique(y))"
   ]
  },
  {
   "cell_type": "code",
   "execution_count": 6,
   "metadata": {},
   "outputs": [
    {
     "data": {
      "application/javascript": [
       "\n",
       "            setTimeout(function() {\n",
       "                var nbb_cell_id = 6;\n",
       "                var nbb_unformatted_code = \"xtrain, xtest, ytrain_original, ytest_original = train_test_split(\\n    x, y, test_size=0.3, random_state=10\\n)\";\n",
       "                var nbb_formatted_code = \"xtrain, xtest, ytrain_original, ytest_original = train_test_split(\\n    x, y, test_size=0.3, random_state=10\\n)\";\n",
       "                var nbb_cells = Jupyter.notebook.get_cells();\n",
       "                for (var i = 0; i < nbb_cells.length; ++i) {\n",
       "                    if (nbb_cells[i].input_prompt_number == nbb_cell_id) {\n",
       "                        if (nbb_cells[i].get_text() == nbb_unformatted_code) {\n",
       "                             nbb_cells[i].set_text(nbb_formatted_code);\n",
       "                        }\n",
       "                        break;\n",
       "                    }\n",
       "                }\n",
       "            }, 500);\n",
       "            "
      ],
      "text/plain": [
       "<IPython.core.display.Javascript object>"
      ]
     },
     "metadata": {},
     "output_type": "display_data"
    }
   ],
   "source": [
    "xtrain, xtest, ytrain_original, ytest_original = train_test_split(\n",
    "    x, y, test_size=0.3, random_state=10\n",
    ")"
   ]
  },
  {
   "cell_type": "code",
   "execution_count": 7,
   "metadata": {
    "scrolled": true
   },
   "outputs": [
    {
     "name": "stdout",
     "output_type": "stream",
     "text": [
      "0.9365079365079365\n"
     ]
    },
    {
     "data": {
      "application/javascript": [
       "\n",
       "            setTimeout(function() {\n",
       "                var nbb_cell_id = 7;\n",
       "                var nbb_unformatted_code = \"xgbmodel = xgb.XGBClassifier(random_state=randomseed)\\nxgbmodel.fit(xtrain, ytrain_original)\\nprint(m.accuracy_score(ytest_original, xgbmodel.predict(xtest)))\";\n",
       "                var nbb_formatted_code = \"xgbmodel = xgb.XGBClassifier(random_state=randomseed)\\nxgbmodel.fit(xtrain, ytrain_original)\\nprint(m.accuracy_score(ytest_original, xgbmodel.predict(xtest)))\";\n",
       "                var nbb_cells = Jupyter.notebook.get_cells();\n",
       "                for (var i = 0; i < nbb_cells.length; ++i) {\n",
       "                    if (nbb_cells[i].input_prompt_number == nbb_cell_id) {\n",
       "                        if (nbb_cells[i].get_text() == nbb_unformatted_code) {\n",
       "                             nbb_cells[i].set_text(nbb_formatted_code);\n",
       "                        }\n",
       "                        break;\n",
       "                    }\n",
       "                }\n",
       "            }, 500);\n",
       "            "
      ],
      "text/plain": [
       "<IPython.core.display.Javascript object>"
      ]
     },
     "metadata": {},
     "output_type": "display_data"
    }
   ],
   "source": [
    "xgbmodel = xgb.XGBClassifier(random_state=randomseed)\n",
    "xgbmodel.fit(xtrain, ytrain_original)\n",
    "print(m.accuracy_score(ytest_original, xgbmodel.predict(xtest)))"
   ]
  },
  {
   "cell_type": "code",
   "execution_count": 8,
   "metadata": {},
   "outputs": [
    {
     "name": "stdout",
     "output_type": "stream",
     "text": [
      "mean=  0.9333333333333333 , std=  0.03809523809523809\n"
     ]
    },
    {
     "data": {
      "application/javascript": [
       "\n",
       "            setTimeout(function() {\n",
       "                var nbb_cell_id = 8;\n",
       "                var nbb_unformatted_code = \"cvscore = cross_val_score(xgbmodel, x, y, cv=10)\\nprint(\\\"mean= \\\", np.mean(cvscore), \\\", std= \\\", np.std(cvscore))\";\n",
       "                var nbb_formatted_code = \"cvscore = cross_val_score(xgbmodel, x, y, cv=10)\\nprint(\\\"mean= \\\", np.mean(cvscore), \\\", std= \\\", np.std(cvscore))\";\n",
       "                var nbb_cells = Jupyter.notebook.get_cells();\n",
       "                for (var i = 0; i < nbb_cells.length; ++i) {\n",
       "                    if (nbb_cells[i].input_prompt_number == nbb_cell_id) {\n",
       "                        if (nbb_cells[i].get_text() == nbb_unformatted_code) {\n",
       "                             nbb_cells[i].set_text(nbb_formatted_code);\n",
       "                        }\n",
       "                        break;\n",
       "                    }\n",
       "                }\n",
       "            }, 500);\n",
       "            "
      ],
      "text/plain": [
       "<IPython.core.display.Javascript object>"
      ]
     },
     "metadata": {},
     "output_type": "display_data"
    }
   ],
   "source": [
    "cvscore = cross_val_score(xgbmodel, x, y, cv=10)\n",
    "print(\"mean= \", np.mean(cvscore), \", std= \", np.std(cvscore))"
   ]
  },
  {
   "cell_type": "markdown",
   "metadata": {},
   "source": [
    "Confusion matrix based models\n",
    "===="
   ]
  },
  {
   "cell_type": "code",
   "execution_count": 9,
   "metadata": {},
   "outputs": [
    {
     "data": {
      "application/javascript": [
       "\n",
       "            setTimeout(function() {\n",
       "                var nbb_cell_id = 9;\n",
       "                var nbb_unformatted_code = \"clf_c0 = []\\nacc_c0 = []\\npredictedprobablities_c0 = []\\npredictedconfusionmatrix_proba_c0 = []\";\n",
       "                var nbb_formatted_code = \"clf_c0 = []\\nacc_c0 = []\\npredictedprobablities_c0 = []\\npredictedconfusionmatrix_proba_c0 = []\";\n",
       "                var nbb_cells = Jupyter.notebook.get_cells();\n",
       "                for (var i = 0; i < nbb_cells.length; ++i) {\n",
       "                    if (nbb_cells[i].input_prompt_number == nbb_cell_id) {\n",
       "                        if (nbb_cells[i].get_text() == nbb_unformatted_code) {\n",
       "                             nbb_cells[i].set_text(nbb_formatted_code);\n",
       "                        }\n",
       "                        break;\n",
       "                    }\n",
       "                }\n",
       "            }, 500);\n",
       "            "
      ],
      "text/plain": [
       "<IPython.core.display.Javascript object>"
      ]
     },
     "metadata": {},
     "output_type": "display_data"
    }
   ],
   "source": [
    "clf_c0 = []\n",
    "acc_c0 = []\n",
    "predictedprobablities_c0 = []\n",
    "predictedconfusionmatrix_proba_c0 = []"
   ]
  },
  {
   "cell_type": "markdown",
   "metadata": {},
   "source": [
    "# 1. baseline classifiers\n",
    "========="
   ]
  },
  {
   "cell_type": "markdown",
   "metadata": {},
   "source": [
    "# 1.1 Class 0\n",
    "===="
   ]
  },
  {
   "cell_type": "code",
   "execution_count": 10,
   "metadata": {},
   "outputs": [
    {
     "name": "stdout",
     "output_type": "stream",
     "text": [
      "0.9365079365079365\n"
     ]
    },
    {
     "data": {
      "application/javascript": [
       "\n",
       "            setTimeout(function() {\n",
       "                var nbb_cell_id = 10;\n",
       "                var nbb_unformatted_code = \"# ===========================\\nytrain = ytrain_original.copy()\\nytest = ytest_original.copy()\\nytrain, ytest = swapcolumns(ytrain, ytest, 0)\\n# =================================================\\n\\nrf_c0 = RandomForestClassifier(random_state=randomseed, n_estimators=50)\\nrf_c0.fit(xtrain, ytrain)\\nrfpred_c0 = rf_c0.predict(xtest)\\nprint(m.accuracy_score(ytest, rfpred_c0))\\n\\nclf_c0.append(rf_c0)\\nacc_c0.append(m.accuracy_score(ytest, rfpred_c0))\\npredictedprobablities_c0.append(rf_c0.predict_proba(xtest))\\n\\nconfmat = m.confusion_matrix(ytest, rfpred_c0)\\nconfsumh = np.sum(confmat, axis=0)\\npropconfmat = confmat.copy()\\nfor i in range(propconfmat.shape[0]):\\n    propconfmat[:, i] = 100 * propconfmat[:, i] / confsumh[i]\\npredictedconfusionmatrix_proba_c0.append(propconfmat / 100)\";\n",
       "                var nbb_formatted_code = \"# ===========================\\nytrain = ytrain_original.copy()\\nytest = ytest_original.copy()\\nytrain, ytest = swapcolumns(ytrain, ytest, 0)\\n# =================================================\\n\\nrf_c0 = RandomForestClassifier(random_state=randomseed, n_estimators=50)\\nrf_c0.fit(xtrain, ytrain)\\nrfpred_c0 = rf_c0.predict(xtest)\\nprint(m.accuracy_score(ytest, rfpred_c0))\\n\\nclf_c0.append(rf_c0)\\nacc_c0.append(m.accuracy_score(ytest, rfpred_c0))\\npredictedprobablities_c0.append(rf_c0.predict_proba(xtest))\\n\\nconfmat = m.confusion_matrix(ytest, rfpred_c0)\\nconfsumh = np.sum(confmat, axis=0)\\npropconfmat = confmat.copy()\\nfor i in range(propconfmat.shape[0]):\\n    propconfmat[:, i] = 100 * propconfmat[:, i] / confsumh[i]\\npredictedconfusionmatrix_proba_c0.append(propconfmat / 100)\";\n",
       "                var nbb_cells = Jupyter.notebook.get_cells();\n",
       "                for (var i = 0; i < nbb_cells.length; ++i) {\n",
       "                    if (nbb_cells[i].input_prompt_number == nbb_cell_id) {\n",
       "                        if (nbb_cells[i].get_text() == nbb_unformatted_code) {\n",
       "                             nbb_cells[i].set_text(nbb_formatted_code);\n",
       "                        }\n",
       "                        break;\n",
       "                    }\n",
       "                }\n",
       "            }, 500);\n",
       "            "
      ],
      "text/plain": [
       "<IPython.core.display.Javascript object>"
      ]
     },
     "metadata": {},
     "output_type": "display_data"
    }
   ],
   "source": [
    "# ===========================\n",
    "ytrain = ytrain_original.copy()\n",
    "ytest = ytest_original.copy()\n",
    "ytrain, ytest = swapcolumns(ytrain, ytest, 0)\n",
    "# =================================================\n",
    "\n",
    "rf_c0 = RandomForestClassifier(random_state=randomseed, n_estimators=50)\n",
    "rf_c0.fit(xtrain, ytrain)\n",
    "rfpred_c0 = rf_c0.predict(xtest)\n",
    "print(m.accuracy_score(ytest, rfpred_c0))\n",
    "\n",
    "clf_c0.append(rf_c0)\n",
    "acc_c0.append(m.accuracy_score(ytest, rfpred_c0))\n",
    "predictedprobablities_c0.append(rf_c0.predict_proba(xtest))\n",
    "\n",
    "confmat = m.confusion_matrix(ytest, rfpred_c0)\n",
    "confsumh = np.sum(confmat, axis=0)\n",
    "propconfmat = confmat.copy()\n",
    "for i in range(propconfmat.shape[0]):\n",
    "    propconfmat[:, i] = 100 * propconfmat[:, i] / confsumh[i]\n",
    "predictedconfusionmatrix_proba_c0.append(propconfmat / 100)"
   ]
  },
  {
   "cell_type": "code",
   "execution_count": 11,
   "metadata": {},
   "outputs": [
    {
     "name": "stdout",
     "output_type": "stream",
     "text": [
      "0.9365079365079365\n"
     ]
    },
    {
     "data": {
      "application/javascript": [
       "\n",
       "            setTimeout(function() {\n",
       "                var nbb_cell_id = 11;\n",
       "                var nbb_unformatted_code = \"ytrain = ytrain_original.copy()\\nytest = ytest_original.copy()\\nytrain, ytest = swapcolumns(ytrain, ytest, 0)\\n# =================================================\\nxgbmodel_c0 = xgb.XGBClassifier(random_state=randomseed, n_estimators=50)\\nxgbmodel_c0.fit(xtrain, ytrain)\\nxgbmodelpred_c0 = xgbmodel_c0.predict(xtest)\\nprint(m.accuracy_score(ytest, xgbmodelpred_c0))\\n\\nclf_c0.append(xgbmodel_c0)\\nacc_c0.append(m.accuracy_score(ytest, xgbmodelpred_c0))\\npredictedprobablities_c0.append(xgbmodel_c0.predict_proba(xtest))\\n\\nconfmat = m.confusion_matrix(ytest, xgbmodelpred_c0)\\nconfsumh = np.sum(confmat, axis=0)\\npropconfmat = confmat.copy()\\nfor i in range(propconfmat.shape[0]):\\n    propconfmat[:, i] = 100 * propconfmat[:, i] / confsumh[i]\\npredictedconfusionmatrix_proba_c0.append(propconfmat / 100)\";\n",
       "                var nbb_formatted_code = \"ytrain = ytrain_original.copy()\\nytest = ytest_original.copy()\\nytrain, ytest = swapcolumns(ytrain, ytest, 0)\\n# =================================================\\nxgbmodel_c0 = xgb.XGBClassifier(random_state=randomseed, n_estimators=50)\\nxgbmodel_c0.fit(xtrain, ytrain)\\nxgbmodelpred_c0 = xgbmodel_c0.predict(xtest)\\nprint(m.accuracy_score(ytest, xgbmodelpred_c0))\\n\\nclf_c0.append(xgbmodel_c0)\\nacc_c0.append(m.accuracy_score(ytest, xgbmodelpred_c0))\\npredictedprobablities_c0.append(xgbmodel_c0.predict_proba(xtest))\\n\\nconfmat = m.confusion_matrix(ytest, xgbmodelpred_c0)\\nconfsumh = np.sum(confmat, axis=0)\\npropconfmat = confmat.copy()\\nfor i in range(propconfmat.shape[0]):\\n    propconfmat[:, i] = 100 * propconfmat[:, i] / confsumh[i]\\npredictedconfusionmatrix_proba_c0.append(propconfmat / 100)\";\n",
       "                var nbb_cells = Jupyter.notebook.get_cells();\n",
       "                for (var i = 0; i < nbb_cells.length; ++i) {\n",
       "                    if (nbb_cells[i].input_prompt_number == nbb_cell_id) {\n",
       "                        if (nbb_cells[i].get_text() == nbb_unformatted_code) {\n",
       "                             nbb_cells[i].set_text(nbb_formatted_code);\n",
       "                        }\n",
       "                        break;\n",
       "                    }\n",
       "                }\n",
       "            }, 500);\n",
       "            "
      ],
      "text/plain": [
       "<IPython.core.display.Javascript object>"
      ]
     },
     "metadata": {},
     "output_type": "display_data"
    }
   ],
   "source": [
    "ytrain = ytrain_original.copy()\n",
    "ytest = ytest_original.copy()\n",
    "ytrain, ytest = swapcolumns(ytrain, ytest, 0)\n",
    "# =================================================\n",
    "xgbmodel_c0 = xgb.XGBClassifier(random_state=randomseed, n_estimators=50)\n",
    "xgbmodel_c0.fit(xtrain, ytrain)\n",
    "xgbmodelpred_c0 = xgbmodel_c0.predict(xtest)\n",
    "print(m.accuracy_score(ytest, xgbmodelpred_c0))\n",
    "\n",
    "clf_c0.append(xgbmodel_c0)\n",
    "acc_c0.append(m.accuracy_score(ytest, xgbmodelpred_c0))\n",
    "predictedprobablities_c0.append(xgbmodel_c0.predict_proba(xtest))\n",
    "\n",
    "confmat = m.confusion_matrix(ytest, xgbmodelpred_c0)\n",
    "confsumh = np.sum(confmat, axis=0)\n",
    "propconfmat = confmat.copy()\n",
    "for i in range(propconfmat.shape[0]):\n",
    "    propconfmat[:, i] = 100 * propconfmat[:, i] / confsumh[i]\n",
    "predictedconfusionmatrix_proba_c0.append(propconfmat / 100)\n"
   ]
  },
  {
   "cell_type": "code",
   "execution_count": 12,
   "metadata": {},
   "outputs": [
    {
     "name": "stdout",
     "output_type": "stream",
     "text": [
      "0.873015873015873\n"
     ]
    },
    {
     "data": {
      "application/javascript": [
       "\n",
       "            setTimeout(function() {\n",
       "                var nbb_cell_id = 12;\n",
       "                var nbb_unformatted_code = \"ytrain = ytrain_original.copy()\\nytest = ytest_original.copy()\\nytrain, ytest = swapcolumns(ytrain, ytest, 0)\\n# =================================================\\nsvmmodel = svmgpu(random_state=randomseed, probability=True, C=1)\\nsvmmodel.fit(xtrain, ytrain)\\nsvmmodelpred = svmmodel.predict(xtest)\\nprint(m.accuracy_score(ytest, svmmodelpred))\\n\\nclf_c0.append(svmmodel)\\nacc_c0.append(m.accuracy_score(ytest, svmmodelpred))\\npredictedprobablities_c0.append(svmmodel.predict_proba(xtest))\\n\\nconfmat = m.confusion_matrix(ytest, svmmodelpred)\\nconfsumh = np.sum(confmat, axis=0)\\npropconfmat = confmat.copy()\\nfor i in range(propconfmat.shape[0]):\\n    propconfmat[:, i] = 100 * propconfmat[:, i] / confsumh[i]\\npredictedconfusionmatrix_proba_c0.append(propconfmat / 100)\";\n",
       "                var nbb_formatted_code = \"ytrain = ytrain_original.copy()\\nytest = ytest_original.copy()\\nytrain, ytest = swapcolumns(ytrain, ytest, 0)\\n# =================================================\\nsvmmodel = svmgpu(random_state=randomseed, probability=True, C=1)\\nsvmmodel.fit(xtrain, ytrain)\\nsvmmodelpred = svmmodel.predict(xtest)\\nprint(m.accuracy_score(ytest, svmmodelpred))\\n\\nclf_c0.append(svmmodel)\\nacc_c0.append(m.accuracy_score(ytest, svmmodelpred))\\npredictedprobablities_c0.append(svmmodel.predict_proba(xtest))\\n\\nconfmat = m.confusion_matrix(ytest, svmmodelpred)\\nconfsumh = np.sum(confmat, axis=0)\\npropconfmat = confmat.copy()\\nfor i in range(propconfmat.shape[0]):\\n    propconfmat[:, i] = 100 * propconfmat[:, i] / confsumh[i]\\npredictedconfusionmatrix_proba_c0.append(propconfmat / 100)\";\n",
       "                var nbb_cells = Jupyter.notebook.get_cells();\n",
       "                for (var i = 0; i < nbb_cells.length; ++i) {\n",
       "                    if (nbb_cells[i].input_prompt_number == nbb_cell_id) {\n",
       "                        if (nbb_cells[i].get_text() == nbb_unformatted_code) {\n",
       "                             nbb_cells[i].set_text(nbb_formatted_code);\n",
       "                        }\n",
       "                        break;\n",
       "                    }\n",
       "                }\n",
       "            }, 500);\n",
       "            "
      ],
      "text/plain": [
       "<IPython.core.display.Javascript object>"
      ]
     },
     "metadata": {},
     "output_type": "display_data"
    }
   ],
   "source": [
    "ytrain = ytrain_original.copy()\n",
    "ytest = ytest_original.copy()\n",
    "ytrain, ytest = swapcolumns(ytrain, ytest, 0)\n",
    "# =================================================\n",
    "svmmodel = svmgpu(random_state=randomseed, probability=True, C=1)\n",
    "svmmodel.fit(xtrain, ytrain)\n",
    "svmmodelpred = svmmodel.predict(xtest)\n",
    "print(m.accuracy_score(ytest, svmmodelpred))\n",
    "\n",
    "clf_c0.append(svmmodel)\n",
    "acc_c0.append(m.accuracy_score(ytest, svmmodelpred))\n",
    "predictedprobablities_c0.append(svmmodel.predict_proba(xtest))\n",
    "\n",
    "confmat = m.confusion_matrix(ytest, svmmodelpred)\n",
    "confsumh = np.sum(confmat, axis=0)\n",
    "propconfmat = confmat.copy()\n",
    "for i in range(propconfmat.shape[0]):\n",
    "    propconfmat[:, i] = 100 * propconfmat[:, i] / confsumh[i]\n",
    "predictedconfusionmatrix_proba_c0.append(propconfmat / 100)"
   ]
  },
  {
   "cell_type": "markdown",
   "metadata": {},
   "source": [
    "# 1.2 Class 1\n",
    "===="
   ]
  },
  {
   "cell_type": "code",
   "execution_count": 13,
   "metadata": {},
   "outputs": [
    {
     "name": "stdout",
     "output_type": "stream",
     "text": [
      "0.9682539682539683\n"
     ]
    },
    {
     "data": {
      "application/javascript": [
       "\n",
       "            setTimeout(function() {\n",
       "                var nbb_cell_id = 13;\n",
       "                var nbb_unformatted_code = \"clf_c1 = []\\nacc_c1 = []\\npredictedprobablities_c1 = []\\npredictedconfusionmatrix_proba_c1 = []\\n\\n# =================================================\\n# classs 1\\n# =================================================\\nytrain = ytrain_original.copy()\\nytest = ytest_original.copy()\\nytrain, ytest = swapcolumns(ytrain, ytest, 1)\\n# =================================================\\n\\nrf = RandomForestClassifier(random_state=randomseed, n_estimators=50)\\nrf.fit(xtrain, ytrain)\\nrfpred = rf.predict(xtest)\\nprint(m.accuracy_score(ytest, rfpred))\\n\\nclf_c1.append(rf)\\nacc_c1.append(m.accuracy_score(ytest, rfpred))\\npredictedprobablities_c1.append(rf.predict_proba(xtest))\\n\\nconfmat = m.confusion_matrix(ytest, rfpred)\\nconfsumh = np.sum(confmat, axis=0)\\npropconfmat = confmat.copy()\\nfor i in range(propconfmat.shape[0]):\\n    propconfmat[:, i] = 100 * propconfmat[:, i] / confsumh[i]\\npredictedconfusionmatrix_proba_c1.append(propconfmat / 100)\";\n",
       "                var nbb_formatted_code = \"clf_c1 = []\\nacc_c1 = []\\npredictedprobablities_c1 = []\\npredictedconfusionmatrix_proba_c1 = []\\n\\n# =================================================\\n# classs 1\\n# =================================================\\nytrain = ytrain_original.copy()\\nytest = ytest_original.copy()\\nytrain, ytest = swapcolumns(ytrain, ytest, 1)\\n# =================================================\\n\\nrf = RandomForestClassifier(random_state=randomseed, n_estimators=50)\\nrf.fit(xtrain, ytrain)\\nrfpred = rf.predict(xtest)\\nprint(m.accuracy_score(ytest, rfpred))\\n\\nclf_c1.append(rf)\\nacc_c1.append(m.accuracy_score(ytest, rfpred))\\npredictedprobablities_c1.append(rf.predict_proba(xtest))\\n\\nconfmat = m.confusion_matrix(ytest, rfpred)\\nconfsumh = np.sum(confmat, axis=0)\\npropconfmat = confmat.copy()\\nfor i in range(propconfmat.shape[0]):\\n    propconfmat[:, i] = 100 * propconfmat[:, i] / confsumh[i]\\npredictedconfusionmatrix_proba_c1.append(propconfmat / 100)\";\n",
       "                var nbb_cells = Jupyter.notebook.get_cells();\n",
       "                for (var i = 0; i < nbb_cells.length; ++i) {\n",
       "                    if (nbb_cells[i].input_prompt_number == nbb_cell_id) {\n",
       "                        if (nbb_cells[i].get_text() == nbb_unformatted_code) {\n",
       "                             nbb_cells[i].set_text(nbb_formatted_code);\n",
       "                        }\n",
       "                        break;\n",
       "                    }\n",
       "                }\n",
       "            }, 500);\n",
       "            "
      ],
      "text/plain": [
       "<IPython.core.display.Javascript object>"
      ]
     },
     "metadata": {},
     "output_type": "display_data"
    }
   ],
   "source": [
    "clf_c1 = []\n",
    "acc_c1 = []\n",
    "predictedprobablities_c1 = []\n",
    "predictedconfusionmatrix_proba_c1 = []\n",
    "\n",
    "# =================================================\n",
    "# classs 1\n",
    "# =================================================\n",
    "ytrain = ytrain_original.copy()\n",
    "ytest = ytest_original.copy()\n",
    "ytrain, ytest = swapcolumns(ytrain, ytest, 1)\n",
    "# =================================================\n",
    "\n",
    "rf = RandomForestClassifier(random_state=randomseed, n_estimators=50)\n",
    "rf.fit(xtrain, ytrain)\n",
    "rfpred = rf.predict(xtest)\n",
    "print(m.accuracy_score(ytest, rfpred))\n",
    "\n",
    "clf_c1.append(rf)\n",
    "acc_c1.append(m.accuracy_score(ytest, rfpred))\n",
    "predictedprobablities_c1.append(rf.predict_proba(xtest))\n",
    "\n",
    "confmat = m.confusion_matrix(ytest, rfpred)\n",
    "confsumh = np.sum(confmat, axis=0)\n",
    "propconfmat = confmat.copy()\n",
    "for i in range(propconfmat.shape[0]):\n",
    "    propconfmat[:, i] = 100 * propconfmat[:, i] / confsumh[i]\n",
    "predictedconfusionmatrix_proba_c1.append(propconfmat / 100)\n"
   ]
  },
  {
   "cell_type": "code",
   "execution_count": null,
   "metadata": {},
   "outputs": [],
   "source": []
  },
  {
   "cell_type": "code",
   "execution_count": 14,
   "metadata": {},
   "outputs": [
    {
     "name": "stdout",
     "output_type": "stream",
     "text": [
      "1.0\n"
     ]
    },
    {
     "data": {
      "application/javascript": [
       "\n",
       "            setTimeout(function() {\n",
       "                var nbb_cell_id = 14;\n",
       "                var nbb_unformatted_code = \"ytrain = ytrain_original.copy()\\nytest = ytest_original.copy()\\nytrain, ytest = swapcolumns(ytrain, ytest, 1)\\n# =================================================\\nxgbmodel = xgb.XGBClassifier(random_state=randomseed, n_estimators=50)\\nxgbmodel.fit(xtrain, ytrain)\\nxgbmodelpred = xgbmodel.predict(xtest)\\nprint(m.accuracy_score(ytest, xgbmodelpred))\\n\\nclf_c1.append(xgbmodel)\\nacc_c1.append(m.accuracy_score(ytest, xgbmodelpred))\\npredictedprobablities_c1.append(xgbmodel.predict_proba(xtest))\\n\\nconfmat = m.confusion_matrix(ytest, xgbmodelpred)\\nconfsumh = np.sum(confmat, axis=0)\\npropconfmat = confmat.copy()\\nfor i in range(propconfmat.shape[0]):\\n    propconfmat[:, i] = 100 * propconfmat[:, i] / confsumh[i]\\npredictedconfusionmatrix_proba_c1.append(propconfmat / 100)\";\n",
       "                var nbb_formatted_code = \"ytrain = ytrain_original.copy()\\nytest = ytest_original.copy()\\nytrain, ytest = swapcolumns(ytrain, ytest, 1)\\n# =================================================\\nxgbmodel = xgb.XGBClassifier(random_state=randomseed, n_estimators=50)\\nxgbmodel.fit(xtrain, ytrain)\\nxgbmodelpred = xgbmodel.predict(xtest)\\nprint(m.accuracy_score(ytest, xgbmodelpred))\\n\\nclf_c1.append(xgbmodel)\\nacc_c1.append(m.accuracy_score(ytest, xgbmodelpred))\\npredictedprobablities_c1.append(xgbmodel.predict_proba(xtest))\\n\\nconfmat = m.confusion_matrix(ytest, xgbmodelpred)\\nconfsumh = np.sum(confmat, axis=0)\\npropconfmat = confmat.copy()\\nfor i in range(propconfmat.shape[0]):\\n    propconfmat[:, i] = 100 * propconfmat[:, i] / confsumh[i]\\npredictedconfusionmatrix_proba_c1.append(propconfmat / 100)\";\n",
       "                var nbb_cells = Jupyter.notebook.get_cells();\n",
       "                for (var i = 0; i < nbb_cells.length; ++i) {\n",
       "                    if (nbb_cells[i].input_prompt_number == nbb_cell_id) {\n",
       "                        if (nbb_cells[i].get_text() == nbb_unformatted_code) {\n",
       "                             nbb_cells[i].set_text(nbb_formatted_code);\n",
       "                        }\n",
       "                        break;\n",
       "                    }\n",
       "                }\n",
       "            }, 500);\n",
       "            "
      ],
      "text/plain": [
       "<IPython.core.display.Javascript object>"
      ]
     },
     "metadata": {},
     "output_type": "display_data"
    }
   ],
   "source": [
    "ytrain = ytrain_original.copy()\n",
    "ytest = ytest_original.copy()\n",
    "ytrain, ytest = swapcolumns(ytrain, ytest, 1)\n",
    "# =================================================\n",
    "xgbmodel = xgb.XGBClassifier(random_state=randomseed, n_estimators=50)\n",
    "xgbmodel.fit(xtrain, ytrain)\n",
    "xgbmodelpred = xgbmodel.predict(xtest)\n",
    "print(m.accuracy_score(ytest, xgbmodelpred))\n",
    "\n",
    "clf_c1.append(xgbmodel)\n",
    "acc_c1.append(m.accuracy_score(ytest, xgbmodelpred))\n",
    "predictedprobablities_c1.append(xgbmodel.predict_proba(xtest))\n",
    "\n",
    "confmat = m.confusion_matrix(ytest, xgbmodelpred)\n",
    "confsumh = np.sum(confmat, axis=0)\n",
    "propconfmat = confmat.copy()\n",
    "for i in range(propconfmat.shape[0]):\n",
    "    propconfmat[:, i] = 100 * propconfmat[:, i] / confsumh[i]\n",
    "predictedconfusionmatrix_proba_c1.append(propconfmat / 100)\n"
   ]
  },
  {
   "cell_type": "code",
   "execution_count": 15,
   "metadata": {},
   "outputs": [
    {
     "name": "stdout",
     "output_type": "stream",
     "text": [
      "0.9523809523809523\n"
     ]
    },
    {
     "data": {
      "application/javascript": [
       "\n",
       "            setTimeout(function() {\n",
       "                var nbb_cell_id = 15;\n",
       "                var nbb_unformatted_code = \"ytrain = ytrain_original.copy()\\nytest = ytest_original.copy()\\nytrain, ytest = swapcolumns(ytrain, ytest, 1)\\n# =================================================\\nsvmmodel = svmgpu(random_state=randomseed, probability=True, C=1)\\nsvmmodel.fit(xtrain, ytrain)\\nsvmmodelpred = svmmodel.predict(xtest)\\nprint(m.accuracy_score(ytest, svmmodelpred))\\n\\nclf_c1.append(svmmodel)\\nacc_c1.append(m.accuracy_score(ytest, svmmodelpred))\\npredictedprobablities_c1.append(svmmodel.predict_proba(xtest))\\n\\nconfmat = m.confusion_matrix(ytest, svmmodelpred)\\nconfsumh = np.sum(confmat, axis=0)\\npropconfmat = confmat.copy()\\nfor i in range(propconfmat.shape[0]):\\n    propconfmat[:, i] = 100 * propconfmat[:, i] / confsumh[i]\\npredictedconfusionmatrix_proba_c1.append(propconfmat / 100)\";\n",
       "                var nbb_formatted_code = \"ytrain = ytrain_original.copy()\\nytest = ytest_original.copy()\\nytrain, ytest = swapcolumns(ytrain, ytest, 1)\\n# =================================================\\nsvmmodel = svmgpu(random_state=randomseed, probability=True, C=1)\\nsvmmodel.fit(xtrain, ytrain)\\nsvmmodelpred = svmmodel.predict(xtest)\\nprint(m.accuracy_score(ytest, svmmodelpred))\\n\\nclf_c1.append(svmmodel)\\nacc_c1.append(m.accuracy_score(ytest, svmmodelpred))\\npredictedprobablities_c1.append(svmmodel.predict_proba(xtest))\\n\\nconfmat = m.confusion_matrix(ytest, svmmodelpred)\\nconfsumh = np.sum(confmat, axis=0)\\npropconfmat = confmat.copy()\\nfor i in range(propconfmat.shape[0]):\\n    propconfmat[:, i] = 100 * propconfmat[:, i] / confsumh[i]\\npredictedconfusionmatrix_proba_c1.append(propconfmat / 100)\";\n",
       "                var nbb_cells = Jupyter.notebook.get_cells();\n",
       "                for (var i = 0; i < nbb_cells.length; ++i) {\n",
       "                    if (nbb_cells[i].input_prompt_number == nbb_cell_id) {\n",
       "                        if (nbb_cells[i].get_text() == nbb_unformatted_code) {\n",
       "                             nbb_cells[i].set_text(nbb_formatted_code);\n",
       "                        }\n",
       "                        break;\n",
       "                    }\n",
       "                }\n",
       "            }, 500);\n",
       "            "
      ],
      "text/plain": [
       "<IPython.core.display.Javascript object>"
      ]
     },
     "metadata": {},
     "output_type": "display_data"
    }
   ],
   "source": [
    "ytrain = ytrain_original.copy()\n",
    "ytest = ytest_original.copy()\n",
    "ytrain, ytest = swapcolumns(ytrain, ytest, 1)\n",
    "# =================================================\n",
    "svmmodel = svmgpu(random_state=randomseed, probability=True, C=1)\n",
    "svmmodel.fit(xtrain, ytrain)\n",
    "svmmodelpred = svmmodel.predict(xtest)\n",
    "print(m.accuracy_score(ytest, svmmodelpred))\n",
    "\n",
    "clf_c1.append(svmmodel)\n",
    "acc_c1.append(m.accuracy_score(ytest, svmmodelpred))\n",
    "predictedprobablities_c1.append(svmmodel.predict_proba(xtest))\n",
    "\n",
    "confmat = m.confusion_matrix(ytest, svmmodelpred)\n",
    "confsumh = np.sum(confmat, axis=0)\n",
    "propconfmat = confmat.copy()\n",
    "for i in range(propconfmat.shape[0]):\n",
    "    propconfmat[:, i] = 100 * propconfmat[:, i] / confsumh[i]\n",
    "predictedconfusionmatrix_proba_c1.append(propconfmat / 100)"
   ]
  },
  {
   "cell_type": "markdown",
   "metadata": {},
   "source": [
    "# 1.3 Class 2\n",
    "===="
   ]
  },
  {
   "cell_type": "code",
   "execution_count": 16,
   "metadata": {},
   "outputs": [
    {
     "name": "stdout",
     "output_type": "stream",
     "text": [
      "0.9047619047619048\n"
     ]
    },
    {
     "data": {
      "application/javascript": [
       "\n",
       "            setTimeout(function() {\n",
       "                var nbb_cell_id = 16;\n",
       "                var nbb_unformatted_code = \"#=================================================\\n# classs 2\\n#=================================================\\n\\nclf_c2 = []\\nacc_c2 = []\\npredictedprobablities_c2 = []\\npredictedconfusionmatrix_proba_c2 = []\\n\\nytrain=ytrain_original.copy()\\nytest=ytest_original.copy()\\nytrain,ytest= swapcolumns(ytrain,ytest,2)\\n\\n#=================================================\\n\\nrf=RandomForestClassifier(random_state=randomseed, n_estimators=50)\\nrf.fit(xtrain,ytrain)\\nrfpred=rf.predict(xtest)\\nprint(m.accuracy_score(ytest,rfpred))\\n\\nclf_c2.append(rf)\\nacc_c2.append(m.accuracy_score(ytest,rfpred))\\npredictedprobablities_c2.append(rf.predict_proba(xtest))\\n\\nconfmat=m.confusion_matrix(ytest,rfpred)\\nconfsumh=np.sum(confmat,axis=0)\\npropconfmat=confmat.copy()\\nfor i in range(propconfmat.shape[0]):\\n    propconfmat[:,i]= 100*propconfmat[:,i]/confsumh[i] \\npredictedconfusionmatrix_proba_c2.append(propconfmat/100)\";\n",
       "                var nbb_formatted_code = \"# =================================================\\n# classs 2\\n# =================================================\\n\\nclf_c2 = []\\nacc_c2 = []\\npredictedprobablities_c2 = []\\npredictedconfusionmatrix_proba_c2 = []\\n\\nytrain = ytrain_original.copy()\\nytest = ytest_original.copy()\\nytrain, ytest = swapcolumns(ytrain, ytest, 2)\\n\\n# =================================================\\n\\nrf = RandomForestClassifier(random_state=randomseed, n_estimators=50)\\nrf.fit(xtrain, ytrain)\\nrfpred = rf.predict(xtest)\\nprint(m.accuracy_score(ytest, rfpred))\\n\\nclf_c2.append(rf)\\nacc_c2.append(m.accuracy_score(ytest, rfpred))\\npredictedprobablities_c2.append(rf.predict_proba(xtest))\\n\\nconfmat = m.confusion_matrix(ytest, rfpred)\\nconfsumh = np.sum(confmat, axis=0)\\npropconfmat = confmat.copy()\\nfor i in range(propconfmat.shape[0]):\\n    propconfmat[:, i] = 100 * propconfmat[:, i] / confsumh[i]\\npredictedconfusionmatrix_proba_c2.append(propconfmat / 100)\";\n",
       "                var nbb_cells = Jupyter.notebook.get_cells();\n",
       "                for (var i = 0; i < nbb_cells.length; ++i) {\n",
       "                    if (nbb_cells[i].input_prompt_number == nbb_cell_id) {\n",
       "                        if (nbb_cells[i].get_text() == nbb_unformatted_code) {\n",
       "                             nbb_cells[i].set_text(nbb_formatted_code);\n",
       "                        }\n",
       "                        break;\n",
       "                    }\n",
       "                }\n",
       "            }, 500);\n",
       "            "
      ],
      "text/plain": [
       "<IPython.core.display.Javascript object>"
      ]
     },
     "metadata": {},
     "output_type": "display_data"
    }
   ],
   "source": [
    "#=================================================\n",
    "# classs 2\n",
    "#=================================================\n",
    "\n",
    "clf_c2 = []\n",
    "acc_c2 = []\n",
    "predictedprobablities_c2 = []\n",
    "predictedconfusionmatrix_proba_c2 = []\n",
    "\n",
    "ytrain=ytrain_original.copy()\n",
    "ytest=ytest_original.copy()\n",
    "ytrain,ytest= swapcolumns(ytrain,ytest,2)\n",
    "\n",
    "#=================================================\n",
    "\n",
    "rf=RandomForestClassifier(random_state=randomseed, n_estimators=50)\n",
    "rf.fit(xtrain,ytrain)\n",
    "rfpred=rf.predict(xtest)\n",
    "print(m.accuracy_score(ytest,rfpred))\n",
    "\n",
    "clf_c2.append(rf)\n",
    "acc_c2.append(m.accuracy_score(ytest,rfpred))\n",
    "predictedprobablities_c2.append(rf.predict_proba(xtest))\n",
    "\n",
    "confmat=m.confusion_matrix(ytest,rfpred)\n",
    "confsumh=np.sum(confmat,axis=0)\n",
    "propconfmat=confmat.copy()\n",
    "for i in range(propconfmat.shape[0]):\n",
    "    propconfmat[:,i]= 100*propconfmat[:,i]/confsumh[i] \n",
    "predictedconfusionmatrix_proba_c2.append(propconfmat/100)\n"
   ]
  },
  {
   "cell_type": "code",
   "execution_count": 17,
   "metadata": {},
   "outputs": [
    {
     "name": "stdout",
     "output_type": "stream",
     "text": [
      "0.9206349206349206\n"
     ]
    },
    {
     "data": {
      "application/javascript": [
       "\n",
       "            setTimeout(function() {\n",
       "                var nbb_cell_id = 17;\n",
       "                var nbb_unformatted_code = \"ytrain = ytrain_original.copy()\\nytest = ytest_original.copy()\\nytrain, ytest = swapcolumns(ytrain, ytest, 2)\\n# =================================================\\nxgbmodel = xgb.XGBClassifier(random_state=randomseed, n_estimators=50)\\nxgbmodel.fit(xtrain, ytrain)\\nxgbmodelpred = xgbmodel.predict(xtest)\\nprint(m.accuracy_score(ytest, xgbmodelpred))\\n\\nclf_c2.append(xgbmodel)\\nacc_c2.append(m.accuracy_score(ytest, xgbmodelpred))\\npredictedprobablities_c2.append(xgbmodel.predict_proba(xtest))\\n\\nconfmat = m.confusion_matrix(ytest, xgbmodelpred)\\nconfsumh = np.sum(confmat, axis=0)\\npropconfmat = confmat.copy()\\nfor i in range(propconfmat.shape[0]):\\n    propconfmat[:, i] = 100 * propconfmat[:, i] / confsumh[i]\\npredictedconfusionmatrix_proba_c2.append(propconfmat / 100)\";\n",
       "                var nbb_formatted_code = \"ytrain = ytrain_original.copy()\\nytest = ytest_original.copy()\\nytrain, ytest = swapcolumns(ytrain, ytest, 2)\\n# =================================================\\nxgbmodel = xgb.XGBClassifier(random_state=randomseed, n_estimators=50)\\nxgbmodel.fit(xtrain, ytrain)\\nxgbmodelpred = xgbmodel.predict(xtest)\\nprint(m.accuracy_score(ytest, xgbmodelpred))\\n\\nclf_c2.append(xgbmodel)\\nacc_c2.append(m.accuracy_score(ytest, xgbmodelpred))\\npredictedprobablities_c2.append(xgbmodel.predict_proba(xtest))\\n\\nconfmat = m.confusion_matrix(ytest, xgbmodelpred)\\nconfsumh = np.sum(confmat, axis=0)\\npropconfmat = confmat.copy()\\nfor i in range(propconfmat.shape[0]):\\n    propconfmat[:, i] = 100 * propconfmat[:, i] / confsumh[i]\\npredictedconfusionmatrix_proba_c2.append(propconfmat / 100)\";\n",
       "                var nbb_cells = Jupyter.notebook.get_cells();\n",
       "                for (var i = 0; i < nbb_cells.length; ++i) {\n",
       "                    if (nbb_cells[i].input_prompt_number == nbb_cell_id) {\n",
       "                        if (nbb_cells[i].get_text() == nbb_unformatted_code) {\n",
       "                             nbb_cells[i].set_text(nbb_formatted_code);\n",
       "                        }\n",
       "                        break;\n",
       "                    }\n",
       "                }\n",
       "            }, 500);\n",
       "            "
      ],
      "text/plain": [
       "<IPython.core.display.Javascript object>"
      ]
     },
     "metadata": {},
     "output_type": "display_data"
    }
   ],
   "source": [
    "ytrain = ytrain_original.copy()\n",
    "ytest = ytest_original.copy()\n",
    "ytrain, ytest = swapcolumns(ytrain, ytest, 2)\n",
    "# =================================================\n",
    "xgbmodel = xgb.XGBClassifier(random_state=randomseed, n_estimators=50)\n",
    "xgbmodel.fit(xtrain, ytrain)\n",
    "xgbmodelpred = xgbmodel.predict(xtest)\n",
    "print(m.accuracy_score(ytest, xgbmodelpred))\n",
    "\n",
    "clf_c2.append(xgbmodel)\n",
    "acc_c2.append(m.accuracy_score(ytest, xgbmodelpred))\n",
    "predictedprobablities_c2.append(xgbmodel.predict_proba(xtest))\n",
    "\n",
    "confmat = m.confusion_matrix(ytest, xgbmodelpred)\n",
    "confsumh = np.sum(confmat, axis=0)\n",
    "propconfmat = confmat.copy()\n",
    "for i in range(propconfmat.shape[0]):\n",
    "    propconfmat[:, i] = 100 * propconfmat[:, i] / confsumh[i]\n",
    "predictedconfusionmatrix_proba_c2.append(propconfmat / 100)\n"
   ]
  },
  {
   "cell_type": "code",
   "execution_count": 18,
   "metadata": {},
   "outputs": [
    {
     "name": "stdout",
     "output_type": "stream",
     "text": [
      "0.9206349206349206\n"
     ]
    },
    {
     "data": {
      "application/javascript": [
       "\n",
       "            setTimeout(function() {\n",
       "                var nbb_cell_id = 18;\n",
       "                var nbb_unformatted_code = \"ytrain = ytrain_original.copy()\\nytest = ytest_original.copy()\\nytrain, ytest = swapcolumns(ytrain, ytest, 2)\\n# =================================================\\nsvmmodel = svmgpu(random_state=randomseed, probability=True, C=1)\\nsvmmodel.fit(xtrain, ytrain)\\nsvmmodelpred = svmmodel.predict(xtest)\\nprint(m.accuracy_score(ytest, svmmodelpred))\\n\\nclf_c2.append(svmmodel)\\nacc_c2.append(m.accuracy_score(ytest, svmmodelpred))\\npredictedprobablities_c2.append(svmmodel.predict_proba(xtest))\\n\\nconfmat = m.confusion_matrix(ytest, svmmodelpred)\\nconfsumh = np.sum(confmat, axis=0)\\npropconfmat = confmat.copy()\\nfor i in range(propconfmat.shape[0]):\\n    propconfmat[:, i] = 100 * propconfmat[:, i] / confsumh[i]\\npredictedconfusionmatrix_proba_c2.append(propconfmat / 100)\";\n",
       "                var nbb_formatted_code = \"ytrain = ytrain_original.copy()\\nytest = ytest_original.copy()\\nytrain, ytest = swapcolumns(ytrain, ytest, 2)\\n# =================================================\\nsvmmodel = svmgpu(random_state=randomseed, probability=True, C=1)\\nsvmmodel.fit(xtrain, ytrain)\\nsvmmodelpred = svmmodel.predict(xtest)\\nprint(m.accuracy_score(ytest, svmmodelpred))\\n\\nclf_c2.append(svmmodel)\\nacc_c2.append(m.accuracy_score(ytest, svmmodelpred))\\npredictedprobablities_c2.append(svmmodel.predict_proba(xtest))\\n\\nconfmat = m.confusion_matrix(ytest, svmmodelpred)\\nconfsumh = np.sum(confmat, axis=0)\\npropconfmat = confmat.copy()\\nfor i in range(propconfmat.shape[0]):\\n    propconfmat[:, i] = 100 * propconfmat[:, i] / confsumh[i]\\npredictedconfusionmatrix_proba_c2.append(propconfmat / 100)\";\n",
       "                var nbb_cells = Jupyter.notebook.get_cells();\n",
       "                for (var i = 0; i < nbb_cells.length; ++i) {\n",
       "                    if (nbb_cells[i].input_prompt_number == nbb_cell_id) {\n",
       "                        if (nbb_cells[i].get_text() == nbb_unformatted_code) {\n",
       "                             nbb_cells[i].set_text(nbb_formatted_code);\n",
       "                        }\n",
       "                        break;\n",
       "                    }\n",
       "                }\n",
       "            }, 500);\n",
       "            "
      ],
      "text/plain": [
       "<IPython.core.display.Javascript object>"
      ]
     },
     "metadata": {},
     "output_type": "display_data"
    }
   ],
   "source": [
    "ytrain = ytrain_original.copy()\n",
    "ytest = ytest_original.copy()\n",
    "ytrain, ytest = swapcolumns(ytrain, ytest, 2)\n",
    "# =================================================\n",
    "svmmodel = svmgpu(random_state=randomseed, probability=True, C=1)\n",
    "svmmodel.fit(xtrain, ytrain)\n",
    "svmmodelpred = svmmodel.predict(xtest)\n",
    "print(m.accuracy_score(ytest, svmmodelpred))\n",
    "\n",
    "clf_c2.append(svmmodel)\n",
    "acc_c2.append(m.accuracy_score(ytest, svmmodelpred))\n",
    "predictedprobablities_c2.append(svmmodel.predict_proba(xtest))\n",
    "\n",
    "confmat = m.confusion_matrix(ytest, svmmodelpred)\n",
    "confsumh = np.sum(confmat, axis=0)\n",
    "propconfmat = confmat.copy()\n",
    "for i in range(propconfmat.shape[0]):\n",
    "    propconfmat[:, i] = 100 * propconfmat[:, i] / confsumh[i]\n",
    "predictedconfusionmatrix_proba_c2.append(propconfmat / 100)"
   ]
  },
  {
   "cell_type": "markdown",
   "metadata": {},
   "source": [
    "# 2. Combine all the base line models per class\n",
    "====="
   ]
  },
  {
   "cell_type": "code",
   "execution_count": 19,
   "metadata": {},
   "outputs": [
    {
     "name": "stdout",
     "output_type": "stream",
     "text": [
      "0\n",
      "1\n",
      "2\n"
     ]
    },
    {
     "data": {
      "application/javascript": [
       "\n",
       "            setTimeout(function() {\n",
       "                var nbb_cell_id = 19;\n",
       "                var nbb_unformatted_code = \"p_k1_c0 = 0\\np_k1_c1 = 0\\nfor i in range(len(predictedprobablities_c0)):\\n    p_k1_c0 += (\\n        predictedprobablities_c0[i][:, 0] * predictedconfusionmatrix_proba_c0[i][0][0]\\n        + predictedprobablities_c0[i][:, 1] * predictedconfusionmatrix_proba_c0[i][0][1]\\n    )\\n\\n    p_k1_c1 += (\\n        predictedprobablities_c0[0][:, 0] * predictedconfusionmatrix_proba_c0[0][1][0]\\n        + predictedprobablities_c0[0][:, 1] * predictedconfusionmatrix_proba_c0[0][1][1]\\n    )\\n\\n    print(i)\\np_k1_c0 = p_k1_c0 / len(predictedprobablities_c0)\\np_k1_c1 = p_k1_c1 / len(predictedprobablities_c0)\";\n",
       "                var nbb_formatted_code = \"p_k1_c0 = 0\\np_k1_c1 = 0\\nfor i in range(len(predictedprobablities_c0)):\\n    p_k1_c0 += (\\n        predictedprobablities_c0[i][:, 0] * predictedconfusionmatrix_proba_c0[i][0][0]\\n        + predictedprobablities_c0[i][:, 1] * predictedconfusionmatrix_proba_c0[i][0][1]\\n    )\\n\\n    p_k1_c1 += (\\n        predictedprobablities_c0[0][:, 0] * predictedconfusionmatrix_proba_c0[0][1][0]\\n        + predictedprobablities_c0[0][:, 1] * predictedconfusionmatrix_proba_c0[0][1][1]\\n    )\\n\\n    print(i)\\np_k1_c0 = p_k1_c0 / len(predictedprobablities_c0)\\np_k1_c1 = p_k1_c1 / len(predictedprobablities_c0)\";\n",
       "                var nbb_cells = Jupyter.notebook.get_cells();\n",
       "                for (var i = 0; i < nbb_cells.length; ++i) {\n",
       "                    if (nbb_cells[i].input_prompt_number == nbb_cell_id) {\n",
       "                        if (nbb_cells[i].get_text() == nbb_unformatted_code) {\n",
       "                             nbb_cells[i].set_text(nbb_formatted_code);\n",
       "                        }\n",
       "                        break;\n",
       "                    }\n",
       "                }\n",
       "            }, 500);\n",
       "            "
      ],
      "text/plain": [
       "<IPython.core.display.Javascript object>"
      ]
     },
     "metadata": {},
     "output_type": "display_data"
    }
   ],
   "source": [
    "p_k1_c0 = 0\n",
    "p_k1_c1 = 0\n",
    "for i in range(len(predictedprobablities_c0)):\n",
    "    p_k1_c0 += (\n",
    "        predictedprobablities_c0[i][:, 0] * predictedconfusionmatrix_proba_c0[i][0][0]\n",
    "        + predictedprobablities_c0[i][:, 1] * predictedconfusionmatrix_proba_c0[i][0][1]\n",
    "    )\n",
    "\n",
    "    p_k1_c1 += (\n",
    "        predictedprobablities_c0[0][:, 0] * predictedconfusionmatrix_proba_c0[0][1][0]\n",
    "        + predictedprobablities_c0[0][:, 1] * predictedconfusionmatrix_proba_c0[0][1][1]\n",
    "    )\n",
    "\n",
    "    print(i)\n",
    "p_k1_c0 = p_k1_c0 / len(predictedprobablities_c0)\n",
    "p_k1_c1 = p_k1_c1 / len(predictedprobablities_c0)"
   ]
  },
  {
   "cell_type": "code",
   "execution_count": 20,
   "metadata": {},
   "outputs": [
    {
     "name": "stdout",
     "output_type": "stream",
     "text": [
      "0\n",
      "1\n",
      "2\n"
     ]
    },
    {
     "data": {
      "application/javascript": [
       "\n",
       "            setTimeout(function() {\n",
       "                var nbb_cell_id = 20;\n",
       "                var nbb_unformatted_code = \"p_k2_c0 = 0\\np_k2_c1 = 0\\nfor i in range(len(predictedprobablities_c1)):\\n    p_k2_c0 += (\\n        predictedprobablities_c1[i][:, 0] * predictedconfusionmatrix_proba_c1[i][0][0]\\n        + predictedprobablities_c1[i][:, 1] * predictedconfusionmatrix_proba_c1[i][0][1]\\n    )\\n\\n    p_k2_c1 += (\\n        predictedprobablities_c1[i][:, 0] * predictedconfusionmatrix_proba_c1[i][1][0]\\n        + predictedprobablities_c1[i][:, 1] * predictedconfusionmatrix_proba_c1[i][1][1]\\n    )\\n\\n    print(i)\\np_k2_c0 = p_k2_c0 / len(predictedprobablities_c0)\\np_k2_c1 = p_k2_c1 / len(predictedprobablities_c0)\";\n",
       "                var nbb_formatted_code = \"p_k2_c0 = 0\\np_k2_c1 = 0\\nfor i in range(len(predictedprobablities_c1)):\\n    p_k2_c0 += (\\n        predictedprobablities_c1[i][:, 0] * predictedconfusionmatrix_proba_c1[i][0][0]\\n        + predictedprobablities_c1[i][:, 1] * predictedconfusionmatrix_proba_c1[i][0][1]\\n    )\\n\\n    p_k2_c1 += (\\n        predictedprobablities_c1[i][:, 0] * predictedconfusionmatrix_proba_c1[i][1][0]\\n        + predictedprobablities_c1[i][:, 1] * predictedconfusionmatrix_proba_c1[i][1][1]\\n    )\\n\\n    print(i)\\np_k2_c0 = p_k2_c0 / len(predictedprobablities_c0)\\np_k2_c1 = p_k2_c1 / len(predictedprobablities_c0)\";\n",
       "                var nbb_cells = Jupyter.notebook.get_cells();\n",
       "                for (var i = 0; i < nbb_cells.length; ++i) {\n",
       "                    if (nbb_cells[i].input_prompt_number == nbb_cell_id) {\n",
       "                        if (nbb_cells[i].get_text() == nbb_unformatted_code) {\n",
       "                             nbb_cells[i].set_text(nbb_formatted_code);\n",
       "                        }\n",
       "                        break;\n",
       "                    }\n",
       "                }\n",
       "            }, 500);\n",
       "            "
      ],
      "text/plain": [
       "<IPython.core.display.Javascript object>"
      ]
     },
     "metadata": {},
     "output_type": "display_data"
    }
   ],
   "source": [
    "p_k2_c0 = 0\n",
    "p_k2_c1 = 0\n",
    "for i in range(len(predictedprobablities_c1)):\n",
    "    p_k2_c0 += (\n",
    "        predictedprobablities_c1[i][:, 0] * predictedconfusionmatrix_proba_c1[i][0][0]\n",
    "        + predictedprobablities_c1[i][:, 1] * predictedconfusionmatrix_proba_c1[i][0][1]\n",
    "    )\n",
    "\n",
    "    p_k2_c1 += (\n",
    "        predictedprobablities_c1[i][:, 0] * predictedconfusionmatrix_proba_c1[i][1][0]\n",
    "        + predictedprobablities_c1[i][:, 1] * predictedconfusionmatrix_proba_c1[i][1][1]\n",
    "    )\n",
    "\n",
    "    print(i)\n",
    "p_k2_c0 = p_k2_c0 / len(predictedprobablities_c0)\n",
    "p_k2_c1 = p_k2_c1 / len(predictedprobablities_c0)"
   ]
  },
  {
   "cell_type": "code",
   "execution_count": 21,
   "metadata": {},
   "outputs": [
    {
     "name": "stdout",
     "output_type": "stream",
     "text": [
      "0\n",
      "1\n",
      "2\n"
     ]
    },
    {
     "data": {
      "application/javascript": [
       "\n",
       "            setTimeout(function() {\n",
       "                var nbb_cell_id = 21;\n",
       "                var nbb_unformatted_code = \"p_k3_c0 = 0\\np_k3_c1 = 0\\nfor i in range(len(predictedprobablities_c2)):\\n    p_k3_c0 += (\\n        predictedprobablities_c2[i][:, 0] * predictedconfusionmatrix_proba_c2[i][0][0]\\n        + predictedprobablities_c2[i][:, 1] * predictedconfusionmatrix_proba_c2[i][0][1]\\n    )\\n\\n    p_k3_c1 += (\\n        predictedprobablities_c2[i][:, 0] * predictedconfusionmatrix_proba_c2[i][1][0]\\n        + predictedprobablities_c2[i][:, 1] * predictedconfusionmatrix_proba_c2[i][1][1]\\n    )\\n\\n    print(i)\\np_k3_c0 = p_k3_c0 / len(predictedprobablities_c2)\\np_k3_c1 = p_k3_c1 / len(predictedprobablities_c2)\";\n",
       "                var nbb_formatted_code = \"p_k3_c0 = 0\\np_k3_c1 = 0\\nfor i in range(len(predictedprobablities_c2)):\\n    p_k3_c0 += (\\n        predictedprobablities_c2[i][:, 0] * predictedconfusionmatrix_proba_c2[i][0][0]\\n        + predictedprobablities_c2[i][:, 1] * predictedconfusionmatrix_proba_c2[i][0][1]\\n    )\\n\\n    p_k3_c1 += (\\n        predictedprobablities_c2[i][:, 0] * predictedconfusionmatrix_proba_c2[i][1][0]\\n        + predictedprobablities_c2[i][:, 1] * predictedconfusionmatrix_proba_c2[i][1][1]\\n    )\\n\\n    print(i)\\np_k3_c0 = p_k3_c0 / len(predictedprobablities_c2)\\np_k3_c1 = p_k3_c1 / len(predictedprobablities_c2)\";\n",
       "                var nbb_cells = Jupyter.notebook.get_cells();\n",
       "                for (var i = 0; i < nbb_cells.length; ++i) {\n",
       "                    if (nbb_cells[i].input_prompt_number == nbb_cell_id) {\n",
       "                        if (nbb_cells[i].get_text() == nbb_unformatted_code) {\n",
       "                             nbb_cells[i].set_text(nbb_formatted_code);\n",
       "                        }\n",
       "                        break;\n",
       "                    }\n",
       "                }\n",
       "            }, 500);\n",
       "            "
      ],
      "text/plain": [
       "<IPython.core.display.Javascript object>"
      ]
     },
     "metadata": {},
     "output_type": "display_data"
    }
   ],
   "source": [
    "p_k3_c0 = 0\n",
    "p_k3_c1 = 0\n",
    "for i in range(len(predictedprobablities_c2)):\n",
    "    p_k3_c0 += (\n",
    "        predictedprobablities_c2[i][:, 0] * predictedconfusionmatrix_proba_c2[i][0][0]\n",
    "        + predictedprobablities_c2[i][:, 1] * predictedconfusionmatrix_proba_c2[i][0][1]\n",
    "    )\n",
    "\n",
    "    p_k3_c1 += (\n",
    "        predictedprobablities_c2[i][:, 0] * predictedconfusionmatrix_proba_c2[i][1][0]\n",
    "        + predictedprobablities_c2[i][:, 1] * predictedconfusionmatrix_proba_c2[i][1][1]\n",
    "    )\n",
    "\n",
    "    print(i)\n",
    "p_k3_c0 = p_k3_c0 / len(predictedprobablities_c2)\n",
    "p_k3_c1 = p_k3_c1 / len(predictedprobablities_c2)"
   ]
  },
  {
   "cell_type": "markdown",
   "metadata": {},
   "source": [
    "# 3. Calculate the probabilities of each class\n",
    "===="
   ]
  },
  {
   "cell_type": "code",
   "execution_count": 22,
   "metadata": {
    "scrolled": true
   },
   "outputs": [
    {
     "data": {
      "application/javascript": [
       "\n",
       "            setTimeout(function() {\n",
       "                var nbb_cell_id = 22;\n",
       "                var nbb_unformatted_code = \"\\n# ci0 = ci1 = ci2 = 1 \\n \\n\\n\\np_k1_c0 = p_k1_c0 + (p_k2_c1 * p_k3_c1)\\n\\n\\np_k2_c0 =p_k2_c0 + (p_k1_c1 * p_k3_c1)\\n\\np_k3_c0 = p_k3_c0 + (p_k2_c1 * p_k1_c1)\";\n",
       "                var nbb_formatted_code = \"# ci0 = ci1 = ci2 = 1\\n\\n\\np_k1_c0 = p_k1_c0 + (p_k2_c1 * p_k3_c1)\\n\\n\\np_k2_c0 = p_k2_c0 + (p_k1_c1 * p_k3_c1)\\n\\np_k3_c0 = p_k3_c0 + (p_k2_c1 * p_k1_c1)\";\n",
       "                var nbb_cells = Jupyter.notebook.get_cells();\n",
       "                for (var i = 0; i < nbb_cells.length; ++i) {\n",
       "                    if (nbb_cells[i].input_prompt_number == nbb_cell_id) {\n",
       "                        if (nbb_cells[i].get_text() == nbb_unformatted_code) {\n",
       "                             nbb_cells[i].set_text(nbb_formatted_code);\n",
       "                        }\n",
       "                        break;\n",
       "                    }\n",
       "                }\n",
       "            }, 500);\n",
       "            "
      ],
      "text/plain": [
       "<IPython.core.display.Javascript object>"
      ]
     },
     "metadata": {},
     "output_type": "display_data"
    }
   ],
   "source": [
    "\n",
    "# ci0 = ci1 = ci2 = 1 \n",
    " \n",
    "\n",
    "\n",
    "p_k1_c0 = p_k1_c0 + (p_k2_c1 * p_k3_c1)\n",
    "\n",
    "\n",
    "p_k2_c0 =p_k2_c0 + (p_k1_c1 * p_k3_c1)\n",
    "\n",
    "p_k3_c0 = p_k3_c0 + (p_k2_c1 * p_k1_c1)\n",
    "\n"
   ]
  },
  {
   "cell_type": "code",
   "execution_count": 23,
   "metadata": {},
   "outputs": [
    {
     "name": "stdout",
     "output_type": "stream",
     "text": [
      "0.9365079365079365\n",
      "[[18  0  4]\n",
      " [ 0 22  0]\n",
      " [ 0  0 19]]\n"
     ]
    },
    {
     "data": {
      "application/javascript": [
       "\n",
       "            setTimeout(function() {\n",
       "                var nbb_cell_id = 23;\n",
       "                var nbb_unformatted_code = \"finalcol = np.zeros((ytest.shape[0], 3))\\nfinalcol[:, 0] = p_k1_c0\\nfinalcol[:, 1] = p_k2_c0\\nfinalcol[:, 2] = p_k3_c0\\nfinalpred = np.argmax(finalcol, axis=1)\\n\\nytest = ytest_original.copy()\\nprint(m.accuracy_score(ytest, finalpred))\\nprint(m.confusion_matrix(ytest, finalpred))\";\n",
       "                var nbb_formatted_code = \"finalcol = np.zeros((ytest.shape[0], 3))\\nfinalcol[:, 0] = p_k1_c0\\nfinalcol[:, 1] = p_k2_c0\\nfinalcol[:, 2] = p_k3_c0\\nfinalpred = np.argmax(finalcol, axis=1)\\n\\nytest = ytest_original.copy()\\nprint(m.accuracy_score(ytest, finalpred))\\nprint(m.confusion_matrix(ytest, finalpred))\";\n",
       "                var nbb_cells = Jupyter.notebook.get_cells();\n",
       "                for (var i = 0; i < nbb_cells.length; ++i) {\n",
       "                    if (nbb_cells[i].input_prompt_number == nbb_cell_id) {\n",
       "                        if (nbb_cells[i].get_text() == nbb_unformatted_code) {\n",
       "                             nbb_cells[i].set_text(nbb_formatted_code);\n",
       "                        }\n",
       "                        break;\n",
       "                    }\n",
       "                }\n",
       "            }, 500);\n",
       "            "
      ],
      "text/plain": [
       "<IPython.core.display.Javascript object>"
      ]
     },
     "metadata": {},
     "output_type": "display_data"
    }
   ],
   "source": [
    "finalcol = np.zeros((ytest.shape[0], 3))\n",
    "finalcol[:, 0] = p_k1_c0\n",
    "finalcol[:, 1] = p_k2_c0\n",
    "finalcol[:, 2] = p_k3_c0\n",
    "finalpred = np.argmax(finalcol, axis=1)\n",
    "\n",
    "ytest = ytest_original.copy()\n",
    "print(m.accuracy_score(ytest, finalpred))\n",
    "print(m.confusion_matrix(ytest, finalpred))"
   ]
  },
  {
   "cell_type": "code",
   "execution_count": 24,
   "metadata": {},
   "outputs": [
    {
     "name": "stdout",
     "output_type": "stream",
     "text": [
      "0.9365079365079365\n",
      "[[18  0  4]\n",
      " [ 0 22  0]\n",
      " [ 0  0 19]]\n"
     ]
    },
    {
     "data": {
      "application/javascript": [
       "\n",
       "            setTimeout(function() {\n",
       "                var nbb_cell_id = 24;\n",
       "                var nbb_unformatted_code = \"\\nfinalcol = np.zeros((ytest.shape[0], 3))\\nfinalcol[:, 0] = p_k1_c1\\nfinalcol[:, 1] = p_k2_c1\\nfinalcol[:, 2] = p_k3_c1\\nfinalpred = np.argmin(finalcol, axis=1)\\n\\nytest = ytest_original.copy()\\nprint(m.accuracy_score(ytest, finalpred))\\nprint(m.confusion_matrix(ytest, finalpred))\";\n",
       "                var nbb_formatted_code = \"finalcol = np.zeros((ytest.shape[0], 3))\\nfinalcol[:, 0] = p_k1_c1\\nfinalcol[:, 1] = p_k2_c1\\nfinalcol[:, 2] = p_k3_c1\\nfinalpred = np.argmin(finalcol, axis=1)\\n\\nytest = ytest_original.copy()\\nprint(m.accuracy_score(ytest, finalpred))\\nprint(m.confusion_matrix(ytest, finalpred))\";\n",
       "                var nbb_cells = Jupyter.notebook.get_cells();\n",
       "                for (var i = 0; i < nbb_cells.length; ++i) {\n",
       "                    if (nbb_cells[i].input_prompt_number == nbb_cell_id) {\n",
       "                        if (nbb_cells[i].get_text() == nbb_unformatted_code) {\n",
       "                             nbb_cells[i].set_text(nbb_formatted_code);\n",
       "                        }\n",
       "                        break;\n",
       "                    }\n",
       "                }\n",
       "            }, 500);\n",
       "            "
      ],
      "text/plain": [
       "<IPython.core.display.Javascript object>"
      ]
     },
     "metadata": {},
     "output_type": "display_data"
    }
   ],
   "source": [
    "\n",
    "finalcol = np.zeros((ytest.shape[0], 3))\n",
    "finalcol[:, 0] = p_k1_c1\n",
    "finalcol[:, 1] = p_k2_c1\n",
    "finalcol[:, 2] = p_k3_c1\n",
    "finalpred = np.argmin(finalcol, axis=1)\n",
    "\n",
    "ytest = ytest_original.copy()\n",
    "print(m.accuracy_score(ytest, finalpred))\n",
    "print(m.confusion_matrix(ytest, finalpred))\n"
   ]
  },
  {
   "cell_type": "code",
   "execution_count": null,
   "metadata": {},
   "outputs": [],
   "source": [
    "0.9365079365079365"
   ]
  },
  {
   "cell_type": "code",
   "execution_count": null,
   "metadata": {},
   "outputs": [],
   "source": []
  },
  {
   "cell_type": "code",
   "execution_count": null,
   "metadata": {},
   "outputs": [],
   "source": []
  }
 ],
 "metadata": {
  "kernelspec": {
   "display_name": "Python 3",
   "language": "python",
   "name": "python3"
  },
  "language_info": {
   "codemirror_mode": {
    "name": "ipython",
    "version": 3
   },
   "file_extension": ".py",
   "mimetype": "text/x-python",
   "name": "python",
   "nbconvert_exporter": "python",
   "pygments_lexer": "ipython3",
   "version": "3.7.3"
  }
 },
 "nbformat": 4,
 "nbformat_minor": 2
}
