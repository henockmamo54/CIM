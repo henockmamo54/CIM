{
 "cells": [
  {
   "cell_type": "code",
   "execution_count": 1,
   "metadata": {},
   "outputs": [
    {
     "data": {
      "application/javascript": [
       "\n",
       "            setTimeout(function() {\n",
       "                var nbb_cell_id = 1;\n",
       "                var nbb_unformatted_code = \"%load_ext nb_black\";\n",
       "                var nbb_formatted_code = \"%load_ext nb_black\";\n",
       "                var nbb_cells = Jupyter.notebook.get_cells();\n",
       "                for (var i = 0; i < nbb_cells.length; ++i) {\n",
       "                    if (nbb_cells[i].input_prompt_number == nbb_cell_id) {\n",
       "                        if (nbb_cells[i].get_text() == nbb_unformatted_code) {\n",
       "                             nbb_cells[i].set_text(nbb_formatted_code);\n",
       "                        }\n",
       "                        break;\n",
       "                    }\n",
       "                }\n",
       "            }, 500);\n",
       "            "
      ],
      "text/plain": [
       "<IPython.core.display.Javascript object>"
      ]
     },
     "metadata": {},
     "output_type": "display_data"
    }
   ],
   "source": [
    "%load_ext nb_black"
   ]
  },
  {
   "cell_type": "code",
   "execution_count": 2,
   "metadata": {},
   "outputs": [
    {
     "data": {
      "application/javascript": [
       "\n",
       "            setTimeout(function() {\n",
       "                var nbb_cell_id = 2;\n",
       "                var nbb_unformatted_code = \"import numpy as np\\nimport pandas as pd\\nfrom sklearn import metrics as m\";\n",
       "                var nbb_formatted_code = \"import numpy as np\\nimport pandas as pd\\nfrom sklearn import metrics as m\";\n",
       "                var nbb_cells = Jupyter.notebook.get_cells();\n",
       "                for (var i = 0; i < nbb_cells.length; ++i) {\n",
       "                    if (nbb_cells[i].input_prompt_number == nbb_cell_id) {\n",
       "                        if (nbb_cells[i].get_text() == nbb_unformatted_code) {\n",
       "                             nbb_cells[i].set_text(nbb_formatted_code);\n",
       "                        }\n",
       "                        break;\n",
       "                    }\n",
       "                }\n",
       "            }, 500);\n",
       "            "
      ],
      "text/plain": [
       "<IPython.core.display.Javascript object>"
      ]
     },
     "metadata": {},
     "output_type": "display_data"
    }
   ],
   "source": [
    "import numpy as np\n",
    "import pandas as pd\n",
    "from sklearn import metrics as m"
   ]
  },
  {
   "cell_type": "code",
   "execution_count": 3,
   "metadata": {},
   "outputs": [
    {
     "data": {
      "application/javascript": [
       "\n",
       "            setTimeout(function() {\n",
       "                var nbb_cell_id = 3;\n",
       "                var nbb_unformatted_code = \"pd_acc_class0 = pd.read_csv(\\\"pd_acc_class0.txt\\\")\\npd_ypredproba_all_class0 = pd.read_csv(\\\"pd_ypredproba_all_class0.txt\\\")\\npd_ypredconfprob_all_class0 = pd.read_csv(\\\"pd_ypredconfprob_all_class0.txt\\\")\";\n",
       "                var nbb_formatted_code = \"pd_acc_class0 = pd.read_csv(\\\"pd_acc_class0.txt\\\")\\npd_ypredproba_all_class0 = pd.read_csv(\\\"pd_ypredproba_all_class0.txt\\\")\\npd_ypredconfprob_all_class0 = pd.read_csv(\\\"pd_ypredconfprob_all_class0.txt\\\")\";\n",
       "                var nbb_cells = Jupyter.notebook.get_cells();\n",
       "                for (var i = 0; i < nbb_cells.length; ++i) {\n",
       "                    if (nbb_cells[i].input_prompt_number == nbb_cell_id) {\n",
       "                        if (nbb_cells[i].get_text() == nbb_unformatted_code) {\n",
       "                             nbb_cells[i].set_text(nbb_formatted_code);\n",
       "                        }\n",
       "                        break;\n",
       "                    }\n",
       "                }\n",
       "            }, 500);\n",
       "            "
      ],
      "text/plain": [
       "<IPython.core.display.Javascript object>"
      ]
     },
     "metadata": {},
     "output_type": "display_data"
    }
   ],
   "source": [
    "pd_acc_class0 = pd.read_csv(\"pd_acc_class0.txt\")\n",
    "pd_ypredproba_all_class0 = pd.read_csv(\"pd_ypredproba_all_class0.txt\")\n",
    "pd_ypredconfprob_all_class0 = pd.read_csv(\"pd_ypredconfprob_all_class0.txt\")"
   ]
  },
  {
   "cell_type": "code",
   "execution_count": 4,
   "metadata": {},
   "outputs": [
    {
     "data": {
      "application/javascript": [
       "\n",
       "            setTimeout(function() {\n",
       "                var nbb_cell_id = 4;\n",
       "                var nbb_unformatted_code = \"pd_acc_class1 = pd.read_csv(\\\"pd_acc_class1.txt\\\")\\npd_ypredproba_all_class1 = pd.read_csv(\\\"pd_ypredproba_all_class1.txt\\\")\\npd_ypredconfprob_all_class1 = pd.read_csv(\\\"pd_ypredconfprob_all_class1.txt\\\")\";\n",
       "                var nbb_formatted_code = \"pd_acc_class1 = pd.read_csv(\\\"pd_acc_class1.txt\\\")\\npd_ypredproba_all_class1 = pd.read_csv(\\\"pd_ypredproba_all_class1.txt\\\")\\npd_ypredconfprob_all_class1 = pd.read_csv(\\\"pd_ypredconfprob_all_class1.txt\\\")\";\n",
       "                var nbb_cells = Jupyter.notebook.get_cells();\n",
       "                for (var i = 0; i < nbb_cells.length; ++i) {\n",
       "                    if (nbb_cells[i].input_prompt_number == nbb_cell_id) {\n",
       "                        if (nbb_cells[i].get_text() == nbb_unformatted_code) {\n",
       "                             nbb_cells[i].set_text(nbb_formatted_code);\n",
       "                        }\n",
       "                        break;\n",
       "                    }\n",
       "                }\n",
       "            }, 500);\n",
       "            "
      ],
      "text/plain": [
       "<IPython.core.display.Javascript object>"
      ]
     },
     "metadata": {},
     "output_type": "display_data"
    }
   ],
   "source": [
    "pd_acc_class1 = pd.read_csv(\"pd_acc_class1.txt\")\n",
    "pd_ypredproba_all_class1 = pd.read_csv(\"pd_ypredproba_all_class1.txt\")\n",
    "pd_ypredconfprob_all_class1 = pd.read_csv(\"pd_ypredconfprob_all_class1.txt\")"
   ]
  },
  {
   "cell_type": "code",
   "execution_count": 5,
   "metadata": {},
   "outputs": [
    {
     "data": {
      "application/javascript": [
       "\n",
       "            setTimeout(function() {\n",
       "                var nbb_cell_id = 5;\n",
       "                var nbb_unformatted_code = \"pd_acc_class2 = pd.read_csv(\\\"pd_acc_class2.txt\\\")\\npd_ypredproba_all_class2 = pd.read_csv(\\\"pd_ypredproba_all_class2.txt\\\")\\npd_ypredconfprob_all_class2 = pd.read_csv(\\\"pd_ypredconfprob_all_class2.txt\\\")\";\n",
       "                var nbb_formatted_code = \"pd_acc_class2 = pd.read_csv(\\\"pd_acc_class2.txt\\\")\\npd_ypredproba_all_class2 = pd.read_csv(\\\"pd_ypredproba_all_class2.txt\\\")\\npd_ypredconfprob_all_class2 = pd.read_csv(\\\"pd_ypredconfprob_all_class2.txt\\\")\";\n",
       "                var nbb_cells = Jupyter.notebook.get_cells();\n",
       "                for (var i = 0; i < nbb_cells.length; ++i) {\n",
       "                    if (nbb_cells[i].input_prompt_number == nbb_cell_id) {\n",
       "                        if (nbb_cells[i].get_text() == nbb_unformatted_code) {\n",
       "                             nbb_cells[i].set_text(nbb_formatted_code);\n",
       "                        }\n",
       "                        break;\n",
       "                    }\n",
       "                }\n",
       "            }, 500);\n",
       "            "
      ],
      "text/plain": [
       "<IPython.core.display.Javascript object>"
      ]
     },
     "metadata": {},
     "output_type": "display_data"
    }
   ],
   "source": [
    "pd_acc_class2 = pd.read_csv(\"pd_acc_class2.txt\")\n",
    "pd_ypredproba_all_class2 = pd.read_csv(\"pd_ypredproba_all_class2.txt\")\n",
    "pd_ypredconfprob_all_class2 = pd.read_csv(\"pd_ypredconfprob_all_class2.txt\")"
   ]
  },
  {
   "cell_type": "code",
   "execution_count": 6,
   "metadata": {},
   "outputs": [
    {
     "data": {
      "application/javascript": [
       "\n",
       "            setTimeout(function() {\n",
       "                var nbb_cell_id = 6;\n",
       "                var nbb_unformatted_code = \"ytest_class0 = pd.read_csv(\\\"ytest_class0.txt\\\")\\nytest_class1 = pd.read_csv(\\\"ytest_class1.txt\\\")\\nytest_class2 = pd.read_csv(\\\"ytest_class2.txt\\\")\\nytest_original = pd.read_csv(\\\"ytest_original.txt\\\")\";\n",
       "                var nbb_formatted_code = \"ytest_class0 = pd.read_csv(\\\"ytest_class0.txt\\\")\\nytest_class1 = pd.read_csv(\\\"ytest_class1.txt\\\")\\nytest_class2 = pd.read_csv(\\\"ytest_class2.txt\\\")\\nytest_original = pd.read_csv(\\\"ytest_original.txt\\\")\";\n",
       "                var nbb_cells = Jupyter.notebook.get_cells();\n",
       "                for (var i = 0; i < nbb_cells.length; ++i) {\n",
       "                    if (nbb_cells[i].input_prompt_number == nbb_cell_id) {\n",
       "                        if (nbb_cells[i].get_text() == nbb_unformatted_code) {\n",
       "                             nbb_cells[i].set_text(nbb_formatted_code);\n",
       "                        }\n",
       "                        break;\n",
       "                    }\n",
       "                }\n",
       "            }, 500);\n",
       "            "
      ],
      "text/plain": [
       "<IPython.core.display.Javascript object>"
      ]
     },
     "metadata": {},
     "output_type": "display_data"
    }
   ],
   "source": [
    "ytest_class0 = pd.read_csv(\"ytest_class0.txt\")\n",
    "ytest_class1 = pd.read_csv(\"ytest_class1.txt\")\n",
    "ytest_class2 = pd.read_csv(\"ytest_class2.txt\")\n",
    "ytest_original = pd.read_csv(\"ytest_original.txt\")"
   ]
  },
  {
   "cell_type": "code",
   "execution_count": 7,
   "metadata": {},
   "outputs": [
    {
     "data": {
      "text/html": [
       "<div>\n",
       "<style scoped>\n",
       "    .dataframe tbody tr th:only-of-type {\n",
       "        vertical-align: middle;\n",
       "    }\n",
       "\n",
       "    .dataframe tbody tr th {\n",
       "        vertical-align: top;\n",
       "    }\n",
       "\n",
       "    .dataframe thead th {\n",
       "        text-align: right;\n",
       "    }\n",
       "</style>\n",
       "<table border=\"1\" class=\"dataframe\">\n",
       "  <thead>\n",
       "    <tr style=\"text-align: right;\">\n",
       "      <th></th>\n",
       "      <th>0</th>\n",
       "      <th>1</th>\n",
       "      <th>2</th>\n",
       "      <th>3</th>\n",
       "      <th>4</th>\n",
       "      <th>5</th>\n",
       "      <th>6</th>\n",
       "      <th>7</th>\n",
       "      <th>8</th>\n",
       "      <th>9</th>\n",
       "      <th>...</th>\n",
       "      <th>590</th>\n",
       "      <th>591</th>\n",
       "      <th>592</th>\n",
       "      <th>593</th>\n",
       "      <th>594</th>\n",
       "      <th>595</th>\n",
       "      <th>596</th>\n",
       "      <th>597</th>\n",
       "      <th>598</th>\n",
       "      <th>599</th>\n",
       "    </tr>\n",
       "  </thead>\n",
       "  <tbody>\n",
       "    <tr>\n",
       "      <th>0</th>\n",
       "      <td>0.000000</td>\n",
       "      <td>0.000000</td>\n",
       "      <td>0.100000</td>\n",
       "      <td>0.000000</td>\n",
       "      <td>0.000000</td>\n",
       "      <td>0.600000</td>\n",
       "      <td>0.000000</td>\n",
       "      <td>0.000000</td>\n",
       "      <td>0.000000</td>\n",
       "      <td>0.300000</td>\n",
       "      <td>...</td>\n",
       "      <td>0.500000</td>\n",
       "      <td>0.200000</td>\n",
       "      <td>1.000000</td>\n",
       "      <td>0.800000</td>\n",
       "      <td>0.800000</td>\n",
       "      <td>0.800000</td>\n",
       "      <td>0.200000</td>\n",
       "      <td>1.000000</td>\n",
       "      <td>0.700000</td>\n",
       "      <td>0.300000</td>\n",
       "    </tr>\n",
       "    <tr>\n",
       "      <th>1</th>\n",
       "      <td>0.053085</td>\n",
       "      <td>0.035696</td>\n",
       "      <td>0.101903</td>\n",
       "      <td>0.042193</td>\n",
       "      <td>0.228468</td>\n",
       "      <td>0.396880</td>\n",
       "      <td>0.160072</td>\n",
       "      <td>0.004607</td>\n",
       "      <td>0.065926</td>\n",
       "      <td>0.187085</td>\n",
       "      <td>...</td>\n",
       "      <td>0.256247</td>\n",
       "      <td>0.161606</td>\n",
       "      <td>0.733219</td>\n",
       "      <td>0.802460</td>\n",
       "      <td>0.481447</td>\n",
       "      <td>0.850987</td>\n",
       "      <td>0.445272</td>\n",
       "      <td>0.808809</td>\n",
       "      <td>0.741343</td>\n",
       "      <td>0.294490</td>\n",
       "    </tr>\n",
       "    <tr>\n",
       "      <th>2</th>\n",
       "      <td>0.001439</td>\n",
       "      <td>0.002363</td>\n",
       "      <td>0.058239</td>\n",
       "      <td>0.005408</td>\n",
       "      <td>0.002295</td>\n",
       "      <td>0.681239</td>\n",
       "      <td>0.000936</td>\n",
       "      <td>0.003650</td>\n",
       "      <td>0.002405</td>\n",
       "      <td>0.100384</td>\n",
       "      <td>...</td>\n",
       "      <td>0.604715</td>\n",
       "      <td>0.109936</td>\n",
       "      <td>0.803831</td>\n",
       "      <td>0.869039</td>\n",
       "      <td>0.684544</td>\n",
       "      <td>0.908467</td>\n",
       "      <td>0.236095</td>\n",
       "      <td>0.878567</td>\n",
       "      <td>0.813042</td>\n",
       "      <td>0.438247</td>\n",
       "    </tr>\n",
       "    <tr>\n",
       "      <th>3</th>\n",
       "      <td>0.000000</td>\n",
       "      <td>0.060000</td>\n",
       "      <td>0.240000</td>\n",
       "      <td>0.000000</td>\n",
       "      <td>0.020000</td>\n",
       "      <td>0.340000</td>\n",
       "      <td>0.100000</td>\n",
       "      <td>0.060000</td>\n",
       "      <td>0.000000</td>\n",
       "      <td>0.200000</td>\n",
       "      <td>...</td>\n",
       "      <td>0.620000</td>\n",
       "      <td>0.280000</td>\n",
       "      <td>0.660000</td>\n",
       "      <td>0.500000</td>\n",
       "      <td>0.560000</td>\n",
       "      <td>0.780000</td>\n",
       "      <td>0.400000</td>\n",
       "      <td>0.820000</td>\n",
       "      <td>0.570000</td>\n",
       "      <td>0.400000</td>\n",
       "    </tr>\n",
       "    <tr>\n",
       "      <th>4</th>\n",
       "      <td>0.004383</td>\n",
       "      <td>0.008302</td>\n",
       "      <td>0.072385</td>\n",
       "      <td>0.010435</td>\n",
       "      <td>0.007669</td>\n",
       "      <td>0.692125</td>\n",
       "      <td>0.004383</td>\n",
       "      <td>0.008084</td>\n",
       "      <td>0.005516</td>\n",
       "      <td>0.109870</td>\n",
       "      <td>...</td>\n",
       "      <td>0.616562</td>\n",
       "      <td>0.136697</td>\n",
       "      <td>0.800308</td>\n",
       "      <td>0.858310</td>\n",
       "      <td>0.652514</td>\n",
       "      <td>0.884555</td>\n",
       "      <td>0.248048</td>\n",
       "      <td>0.868501</td>\n",
       "      <td>0.784045</td>\n",
       "      <td>0.426801</td>\n",
       "    </tr>\n",
       "  </tbody>\n",
       "</table>\n",
       "<p>5 rows × 600 columns</p>\n",
       "</div>"
      ],
      "text/plain": [
       "          0         1         2         3         4         5         6  \\\n",
       "0  0.000000  0.000000  0.100000  0.000000  0.000000  0.600000  0.000000   \n",
       "1  0.053085  0.035696  0.101903  0.042193  0.228468  0.396880  0.160072   \n",
       "2  0.001439  0.002363  0.058239  0.005408  0.002295  0.681239  0.000936   \n",
       "3  0.000000  0.060000  0.240000  0.000000  0.020000  0.340000  0.100000   \n",
       "4  0.004383  0.008302  0.072385  0.010435  0.007669  0.692125  0.004383   \n",
       "\n",
       "          7         8         9  ...       590       591       592       593  \\\n",
       "0  0.000000  0.000000  0.300000  ...  0.500000  0.200000  1.000000  0.800000   \n",
       "1  0.004607  0.065926  0.187085  ...  0.256247  0.161606  0.733219  0.802460   \n",
       "2  0.003650  0.002405  0.100384  ...  0.604715  0.109936  0.803831  0.869039   \n",
       "3  0.060000  0.000000  0.200000  ...  0.620000  0.280000  0.660000  0.500000   \n",
       "4  0.008084  0.005516  0.109870  ...  0.616562  0.136697  0.800308  0.858310   \n",
       "\n",
       "        594       595       596       597       598       599  \n",
       "0  0.800000  0.800000  0.200000  1.000000  0.700000  0.300000  \n",
       "1  0.481447  0.850987  0.445272  0.808809  0.741343  0.294490  \n",
       "2  0.684544  0.908467  0.236095  0.878567  0.813042  0.438247  \n",
       "3  0.560000  0.780000  0.400000  0.820000  0.570000  0.400000  \n",
       "4  0.652514  0.884555  0.248048  0.868501  0.784045  0.426801  \n",
       "\n",
       "[5 rows x 600 columns]"
      ]
     },
     "execution_count": 7,
     "metadata": {},
     "output_type": "execute_result"
    },
    {
     "data": {
      "application/javascript": [
       "\n",
       "            setTimeout(function() {\n",
       "                var nbb_cell_id = 7;\n",
       "                var nbb_unformatted_code = \"pd_ypredproba_all_class0.head()\";\n",
       "                var nbb_formatted_code = \"pd_ypredproba_all_class0.head()\";\n",
       "                var nbb_cells = Jupyter.notebook.get_cells();\n",
       "                for (var i = 0; i < nbb_cells.length; ++i) {\n",
       "                    if (nbb_cells[i].input_prompt_number == nbb_cell_id) {\n",
       "                        if (nbb_cells[i].get_text() == nbb_unformatted_code) {\n",
       "                             nbb_cells[i].set_text(nbb_formatted_code);\n",
       "                        }\n",
       "                        break;\n",
       "                    }\n",
       "                }\n",
       "            }, 500);\n",
       "            "
      ],
      "text/plain": [
       "<IPython.core.display.Javascript object>"
      ]
     },
     "metadata": {},
     "output_type": "display_data"
    }
   ],
   "source": [
    "pd_ypredproba_all_class0.head()"
   ]
  },
  {
   "cell_type": "code",
   "execution_count": 8,
   "metadata": {
    "scrolled": true
   },
   "outputs": [
    {
     "name": "stdout",
     "output_type": "stream",
     "text": [
      "0.6765880295918836 0.6765880295918836\n",
      "0.5333333333333333 0.5333333333333333\n",
      "0.7315606204495092 0.7315606204495092\n",
      "0.707403055229142 0.7074030552291422\n",
      "0.738221824835998 0.738221824835998\n",
      "0.6638991645950051 0.6638991645950051\n",
      "0.738221824835998 0.738221824835998\n",
      "0.7222786009065693 0.7222786009065693\n",
      "0.738221824835998 0.738221824835998\n",
      "0.531970551784451 0.531970551784451\n",
      "0.738221824835998 0.738221824835998\n",
      "0.6824826901424683 0.6824826901424683\n",
      "0.738221824835998 0.738221824835998\n",
      "0.681905864197531 0.6819058641975311\n",
      "0.738221824835998 0.738221824835998\n",
      "0.5593806873476636 0.5593806873476636\n",
      "0.738221824835998 0.738221824835998\n",
      "0.5526837353237751 0.5526837353237751\n",
      "0.738221824835998 0.738221824835998\n",
      "0.6829492030730421 0.6829492030730421\n",
      "0.738221824835998 0.738221824835998\n",
      "0.7142049176335639 0.7142049176335639\n",
      "0.738221824835998 0.738221824835998\n",
      "0.6907048064469141 0.6907048064469141\n",
      "0.738221824835998 0.738221824835998\n",
      "0.6712963101541852 0.6712963101541852\n",
      "0.738221824835998 0.738221824835998\n",
      "0.666734321087883 0.666734321087883\n",
      "0.738221824835998 0.738221824835998\n",
      "0.668894890237707 0.6688948902377071\n",
      "0.738221824835998 0.738221824835998\n",
      "0.6911349520045174 0.6911349520045174\n",
      "0.738221824835998 0.738221824835998\n",
      "0.7011399995825272 0.7011399995825272\n",
      "0.738221824835998 0.738221824835998\n",
      "0.6839155585605889 0.6839155585605889\n",
      "0.738221824835998 0.738221824835998\n",
      "0.5744627686156922 0.5744627686156922\n",
      "0.738221824835998 0.738221824835998\n",
      "0.6763157894736843 0.6763157894736843\n",
      "0.738221824835998 0.738221824835998\n",
      "0.68775527018915 0.68775527018915\n",
      "0.738221824835998 0.738221824835998\n",
      "0.7176526031202718 0.7176526031202718\n",
      "0.738221824835998 0.738221824835998\n",
      "0.705119513872648 0.7051195138726479\n",
      "0.738221824835998 0.738221824835998\n",
      "0.6745897000565931 0.6745897000565931\n",
      "0.738221824835998 0.738221824835998\n",
      "0.7113024412417444 0.7113024412417444\n",
      "0.738221824835998 0.738221824835998\n",
      "0.6627519733576701 0.6627519733576701\n",
      "0.738221824835998 0.738221824835998\n",
      "0.5734982067846921 0.5734982067846921\n",
      "0.738221824835998 0.738221824835998\n",
      "0.6830887727156649 0.6830887727156649\n",
      "0.738221824835998 0.738221824835998\n",
      "0.7090111642743221 0.7090111642743221\n",
      "0.738221824835998 0.738221824835998\n",
      "0.6736885093155389 0.6736885093155389\n",
      "0.738221824835998 0.738221824835998\n",
      "0.664987646354106 0.664987646354106\n",
      "0.738221824835998 0.738221824835998\n",
      "0.6661997511754155 0.6661997511754155\n",
      "0.738221824835998 0.738221824835998\n",
      "0.6455451525218967 0.6455451525218967\n",
      "0.738221824835998 0.738221824835998\n",
      "0.7164512266481186 0.7164512266481186\n",
      "0.738221824835998 0.738221824835998\n",
      "0.7188197767145135 0.7188197767145135\n",
      "0.738221824835998 0.738221824835998\n",
      "0.6719547585385817 0.6719547585385817\n",
      "0.738221824835998 0.738221824835998\n",
      "0.6758489841010615 0.6758489841010615\n",
      "0.738221824835998 0.738221824835998\n",
      "0.7277740048655739 0.7277740048655739\n",
      "0.738221824835998 0.738221824835998\n",
      "0.699340630525118 0.699340630525118\n",
      "0.738221824835998 0.738221824835998\n",
      "0.6860550157904605 0.6860550157904605\n",
      "0.738221824835998 0.738221824835998\n",
      "0.7326275222087121 0.7326275222087121\n",
      "0.738221824835998 0.738221824835998\n",
      "0.7188197767145135 0.7188197767145135\n",
      "0.738221824835998 0.738221824835998\n",
      "0.656244295177507 0.6562442951775072\n",
      "0.738221824835998 0.738221824835998\n",
      "0.6353187918626032 0.6353187918626032\n",
      "0.738221824835998 0.738221824835998\n",
      "0.7074770180360243 0.7074770180360243\n",
      "0.738221824835998 0.738221824835998\n",
      "0.6604533564245607 0.6604533564245607\n",
      "0.738221824835998 0.738221824835998\n",
      "0.69767177841712 0.69767177841712\n",
      "0.738221824835998 0.738221824835998\n",
      "0.5532596198274288 0.5532596198274288\n",
      "0.738221824835998 0.738221824835998\n",
      "0.552671719338386 0.552671719338386\n",
      "0.738221824835998 0.738221824835998\n",
      "0.6675381263616558 0.6675381263616558\n",
      "0.738221824835998 0.738221824835998\n",
      "0.7238190840675314 0.7238190840675314\n",
      "0.738221824835998 0.738221824835998\n"
     ]
    },
    {
     "data": {
      "application/javascript": [
       "\n",
       "            setTimeout(function() {\n",
       "                var nbb_cell_id = 8;\n",
       "                var nbb_unformatted_code = \"# cross check the values are correct\\nfinalval = np.zeros((600, 2))\\ntemp_pd_ypredproba = pd_ypredproba_all_class1\\n\\nfor i in range(pd_acc_class0.shape[0]):\\n\\n    predprob = np.column_stack(\\n        (temp_pd_ypredproba.iloc[i, :], 1 - temp_pd_ypredproba.iloc[i, :])\\n    )\\n    finalval += predprob\\n\\n    print(\\n        m.f1_score(ytest_class1, np.argmax(predprob, axis=1), average=\\\"weighted\\\"),\\n        pd_acc_class1.iloc[i, 0],\\n    )\";\n",
       "                var nbb_formatted_code = \"# cross check the values are correct\\nfinalval = np.zeros((600, 2))\\ntemp_pd_ypredproba = pd_ypredproba_all_class1\\n\\nfor i in range(pd_acc_class0.shape[0]):\\n\\n    predprob = np.column_stack(\\n        (temp_pd_ypredproba.iloc[i, :], 1 - temp_pd_ypredproba.iloc[i, :])\\n    )\\n    finalval += predprob\\n\\n    print(\\n        m.f1_score(ytest_class1, np.argmax(predprob, axis=1), average=\\\"weighted\\\"),\\n        pd_acc_class1.iloc[i, 0],\\n    )\";\n",
       "                var nbb_cells = Jupyter.notebook.get_cells();\n",
       "                for (var i = 0; i < nbb_cells.length; ++i) {\n",
       "                    if (nbb_cells[i].input_prompt_number == nbb_cell_id) {\n",
       "                        if (nbb_cells[i].get_text() == nbb_unformatted_code) {\n",
       "                             nbb_cells[i].set_text(nbb_formatted_code);\n",
       "                        }\n",
       "                        break;\n",
       "                    }\n",
       "                }\n",
       "            }, 500);\n",
       "            "
      ],
      "text/plain": [
       "<IPython.core.display.Javascript object>"
      ]
     },
     "metadata": {},
     "output_type": "display_data"
    }
   ],
   "source": [
    "# cross check the values are correct\n",
    "finalval = np.zeros((600, 2))\n",
    "temp_pd_ypredproba = pd_ypredproba_all_class1\n",
    "\n",
    "for i in range(pd_acc_class0.shape[0]):\n",
    "\n",
    "    predprob = np.column_stack(\n",
    "        (temp_pd_ypredproba.iloc[i, :], 1 - temp_pd_ypredproba.iloc[i, :])\n",
    "    )\n",
    "    finalval += predprob\n",
    "\n",
    "    print(\n",
    "        m.f1_score(ytest_class1, np.argmax(predprob, axis=1), average=\"weighted\"),\n",
    "        pd_acc_class1.iloc[i, 0],\n",
    "    )"
   ]
  },
  {
   "cell_type": "code",
   "execution_count": 9,
   "metadata": {
    "scrolled": true
   },
   "outputs": [
    {
     "name": "stdout",
     "output_type": "stream",
     "text": [
      "f1_score 0.7415041974474262\n",
      "accuracy_score 0.7416666666666667\n"
     ]
    },
    {
     "data": {
      "application/javascript": [
       "\n",
       "            setTimeout(function() {\n",
       "                var nbb_cell_id = 9;\n",
       "                var nbb_unformatted_code = \"#using the accuracy value as a weight value for ensemble\\nfinalval = np.zeros((600, 2))\\n\\nfor i in range(pd_acc_class1.shape[0]):\\n\\n    predprob = np.column_stack(\\n        (pd_ypredproba_all_class1.iloc[i, :], 1 - pd_ypredproba_all_class1.iloc[i, :])\\n    )\\n\\n    finalval += pd_acc_class0.iloc[i, 0] * predprob\\n\\nprint(\\n    \\\"f1_score\\\",\\n    m.f1_score(ytest_class1, np.argmax(finalval, axis=1), average=\\\"weighted\\\"),\\n)\\nprint(\\\"accuracy_score\\\", m.accuracy_score(ytest_class1, np.argmax(finalval, axis=1)))\";\n",
       "                var nbb_formatted_code = \"# using the accuracy value as a weight value for ensemble\\nfinalval = np.zeros((600, 2))\\n\\nfor i in range(pd_acc_class1.shape[0]):\\n\\n    predprob = np.column_stack(\\n        (pd_ypredproba_all_class1.iloc[i, :], 1 - pd_ypredproba_all_class1.iloc[i, :])\\n    )\\n\\n    finalval += pd_acc_class0.iloc[i, 0] * predprob\\n\\nprint(\\n    \\\"f1_score\\\",\\n    m.f1_score(ytest_class1, np.argmax(finalval, axis=1), average=\\\"weighted\\\"),\\n)\\nprint(\\\"accuracy_score\\\", m.accuracy_score(ytest_class1, np.argmax(finalval, axis=1)))\";\n",
       "                var nbb_cells = Jupyter.notebook.get_cells();\n",
       "                for (var i = 0; i < nbb_cells.length; ++i) {\n",
       "                    if (nbb_cells[i].input_prompt_number == nbb_cell_id) {\n",
       "                        if (nbb_cells[i].get_text() == nbb_unformatted_code) {\n",
       "                             nbb_cells[i].set_text(nbb_formatted_code);\n",
       "                        }\n",
       "                        break;\n",
       "                    }\n",
       "                }\n",
       "            }, 500);\n",
       "            "
      ],
      "text/plain": [
       "<IPython.core.display.Javascript object>"
      ]
     },
     "metadata": {},
     "output_type": "display_data"
    }
   ],
   "source": [
    "# using the accuracy value as a weight value for ensemble\n",
    "finalval = np.zeros((600, 2))\n",
    "\n",
    "for i in range(pd_acc_class1.shape[0]):\n",
    "\n",
    "    predprob = np.column_stack(\n",
    "        (pd_ypredproba_all_class1.iloc[i, :], 1 - pd_ypredproba_all_class1.iloc[i, :])\n",
    "    )\n",
    "\n",
    "    finalval += pd_acc_class0.iloc[i, 0] * predprob\n",
    "\n",
    "print(\n",
    "    \"f1_score\",\n",
    "    m.f1_score(ytest_class1, np.argmax(finalval, axis=1), average=\"weighted\"),\n",
    ")\n",
    "print(\"accuracy_score\", m.accuracy_score(ytest_class1, np.argmax(finalval, axis=1)))"
   ]
  },
  {
   "cell_type": "code",
   "execution_count": 10,
   "metadata": {
    "scrolled": true
   },
   "outputs": [
    {
     "name": "stdout",
     "output_type": "stream",
     "text": [
      "0\n",
      "1\n",
      "2\n",
      "3\n",
      "4\n",
      "5\n",
      "6\n",
      "7\n",
      "8\n",
      "9\n",
      "44.16861239884023 [0.04068587 0.04911927 0.07652366 0.08057821 0.64986565 0.\n",
      " 0.67029516 0.         0.67769207 0.         0.68515925 0.\n",
      " 0.68845565 0.         0.70992207 0.         0.73038393 0.\n",
      " 0.76774922 0.         0.76788165 0.         0.7695088  0.\n",
      " 0.77574659 0.         0.77918757 0.         0.78949877 0.\n",
      " 0.8103535  0.         0.81179361 0.         0.820438   0.\n",
      " 0.82943504 0.         0.8592459  0.         0.86043716 0.\n",
      " 0.8687883  0.         0.87050275 0.         0.87354112 0.\n",
      " 0.88279381 0.         0.88371037 0.         0.88638658 0.\n",
      " 0.88765133 0.         0.88880307 0.         0.89241289 0.\n",
      " 0.89612894 0.         0.90062652 0.         0.90067081 0.\n",
      " 0.91283796 0.         0.91727849 0.         0.92722211 0.\n",
      " 0.93466337 0.         0.9354135  0.         0.94657082 0.\n",
      " 0.96124966 0.         0.96360134 0.         0.96424985 0.\n",
      " 0.96777694 0.         0.96974955 0.         0.97201244 0.\n",
      " 0.97251909 0.         0.9741071  0.         0.98132814 0.\n",
      " 0.98307209 0.         0.9859617  0.         0.99812375 0.\n",
      " 0.64641779]\n",
      "f1_score 0.7401101737946808\n",
      "accuracy_score 0.7433333333333333\n"
     ]
    },
    {
     "data": {
      "application/javascript": [
       "\n",
       "            setTimeout(function() {\n",
       "                var nbb_cell_id = 10;\n",
       "                var nbb_unformatted_code = \"# uisng the genetic algorithm to generate the weight values\\n\\nimport calculateWeightUsingGa2 as aresult\\nweightvalga=aresult.getbestvalues(np.array(pd_acc_class1) )\\nfinalval = np.zeros((600, 2))\\n\\nfor i in range(pd_acc_class1.shape[0]):\\n\\n    predprob = np.column_stack(\\n        (pd_ypredproba_all_class1.iloc[i, :], 1 - pd_ypredproba_all_class1.iloc[i, :])\\n    )\\n\\n    finalval += weightvalga[i] * predprob\\n\\nprint(\\n    \\\"f1_score\\\",\\n    m.f1_score(ytest_class1, np.argmax(finalval, axis=1), average=\\\"weighted\\\"),\\n)\\nprint(\\\"accuracy_score\\\", m.accuracy_score(ytest_class1, np.argmax(finalval, axis=1)))\";\n",
       "                var nbb_formatted_code = \"# uisng the genetic algorithm to generate the weight values\\n\\nimport calculateWeightUsingGa2 as aresult\\n\\nweightvalga = aresult.getbestvalues(np.array(pd_acc_class1))\\nfinalval = np.zeros((600, 2))\\n\\nfor i in range(pd_acc_class1.shape[0]):\\n\\n    predprob = np.column_stack(\\n        (pd_ypredproba_all_class1.iloc[i, :], 1 - pd_ypredproba_all_class1.iloc[i, :])\\n    )\\n\\n    finalval += weightvalga[i] * predprob\\n\\nprint(\\n    \\\"f1_score\\\",\\n    m.f1_score(ytest_class1, np.argmax(finalval, axis=1), average=\\\"weighted\\\"),\\n)\\nprint(\\\"accuracy_score\\\", m.accuracy_score(ytest_class1, np.argmax(finalval, axis=1)))\";\n",
       "                var nbb_cells = Jupyter.notebook.get_cells();\n",
       "                for (var i = 0; i < nbb_cells.length; ++i) {\n",
       "                    if (nbb_cells[i].input_prompt_number == nbb_cell_id) {\n",
       "                        if (nbb_cells[i].get_text() == nbb_unformatted_code) {\n",
       "                             nbb_cells[i].set_text(nbb_formatted_code);\n",
       "                        }\n",
       "                        break;\n",
       "                    }\n",
       "                }\n",
       "            }, 500);\n",
       "            "
      ],
      "text/plain": [
       "<IPython.core.display.Javascript object>"
      ]
     },
     "metadata": {},
     "output_type": "display_data"
    }
   ],
   "source": [
    "# uisng the genetic algorithm to generate the weight values\n",
    "\n",
    "import calculateWeightUsingGa2 as aresult\n",
    "weightvalga=aresult.getbestvalues(np.array(pd_acc_class1) )\n",
    "finalval = np.zeros((600, 2))\n",
    "\n",
    "for i in range(pd_acc_class1.shape[0]):\n",
    "\n",
    "    predprob = np.column_stack(\n",
    "        (pd_ypredproba_all_class1.iloc[i, :], 1 - pd_ypredproba_all_class1.iloc[i, :])\n",
    "    )\n",
    "\n",
    "    finalval += weightvalga[i] * predprob\n",
    "\n",
    "print(\n",
    "    \"f1_score\",\n",
    "    m.f1_score(ytest_class1, np.argmax(finalval, axis=1), average=\"weighted\"),\n",
    ")\n",
    "print(\"accuracy_score\", m.accuracy_score(ytest_class1, np.argmax(finalval, axis=1)))\n"
   ]
  },
  {
   "cell_type": "code",
   "execution_count": 11,
   "metadata": {},
   "outputs": [
    {
     "name": "stdout",
     "output_type": "stream",
     "text": [
      "f1_score 0.7463460277279999\n",
      "accuracy_score 0.7466666666666667\n"
     ]
    },
    {
     "data": {
      "application/javascript": [
       "\n",
       "            setTimeout(function() {\n",
       "                var nbb_cell_id = 11;\n",
       "                var nbb_unformatted_code = \"\\n# import calculateWeightUsingGa2 as aresult\\n# weightvalga=aresult.getbestvalues(np.array(pd_acc_class1) )\\nfinalval = np.zeros((600, 2))\\n\\ntemp_pd_ypredproba=pd_ypredproba_all_class1\\ntemp_pd_ypredconfprob=pd_ypredconfprob_all_class1\\n\\nfor i in range(pd_acc_class1.shape[0]):\\n\\n    predprob = np.column_stack(\\n        \\n        (\\n            (temp_pd_ypredproba.iloc[i, :] * temp_pd_ypredconfprob.iloc[i, 0])  \\n             + ((1 - temp_pd_ypredproba.iloc[i, :]) * temp_pd_ypredconfprob.iloc[i, 1])\\n         , \\n         ( \\n             (1 - temp_pd_ypredproba.iloc[i, :]) * temp_pd_ypredconfprob.iloc[i, 3])\\n            + (temp_pd_ypredproba.iloc[i, :] * temp_pd_ypredconfprob.iloc[i, 2] ) \\n        )\\n    )\\n\\n    finalval +=  predprob\\n\\nprint(\\n    \\\"f1_score\\\",\\n    m.f1_score(ytest_class1, np.argmax(finalval, axis=1), average=\\\"weighted\\\"),\\n)\\nprint(\\\"accuracy_score\\\", m.accuracy_score(ytest_class1, np.argmax(finalval, axis=1)))\";\n",
       "                var nbb_formatted_code = \"# import calculateWeightUsingGa2 as aresult\\n# weightvalga=aresult.getbestvalues(np.array(pd_acc_class1) )\\nfinalval = np.zeros((600, 2))\\n\\ntemp_pd_ypredproba = pd_ypredproba_all_class1\\ntemp_pd_ypredconfprob = pd_ypredconfprob_all_class1\\n\\nfor i in range(pd_acc_class1.shape[0]):\\n\\n    predprob = np.column_stack(\\n        (\\n            (temp_pd_ypredproba.iloc[i, :] * temp_pd_ypredconfprob.iloc[i, 0])\\n            + ((1 - temp_pd_ypredproba.iloc[i, :]) * temp_pd_ypredconfprob.iloc[i, 1]),\\n            ((1 - temp_pd_ypredproba.iloc[i, :]) * temp_pd_ypredconfprob.iloc[i, 3])\\n            + (temp_pd_ypredproba.iloc[i, :] * temp_pd_ypredconfprob.iloc[i, 2]),\\n        )\\n    )\\n\\n    finalval += predprob\\n\\nprint(\\n    \\\"f1_score\\\",\\n    m.f1_score(ytest_class1, np.argmax(finalval, axis=1), average=\\\"weighted\\\"),\\n)\\nprint(\\\"accuracy_score\\\", m.accuracy_score(ytest_class1, np.argmax(finalval, axis=1)))\";\n",
       "                var nbb_cells = Jupyter.notebook.get_cells();\n",
       "                for (var i = 0; i < nbb_cells.length; ++i) {\n",
       "                    if (nbb_cells[i].input_prompt_number == nbb_cell_id) {\n",
       "                        if (nbb_cells[i].get_text() == nbb_unformatted_code) {\n",
       "                             nbb_cells[i].set_text(nbb_formatted_code);\n",
       "                        }\n",
       "                        break;\n",
       "                    }\n",
       "                }\n",
       "            }, 500);\n",
       "            "
      ],
      "text/plain": [
       "<IPython.core.display.Javascript object>"
      ]
     },
     "metadata": {},
     "output_type": "display_data"
    }
   ],
   "source": [
    "finalval = np.zeros((600, 2))\n",
    "\n",
    "temp_pd_ypredproba=pd_ypredproba_all_class1\n",
    "temp_pd_ypredconfprob=pd_ypredconfprob_all_class1\n",
    "\n",
    "for i in range(pd_acc_class1.shape[0]):\n",
    "\n",
    "    predprob = np.column_stack(\n",
    "        \n",
    "        (\n",
    "            (temp_pd_ypredproba.iloc[i, :] * temp_pd_ypredconfprob.iloc[i, 0])  \n",
    "             + ((1 - temp_pd_ypredproba.iloc[i, :]) * temp_pd_ypredconfprob.iloc[i, 1])\n",
    "         , \n",
    "         ( \n",
    "             (1 - temp_pd_ypredproba.iloc[i, :]) * temp_pd_ypredconfprob.iloc[i, 3])\n",
    "            + (temp_pd_ypredproba.iloc[i, :] * temp_pd_ypredconfprob.iloc[i, 2] ) \n",
    "        )\n",
    "    )\n",
    "\n",
    "    finalval +=  predprob\n",
    "\n",
    "print(\n",
    "    \"f1_score\",\n",
    "    m.f1_score(ytest_class1, np.argmax(finalval, axis=1), average=\"weighted\"),\n",
    ")\n",
    "print(\"accuracy_score\", m.accuracy_score(ytest_class1, np.argmax(finalval, axis=1)))\n"
   ]
  },
  {
   "cell_type": "code",
   "execution_count": 13,
   "metadata": {},
   "outputs": [
    {
     "name": "stdout",
     "output_type": "stream",
     "text": [
      "0\n",
      "1\n",
      "2\n",
      "3\n",
      "4\n",
      "5\n",
      "6\n",
      "7\n",
      "8\n",
      "9\n",
      "44.07476245639215 [0.00453681 0.01317584 0.05568585 0.05811065 0.68468695 0.\n",
      " 0.70609872 0.         0.70959914 0.         0.71791529 0.\n",
      " 0.71950274 0.         0.72126697 0.         0.72644063 0.\n",
      " 0.73304017 0.         0.74434338 0.         0.76148745 0.\n",
      " 0.78592134 0.         0.78743173 0.         0.82128478 0.\n",
      " 0.82870963 0.         0.83201621 0.         0.83576936 0.\n",
      " 0.84206968 0.         0.84412326 0.         0.8483163  0.\n",
      " 0.85361082 0.         0.85429151 0.         0.85733042 0.\n",
      " 0.85865631 0.         0.85943123 0.         0.87379248 0.\n",
      " 0.8765147  0.         0.87815215 0.         0.88028253 0.\n",
      " 0.88103267 0.         0.88632853 0.         0.88903899 0.\n",
      " 0.89158804 0.         0.89765831 0.         0.91054341 0.\n",
      " 0.92540687 0.         0.92610033 0.         0.9416932  0.\n",
      " 0.94774142 0.         0.95537817 0.         0.95896209 0.\n",
      " 0.96369981 0.         0.98028386 0.         0.9845276  0.\n",
      " 0.98893905 0.         0.99043207 0.         0.99358242 0.\n",
      " 0.9950834  0.         0.99798026 0.         0.99936756 0.\n",
      " 0.66252279]\n",
      "f1_score 0.7354885354265648\n",
      "accuracy_score 0.74\n"
     ]
    },
    {
     "data": {
      "application/javascript": [
       "\n",
       "            setTimeout(function() {\n",
       "                var nbb_cell_id = 13;\n",
       "                var nbb_unformatted_code = \"import calculateWeightUsingGa2 as aresult\\nweightvalga=aresult.getbestvalues(np.array(pd_acc_class1) )\\nfinalval = np.zeros((600, 2))\\n\\ntemp_pd_ypredproba=pd_ypredproba_all_class1\\ntemp_pd_ypredconfprob=pd_ypredconfprob_all_class1\\n\\nfor i in range(pd_acc_class1.shape[0]):\\n\\n    predprob = np.column_stack(\\n        \\n        (\\n            (temp_pd_ypredproba.iloc[i, :] * temp_pd_ypredconfprob.iloc[i, 0])  \\n             + ((1 - temp_pd_ypredproba.iloc[i, :]) * temp_pd_ypredconfprob.iloc[i, 1])\\n         , \\n         ( \\n             (1 - temp_pd_ypredproba.iloc[i, :]) * temp_pd_ypredconfprob.iloc[i, 3])\\n            + (temp_pd_ypredproba.iloc[i, :] * temp_pd_ypredconfprob.iloc[i, 2] ) \\n        )\\n    )\\n\\n    finalval +=  weightvalga[i] * predprob\\n\\nprint(\\n    \\\"f1_score\\\",\\n    m.f1_score(ytest_class1, np.argmax(finalval, axis=1), average=\\\"weighted\\\"),\\n)\\nprint(\\\"accuracy_score\\\", m.accuracy_score(ytest_class1, np.argmax(finalval, axis=1)))\";\n",
       "                var nbb_formatted_code = \"import calculateWeightUsingGa2 as aresult\\n\\nweightvalga = aresult.getbestvalues(np.array(pd_acc_class1))\\nfinalval = np.zeros((600, 2))\\n\\ntemp_pd_ypredproba = pd_ypredproba_all_class1\\ntemp_pd_ypredconfprob = pd_ypredconfprob_all_class1\\n\\nfor i in range(pd_acc_class1.shape[0]):\\n\\n    predprob = np.column_stack(\\n        (\\n            (temp_pd_ypredproba.iloc[i, :] * temp_pd_ypredconfprob.iloc[i, 0])\\n            + ((1 - temp_pd_ypredproba.iloc[i, :]) * temp_pd_ypredconfprob.iloc[i, 1]),\\n            ((1 - temp_pd_ypredproba.iloc[i, :]) * temp_pd_ypredconfprob.iloc[i, 3])\\n            + (temp_pd_ypredproba.iloc[i, :] * temp_pd_ypredconfprob.iloc[i, 2]),\\n        )\\n    )\\n\\n    finalval += weightvalga[i] * predprob\\n\\nprint(\\n    \\\"f1_score\\\",\\n    m.f1_score(ytest_class1, np.argmax(finalval, axis=1), average=\\\"weighted\\\"),\\n)\\nprint(\\\"accuracy_score\\\", m.accuracy_score(ytest_class1, np.argmax(finalval, axis=1)))\";\n",
       "                var nbb_cells = Jupyter.notebook.get_cells();\n",
       "                for (var i = 0; i < nbb_cells.length; ++i) {\n",
       "                    if (nbb_cells[i].input_prompt_number == nbb_cell_id) {\n",
       "                        if (nbb_cells[i].get_text() == nbb_unformatted_code) {\n",
       "                             nbb_cells[i].set_text(nbb_formatted_code);\n",
       "                        }\n",
       "                        break;\n",
       "                    }\n",
       "                }\n",
       "            }, 500);\n",
       "            "
      ],
      "text/plain": [
       "<IPython.core.display.Javascript object>"
      ]
     },
     "metadata": {},
     "output_type": "display_data"
    }
   ],
   "source": [
    "import calculateWeightUsingGa2 as aresult\n",
    "weightvalga=aresult.getbestvalues(np.array(pd_acc_class1) )\n",
    "finalval = np.zeros((600, 2))\n",
    "\n",
    "temp_pd_ypredproba=pd_ypredproba_all_class1\n",
    "temp_pd_ypredconfprob=pd_ypredconfprob_all_class1\n",
    "\n",
    "for i in range(pd_acc_class1.shape[0]):\n",
    "\n",
    "    predprob = np.column_stack(\n",
    "        \n",
    "        (\n",
    "            (temp_pd_ypredproba.iloc[i, :] * temp_pd_ypredconfprob.iloc[i, 0])  \n",
    "             + ((1 - temp_pd_ypredproba.iloc[i, :]) * temp_pd_ypredconfprob.iloc[i, 1])\n",
    "         , \n",
    "         ( \n",
    "             (1 - temp_pd_ypredproba.iloc[i, :]) * temp_pd_ypredconfprob.iloc[i, 3])\n",
    "            + (temp_pd_ypredproba.iloc[i, :] * temp_pd_ypredconfprob.iloc[i, 2] ) \n",
    "        )\n",
    "    )\n",
    "\n",
    "    finalval +=  weightvalga[i] * predprob\n",
    "\n",
    "print(\n",
    "    \"f1_score\",\n",
    "    m.f1_score(ytest_class1, np.argmax(finalval, axis=1), average=\"weighted\"),\n",
    ")\n",
    "print(\"accuracy_score\", m.accuracy_score(ytest_class1, np.argmax(finalval, axis=1)))\n"
   ]
  },
  {
   "cell_type": "code",
   "execution_count": null,
   "metadata": {},
   "outputs": [],
   "source": []
  }
 ],
 "metadata": {
  "kernelspec": {
   "display_name": "Python 3",
   "language": "python",
   "name": "python3"
  },
  "language_info": {
   "codemirror_mode": {
    "name": "ipython",
    "version": 3
   },
   "file_extension": ".py",
   "mimetype": "text/x-python",
   "name": "python",
   "nbconvert_exporter": "python",
   "pygments_lexer": "ipython3",
   "version": "3.7.7"
  }
 },
 "nbformat": 4,
 "nbformat_minor": 4
}
