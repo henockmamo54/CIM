{
 "cells": [
  {
   "cell_type": "code",
   "execution_count": 1,
   "metadata": {},
   "outputs": [],
   "source": [
    "%load_ext nb_black"
   ]
  },
  {
   "cell_type": "code",
   "execution_count": 2,
   "metadata": {},
   "outputs": [
    {
     "data": {
      "application/javascript": [
       "\n",
       "            setTimeout(function() {\n",
       "                var nbb_cell_id = 2;\n",
       "                var nbb_unformatted_code = \"import numpy as np\\nimport pandas as pd\\nfrom sklearn import metrics as m\";\n",
       "                var nbb_formatted_code = \"import numpy as np\\nimport pandas as pd\\nfrom sklearn import metrics as m\";\n",
       "                var nbb_cells = Jupyter.notebook.get_cells();\n",
       "                for (var i = 0; i < nbb_cells.length; ++i) {\n",
       "                    if (nbb_cells[i].input_prompt_number == nbb_cell_id) {\n",
       "                        if (nbb_cells[i].get_text() == nbb_unformatted_code) {\n",
       "                             nbb_cells[i].set_text(nbb_formatted_code);\n",
       "                        }\n",
       "                        break;\n",
       "                    }\n",
       "                }\n",
       "            }, 500);\n",
       "            "
      ],
      "text/plain": [
       "<IPython.core.display.Javascript object>"
      ]
     },
     "metadata": {},
     "output_type": "display_data"
    }
   ],
   "source": [
    "import numpy as np\n",
    "import pandas as pd\n",
    "from sklearn import metrics as m"
   ]
  },
  {
   "cell_type": "code",
   "execution_count": 3,
   "metadata": {},
   "outputs": [
    {
     "data": {
      "application/javascript": [
       "\n",
       "            setTimeout(function() {\n",
       "                var nbb_cell_id = 3;\n",
       "                var nbb_unformatted_code = \"pd_acc_class0 = pd.read_csv(\\\"pd_acc_class0.txt\\\")\\npd_ypredproba_all_class0 = pd.read_csv(\\\"pd_ypredproba_all_class0.txt\\\")\\npd_ypredconfprob_all_class0 = pd.read_csv(\\\"pd_ypredconfprob_all_class0.txt\\\")\";\n",
       "                var nbb_formatted_code = \"pd_acc_class0 = pd.read_csv(\\\"pd_acc_class0.txt\\\")\\npd_ypredproba_all_class0 = pd.read_csv(\\\"pd_ypredproba_all_class0.txt\\\")\\npd_ypredconfprob_all_class0 = pd.read_csv(\\\"pd_ypredconfprob_all_class0.txt\\\")\";\n",
       "                var nbb_cells = Jupyter.notebook.get_cells();\n",
       "                for (var i = 0; i < nbb_cells.length; ++i) {\n",
       "                    if (nbb_cells[i].input_prompt_number == nbb_cell_id) {\n",
       "                        if (nbb_cells[i].get_text() == nbb_unformatted_code) {\n",
       "                             nbb_cells[i].set_text(nbb_formatted_code);\n",
       "                        }\n",
       "                        break;\n",
       "                    }\n",
       "                }\n",
       "            }, 500);\n",
       "            "
      ],
      "text/plain": [
       "<IPython.core.display.Javascript object>"
      ]
     },
     "metadata": {},
     "output_type": "display_data"
    }
   ],
   "source": [
    "pd_acc_class0 = pd.read_csv(\"pd_acc_class0.txt\")\n",
    "pd_ypredproba_all_class0 = pd.read_csv(\"pd_ypredproba_all_class0.txt\")\n",
    "pd_ypredconfprob_all_class0 = pd.read_csv(\"pd_ypredconfprob_all_class0.txt\")"
   ]
  },
  {
   "cell_type": "code",
   "execution_count": 4,
   "metadata": {},
   "outputs": [
    {
     "data": {
      "application/javascript": [
       "\n",
       "            setTimeout(function() {\n",
       "                var nbb_cell_id = 4;\n",
       "                var nbb_unformatted_code = \"pd_acc_class1 = pd.read_csv(\\\"pd_acc_class1.txt\\\")\\npd_ypredproba_all_class1 = pd.read_csv(\\\"pd_ypredproba_all_class1.txt\\\")\\npd_ypredconfprob_all_class1 = pd.read_csv(\\\"pd_ypredconfprob_all_class1.txt\\\")\";\n",
       "                var nbb_formatted_code = \"pd_acc_class1 = pd.read_csv(\\\"pd_acc_class1.txt\\\")\\npd_ypredproba_all_class1 = pd.read_csv(\\\"pd_ypredproba_all_class1.txt\\\")\\npd_ypredconfprob_all_class1 = pd.read_csv(\\\"pd_ypredconfprob_all_class1.txt\\\")\";\n",
       "                var nbb_cells = Jupyter.notebook.get_cells();\n",
       "                for (var i = 0; i < nbb_cells.length; ++i) {\n",
       "                    if (nbb_cells[i].input_prompt_number == nbb_cell_id) {\n",
       "                        if (nbb_cells[i].get_text() == nbb_unformatted_code) {\n",
       "                             nbb_cells[i].set_text(nbb_formatted_code);\n",
       "                        }\n",
       "                        break;\n",
       "                    }\n",
       "                }\n",
       "            }, 500);\n",
       "            "
      ],
      "text/plain": [
       "<IPython.core.display.Javascript object>"
      ]
     },
     "metadata": {},
     "output_type": "display_data"
    }
   ],
   "source": [
    "pd_acc_class1 = pd.read_csv(\"pd_acc_class1.txt\")\n",
    "pd_ypredproba_all_class1 = pd.read_csv(\"pd_ypredproba_all_class1.txt\")\n",
    "pd_ypredconfprob_all_class1 = pd.read_csv(\"pd_ypredconfprob_all_class1.txt\")"
   ]
  },
  {
   "cell_type": "code",
   "execution_count": 5,
   "metadata": {},
   "outputs": [
    {
     "data": {
      "application/javascript": [
       "\n",
       "            setTimeout(function() {\n",
       "                var nbb_cell_id = 5;\n",
       "                var nbb_unformatted_code = \"pd_acc_class2 = pd.read_csv(\\\"pd_acc_class2.txt\\\")\\npd_ypredproba_all_class2 = pd.read_csv(\\\"pd_ypredproba_all_class2.txt\\\")\\npd_ypredconfprob_all_class2 = pd.read_csv(\\\"pd_ypredconfprob_all_class2.txt\\\")\";\n",
       "                var nbb_formatted_code = \"pd_acc_class2 = pd.read_csv(\\\"pd_acc_class2.txt\\\")\\npd_ypredproba_all_class2 = pd.read_csv(\\\"pd_ypredproba_all_class2.txt\\\")\\npd_ypredconfprob_all_class2 = pd.read_csv(\\\"pd_ypredconfprob_all_class2.txt\\\")\";\n",
       "                var nbb_cells = Jupyter.notebook.get_cells();\n",
       "                for (var i = 0; i < nbb_cells.length; ++i) {\n",
       "                    if (nbb_cells[i].input_prompt_number == nbb_cell_id) {\n",
       "                        if (nbb_cells[i].get_text() == nbb_unformatted_code) {\n",
       "                             nbb_cells[i].set_text(nbb_formatted_code);\n",
       "                        }\n",
       "                        break;\n",
       "                    }\n",
       "                }\n",
       "            }, 500);\n",
       "            "
      ],
      "text/plain": [
       "<IPython.core.display.Javascript object>"
      ]
     },
     "metadata": {},
     "output_type": "display_data"
    }
   ],
   "source": [
    "pd_acc_class2 = pd.read_csv(\"pd_acc_class2.txt\")\n",
    "pd_ypredproba_all_class2 = pd.read_csv(\"pd_ypredproba_all_class2.txt\")\n",
    "pd_ypredconfprob_all_class2 = pd.read_csv(\"pd_ypredconfprob_all_class2.txt\")"
   ]
  },
  {
   "cell_type": "code",
   "execution_count": 6,
   "metadata": {},
   "outputs": [
    {
     "data": {
      "application/javascript": [
       "\n",
       "            setTimeout(function() {\n",
       "                var nbb_cell_id = 6;\n",
       "                var nbb_unformatted_code = \"ytest_class0 = pd.read_csv(\\\"ytest_class0.txt\\\")\\nytest_class1 = pd.read_csv(\\\"ytest_class1.txt\\\")\\nytest_class2 = pd.read_csv(\\\"ytest_class2.txt\\\")\\nytest_original = pd.read_csv(\\\"ytest_original.txt\\\")\";\n",
       "                var nbb_formatted_code = \"ytest_class0 = pd.read_csv(\\\"ytest_class0.txt\\\")\\nytest_class1 = pd.read_csv(\\\"ytest_class1.txt\\\")\\nytest_class2 = pd.read_csv(\\\"ytest_class2.txt\\\")\\nytest_original = pd.read_csv(\\\"ytest_original.txt\\\")\";\n",
       "                var nbb_cells = Jupyter.notebook.get_cells();\n",
       "                for (var i = 0; i < nbb_cells.length; ++i) {\n",
       "                    if (nbb_cells[i].input_prompt_number == nbb_cell_id) {\n",
       "                        if (nbb_cells[i].get_text() == nbb_unformatted_code) {\n",
       "                             nbb_cells[i].set_text(nbb_formatted_code);\n",
       "                        }\n",
       "                        break;\n",
       "                    }\n",
       "                }\n",
       "            }, 500);\n",
       "            "
      ],
      "text/plain": [
       "<IPython.core.display.Javascript object>"
      ]
     },
     "metadata": {},
     "output_type": "display_data"
    }
   ],
   "source": [
    "ytest_class0 = pd.read_csv(\"ytest_class0.txt\")\n",
    "ytest_class1 = pd.read_csv(\"ytest_class1.txt\")\n",
    "ytest_class2 = pd.read_csv(\"ytest_class2.txt\")\n",
    "ytest_original = pd.read_csv(\"ytest_original.txt\")"
   ]
  },
  {
   "cell_type": "code",
   "execution_count": 7,
   "metadata": {},
   "outputs": [
    {
     "data": {
      "text/html": [
       "<div>\n",
       "<style scoped>\n",
       "    .dataframe tbody tr th:only-of-type {\n",
       "        vertical-align: middle;\n",
       "    }\n",
       "\n",
       "    .dataframe tbody tr th {\n",
       "        vertical-align: top;\n",
       "    }\n",
       "\n",
       "    .dataframe thead th {\n",
       "        text-align: right;\n",
       "    }\n",
       "</style>\n",
       "<table border=\"1\" class=\"dataframe\">\n",
       "  <thead>\n",
       "    <tr style=\"text-align: right;\">\n",
       "      <th></th>\n",
       "      <th>0</th>\n",
       "      <th>1</th>\n",
       "      <th>2</th>\n",
       "      <th>3</th>\n",
       "      <th>4</th>\n",
       "      <th>5</th>\n",
       "      <th>6</th>\n",
       "      <th>7</th>\n",
       "      <th>8</th>\n",
       "      <th>9</th>\n",
       "      <th>...</th>\n",
       "      <th>590</th>\n",
       "      <th>591</th>\n",
       "      <th>592</th>\n",
       "      <th>593</th>\n",
       "      <th>594</th>\n",
       "      <th>595</th>\n",
       "      <th>596</th>\n",
       "      <th>597</th>\n",
       "      <th>598</th>\n",
       "      <th>599</th>\n",
       "    </tr>\n",
       "  </thead>\n",
       "  <tbody>\n",
       "    <tr>\n",
       "      <th>0</th>\n",
       "      <td>0.700000</td>\n",
       "      <td>0.600000</td>\n",
       "      <td>0.400000</td>\n",
       "      <td>0.600000</td>\n",
       "      <td>0.700000</td>\n",
       "      <td>0.000000</td>\n",
       "      <td>0.800000</td>\n",
       "      <td>0.900000</td>\n",
       "      <td>0.700000</td>\n",
       "      <td>0.000000</td>\n",
       "      <td>...</td>\n",
       "      <td>0.000000</td>\n",
       "      <td>0.000000</td>\n",
       "      <td>0.000000</td>\n",
       "      <td>0.000000</td>\n",
       "      <td>0.000000</td>\n",
       "      <td>0.000000</td>\n",
       "      <td>0.100000</td>\n",
       "      <td>0.000000</td>\n",
       "      <td>0.000000</td>\n",
       "      <td>0.100000</td>\n",
       "    </tr>\n",
       "    <tr>\n",
       "      <th>1</th>\n",
       "      <td>0.992959</td>\n",
       "      <td>0.874103</td>\n",
       "      <td>0.412963</td>\n",
       "      <td>0.963460</td>\n",
       "      <td>0.894480</td>\n",
       "      <td>0.005756</td>\n",
       "      <td>0.984181</td>\n",
       "      <td>0.999981</td>\n",
       "      <td>0.919428</td>\n",
       "      <td>0.190981</td>\n",
       "      <td>...</td>\n",
       "      <td>0.008033</td>\n",
       "      <td>0.116145</td>\n",
       "      <td>0.008953</td>\n",
       "      <td>0.005724</td>\n",
       "      <td>0.019587</td>\n",
       "      <td>0.000006</td>\n",
       "      <td>0.086366</td>\n",
       "      <td>0.004611</td>\n",
       "      <td>0.023565</td>\n",
       "      <td>0.035616</td>\n",
       "    </tr>\n",
       "    <tr>\n",
       "      <th>2</th>\n",
       "      <td>0.966276</td>\n",
       "      <td>0.808556</td>\n",
       "      <td>0.250595</td>\n",
       "      <td>0.873993</td>\n",
       "      <td>0.945025</td>\n",
       "      <td>0.036350</td>\n",
       "      <td>0.983561</td>\n",
       "      <td>0.978947</td>\n",
       "      <td>0.956410</td>\n",
       "      <td>0.222362</td>\n",
       "      <td>...</td>\n",
       "      <td>0.004348</td>\n",
       "      <td>0.134424</td>\n",
       "      <td>0.008143</td>\n",
       "      <td>0.002297</td>\n",
       "      <td>0.017564</td>\n",
       "      <td>0.001495</td>\n",
       "      <td>0.077032</td>\n",
       "      <td>0.001742</td>\n",
       "      <td>0.015208</td>\n",
       "      <td>0.014884</td>\n",
       "    </tr>\n",
       "    <tr>\n",
       "      <th>3</th>\n",
       "      <td>0.460000</td>\n",
       "      <td>0.060000</td>\n",
       "      <td>0.480000</td>\n",
       "      <td>0.020000</td>\n",
       "      <td>0.140000</td>\n",
       "      <td>0.140000</td>\n",
       "      <td>0.320000</td>\n",
       "      <td>0.200000</td>\n",
       "      <td>0.260000</td>\n",
       "      <td>0.060000</td>\n",
       "      <td>...</td>\n",
       "      <td>0.160000</td>\n",
       "      <td>0.160000</td>\n",
       "      <td>0.020000</td>\n",
       "      <td>0.000000</td>\n",
       "      <td>0.020000</td>\n",
       "      <td>0.000000</td>\n",
       "      <td>0.080000</td>\n",
       "      <td>0.000000</td>\n",
       "      <td>0.000000</td>\n",
       "      <td>0.180000</td>\n",
       "    </tr>\n",
       "    <tr>\n",
       "      <th>4</th>\n",
       "      <td>0.880000</td>\n",
       "      <td>0.640000</td>\n",
       "      <td>0.180000</td>\n",
       "      <td>0.320000</td>\n",
       "      <td>0.920000</td>\n",
       "      <td>0.000000</td>\n",
       "      <td>0.820000</td>\n",
       "      <td>0.500000</td>\n",
       "      <td>0.700000</td>\n",
       "      <td>0.020000</td>\n",
       "      <td>...</td>\n",
       "      <td>0.080000</td>\n",
       "      <td>0.040000</td>\n",
       "      <td>0.000000</td>\n",
       "      <td>0.000000</td>\n",
       "      <td>0.000000</td>\n",
       "      <td>0.000000</td>\n",
       "      <td>0.020000</td>\n",
       "      <td>0.000000</td>\n",
       "      <td>0.000000</td>\n",
       "      <td>0.000000</td>\n",
       "    </tr>\n",
       "    <tr>\n",
       "      <th>...</th>\n",
       "      <td>...</td>\n",
       "      <td>...</td>\n",
       "      <td>...</td>\n",
       "      <td>...</td>\n",
       "      <td>...</td>\n",
       "      <td>...</td>\n",
       "      <td>...</td>\n",
       "      <td>...</td>\n",
       "      <td>...</td>\n",
       "      <td>...</td>\n",
       "      <td>...</td>\n",
       "      <td>...</td>\n",
       "      <td>...</td>\n",
       "      <td>...</td>\n",
       "      <td>...</td>\n",
       "      <td>...</td>\n",
       "      <td>...</td>\n",
       "      <td>...</td>\n",
       "      <td>...</td>\n",
       "      <td>...</td>\n",
       "      <td>...</td>\n",
       "    </tr>\n",
       "    <tr>\n",
       "      <th>98</th>\n",
       "      <td>0.865452</td>\n",
       "      <td>0.911720</td>\n",
       "      <td>0.617406</td>\n",
       "      <td>0.820009</td>\n",
       "      <td>0.734968</td>\n",
       "      <td>0.059884</td>\n",
       "      <td>0.975453</td>\n",
       "      <td>0.970128</td>\n",
       "      <td>0.911720</td>\n",
       "      <td>0.357883</td>\n",
       "      <td>...</td>\n",
       "      <td>0.021434</td>\n",
       "      <td>0.366140</td>\n",
       "      <td>0.008192</td>\n",
       "      <td>0.008202</td>\n",
       "      <td>0.047411</td>\n",
       "      <td>0.010420</td>\n",
       "      <td>0.232162</td>\n",
       "      <td>0.007767</td>\n",
       "      <td>0.008202</td>\n",
       "      <td>0.074180</td>\n",
       "    </tr>\n",
       "    <tr>\n",
       "      <th>99</th>\n",
       "      <td>0.958459</td>\n",
       "      <td>0.913699</td>\n",
       "      <td>0.365612</td>\n",
       "      <td>0.906825</td>\n",
       "      <td>0.933441</td>\n",
       "      <td>0.037703</td>\n",
       "      <td>0.964922</td>\n",
       "      <td>0.961304</td>\n",
       "      <td>0.946493</td>\n",
       "      <td>0.278537</td>\n",
       "      <td>...</td>\n",
       "      <td>0.009972</td>\n",
       "      <td>0.151142</td>\n",
       "      <td>0.019199</td>\n",
       "      <td>0.006633</td>\n",
       "      <td>0.011121</td>\n",
       "      <td>0.006386</td>\n",
       "      <td>0.105893</td>\n",
       "      <td>0.006138</td>\n",
       "      <td>0.020259</td>\n",
       "      <td>0.019785</td>\n",
       "    </tr>\n",
       "    <tr>\n",
       "      <th>100</th>\n",
       "      <td>0.969551</td>\n",
       "      <td>0.645960</td>\n",
       "      <td>0.191212</td>\n",
       "      <td>0.895712</td>\n",
       "      <td>0.968561</td>\n",
       "      <td>0.059755</td>\n",
       "      <td>0.935211</td>\n",
       "      <td>0.975472</td>\n",
       "      <td>0.856107</td>\n",
       "      <td>0.092754</td>\n",
       "      <td>...</td>\n",
       "      <td>0.052250</td>\n",
       "      <td>0.090671</td>\n",
       "      <td>0.030476</td>\n",
       "      <td>0.013024</td>\n",
       "      <td>0.066332</td>\n",
       "      <td>0.009552</td>\n",
       "      <td>0.026813</td>\n",
       "      <td>0.008088</td>\n",
       "      <td>0.066990</td>\n",
       "      <td>0.018488</td>\n",
       "    </tr>\n",
       "    <tr>\n",
       "      <th>101</th>\n",
       "      <td>0.782940</td>\n",
       "      <td>0.916660</td>\n",
       "      <td>0.642754</td>\n",
       "      <td>0.821295</td>\n",
       "      <td>0.723353</td>\n",
       "      <td>0.031028</td>\n",
       "      <td>0.974164</td>\n",
       "      <td>0.931417</td>\n",
       "      <td>0.914461</td>\n",
       "      <td>0.491364</td>\n",
       "      <td>...</td>\n",
       "      <td>0.033096</td>\n",
       "      <td>0.298770</td>\n",
       "      <td>0.014785</td>\n",
       "      <td>0.012434</td>\n",
       "      <td>0.013289</td>\n",
       "      <td>0.014474</td>\n",
       "      <td>0.281264</td>\n",
       "      <td>0.010706</td>\n",
       "      <td>0.013405</td>\n",
       "      <td>0.084746</td>\n",
       "    </tr>\n",
       "    <tr>\n",
       "      <th>102</th>\n",
       "      <td>0.963506</td>\n",
       "      <td>0.691844</td>\n",
       "      <td>0.146838</td>\n",
       "      <td>0.899317</td>\n",
       "      <td>0.958495</td>\n",
       "      <td>0.020480</td>\n",
       "      <td>0.922880</td>\n",
       "      <td>0.966473</td>\n",
       "      <td>0.855453</td>\n",
       "      <td>0.201188</td>\n",
       "      <td>...</td>\n",
       "      <td>0.175669</td>\n",
       "      <td>0.079665</td>\n",
       "      <td>0.050506</td>\n",
       "      <td>0.019880</td>\n",
       "      <td>0.018468</td>\n",
       "      <td>0.023380</td>\n",
       "      <td>0.039212</td>\n",
       "      <td>0.009885</td>\n",
       "      <td>0.063439</td>\n",
       "      <td>0.046219</td>\n",
       "    </tr>\n",
       "  </tbody>\n",
       "</table>\n",
       "<p>103 rows × 600 columns</p>\n",
       "</div>"
      ],
      "text/plain": [
       "            0         1         2         3         4         5         6  \\\n",
       "0    0.700000  0.600000  0.400000  0.600000  0.700000  0.000000  0.800000   \n",
       "1    0.992959  0.874103  0.412963  0.963460  0.894480  0.005756  0.984181   \n",
       "2    0.966276  0.808556  0.250595  0.873993  0.945025  0.036350  0.983561   \n",
       "3    0.460000  0.060000  0.480000  0.020000  0.140000  0.140000  0.320000   \n",
       "4    0.880000  0.640000  0.180000  0.320000  0.920000  0.000000  0.820000   \n",
       "..        ...       ...       ...       ...       ...       ...       ...   \n",
       "98   0.865452  0.911720  0.617406  0.820009  0.734968  0.059884  0.975453   \n",
       "99   0.958459  0.913699  0.365612  0.906825  0.933441  0.037703  0.964922   \n",
       "100  0.969551  0.645960  0.191212  0.895712  0.968561  0.059755  0.935211   \n",
       "101  0.782940  0.916660  0.642754  0.821295  0.723353  0.031028  0.974164   \n",
       "102  0.963506  0.691844  0.146838  0.899317  0.958495  0.020480  0.922880   \n",
       "\n",
       "            7         8         9  ...       590       591       592  \\\n",
       "0    0.900000  0.700000  0.000000  ...  0.000000  0.000000  0.000000   \n",
       "1    0.999981  0.919428  0.190981  ...  0.008033  0.116145  0.008953   \n",
       "2    0.978947  0.956410  0.222362  ...  0.004348  0.134424  0.008143   \n",
       "3    0.200000  0.260000  0.060000  ...  0.160000  0.160000  0.020000   \n",
       "4    0.500000  0.700000  0.020000  ...  0.080000  0.040000  0.000000   \n",
       "..        ...       ...       ...  ...       ...       ...       ...   \n",
       "98   0.970128  0.911720  0.357883  ...  0.021434  0.366140  0.008192   \n",
       "99   0.961304  0.946493  0.278537  ...  0.009972  0.151142  0.019199   \n",
       "100  0.975472  0.856107  0.092754  ...  0.052250  0.090671  0.030476   \n",
       "101  0.931417  0.914461  0.491364  ...  0.033096  0.298770  0.014785   \n",
       "102  0.966473  0.855453  0.201188  ...  0.175669  0.079665  0.050506   \n",
       "\n",
       "          593       594       595       596       597       598       599  \n",
       "0    0.000000  0.000000  0.000000  0.100000  0.000000  0.000000  0.100000  \n",
       "1    0.005724  0.019587  0.000006  0.086366  0.004611  0.023565  0.035616  \n",
       "2    0.002297  0.017564  0.001495  0.077032  0.001742  0.015208  0.014884  \n",
       "3    0.000000  0.020000  0.000000  0.080000  0.000000  0.000000  0.180000  \n",
       "4    0.000000  0.000000  0.000000  0.020000  0.000000  0.000000  0.000000  \n",
       "..        ...       ...       ...       ...       ...       ...       ...  \n",
       "98   0.008202  0.047411  0.010420  0.232162  0.007767  0.008202  0.074180  \n",
       "99   0.006633  0.011121  0.006386  0.105893  0.006138  0.020259  0.019785  \n",
       "100  0.013024  0.066332  0.009552  0.026813  0.008088  0.066990  0.018488  \n",
       "101  0.012434  0.013289  0.014474  0.281264  0.010706  0.013405  0.084746  \n",
       "102  0.019880  0.018468  0.023380  0.039212  0.009885  0.063439  0.046219  \n",
       "\n",
       "[103 rows x 600 columns]"
      ]
     },
     "execution_count": 7,
     "metadata": {},
     "output_type": "execute_result"
    },
    {
     "data": {
      "application/javascript": [
       "\n",
       "            setTimeout(function() {\n",
       "                var nbb_cell_id = 7;\n",
       "                var nbb_unformatted_code = \"pd_ypredproba_all_class2\";\n",
       "                var nbb_formatted_code = \"pd_ypredproba_all_class2\";\n",
       "                var nbb_cells = Jupyter.notebook.get_cells();\n",
       "                for (var i = 0; i < nbb_cells.length; ++i) {\n",
       "                    if (nbb_cells[i].input_prompt_number == nbb_cell_id) {\n",
       "                        if (nbb_cells[i].get_text() == nbb_unformatted_code) {\n",
       "                             nbb_cells[i].set_text(nbb_formatted_code);\n",
       "                        }\n",
       "                        break;\n",
       "                    }\n",
       "                }\n",
       "            }, 500);\n",
       "            "
      ],
      "text/plain": [
       "<IPython.core.display.Javascript object>"
      ]
     },
     "metadata": {},
     "output_type": "display_data"
    }
   ],
   "source": [
    "pd_ypredproba_all_class2"
   ]
  },
  {
   "cell_type": "code",
   "execution_count": 8,
   "metadata": {
    "scrolled": true
   },
   "outputs": [
    {
     "name": "stdout",
     "output_type": "stream",
     "text": [
      "0.8886190707463169 0.8886190707463169\n",
      "0.9178477001592273 0.9178477001592272\n",
      "0.9114979197447021 0.911497919744702\n",
      "0.6273461567579214 0.6273461567579214\n",
      "0.8468523905422541 0.8468523905422541\n",
      "0.5831381733021077 0.5831381733021077\n",
      "0.5851986956281435 0.5851986956281435\n",
      "0.886997374850869 0.886997374850869\n",
      "0.864994775339603 0.864994775339603\n",
      "0.8725485210611068 0.8725485210611068\n",
      "0.6140006614485723 0.6140006614485723\n",
      "0.8511465215701515 0.8511465215701515\n",
      "0.8851384167071393 0.8851384167071393\n",
      "0.5662752107392047 0.5662752107392047\n",
      "0.8697904510861855 0.8697904510861855\n",
      "0.8515025376498735 0.8515025376498735\n",
      "0.8511465215701515 0.8511465215701515\n",
      "0.8867589442471787 0.8867589442471787\n",
      "0.8858436510798574 0.8858436510798574\n",
      "0.8816577626679619 0.8816577626679619\n",
      "0.5747238466536713 0.5747238466536713\n",
      "0.8436781609195403 0.8436781609195403\n",
      "0.8867589442471787 0.8867589442471787\n",
      "0.8601753242048832 0.8601753242048832\n",
      "0.8604774990636831 0.8604774990636831\n",
      "0.8927622176810782 0.8927622176810782\n",
      "0.8927622176810782 0.8927622176810782\n",
      "0.8738805054594528 0.8738805054594528\n",
      "0.8624338624338624 0.8624338624338624\n",
      "0.8757695443571661 0.8757695443571661\n",
      "0.8678785961606569 0.8678785961606569\n",
      "0.8811490255741504 0.8811490255741504\n",
      "0.8523782769575085 0.8523782769575085\n",
      "0.886997374850869 0.886997374850869\n",
      "0.8589065255731922 0.8589065255731922\n",
      "0.8544500925739424 0.8544500925739424\n",
      "0.8582722970835276 0.8582722970835276\n",
      "0.8579573192589077 0.8579573192589077\n",
      "0.8867589442471787 0.8867589442471787\n",
      "0.8573088838535095 0.8573088838535095\n",
      "0.8672547980506458 0.8672547980506458\n",
      "0.8639655615870909 0.8639655615870909\n",
      "0.8814058742041307 0.8814058742041307\n",
      "0.654021294021294 0.6540212940212939\n",
      "0.8893029343804676 0.8893029343804676\n",
      "0.8562886117668327 0.8562886117668327\n",
      "0.8483245149911818 0.8483245149911818\n",
      "0.8640381905501395 0.8640381905501395\n",
      "0.860832121289225 0.8608321212892249\n",
      "0.8872311652052524 0.8872311652052524\n",
      "0.863714925998663 0.8637149259986631\n",
      "0.8559354269103395 0.8559354269103395\n",
      "0.8428961173271936 0.8428961173271936\n",
      "0.7277546523581012 0.7277546523581012\n",
      "0.8884467265725289 0.8884467265725289\n",
      "0.706703462710248 0.706703462710248\n",
      "0.7366621067031465 0.7366621067031465\n",
      "0.911721530549929 0.9117215305499291\n",
      "0.8870168620896463 0.8870168620896463\n",
      "0.913440317210938 0.913440317210938\n",
      "0.729023371179359 0.729023371179359\n",
      "0.8811260251425977 0.8811260251425977\n",
      "0.9101110986421278 0.9101110986421278\n",
      "0.7206833446271429 0.7206833446271429\n",
      "0.8892687559354227 0.8892687559354227\n",
      "0.90211941610449 0.90211941610449\n",
      "0.8825577714466604 0.8825577714466604\n",
      "0.9150527935480448 0.9150527935480448\n",
      "0.9133333333333333 0.9133333333333332\n",
      "0.911721530549929 0.9117215305499291\n",
      "0.7339955736034559 0.7339955736034559\n",
      "0.9043010786771862 0.9043010786771862\n",
      "0.9150527935480448 0.9150527935480448\n",
      "0.9025527736867944 0.9025527736867944\n",
      "0.890389493072045 0.890389493072045\n",
      "0.913440317210938 0.913440317210938\n",
      "0.9133333333333333 0.9133333333333332\n",
      "0.9150527935480448 0.9150527935480448\n",
      "0.8862255587325178 0.8862255587325178\n",
      "0.8991925245035804 0.8991925245035804\n",
      "0.8975853649001465 0.8975853649001465\n",
      "0.913440317210938 0.913440317210938\n",
      "0.9024115967121149 0.9024115967121148\n",
      "0.9133333333333333 0.9133333333333332\n",
      "0.9009432217886665 0.9009432217886664\n",
      "0.8843161492038102 0.8843161492038102\n",
      "0.8961237960530747 0.8961237960530747\n",
      "0.8809629941082684 0.8809629941082684\n",
      "0.913440317210938 0.913440317210938\n",
      "0.9038800170016393 0.9038800170016392\n",
      "0.8875117942345873 0.8875117942345873\n",
      "0.8827204148986326 0.8827204148986326\n",
      "0.9133333333333333 0.9133333333333332\n",
      "0.7256599159713346 0.7256599159713346\n",
      "0.9149465423859273 0.9149465423859272\n",
      "0.9025527736867944 0.9025527736867944\n",
      "0.8994746413416851 0.8994746413416851\n",
      "0.8793695696100223 0.8793695696100223\n",
      "0.8959797404241852 0.8959797404241852\n",
      "0.911721530549929 0.9117215305499291\n",
      "0.887350578932146 0.887350578932146\n",
      "0.9009432217886665 0.9009432217886664\n",
      "0.8889511272930963 0.8889511272930963\n"
     ]
    },
    {
     "data": {
      "application/javascript": [
       "\n",
       "            setTimeout(function() {\n",
       "                var nbb_cell_id = 8;\n",
       "                var nbb_unformatted_code = \"# cross check the values are correct\\nfinalval = np.zeros((600, 2))\\ntemp_pd_ypredproba = pd_ypredproba_all_class2\\n\\nfor i in range(pd_acc_class2.shape[0]):\\n\\n    predprob = np.column_stack(\\n        (temp_pd_ypredproba.iloc[i, :], 1 - temp_pd_ypredproba.iloc[i, :])\\n    )\\n    finalval += predprob\\n\\n    print(\\n        m.f1_score(ytest_class2, np.argmax(predprob, axis=1), average=\\\"weighted\\\"),\\n        pd_acc_class2.iloc[i, 0],\\n    )\";\n",
       "                var nbb_formatted_code = \"# cross check the values are correct\\nfinalval = np.zeros((600, 2))\\ntemp_pd_ypredproba = pd_ypredproba_all_class2\\n\\nfor i in range(pd_acc_class2.shape[0]):\\n\\n    predprob = np.column_stack(\\n        (temp_pd_ypredproba.iloc[i, :], 1 - temp_pd_ypredproba.iloc[i, :])\\n    )\\n    finalval += predprob\\n\\n    print(\\n        m.f1_score(ytest_class2, np.argmax(predprob, axis=1), average=\\\"weighted\\\"),\\n        pd_acc_class2.iloc[i, 0],\\n    )\";\n",
       "                var nbb_cells = Jupyter.notebook.get_cells();\n",
       "                for (var i = 0; i < nbb_cells.length; ++i) {\n",
       "                    if (nbb_cells[i].input_prompt_number == nbb_cell_id) {\n",
       "                        if (nbb_cells[i].get_text() == nbb_unformatted_code) {\n",
       "                             nbb_cells[i].set_text(nbb_formatted_code);\n",
       "                        }\n",
       "                        break;\n",
       "                    }\n",
       "                }\n",
       "            }, 500);\n",
       "            "
      ],
      "text/plain": [
       "<IPython.core.display.Javascript object>"
      ]
     },
     "metadata": {},
     "output_type": "display_data"
    }
   ],
   "source": [
    "# cross check the values are correct\n",
    "finalval = np.zeros((600, 2))\n",
    "temp_pd_ypredproba = pd_ypredproba_all_class2\n",
    "\n",
    "for i in range(pd_acc_class2.shape[0]):\n",
    "\n",
    "    predprob = np.column_stack(\n",
    "        (temp_pd_ypredproba.iloc[i, :], 1 - temp_pd_ypredproba.iloc[i, :])\n",
    "    )\n",
    "    finalval += predprob\n",
    "\n",
    "    print(\n",
    "        m.f1_score(ytest_class2, np.argmax(predprob, axis=1), average=\"weighted\"),\n",
    "        pd_acc_class2.iloc[i, 0],\n",
    "    )"
   ]
  },
  {
   "cell_type": "code",
   "execution_count": 9,
   "metadata": {
    "scrolled": true
   },
   "outputs": [
    {
     "name": "stdout",
     "output_type": "stream",
     "text": [
      "f1_score 0.7397660911397166\n",
      "accuracy_score 0.7416666666666667\n"
     ]
    },
    {
     "data": {
      "application/javascript": [
       "\n",
       "            setTimeout(function() {\n",
       "                var nbb_cell_id = 9;\n",
       "                var nbb_unformatted_code = \"# using the accuracy value as a weight value for ensemble\\nfinalval = np.zeros((600, 2))\\n\\nfor i in range(pd_acc_class1.shape[0]):\\n\\n    predprob = np.column_stack(\\n        (pd_ypredproba_all_class1.iloc[i, :], 1 - pd_ypredproba_all_class1.iloc[i, :])\\n    )\\n\\n    finalval += pd_acc_class0.iloc[i, 0] * predprob\\n\\nprint(\\n    \\\"f1_score\\\",\\n    m.f1_score(ytest_class1, np.argmax(finalval, axis=1), average=\\\"weighted\\\"),\\n)\\nprint(\\\"accuracy_score\\\", m.accuracy_score(ytest_class1, np.argmax(finalval, axis=1)))\";\n",
       "                var nbb_formatted_code = \"# using the accuracy value as a weight value for ensemble\\nfinalval = np.zeros((600, 2))\\n\\nfor i in range(pd_acc_class1.shape[0]):\\n\\n    predprob = np.column_stack(\\n        (pd_ypredproba_all_class1.iloc[i, :], 1 - pd_ypredproba_all_class1.iloc[i, :])\\n    )\\n\\n    finalval += pd_acc_class0.iloc[i, 0] * predprob\\n\\nprint(\\n    \\\"f1_score\\\",\\n    m.f1_score(ytest_class1, np.argmax(finalval, axis=1), average=\\\"weighted\\\"),\\n)\\nprint(\\\"accuracy_score\\\", m.accuracy_score(ytest_class1, np.argmax(finalval, axis=1)))\";\n",
       "                var nbb_cells = Jupyter.notebook.get_cells();\n",
       "                for (var i = 0; i < nbb_cells.length; ++i) {\n",
       "                    if (nbb_cells[i].input_prompt_number == nbb_cell_id) {\n",
       "                        if (nbb_cells[i].get_text() == nbb_unformatted_code) {\n",
       "                             nbb_cells[i].set_text(nbb_formatted_code);\n",
       "                        }\n",
       "                        break;\n",
       "                    }\n",
       "                }\n",
       "            }, 500);\n",
       "            "
      ],
      "text/plain": [
       "<IPython.core.display.Javascript object>"
      ]
     },
     "metadata": {},
     "output_type": "display_data"
    }
   ],
   "source": [
    "# using the accuracy value as a weight value for ensemble\n",
    "finalval = np.zeros((600, 2))\n",
    "\n",
    "for i in range(pd_acc_class1.shape[0]):\n",
    "\n",
    "    predprob = np.column_stack(\n",
    "        (pd_ypredproba_all_class1.iloc[i, :], 1 - pd_ypredproba_all_class1.iloc[i, :])\n",
    "    )\n",
    "\n",
    "    finalval += pd_acc_class0.iloc[i, 0] * predprob\n",
    "\n",
    "print(\n",
    "    \"f1_score\",\n",
    "    m.f1_score(ytest_class1, np.argmax(finalval, axis=1), average=\"weighted\"),\n",
    ")\n",
    "print(\"accuracy_score\", m.accuracy_score(ytest_class1, np.argmax(finalval, axis=1)))"
   ]
  },
  {
   "cell_type": "code",
   "execution_count": 10,
   "metadata": {},
   "outputs": [
    {
     "name": "stdout",
     "output_type": "stream",
     "text": [
      "f1_score 0.8089137355384736\n",
      "accuracy_score 0.8083333333333333\n",
      "[0.72 0.27 0.15 0.85]\n"
     ]
    },
    {
     "data": {
      "application/javascript": [
       "\n",
       "            setTimeout(function() {\n",
       "                var nbb_cell_id = 10;\n",
       "                var nbb_unformatted_code = \"finalval = np.zeros((600, 2))\\n\\ntemp_pd_ypredproba = pd_ypredproba_all_class0\\ntemp_pd_ypredconfprob = pd_ypredconfprob_all_class0\\n\\nfor i in range(pd_acc_class1.shape[0]):\\n\\n    predprob = np.column_stack(\\n        (\\n            (temp_pd_ypredproba.iloc[i, :] * temp_pd_ypredconfprob.iloc[i, 0])\\n            + ((1 - temp_pd_ypredproba.iloc[i, :]) * temp_pd_ypredconfprob.iloc[i, 1]),\\n            ((1 - temp_pd_ypredproba.iloc[i, :]) * temp_pd_ypredconfprob.iloc[i, 3])\\n            + (temp_pd_ypredproba.iloc[i, :] * temp_pd_ypredconfprob.iloc[i, 2]),\\n        )\\n    )\\n\\n    finalval += predprob\\n\\nprint(\\n    \\\"f1_score\\\",\\n    m.f1_score(ytest_class0, np.argmax(finalval, axis=1), average=\\\"weighted\\\"),\\n)\\nprint(\\\"accuracy_score\\\", m.accuracy_score(ytest_class0, np.argmax(finalval, axis=1)))\\n\\nfinalval_class0 = finalval.copy() / pd_acc_class0.shape[0]\\nconfmat = m.confusion_matrix(ytest_class0, np.argmax(finalval, axis=1))\\nconfsumh = np.sum(confmat, axis=1)\\npropconfmat = confmat.copy()\\nfor i in range(propconfmat.shape[0]):\\n    propconfmat[i] = 100 * propconfmat[i] / confsumh[i]\\npropconfmat_class0 = propconfmat.ravel() / 100\\nprint(propconfmat_class0)\";\n",
       "                var nbb_formatted_code = \"finalval = np.zeros((600, 2))\\n\\ntemp_pd_ypredproba = pd_ypredproba_all_class0\\ntemp_pd_ypredconfprob = pd_ypredconfprob_all_class0\\n\\nfor i in range(pd_acc_class1.shape[0]):\\n\\n    predprob = np.column_stack(\\n        (\\n            (temp_pd_ypredproba.iloc[i, :] * temp_pd_ypredconfprob.iloc[i, 0])\\n            + ((1 - temp_pd_ypredproba.iloc[i, :]) * temp_pd_ypredconfprob.iloc[i, 1]),\\n            ((1 - temp_pd_ypredproba.iloc[i, :]) * temp_pd_ypredconfprob.iloc[i, 3])\\n            + (temp_pd_ypredproba.iloc[i, :] * temp_pd_ypredconfprob.iloc[i, 2]),\\n        )\\n    )\\n\\n    finalval += predprob\\n\\nprint(\\n    \\\"f1_score\\\",\\n    m.f1_score(ytest_class0, np.argmax(finalval, axis=1), average=\\\"weighted\\\"),\\n)\\nprint(\\\"accuracy_score\\\", m.accuracy_score(ytest_class0, np.argmax(finalval, axis=1)))\\n\\nfinalval_class0 = finalval.copy() / pd_acc_class0.shape[0]\\nconfmat = m.confusion_matrix(ytest_class0, np.argmax(finalval, axis=1))\\nconfsumh = np.sum(confmat, axis=1)\\npropconfmat = confmat.copy()\\nfor i in range(propconfmat.shape[0]):\\n    propconfmat[i] = 100 * propconfmat[i] / confsumh[i]\\npropconfmat_class0 = propconfmat.ravel() / 100\\nprint(propconfmat_class0)\";\n",
       "                var nbb_cells = Jupyter.notebook.get_cells();\n",
       "                for (var i = 0; i < nbb_cells.length; ++i) {\n",
       "                    if (nbb_cells[i].input_prompt_number == nbb_cell_id) {\n",
       "                        if (nbb_cells[i].get_text() == nbb_unformatted_code) {\n",
       "                             nbb_cells[i].set_text(nbb_formatted_code);\n",
       "                        }\n",
       "                        break;\n",
       "                    }\n",
       "                }\n",
       "            }, 500);\n",
       "            "
      ],
      "text/plain": [
       "<IPython.core.display.Javascript object>"
      ]
     },
     "metadata": {},
     "output_type": "display_data"
    }
   ],
   "source": [
    "finalval = np.zeros((600, 2))\n",
    "\n",
    "temp_pd_ypredproba = pd_ypredproba_all_class0\n",
    "temp_pd_ypredconfprob = pd_ypredconfprob_all_class0\n",
    "\n",
    "for i in range(pd_acc_class1.shape[0]):\n",
    "\n",
    "    predprob = np.column_stack(\n",
    "        (\n",
    "            (temp_pd_ypredproba.iloc[i, :] * temp_pd_ypredconfprob.iloc[i, 0])\n",
    "            + ((1 - temp_pd_ypredproba.iloc[i, :]) * temp_pd_ypredconfprob.iloc[i, 1]),\n",
    "            ((1 - temp_pd_ypredproba.iloc[i, :]) * temp_pd_ypredconfprob.iloc[i, 3])\n",
    "            + (temp_pd_ypredproba.iloc[i, :] * temp_pd_ypredconfprob.iloc[i, 2]),\n",
    "        )\n",
    "    )\n",
    "\n",
    "    finalval += predprob\n",
    "\n",
    "print(\n",
    "    \"f1_score\",\n",
    "    m.f1_score(ytest_class0, np.argmax(finalval, axis=1), average=\"weighted\"),\n",
    ")\n",
    "print(\"accuracy_score\", m.accuracy_score(ytest_class0, np.argmax(finalval, axis=1)))\n",
    "\n",
    "finalval_class0 = finalval.copy() / pd_acc_class0.shape[0]\n",
    "confmat = m.confusion_matrix(ytest_class0, np.argmax(finalval, axis=1))\n",
    "confsumh = np.sum(confmat, axis=1)\n",
    "propconfmat = confmat.copy()\n",
    "for i in range(propconfmat.shape[0]):\n",
    "    propconfmat[i] = 100 * propconfmat[i] / confsumh[i]\n",
    "propconfmat_class0 = propconfmat.ravel() / 100\n",
    "print(propconfmat_class0)"
   ]
  },
  {
   "cell_type": "code",
   "execution_count": null,
   "metadata": {},
   "outputs": [],
   "source": []
  },
  {
   "cell_type": "code",
   "execution_count": 11,
   "metadata": {},
   "outputs": [
    {
     "name": "stdout",
     "output_type": "stream",
     "text": [
      "f1_score 0.7451583806441344\n",
      "accuracy_score 0.745\n",
      "[0.24 0.75 0.38 0.62]\n"
     ]
    },
    {
     "data": {
      "application/javascript": [
       "\n",
       "            setTimeout(function() {\n",
       "                var nbb_cell_id = 11;\n",
       "                var nbb_unformatted_code = \"finalval = np.zeros((600, 2))\\n\\ntemp_pd_ypredproba = pd_ypredproba_all_class1\\ntemp_pd_ypredconfprob = pd_ypredconfprob_all_class1\\n\\nfor i in range(pd_acc_class1.shape[0]):\\n\\n    predprob = np.column_stack(\\n        (\\n            (temp_pd_ypredproba.iloc[i, :] * temp_pd_ypredconfprob.iloc[i, 0])\\n            + ((1 - temp_pd_ypredproba.iloc[i, :]) * temp_pd_ypredconfprob.iloc[i, 1]),\\n            ((1 - temp_pd_ypredproba.iloc[i, :]) * temp_pd_ypredconfprob.iloc[i, 3])\\n            + (temp_pd_ypredproba.iloc[i, :] * temp_pd_ypredconfprob.iloc[i, 2]),\\n        )\\n    )\\n\\n    finalval += predprob\\n\\nprint(\\n    \\\"f1_score\\\",\\n    m.f1_score(ytest_class1, np.argmax(finalval, axis=1), average=\\\"weighted\\\"),\\n)\\nprint(\\\"accuracy_score\\\", m.accuracy_score(ytest_class1, np.argmax(finalval, axis=1)))\\n\\nfinalval_class1 = finalval.copy() / pd_acc_class1.shape[0]\\nconfmat = m.confusion_matrix(ytest_class0, np.argmax(finalval, axis=1))\\nconfsumh = np.sum(confmat, axis=1)\\npropconfmat = confmat.copy()\\nfor i in range(propconfmat.shape[0]):\\n    propconfmat[i] = 100 * propconfmat[i] / confsumh[i]\\npropconfmat_class1 = propconfmat.ravel() / 100\\nprint(propconfmat_class1)\";\n",
       "                var nbb_formatted_code = \"finalval = np.zeros((600, 2))\\n\\ntemp_pd_ypredproba = pd_ypredproba_all_class1\\ntemp_pd_ypredconfprob = pd_ypredconfprob_all_class1\\n\\nfor i in range(pd_acc_class1.shape[0]):\\n\\n    predprob = np.column_stack(\\n        (\\n            (temp_pd_ypredproba.iloc[i, :] * temp_pd_ypredconfprob.iloc[i, 0])\\n            + ((1 - temp_pd_ypredproba.iloc[i, :]) * temp_pd_ypredconfprob.iloc[i, 1]),\\n            ((1 - temp_pd_ypredproba.iloc[i, :]) * temp_pd_ypredconfprob.iloc[i, 3])\\n            + (temp_pd_ypredproba.iloc[i, :] * temp_pd_ypredconfprob.iloc[i, 2]),\\n        )\\n    )\\n\\n    finalval += predprob\\n\\nprint(\\n    \\\"f1_score\\\",\\n    m.f1_score(ytest_class1, np.argmax(finalval, axis=1), average=\\\"weighted\\\"),\\n)\\nprint(\\\"accuracy_score\\\", m.accuracy_score(ytest_class1, np.argmax(finalval, axis=1)))\\n\\nfinalval_class1 = finalval.copy() / pd_acc_class1.shape[0]\\nconfmat = m.confusion_matrix(ytest_class0, np.argmax(finalval, axis=1))\\nconfsumh = np.sum(confmat, axis=1)\\npropconfmat = confmat.copy()\\nfor i in range(propconfmat.shape[0]):\\n    propconfmat[i] = 100 * propconfmat[i] / confsumh[i]\\npropconfmat_class1 = propconfmat.ravel() / 100\\nprint(propconfmat_class1)\";\n",
       "                var nbb_cells = Jupyter.notebook.get_cells();\n",
       "                for (var i = 0; i < nbb_cells.length; ++i) {\n",
       "                    if (nbb_cells[i].input_prompt_number == nbb_cell_id) {\n",
       "                        if (nbb_cells[i].get_text() == nbb_unformatted_code) {\n",
       "                             nbb_cells[i].set_text(nbb_formatted_code);\n",
       "                        }\n",
       "                        break;\n",
       "                    }\n",
       "                }\n",
       "            }, 500);\n",
       "            "
      ],
      "text/plain": [
       "<IPython.core.display.Javascript object>"
      ]
     },
     "metadata": {},
     "output_type": "display_data"
    }
   ],
   "source": [
    "finalval = np.zeros((600, 2))\n",
    "\n",
    "temp_pd_ypredproba = pd_ypredproba_all_class1\n",
    "temp_pd_ypredconfprob = pd_ypredconfprob_all_class1\n",
    "\n",
    "for i in range(pd_acc_class1.shape[0]):\n",
    "\n",
    "    predprob = np.column_stack(\n",
    "        (\n",
    "            (temp_pd_ypredproba.iloc[i, :] * temp_pd_ypredconfprob.iloc[i, 0])\n",
    "            + ((1 - temp_pd_ypredproba.iloc[i, :]) * temp_pd_ypredconfprob.iloc[i, 1]),\n",
    "            ((1 - temp_pd_ypredproba.iloc[i, :]) * temp_pd_ypredconfprob.iloc[i, 3])\n",
    "            + (temp_pd_ypredproba.iloc[i, :] * temp_pd_ypredconfprob.iloc[i, 2]),\n",
    "        )\n",
    "    )\n",
    "\n",
    "    finalval += predprob\n",
    "\n",
    "print(\n",
    "    \"f1_score\",\n",
    "    m.f1_score(ytest_class1, np.argmax(finalval, axis=1), average=\"weighted\"),\n",
    ")\n",
    "print(\"accuracy_score\", m.accuracy_score(ytest_class1, np.argmax(finalval, axis=1)))\n",
    "\n",
    "finalval_class1 = finalval.copy() / pd_acc_class1.shape[0]\n",
    "confmat = m.confusion_matrix(ytest_class0, np.argmax(finalval, axis=1))\n",
    "confsumh = np.sum(confmat, axis=1)\n",
    "propconfmat = confmat.copy()\n",
    "for i in range(propconfmat.shape[0]):\n",
    "    propconfmat[i] = 100 * propconfmat[i] / confsumh[i]\n",
    "propconfmat_class1 = propconfmat.ravel() / 100\n",
    "print(propconfmat_class1)"
   ]
  },
  {
   "cell_type": "code",
   "execution_count": null,
   "metadata": {},
   "outputs": [],
   "source": []
  },
  {
   "cell_type": "code",
   "execution_count": 12,
   "metadata": {},
   "outputs": [
    {
     "name": "stdout",
     "output_type": "stream",
     "text": [
      "f1_score 0.9183419043166589\n",
      "accuracy_score 0.92\n",
      "[0.81 0.19 0.02 0.97]\n"
     ]
    },
    {
     "data": {
      "application/javascript": [
       "\n",
       "            setTimeout(function() {\n",
       "                var nbb_cell_id = 12;\n",
       "                var nbb_unformatted_code = \"finalval = np.zeros((600, 2))\\n\\ntemp_pd_ypredproba = pd_ypredproba_all_class2\\ntemp_pd_ypredconfprob = pd_ypredconfprob_all_class2\\n\\nfor i in range(pd_acc_class1.shape[0]):\\n\\n    predprob = np.column_stack(\\n        (\\n            (temp_pd_ypredproba.iloc[i, :] * temp_pd_ypredconfprob.iloc[i, 0])\\n            + ((1 - temp_pd_ypredproba.iloc[i, :]) * temp_pd_ypredconfprob.iloc[i, 1]),\\n            ((1 - temp_pd_ypredproba.iloc[i, :]) * temp_pd_ypredconfprob.iloc[i, 3])\\n            + (temp_pd_ypredproba.iloc[i, :] * temp_pd_ypredconfprob.iloc[i, 2]),\\n        )\\n    )\\n\\n    finalval += predprob\\n\\nprint(\\n    \\\"f1_score\\\",\\n    m.f1_score(ytest_class2, np.argmax(finalval, axis=1), average=\\\"weighted\\\"),\\n)\\nprint(\\\"accuracy_score\\\", m.accuracy_score(ytest_class2, np.argmax(finalval, axis=1)))\\n\\nfinalval_class2 = finalval.copy() / pd_acc_class2.shape[0]\\nconfmat = m.confusion_matrix(ytest_class2, np.argmax(finalval, axis=1))\\nconfsumh = np.sum(confmat, axis=1)\\npropconfmat = confmat.copy()\\nfor i in range(propconfmat.shape[0]):\\n    propconfmat[i] = 100 * propconfmat[i] / confsumh[i]\\npropconfmat_class2 = propconfmat.ravel() / 100\\nprint(propconfmat_class2)\";\n",
       "                var nbb_formatted_code = \"finalval = np.zeros((600, 2))\\n\\ntemp_pd_ypredproba = pd_ypredproba_all_class2\\ntemp_pd_ypredconfprob = pd_ypredconfprob_all_class2\\n\\nfor i in range(pd_acc_class1.shape[0]):\\n\\n    predprob = np.column_stack(\\n        (\\n            (temp_pd_ypredproba.iloc[i, :] * temp_pd_ypredconfprob.iloc[i, 0])\\n            + ((1 - temp_pd_ypredproba.iloc[i, :]) * temp_pd_ypredconfprob.iloc[i, 1]),\\n            ((1 - temp_pd_ypredproba.iloc[i, :]) * temp_pd_ypredconfprob.iloc[i, 3])\\n            + (temp_pd_ypredproba.iloc[i, :] * temp_pd_ypredconfprob.iloc[i, 2]),\\n        )\\n    )\\n\\n    finalval += predprob\\n\\nprint(\\n    \\\"f1_score\\\",\\n    m.f1_score(ytest_class2, np.argmax(finalval, axis=1), average=\\\"weighted\\\"),\\n)\\nprint(\\\"accuracy_score\\\", m.accuracy_score(ytest_class2, np.argmax(finalval, axis=1)))\\n\\nfinalval_class2 = finalval.copy() / pd_acc_class2.shape[0]\\nconfmat = m.confusion_matrix(ytest_class2, np.argmax(finalval, axis=1))\\nconfsumh = np.sum(confmat, axis=1)\\npropconfmat = confmat.copy()\\nfor i in range(propconfmat.shape[0]):\\n    propconfmat[i] = 100 * propconfmat[i] / confsumh[i]\\npropconfmat_class2 = propconfmat.ravel() / 100\\nprint(propconfmat_class2)\";\n",
       "                var nbb_cells = Jupyter.notebook.get_cells();\n",
       "                for (var i = 0; i < nbb_cells.length; ++i) {\n",
       "                    if (nbb_cells[i].input_prompt_number == nbb_cell_id) {\n",
       "                        if (nbb_cells[i].get_text() == nbb_unformatted_code) {\n",
       "                             nbb_cells[i].set_text(nbb_formatted_code);\n",
       "                        }\n",
       "                        break;\n",
       "                    }\n",
       "                }\n",
       "            }, 500);\n",
       "            "
      ],
      "text/plain": [
       "<IPython.core.display.Javascript object>"
      ]
     },
     "metadata": {},
     "output_type": "display_data"
    }
   ],
   "source": [
    "finalval = np.zeros((600, 2))\n",
    "\n",
    "temp_pd_ypredproba = pd_ypredproba_all_class2\n",
    "temp_pd_ypredconfprob = pd_ypredconfprob_all_class2\n",
    "\n",
    "for i in range(pd_acc_class1.shape[0]):\n",
    "\n",
    "    predprob = np.column_stack(\n",
    "        (\n",
    "            (temp_pd_ypredproba.iloc[i, :] * temp_pd_ypredconfprob.iloc[i, 0])\n",
    "            + ((1 - temp_pd_ypredproba.iloc[i, :]) * temp_pd_ypredconfprob.iloc[i, 1]),\n",
    "            ((1 - temp_pd_ypredproba.iloc[i, :]) * temp_pd_ypredconfprob.iloc[i, 3])\n",
    "            + (temp_pd_ypredproba.iloc[i, :] * temp_pd_ypredconfprob.iloc[i, 2]),\n",
    "        )\n",
    "    )\n",
    "\n",
    "    finalval += predprob\n",
    "\n",
    "print(\n",
    "    \"f1_score\",\n",
    "    m.f1_score(ytest_class2, np.argmax(finalval, axis=1), average=\"weighted\"),\n",
    ")\n",
    "print(\"accuracy_score\", m.accuracy_score(ytest_class2, np.argmax(finalval, axis=1)))\n",
    "\n",
    "finalval_class2 = finalval.copy() / pd_acc_class2.shape[0]\n",
    "confmat = m.confusion_matrix(ytest_class2, np.argmax(finalval, axis=1))\n",
    "confsumh = np.sum(confmat, axis=1)\n",
    "propconfmat = confmat.copy()\n",
    "for i in range(propconfmat.shape[0]):\n",
    "    propconfmat[i] = 100 * propconfmat[i] / confsumh[i]\n",
    "propconfmat_class2 = propconfmat.ravel() / 100\n",
    "print(propconfmat_class2)"
   ]
  },
  {
   "cell_type": "code",
   "execution_count": 13,
   "metadata": {},
   "outputs": [
    {
     "data": {
      "application/javascript": [
       "\n",
       "            setTimeout(function() {\n",
       "                var nbb_cell_id = 13;\n",
       "                var nbb_unformatted_code = \"acc = [0.8122369749204131, 0.7463460277279999, 0.9223705713932164]\";\n",
       "                var nbb_formatted_code = \"acc = [0.8122369749204131, 0.7463460277279999, 0.9223705713932164]\";\n",
       "                var nbb_cells = Jupyter.notebook.get_cells();\n",
       "                for (var i = 0; i < nbb_cells.length; ++i) {\n",
       "                    if (nbb_cells[i].input_prompt_number == nbb_cell_id) {\n",
       "                        if (nbb_cells[i].get_text() == nbb_unformatted_code) {\n",
       "                             nbb_cells[i].set_text(nbb_formatted_code);\n",
       "                        }\n",
       "                        break;\n",
       "                    }\n",
       "                }\n",
       "            }, 500);\n",
       "            "
      ],
      "text/plain": [
       "<IPython.core.display.Javascript object>"
      ]
     },
     "metadata": {},
     "output_type": "display_data"
    }
   ],
   "source": [
    "acc = [0.8122369749204131, 0.7463460277279999, 0.9223705713932164]"
   ]
  },
  {
   "cell_type": "code",
   "execution_count": 14,
   "metadata": {},
   "outputs": [
    {
     "data": {
      "application/javascript": [
       "\n",
       "            setTimeout(function() {\n",
       "                var nbb_cell_id = 14;\n",
       "                var nbb_unformatted_code = \"probablity_not_class0 = (finalval_class0[:, 1] * propconfmat_class0[3]) + (\\n    finalval_class0[i, 0] * propconfmat_class0[2]\\n)\\n\\nprobablity_not_class1 = (finalval_class1[:, 1] * propconfmat_class1[3]) + (\\n    finalval_class1[i, 0] * propconfmat_class1[2]\\n)\\nprobablity_not_class2 = (finalval_class2[:, 1] * propconfmat_class2[3]) + (\\n    finalval_class2[i, 0] * propconfmat_class2[2]\\n)\";\n",
       "                var nbb_formatted_code = \"probablity_not_class0 = (finalval_class0[:, 1] * propconfmat_class0[3]) + (\\n    finalval_class0[i, 0] * propconfmat_class0[2]\\n)\\n\\nprobablity_not_class1 = (finalval_class1[:, 1] * propconfmat_class1[3]) + (\\n    finalval_class1[i, 0] * propconfmat_class1[2]\\n)\\nprobablity_not_class2 = (finalval_class2[:, 1] * propconfmat_class2[3]) + (\\n    finalval_class2[i, 0] * propconfmat_class2[2]\\n)\";\n",
       "                var nbb_cells = Jupyter.notebook.get_cells();\n",
       "                for (var i = 0; i < nbb_cells.length; ++i) {\n",
       "                    if (nbb_cells[i].input_prompt_number == nbb_cell_id) {\n",
       "                        if (nbb_cells[i].get_text() == nbb_unformatted_code) {\n",
       "                             nbb_cells[i].set_text(nbb_formatted_code);\n",
       "                        }\n",
       "                        break;\n",
       "                    }\n",
       "                }\n",
       "            }, 500);\n",
       "            "
      ],
      "text/plain": [
       "<IPython.core.display.Javascript object>"
      ]
     },
     "metadata": {},
     "output_type": "display_data"
    }
   ],
   "source": [
    "probablity_not_class0 = (finalval_class0[:, 1] * propconfmat_class0[3]) + (\n",
    "    finalval_class0[i, 0] * propconfmat_class0[2]\n",
    ")\n",
    "\n",
    "probablity_not_class1 = (finalval_class1[:, 1] * propconfmat_class1[3]) + (\n",
    "    finalval_class1[i, 0] * propconfmat_class1[2]\n",
    ")\n",
    "probablity_not_class2 = (finalval_class2[:, 1] * propconfmat_class2[3]) + (\n",
    "    finalval_class2[i, 0] * propconfmat_class2[2]\n",
    ")"
   ]
  },
  {
   "cell_type": "code",
   "execution_count": 15,
   "metadata": {},
   "outputs": [
    {
     "data": {
      "application/javascript": [
       "\n",
       "            setTimeout(function() {\n",
       "                var nbb_cell_id = 15;\n",
       "                var nbb_unformatted_code = \"probablity_being_class0 = (finalval_class0[:, 0] * propconfmat_class0[0]) + (\\n    finalval_class0[i, 1] * propconfmat_class0[1]\\n)\\n\\nprobablity_being_class1 = (finalval_class1[:, 0] * propconfmat_class1[0]) + (\\n    finalval_class1[i, 1] * propconfmat_class1[1]\\n)\\nprobablity_being_class2 = (finalval_class2[:, 0] * propconfmat_class2[3]) + (\\n    finalval_class2[i, 0] * propconfmat_class2[2]\\n)\";\n",
       "                var nbb_formatted_code = \"probablity_being_class0 = (finalval_class0[:, 0] * propconfmat_class0[0]) + (\\n    finalval_class0[i, 1] * propconfmat_class0[1]\\n)\\n\\nprobablity_being_class1 = (finalval_class1[:, 0] * propconfmat_class1[0]) + (\\n    finalval_class1[i, 1] * propconfmat_class1[1]\\n)\\nprobablity_being_class2 = (finalval_class2[:, 0] * propconfmat_class2[3]) + (\\n    finalval_class2[i, 0] * propconfmat_class2[2]\\n)\";\n",
       "                var nbb_cells = Jupyter.notebook.get_cells();\n",
       "                for (var i = 0; i < nbb_cells.length; ++i) {\n",
       "                    if (nbb_cells[i].input_prompt_number == nbb_cell_id) {\n",
       "                        if (nbb_cells[i].get_text() == nbb_unformatted_code) {\n",
       "                             nbb_cells[i].set_text(nbb_formatted_code);\n",
       "                        }\n",
       "                        break;\n",
       "                    }\n",
       "                }\n",
       "            }, 500);\n",
       "            "
      ],
      "text/plain": [
       "<IPython.core.display.Javascript object>"
      ]
     },
     "metadata": {},
     "output_type": "display_data"
    }
   ],
   "source": [
    "probablity_being_class0 = (finalval_class0[:, 0] * propconfmat_class0[0]) + (\n",
    "    finalval_class0[i, 1] * propconfmat_class0[1]\n",
    ")\n",
    "\n",
    "probablity_being_class1 = (finalval_class1[:, 0] * propconfmat_class1[0]) + (\n",
    "    finalval_class1[i, 1] * propconfmat_class1[1]\n",
    ")\n",
    "probablity_being_class2 = (finalval_class2[:, 0] * propconfmat_class2[3]) + (\n",
    "    finalval_class2[i, 0] * propconfmat_class2[2]\n",
    ")"
   ]
  },
  {
   "cell_type": "code",
   "execution_count": 16,
   "metadata": {},
   "outputs": [
    {
     "name": "stdout",
     "output_type": "stream",
     "text": [
      "0\n",
      "1\n",
      "2\n",
      "3\n",
      "4\n",
      "5\n",
      "6\n",
      "7\n",
      "8\n",
      "9\n",
      "2.434175125443857 [0.97274604 0.96746411 0.99998839]\n"
     ]
    },
    {
     "data": {
      "application/javascript": [
       "\n",
       "            setTimeout(function() {\n",
       "                var nbb_cell_id = 16;\n",
       "                var nbb_unformatted_code = \"import calculateWeightUsingGa2 as aresult\\n\\nweightvalga = aresult.getbestvalues(np.array(acc))\";\n",
       "                var nbb_formatted_code = \"import calculateWeightUsingGa2 as aresult\\n\\nweightvalga = aresult.getbestvalues(np.array(acc))\";\n",
       "                var nbb_cells = Jupyter.notebook.get_cells();\n",
       "                for (var i = 0; i < nbb_cells.length; ++i) {\n",
       "                    if (nbb_cells[i].input_prompt_number == nbb_cell_id) {\n",
       "                        if (nbb_cells[i].get_text() == nbb_unformatted_code) {\n",
       "                             nbb_cells[i].set_text(nbb_formatted_code);\n",
       "                        }\n",
       "                        break;\n",
       "                    }\n",
       "                }\n",
       "            }, 500);\n",
       "            "
      ],
      "text/plain": [
       "<IPython.core.display.Javascript object>"
      ]
     },
     "metadata": {},
     "output_type": "display_data"
    }
   ],
   "source": [
    "import calculateWeightUsingGa2 as aresult\n",
    "\n",
    "weightvalga = aresult.getbestvalues(np.array(acc))"
   ]
  },
  {
   "cell_type": "code",
   "execution_count": 17,
   "metadata": {},
   "outputs": [
    {
     "data": {
      "application/javascript": [
       "\n",
       "            setTimeout(function() {\n",
       "                var nbb_cell_id = 17;\n",
       "                var nbb_unformatted_code = \"m0 = np.mean(abs(0.5 - finalval_class0[:, 0]))\\nm1 = np.mean(abs(0.5 - finalval_class1[:, 0]))\\nm2 = np.mean(abs(0.5 - finalval_class2[:, 0]))\\nms = m0 + m1 + m2\\n\\nw0 = m0 / ms\\nw1 = m1 / ms\\nw2 = m2 / ms\";\n",
       "                var nbb_formatted_code = \"m0 = np.mean(abs(0.5 - finalval_class0[:, 0]))\\nm1 = np.mean(abs(0.5 - finalval_class1[:, 0]))\\nm2 = np.mean(abs(0.5 - finalval_class2[:, 0]))\\nms = m0 + m1 + m2\\n\\nw0 = m0 / ms\\nw1 = m1 / ms\\nw2 = m2 / ms\";\n",
       "                var nbb_cells = Jupyter.notebook.get_cells();\n",
       "                for (var i = 0; i < nbb_cells.length; ++i) {\n",
       "                    if (nbb_cells[i].input_prompt_number == nbb_cell_id) {\n",
       "                        if (nbb_cells[i].get_text() == nbb_unformatted_code) {\n",
       "                             nbb_cells[i].set_text(nbb_formatted_code);\n",
       "                        }\n",
       "                        break;\n",
       "                    }\n",
       "                }\n",
       "            }, 500);\n",
       "            "
      ],
      "text/plain": [
       "<IPython.core.display.Javascript object>"
      ]
     },
     "metadata": {},
     "output_type": "display_data"
    }
   ],
   "source": [
    "m0 = np.mean(abs(0.5 - finalval_class0[:, 0]))\n",
    "m1 = np.mean(abs(0.5 - finalval_class1[:, 0]))\n",
    "m2 = np.mean(abs(0.5 - finalval_class2[:, 0]))\n",
    "ms = m0 + m1 + m2\n",
    "\n",
    "w0 = m0 / ms\n",
    "w1 = m1 / ms\n",
    "w2 = m2 / ms"
   ]
  },
  {
   "cell_type": "code",
   "execution_count": 31,
   "metadata": {},
   "outputs": [
    {
     "data": {
      "application/javascript": [
       "\n",
       "            setTimeout(function() {\n",
       "                var nbb_cell_id = 31;\n",
       "                var nbb_unformatted_code = \"pc0 = probablity_being_class0 * probablity_not_class1 * probablity_not_class2\\npc1 = probablity_being_class1 * probablity_not_class0 * probablity_not_class2\\npc2 = probablity_being_class2 * probablity_not_class0 * probablity_not_class1\";\n",
       "                var nbb_formatted_code = \"pc0 = probablity_being_class0 * probablity_not_class1 * probablity_not_class2\\npc1 = probablity_being_class1 * probablity_not_class0 * probablity_not_class2\\npc2 = probablity_being_class2 * probablity_not_class0 * probablity_not_class1\";\n",
       "                var nbb_cells = Jupyter.notebook.get_cells();\n",
       "                for (var i = 0; i < nbb_cells.length; ++i) {\n",
       "                    if (nbb_cells[i].input_prompt_number == nbb_cell_id) {\n",
       "                        if (nbb_cells[i].get_text() == nbb_unformatted_code) {\n",
       "                             nbb_cells[i].set_text(nbb_formatted_code);\n",
       "                        }\n",
       "                        break;\n",
       "                    }\n",
       "                }\n",
       "            }, 500);\n",
       "            "
      ],
      "text/plain": [
       "<IPython.core.display.Javascript object>"
      ]
     },
     "metadata": {},
     "output_type": "display_data"
    }
   ],
   "source": [
    "pc0 = probablity_being_class0 * probablity_not_class1 * probablity_not_class2\n",
    "pc1 = probablity_being_class1 * probablity_not_class0 * probablity_not_class2\n",
    "pc2 = probablity_being_class2 * probablity_not_class0 * probablity_not_class1"
   ]
  },
  {
   "cell_type": "code",
   "execution_count": 32,
   "metadata": {},
   "outputs": [
    {
     "name": "stdout",
     "output_type": "stream",
     "text": [
      "0.735\n",
      "[[156  44   0]\n",
      " [ 66 126   8]\n",
      " [  4  37 159]]\n"
     ]
    },
    {
     "data": {
      "application/javascript": [
       "\n",
       "            setTimeout(function() {\n",
       "                var nbb_cell_id = 32;\n",
       "                var nbb_unformatted_code = \"finalcol = np.zeros((ytest_original.shape[0], 3))\\nfinalcol[:, 0] = pc0 * weightvalga[0]\\nfinalcol[:, 1] = pc1 * weightvalga[1]\\nfinalcol[:, 2] = pc2 * weightvalga[2]\\nfinalpred = np.argmax(finalcol, axis=1)\\n\\nytest = ytest_original.copy()\\nprint(m.accuracy_score(ytest, finalpred))\\nprint(m.confusion_matrix(ytest, finalpred))\\ntemppred = finalpred\";\n",
       "                var nbb_formatted_code = \"finalcol = np.zeros((ytest_original.shape[0], 3))\\nfinalcol[:, 0] = pc0 * weightvalga[0]\\nfinalcol[:, 1] = pc1 * weightvalga[1]\\nfinalcol[:, 2] = pc2 * weightvalga[2]\\nfinalpred = np.argmax(finalcol, axis=1)\\n\\nytest = ytest_original.copy()\\nprint(m.accuracy_score(ytest, finalpred))\\nprint(m.confusion_matrix(ytest, finalpred))\\ntemppred = finalpred\";\n",
       "                var nbb_cells = Jupyter.notebook.get_cells();\n",
       "                for (var i = 0; i < nbb_cells.length; ++i) {\n",
       "                    if (nbb_cells[i].input_prompt_number == nbb_cell_id) {\n",
       "                        if (nbb_cells[i].get_text() == nbb_unformatted_code) {\n",
       "                             nbb_cells[i].set_text(nbb_formatted_code);\n",
       "                        }\n",
       "                        break;\n",
       "                    }\n",
       "                }\n",
       "            }, 500);\n",
       "            "
      ],
      "text/plain": [
       "<IPython.core.display.Javascript object>"
      ]
     },
     "metadata": {},
     "output_type": "display_data"
    }
   ],
   "source": [
    "finalcol = np.zeros((ytest_original.shape[0], 3))\n",
    "finalcol[:, 0] = pc0 * weightvalga[0]\n",
    "finalcol[:, 1] = pc1 * weightvalga[1]\n",
    "finalcol[:, 2] = pc2 * weightvalga[2]\n",
    "finalpred = np.argmax(finalcol, axis=1)\n",
    "\n",
    "ytest = ytest_original.copy()\n",
    "print(m.accuracy_score(ytest, finalpred))\n",
    "print(m.confusion_matrix(ytest, finalpred))\n",
    "temppred = finalpred"
   ]
  },
  {
   "cell_type": "code",
   "execution_count": null,
   "metadata": {},
   "outputs": [],
   "source": []
  }
 ],
 "metadata": {
  "kernelspec": {
   "display_name": "Python 3",
   "language": "python",
   "name": "python3"
  },
  "language_info": {
   "codemirror_mode": {
    "name": "ipython",
    "version": 3
   },
   "file_extension": ".py",
   "mimetype": "text/x-python",
   "name": "python",
   "nbconvert_exporter": "python",
   "pygments_lexer": "ipython3",
   "version": "3.7.7"
  }
 },
 "nbformat": 4,
 "nbformat_minor": 4
}
