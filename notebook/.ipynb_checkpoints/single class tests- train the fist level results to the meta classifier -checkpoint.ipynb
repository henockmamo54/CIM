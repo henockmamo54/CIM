{
 "cells": [
  {
   "cell_type": "code",
   "execution_count": 1,
   "metadata": {},
   "outputs": [
    {
     "data": {
      "application/javascript": [
       "\n",
       "            setTimeout(function() {\n",
       "                var nbb_cell_id = 1;\n",
       "                var nbb_unformatted_code = \"%load_ext nb_black\";\n",
       "                var nbb_formatted_code = \"%load_ext nb_black\";\n",
       "                var nbb_cells = Jupyter.notebook.get_cells();\n",
       "                for (var i = 0; i < nbb_cells.length; ++i) {\n",
       "                    if (nbb_cells[i].input_prompt_number == nbb_cell_id) {\n",
       "                        if (nbb_cells[i].get_text() == nbb_unformatted_code) {\n",
       "                             nbb_cells[i].set_text(nbb_formatted_code);\n",
       "                        }\n",
       "                        break;\n",
       "                    }\n",
       "                }\n",
       "            }, 500);\n",
       "            "
      ],
      "text/plain": [
       "<IPython.core.display.Javascript object>"
      ]
     },
     "metadata": {},
     "output_type": "display_data"
    }
   ],
   "source": [
    "%load_ext nb_black"
   ]
  },
  {
   "cell_type": "code",
   "execution_count": 2,
   "metadata": {},
   "outputs": [
    {
     "data": {
      "application/javascript": [
       "\n",
       "            setTimeout(function() {\n",
       "                var nbb_cell_id = 2;\n",
       "                var nbb_unformatted_code = \"import numpy as np\\nimport pandas as pd\\nfrom sklearn import metrics as m\\nfrom sklearn.model_selection import train_test_split\\nfrom sklearn.ensemble import RandomForestClassifier\\nfrom sklearn.svm import SVC\\nimport xgboost as xgb\\nfrom thundersvm import SVC as svmgpu\\nfrom sklearn.decomposition import PCA\\nfrom sklearn.model_selection import cross_val_score\\nfrom sklearn.model_selection import StratifiedKFold\\nimport warnings\\n\\nwarnings.filterwarnings(\\\"ignore\\\")\\n\\nrandomseed = 10\\nnp.random.seed(randomseed)\";\n",
       "                var nbb_formatted_code = \"import numpy as np\\nimport pandas as pd\\nfrom sklearn import metrics as m\\nfrom sklearn.model_selection import train_test_split\\nfrom sklearn.ensemble import RandomForestClassifier\\nfrom sklearn.svm import SVC\\nimport xgboost as xgb\\nfrom thundersvm import SVC as svmgpu\\nfrom sklearn.decomposition import PCA\\nfrom sklearn.model_selection import cross_val_score\\nfrom sklearn.model_selection import StratifiedKFold\\nimport warnings\\n\\nwarnings.filterwarnings(\\\"ignore\\\")\\n\\nrandomseed = 10\\nnp.random.seed(randomseed)\";\n",
       "                var nbb_cells = Jupyter.notebook.get_cells();\n",
       "                for (var i = 0; i < nbb_cells.length; ++i) {\n",
       "                    if (nbb_cells[i].input_prompt_number == nbb_cell_id) {\n",
       "                        if (nbb_cells[i].get_text() == nbb_unformatted_code) {\n",
       "                             nbb_cells[i].set_text(nbb_formatted_code);\n",
       "                        }\n",
       "                        break;\n",
       "                    }\n",
       "                }\n",
       "            }, 500);\n",
       "            "
      ],
      "text/plain": [
       "<IPython.core.display.Javascript object>"
      ]
     },
     "metadata": {},
     "output_type": "display_data"
    }
   ],
   "source": [
    "import numpy as np\n",
    "import pandas as pd\n",
    "from sklearn import metrics as m\n",
    "from sklearn.model_selection import train_test_split\n",
    "from sklearn.ensemble import RandomForestClassifier\n",
    "from sklearn.svm import SVC\n",
    "import xgboost as xgb\n",
    "from thundersvm import SVC as svmgpu\n",
    "from sklearn.decomposition import PCA\n",
    "from sklearn.model_selection import cross_val_score\n",
    "from sklearn.model_selection import StratifiedKFold\n",
    "import warnings\n",
    "\n",
    "warnings.filterwarnings(\"ignore\")\n",
    "\n",
    "randomseed = 10\n",
    "np.random.seed(randomseed)"
   ]
  },
  {
   "cell_type": "code",
   "execution_count": 3,
   "metadata": {},
   "outputs": [
    {
     "data": {
      "application/javascript": [
       "\n",
       "            setTimeout(function() {\n",
       "                var nbb_cell_id = 3;\n",
       "                var nbb_unformatted_code = \"pd_acc_class0 = pd.read_csv(\\\"pd_acc_class0.txt\\\")\\npd_ypredproba_all_class0 = pd.read_csv(\\\"pd_ypredproba_all_class0.txt\\\")\\npd_ypredconfprob_all_class0 = pd.read_csv(\\\"pd_ypredconfprob_all_class0.txt\\\")\";\n",
       "                var nbb_formatted_code = \"pd_acc_class0 = pd.read_csv(\\\"pd_acc_class0.txt\\\")\\npd_ypredproba_all_class0 = pd.read_csv(\\\"pd_ypredproba_all_class0.txt\\\")\\npd_ypredconfprob_all_class0 = pd.read_csv(\\\"pd_ypredconfprob_all_class0.txt\\\")\";\n",
       "                var nbb_cells = Jupyter.notebook.get_cells();\n",
       "                for (var i = 0; i < nbb_cells.length; ++i) {\n",
       "                    if (nbb_cells[i].input_prompt_number == nbb_cell_id) {\n",
       "                        if (nbb_cells[i].get_text() == nbb_unformatted_code) {\n",
       "                             nbb_cells[i].set_text(nbb_formatted_code);\n",
       "                        }\n",
       "                        break;\n",
       "                    }\n",
       "                }\n",
       "            }, 500);\n",
       "            "
      ],
      "text/plain": [
       "<IPython.core.display.Javascript object>"
      ]
     },
     "metadata": {},
     "output_type": "display_data"
    }
   ],
   "source": [
    "pd_acc_class0 = pd.read_csv(\"pd_acc_class0.txt\")\n",
    "pd_ypredproba_all_class0 = pd.read_csv(\"pd_ypredproba_all_class0.txt\")\n",
    "pd_ypredconfprob_all_class0 = pd.read_csv(\"pd_ypredconfprob_all_class0.txt\")"
   ]
  },
  {
   "cell_type": "code",
   "execution_count": 4,
   "metadata": {},
   "outputs": [
    {
     "data": {
      "application/javascript": [
       "\n",
       "            setTimeout(function() {\n",
       "                var nbb_cell_id = 4;\n",
       "                var nbb_unformatted_code = \"pd_acc_class1 = pd.read_csv(\\\"pd_acc_class1.txt\\\")\\npd_ypredproba_all_class1 = pd.read_csv(\\\"pd_ypredproba_all_class1.txt\\\")\\npd_ypredconfprob_all_class1 = pd.read_csv(\\\"pd_ypredconfprob_all_class1.txt\\\")\";\n",
       "                var nbb_formatted_code = \"pd_acc_class1 = pd.read_csv(\\\"pd_acc_class1.txt\\\")\\npd_ypredproba_all_class1 = pd.read_csv(\\\"pd_ypredproba_all_class1.txt\\\")\\npd_ypredconfprob_all_class1 = pd.read_csv(\\\"pd_ypredconfprob_all_class1.txt\\\")\";\n",
       "                var nbb_cells = Jupyter.notebook.get_cells();\n",
       "                for (var i = 0; i < nbb_cells.length; ++i) {\n",
       "                    if (nbb_cells[i].input_prompt_number == nbb_cell_id) {\n",
       "                        if (nbb_cells[i].get_text() == nbb_unformatted_code) {\n",
       "                             nbb_cells[i].set_text(nbb_formatted_code);\n",
       "                        }\n",
       "                        break;\n",
       "                    }\n",
       "                }\n",
       "            }, 500);\n",
       "            "
      ],
      "text/plain": [
       "<IPython.core.display.Javascript object>"
      ]
     },
     "metadata": {},
     "output_type": "display_data"
    }
   ],
   "source": [
    "pd_acc_class1 = pd.read_csv(\"pd_acc_class1.txt\")\n",
    "pd_ypredproba_all_class1 = pd.read_csv(\"pd_ypredproba_all_class1.txt\")\n",
    "pd_ypredconfprob_all_class1 = pd.read_csv(\"pd_ypredconfprob_all_class1.txt\")"
   ]
  },
  {
   "cell_type": "code",
   "execution_count": 5,
   "metadata": {},
   "outputs": [
    {
     "data": {
      "application/javascript": [
       "\n",
       "            setTimeout(function() {\n",
       "                var nbb_cell_id = 5;\n",
       "                var nbb_unformatted_code = \"pd_acc_class2 = pd.read_csv(\\\"pd_acc_class2.txt\\\")\\npd_ypredproba_all_class2 = pd.read_csv(\\\"pd_ypredproba_all_class2.txt\\\")\\npd_ypredconfprob_all_class2 = pd.read_csv(\\\"pd_ypredconfprob_all_class2.txt\\\")\";\n",
       "                var nbb_formatted_code = \"pd_acc_class2 = pd.read_csv(\\\"pd_acc_class2.txt\\\")\\npd_ypredproba_all_class2 = pd.read_csv(\\\"pd_ypredproba_all_class2.txt\\\")\\npd_ypredconfprob_all_class2 = pd.read_csv(\\\"pd_ypredconfprob_all_class2.txt\\\")\";\n",
       "                var nbb_cells = Jupyter.notebook.get_cells();\n",
       "                for (var i = 0; i < nbb_cells.length; ++i) {\n",
       "                    if (nbb_cells[i].input_prompt_number == nbb_cell_id) {\n",
       "                        if (nbb_cells[i].get_text() == nbb_unformatted_code) {\n",
       "                             nbb_cells[i].set_text(nbb_formatted_code);\n",
       "                        }\n",
       "                        break;\n",
       "                    }\n",
       "                }\n",
       "            }, 500);\n",
       "            "
      ],
      "text/plain": [
       "<IPython.core.display.Javascript object>"
      ]
     },
     "metadata": {},
     "output_type": "display_data"
    }
   ],
   "source": [
    "pd_acc_class2 = pd.read_csv(\"pd_acc_class2.txt\")\n",
    "pd_ypredproba_all_class2 = pd.read_csv(\"pd_ypredproba_all_class2.txt\")\n",
    "pd_ypredconfprob_all_class2 = pd.read_csv(\"pd_ypredconfprob_all_class2.txt\")"
   ]
  },
  {
   "cell_type": "code",
   "execution_count": 6,
   "metadata": {},
   "outputs": [
    {
     "data": {
      "application/javascript": [
       "\n",
       "            setTimeout(function() {\n",
       "                var nbb_cell_id = 6;\n",
       "                var nbb_unformatted_code = \"ytest_class0 = pd.read_csv(\\\"ytest_class0.txt\\\")\\nytest_class1 = pd.read_csv(\\\"ytest_class1.txt\\\")\\nytest_class2 = pd.read_csv(\\\"ytest_class2.txt\\\")\\nytest_original = pd.read_csv(\\\"ytest_original.txt\\\")\";\n",
       "                var nbb_formatted_code = \"ytest_class0 = pd.read_csv(\\\"ytest_class0.txt\\\")\\nytest_class1 = pd.read_csv(\\\"ytest_class1.txt\\\")\\nytest_class2 = pd.read_csv(\\\"ytest_class2.txt\\\")\\nytest_original = pd.read_csv(\\\"ytest_original.txt\\\")\";\n",
       "                var nbb_cells = Jupyter.notebook.get_cells();\n",
       "                for (var i = 0; i < nbb_cells.length; ++i) {\n",
       "                    if (nbb_cells[i].input_prompt_number == nbb_cell_id) {\n",
       "                        if (nbb_cells[i].get_text() == nbb_unformatted_code) {\n",
       "                             nbb_cells[i].set_text(nbb_formatted_code);\n",
       "                        }\n",
       "                        break;\n",
       "                    }\n",
       "                }\n",
       "            }, 500);\n",
       "            "
      ],
      "text/plain": [
       "<IPython.core.display.Javascript object>"
      ]
     },
     "metadata": {},
     "output_type": "display_data"
    }
   ],
   "source": [
    "ytest_class0 = pd.read_csv(\"ytest_class0.txt\")\n",
    "ytest_class1 = pd.read_csv(\"ytest_class1.txt\")\n",
    "ytest_class2 = pd.read_csv(\"ytest_class2.txt\")\n",
    "ytest_original = pd.read_csv(\"ytest_original.txt\")"
   ]
  },
  {
   "cell_type": "code",
   "execution_count": 7,
   "metadata": {},
   "outputs": [
    {
     "data": {
      "application/javascript": [
       "\n",
       "            setTimeout(function() {\n",
       "                var nbb_cell_id = 7;\n",
       "                var nbb_unformatted_code = \"temp_0 = []\\nval_ = np.array(\\n    pd.DataFrame(\\n        np.array(pd_ypredconfprob_all_class0.transpose()).flatten()\\n    ).transpose()\\n).ravel()\\n\\nfor i in range(ytest_class0.shape[0]):\\n    temp_0.append(val_)\\n\\n# temp_0 = pd.DataFrame(temp_0)\";\n",
       "                var nbb_formatted_code = \"temp_0 = []\\nval_ = np.array(\\n    pd.DataFrame(\\n        np.array(pd_ypredconfprob_all_class0.transpose()).flatten()\\n    ).transpose()\\n).ravel()\\n\\nfor i in range(ytest_class0.shape[0]):\\n    temp_0.append(val_)\\n\\n# temp_0 = pd.DataFrame(temp_0)\";\n",
       "                var nbb_cells = Jupyter.notebook.get_cells();\n",
       "                for (var i = 0; i < nbb_cells.length; ++i) {\n",
       "                    if (nbb_cells[i].input_prompt_number == nbb_cell_id) {\n",
       "                        if (nbb_cells[i].get_text() == nbb_unformatted_code) {\n",
       "                             nbb_cells[i].set_text(nbb_formatted_code);\n",
       "                        }\n",
       "                        break;\n",
       "                    }\n",
       "                }\n",
       "            }, 500);\n",
       "            "
      ],
      "text/plain": [
       "<IPython.core.display.Javascript object>"
      ]
     },
     "metadata": {},
     "output_type": "display_data"
    }
   ],
   "source": [
    "temp_0 = []\n",
    "val_ = np.array(\n",
    "    pd.DataFrame(\n",
    "        np.array(pd_ypredconfprob_all_class0.transpose()).flatten()\n",
    "    ).transpose()\n",
    ").ravel()\n",
    "\n",
    "for i in range(ytest_class0.shape[0]):\n",
    "    temp_0.append(val_)\n",
    "\n",
    "# temp_0 = pd.DataFrame(temp_0)"
   ]
  },
  {
   "cell_type": "code",
   "execution_count": 8,
   "metadata": {},
   "outputs": [
    {
     "data": {
      "application/javascript": [
       "\n",
       "            setTimeout(function() {\n",
       "                var nbb_cell_id = 8;\n",
       "                var nbb_unformatted_code = \"temp_1 = []\\nval_ = np.array(\\n    pd.DataFrame(\\n        np.array(pd_ypredconfprob_all_class1.transpose()).flatten()\\n    ).transpose()\\n).ravel()\\n\\nfor i in range(ytest_class1.shape[0]):\\n    temp_1.append(val_)\\n\\ntemp_1 = pd.DataFrame(temp_1)\";\n",
       "                var nbb_formatted_code = \"temp_1 = []\\nval_ = np.array(\\n    pd.DataFrame(\\n        np.array(pd_ypredconfprob_all_class1.transpose()).flatten()\\n    ).transpose()\\n).ravel()\\n\\nfor i in range(ytest_class1.shape[0]):\\n    temp_1.append(val_)\\n\\ntemp_1 = pd.DataFrame(temp_1)\";\n",
       "                var nbb_cells = Jupyter.notebook.get_cells();\n",
       "                for (var i = 0; i < nbb_cells.length; ++i) {\n",
       "                    if (nbb_cells[i].input_prompt_number == nbb_cell_id) {\n",
       "                        if (nbb_cells[i].get_text() == nbb_unformatted_code) {\n",
       "                             nbb_cells[i].set_text(nbb_formatted_code);\n",
       "                        }\n",
       "                        break;\n",
       "                    }\n",
       "                }\n",
       "            }, 500);\n",
       "            "
      ],
      "text/plain": [
       "<IPython.core.display.Javascript object>"
      ]
     },
     "metadata": {},
     "output_type": "display_data"
    }
   ],
   "source": [
    "temp_1 = []\n",
    "val_ = np.array(\n",
    "    pd.DataFrame(\n",
    "        np.array(pd_ypredconfprob_all_class1.transpose()).flatten()\n",
    "    ).transpose()\n",
    ").ravel()\n",
    "\n",
    "for i in range(ytest_class1.shape[0]):\n",
    "    temp_1.append(val_)\n",
    "\n",
    "temp_1 = pd.DataFrame(temp_1)"
   ]
  },
  {
   "cell_type": "code",
   "execution_count": 9,
   "metadata": {},
   "outputs": [
    {
     "data": {
      "application/javascript": [
       "\n",
       "            setTimeout(function() {\n",
       "                var nbb_cell_id = 9;\n",
       "                var nbb_unformatted_code = \"temp_2 = []\\nval_ = np.array(\\n    pd.DataFrame(\\n        np.array(pd_ypredconfprob_all_class2.transpose()).flatten()\\n    ).transpose()\\n).ravel()\\n\\nfor i in range(ytest_class2.shape[0]):\\n    temp_2.append(val_)\\n\\ntemp_2 = pd.DataFrame(temp_2)\";\n",
       "                var nbb_formatted_code = \"temp_2 = []\\nval_ = np.array(\\n    pd.DataFrame(\\n        np.array(pd_ypredconfprob_all_class2.transpose()).flatten()\\n    ).transpose()\\n).ravel()\\n\\nfor i in range(ytest_class2.shape[0]):\\n    temp_2.append(val_)\\n\\ntemp_2 = pd.DataFrame(temp_2)\";\n",
       "                var nbb_cells = Jupyter.notebook.get_cells();\n",
       "                for (var i = 0; i < nbb_cells.length; ++i) {\n",
       "                    if (nbb_cells[i].input_prompt_number == nbb_cell_id) {\n",
       "                        if (nbb_cells[i].get_text() == nbb_unformatted_code) {\n",
       "                             nbb_cells[i].set_text(nbb_formatted_code);\n",
       "                        }\n",
       "                        break;\n",
       "                    }\n",
       "                }\n",
       "            }, 500);\n",
       "            "
      ],
      "text/plain": [
       "<IPython.core.display.Javascript object>"
      ]
     },
     "metadata": {},
     "output_type": "display_data"
    }
   ],
   "source": [
    "temp_2 = []\n",
    "val_ = np.array(\n",
    "    pd.DataFrame(\n",
    "        np.array(pd_ypredconfprob_all_class2.transpose()).flatten()\n",
    "    ).transpose()\n",
    ").ravel()\n",
    "\n",
    "for i in range(ytest_class2.shape[0]):\n",
    "    temp_2.append(val_)\n",
    "\n",
    "temp_2 = pd.DataFrame(temp_2)"
   ]
  },
  {
   "cell_type": "code",
   "execution_count": 10,
   "metadata": {},
   "outputs": [
    {
     "data": {
      "application/javascript": [
       "\n",
       "            setTimeout(function() {\n",
       "                var nbb_cell_id = 10;\n",
       "                var nbb_unformatted_code = \"mydata = pd.DataFrame(\\n    np.column_stack(\\n        (\\n            pd_ypredproba_all_class0.transpose(),\\n            pd_ypredproba_all_class1.transpose(),\\n            pd_ypredproba_all_class2.transpose(),\\n            temp_0,\\n            temp_1,\\n            temp_2,\\n            ytest_original,\\n        )\\n    )\\n)\";\n",
       "                var nbb_formatted_code = \"mydata = pd.DataFrame(\\n    np.column_stack(\\n        (\\n            pd_ypredproba_all_class0.transpose(),\\n            pd_ypredproba_all_class1.transpose(),\\n            pd_ypredproba_all_class2.transpose(),\\n            temp_0,\\n            temp_1,\\n            temp_2,\\n            ytest_original,\\n        )\\n    )\\n)\";\n",
       "                var nbb_cells = Jupyter.notebook.get_cells();\n",
       "                for (var i = 0; i < nbb_cells.length; ++i) {\n",
       "                    if (nbb_cells[i].input_prompt_number == nbb_cell_id) {\n",
       "                        if (nbb_cells[i].get_text() == nbb_unformatted_code) {\n",
       "                             nbb_cells[i].set_text(nbb_formatted_code);\n",
       "                        }\n",
       "                        break;\n",
       "                    }\n",
       "                }\n",
       "            }, 500);\n",
       "            "
      ],
      "text/plain": [
       "<IPython.core.display.Javascript object>"
      ]
     },
     "metadata": {},
     "output_type": "display_data"
    }
   ],
   "source": [
    "mydata = pd.DataFrame(\n",
    "    np.column_stack(\n",
    "        (\n",
    "            pd_ypredproba_all_class0.transpose(),\n",
    "            pd_ypredproba_all_class1.transpose(),\n",
    "            pd_ypredproba_all_class2.transpose(),\n",
    "            temp_0,\n",
    "            temp_1,\n",
    "            temp_2,\n",
    "            ytest_original,\n",
    "        )\n",
    "    )\n",
    ")"
   ]
  },
  {
   "cell_type": "code",
   "execution_count": 11,
   "metadata": {},
   "outputs": [
    {
     "data": {
      "text/html": [
       "<div>\n",
       "<style scoped>\n",
       "    .dataframe tbody tr th:only-of-type {\n",
       "        vertical-align: middle;\n",
       "    }\n",
       "\n",
       "    .dataframe tbody tr th {\n",
       "        vertical-align: top;\n",
       "    }\n",
       "\n",
       "    .dataframe thead th {\n",
       "        text-align: right;\n",
       "    }\n",
       "</style>\n",
       "<table border=\"1\" class=\"dataframe\">\n",
       "  <thead>\n",
       "    <tr style=\"text-align: right;\">\n",
       "      <th></th>\n",
       "      <th>0</th>\n",
       "      <th>1</th>\n",
       "      <th>2</th>\n",
       "      <th>3</th>\n",
       "      <th>4</th>\n",
       "      <th>5</th>\n",
       "      <th>6</th>\n",
       "      <th>7</th>\n",
       "      <th>8</th>\n",
       "      <th>9</th>\n",
       "      <th>...</th>\n",
       "      <th>1536</th>\n",
       "      <th>1537</th>\n",
       "      <th>1538</th>\n",
       "      <th>1539</th>\n",
       "      <th>1540</th>\n",
       "      <th>1541</th>\n",
       "      <th>1542</th>\n",
       "      <th>1543</th>\n",
       "      <th>1544</th>\n",
       "      <th>1545</th>\n",
       "    </tr>\n",
       "  </thead>\n",
       "  <tbody>\n",
       "    <tr>\n",
       "      <th>0</th>\n",
       "      <td>0.0</td>\n",
       "      <td>0.053085</td>\n",
       "      <td>0.001439</td>\n",
       "      <td>0.00</td>\n",
       "      <td>0.00</td>\n",
       "      <td>0.18</td>\n",
       "      <td>0.10</td>\n",
       "      <td>0.06</td>\n",
       "      <td>0.10</td>\n",
       "      <td>0.000000</td>\n",
       "      <td>...</td>\n",
       "      <td>0.94</td>\n",
       "      <td>0.95</td>\n",
       "      <td>0.93</td>\n",
       "      <td>0.93</td>\n",
       "      <td>0.94</td>\n",
       "      <td>0.94</td>\n",
       "      <td>0.9</td>\n",
       "      <td>0.91</td>\n",
       "      <td>0.93</td>\n",
       "      <td>2.0</td>\n",
       "    </tr>\n",
       "    <tr>\n",
       "      <th>1</th>\n",
       "      <td>0.0</td>\n",
       "      <td>0.035696</td>\n",
       "      <td>0.002363</td>\n",
       "      <td>0.04</td>\n",
       "      <td>0.00</td>\n",
       "      <td>0.00</td>\n",
       "      <td>0.02</td>\n",
       "      <td>0.12</td>\n",
       "      <td>0.06</td>\n",
       "      <td>0.000000</td>\n",
       "      <td>...</td>\n",
       "      <td>0.94</td>\n",
       "      <td>0.95</td>\n",
       "      <td>0.93</td>\n",
       "      <td>0.93</td>\n",
       "      <td>0.94</td>\n",
       "      <td>0.94</td>\n",
       "      <td>0.9</td>\n",
       "      <td>0.91</td>\n",
       "      <td>0.93</td>\n",
       "      <td>2.0</td>\n",
       "    </tr>\n",
       "    <tr>\n",
       "      <th>2</th>\n",
       "      <td>0.1</td>\n",
       "      <td>0.101903</td>\n",
       "      <td>0.058239</td>\n",
       "      <td>0.02</td>\n",
       "      <td>0.12</td>\n",
       "      <td>0.06</td>\n",
       "      <td>0.00</td>\n",
       "      <td>0.02</td>\n",
       "      <td>0.18</td>\n",
       "      <td>0.040000</td>\n",
       "      <td>...</td>\n",
       "      <td>0.94</td>\n",
       "      <td>0.95</td>\n",
       "      <td>0.93</td>\n",
       "      <td>0.93</td>\n",
       "      <td>0.94</td>\n",
       "      <td>0.94</td>\n",
       "      <td>0.9</td>\n",
       "      <td>0.91</td>\n",
       "      <td>0.93</td>\n",
       "      <td>2.0</td>\n",
       "    </tr>\n",
       "    <tr>\n",
       "      <th>3</th>\n",
       "      <td>0.0</td>\n",
       "      <td>0.042193</td>\n",
       "      <td>0.005408</td>\n",
       "      <td>0.00</td>\n",
       "      <td>0.02</td>\n",
       "      <td>0.00</td>\n",
       "      <td>0.06</td>\n",
       "      <td>0.02</td>\n",
       "      <td>0.06</td>\n",
       "      <td>0.000000</td>\n",
       "      <td>...</td>\n",
       "      <td>0.94</td>\n",
       "      <td>0.95</td>\n",
       "      <td>0.93</td>\n",
       "      <td>0.93</td>\n",
       "      <td>0.94</td>\n",
       "      <td>0.94</td>\n",
       "      <td>0.9</td>\n",
       "      <td>0.91</td>\n",
       "      <td>0.93</td>\n",
       "      <td>2.0</td>\n",
       "    </tr>\n",
       "    <tr>\n",
       "      <th>4</th>\n",
       "      <td>0.0</td>\n",
       "      <td>0.228468</td>\n",
       "      <td>0.002295</td>\n",
       "      <td>0.02</td>\n",
       "      <td>0.02</td>\n",
       "      <td>0.08</td>\n",
       "      <td>0.16</td>\n",
       "      <td>0.06</td>\n",
       "      <td>0.00</td>\n",
       "      <td>0.000000</td>\n",
       "      <td>...</td>\n",
       "      <td>0.94</td>\n",
       "      <td>0.95</td>\n",
       "      <td>0.93</td>\n",
       "      <td>0.93</td>\n",
       "      <td>0.94</td>\n",
       "      <td>0.94</td>\n",
       "      <td>0.9</td>\n",
       "      <td>0.91</td>\n",
       "      <td>0.93</td>\n",
       "      <td>2.0</td>\n",
       "    </tr>\n",
       "    <tr>\n",
       "      <th>...</th>\n",
       "      <td>...</td>\n",
       "      <td>...</td>\n",
       "      <td>...</td>\n",
       "      <td>...</td>\n",
       "      <td>...</td>\n",
       "      <td>...</td>\n",
       "      <td>...</td>\n",
       "      <td>...</td>\n",
       "      <td>...</td>\n",
       "      <td>...</td>\n",
       "      <td>...</td>\n",
       "      <td>...</td>\n",
       "      <td>...</td>\n",
       "      <td>...</td>\n",
       "      <td>...</td>\n",
       "      <td>...</td>\n",
       "      <td>...</td>\n",
       "      <td>...</td>\n",
       "      <td>...</td>\n",
       "      <td>...</td>\n",
       "      <td>...</td>\n",
       "    </tr>\n",
       "    <tr>\n",
       "      <th>595</th>\n",
       "      <td>0.8</td>\n",
       "      <td>0.850987</td>\n",
       "      <td>0.908467</td>\n",
       "      <td>0.70</td>\n",
       "      <td>0.60</td>\n",
       "      <td>0.78</td>\n",
       "      <td>0.70</td>\n",
       "      <td>0.86</td>\n",
       "      <td>0.70</td>\n",
       "      <td>0.780000</td>\n",
       "      <td>...</td>\n",
       "      <td>0.94</td>\n",
       "      <td>0.95</td>\n",
       "      <td>0.93</td>\n",
       "      <td>0.93</td>\n",
       "      <td>0.94</td>\n",
       "      <td>0.94</td>\n",
       "      <td>0.9</td>\n",
       "      <td>0.91</td>\n",
       "      <td>0.93</td>\n",
       "      <td>0.0</td>\n",
       "    </tr>\n",
       "    <tr>\n",
       "      <th>596</th>\n",
       "      <td>0.2</td>\n",
       "      <td>0.445272</td>\n",
       "      <td>0.236095</td>\n",
       "      <td>0.24</td>\n",
       "      <td>0.28</td>\n",
       "      <td>0.32</td>\n",
       "      <td>0.10</td>\n",
       "      <td>0.22</td>\n",
       "      <td>0.38</td>\n",
       "      <td>0.198333</td>\n",
       "      <td>...</td>\n",
       "      <td>0.94</td>\n",
       "      <td>0.95</td>\n",
       "      <td>0.93</td>\n",
       "      <td>0.93</td>\n",
       "      <td>0.94</td>\n",
       "      <td>0.94</td>\n",
       "      <td>0.9</td>\n",
       "      <td>0.91</td>\n",
       "      <td>0.93</td>\n",
       "      <td>0.0</td>\n",
       "    </tr>\n",
       "    <tr>\n",
       "      <th>597</th>\n",
       "      <td>1.0</td>\n",
       "      <td>0.808809</td>\n",
       "      <td>0.878567</td>\n",
       "      <td>0.96</td>\n",
       "      <td>0.92</td>\n",
       "      <td>0.94</td>\n",
       "      <td>0.84</td>\n",
       "      <td>0.96</td>\n",
       "      <td>0.70</td>\n",
       "      <td>0.840000</td>\n",
       "      <td>...</td>\n",
       "      <td>0.94</td>\n",
       "      <td>0.95</td>\n",
       "      <td>0.93</td>\n",
       "      <td>0.93</td>\n",
       "      <td>0.94</td>\n",
       "      <td>0.94</td>\n",
       "      <td>0.9</td>\n",
       "      <td>0.91</td>\n",
       "      <td>0.93</td>\n",
       "      <td>0.0</td>\n",
       "    </tr>\n",
       "    <tr>\n",
       "      <th>598</th>\n",
       "      <td>0.7</td>\n",
       "      <td>0.741343</td>\n",
       "      <td>0.813042</td>\n",
       "      <td>0.86</td>\n",
       "      <td>0.60</td>\n",
       "      <td>0.68</td>\n",
       "      <td>0.78</td>\n",
       "      <td>0.92</td>\n",
       "      <td>0.72</td>\n",
       "      <td>0.940000</td>\n",
       "      <td>...</td>\n",
       "      <td>0.94</td>\n",
       "      <td>0.95</td>\n",
       "      <td>0.93</td>\n",
       "      <td>0.93</td>\n",
       "      <td>0.94</td>\n",
       "      <td>0.94</td>\n",
       "      <td>0.9</td>\n",
       "      <td>0.91</td>\n",
       "      <td>0.93</td>\n",
       "      <td>0.0</td>\n",
       "    </tr>\n",
       "    <tr>\n",
       "      <th>599</th>\n",
       "      <td>0.3</td>\n",
       "      <td>0.294490</td>\n",
       "      <td>0.438247</td>\n",
       "      <td>0.44</td>\n",
       "      <td>0.28</td>\n",
       "      <td>0.46</td>\n",
       "      <td>0.36</td>\n",
       "      <td>0.36</td>\n",
       "      <td>0.44</td>\n",
       "      <td>0.620000</td>\n",
       "      <td>...</td>\n",
       "      <td>0.94</td>\n",
       "      <td>0.95</td>\n",
       "      <td>0.93</td>\n",
       "      <td>0.93</td>\n",
       "      <td>0.94</td>\n",
       "      <td>0.94</td>\n",
       "      <td>0.9</td>\n",
       "      <td>0.91</td>\n",
       "      <td>0.93</td>\n",
       "      <td>0.0</td>\n",
       "    </tr>\n",
       "  </tbody>\n",
       "</table>\n",
       "<p>600 rows × 1546 columns</p>\n",
       "</div>"
      ],
      "text/plain": [
       "     0         1         2     3     4     5     6     7     8         9     \\\n",
       "0     0.0  0.053085  0.001439  0.00  0.00  0.18  0.10  0.06  0.10  0.000000   \n",
       "1     0.0  0.035696  0.002363  0.04  0.00  0.00  0.02  0.12  0.06  0.000000   \n",
       "2     0.1  0.101903  0.058239  0.02  0.12  0.06  0.00  0.02  0.18  0.040000   \n",
       "3     0.0  0.042193  0.005408  0.00  0.02  0.00  0.06  0.02  0.06  0.000000   \n",
       "4     0.0  0.228468  0.002295  0.02  0.02  0.08  0.16  0.06  0.00  0.000000   \n",
       "..    ...       ...       ...   ...   ...   ...   ...   ...   ...       ...   \n",
       "595   0.8  0.850987  0.908467  0.70  0.60  0.78  0.70  0.86  0.70  0.780000   \n",
       "596   0.2  0.445272  0.236095  0.24  0.28  0.32  0.10  0.22  0.38  0.198333   \n",
       "597   1.0  0.808809  0.878567  0.96  0.92  0.94  0.84  0.96  0.70  0.840000   \n",
       "598   0.7  0.741343  0.813042  0.86  0.60  0.68  0.78  0.92  0.72  0.940000   \n",
       "599   0.3  0.294490  0.438247  0.44  0.28  0.46  0.36  0.36  0.44  0.620000   \n",
       "\n",
       "     ...  1536  1537  1538  1539  1540  1541  1542  1543  1544  1545  \n",
       "0    ...  0.94  0.95  0.93  0.93  0.94  0.94   0.9  0.91  0.93   2.0  \n",
       "1    ...  0.94  0.95  0.93  0.93  0.94  0.94   0.9  0.91  0.93   2.0  \n",
       "2    ...  0.94  0.95  0.93  0.93  0.94  0.94   0.9  0.91  0.93   2.0  \n",
       "3    ...  0.94  0.95  0.93  0.93  0.94  0.94   0.9  0.91  0.93   2.0  \n",
       "4    ...  0.94  0.95  0.93  0.93  0.94  0.94   0.9  0.91  0.93   2.0  \n",
       "..   ...   ...   ...   ...   ...   ...   ...   ...   ...   ...   ...  \n",
       "595  ...  0.94  0.95  0.93  0.93  0.94  0.94   0.9  0.91  0.93   0.0  \n",
       "596  ...  0.94  0.95  0.93  0.93  0.94  0.94   0.9  0.91  0.93   0.0  \n",
       "597  ...  0.94  0.95  0.93  0.93  0.94  0.94   0.9  0.91  0.93   0.0  \n",
       "598  ...  0.94  0.95  0.93  0.93  0.94  0.94   0.9  0.91  0.93   0.0  \n",
       "599  ...  0.94  0.95  0.93  0.93  0.94  0.94   0.9  0.91  0.93   0.0  \n",
       "\n",
       "[600 rows x 1546 columns]"
      ]
     },
     "execution_count": 11,
     "metadata": {},
     "output_type": "execute_result"
    },
    {
     "data": {
      "application/javascript": [
       "\n",
       "            setTimeout(function() {\n",
       "                var nbb_cell_id = 11;\n",
       "                var nbb_unformatted_code = \"mydata\";\n",
       "                var nbb_formatted_code = \"mydata\";\n",
       "                var nbb_cells = Jupyter.notebook.get_cells();\n",
       "                for (var i = 0; i < nbb_cells.length; ++i) {\n",
       "                    if (nbb_cells[i].input_prompt_number == nbb_cell_id) {\n",
       "                        if (nbb_cells[i].get_text() == nbb_unformatted_code) {\n",
       "                             nbb_cells[i].set_text(nbb_formatted_code);\n",
       "                        }\n",
       "                        break;\n",
       "                    }\n",
       "                }\n",
       "            }, 500);\n",
       "            "
      ],
      "text/plain": [
       "<IPython.core.display.Javascript object>"
      ]
     },
     "metadata": {},
     "output_type": "display_data"
    }
   ],
   "source": [
    "mydata"
   ]
  },
  {
   "cell_type": "code",
   "execution_count": 45,
   "metadata": {},
   "outputs": [
    {
     "data": {
      "application/javascript": [
       "\n",
       "            setTimeout(function() {\n",
       "                var nbb_cell_id = 45;\n",
       "                var nbb_unformatted_code = \"x = mydata.iloc[:, :-1]\\ny = mydata.iloc[:, -1]\";\n",
       "                var nbb_formatted_code = \"x = mydata.iloc[:, :-1]\\ny = mydata.iloc[:, -1]\";\n",
       "                var nbb_cells = Jupyter.notebook.get_cells();\n",
       "                for (var i = 0; i < nbb_cells.length; ++i) {\n",
       "                    if (nbb_cells[i].input_prompt_number == nbb_cell_id) {\n",
       "                        if (nbb_cells[i].get_text() == nbb_unformatted_code) {\n",
       "                             nbb_cells[i].set_text(nbb_formatted_code);\n",
       "                        }\n",
       "                        break;\n",
       "                    }\n",
       "                }\n",
       "            }, 500);\n",
       "            "
      ],
      "text/plain": [
       "<IPython.core.display.Javascript object>"
      ]
     },
     "metadata": {},
     "output_type": "display_data"
    }
   ],
   "source": [
    "x = mydata.iloc[:, :-1]\n",
    "y = mydata.iloc[:, -1]"
   ]
  },
  {
   "cell_type": "code",
   "execution_count": 46,
   "metadata": {},
   "outputs": [
    {
     "name": "stdout",
     "output_type": "stream",
     "text": [
      "0.972076369473135\n",
      "[6.79218894e-01 1.79885749e-01 2.49194112e-02 2.09273214e-02\n",
      " 1.42233813e-02 6.02025043e-03 3.75129970e-03 3.47276062e-03\n",
      " 2.95521832e-03 2.56912788e-03 2.35130348e-03 2.14738131e-03\n",
      " 1.98481254e-03 1.82470716e-03 1.74993998e-03 1.62511226e-03\n",
      " 1.50609505e-03 1.41120781e-03 1.38108179e-03 1.27185725e-03\n",
      " 1.18422545e-03 1.16129470e-03 1.07037136e-03 1.05544563e-03\n",
      " 9.72253460e-04 9.42189974e-04 9.13621194e-04 8.80807040e-04\n",
      " 8.37842933e-04 8.18648344e-04 7.92903159e-04 7.74805060e-04\n",
      " 7.47533897e-04 7.35162781e-04 7.10270139e-04 7.02453215e-04\n",
      " 6.77371526e-04 6.49502890e-04 6.30214673e-04 6.22539309e-04]\n",
      "[103.48382855  53.25568663  19.82149908  18.1645411   14.97507602\n",
      "   9.74260034   7.69056929   7.39954529   6.82593886   6.364444\n",
      "   6.08866321   5.81864944   5.59406304   5.36369652   5.25265874\n",
      "   5.06185024   4.8729707    4.71696979   4.66634998   4.47802789\n",
      "   4.32100536   4.27896595   4.10804175   4.07929903   3.9152307\n",
      "   3.85422308   3.79534003   3.72655896   3.63453549   3.59266152\n",
      "   3.53571851   3.49513402   3.43307312   3.40454724   3.34641183\n",
      "   3.32794631   3.2679927    3.20006023   3.1521862    3.13293221]\n"
     ]
    },
    {
     "data": {
      "application/javascript": [
       "\n",
       "            setTimeout(function() {\n",
       "                var nbb_cell_id = 46;\n",
       "                var nbb_unformatted_code = \"pca = PCA(n_components=40)\\nx = pca.fit_transform(x)\\n\\nprint(np.sum(pca.explained_variance_ratio_))\\nprint(pca.explained_variance_ratio_)\\n\\nprint(pca.singular_values_)\";\n",
       "                var nbb_formatted_code = \"pca = PCA(n_components=40)\\nx = pca.fit_transform(x)\\n\\nprint(np.sum(pca.explained_variance_ratio_))\\nprint(pca.explained_variance_ratio_)\\n\\nprint(pca.singular_values_)\";\n",
       "                var nbb_cells = Jupyter.notebook.get_cells();\n",
       "                for (var i = 0; i < nbb_cells.length; ++i) {\n",
       "                    if (nbb_cells[i].input_prompt_number == nbb_cell_id) {\n",
       "                        if (nbb_cells[i].get_text() == nbb_unformatted_code) {\n",
       "                             nbb_cells[i].set_text(nbb_formatted_code);\n",
       "                        }\n",
       "                        break;\n",
       "                    }\n",
       "                }\n",
       "            }, 500);\n",
       "            "
      ],
      "text/plain": [
       "<IPython.core.display.Javascript object>"
      ]
     },
     "metadata": {},
     "output_type": "display_data"
    }
   ],
   "source": [
    "pca = PCA(n_components=40)\n",
    "x = pca.fit_transform(x)\n",
    "\n",
    "print(np.sum(pca.explained_variance_ratio_))\n",
    "print(pca.explained_variance_ratio_)\n",
    "\n",
    "print(pca.singular_values_)"
   ]
  },
  {
   "cell_type": "code",
   "execution_count": 47,
   "metadata": {},
   "outputs": [
    {
     "data": {
      "application/javascript": [
       "\n",
       "            setTimeout(function() {\n",
       "                var nbb_cell_id = 47;\n",
       "                var nbb_unformatted_code = \"xtrain, xtest, ytrain, ytest = train_test_split(\\n    x, y, test_size=0.3, random_state=randomseed\\n)\";\n",
       "                var nbb_formatted_code = \"xtrain, xtest, ytrain, ytest = train_test_split(\\n    x, y, test_size=0.3, random_state=randomseed\\n)\";\n",
       "                var nbb_cells = Jupyter.notebook.get_cells();\n",
       "                for (var i = 0; i < nbb_cells.length; ++i) {\n",
       "                    if (nbb_cells[i].input_prompt_number == nbb_cell_id) {\n",
       "                        if (nbb_cells[i].get_text() == nbb_unformatted_code) {\n",
       "                             nbb_cells[i].set_text(nbb_formatted_code);\n",
       "                        }\n",
       "                        break;\n",
       "                    }\n",
       "                }\n",
       "            }, 500);\n",
       "            "
      ],
      "text/plain": [
       "<IPython.core.display.Javascript object>"
      ]
     },
     "metadata": {},
     "output_type": "display_data"
    }
   ],
   "source": [
    "xtrain, xtest, ytrain, ytest = train_test_split(\n",
    "    x, y, test_size=0.3, random_state=randomseed\n",
    ")"
   ]
  },
  {
   "cell_type": "code",
   "execution_count": 48,
   "metadata": {},
   "outputs": [
    {
     "name": "stdout",
     "output_type": "stream",
     "text": [
      "original score 0.7142453363482193\n"
     ]
    },
    {
     "data": {
      "application/javascript": [
       "\n",
       "            setTimeout(function() {\n",
       "                var nbb_cell_id = 48;\n",
       "                var nbb_unformatted_code = \"rf = RandomForestClassifier(\\n    random_state=randomseed,\\n    n_estimators=10,\\n    criterion=\\\"entropy\\\",\\n    max_depth=30,\\n    min_samples_split=4,\\n    min_samples_leaf=2,\\n    max_features=\\\"auto\\\",\\n)\\nrf.fit(xtrain, ytrain)\\nprint(\\\"original score\\\", m.f1_score(ytest, rf.predict(xtest), average=\\\"weighted\\\"))\";\n",
       "                var nbb_formatted_code = \"rf = RandomForestClassifier(\\n    random_state=randomseed,\\n    n_estimators=10,\\n    criterion=\\\"entropy\\\",\\n    max_depth=30,\\n    min_samples_split=4,\\n    min_samples_leaf=2,\\n    max_features=\\\"auto\\\",\\n)\\nrf.fit(xtrain, ytrain)\\nprint(\\\"original score\\\", m.f1_score(ytest, rf.predict(xtest), average=\\\"weighted\\\"))\";\n",
       "                var nbb_cells = Jupyter.notebook.get_cells();\n",
       "                for (var i = 0; i < nbb_cells.length; ++i) {\n",
       "                    if (nbb_cells[i].input_prompt_number == nbb_cell_id) {\n",
       "                        if (nbb_cells[i].get_text() == nbb_unformatted_code) {\n",
       "                             nbb_cells[i].set_text(nbb_formatted_code);\n",
       "                        }\n",
       "                        break;\n",
       "                    }\n",
       "                }\n",
       "            }, 500);\n",
       "            "
      ],
      "text/plain": [
       "<IPython.core.display.Javascript object>"
      ]
     },
     "metadata": {},
     "output_type": "display_data"
    }
   ],
   "source": [
    "rf = RandomForestClassifier(\n",
    "    random_state=randomseed,\n",
    "    n_estimators=10,\n",
    "    criterion=\"entropy\",\n",
    "    max_depth=30,\n",
    "    min_samples_split=4,\n",
    "    min_samples_leaf=2,\n",
    "    max_features=\"auto\",\n",
    ")\n",
    "rf.fit(xtrain, ytrain)\n",
    "print(\"original score\", m.f1_score(ytest, rf.predict(xtest), average=\"weighted\"))"
   ]
  },
  {
   "cell_type": "code",
   "execution_count": 49,
   "metadata": {},
   "outputs": [
    {
     "name": "stdout",
     "output_type": "stream",
     "text": [
      "original score 2 0.7144664453059355\n"
     ]
    },
    {
     "data": {
      "application/javascript": [
       "\n",
       "            setTimeout(function() {\n",
       "                var nbb_cell_id = 49;\n",
       "                var nbb_unformatted_code = \"xgbc = xgb.XGBClassifier(random_state=randomseed, n_estimators=10)\\nxgbc.fit(xtrain, ytrain)\\nxgbpred = xgbc.predict(xtest)\\nprint(\\\"original score 2\\\", m.f1_score(ytest, xgbpred, average=\\\"weighted\\\"))\";\n",
       "                var nbb_formatted_code = \"xgbc = xgb.XGBClassifier(random_state=randomseed, n_estimators=10)\\nxgbc.fit(xtrain, ytrain)\\nxgbpred = xgbc.predict(xtest)\\nprint(\\\"original score 2\\\", m.f1_score(ytest, xgbpred, average=\\\"weighted\\\"))\";\n",
       "                var nbb_cells = Jupyter.notebook.get_cells();\n",
       "                for (var i = 0; i < nbb_cells.length; ++i) {\n",
       "                    if (nbb_cells[i].input_prompt_number == nbb_cell_id) {\n",
       "                        if (nbb_cells[i].get_text() == nbb_unformatted_code) {\n",
       "                             nbb_cells[i].set_text(nbb_formatted_code);\n",
       "                        }\n",
       "                        break;\n",
       "                    }\n",
       "                }\n",
       "            }, 500);\n",
       "            "
      ],
      "text/plain": [
       "<IPython.core.display.Javascript object>"
      ]
     },
     "metadata": {},
     "output_type": "display_data"
    }
   ],
   "source": [
    "xgbc = xgb.XGBClassifier(random_state=randomseed, n_estimators=10)\n",
    "xgbc.fit(xtrain, ytrain)\n",
    "xgbpred = xgbc.predict(xtest)\n",
    "print(\"original score 2\", m.f1_score(ytest, xgbpred, average=\"weighted\"))"
   ]
  },
  {
   "cell_type": "code",
   "execution_count": 50,
   "metadata": {},
   "outputs": [
    {
     "name": "stdout",
     "output_type": "stream",
     "text": [
      "0.7640184472020161\n"
     ]
    },
    {
     "data": {
      "application/javascript": [
       "\n",
       "            setTimeout(function() {\n",
       "                var nbb_cell_id = 50;\n",
       "                var nbb_unformatted_code = \"svc = svmgpu(random_state=randomseed, probability=True, C=0.85, gamma=0.0001)\\nsvc.fit(xtrain, ytrain)\\n\\nsvcpred = svc.predict(xtest)\\nprint(m.f1_score(ytest, svcpred, average=\\\"weighted\\\"))\";\n",
       "                var nbb_formatted_code = \"svc = svmgpu(random_state=randomseed, probability=True, C=0.85, gamma=0.0001)\\nsvc.fit(xtrain, ytrain)\\n\\nsvcpred = svc.predict(xtest)\\nprint(m.f1_score(ytest, svcpred, average=\\\"weighted\\\"))\";\n",
       "                var nbb_cells = Jupyter.notebook.get_cells();\n",
       "                for (var i = 0; i < nbb_cells.length; ++i) {\n",
       "                    if (nbb_cells[i].input_prompt_number == nbb_cell_id) {\n",
       "                        if (nbb_cells[i].get_text() == nbb_unformatted_code) {\n",
       "                             nbb_cells[i].set_text(nbb_formatted_code);\n",
       "                        }\n",
       "                        break;\n",
       "                    }\n",
       "                }\n",
       "            }, 500);\n",
       "            "
      ],
      "text/plain": [
       "<IPython.core.display.Javascript object>"
      ]
     },
     "metadata": {},
     "output_type": "display_data"
    }
   ],
   "source": [
    "svc = svmgpu(random_state=randomseed, probability=True, C=0.85, gamma=0.0001)\n",
    "svc.fit(xtrain, ytrain)\n",
    "\n",
    "svcpred = svc.predict(xtest)\n",
    "print(m.f1_score(ytest, svcpred, average=\"weighted\"))"
   ]
  },
  {
   "cell_type": "code",
   "execution_count": 51,
   "metadata": {},
   "outputs": [
    {
     "name": "stdout",
     "output_type": "stream",
     "text": [
      "0.7266666666666667  std  0.023804761428476172\n"
     ]
    },
    {
     "data": {
      "application/javascript": [
       "\n",
       "            setTimeout(function() {\n",
       "                var nbb_cell_id = 51;\n",
       "                var nbb_unformatted_code = \"cv = StratifiedKFold(10, random_state=randomseed, shuffle=False)\\nrf_cv = cross_val_score(rf, x, y, verbose=0, cv=cv)\\nprint(np.mean(rf_cv), \\\" std \\\", np.std(rf_cv))\";\n",
       "                var nbb_formatted_code = \"cv = StratifiedKFold(10, random_state=randomseed, shuffle=False)\\nrf_cv = cross_val_score(rf, x, y, verbose=0, cv=cv)\\nprint(np.mean(rf_cv), \\\" std \\\", np.std(rf_cv))\";\n",
       "                var nbb_cells = Jupyter.notebook.get_cells();\n",
       "                for (var i = 0; i < nbb_cells.length; ++i) {\n",
       "                    if (nbb_cells[i].input_prompt_number == nbb_cell_id) {\n",
       "                        if (nbb_cells[i].get_text() == nbb_unformatted_code) {\n",
       "                             nbb_cells[i].set_text(nbb_formatted_code);\n",
       "                        }\n",
       "                        break;\n",
       "                    }\n",
       "                }\n",
       "            }, 500);\n",
       "            "
      ],
      "text/plain": [
       "<IPython.core.display.Javascript object>"
      ]
     },
     "metadata": {},
     "output_type": "display_data"
    }
   ],
   "source": [
    "cv = StratifiedKFold(10, random_state=randomseed, shuffle=False)\n",
    "rf_cv = cross_val_score(rf, x, y, verbose=0, cv=cv)\n",
    "print(np.mean(rf_cv), \" std \", np.std(rf_cv))"
   ]
  },
  {
   "cell_type": "code",
   "execution_count": 52,
   "metadata": {},
   "outputs": [
    {
     "name": "stdout",
     "output_type": "stream",
     "text": [
      "0.7316666666666667  std  0.02733536577809456\n"
     ]
    },
    {
     "data": {
      "application/javascript": [
       "\n",
       "            setTimeout(function() {\n",
       "                var nbb_cell_id = 52;\n",
       "                var nbb_unformatted_code = \"cv = StratifiedKFold(10, random_state=randomseed, shuffle=False)\\nsvc_cv = cross_val_score(svc, x, y, cv=cv, verbose=0)\\nprint(np.mean(svc_cv), \\\" std \\\", np.std(svc_cv))\";\n",
       "                var nbb_formatted_code = \"cv = StratifiedKFold(10, random_state=randomseed, shuffle=False)\\nsvc_cv = cross_val_score(svc, x, y, cv=cv, verbose=0)\\nprint(np.mean(svc_cv), \\\" std \\\", np.std(svc_cv))\";\n",
       "                var nbb_cells = Jupyter.notebook.get_cells();\n",
       "                for (var i = 0; i < nbb_cells.length; ++i) {\n",
       "                    if (nbb_cells[i].input_prompt_number == nbb_cell_id) {\n",
       "                        if (nbb_cells[i].get_text() == nbb_unformatted_code) {\n",
       "                             nbb_cells[i].set_text(nbb_formatted_code);\n",
       "                        }\n",
       "                        break;\n",
       "                    }\n",
       "                }\n",
       "            }, 500);\n",
       "            "
      ],
      "text/plain": [
       "<IPython.core.display.Javascript object>"
      ]
     },
     "metadata": {},
     "output_type": "display_data"
    }
   ],
   "source": [
    "cv = StratifiedKFold(10, random_state=randomseed, shuffle=False)\n",
    "svc_cv = cross_val_score(svc, x, y, cv=cv, verbose=0)\n",
    "print(np.mean(svc_cv), \" std \", np.std(svc_cv))"
   ]
  },
  {
   "cell_type": "code",
   "execution_count": 53,
   "metadata": {},
   "outputs": [
    {
     "name": "stdout",
     "output_type": "stream",
     "text": [
      "0.71  std  0.021343747458109505\n"
     ]
    },
    {
     "data": {
      "application/javascript": [
       "\n",
       "            setTimeout(function() {\n",
       "                var nbb_cell_id = 53;\n",
       "                var nbb_unformatted_code = \"cv = StratifiedKFold(10, random_state=randomseed, shuffle=False)\\nxgbc_cv = cross_val_score(xgbc, x, y, cv=cv, verbose=0)\\nprint(np.mean(xgbc_cv), \\\" std \\\", np.std(xgbc_cv))\";\n",
       "                var nbb_formatted_code = \"cv = StratifiedKFold(10, random_state=randomseed, shuffle=False)\\nxgbc_cv = cross_val_score(xgbc, x, y, cv=cv, verbose=0)\\nprint(np.mean(xgbc_cv), \\\" std \\\", np.std(xgbc_cv))\";\n",
       "                var nbb_cells = Jupyter.notebook.get_cells();\n",
       "                for (var i = 0; i < nbb_cells.length; ++i) {\n",
       "                    if (nbb_cells[i].input_prompt_number == nbb_cell_id) {\n",
       "                        if (nbb_cells[i].get_text() == nbb_unformatted_code) {\n",
       "                             nbb_cells[i].set_text(nbb_formatted_code);\n",
       "                        }\n",
       "                        break;\n",
       "                    }\n",
       "                }\n",
       "            }, 500);\n",
       "            "
      ],
      "text/plain": [
       "<IPython.core.display.Javascript object>"
      ]
     },
     "metadata": {},
     "output_type": "display_data"
    }
   ],
   "source": [
    "cv = StratifiedKFold(10, random_state=randomseed, shuffle=False)\n",
    "xgbc_cv = cross_val_score(xgbc, x, y, cv=cv, verbose=0)\n",
    "print(np.mean(xgbc_cv), \" std \", np.std(xgbc_cv))"
   ]
  },
  {
   "cell_type": "code",
   "execution_count": 54,
   "metadata": {
    "scrolled": true
   },
   "outputs": [
    {
     "data": {
      "application/javascript": [
       "\n",
       "            setTimeout(function() {\n",
       "                var nbb_cell_id = 54;\n",
       "                var nbb_unformatted_code = \"from sklearn.cluster import KMeans\\nfrom sklearn.cluster import DBSCAN\\nfrom sklearn.cluster import MeanShift\\nimport PPOCS\\n\\n# kmeans = KMeans(n_clusters=3, random_state=0).fit(x)\\n# labels_ = kmeans.labels_\\n\\n# db=DBSCAN(eps=1, min_samples=10)\\n# db.fit(x)\\n# np.unique(db.labels_)\\n# labels_=db.labels_.copy()\\n# labels_[labels_==-1]=2\\n# np.unique(labels_)\\n\\n# clustering = MeanShift(bandwidth=2).fit(x)\\n# labels_ = clustering.labels_\\n# np.unique(labels_)\\n\\nlabels_ = PPOCS.fit(np.array(x), 3)\";\n",
       "                var nbb_formatted_code = \"from sklearn.cluster import KMeans\\nfrom sklearn.cluster import DBSCAN\\nfrom sklearn.cluster import MeanShift\\nimport PPOCS\\n\\n# kmeans = KMeans(n_clusters=3, random_state=0).fit(x)\\n# labels_ = kmeans.labels_\\n\\n# db=DBSCAN(eps=1, min_samples=10)\\n# db.fit(x)\\n# np.unique(db.labels_)\\n# labels_=db.labels_.copy()\\n# labels_[labels_==-1]=2\\n# np.unique(labels_)\\n\\n# clustering = MeanShift(bandwidth=2).fit(x)\\n# labels_ = clustering.labels_\\n# np.unique(labels_)\\n\\nlabels_ = PPOCS.fit(np.array(x), 3)\";\n",
       "                var nbb_cells = Jupyter.notebook.get_cells();\n",
       "                for (var i = 0; i < nbb_cells.length; ++i) {\n",
       "                    if (nbb_cells[i].input_prompt_number == nbb_cell_id) {\n",
       "                        if (nbb_cells[i].get_text() == nbb_unformatted_code) {\n",
       "                             nbb_cells[i].set_text(nbb_formatted_code);\n",
       "                        }\n",
       "                        break;\n",
       "                    }\n",
       "                }\n",
       "            }, 500);\n",
       "            "
      ],
      "text/plain": [
       "<IPython.core.display.Javascript object>"
      ]
     },
     "metadata": {},
     "output_type": "display_data"
    }
   ],
   "source": [
    "from sklearn.cluster import KMeans\n",
    "from sklearn.cluster import DBSCAN\n",
    "from sklearn.cluster import MeanShift\n",
    "import PPOCS\n",
    "\n",
    "# kmeans = KMeans(n_clusters=3, random_state=0).fit(x)\n",
    "# labels_ = kmeans.labels_\n",
    "\n",
    "# db=DBSCAN(eps=1, min_samples=10)\n",
    "# db.fit(x)\n",
    "# np.unique(db.labels_)\n",
    "# labels_=db.labels_.copy()\n",
    "# labels_[labels_==-1]=2\n",
    "# np.unique(labels_)\n",
    "\n",
    "# clustering = MeanShift(bandwidth=2).fit(x)\n",
    "# labels_ = clustering.labels_\n",
    "# np.unique(labels_)\n",
    "\n",
    "labels_ = PPOCS.fit(np.array(x), 3)"
   ]
  },
  {
   "cell_type": "code",
   "execution_count": 55,
   "metadata": {},
   "outputs": [
    {
     "name": "stdout",
     "output_type": "stream",
     "text": [
      "0.15666666666666668\n",
      "0.21833333333333332\n",
      "0.10833333333333334\n",
      "0.735\n",
      "0.10833333333333334\n",
      "0.32166666666666666\n"
     ]
    },
    {
     "data": {
      "application/javascript": [
       "\n",
       "            setTimeout(function() {\n",
       "                var nbb_cell_id = 55;\n",
       "                var nbb_unformatted_code = \"import itertools\\ncombcols = list(itertools.permutations([0, 1, 2]))\\n    \\nfor j in range(len(combcols)):\\n    currentlist = combcols[j]\\n    temp=labels_\\n    for i in range(temp.shape[0]):\\n        temp[i] = currentlist[temp[i]]\\n    print(m.accuracy_score(y,temp))\";\n",
       "                var nbb_formatted_code = \"import itertools\\n\\ncombcols = list(itertools.permutations([0, 1, 2]))\\n\\nfor j in range(len(combcols)):\\n    currentlist = combcols[j]\\n    temp = labels_\\n    for i in range(temp.shape[0]):\\n        temp[i] = currentlist[temp[i]]\\n    print(m.accuracy_score(y, temp))\";\n",
       "                var nbb_cells = Jupyter.notebook.get_cells();\n",
       "                for (var i = 0; i < nbb_cells.length; ++i) {\n",
       "                    if (nbb_cells[i].input_prompt_number == nbb_cell_id) {\n",
       "                        if (nbb_cells[i].get_text() == nbb_unformatted_code) {\n",
       "                             nbb_cells[i].set_text(nbb_formatted_code);\n",
       "                        }\n",
       "                        break;\n",
       "                    }\n",
       "                }\n",
       "            }, 500);\n",
       "            "
      ],
      "text/plain": [
       "<IPython.core.display.Javascript object>"
      ]
     },
     "metadata": {},
     "output_type": "display_data"
    }
   ],
   "source": [
    "import itertools\n",
    "combcols = list(itertools.permutations([0, 1, 2]))\n",
    "    \n",
    "for j in range(len(combcols)):\n",
    "    currentlist = combcols[j]\n",
    "    temp=labels_\n",
    "    for i in range(temp.shape[0]):\n",
    "        temp[i] = currentlist[temp[i]]\n",
    "    print(m.accuracy_score(y,temp))\n",
    "\n"
   ]
  },
  {
   "cell_type": "code",
   "execution_count": null,
   "metadata": {},
   "outputs": [],
   "source": []
  },
  {
   "cell_type": "code",
   "execution_count": null,
   "metadata": {},
   "outputs": [],
   "source": []
  }
 ],
 "metadata": {
  "kernelspec": {
   "display_name": "Python 3",
   "language": "python",
   "name": "python3"
  },
  "language_info": {
   "codemirror_mode": {
    "name": "ipython",
    "version": 3
   },
   "file_extension": ".py",
   "mimetype": "text/x-python",
   "name": "python",
   "nbconvert_exporter": "python",
   "pygments_lexer": "ipython3",
   "version": "3.7.7"
  }
 },
 "nbformat": 4,
 "nbformat_minor": 4
}
