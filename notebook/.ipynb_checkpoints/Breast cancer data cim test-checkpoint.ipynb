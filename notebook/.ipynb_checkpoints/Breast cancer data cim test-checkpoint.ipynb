{
 "cells": [
  {
   "cell_type": "code",
   "execution_count": 1,
   "metadata": {},
   "outputs": [
    {
     "data": {
      "application/javascript": [
       "\n",
       "            setTimeout(function() {\n",
       "                var nbb_cell_id = 1;\n",
       "                var nbb_unformatted_code = \"%load_ext nb_black\";\n",
       "                var nbb_formatted_code = \"%load_ext nb_black\";\n",
       "                var nbb_cells = Jupyter.notebook.get_cells();\n",
       "                for (var i = 0; i < nbb_cells.length; ++i) {\n",
       "                    if (nbb_cells[i].input_prompt_number == nbb_cell_id) {\n",
       "                        if (nbb_cells[i].get_text() == nbb_unformatted_code) {\n",
       "                             nbb_cells[i].set_text(nbb_formatted_code);\n",
       "                        }\n",
       "                        break;\n",
       "                    }\n",
       "                }\n",
       "            }, 500);\n",
       "            "
      ],
      "text/plain": [
       "<IPython.core.display.Javascript object>"
      ]
     },
     "metadata": {},
     "output_type": "display_data"
    }
   ],
   "source": [
    "%load_ext nb_black"
   ]
  },
  {
   "cell_type": "code",
   "execution_count": 2,
   "metadata": {},
   "outputs": [
    {
     "data": {
      "application/javascript": [
       "\n",
       "            setTimeout(function() {\n",
       "                var nbb_cell_id = 2;\n",
       "                var nbb_unformatted_code = \"from sklearn import datasets\\nfrom sklearn import metrics as m\\nfrom sklearn.model_selection import train_test_split\\nfrom sklearn.ensemble import RandomForestClassifier\\nfrom sklearn.model_selection import cross_val_score\\nimport numpy as np\\nfrom itertools import combinations\\nfrom sklearn import datasets\\nfrom sklearn import metrics as m\\nfrom sklearn.model_selection import train_test_split\\nfrom sklearn.ensemble import RandomForestClassifier\\nfrom sklearn.model_selection import cross_val_score\\nimport numpy as np\\nimport pandas as pd\\nfrom itertools import combinations\\nfrom sklearn.svm import SVC\\nimport xgboost as xgb\\nfrom thundersvm import SVC as svmgpu\\nfrom sklearn.utils import shuffle\\nimport itertools\\nfrom sklearn.ensemble import VotingClassifier\\nfrom sklearn.preprocessing import LabelEncoder\\n\\nrandomseed = 42\\nnp.random.seed(randomseed)\";\n",
       "                var nbb_formatted_code = \"from sklearn import datasets\\nfrom sklearn import metrics as m\\nfrom sklearn.model_selection import train_test_split\\nfrom sklearn.ensemble import RandomForestClassifier\\nfrom sklearn.model_selection import cross_val_score\\nimport numpy as np\\nfrom itertools import combinations\\nfrom sklearn import datasets\\nfrom sklearn import metrics as m\\nfrom sklearn.model_selection import train_test_split\\nfrom sklearn.ensemble import RandomForestClassifier\\nfrom sklearn.model_selection import cross_val_score\\nimport numpy as np\\nimport pandas as pd\\nfrom itertools import combinations\\nfrom sklearn.svm import SVC\\nimport xgboost as xgb\\nfrom thundersvm import SVC as svmgpu\\nfrom sklearn.utils import shuffle\\nimport itertools\\nfrom sklearn.ensemble import VotingClassifier\\nfrom sklearn.preprocessing import LabelEncoder\\n\\nrandomseed = 42\\nnp.random.seed(randomseed)\";\n",
       "                var nbb_cells = Jupyter.notebook.get_cells();\n",
       "                for (var i = 0; i < nbb_cells.length; ++i) {\n",
       "                    if (nbb_cells[i].input_prompt_number == nbb_cell_id) {\n",
       "                        if (nbb_cells[i].get_text() == nbb_unformatted_code) {\n",
       "                             nbb_cells[i].set_text(nbb_formatted_code);\n",
       "                        }\n",
       "                        break;\n",
       "                    }\n",
       "                }\n",
       "            }, 500);\n",
       "            "
      ],
      "text/plain": [
       "<IPython.core.display.Javascript object>"
      ]
     },
     "metadata": {},
     "output_type": "display_data"
    }
   ],
   "source": [
    "from sklearn import datasets\n",
    "from sklearn import metrics as m\n",
    "from sklearn.model_selection import train_test_split\n",
    "from sklearn.ensemble import RandomForestClassifier\n",
    "from sklearn.model_selection import cross_val_score\n",
    "import numpy as np\n",
    "from itertools import combinations\n",
    "from sklearn import datasets\n",
    "from sklearn import metrics as m\n",
    "from sklearn.model_selection import train_test_split\n",
    "from sklearn.ensemble import RandomForestClassifier\n",
    "from sklearn.model_selection import cross_val_score\n",
    "import numpy as np\n",
    "import pandas as pd\n",
    "from itertools import combinations\n",
    "from sklearn.svm import SVC\n",
    "import xgboost as xgb\n",
    "from thundersvm import SVC as svmgpu\n",
    "from sklearn.utils import shuffle\n",
    "import itertools\n",
    "from sklearn.ensemble import VotingClassifier\n",
    "from sklearn.preprocessing import LabelEncoder\n",
    "\n",
    "randomseed = 42\n",
    "np.random.seed(randomseed)"
   ]
  },
  {
   "cell_type": "code",
   "execution_count": 3,
   "metadata": {
    "scrolled": true
   },
   "outputs": [
    {
     "data": {
      "application/javascript": [
       "\n",
       "            setTimeout(function() {\n",
       "                var nbb_cell_id = 3;\n",
       "                var nbb_unformatted_code = \"# data = pd.read_csv(\\\"../dataset/ionosphere.data\\\")\\n# data = shuffle(data)\\n\\n# le = LabelEncoder()\\n# data.iloc[:, -1] = le.fit_transform(data.iloc[:, -1])\\n# x = data.iloc[:, :-1]\\n# y = data.iloc[:, -1]\";\n",
       "                var nbb_formatted_code = \"# data = pd.read_csv(\\\"../dataset/ionosphere.data\\\")\\n# data = shuffle(data)\\n\\n# le = LabelEncoder()\\n# data.iloc[:, -1] = le.fit_transform(data.iloc[:, -1])\\n# x = data.iloc[:, :-1]\\n# y = data.iloc[:, -1]\";\n",
       "                var nbb_cells = Jupyter.notebook.get_cells();\n",
       "                for (var i = 0; i < nbb_cells.length; ++i) {\n",
       "                    if (nbb_cells[i].input_prompt_number == nbb_cell_id) {\n",
       "                        if (nbb_cells[i].get_text() == nbb_unformatted_code) {\n",
       "                             nbb_cells[i].set_text(nbb_formatted_code);\n",
       "                        }\n",
       "                        break;\n",
       "                    }\n",
       "                }\n",
       "            }, 500);\n",
       "            "
      ],
      "text/plain": [
       "<IPython.core.display.Javascript object>"
      ]
     },
     "metadata": {},
     "output_type": "display_data"
    }
   ],
   "source": [
    "# data = pd.read_csv(\"../dataset/ionosphere.data\")\n",
    "# data = shuffle(data)\n",
    "\n",
    "# le = LabelEncoder()\n",
    "# data.iloc[:, -1] = le.fit_transform(data.iloc[:, -1])\n",
    "# x = data.iloc[:, :-1]\n",
    "# y = data.iloc[:, -1]"
   ]
  },
  {
   "cell_type": "code",
   "execution_count": 18,
   "metadata": {},
   "outputs": [
    {
     "name": "stdout",
     "output_type": "stream",
     "text": [
      "[0 1]\n"
     ]
    },
    {
     "data": {
      "application/javascript": [
       "\n",
       "            setTimeout(function() {\n",
       "                var nbb_cell_id = 18;\n",
       "                var nbb_unformatted_code = \"data = datasets.load_breast_cancer()\\nx = data.data\\ny = data.target.ravel()\\nprint(np.unique(y))\";\n",
       "                var nbb_formatted_code = \"data = datasets.load_breast_cancer()\\nx = data.data\\ny = data.target.ravel()\\nprint(np.unique(y))\";\n",
       "                var nbb_cells = Jupyter.notebook.get_cells();\n",
       "                for (var i = 0; i < nbb_cells.length; ++i) {\n",
       "                    if (nbb_cells[i].input_prompt_number == nbb_cell_id) {\n",
       "                        if (nbb_cells[i].get_text() == nbb_unformatted_code) {\n",
       "                             nbb_cells[i].set_text(nbb_formatted_code);\n",
       "                        }\n",
       "                        break;\n",
       "                    }\n",
       "                }\n",
       "            }, 500);\n",
       "            "
      ],
      "text/plain": [
       "<IPython.core.display.Javascript object>"
      ]
     },
     "metadata": {},
     "output_type": "display_data"
    }
   ],
   "source": [
    "data = datasets.load_breast_cancer()\n",
    "x = data.data\n",
    "y = data.target.ravel()\n",
    "print(np.unique(y))"
   ]
  },
  {
   "cell_type": "code",
   "execution_count": 5,
   "metadata": {},
   "outputs": [
    {
     "data": {
      "application/javascript": [
       "\n",
       "            setTimeout(function() {\n",
       "                var nbb_cell_id = 5;\n",
       "                var nbb_unformatted_code = \"xtrain, xtest, ytrain_original, ytest_original = train_test_split(\\n    x, y, test_size=0.3, random_state=42\\n)\";\n",
       "                var nbb_formatted_code = \"xtrain, xtest, ytrain_original, ytest_original = train_test_split(\\n    x, y, test_size=0.3, random_state=42\\n)\";\n",
       "                var nbb_cells = Jupyter.notebook.get_cells();\n",
       "                for (var i = 0; i < nbb_cells.length; ++i) {\n",
       "                    if (nbb_cells[i].input_prompt_number == nbb_cell_id) {\n",
       "                        if (nbb_cells[i].get_text() == nbb_unformatted_code) {\n",
       "                             nbb_cells[i].set_text(nbb_formatted_code);\n",
       "                        }\n",
       "                        break;\n",
       "                    }\n",
       "                }\n",
       "            }, 500);\n",
       "            "
      ],
      "text/plain": [
       "<IPython.core.display.Javascript object>"
      ]
     },
     "metadata": {},
     "output_type": "display_data"
    }
   ],
   "source": [
    "xtrain, xtest, ytrain_original, ytest_original = train_test_split(\n",
    "    x, y, test_size=0.3, random_state=42\n",
    ")"
   ]
  },
  {
   "cell_type": "code",
   "execution_count": 6,
   "metadata": {
    "scrolled": true
   },
   "outputs": [
    {
     "name": "stdout",
     "output_type": "stream",
     "text": [
      "0.9649122807017544\n"
     ]
    },
    {
     "data": {
      "application/javascript": [
       "\n",
       "            setTimeout(function() {\n",
       "                var nbb_cell_id = 6;\n",
       "                var nbb_unformatted_code = \"xgbmodel = xgb.XGBClassifier(random_state=randomseed)\\nxgbmodel.fit(xtrain, ytrain_original)\\nprint(m.accuracy_score(ytest_original, xgbmodel.predict(xtest)))\";\n",
       "                var nbb_formatted_code = \"xgbmodel = xgb.XGBClassifier(random_state=randomseed)\\nxgbmodel.fit(xtrain, ytrain_original)\\nprint(m.accuracy_score(ytest_original, xgbmodel.predict(xtest)))\";\n",
       "                var nbb_cells = Jupyter.notebook.get_cells();\n",
       "                for (var i = 0; i < nbb_cells.length; ++i) {\n",
       "                    if (nbb_cells[i].input_prompt_number == nbb_cell_id) {\n",
       "                        if (nbb_cells[i].get_text() == nbb_unformatted_code) {\n",
       "                             nbb_cells[i].set_text(nbb_formatted_code);\n",
       "                        }\n",
       "                        break;\n",
       "                    }\n",
       "                }\n",
       "            }, 500);\n",
       "            "
      ],
      "text/plain": [
       "<IPython.core.display.Javascript object>"
      ]
     },
     "metadata": {},
     "output_type": "display_data"
    }
   ],
   "source": [
    "xgbmodel = xgb.XGBClassifier(random_state=randomseed)\n",
    "xgbmodel.fit(xtrain, ytrain_original)\n",
    "print(m.accuracy_score(ytest_original, xgbmodel.predict(xtest)))"
   ]
  },
  {
   "cell_type": "code",
   "execution_count": 7,
   "metadata": {},
   "outputs": [
    {
     "name": "stdout",
     "output_type": "stream",
     "text": [
      "mean=  0.9631827413360989 , std=  0.02251295216735506\n"
     ]
    },
    {
     "data": {
      "application/javascript": [
       "\n",
       "            setTimeout(function() {\n",
       "                var nbb_cell_id = 7;\n",
       "                var nbb_unformatted_code = \"cvscore = cross_val_score(xgbmodel, x, y, cv=10)\\nprint(\\\"mean= \\\", np.mean(cvscore), \\\", std= \\\", np.std(cvscore))\";\n",
       "                var nbb_formatted_code = \"cvscore = cross_val_score(xgbmodel, x, y, cv=10)\\nprint(\\\"mean= \\\", np.mean(cvscore), \\\", std= \\\", np.std(cvscore))\";\n",
       "                var nbb_cells = Jupyter.notebook.get_cells();\n",
       "                for (var i = 0; i < nbb_cells.length; ++i) {\n",
       "                    if (nbb_cells[i].input_prompt_number == nbb_cell_id) {\n",
       "                        if (nbb_cells[i].get_text() == nbb_unformatted_code) {\n",
       "                             nbb_cells[i].set_text(nbb_formatted_code);\n",
       "                        }\n",
       "                        break;\n",
       "                    }\n",
       "                }\n",
       "            }, 500);\n",
       "            "
      ],
      "text/plain": [
       "<IPython.core.display.Javascript object>"
      ]
     },
     "metadata": {},
     "output_type": "display_data"
    }
   ],
   "source": [
    "cvscore = cross_val_score(xgbmodel, x, y, cv=10)\n",
    "print(\"mean= \", np.mean(cvscore), \", std= \", np.std(cvscore))"
   ]
  },
  {
   "cell_type": "markdown",
   "metadata": {},
   "source": [
    "Confusion matrix based models\n",
    "===="
   ]
  },
  {
   "cell_type": "code",
   "execution_count": 8,
   "metadata": {},
   "outputs": [
    {
     "data": {
      "application/javascript": [
       "\n",
       "            setTimeout(function() {\n",
       "                var nbb_cell_id = 8;\n",
       "                var nbb_unformatted_code = \"# 1. baseline classifiers\";\n",
       "                var nbb_formatted_code = \"# 1. baseline classifiers\";\n",
       "                var nbb_cells = Jupyter.notebook.get_cells();\n",
       "                for (var i = 0; i < nbb_cells.length; ++i) {\n",
       "                    if (nbb_cells[i].input_prompt_number == nbb_cell_id) {\n",
       "                        if (nbb_cells[i].get_text() == nbb_unformatted_code) {\n",
       "                             nbb_cells[i].set_text(nbb_formatted_code);\n",
       "                        }\n",
       "                        break;\n",
       "                    }\n",
       "                }\n",
       "            }, 500);\n",
       "            "
      ],
      "text/plain": [
       "<IPython.core.display.Javascript object>"
      ]
     },
     "metadata": {},
     "output_type": "display_data"
    }
   ],
   "source": [
    "# 1. baseline classifiers"
   ]
  },
  {
   "cell_type": "code",
   "execution_count": 9,
   "metadata": {},
   "outputs": [
    {
     "name": "stdout",
     "output_type": "stream",
     "text": [
      "0.9649122807017544\n",
      "mean=  0.9631827413360989 , std=  0.02251295216735506\n"
     ]
    },
    {
     "data": {
      "application/javascript": [
       "\n",
       "            setTimeout(function() {\n",
       "                var nbb_cell_id = 9;\n",
       "                var nbb_unformatted_code = \"xgbmodel = xgb.XGBClassifier(random_state=randomseed)\\nxgbmodel.fit(xtrain, ytrain_original)\\nxgbmodel_acc = m.accuracy_score(ytest_original, xgbmodel.predict(xtest))\\nprint(xgbmodel_acc)\\n\\nxgbmodel_probpred = xgbmodel.predict_proba(xtest)\\nxgbmodel_confmat = m.confusion_matrix(ytest_original, xgbmodel.predict(xtest))\\n\\ncvscore = cross_val_score(xgbmodel, x, y, cv=10)\\nprint(\\\"mean= \\\", np.mean(cvscore), \\\", std= \\\", np.std(cvscore))\";\n",
       "                var nbb_formatted_code = \"xgbmodel = xgb.XGBClassifier(random_state=randomseed)\\nxgbmodel.fit(xtrain, ytrain_original)\\nxgbmodel_acc = m.accuracy_score(ytest_original, xgbmodel.predict(xtest))\\nprint(xgbmodel_acc)\\n\\nxgbmodel_probpred = xgbmodel.predict_proba(xtest)\\nxgbmodel_confmat = m.confusion_matrix(ytest_original, xgbmodel.predict(xtest))\\n\\ncvscore = cross_val_score(xgbmodel, x, y, cv=10)\\nprint(\\\"mean= \\\", np.mean(cvscore), \\\", std= \\\", np.std(cvscore))\";\n",
       "                var nbb_cells = Jupyter.notebook.get_cells();\n",
       "                for (var i = 0; i < nbb_cells.length; ++i) {\n",
       "                    if (nbb_cells[i].input_prompt_number == nbb_cell_id) {\n",
       "                        if (nbb_cells[i].get_text() == nbb_unformatted_code) {\n",
       "                             nbb_cells[i].set_text(nbb_formatted_code);\n",
       "                        }\n",
       "                        break;\n",
       "                    }\n",
       "                }\n",
       "            }, 500);\n",
       "            "
      ],
      "text/plain": [
       "<IPython.core.display.Javascript object>"
      ]
     },
     "metadata": {},
     "output_type": "display_data"
    }
   ],
   "source": [
    "xgbmodel = xgb.XGBClassifier(random_state=randomseed)\n",
    "xgbmodel.fit(xtrain, ytrain_original)\n",
    "xgbmodel_acc = m.accuracy_score(ytest_original, xgbmodel.predict(xtest))\n",
    "print(xgbmodel_acc)\n",
    "\n",
    "xgbmodel_probpred = xgbmodel.predict_proba(xtest)\n",
    "xgbmodel_confmat = m.confusion_matrix(ytest_original, xgbmodel.predict(xtest))\n",
    "\n",
    "cvscore = cross_val_score(xgbmodel, x, y, cv=10)\n",
    "print(\"mean= \", np.mean(cvscore), \", std= \", np.std(cvscore))"
   ]
  },
  {
   "cell_type": "code",
   "execution_count": 10,
   "metadata": {},
   "outputs": [
    {
     "name": "stdout",
     "output_type": "stream",
     "text": [
      "0.9707602339181286\n",
      "mean=  0.9632443176907787 , std=  0.030489048768804306\n"
     ]
    },
    {
     "data": {
      "application/javascript": [
       "\n",
       "            setTimeout(function() {\n",
       "                var nbb_cell_id = 10;\n",
       "                var nbb_unformatted_code = \"rfmodel = RandomForestClassifier(random_state=randomseed, n_estimators=100)\\nrfmodel.fit(xtrain, ytrain_original)\\nrfmodel_acc = m.accuracy_score(ytest_original, rfmodel.predict(xtest))\\nprint(rfmodel_acc)\\n\\nrfmodel_probpred = rfmodel.predict_proba(xtest)\\nrfmodel_confmat = m.confusion_matrix(ytest_original, rfmodel.predict(xtest))\\n\\ncvscore = cross_val_score(rfmodel, x, y, cv=10)\\nprint(\\\"mean= \\\", np.mean(cvscore), \\\", std= \\\", np.std(cvscore))\";\n",
       "                var nbb_formatted_code = \"rfmodel = RandomForestClassifier(random_state=randomseed, n_estimators=100)\\nrfmodel.fit(xtrain, ytrain_original)\\nrfmodel_acc = m.accuracy_score(ytest_original, rfmodel.predict(xtest))\\nprint(rfmodel_acc)\\n\\nrfmodel_probpred = rfmodel.predict_proba(xtest)\\nrfmodel_confmat = m.confusion_matrix(ytest_original, rfmodel.predict(xtest))\\n\\ncvscore = cross_val_score(rfmodel, x, y, cv=10)\\nprint(\\\"mean= \\\", np.mean(cvscore), \\\", std= \\\", np.std(cvscore))\";\n",
       "                var nbb_cells = Jupyter.notebook.get_cells();\n",
       "                for (var i = 0; i < nbb_cells.length; ++i) {\n",
       "                    if (nbb_cells[i].input_prompt_number == nbb_cell_id) {\n",
       "                        if (nbb_cells[i].get_text() == nbb_unformatted_code) {\n",
       "                             nbb_cells[i].set_text(nbb_formatted_code);\n",
       "                        }\n",
       "                        break;\n",
       "                    }\n",
       "                }\n",
       "            }, 500);\n",
       "            "
      ],
      "text/plain": [
       "<IPython.core.display.Javascript object>"
      ]
     },
     "metadata": {},
     "output_type": "display_data"
    }
   ],
   "source": [
    "rfmodel = RandomForestClassifier(random_state=randomseed, n_estimators=100)\n",
    "rfmodel.fit(xtrain, ytrain_original)\n",
    "rfmodel_acc = m.accuracy_score(ytest_original, rfmodel.predict(xtest))\n",
    "print(rfmodel_acc)\n",
    "\n",
    "rfmodel_probpred = rfmodel.predict_proba(xtest)\n",
    "rfmodel_confmat = m.confusion_matrix(ytest_original, rfmodel.predict(xtest))\n",
    "\n",
    "cvscore = cross_val_score(rfmodel, x, y, cv=10)\n",
    "print(\"mean= \", np.mean(cvscore), \", std= \", np.std(cvscore))"
   ]
  },
  {
   "cell_type": "code",
   "execution_count": 11,
   "metadata": {},
   "outputs": [
    {
     "name": "stdout",
     "output_type": "stream",
     "text": [
      "0.6198830409356725\n",
      "mean=  0.6657203353210612 , std=  0.05944944544834322\n"
     ]
    },
    {
     "data": {
      "application/javascript": [
       "\n",
       "            setTimeout(function() {\n",
       "                var nbb_cell_id = 11;\n",
       "                var nbb_unformatted_code = \"svmmodel = svmgpu(random_state=randomseed, probability=True, C=1)\\nsvmmodel.fit(xtrain, ytrain_original)\\nsvmmodel_acc = m.accuracy_score(ytest_original, svmmodel.predict(xtest))\\nprint(svmmodel_acc)\\n\\nsvmmodel_probpred = 1 - svmmodel.predict_proba(xtest)\\nsvmmodel_confmat = m.confusion_matrix(ytest_original, svmmodel.predict(xtest))\\n\\ncvscore = cross_val_score(svmmodel, x, y, cv=10)\\nprint(\\\"mean= \\\", np.mean(cvscore), \\\", std= \\\", np.std(cvscore))\";\n",
       "                var nbb_formatted_code = \"svmmodel = svmgpu(random_state=randomseed, probability=True, C=1)\\nsvmmodel.fit(xtrain, ytrain_original)\\nsvmmodel_acc = m.accuracy_score(ytest_original, svmmodel.predict(xtest))\\nprint(svmmodel_acc)\\n\\nsvmmodel_probpred = 1 - svmmodel.predict_proba(xtest)\\nsvmmodel_confmat = m.confusion_matrix(ytest_original, svmmodel.predict(xtest))\\n\\ncvscore = cross_val_score(svmmodel, x, y, cv=10)\\nprint(\\\"mean= \\\", np.mean(cvscore), \\\", std= \\\", np.std(cvscore))\";\n",
       "                var nbb_cells = Jupyter.notebook.get_cells();\n",
       "                for (var i = 0; i < nbb_cells.length; ++i) {\n",
       "                    if (nbb_cells[i].input_prompt_number == nbb_cell_id) {\n",
       "                        if (nbb_cells[i].get_text() == nbb_unformatted_code) {\n",
       "                             nbb_cells[i].set_text(nbb_formatted_code);\n",
       "                        }\n",
       "                        break;\n",
       "                    }\n",
       "                }\n",
       "            }, 500);\n",
       "            "
      ],
      "text/plain": [
       "<IPython.core.display.Javascript object>"
      ]
     },
     "metadata": {},
     "output_type": "display_data"
    }
   ],
   "source": [
    "svmmodel = svmgpu(random_state=randomseed, probability=True, C=1)\n",
    "svmmodel.fit(xtrain, ytrain_original)\n",
    "svmmodel_acc = m.accuracy_score(ytest_original, svmmodel.predict(xtest))\n",
    "print(svmmodel_acc)\n",
    "\n",
    "svmmodel_probpred = 1 - svmmodel.predict_proba(xtest)\n",
    "svmmodel_confmat = m.confusion_matrix(ytest_original, svmmodel.predict(xtest))\n",
    "\n",
    "cvscore = cross_val_score(svmmodel, x, y, cv=10)\n",
    "print(\"mean= \", np.mean(cvscore), \", std= \", np.std(cvscore))"
   ]
  },
  {
   "cell_type": "code",
   "execution_count": null,
   "metadata": {},
   "outputs": [],
   "source": []
  },
  {
   "cell_type": "code",
   "execution_count": 12,
   "metadata": {},
   "outputs": [
    {
     "data": {
      "application/javascript": [
       "\n",
       "            setTimeout(function() {\n",
       "                var nbb_cell_id = 12;\n",
       "                var nbb_unformatted_code = \"# 2 ensemble models\\nacc = [xgbmodel_acc, rfmodel_acc, svmmodel_acc]\\npredictedprobablities = [xgbmodel_probpred, rfmodel_probpred, svmmodel_probpred]\\npredictedconfusionmatrix = [xgbmodel_confmat, rfmodel_confmat, svmmodel_confmat]\";\n",
       "                var nbb_formatted_code = \"# 2 ensemble models\\nacc = [xgbmodel_acc, rfmodel_acc, svmmodel_acc]\\npredictedprobablities = [xgbmodel_probpred, rfmodel_probpred, svmmodel_probpred]\\npredictedconfusionmatrix = [xgbmodel_confmat, rfmodel_confmat, svmmodel_confmat]\";\n",
       "                var nbb_cells = Jupyter.notebook.get_cells();\n",
       "                for (var i = 0; i < nbb_cells.length; ++i) {\n",
       "                    if (nbb_cells[i].input_prompt_number == nbb_cell_id) {\n",
       "                        if (nbb_cells[i].get_text() == nbb_unformatted_code) {\n",
       "                             nbb_cells[i].set_text(nbb_formatted_code);\n",
       "                        }\n",
       "                        break;\n",
       "                    }\n",
       "                }\n",
       "            }, 500);\n",
       "            "
      ],
      "text/plain": [
       "<IPython.core.display.Javascript object>"
      ]
     },
     "metadata": {},
     "output_type": "display_data"
    }
   ],
   "source": [
    "# 2 ensemble models\n",
    "acc = [xgbmodel_acc, rfmodel_acc, svmmodel_acc]\n",
    "predictedprobablities = [xgbmodel_probpred, rfmodel_probpred, svmmodel_probpred]\n",
    "predictedconfusionmatrix = [xgbmodel_confmat, rfmodel_confmat, svmmodel_confmat]"
   ]
  },
  {
   "cell_type": "code",
   "execution_count": 13,
   "metadata": {},
   "outputs": [
    {
     "data": {
      "application/javascript": [
       "\n",
       "            setTimeout(function() {\n",
       "                var nbb_cell_id = 13;\n",
       "                var nbb_unformatted_code = \"# convert the confmatrix to probabilites\\npredictedconfusionmatrix_proba = []\\n\\ntemp = np.array(predictedconfusionmatrix)\\nfor i in range(temp.shape[0]):\\n    tempconf = temp[i]\\n    tempconf_v = np.sum(tempconf, axis=0)\\n    propconfmat = tempconf.copy()\\n    for i in range(propconfmat.shape[0]):\\n        propconfmat[:, i] = 100 * propconfmat[:, i] / tempconf_v[i]\\n    predictedconfusionmatrix_proba.append(propconfmat)\";\n",
       "                var nbb_formatted_code = \"# convert the confmatrix to probabilites\\npredictedconfusionmatrix_proba = []\\n\\ntemp = np.array(predictedconfusionmatrix)\\nfor i in range(temp.shape[0]):\\n    tempconf = temp[i]\\n    tempconf_v = np.sum(tempconf, axis=0)\\n    propconfmat = tempconf.copy()\\n    for i in range(propconfmat.shape[0]):\\n        propconfmat[:, i] = 100 * propconfmat[:, i] / tempconf_v[i]\\n    predictedconfusionmatrix_proba.append(propconfmat)\";\n",
       "                var nbb_cells = Jupyter.notebook.get_cells();\n",
       "                for (var i = 0; i < nbb_cells.length; ++i) {\n",
       "                    if (nbb_cells[i].input_prompt_number == nbb_cell_id) {\n",
       "                        if (nbb_cells[i].get_text() == nbb_unformatted_code) {\n",
       "                             nbb_cells[i].set_text(nbb_formatted_code);\n",
       "                        }\n",
       "                        break;\n",
       "                    }\n",
       "                }\n",
       "            }, 500);\n",
       "            "
      ],
      "text/plain": [
       "<IPython.core.display.Javascript object>"
      ]
     },
     "metadata": {},
     "output_type": "display_data"
    }
   ],
   "source": [
    "# convert the confmatrix to probabilites\n",
    "predictedconfusionmatrix_proba = []\n",
    "\n",
    "temp = np.array(predictedconfusionmatrix)\n",
    "for i in range(temp.shape[0]):\n",
    "    tempconf = temp[i]\n",
    "    tempconf_v = np.sum(tempconf, axis=0)\n",
    "    propconfmat = tempconf.copy()\n",
    "    for i in range(propconfmat.shape[0]):\n",
    "        propconfmat[:, i] = 100 * propconfmat[:, i] / tempconf_v[i]\n",
    "    predictedconfusionmatrix_proba.append(propconfmat)"
   ]
  },
  {
   "cell_type": "code",
   "execution_count": 14,
   "metadata": {},
   "outputs": [
    {
     "data": {
      "application/javascript": [
       "\n",
       "            setTimeout(function() {\n",
       "                var nbb_cell_id = 14;\n",
       "                var nbb_unformatted_code = \"# pc1_all = []\\n# pc2_all = []\\n\\n# for i in range(len(predictedconfusionmatrix_proba)):\\n\\n#     pc1 = ( predictedprobablities[i][:, 0]    )\\n#     pc2 = (  predictedprobablities[i][:, 1]    )\\n\\n#     pc1_all.append(pc1)\\n#     pc2_all.append(pc2)\";\n",
       "                var nbb_formatted_code = \"# pc1_all = []\\n# pc2_all = []\\n\\n# for i in range(len(predictedconfusionmatrix_proba)):\\n\\n#     pc1 = ( predictedprobablities[i][:, 0]    )\\n#     pc2 = (  predictedprobablities[i][:, 1]    )\\n\\n#     pc1_all.append(pc1)\\n#     pc2_all.append(pc2)\";\n",
       "                var nbb_cells = Jupyter.notebook.get_cells();\n",
       "                for (var i = 0; i < nbb_cells.length; ++i) {\n",
       "                    if (nbb_cells[i].input_prompt_number == nbb_cell_id) {\n",
       "                        if (nbb_cells[i].get_text() == nbb_unformatted_code) {\n",
       "                             nbb_cells[i].set_text(nbb_formatted_code);\n",
       "                        }\n",
       "                        break;\n",
       "                    }\n",
       "                }\n",
       "            }, 500);\n",
       "            "
      ],
      "text/plain": [
       "<IPython.core.display.Javascript object>"
      ]
     },
     "metadata": {},
     "output_type": "display_data"
    }
   ],
   "source": [
    "# pc1_all = []\n",
    "# pc2_all = []\n",
    "\n",
    "# for i in range(len(predictedconfusionmatrix_proba)):\n",
    "\n",
    "#     pc1 = ( predictedprobablities[i][:, 0]    )\n",
    "#     pc2 = (  predictedprobablities[i][:, 1]    )\n",
    "\n",
    "#     pc1_all.append(pc1)\n",
    "#     pc2_all.append(pc2)\n"
   ]
  },
  {
   "cell_type": "code",
   "execution_count": 15,
   "metadata": {
    "scrolled": true
   },
   "outputs": [
    {
     "data": {
      "application/javascript": [
       "\n",
       "            setTimeout(function() {\n",
       "                var nbb_cell_id = 15;\n",
       "                var nbb_unformatted_code = \"pc1_all = []\\npc2_all = []\\n\\nfor i in range(len(predictedconfusionmatrix_proba)):\\n\\n    pc1 = (\\n        predictedprobablities[i][:, 0] * predictedconfusionmatrix_proba[i][0][0]\\n        + predictedprobablities[i][:, 1] * predictedconfusionmatrix_proba[i][0][1]\\n    )\\n    pc2 = (\\n        predictedprobablities[i][:, 0] * predictedconfusionmatrix_proba[i][1][0]\\n        + predictedprobablities[i][:, 1] * predictedconfusionmatrix_proba[i][1][1]\\n    )\\n\\n    pc1_all.append(pc1)\\n    pc2_all.append(pc2)\";\n",
       "                var nbb_formatted_code = \"pc1_all = []\\npc2_all = []\\n\\nfor i in range(len(predictedconfusionmatrix_proba)):\\n\\n    pc1 = (\\n        predictedprobablities[i][:, 0] * predictedconfusionmatrix_proba[i][0][0]\\n        + predictedprobablities[i][:, 1] * predictedconfusionmatrix_proba[i][0][1]\\n    )\\n    pc2 = (\\n        predictedprobablities[i][:, 0] * predictedconfusionmatrix_proba[i][1][0]\\n        + predictedprobablities[i][:, 1] * predictedconfusionmatrix_proba[i][1][1]\\n    )\\n\\n    pc1_all.append(pc1)\\n    pc2_all.append(pc2)\";\n",
       "                var nbb_cells = Jupyter.notebook.get_cells();\n",
       "                for (var i = 0; i < nbb_cells.length; ++i) {\n",
       "                    if (nbb_cells[i].input_prompt_number == nbb_cell_id) {\n",
       "                        if (nbb_cells[i].get_text() == nbb_unformatted_code) {\n",
       "                             nbb_cells[i].set_text(nbb_formatted_code);\n",
       "                        }\n",
       "                        break;\n",
       "                    }\n",
       "                }\n",
       "            }, 500);\n",
       "            "
      ],
      "text/plain": [
       "<IPython.core.display.Javascript object>"
      ]
     },
     "metadata": {},
     "output_type": "display_data"
    }
   ],
   "source": [
    "pc1_all = []\n",
    "pc2_all = []\n",
    "\n",
    "for i in range(len(predictedconfusionmatrix_proba)):\n",
    "\n",
    "    pc1 = (\n",
    "        predictedprobablities[i][:, 0] * predictedconfusionmatrix_proba[i][0][0]\n",
    "        + predictedprobablities[i][:, 1] * predictedconfusionmatrix_proba[i][0][1]\n",
    "    )\n",
    "    pc2 = (\n",
    "        predictedprobablities[i][:, 0] * predictedconfusionmatrix_proba[i][1][0]\n",
    "        + predictedprobablities[i][:, 1] * predictedconfusionmatrix_proba[i][1][1]\n",
    "    )\n",
    "\n",
    "    pc1_all.append(pc1)\n",
    "    pc2_all.append(pc2)\n"
   ]
  },
  {
   "cell_type": "code",
   "execution_count": 16,
   "metadata": {},
   "outputs": [
    {
     "data": {
      "application/javascript": [
       "\n",
       "            setTimeout(function() {\n",
       "                var nbb_cell_id = 16;\n",
       "                var nbb_unformatted_code = \"temp = np.zeros((xtest.shape[0], 2))\\ntemp[:, 0] = pc1_all[0] + pc1_all[1] + pc1_all[2]\\ntemp[:, 1] = pc2_all[0] + pc2_all[1] + pc2_all[2]\";\n",
       "                var nbb_formatted_code = \"temp = np.zeros((xtest.shape[0], 2))\\ntemp[:, 0] = pc1_all[0] + pc1_all[1] + pc1_all[2]\\ntemp[:, 1] = pc2_all[0] + pc2_all[1] + pc2_all[2]\";\n",
       "                var nbb_cells = Jupyter.notebook.get_cells();\n",
       "                for (var i = 0; i < nbb_cells.length; ++i) {\n",
       "                    if (nbb_cells[i].input_prompt_number == nbb_cell_id) {\n",
       "                        if (nbb_cells[i].get_text() == nbb_unformatted_code) {\n",
       "                             nbb_cells[i].set_text(nbb_formatted_code);\n",
       "                        }\n",
       "                        break;\n",
       "                    }\n",
       "                }\n",
       "            }, 500);\n",
       "            "
      ],
      "text/plain": [
       "<IPython.core.display.Javascript object>"
      ]
     },
     "metadata": {},
     "output_type": "display_data"
    }
   ],
   "source": [
    "temp = np.zeros((xtest.shape[0], 2))\n",
    "temp[:, 0] = pc1_all[0] + pc1_all[1] + pc1_all[2]\n",
    "temp[:, 1] = pc2_all[0] + pc2_all[1] + pc2_all[2]"
   ]
  },
  {
   "cell_type": "code",
   "execution_count": 17,
   "metadata": {},
   "outputs": [
    {
     "name": "stdout",
     "output_type": "stream",
     "text": [
      "0.9649122807017544\n",
      "[[ 58   5]\n",
      " [  1 107]]\n"
     ]
    },
    {
     "data": {
      "application/javascript": [
       "\n",
       "            setTimeout(function() {\n",
       "                var nbb_cell_id = 17;\n",
       "                var nbb_unformatted_code = \"print(m.accuracy_score(ytest_original, np.argmax(temp, axis=1)))\\nprint(m.confusion_matrix(ytest_original, np.argmax(temp, axis=1)))\";\n",
       "                var nbb_formatted_code = \"print(m.accuracy_score(ytest_original, np.argmax(temp, axis=1)))\\nprint(m.confusion_matrix(ytest_original, np.argmax(temp, axis=1)))\";\n",
       "                var nbb_cells = Jupyter.notebook.get_cells();\n",
       "                for (var i = 0; i < nbb_cells.length; ++i) {\n",
       "                    if (nbb_cells[i].input_prompt_number == nbb_cell_id) {\n",
       "                        if (nbb_cells[i].get_text() == nbb_unformatted_code) {\n",
       "                             nbb_cells[i].set_text(nbb_formatted_code);\n",
       "                        }\n",
       "                        break;\n",
       "                    }\n",
       "                }\n",
       "            }, 500);\n",
       "            "
      ],
      "text/plain": [
       "<IPython.core.display.Javascript object>"
      ]
     },
     "metadata": {},
     "output_type": "display_data"
    }
   ],
   "source": [
    "print(m.accuracy_score(ytest_original, np.argmax(temp, axis=1)))\n",
    "print(m.confusion_matrix(ytest_original, np.argmax(temp, axis=1)))"
   ]
  },
  {
   "cell_type": "code",
   "execution_count": null,
   "metadata": {},
   "outputs": [],
   "source": []
  }
 ],
 "metadata": {
  "kernelspec": {
   "display_name": "Python 3",
   "language": "python",
   "name": "python3"
  },
  "language_info": {
   "codemirror_mode": {
    "name": "ipython",
    "version": 3
   },
   "file_extension": ".py",
   "mimetype": "text/x-python",
   "name": "python",
   "nbconvert_exporter": "python",
   "pygments_lexer": "ipython3",
   "version": "3.7.3"
  }
 },
 "nbformat": 4,
 "nbformat_minor": 2
}
