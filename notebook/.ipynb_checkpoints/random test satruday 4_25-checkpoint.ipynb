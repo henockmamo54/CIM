{
 "cells": [
  {
   "cell_type": "code",
   "execution_count": 1,
   "metadata": {},
   "outputs": [
    {
     "data": {
      "application/javascript": [
       "\n",
       "            setTimeout(function() {\n",
       "                var nbb_cell_id = 1;\n",
       "                var nbb_unformatted_code = \"%load_ext nb_black\";\n",
       "                var nbb_formatted_code = \"%load_ext nb_black\";\n",
       "                var nbb_cells = Jupyter.notebook.get_cells();\n",
       "                for (var i = 0; i < nbb_cells.length; ++i) {\n",
       "                    if (nbb_cells[i].input_prompt_number == nbb_cell_id) {\n",
       "                        if (nbb_cells[i].get_text() == nbb_unformatted_code) {\n",
       "                             nbb_cells[i].set_text(nbb_formatted_code);\n",
       "                        }\n",
       "                        break;\n",
       "                    }\n",
       "                }\n",
       "            }, 500);\n",
       "            "
      ],
      "text/plain": [
       "<IPython.core.display.Javascript object>"
      ]
     },
     "metadata": {},
     "output_type": "display_data"
    }
   ],
   "source": [
    "%load_ext nb_black"
   ]
  },
  {
   "cell_type": "code",
   "execution_count": 2,
   "metadata": {},
   "outputs": [
    {
     "data": {
      "application/javascript": [
       "\n",
       "            setTimeout(function() {\n",
       "                var nbb_cell_id = 2;\n",
       "                var nbb_unformatted_code = \"from sklearn import datasets\\nfrom sklearn import metrics as m\\nfrom sklearn.model_selection import train_test_split\\nfrom sklearn.ensemble import RandomForestClassifier\\nfrom sklearn.model_selection import cross_val_score\\nimport numpy as np\\nfrom itertools import combinations\\nfrom sklearn import datasets\\nfrom sklearn import metrics as m\\nfrom sklearn.model_selection import train_test_split\\nfrom sklearn.ensemble import RandomForestClassifier\\nfrom sklearn.model_selection import cross_val_score\\nimport numpy as np\\nimport pandas as pd\\nfrom itertools import combinations\\nfrom sklearn.svm import SVC\\nimport xgboost as xgb\\nfrom thundersvm import SVC as svmgpu\\nfrom sklearn.utils import shuffle\\nimport itertools\\nfrom sklearn.ensemble import VotingClassifier\\nfrom sklearn.preprocessing import LabelEncoder\\nimport random\\n\\nrandomseed = 10\\nnp.random.seed(randomseed)\";\n",
       "                var nbb_formatted_code = \"from sklearn import datasets\\nfrom sklearn import metrics as m\\nfrom sklearn.model_selection import train_test_split\\nfrom sklearn.ensemble import RandomForestClassifier\\nfrom sklearn.model_selection import cross_val_score\\nimport numpy as np\\nfrom itertools import combinations\\nfrom sklearn import datasets\\nfrom sklearn import metrics as m\\nfrom sklearn.model_selection import train_test_split\\nfrom sklearn.ensemble import RandomForestClassifier\\nfrom sklearn.model_selection import cross_val_score\\nimport numpy as np\\nimport pandas as pd\\nfrom itertools import combinations\\nfrom sklearn.svm import SVC\\nimport xgboost as xgb\\nfrom thundersvm import SVC as svmgpu\\nfrom sklearn.utils import shuffle\\nimport itertools\\nfrom sklearn.ensemble import VotingClassifier\\nfrom sklearn.preprocessing import LabelEncoder\\nimport random\\n\\nrandomseed = 10\\nnp.random.seed(randomseed)\";\n",
       "                var nbb_cells = Jupyter.notebook.get_cells();\n",
       "                for (var i = 0; i < nbb_cells.length; ++i) {\n",
       "                    if (nbb_cells[i].input_prompt_number == nbb_cell_id) {\n",
       "                        if (nbb_cells[i].get_text() == nbb_unformatted_code) {\n",
       "                             nbb_cells[i].set_text(nbb_formatted_code);\n",
       "                        }\n",
       "                        break;\n",
       "                    }\n",
       "                }\n",
       "            }, 500);\n",
       "            "
      ],
      "text/plain": [
       "<IPython.core.display.Javascript object>"
      ]
     },
     "metadata": {},
     "output_type": "display_data"
    }
   ],
   "source": [
    "from sklearn import datasets\n",
    "from sklearn import metrics as m\n",
    "from sklearn.model_selection import train_test_split\n",
    "from sklearn.ensemble import RandomForestClassifier\n",
    "from sklearn.model_selection import cross_val_score\n",
    "import numpy as np\n",
    "from itertools import combinations\n",
    "from sklearn import datasets\n",
    "from sklearn import metrics as m\n",
    "from sklearn.model_selection import train_test_split\n",
    "from sklearn.ensemble import RandomForestClassifier\n",
    "from sklearn.model_selection import cross_val_score\n",
    "import numpy as np\n",
    "import pandas as pd\n",
    "from itertools import combinations\n",
    "from sklearn.svm import SVC\n",
    "import xgboost as xgb\n",
    "from thundersvm import SVC as svmgpu\n",
    "from sklearn.utils import shuffle\n",
    "import itertools\n",
    "from sklearn.ensemble import VotingClassifier\n",
    "from sklearn.preprocessing import LabelEncoder\n",
    "import random\n",
    "\n",
    "randomseed = 10\n",
    "np.random.seed(randomseed)"
   ]
  },
  {
   "cell_type": "code",
   "execution_count": 3,
   "metadata": {},
   "outputs": [
    {
     "data": {
      "application/javascript": [
       "\n",
       "            setTimeout(function() {\n",
       "                var nbb_cell_id = 3;\n",
       "                var nbb_unformatted_code = \"def swapcolumns(trainval, testval, coldindexval):\\n    trainval[trainval != coldindexval] = 5\\n    testval[testval != coldindexval] = 5\\n\\n    trainval[trainval == coldindexval] = 0\\n    trainval[trainval == 5] = 1\\n\\n    testval[testval == coldindexval] = 0\\n    testval[testval == 5] = 1\\n\\n    return trainval, testval\";\n",
       "                var nbb_formatted_code = \"def swapcolumns(trainval, testval, coldindexval):\\n    trainval[trainval != coldindexval] = 5\\n    testval[testval != coldindexval] = 5\\n\\n    trainval[trainval == coldindexval] = 0\\n    trainval[trainval == 5] = 1\\n\\n    testval[testval == coldindexval] = 0\\n    testval[testval == 5] = 1\\n\\n    return trainval, testval\";\n",
       "                var nbb_cells = Jupyter.notebook.get_cells();\n",
       "                for (var i = 0; i < nbb_cells.length; ++i) {\n",
       "                    if (nbb_cells[i].input_prompt_number == nbb_cell_id) {\n",
       "                        if (nbb_cells[i].get_text() == nbb_unformatted_code) {\n",
       "                             nbb_cells[i].set_text(nbb_formatted_code);\n",
       "                        }\n",
       "                        break;\n",
       "                    }\n",
       "                }\n",
       "            }, 500);\n",
       "            "
      ],
      "text/plain": [
       "<IPython.core.display.Javascript object>"
      ]
     },
     "metadata": {},
     "output_type": "display_data"
    }
   ],
   "source": [
    "def swapcolumns(trainval, testval, coldindexval):\n",
    "    trainval[trainval != coldindexval] = 5\n",
    "    testval[testval != coldindexval] = 5\n",
    "\n",
    "    trainval[trainval == coldindexval] = 0\n",
    "    trainval[trainval == 5] = 1\n",
    "\n",
    "    testval[testval == coldindexval] = 0\n",
    "    testval[testval == 5] = 1\n",
    "\n",
    "    return trainval, testval"
   ]
  },
  {
   "cell_type": "code",
   "execution_count": 4,
   "metadata": {
    "scrolled": true
   },
   "outputs": [
    {
     "data": {
      "application/javascript": [
       "\n",
       "            setTimeout(function() {\n",
       "                var nbb_cell_id = 4;\n",
       "                var nbb_unformatted_code = \"# data = pd.read_csv(\\\"../dataset/seeds_dataset.txt\\\", sep=\\\"\\\\t\\\", header=None)\\n# data = shuffle(data)\\n\\n# le = LabelEncoder()\\n# data.iloc[:, -1] = le.fit_transform(data.iloc[:, -1])\\n# x = data.iloc[:, :-1]\\n# y = data.iloc[:, -1]\\n# print(np.unique(y))\";\n",
       "                var nbb_formatted_code = \"# data = pd.read_csv(\\\"../dataset/seeds_dataset.txt\\\", sep=\\\"\\\\t\\\", header=None)\\n# data = shuffle(data)\\n\\n# le = LabelEncoder()\\n# data.iloc[:, -1] = le.fit_transform(data.iloc[:, -1])\\n# x = data.iloc[:, :-1]\\n# y = data.iloc[:, -1]\\n# print(np.unique(y))\";\n",
       "                var nbb_cells = Jupyter.notebook.get_cells();\n",
       "                for (var i = 0; i < nbb_cells.length; ++i) {\n",
       "                    if (nbb_cells[i].input_prompt_number == nbb_cell_id) {\n",
       "                        if (nbb_cells[i].get_text() == nbb_unformatted_code) {\n",
       "                             nbb_cells[i].set_text(nbb_formatted_code);\n",
       "                        }\n",
       "                        break;\n",
       "                    }\n",
       "                }\n",
       "            }, 500);\n",
       "            "
      ],
      "text/plain": [
       "<IPython.core.display.Javascript object>"
      ]
     },
     "metadata": {},
     "output_type": "display_data"
    }
   ],
   "source": [
    "# data = pd.read_csv(\"../dataset/seeds_dataset.txt\", sep=\"\\t\", header=None)\n",
    "# data = shuffle(data)\n",
    "\n",
    "# le = LabelEncoder()\n",
    "# data.iloc[:, -1] = le.fit_transform(data.iloc[:, -1])\n",
    "# x = data.iloc[:, :-1]\n",
    "# y = data.iloc[:, -1]\n",
    "# print(np.unique(y))"
   ]
  },
  {
   "cell_type": "code",
   "execution_count": 5,
   "metadata": {},
   "outputs": [
    {
     "data": {
      "application/javascript": [
       "\n",
       "            setTimeout(function() {\n",
       "                var nbb_cell_id = 5;\n",
       "                var nbb_unformatted_code = \"# data = datasets.load_iris()\\n# x = data.data\\n# y = data.target.ravel()\\n# print(np.unique(y))\";\n",
       "                var nbb_formatted_code = \"# data = datasets.load_iris()\\n# x = data.data\\n# y = data.target.ravel()\\n# print(np.unique(y))\";\n",
       "                var nbb_cells = Jupyter.notebook.get_cells();\n",
       "                for (var i = 0; i < nbb_cells.length; ++i) {\n",
       "                    if (nbb_cells[i].input_prompt_number == nbb_cell_id) {\n",
       "                        if (nbb_cells[i].get_text() == nbb_unformatted_code) {\n",
       "                             nbb_cells[i].set_text(nbb_formatted_code);\n",
       "                        }\n",
       "                        break;\n",
       "                    }\n",
       "                }\n",
       "            }, 500);\n",
       "            "
      ],
      "text/plain": [
       "<IPython.core.display.Javascript object>"
      ]
     },
     "metadata": {},
     "output_type": "display_data"
    }
   ],
   "source": [
    "# data = datasets.load_iris()\n",
    "# x = data.data\n",
    "# y = data.target.ravel()\n",
    "# print(np.unique(y))"
   ]
  },
  {
   "cell_type": "code",
   "execution_count": 6,
   "metadata": {},
   "outputs": [
    {
     "data": {
      "application/javascript": [
       "\n",
       "            setTimeout(function() {\n",
       "                var nbb_cell_id = 6;\n",
       "                var nbb_unformatted_code = \"# xtrain, xtest, ytrain_original, ytest_original = train_test_split(\\n#     x, y, test_size=0.3, random_state=10\\n# )\";\n",
       "                var nbb_formatted_code = \"# xtrain, xtest, ytrain_original, ytest_original = train_test_split(\\n#     x, y, test_size=0.3, random_state=10\\n# )\";\n",
       "                var nbb_cells = Jupyter.notebook.get_cells();\n",
       "                for (var i = 0; i < nbb_cells.length; ++i) {\n",
       "                    if (nbb_cells[i].input_prompt_number == nbb_cell_id) {\n",
       "                        if (nbb_cells[i].get_text() == nbb_unformatted_code) {\n",
       "                             nbb_cells[i].set_text(nbb_formatted_code);\n",
       "                        }\n",
       "                        break;\n",
       "                    }\n",
       "                }\n",
       "            }, 500);\n",
       "            "
      ],
      "text/plain": [
       "<IPython.core.display.Javascript object>"
      ]
     },
     "metadata": {},
     "output_type": "display_data"
    }
   ],
   "source": [
    "# xtrain, xtest, ytrain_original, ytest_original = train_test_split(\n",
    "#     x, y, test_size=0.3, random_state=10\n",
    "# )"
   ]
  },
  {
   "cell_type": "code",
   "execution_count": 7,
   "metadata": {},
   "outputs": [
    {
     "data": {
      "application/javascript": [
       "\n",
       "            setTimeout(function() {\n",
       "                var nbb_cell_id = 7;\n",
       "                var nbb_unformatted_code = \"randomseed = 10\\nnp.random.seed(randomseed)\\n\\nxtest = np.array(pd.read_csv(\\\"../dataset/xtest.txt\\\"))\\nxtrain = np.array(pd.read_csv(\\\"../dataset/xtrain.txt\\\"))\\nytest_original = np.array(pd.read_csv(\\\"../dataset/ytest.txt\\\")).ravel()\\nytrain_original = np.array(pd.read_csv(\\\"../dataset/ytrain.txt\\\")).ravel()\\n\\nytrain = ytrain_original.copy()\\nytest = ytest_original.copy()\";\n",
       "                var nbb_formatted_code = \"randomseed = 10\\nnp.random.seed(randomseed)\\n\\nxtest = np.array(pd.read_csv(\\\"../dataset/xtest.txt\\\"))\\nxtrain = np.array(pd.read_csv(\\\"../dataset/xtrain.txt\\\"))\\nytest_original = np.array(pd.read_csv(\\\"../dataset/ytest.txt\\\")).ravel()\\nytrain_original = np.array(pd.read_csv(\\\"../dataset/ytrain.txt\\\")).ravel()\\n\\nytrain = ytrain_original.copy()\\nytest = ytest_original.copy()\";\n",
       "                var nbb_cells = Jupyter.notebook.get_cells();\n",
       "                for (var i = 0; i < nbb_cells.length; ++i) {\n",
       "                    if (nbb_cells[i].input_prompt_number == nbb_cell_id) {\n",
       "                        if (nbb_cells[i].get_text() == nbb_unformatted_code) {\n",
       "                             nbb_cells[i].set_text(nbb_formatted_code);\n",
       "                        }\n",
       "                        break;\n",
       "                    }\n",
       "                }\n",
       "            }, 500);\n",
       "            "
      ],
      "text/plain": [
       "<IPython.core.display.Javascript object>"
      ]
     },
     "metadata": {},
     "output_type": "display_data"
    }
   ],
   "source": [
    "randomseed = 10\n",
    "np.random.seed(randomseed)\n",
    "\n",
    "xtest = np.array(pd.read_csv(\"../dataset/xtest.txt\"))\n",
    "xtrain = np.array(pd.read_csv(\"../dataset/xtrain.txt\"))\n",
    "ytest_original = np.array(pd.read_csv(\"../dataset/ytest.txt\")).ravel()\n",
    "ytrain_original = np.array(pd.read_csv(\"../dataset/ytrain.txt\")).ravel()\n",
    "\n",
    "ytrain = ytrain_original.copy()\n",
    "ytest = ytest_original.copy()"
   ]
  },
  {
   "cell_type": "code",
   "execution_count": null,
   "metadata": {},
   "outputs": [],
   "source": []
  },
  {
   "cell_type": "code",
   "execution_count": 8,
   "metadata": {
    "scrolled": true
   },
   "outputs": [
    {
     "name": "stdout",
     "output_type": "stream",
     "text": [
      "0.735\n"
     ]
    },
    {
     "data": {
      "application/javascript": [
       "\n",
       "            setTimeout(function() {\n",
       "                var nbb_cell_id = 8;\n",
       "                var nbb_unformatted_code = \"xgbmodel = xgb.XGBClassifier(random_state=randomseed)\\nxgbmodel.fit(xtrain, ytrain_original)\\nprint(m.accuracy_score(ytest_original, xgbmodel.predict(xtest)))\";\n",
       "                var nbb_formatted_code = \"xgbmodel = xgb.XGBClassifier(random_state=randomseed)\\nxgbmodel.fit(xtrain, ytrain_original)\\nprint(m.accuracy_score(ytest_original, xgbmodel.predict(xtest)))\";\n",
       "                var nbb_cells = Jupyter.notebook.get_cells();\n",
       "                for (var i = 0; i < nbb_cells.length; ++i) {\n",
       "                    if (nbb_cells[i].input_prompt_number == nbb_cell_id) {\n",
       "                        if (nbb_cells[i].get_text() == nbb_unformatted_code) {\n",
       "                             nbb_cells[i].set_text(nbb_formatted_code);\n",
       "                        }\n",
       "                        break;\n",
       "                    }\n",
       "                }\n",
       "            }, 500);\n",
       "            "
      ],
      "text/plain": [
       "<IPython.core.display.Javascript object>"
      ]
     },
     "metadata": {},
     "output_type": "display_data"
    }
   ],
   "source": [
    "xgbmodel = xgb.XGBClassifier(random_state=randomseed)\n",
    "xgbmodel.fit(xtrain, ytrain_original)\n",
    "print(m.accuracy_score(ytest_original, xgbmodel.predict(xtest)))"
   ]
  },
  {
   "cell_type": "code",
   "execution_count": 9,
   "metadata": {},
   "outputs": [
    {
     "data": {
      "application/javascript": [
       "\n",
       "            setTimeout(function() {\n",
       "                var nbb_cell_id = 9;\n",
       "                var nbb_unformatted_code = \"# cvscore = cross_val_score(xgbmodel, x, y, cv=10)\\n# print(\\\"mean= \\\", np.mean(cvscore), \\\", std= \\\", np.std(cvscore))\";\n",
       "                var nbb_formatted_code = \"# cvscore = cross_val_score(xgbmodel, x, y, cv=10)\\n# print(\\\"mean= \\\", np.mean(cvscore), \\\", std= \\\", np.std(cvscore))\";\n",
       "                var nbb_cells = Jupyter.notebook.get_cells();\n",
       "                for (var i = 0; i < nbb_cells.length; ++i) {\n",
       "                    if (nbb_cells[i].input_prompt_number == nbb_cell_id) {\n",
       "                        if (nbb_cells[i].get_text() == nbb_unformatted_code) {\n",
       "                             nbb_cells[i].set_text(nbb_formatted_code);\n",
       "                        }\n",
       "                        break;\n",
       "                    }\n",
       "                }\n",
       "            }, 500);\n",
       "            "
      ],
      "text/plain": [
       "<IPython.core.display.Javascript object>"
      ]
     },
     "metadata": {},
     "output_type": "display_data"
    }
   ],
   "source": [
    "# cvscore = cross_val_score(xgbmodel, x, y, cv=10)\n",
    "# print(\"mean= \", np.mean(cvscore), \", std= \", np.std(cvscore))"
   ]
  },
  {
   "cell_type": "code",
   "execution_count": 10,
   "metadata": {},
   "outputs": [
    {
     "data": {
      "application/javascript": [
       "\n",
       "            setTimeout(function() {\n",
       "                var nbb_cell_id = 10;\n",
       "                var nbb_unformatted_code = \"_mainacc = []\";\n",
       "                var nbb_formatted_code = \"_mainacc = []\";\n",
       "                var nbb_cells = Jupyter.notebook.get_cells();\n",
       "                for (var i = 0; i < nbb_cells.length; ++i) {\n",
       "                    if (nbb_cells[i].input_prompt_number == nbb_cell_id) {\n",
       "                        if (nbb_cells[i].get_text() == nbb_unformatted_code) {\n",
       "                             nbb_cells[i].set_text(nbb_formatted_code);\n",
       "                        }\n",
       "                        break;\n",
       "                    }\n",
       "                }\n",
       "            }, 500);\n",
       "            "
      ],
      "text/plain": [
       "<IPython.core.display.Javascript object>"
      ]
     },
     "metadata": {},
     "output_type": "display_data"
    }
   ],
   "source": [
    "_mainacc = []"
   ]
  },
  {
   "cell_type": "code",
   "execution_count": 11,
   "metadata": {},
   "outputs": [
    {
     "data": {
      "application/javascript": [
       "\n",
       "            setTimeout(function() {\n",
       "                var nbb_cell_id = 11;\n",
       "                var nbb_unformatted_code = \"import itertools\\n\\ncomb = []\\ncomb = list(itertools.combinations(range(12), 2))\\nfor i in range(12):\\n    comb.append([i])\";\n",
       "                var nbb_formatted_code = \"import itertools\\n\\ncomb = []\\ncomb = list(itertools.combinations(range(12), 2))\\nfor i in range(12):\\n    comb.append([i])\";\n",
       "                var nbb_cells = Jupyter.notebook.get_cells();\n",
       "                for (var i = 0; i < nbb_cells.length; ++i) {\n",
       "                    if (nbb_cells[i].input_prompt_number == nbb_cell_id) {\n",
       "                        if (nbb_cells[i].get_text() == nbb_unformatted_code) {\n",
       "                             nbb_cells[i].set_text(nbb_formatted_code);\n",
       "                        }\n",
       "                        break;\n",
       "                    }\n",
       "                }\n",
       "            }, 500);\n",
       "            "
      ],
      "text/plain": [
       "<IPython.core.display.Javascript object>"
      ]
     },
     "metadata": {},
     "output_type": "display_data"
    }
   ],
   "source": [
    "import itertools\n",
    "\n",
    "comb = []\n",
    "comb = list(itertools.combinations(range(12), 2))\n",
    "for i in range(12):\n",
    "    comb.append([i])"
   ]
  },
  {
   "cell_type": "code",
   "execution_count": 12,
   "metadata": {
    "scrolled": true
   },
   "outputs": [
    {
     "name": "stdout",
     "output_type": "stream",
     "text": [
      "(0, 1)\n",
      "0.7283333333333334\n",
      "(0, 2)\n",
      "0.7066666666666667\n",
      "(0, 3)\n",
      "0.7216666666666667\n",
      "(0, 4)\n",
      "0.7166666666666667\n",
      "(0, 5)\n",
      "0.69\n",
      "(0, 6)\n",
      "0.7166666666666667\n",
      "(0, 7)\n",
      "0.705\n",
      "(0, 8)\n",
      "0.7033333333333334\n",
      "(0, 9)\n",
      "0.705\n",
      "(0, 10)\n",
      "0.7233333333333334\n",
      "(0, 11)\n",
      "0.7216666666666667\n",
      "(1, 2)\n",
      "0.6566666666666666\n",
      "(1, 3)\n",
      "0.665\n",
      "(1, 4)\n",
      "0.6566666666666666\n",
      "(1, 5)\n",
      "0.67\n",
      "(1, 6)\n",
      "0.665\n",
      "(1, 7)\n",
      "0.6683333333333333\n",
      "(1, 8)\n",
      "0.6516666666666666\n",
      "(1, 9)\n",
      "0.645\n",
      "(1, 10)\n",
      "0.69\n",
      "(1, 11)\n",
      "0.6616666666666666\n",
      "(2, 3)\n",
      "0.5066666666666667\n",
      "(2, 4)\n",
      "0.5216666666666666\n",
      "(2, 5)\n",
      "0.4683333333333333\n",
      "(2, 6)\n",
      "0.47833333333333333\n",
      "(2, 7)\n",
      "0.4816666666666667\n",
      "(2, 8)\n",
      "0.48833333333333334\n",
      "(2, 9)\n",
      "0.46166666666666667\n",
      "(2, 10)\n",
      "0.49\n",
      "(2, 11)\n",
      "0.5183333333333333\n",
      "(3, 4)\n",
      "0.5433333333333333\n",
      "(3, 5)\n",
      "0.45666666666666667\n",
      "(3, 6)\n",
      "0.48\n",
      "(3, 7)\n",
      "0.4666666666666667\n",
      "(3, 8)\n",
      "0.47333333333333333\n",
      "(3, 9)\n",
      "0.4716666666666667\n",
      "(3, 10)\n",
      "0.49333333333333335\n",
      "(3, 11)\n",
      "0.48\n",
      "(4, 5)\n",
      "0.525\n",
      "(4, 6)\n",
      "0.5433333333333333\n",
      "(4, 7)\n",
      "0.5333333333333333\n",
      "(4, 8)\n",
      "0.5366666666666666\n",
      "(4, 9)\n",
      "0.5416666666666666\n",
      "(4, 10)\n",
      "0.5333333333333333\n",
      "(4, 11)\n",
      "0.5383333333333333\n",
      "(5, 6)\n",
      "0.44\n",
      "(5, 7)\n",
      "0.42333333333333334\n",
      "(5, 8)\n",
      "0.44333333333333336\n",
      "(5, 9)\n",
      "0.41\n",
      "(5, 10)\n",
      "0.45\n",
      "(5, 11)\n",
      "0.4716666666666667\n",
      "(6, 7)\n",
      "0.42333333333333334\n",
      "(6, 8)\n",
      "0.43333333333333335\n",
      "(6, 9)\n",
      "0.42\n",
      "(6, 10)\n",
      "0.46166666666666667\n",
      "(6, 11)\n",
      "0.43833333333333335\n",
      "(7, 8)\n",
      "0.43\n",
      "(7, 9)\n",
      "0.41833333333333333\n",
      "(7, 10)\n",
      "0.4666666666666667\n",
      "(7, 11)\n",
      "0.46166666666666667\n",
      "(8, 9)\n",
      "0.4\n",
      "(8, 10)\n",
      "0.4633333333333333\n",
      "(8, 11)\n",
      "0.41833333333333333\n",
      "(9, 10)\n",
      "0.46166666666666667\n",
      "(9, 11)\n",
      "0.395\n",
      "(10, 11)\n",
      "0.47\n",
      "[0]\n",
      "0.705\n",
      "[1]\n",
      "0.645\n",
      "[2]\n",
      "0.47833333333333333\n",
      "[3]\n",
      "0.475\n",
      "[4]\n",
      "0.5383333333333333\n",
      "[5]\n",
      "0.41333333333333333\n",
      "[6]\n",
      "0.42333333333333334\n",
      "[7]\n",
      "0.4066666666666667\n",
      "[8]\n",
      "0.40166666666666667\n",
      "[9]\n",
      "0.33666666666666667\n",
      "[10]\n",
      "0.46166666666666667\n",
      "[11]\n",
      "0.4216666666666667\n"
     ]
    },
    {
     "data": {
      "application/javascript": [
       "\n",
       "            setTimeout(function() {\n",
       "                var nbb_cell_id = 12;\n",
       "                var nbb_unformatted_code = \"for i in comb:\\n    print(i)\\n    xgbmodel = xgb.XGBClassifier(random_state=randomseed)\\n    xgbmodel.fit(xtrain[:, i], ytrain_original)\\n    print(m.accuracy_score(ytest_original, xgbmodel.predict(xtest[:, i])))\";\n",
       "                var nbb_formatted_code = \"for i in comb:\\n    print(i)\\n    xgbmodel = xgb.XGBClassifier(random_state=randomseed)\\n    xgbmodel.fit(xtrain[:, i], ytrain_original)\\n    print(m.accuracy_score(ytest_original, xgbmodel.predict(xtest[:, i])))\";\n",
       "                var nbb_cells = Jupyter.notebook.get_cells();\n",
       "                for (var i = 0; i < nbb_cells.length; ++i) {\n",
       "                    if (nbb_cells[i].input_prompt_number == nbb_cell_id) {\n",
       "                        if (nbb_cells[i].get_text() == nbb_unformatted_code) {\n",
       "                             nbb_cells[i].set_text(nbb_formatted_code);\n",
       "                        }\n",
       "                        break;\n",
       "                    }\n",
       "                }\n",
       "            }, 500);\n",
       "            "
      ],
      "text/plain": [
       "<IPython.core.display.Javascript object>"
      ]
     },
     "metadata": {},
     "output_type": "display_data"
    }
   ],
   "source": [
    "for i in comb:\n",
    "    print(i)\n",
    "    xgbmodel = xgb.XGBClassifier(random_state=randomseed)\n",
    "    xgbmodel.fit(xtrain[:, i], ytrain_original)\n",
    "    print(m.accuracy_score(ytest_original, xgbmodel.predict(xtest[:, i])))"
   ]
  },
  {
   "cell_type": "code",
   "execution_count": 13,
   "metadata": {
    "scrolled": true
   },
   "outputs": [
    {
     "name": "stdout",
     "output_type": "stream",
     "text": [
      "0 (0, 1)\n",
      "0.6886235883508967\n",
      "1 (0, 2)\n",
      "0.6313735195592334\n",
      "2 (0, 3)\n",
      "0.6402604865234145\n",
      "3 (0, 4)\n",
      "0.6616679158479464\n",
      "4 (0, 5)\n",
      "0.6733216442334276\n",
      "5 (0, 6)\n",
      "0.7047011583837643\n",
      "6 (0, 7)\n",
      "0.697213982512061\n",
      "7 (0, 8)\n",
      "0.6943573271791516\n",
      "8 (0, 9)\n",
      "0.6989174115284332\n",
      "9 (0, 10)\n",
      "0.7132014888060234\n",
      "10 (0, 11)\n",
      "0.6796761621535201\n",
      "11 (1, 2)\n",
      "0.6105289879138645\n",
      "12 (1, 3)\n",
      "0.6012413065553163\n",
      "13 (1, 4)\n",
      "0.6013550028679827\n",
      "14 (1, 5)\n",
      "0.636540845560708\n",
      "15 (1, 6)\n",
      "0.6355443729304253\n",
      "16 (1, 7)\n",
      "0.6419255519649181\n",
      "17 (1, 8)\n",
      "0.6225632248518097\n",
      "18 (1, 9)\n",
      "0.6200340904782022\n",
      "19 (1, 10)\n",
      "0.6694820187202288\n",
      "20 (1, 11)\n",
      "0.6038824296322202\n",
      "21 (2, 3)\n",
      "0.34698580177932553\n",
      "22 (2, 4)\n",
      "0.4204771725303678\n",
      "23 (2, 5)\n",
      "0.3561812118632041\n",
      "24 (2, 6)\n",
      "0.40545004512951466\n",
      "25 (2, 7)\n",
      "0.38989971578794735\n",
      "26 (2, 8)\n",
      "0.3915972935523478\n",
      "27 (2, 9)\n",
      "0.3804126834595484\n",
      "28 (2, 10)\n",
      "0.36833121886502673\n",
      "29 (2, 11)\n",
      "0.3298778591622963\n",
      "30 (3, 4)\n",
      "0.40095842700772444\n",
      "31 (3, 5)\n",
      "0.36906773716678937\n",
      "32 (3, 6)\n",
      "0.3666148019800771\n",
      "33 (3, 7)\n",
      "0.3362799071487431\n",
      "34 (3, 8)\n",
      "0.3822095182938126\n",
      "35 (3, 9)\n",
      "0.37581480626033226\n",
      "36 (3, 10)\n",
      "0.37298107134811676\n",
      "37 (3, 11)\n",
      "0.3896878336938939\n",
      "38 (4, 5)\n",
      "0.3844190165407489\n",
      "39 (4, 6)\n",
      "0.38949799537198354\n",
      "40 (4, 7)\n",
      "0.4114549870135597\n",
      "41 (4, 8)\n",
      "0.3976256151256151\n",
      "42 (4, 9)\n",
      "0.4151783907049586\n",
      "43 (4, 10)\n",
      "0.396481054771202\n",
      "44 (4, 11)\n",
      "0.3895501909741536\n",
      "45 (5, 6)\n",
      "0.35195888875426157\n",
      "46 (5, 7)\n",
      "0.33232383180260533\n",
      "47 (5, 8)\n",
      "0.34465942167363967\n",
      "48 (5, 9)\n",
      "0.32561893763963357\n",
      "49 (5, 10)\n",
      "0.3464203011001041\n",
      "50 (5, 11)\n",
      "0.36817750695821244\n",
      "51 (6, 7)\n",
      "0.41934651972527204\n",
      "52 (6, 8)\n",
      "0.3938715737130832\n",
      "53 (6, 9)\n",
      "0.4059036272736943\n",
      "54 (6, 10)\n",
      "0.368154447626373\n",
      "55 (6, 11)\n"
     ]
    },
    {
     "name": "stderr",
     "output_type": "stream",
     "text": [
      "C:\\ProgramData\\Anaconda3\\lib\\site-packages\\ipykernel_launcher.py:24: RuntimeWarning: invalid value encountered in true_divide\n"
     ]
    },
    {
     "name": "stdout",
     "output_type": "stream",
     "text": [
      "0.33933901798468935\n",
      "56 (7, 8)\n",
      "0.4176348760379637\n",
      "57 (7, 9)\n",
      "0.38559261723440824\n",
      "58 (7, 10)\n",
      "0.413813038729049\n",
      "59 (7, 11)\n",
      "0.37742655267667496\n",
      "60 (8, 9)\n",
      "0.38906564893767637\n",
      "61 (8, 10)\n",
      "0.43519118713548965\n",
      "62 (8, 11)\n",
      "0.34778077550816106\n",
      "63 (9, 10)\n",
      "0.368154447626373\n",
      "64 (9, 11)\n"
     ]
    },
    {
     "name": "stderr",
     "output_type": "stream",
     "text": [
      "C:\\ProgramData\\Anaconda3\\lib\\site-packages\\ipykernel_launcher.py:24: RuntimeWarning: invalid value encountered in true_divide\n"
     ]
    },
    {
     "name": "stdout",
     "output_type": "stream",
     "text": [
      "0.3148908418329164\n",
      "65 (10, 11)\n"
     ]
    },
    {
     "name": "stderr",
     "output_type": "stream",
     "text": [
      "C:\\ProgramData\\Anaconda3\\lib\\site-packages\\ipykernel_launcher.py:24: RuntimeWarning: invalid value encountered in true_divide\n"
     ]
    },
    {
     "name": "stdout",
     "output_type": "stream",
     "text": [
      "0.3618919734166253\n",
      "66 [0]\n"
     ]
    },
    {
     "name": "stderr",
     "output_type": "stream",
     "text": [
      "C:\\ProgramData\\Anaconda3\\lib\\site-packages\\ipykernel_launcher.py:24: RuntimeWarning: invalid value encountered in true_divide\n"
     ]
    },
    {
     "name": "stdout",
     "output_type": "stream",
     "text": [
      "0.6975227299329834\n",
      "67 [1]\n",
      "0.6083113395967547\n",
      "68 [2]\n",
      "0.36367063276237954\n",
      "69 [3]\n",
      "0.36289999926184335\n",
      "70 [4]\n",
      "0.4081516217710248\n",
      "71 [5]\n",
      "0.32618271758988654\n",
      "72 [6]\n",
      "0.4130283110342931\n",
      "73 [7]\n",
      "0.3598439074433135\n",
      "74 [8]\n",
      "0.3965154312913492\n",
      "75 [9]\n",
      "0.23045692396922818\n",
      "76 [10]\n"
     ]
    },
    {
     "name": "stderr",
     "output_type": "stream",
     "text": [
      "C:\\ProgramData\\Anaconda3\\lib\\site-packages\\ipykernel_launcher.py:24: RuntimeWarning: invalid value encountered in true_divide\n"
     ]
    },
    {
     "name": "stdout",
     "output_type": "stream",
     "text": [
      "0.368154447626373\n",
      "77 [11]\n"
     ]
    },
    {
     "name": "stderr",
     "output_type": "stream",
     "text": [
      "C:\\ProgramData\\Anaconda3\\lib\\site-packages\\ipykernel_launcher.py:24: RuntimeWarning: invalid value encountered in true_divide\n"
     ]
    },
    {
     "name": "stdout",
     "output_type": "stream",
     "text": [
      "0.3282719075490798\n"
     ]
    },
    {
     "name": "stderr",
     "output_type": "stream",
     "text": [
      "C:\\ProgramData\\Anaconda3\\lib\\site-packages\\ipykernel_launcher.py:24: RuntimeWarning: invalid value encountered in true_divide\n"
     ]
    },
    {
     "data": {
      "application/javascript": [
       "\n",
       "            setTimeout(function() {\n",
       "                var nbb_cell_id = 13;\n",
       "                var nbb_unformatted_code = \"clf = []\\nacc = []\\nfinalacc = []\\nypredproba_all = []\\nypredconfprob_all = []\\n\\nfor i in range(len(comb)):\\n\\n    print(i, comb[i])\\n\\n    rf = RandomForestClassifier(random_state=randomseed, n_estimators=50)\\n    rf.fit(xtrain[:, comb[i]], ytrain)\\n    rfpred = rf.predict(xtest[:, comb[i]])\\n    print(m.f1_score(ytest, rfpred, average=\\\"weighted\\\"))\\n\\n    clf.append(rf)\\n    acc.append(m.f1_score(ytest, rfpred, average=\\\"weighted\\\"))\\n    ypredproba_all.append(rf.predict_proba(xtest[:, comb[i]]))\\n\\n    confmat = m.confusion_matrix(ytest, rfpred)\\n    confsumh = np.sum(confmat, axis=0)\\n    propconfmat = confmat.copy()\\n    for i in range(propconfmat.shape[0]):\\n        propconfmat[:, i] = 100 * propconfmat[:, i] / confsumh[i]\\n    ypredconfprob_all.append(propconfmat / 100)\";\n",
       "                var nbb_formatted_code = \"clf = []\\nacc = []\\nfinalacc = []\\nypredproba_all = []\\nypredconfprob_all = []\\n\\nfor i in range(len(comb)):\\n\\n    print(i, comb[i])\\n\\n    rf = RandomForestClassifier(random_state=randomseed, n_estimators=50)\\n    rf.fit(xtrain[:, comb[i]], ytrain)\\n    rfpred = rf.predict(xtest[:, comb[i]])\\n    print(m.f1_score(ytest, rfpred, average=\\\"weighted\\\"))\\n\\n    clf.append(rf)\\n    acc.append(m.f1_score(ytest, rfpred, average=\\\"weighted\\\"))\\n    ypredproba_all.append(rf.predict_proba(xtest[:, comb[i]]))\\n\\n    confmat = m.confusion_matrix(ytest, rfpred)\\n    confsumh = np.sum(confmat, axis=0)\\n    propconfmat = confmat.copy()\\n    for i in range(propconfmat.shape[0]):\\n        propconfmat[:, i] = 100 * propconfmat[:, i] / confsumh[i]\\n    ypredconfprob_all.append(propconfmat / 100)\";\n",
       "                var nbb_cells = Jupyter.notebook.get_cells();\n",
       "                for (var i = 0; i < nbb_cells.length; ++i) {\n",
       "                    if (nbb_cells[i].input_prompt_number == nbb_cell_id) {\n",
       "                        if (nbb_cells[i].get_text() == nbb_unformatted_code) {\n",
       "                             nbb_cells[i].set_text(nbb_formatted_code);\n",
       "                        }\n",
       "                        break;\n",
       "                    }\n",
       "                }\n",
       "            }, 500);\n",
       "            "
      ],
      "text/plain": [
       "<IPython.core.display.Javascript object>"
      ]
     },
     "metadata": {},
     "output_type": "display_data"
    }
   ],
   "source": [
    "clf = []\n",
    "acc = []\n",
    "finalacc = []\n",
    "ypredproba_all = []\n",
    "ypredconfprob_all = []\n",
    "\n",
    "for i in range(len(comb)):\n",
    "\n",
    "    print(i, comb[i])\n",
    "\n",
    "    rf = RandomForestClassifier(random_state=randomseed, n_estimators=50)\n",
    "    rf.fit(xtrain[:, comb[i]], ytrain)\n",
    "    rfpred = rf.predict(xtest[:, comb[i]])\n",
    "    print(m.f1_score(ytest, rfpred, average=\"weighted\"))\n",
    "\n",
    "    clf.append(rf)\n",
    "    acc.append(m.f1_score(ytest, rfpred, average=\"weighted\"))\n",
    "    ypredproba_all.append(rf.predict_proba(xtest[:, comb[i]]))\n",
    "\n",
    "    confmat = m.confusion_matrix(ytest, rfpred)\n",
    "    confsumh = np.sum(confmat, axis=0)\n",
    "    propconfmat = confmat.copy()\n",
    "    for i in range(propconfmat.shape[0]):\n",
    "        propconfmat[:, i] = 100 * propconfmat[:, i] / confsumh[i]\n",
    "    ypredconfprob_all.append(propconfmat / 100)\n"
   ]
  },
  {
   "cell_type": "code",
   "execution_count": 14,
   "metadata": {
    "scrolled": true
   },
   "outputs": [
    {
     "name": "stdout",
     "output_type": "stream",
     "text": [
      "0 (0, 1)\n",
      "0.7321486953505886\n",
      "1 (0, 2)\n",
      "0.6956769822269929\n",
      "2 (0, 3)\n",
      "0.7118262112357594\n",
      "3 (0, 4)\n",
      "0.714455459674538\n",
      "4 (0, 5)\n",
      "0.6951104692758459\n",
      "5 (0, 6)\n",
      "0.7069447356260885\n",
      "6 (0, 7)\n",
      "0.6985877980282841\n",
      "7 (0, 8)\n",
      "0.70178654241589\n",
      "8 (0, 9)\n",
      "0.6998859576205683\n",
      "9 (0, 10)\n",
      "0.7101835146078416\n",
      "10 (0, 11)\n",
      "0.7170825361089322\n",
      "11 (1, 2)\n",
      "0.6568151019377197\n",
      "12 (1, 3)\n",
      "0.6526364321356497\n",
      "13 (1, 4)\n",
      "0.6565594662409228\n",
      "14 (1, 5)\n",
      "0.6674850609734453\n",
      "15 (1, 6)\n",
      "0.6549625667738781\n",
      "16 (1, 7)\n",
      "0.6691577360912713\n",
      "17 (1, 8)\n",
      "0.6504695964789862\n",
      "18 (1, 9)\n",
      "0.6421341514935393\n",
      "19 (1, 10)\n",
      "0.6734144672225356\n",
      "20 (1, 11)\n",
      "0.6582948764912254\n",
      "21 (2, 3)\n",
      "0.4737608567853227\n",
      "22 (2, 4)\n",
      "0.5063547091933278\n",
      "23 (2, 5)\n",
      "0.45972090906670343\n",
      "24 (2, 6)\n",
      "0.457598344965225\n",
      "25 (2, 7)\n",
      "0.4552077489213662\n",
      "26 (2, 8)\n",
      "0.44746869530504463\n",
      "27 (2, 9)\n",
      "0.40320651737904484\n",
      "28 (2, 10)\n",
      "0.44870544197276874\n",
      "29 (2, 11)\n",
      "0.5024175025071128\n",
      "30 (3, 4)\n",
      "0.5229797597324697\n",
      "31 (3, 5)\n",
      "0.4525514966865677\n",
      "32 (3, 6)\n",
      "0.4577302876295037\n",
      "33 (3, 7)\n",
      "0.42754982248965584\n",
      "34 (3, 8)\n",
      "0.4665129538483482\n",
      "35 (3, 9)\n",
      "0.45875139711043555\n",
      "36 (3, 10)\n",
      "0.48621437894245995\n",
      "37 (3, 11)\n",
      "0.48895864535674965\n",
      "38 (4, 5)\n",
      "0.5214543142392956\n",
      "39 (4, 6)\n",
      "0.529719368829388\n",
      "40 (4, 7)\n",
      "0.530110439855432\n",
      "41 (4, 8)\n",
      "0.5253140917598834\n",
      "42 (4, 9)\n",
      "0.5184476040767925\n",
      "43 (4, 10)\n",
      "0.5233830413170442\n",
      "44 (4, 11)\n",
      "0.5268674573768221\n",
      "45 (5, 6)\n",
      "0.4439531822631134\n",
      "46 (5, 7)\n",
      "0.4254345260342035\n",
      "47 (5, 8)\n",
      "0.4252413192605928\n",
      "48 (5, 9)\n",
      "0.39480266554212157\n",
      "49 (5, 10)\n",
      "0.46095851255666315\n",
      "50 (5, 11)\n",
      "0.47176172571009944\n",
      "51 (6, 7)\n",
      "0.4140211234745765\n",
      "52 (6, 8)\n",
      "0.39675095369023805\n",
      "53 (6, 9)\n",
      "0.4059036272736943\n",
      "54 (6, 10)\n",
      "0.368154447626373\n",
      "55 (6, 11)\n"
     ]
    },
    {
     "name": "stderr",
     "output_type": "stream",
     "text": [
      "C:\\ProgramData\\Anaconda3\\lib\\site-packages\\ipykernel_launcher.py:18: RuntimeWarning: invalid value encountered in true_divide\n"
     ]
    },
    {
     "name": "stdout",
     "output_type": "stream",
     "text": [
      "0.45817890734214\n",
      "56 (7, 8)\n",
      "0.4053012960823497\n",
      "57 (7, 9)\n",
      "0.3721704492815137\n",
      "58 (7, 10)\n",
      "0.413813038729049\n",
      "59 (7, 11)\n",
      "0.46478593864730355\n",
      "60 (8, 9)\n",
      "0.3953352700489264\n",
      "61 (8, 10)\n",
      "0.43519118713548965\n",
      "62 (8, 11)\n",
      "0.44125051959006667\n",
      "63 (9, 10)\n",
      "0.368154447626373\n",
      "64 (9, 11)\n",
      "0.4307188610847147\n",
      "65 (10, 11)\n",
      "0.5008190852732111\n",
      "66 [0]\n",
      "0.6979828485737081\n",
      "67 [1]\n",
      "0.6389783256788332\n",
      "68 [2]\n",
      "0.43133223655787417\n",
      "69 [3]\n",
      "0.4522967151208047\n",
      "70 [4]\n",
      "0.5235208321805246\n",
      "71 [5]\n",
      "0.39472702633695617\n",
      "72 [6]\n",
      "0.4130283110342931\n",
      "73 [7]\n",
      "0.3598439074433135\n",
      "74 [8]\n",
      "0.38788743529786956\n",
      "75 [9]\n",
      "0.23045692396922818\n",
      "76 [10]\n",
      "0.368154447626373\n",
      "77 [11]\n",
      "0.4203251114680029\n"
     ]
    },
    {
     "data": {
      "application/javascript": [
       "\n",
       "            setTimeout(function() {\n",
       "                var nbb_cell_id = 14;\n",
       "                var nbb_unformatted_code = \"for i in range(len(comb)):\\n\\n    print(i, comb[i])\\n\\n    xgbmodel = xgb.XGBClassifier(random_state=randomseed, n_estimators=50)\\n    xgbmodel.fit(xtrain[:, comb[i]], ytrain)\\n    xgbmodelpred = xgbmodel.predict(xtest[:, comb[i]])\\n    print(m.f1_score(ytest, xgbmodelpred, average=\\\"weighted\\\"))\\n\\n    clf.append(xgbmodel)\\n    acc.append(m.f1_score(ytest, xgbmodelpred, average=\\\"weighted\\\"))\\n    ypredproba_all.append(xgbmodel.predict_proba(xtest[:, comb[i]]))\\n\\n    confmat = m.confusion_matrix(ytest, xgbmodelpred)\\n    confsumh = np.sum(confmat, axis=0)\\n    propconfmat = confmat.copy()\\n    for i in range(propconfmat.shape[0]):\\n        propconfmat[:, i] = 100 * propconfmat[:, i] / confsumh[i]\\n    ypredconfprob_all.append(propconfmat / 100)\";\n",
       "                var nbb_formatted_code = \"for i in range(len(comb)):\\n\\n    print(i, comb[i])\\n\\n    xgbmodel = xgb.XGBClassifier(random_state=randomseed, n_estimators=50)\\n    xgbmodel.fit(xtrain[:, comb[i]], ytrain)\\n    xgbmodelpred = xgbmodel.predict(xtest[:, comb[i]])\\n    print(m.f1_score(ytest, xgbmodelpred, average=\\\"weighted\\\"))\\n\\n    clf.append(xgbmodel)\\n    acc.append(m.f1_score(ytest, xgbmodelpred, average=\\\"weighted\\\"))\\n    ypredproba_all.append(xgbmodel.predict_proba(xtest[:, comb[i]]))\\n\\n    confmat = m.confusion_matrix(ytest, xgbmodelpred)\\n    confsumh = np.sum(confmat, axis=0)\\n    propconfmat = confmat.copy()\\n    for i in range(propconfmat.shape[0]):\\n        propconfmat[:, i] = 100 * propconfmat[:, i] / confsumh[i]\\n    ypredconfprob_all.append(propconfmat / 100)\";\n",
       "                var nbb_cells = Jupyter.notebook.get_cells();\n",
       "                for (var i = 0; i < nbb_cells.length; ++i) {\n",
       "                    if (nbb_cells[i].input_prompt_number == nbb_cell_id) {\n",
       "                        if (nbb_cells[i].get_text() == nbb_unformatted_code) {\n",
       "                             nbb_cells[i].set_text(nbb_formatted_code);\n",
       "                        }\n",
       "                        break;\n",
       "                    }\n",
       "                }\n",
       "            }, 500);\n",
       "            "
      ],
      "text/plain": [
       "<IPython.core.display.Javascript object>"
      ]
     },
     "metadata": {},
     "output_type": "display_data"
    }
   ],
   "source": [
    "for i in range(len(comb)):\n",
    "\n",
    "    print(i, comb[i])\n",
    "\n",
    "    xgbmodel = xgb.XGBClassifier(random_state=randomseed, n_estimators=50)\n",
    "    xgbmodel.fit(xtrain[:, comb[i]], ytrain)\n",
    "    xgbmodelpred = xgbmodel.predict(xtest[:, comb[i]])\n",
    "    print(m.f1_score(ytest, xgbmodelpred, average=\"weighted\"))\n",
    "\n",
    "    clf.append(xgbmodel)\n",
    "    acc.append(m.f1_score(ytest, xgbmodelpred, average=\"weighted\"))\n",
    "    ypredproba_all.append(xgbmodel.predict_proba(xtest[:, comb[i]]))\n",
    "\n",
    "    confmat = m.confusion_matrix(ytest, xgbmodelpred)\n",
    "    confsumh = np.sum(confmat, axis=0)\n",
    "    propconfmat = confmat.copy()\n",
    "    for i in range(propconfmat.shape[0]):\n",
    "        propconfmat[:, i] = 100 * propconfmat[:, i] / confsumh[i]\n",
    "    ypredconfprob_all.append(propconfmat / 100)"
   ]
  },
  {
   "cell_type": "code",
   "execution_count": null,
   "metadata": {},
   "outputs": [],
   "source": []
  },
  {
   "cell_type": "code",
   "execution_count": 30,
   "metadata": {},
   "outputs": [
    {
     "data": {
      "application/javascript": [
       "\n",
       "            setTimeout(function() {\n",
       "                var nbb_cell_id = 30;\n",
       "                var nbb_unformatted_code = \"c1 = []\\nc2 = []\\nc3 = []\\n\\n\\n# for j in range(xtest.shape[0]):\\nfor j in range(1):\\n    tempc1 = tempc2 = tempc3 = 0\\n\\n    #     for i in range(len(comb)):\\n    for i in range(1):\\n\\n        tempc1 += (\\n            ypredproba_all[i][j][0]\\n#             * ypredconfprob_all[i][0][0]\\n            #             + ypredproba_all[i][j][1] * ypredconfprob_all[i][0][1]\\n            #             + ypredproba_all[i][j][2] * ypredconfprob_all[i][0][2]\\n        )\\n\\n        tempc2 += (\\n            #             ypredproba_all[i][j][0] * ypredconfprob_all[i][1][0]            +\\n            ypredproba_all[i][j][1]\\n#             * ypredconfprob_all[i][1][1]\\n            #             + ypredproba_all[i][j][2] * ypredconfprob_all[i][1][2]\\n        )\\n\\n        tempc3 += (\\n            #             ypredproba_all[i][j][0] * ypredconfprob_all[i][2][0]\\n            #             + ypredproba_all[i][j][1] * ypredconfprob_all[i][2][1]            +\\n            ypredproba_all[i][j][2]\\n#             * ypredconfprob_all[i][2][2]\\n        )\\n\\n    c1.append(tempc1)\\n    c2.append(tempc2)\\n    c3.append(tempc3)\";\n",
       "                var nbb_formatted_code = \"c1 = []\\nc2 = []\\nc3 = []\\n\\n\\n# for j in range(xtest.shape[0]):\\nfor j in range(1):\\n    tempc1 = tempc2 = tempc3 = 0\\n\\n    #     for i in range(len(comb)):\\n    for i in range(1):\\n\\n        tempc1 += (\\n            ypredproba_all[i][j][0]\\n            #             * ypredconfprob_all[i][0][0]\\n            #             + ypredproba_all[i][j][1] * ypredconfprob_all[i][0][1]\\n            #             + ypredproba_all[i][j][2] * ypredconfprob_all[i][0][2]\\n        )\\n\\n        tempc2 += (\\n            #             ypredproba_all[i][j][0] * ypredconfprob_all[i][1][0]            +\\n            ypredproba_all[i][j][1]\\n            #             * ypredconfprob_all[i][1][1]\\n            #             + ypredproba_all[i][j][2] * ypredconfprob_all[i][1][2]\\n        )\\n\\n        tempc3 += (\\n            #             ypredproba_all[i][j][0] * ypredconfprob_all[i][2][0]\\n            #             + ypredproba_all[i][j][1] * ypredconfprob_all[i][2][1]            +\\n            ypredproba_all[i][j][2]\\n            #             * ypredconfprob_all[i][2][2]\\n        )\\n\\n    c1.append(tempc1)\\n    c2.append(tempc2)\\n    c3.append(tempc3)\";\n",
       "                var nbb_cells = Jupyter.notebook.get_cells();\n",
       "                for (var i = 0; i < nbb_cells.length; ++i) {\n",
       "                    if (nbb_cells[i].input_prompt_number == nbb_cell_id) {\n",
       "                        if (nbb_cells[i].get_text() == nbb_unformatted_code) {\n",
       "                             nbb_cells[i].set_text(nbb_formatted_code);\n",
       "                        }\n",
       "                        break;\n",
       "                    }\n",
       "                }\n",
       "            }, 500);\n",
       "            "
      ],
      "text/plain": [
       "<IPython.core.display.Javascript object>"
      ]
     },
     "metadata": {},
     "output_type": "display_data"
    }
   ],
   "source": [
    "c1 = []\n",
    "c2 = []\n",
    "c3 = []\n",
    "\n",
    "\n",
    "# for j in range(xtest.shape[0]):\n",
    "for j in range(1):\n",
    "    tempc1 = tempc2 = tempc3 = 0\n",
    "\n",
    "    #     for i in range(len(comb)):\n",
    "    for i in range(1):\n",
    "\n",
    "        tempc1 += (\n",
    "            ypredproba_all[i][j][0]\n",
    "            * ypredconfprob_all[i][0][0]\n",
    "            #             + ypredproba_all[i][j][1] * ypredconfprob_all[i][0][1]\n",
    "            #             + ypredproba_all[i][j][2] * ypredconfprob_all[i][0][2]\n",
    "        )\n",
    "\n",
    "        tempc2 += (\n",
    "            #             ypredproba_all[i][j][0] * ypredconfprob_all[i][1][0]            +\n",
    "            ypredproba_all[i][j][1]\n",
    "            * ypredconfprob_all[i][1][1]\n",
    "            #             + ypredproba_all[i][j][2] * ypredconfprob_all[i][1][2]\n",
    "        )\n",
    "\n",
    "        tempc3 += (\n",
    "            #             ypredproba_all[i][j][0] * ypredconfprob_all[i][2][0]\n",
    "            #             + ypredproba_all[i][j][1] * ypredconfprob_all[i][2][1]            +\n",
    "            ypredproba_all[i][j][2]\n",
    "            * ypredconfprob_all[i][2][2]\n",
    "        )\n",
    "\n",
    "    c1.append(tempc1)\n",
    "    c2.append(tempc2)\n",
    "    c3.append(tempc3)"
   ]
  },
  {
   "cell_type": "code",
   "execution_count": 31,
   "metadata": {},
   "outputs": [
    {
     "data": {
      "text/html": [
       "<div>\n",
       "<style scoped>\n",
       "    .dataframe tbody tr th:only-of-type {\n",
       "        vertical-align: middle;\n",
       "    }\n",
       "\n",
       "    .dataframe tbody tr th {\n",
       "        vertical-align: top;\n",
       "    }\n",
       "\n",
       "    .dataframe thead th {\n",
       "        text-align: right;\n",
       "    }\n",
       "</style>\n",
       "<table border=\"1\" class=\"dataframe\">\n",
       "  <thead>\n",
       "    <tr style=\"text-align: right;\">\n",
       "      <th></th>\n",
       "      <th>0</th>\n",
       "      <th>1</th>\n",
       "      <th>2</th>\n",
       "    </tr>\n",
       "  </thead>\n",
       "  <tbody>\n",
       "    <tr>\n",
       "      <th>0</th>\n",
       "      <td>0.0</td>\n",
       "      <td>0.42</td>\n",
       "      <td>0.58</td>\n",
       "    </tr>\n",
       "  </tbody>\n",
       "</table>\n",
       "</div>"
      ],
      "text/plain": [
       "     0     1     2\n",
       "0  0.0  0.42  0.58"
      ]
     },
     "execution_count": 31,
     "metadata": {},
     "output_type": "execute_result"
    },
    {
     "data": {
      "application/javascript": [
       "\n",
       "            setTimeout(function() {\n",
       "                var nbb_cell_id = 31;\n",
       "                var nbb_unformatted_code = \"finalval = np.column_stack((c1, c2, c3))\\npd.DataFrame(finalval).head()\";\n",
       "                var nbb_formatted_code = \"finalval = np.column_stack((c1, c2, c3))\\npd.DataFrame(finalval).head()\";\n",
       "                var nbb_cells = Jupyter.notebook.get_cells();\n",
       "                for (var i = 0; i < nbb_cells.length; ++i) {\n",
       "                    if (nbb_cells[i].input_prompt_number == nbb_cell_id) {\n",
       "                        if (nbb_cells[i].get_text() == nbb_unformatted_code) {\n",
       "                             nbb_cells[i].set_text(nbb_formatted_code);\n",
       "                        }\n",
       "                        break;\n",
       "                    }\n",
       "                }\n",
       "            }, 500);\n",
       "            "
      ],
      "text/plain": [
       "<IPython.core.display.Javascript object>"
      ]
     },
     "metadata": {},
     "output_type": "display_data"
    }
   ],
   "source": [
    "finalval = np.column_stack((c1, c2, c3))\n",
    "pd.DataFrame(finalval).head()"
   ]
  },
  {
   "cell_type": "code",
   "execution_count": 32,
   "metadata": {
    "scrolled": true
   },
   "outputs": [
    {
     "data": {
      "text/plain": [
       "array([2], dtype=int64)"
      ]
     },
     "execution_count": 32,
     "metadata": {},
     "output_type": "execute_result"
    },
    {
     "data": {
      "application/javascript": [
       "\n",
       "            setTimeout(function() {\n",
       "                var nbb_cell_id = 32;\n",
       "                var nbb_unformatted_code = \"finalpred = np.argmax(finalval, axis=1)\\nfinalpred\";\n",
       "                var nbb_formatted_code = \"finalpred = np.argmax(finalval, axis=1)\\nfinalpred\";\n",
       "                var nbb_cells = Jupyter.notebook.get_cells();\n",
       "                for (var i = 0; i < nbb_cells.length; ++i) {\n",
       "                    if (nbb_cells[i].input_prompt_number == nbb_cell_id) {\n",
       "                        if (nbb_cells[i].get_text() == nbb_unformatted_code) {\n",
       "                             nbb_cells[i].set_text(nbb_formatted_code);\n",
       "                        }\n",
       "                        break;\n",
       "                    }\n",
       "                }\n",
       "            }, 500);\n",
       "            "
      ],
      "text/plain": [
       "<IPython.core.display.Javascript object>"
      ]
     },
     "metadata": {},
     "output_type": "display_data"
    }
   ],
   "source": [
    "finalpred = np.argmax(finalval, axis=1)\n",
    "finalpred"
   ]
  },
  {
   "cell_type": "code",
   "execution_count": 35,
   "metadata": {},
   "outputs": [
    {
     "data": {
      "application/javascript": [
       "\n",
       "            setTimeout(function() {\n",
       "                var nbb_cell_id = 35;\n",
       "                var nbb_unformatted_code = \"# print(m.accuracy_score(ytest, finalpred))\";\n",
       "                var nbb_formatted_code = \"# print(m.accuracy_score(ytest, finalpred))\";\n",
       "                var nbb_cells = Jupyter.notebook.get_cells();\n",
       "                for (var i = 0; i < nbb_cells.length; ++i) {\n",
       "                    if (nbb_cells[i].input_prompt_number == nbb_cell_id) {\n",
       "                        if (nbb_cells[i].get_text() == nbb_unformatted_code) {\n",
       "                             nbb_cells[i].set_text(nbb_formatted_code);\n",
       "                        }\n",
       "                        break;\n",
       "                    }\n",
       "                }\n",
       "            }, 500);\n",
       "            "
      ],
      "text/plain": [
       "<IPython.core.display.Javascript object>"
      ]
     },
     "metadata": {},
     "output_type": "display_data"
    }
   ],
   "source": [
    "# print(m.accuracy_score(ytest, finalpred))"
   ]
  },
  {
   "cell_type": "code",
   "execution_count": 36,
   "metadata": {},
   "outputs": [
    {
     "data": {
      "text/html": [
       "<div>\n",
       "<style scoped>\n",
       "    .dataframe tbody tr th:only-of-type {\n",
       "        vertical-align: middle;\n",
       "    }\n",
       "\n",
       "    .dataframe tbody tr th {\n",
       "        vertical-align: top;\n",
       "    }\n",
       "\n",
       "    .dataframe thead th {\n",
       "        text-align: right;\n",
       "    }\n",
       "</style>\n",
       "<table border=\"1\" class=\"dataframe\">\n",
       "  <thead>\n",
       "    <tr style=\"text-align: right;\">\n",
       "      <th></th>\n",
       "      <th>0</th>\n",
       "      <th>1</th>\n",
       "      <th>2</th>\n",
       "    </tr>\n",
       "  </thead>\n",
       "  <tbody>\n",
       "    <tr>\n",
       "      <th>0</th>\n",
       "      <td>0.0</td>\n",
       "      <td>0.42</td>\n",
       "      <td>0.58</td>\n",
       "    </tr>\n",
       "  </tbody>\n",
       "</table>\n",
       "</div>"
      ],
      "text/plain": [
       "     0     1     2\n",
       "0  0.0  0.42  0.58"
      ]
     },
     "execution_count": 36,
     "metadata": {},
     "output_type": "execute_result"
    },
    {
     "data": {
      "application/javascript": [
       "\n",
       "            setTimeout(function() {\n",
       "                var nbb_cell_id = 36;\n",
       "                var nbb_unformatted_code = \"pd.DataFrame(finalval).tail()\";\n",
       "                var nbb_formatted_code = \"pd.DataFrame(finalval).tail()\";\n",
       "                var nbb_cells = Jupyter.notebook.get_cells();\n",
       "                for (var i = 0; i < nbb_cells.length; ++i) {\n",
       "                    if (nbb_cells[i].input_prompt_number == nbb_cell_id) {\n",
       "                        if (nbb_cells[i].get_text() == nbb_unformatted_code) {\n",
       "                             nbb_cells[i].set_text(nbb_formatted_code);\n",
       "                        }\n",
       "                        break;\n",
       "                    }\n",
       "                }\n",
       "            }, 500);\n",
       "            "
      ],
      "text/plain": [
       "<IPython.core.display.Javascript object>"
      ]
     },
     "metadata": {},
     "output_type": "display_data"
    }
   ],
   "source": [
    "pd.DataFrame(finalval).tail()"
   ]
  },
  {
   "cell_type": "code",
   "execution_count": null,
   "metadata": {},
   "outputs": [],
   "source": []
  },
  {
   "cell_type": "code",
   "execution_count": 37,
   "metadata": {},
   "outputs": [
    {
     "data": {
      "text/plain": [
       "(156, 600, 3)"
      ]
     },
     "execution_count": 37,
     "metadata": {},
     "output_type": "execute_result"
    },
    {
     "data": {
      "application/javascript": [
       "\n",
       "            setTimeout(function() {\n",
       "                var nbb_cell_id = 37;\n",
       "                var nbb_unformatted_code = \"np.array(ypredproba_all).shape\";\n",
       "                var nbb_formatted_code = \"np.array(ypredproba_all).shape\";\n",
       "                var nbb_cells = Jupyter.notebook.get_cells();\n",
       "                for (var i = 0; i < nbb_cells.length; ++i) {\n",
       "                    if (nbb_cells[i].input_prompt_number == nbb_cell_id) {\n",
       "                        if (nbb_cells[i].get_text() == nbb_unformatted_code) {\n",
       "                             nbb_cells[i].set_text(nbb_formatted_code);\n",
       "                        }\n",
       "                        break;\n",
       "                    }\n",
       "                }\n",
       "            }, 500);\n",
       "            "
      ],
      "text/plain": [
       "<IPython.core.display.Javascript object>"
      ]
     },
     "metadata": {},
     "output_type": "display_data"
    }
   ],
   "source": [
    "np.array(ypredproba_all).shape"
   ]
  },
  {
   "cell_type": "code",
   "execution_count": null,
   "metadata": {},
   "outputs": [],
   "source": []
  },
  {
   "cell_type": "code",
   "execution_count": 38,
   "metadata": {},
   "outputs": [
    {
     "data": {
      "text/plain": [
       "[array([[0.        , 0.42      , 0.58      ],\n",
       "        [0.        , 0.02      , 0.98      ],\n",
       "        [0.03103347, 0.40667478, 0.56229175],\n",
       "        ...,\n",
       "        [0.84034837, 0.15965163, 0.        ],\n",
       "        [0.65140476, 0.34859524, 0.        ],\n",
       "        [0.4181442 , 0.5818558 , 0.        ]]),\n",
       " array([[0.        , 0.92      , 0.08      ],\n",
       "        [0.        , 0.66      , 0.34      ],\n",
       "        [0.        , 0.8       , 0.2       ],\n",
       "        ...,\n",
       "        [0.88608471, 0.11391529, 0.        ],\n",
       "        [0.6874482 , 0.3125518 , 0.        ],\n",
       "        [0.        , 1.        , 0.        ]]),\n",
       " array([[0.12      , 0.70904762, 0.17095238],\n",
       "        [0.        , 0.42      , 0.58      ],\n",
       "        [0.266     , 0.68633333, 0.04766667],\n",
       "        ...,\n",
       "        [1.        , 0.        , 0.        ],\n",
       "        [0.66896407, 0.33103593, 0.        ],\n",
       "        [0.16329432, 0.83670568, 0.        ]]),\n",
       " array([[0.        , 0.56      , 0.44      ],\n",
       "        [0.        , 0.18      , 0.82      ],\n",
       "        [0.38533333, 0.61466667, 0.        ],\n",
       "        ...,\n",
       "        [0.82536084, 0.17463916, 0.        ],\n",
       "        [0.76239166, 0.23760834, 0.        ],\n",
       "        [0.49177162, 0.50822838, 0.        ]]),\n",
       " array([[0.        , 0.32618193, 0.67381807],\n",
       "        [0.48      , 0.07590904, 0.44409096],\n",
       "        [0.07097406, 0.20665956, 0.72236638],\n",
       "        ...,\n",
       "        [0.93303509, 0.06696491, 0.        ],\n",
       "        [0.93583333, 0.06416667, 0.        ],\n",
       "        [0.43655109, 0.56344891, 0.        ]]),\n",
       " array([[0.0242257 , 0.30224439, 0.67352991],\n",
       "        [0.        , 0.26557115, 0.73442885],\n",
       "        [0.05154081, 0.51115092, 0.43730828],\n",
       "        ...,\n",
       "        [0.83777291, 0.16222709, 0.        ],\n",
       "        [0.76030071, 0.22770858, 0.01199071],\n",
       "        [0.35874881, 0.54749432, 0.09375688]]),\n",
       " array([[0.01565705, 0.22495284, 0.75939011],\n",
       "        [0.        , 0.39661905, 0.60338095],\n",
       "        [0.06500649, 0.61297609, 0.32201743],\n",
       "        ...,\n",
       "        [0.83971384, 0.16028616, 0.        ],\n",
       "        [0.76243092, 0.19938793, 0.03818115],\n",
       "        [0.38229698, 0.60872466, 0.00897836]]),\n",
       " array([[0.02689219, 0.18993933, 0.78316848],\n",
       "        [0.02359123, 0.32850761, 0.64790116],\n",
       "        [0.08445562, 0.51597966, 0.39956472],\n",
       "        ...,\n",
       "        [0.78108769, 0.21891231, 0.        ],\n",
       "        [0.72754977, 0.26523585, 0.00721437],\n",
       "        [0.31815871, 0.58466146, 0.09717984]]),\n",
       " array([[0.03020771, 0.33357703, 0.63621526],\n",
       "        [0.00933281, 0.24539167, 0.74527552],\n",
       "        [0.05970246, 0.59470278, 0.34559476],\n",
       "        ...,\n",
       "        [0.7959848 , 0.19811988, 0.00589533],\n",
       "        [0.71398772, 0.27252625, 0.01348603],\n",
       "        [0.40953515, 0.55746726, 0.03299758]]),\n",
       " array([[0.02997454, 0.34364808, 0.62637738],\n",
       "        [0.0139943 , 0.23782508, 0.74818062],\n",
       "        [0.06141046, 0.60360682, 0.33498272],\n",
       "        ...,\n",
       "        [0.87007194, 0.12992806, 0.        ],\n",
       "        [0.80204457, 0.19795543, 0.        ],\n",
       "        [0.37475888, 0.58795635, 0.03728477]]),\n",
       " array([[0.1       , 0.68244444, 0.21755556],\n",
       "        [0.        , 0.34287302, 0.65712698],\n",
       "        [0.        , 1.        , 0.        ],\n",
       "        ...,\n",
       "        [0.77545248, 0.22454752, 0.        ],\n",
       "        [0.58077801, 0.41922199, 0.        ],\n",
       "        [0.34319102, 0.58456202, 0.07224696]]),\n",
       " array([[0.       , 0.02     , 0.98     ],\n",
       "        [0.       , 0.9      , 0.1      ],\n",
       "        [0.3      , 0.7      , 0.       ],\n",
       "        ...,\n",
       "        [0.8475042, 0.1524958, 0.       ],\n",
       "        [1.       , 0.       , 0.       ],\n",
       "        [0.4972381, 0.5027619, 0.       ]]),\n",
       " array([[0.        , 0.06      , 0.94      ],\n",
       "        [0.41733333, 0.54266667, 0.04      ],\n",
       "        [0.23737029, 0.76262971, 0.        ],\n",
       "        ...,\n",
       "        [0.75304035, 0.24695965, 0.        ],\n",
       "        [0.05047619, 0.94952381, 0.        ],\n",
       "        [0.36741103, 0.34028039, 0.29230859]]),\n",
       " array([[0.        , 0.        , 1.        ],\n",
       "        [0.02      , 0.06      , 0.92      ],\n",
       "        [0.06411616, 0.93588384, 0.        ],\n",
       "        ...,\n",
       "        [0.74475808, 0.25524192, 0.        ],\n",
       "        [0.92861616, 0.07138384, 0.        ],\n",
       "        [0.6162298 , 0.3837702 , 0.        ]]),\n",
       " array([[0.        , 0.        , 1.        ],\n",
       "        [0.2       , 0.58      , 0.22      ],\n",
       "        [0.2827672 , 0.59993067, 0.11730214],\n",
       "        ...,\n",
       "        [0.72160477, 0.27839523, 0.        ],\n",
       "        [0.81633333, 0.18366667, 0.        ],\n",
       "        [0.674917  , 0.325083  , 0.        ]]),\n",
       " array([[0.        , 0.        , 1.        ],\n",
       "        [0.25513707, 0.52284498, 0.22201795],\n",
       "        [0.3553171 , 0.59077166, 0.05391124],\n",
       "        ...,\n",
       "        [0.67906324, 0.30194114, 0.01899562],\n",
       "        [0.5355787 , 0.44269786, 0.02172343],\n",
       "        [0.53862662, 0.44456058, 0.0168128 ]]),\n",
       " array([[0.        , 0.        , 1.        ],\n",
       "        [0.34      , 0.61333333, 0.04666667],\n",
       "        [0.26785162, 0.60274709, 0.1294013 ],\n",
       "        ...,\n",
       "        [0.72523038, 0.27476962, 0.        ],\n",
       "        [0.64018053, 0.35981947, 0.        ],\n",
       "        [0.66985483, 0.32168283, 0.00846234]]),\n",
       " array([[0.        , 0.6       , 0.4       ],\n",
       "        [0.19541493, 0.56300859, 0.24157648],\n",
       "        [0.46706833, 0.47166989, 0.06126178],\n",
       "        ...,\n",
       "        [0.60683143, 0.37296934, 0.02019923],\n",
       "        [0.53913977, 0.43925466, 0.02160557],\n",
       "        [0.59625481, 0.38713721, 0.01660797]]),\n",
       " array([[0.        , 0.        , 1.        ],\n",
       "        [0.28254493, 0.52179224, 0.19566283],\n",
       "        [0.41463906, 0.56463529, 0.02072565],\n",
       "        ...,\n",
       "        [0.6154419 , 0.36508481, 0.01947329],\n",
       "        [0.46040433, 0.50922816, 0.03036751],\n",
       "        [0.63886952, 0.34540213, 0.01572835]]),\n",
       " array([[0.        , 0.16565945, 0.83434055],\n",
       "        [0.19627734, 0.43004073, 0.37368192],\n",
       "        [0.33860099, 0.59133911, 0.0700599 ],\n",
       "        ...,\n",
       "        [0.73743036, 0.23418714, 0.0283825 ],\n",
       "        [0.65478158, 0.34521842, 0.        ],\n",
       "        [0.54888068, 0.43020548, 0.02091384]]),\n",
       " array([[0.        , 0.        , 1.        ],\n",
       "        [0.09333333, 0.82666667, 0.08      ],\n",
       "        [0.41680884, 0.48159031, 0.10160085],\n",
       "        ...,\n",
       "        [0.61111815, 0.38888185, 0.        ],\n",
       "        [0.16609972, 0.83390028, 0.        ],\n",
       "        [0.53416045, 0.46583955, 0.        ]]),\n",
       " array([[0.32      , 0.66      , 0.02      ],\n",
       "        [0.        , 1.        , 0.        ],\n",
       "        [0.06      , 0.8       , 0.14      ],\n",
       "        ...,\n",
       "        [0.07      , 0.93      , 0.        ],\n",
       "        [0.60714286, 0.39285714, 0.        ],\n",
       "        [0.19      , 0.71      , 0.1       ]]),\n",
       " array([[0.        , 0.76      , 0.24      ],\n",
       "        [0.68      , 0.32      , 0.        ],\n",
       "        [0.        , 0.98      , 0.02      ],\n",
       "        ...,\n",
       "        [0.64893178, 0.35106822, 0.        ],\n",
       "        [0.73342857, 0.26657143, 0.        ],\n",
       "        [0.        , 0.62      , 0.38      ]]),\n",
       " array([[0.8      , 0.14     , 0.06     ],\n",
       "        [0.43     , 0.51     , 0.06     ],\n",
       "        [0.04     , 0.58     , 0.38     ],\n",
       "        ...,\n",
       "        [0.7464066, 0.2535934, 0.       ],\n",
       "        [0.425    , 0.575    , 0.       ],\n",
       "        [0.       , 0.       , 1.       ]]),\n",
       " array([[0.35607143, 0.60392857, 0.04      ],\n",
       "        [0.25312168, 0.36099634, 0.38588198],\n",
       "        [0.10940693, 0.41740548, 0.47318759],\n",
       "        ...,\n",
       "        [0.66798371, 0.31547264, 0.01654365],\n",
       "        [0.64681753, 0.32587517, 0.02730729],\n",
       "        [0.20450054, 0.43363739, 0.36186207]]),\n",
       " array([[0.        , 0.39571684, 0.60428316],\n",
       "        [0.01      , 0.985     , 0.005     ],\n",
       "        [0.        , 0.        , 1.        ],\n",
       "        ...,\n",
       "        [0.63105008, 0.34120077, 0.02774915],\n",
       "        [0.57227504, 0.37950595, 0.04821901],\n",
       "        [0.21461106, 0.59725437, 0.18813458]]),\n",
       " array([[0.        , 0.30340693, 0.69659307],\n",
       "        [0.20077221, 0.45019609, 0.3490317 ],\n",
       "        [0.        , 0.50822799, 0.49177201],\n",
       "        ...,\n",
       "        [0.68226677, 0.31773323, 0.        ],\n",
       "        [0.61377463, 0.34596958, 0.04025579],\n",
       "        [0.24062425, 0.75937575, 0.        ]]),\n",
       " array([[0.14869714, 0.85130286, 0.        ],\n",
       "        [0.29182018, 0.50932819, 0.19885163],\n",
       "        [0.02      , 0.98      , 0.        ],\n",
       "        ...,\n",
       "        [0.63040108, 0.3245929 , 0.04500602],\n",
       "        [0.57752143, 0.38146511, 0.04101346],\n",
       "        [0.26732537, 0.52257123, 0.21010341]]),\n",
       " array([[0.10626017, 0.51696965, 0.37677018],\n",
       "        [0.27300571, 0.52381814, 0.20317614],\n",
       "        [0.05378148, 0.39486111, 0.55135741],\n",
       "        ...,\n",
       "        [0.69379771, 0.28555412, 0.02064817],\n",
       "        [0.66704315, 0.29771379, 0.03524306],\n",
       "        [0.22898553, 0.57641958, 0.19459488]]),\n",
       " array([[0.28      , 0.72      , 0.        ],\n",
       "        [0.22166667, 0.75833333, 0.02      ],\n",
       "        [0.04      , 0.88      , 0.08      ],\n",
       "        ...,\n",
       "        [0.4918888 , 0.5081112 , 0.        ],\n",
       "        [0.39890035, 0.60109965, 0.        ],\n",
       "        [0.11219437, 0.32639706, 0.56140857]]),\n",
       " array([[0.06      , 0.72      , 0.22      ],\n",
       "        [0.34833333, 0.57166667, 0.08      ],\n",
       "        [0.02      , 0.92      , 0.06      ],\n",
       "        ...,\n",
       "        [0.75490357, 0.24509643, 0.        ],\n",
       "        [0.63304762, 0.36695238, 0.        ],\n",
       "        [0.84055556, 0.02277778, 0.13666667]]),\n",
       " array([[0.13236199, 0.36224738, 0.50539064],\n",
       "        [0.52040476, 0.47959524, 0.        ],\n",
       "        [0.17972722, 0.29441742, 0.52585536],\n",
       "        ...,\n",
       "        [0.64810726, 0.35189274, 0.        ],\n",
       "        [0.92      , 0.08      , 0.        ],\n",
       "        [0.05636111, 0.92363889, 0.02      ]]),\n",
       " array([[0.29285414, 0.55997004, 0.14717582],\n",
       "        [0.27891487, 0.51737822, 0.20370691],\n",
       "        [0.31061596, 0.52530232, 0.16408172],\n",
       "        ...,\n",
       "        [0.76811133, 0.23188867, 0.        ],\n",
       "        [0.61044008, 0.31562348, 0.07393644],\n",
       "        [0.29743199, 0.34345208, 0.35911594]]),\n",
       " array([[0.28683043, 0.56914663, 0.14402294],\n",
       "        [0.45866667, 0.54133333, 0.        ],\n",
       "        [0.2348425 , 0.68616334, 0.07899416],\n",
       "        ...,\n",
       "        [0.75188329, 0.24811671, 0.        ],\n",
       "        [0.5969943 , 0.35037872, 0.05262697],\n",
       "        [0.24380758, 0.41497661, 0.34121581]]),\n",
       " array([[0.39628048, 0.51690599, 0.08681354],\n",
       "        [0.3957498 , 0.42406932, 0.18018089],\n",
       "        [0.2395969 , 0.64711383, 0.11328928],\n",
       "        ...,\n",
       "        [0.70030362, 0.29969638, 0.        ],\n",
       "        [0.55558488, 0.36495083, 0.07946428],\n",
       "        [0.22404937, 0.65611904, 0.11983159]]),\n",
       " array([[0.36580234, 0.50460419, 0.12959347],\n",
       "        [0.34940146, 0.47031447, 0.18028407],\n",
       "        [0.27479987, 0.64114774, 0.08405239],\n",
       "        ...,\n",
       "        [0.68039913, 0.29006943, 0.02953145],\n",
       "        [0.52805734, 0.40659333, 0.06534933],\n",
       "        [0.30513766, 0.39670933, 0.29815301]]),\n",
       " array([[0.31517707, 0.54147118, 0.14335175],\n",
       "        [0.30066605, 0.51658758, 0.18274637],\n",
       "        [0.2491075 , 0.63152843, 0.11936407],\n",
       "        ...,\n",
       "        [0.75628489, 0.24371511, 0.        ],\n",
       "        [0.73734806, 0.26265194, 0.        ],\n",
       "        [0.26212988, 0.42189876, 0.31597136]]),\n",
       " array([[0.352663  , 0.647337  , 0.        ],\n",
       "        [0.30865768, 0.69134232, 0.        ],\n",
       "        [0.08554451, 0.91445549, 0.        ],\n",
       "        ...,\n",
       "        [0.80807337, 0.19192663, 0.        ],\n",
       "        [0.54744162, 0.45255838, 0.        ],\n",
       "        [0.52591231, 0.47408769, 0.        ]]),\n",
       " array([[0.02      , 0.905     , 0.075     ],\n",
       "        [0.14      , 0.56      , 0.3       ],\n",
       "        [0.        , 0.93      , 0.07      ],\n",
       "        ...,\n",
       "        [0.72260269, 0.27739731, 0.        ],\n",
       "        [1.        , 0.        , 0.        ],\n",
       "        [0.36968356, 0.63031644, 0.        ]]),\n",
       " array([[0.        , 0.92      , 0.08      ],\n",
       "        [0.0721686 , 0.14746373, 0.78036767],\n",
       "        [0.12065426, 0.46143821, 0.41790753],\n",
       "        ...,\n",
       "        [0.60138377, 0.37502877, 0.02358746],\n",
       "        [0.83765351, 0.16234649, 0.        ],\n",
       "        [0.33720246, 0.53769836, 0.12509918]]),\n",
       " array([[0.        , 1.        , 0.        ],\n",
       "        [0.665     , 0.32      , 0.015     ],\n",
       "        [0.10725827, 0.43934913, 0.4533926 ],\n",
       "        ...,\n",
       "        [0.57214429, 0.40286011, 0.0249956 ],\n",
       "        [0.81921906, 0.18078094, 0.        ],\n",
       "        [0.38826106, 0.44267966, 0.16905929]]),\n",
       " array([[0.        , 0.        , 1.        ],\n",
       "        [0.10370305, 0.45819826, 0.43809869],\n",
       "        [0.18036989, 0.54538955, 0.27424056],\n",
       "        ...,\n",
       "        [0.55731871, 0.4012095 , 0.04147179],\n",
       "        [0.8430373 , 0.1569627 , 0.        ],\n",
       "        [0.3745719 , 0.53766115, 0.08776694]]),\n",
       " array([[0.        , 0.18      , 0.82      ],\n",
       "        [0.13860794, 0.37245925, 0.48893281],\n",
       "        [0.09038054, 0.90961946, 0.        ],\n",
       "        ...,\n",
       "        [0.57089065, 0.41013512, 0.01897423],\n",
       "        [0.81978383, 0.18021617, 0.        ],\n",
       "        [0.3804344 , 0.47213248, 0.14743311]]),\n",
       " array([[0.        , 0.1       , 0.9       ],\n",
       "        [0.16208641, 0.35646694, 0.48144665],\n",
       "        [0.17302796, 0.60166704, 0.225305  ],\n",
       "        ...,\n",
       "        [0.64296792, 0.32710244, 0.02992964],\n",
       "        [0.83797581, 0.16202419, 0.        ],\n",
       "        [0.351185  , 0.49615475, 0.15266025]]),\n",
       " array([[0.22      , 0.76      , 0.02      ],\n",
       "        [0.        , 0.08018965, 0.91981035],\n",
       "        [0.3989127 , 0.6010873 , 0.        ],\n",
       "        ...,\n",
       "        [0.62165784, 0.37834216, 0.        ],\n",
       "        [0.64307937, 0.35692063, 0.        ],\n",
       "        [0.36079822, 0.63920178, 0.        ]]),\n",
       " array([[0.38243824, 0.48170658, 0.13585518],\n",
       "        [0.30188273, 0.55868607, 0.13943121],\n",
       "        [0.29995039, 0.56992769, 0.13012192],\n",
       "        ...,\n",
       "        [0.62613787, 0.31231477, 0.06154736],\n",
       "        [0.37525512, 0.22269861, 0.40204627],\n",
       "        [0.36353633, 0.51906778, 0.11739589]]),\n",
       " array([[0.33473886, 0.46833462, 0.19692652],\n",
       "        [0.91      , 0.09      , 0.        ],\n",
       "        [0.24397729, 0.61529799, 0.14072472],\n",
       "        ...,\n",
       "        [0.59613827, 0.32759538, 0.07626635],\n",
       "        [0.86137229, 0.13862771, 0.        ],\n",
       "        [0.48860706, 0.49740294, 0.01399   ]]),\n",
       " array([[0.34501651, 0.47420204, 0.18078145],\n",
       "        [0.3256347 , 0.50801759, 0.16634771],\n",
       "        [0.34312885, 0.51023121, 0.14663994],\n",
       "        ...,\n",
       "        [0.50271576, 0.3831689 , 0.11411534],\n",
       "        [0.25428464, 0.22076549, 0.52494987],\n",
       "        [0.39556166, 0.41966656, 0.18477177]]),\n",
       " array([[0.36683718, 0.46743559, 0.16572723],\n",
       "        [0.33194201, 0.52713124, 0.14092675],\n",
       "        [0.24829271, 0.40391784, 0.34778944],\n",
       "        ...,\n",
       "        [0.56905482, 0.32385034, 0.10709484],\n",
       "        [0.42409933, 0.11880535, 0.45709532],\n",
       "        [0.39660601, 0.46347005, 0.13992394]]),\n",
       " array([[0.35094828, 0.47935093, 0.1697008 ],\n",
       "        [0.30791373, 0.53767083, 0.15441543],\n",
       "        [0.32622125, 0.55346437, 0.12031438],\n",
       "        ...,\n",
       "        [0.67411466, 0.29888688, 0.02699846],\n",
       "        [0.37525512, 0.22269861, 0.40204627],\n",
       "        [0.35742045, 0.49272627, 0.14985329]]),\n",
       " array([[0.48291528, 0.51708472, 0.        ],\n",
       "        [0.24842857, 0.71157143, 0.04      ],\n",
       "        [0.26852064, 0.73147936, 0.        ],\n",
       "        ...,\n",
       "        [0.6609056 , 0.3390944 , 0.        ],\n",
       "        [0.172     , 0.78981818, 0.03818182],\n",
       "        [0.14802892, 0.31969661, 0.53227448]]),\n",
       " array([[0.22280475, 0.35157626, 0.42561899],\n",
       "        [0.27931125, 0.65520995, 0.06547879],\n",
       "        [0.17578915, 0.31642031, 0.50779054],\n",
       "        ...,\n",
       "        [0.49112211, 0.26959558, 0.23928231],\n",
       "        [0.49112211, 0.26959558, 0.23928231],\n",
       "        [0.23939344, 0.27832882, 0.48227774]]),\n",
       " array([[0.20533566, 0.28056479, 0.51409955],\n",
       "        [0.24437653, 0.3462189 , 0.40940456],\n",
       "        [0.22582453, 0.31679511, 0.45738036],\n",
       "        ...,\n",
       "        [0.41227074, 0.30196635, 0.28576291],\n",
       "        [0.48754744, 0.28975167, 0.22270089],\n",
       "        [0.23395559, 0.37111831, 0.3949261 ]]),\n",
       " array([[0.24001152, 0.32476043, 0.43522805],\n",
       "        [0.25154924, 0.38314562, 0.36530514],\n",
       "        [0.19154546, 0.36663119, 0.44182335],\n",
       "        ...,\n",
       "        [0.45105726, 0.29915708, 0.24978567],\n",
       "        [0.45105726, 0.29915708, 0.24978567],\n",
       "        [0.24001152, 0.32476043, 0.43522805]]),\n",
       " array([[0.22672946, 0.33193704, 0.4413335 ],\n",
       "        [0.23252885, 0.38212283, 0.38534832],\n",
       "        [0.22672946, 0.33193704, 0.4413335 ],\n",
       "        ...,\n",
       "        [0.59318133, 0.26603023, 0.14078844],\n",
       "        [0.59318133, 0.26603023, 0.14078844],\n",
       "        [0.22672946, 0.33193704, 0.4413335 ]]),\n",
       " array([[0.44111374, 0.4716746 , 0.08721165],\n",
       "        [0.19342042, 0.52068143, 0.28589814],\n",
       "        [0.3078997 , 0.4430668 , 0.2490335 ],\n",
       "        ...,\n",
       "        [0.56814279, 0.34277989, 0.08907732],\n",
       "        [0.45859669, 0.43432184, 0.10708148],\n",
       "        [0.28480668, 0.49763671, 0.2175566 ]]),\n",
       " array([[0.24348438, 0.33209045, 0.42442516],\n",
       "        [0.45167593, 0.51963932, 0.02868475],\n",
       "        [0.22674206, 0.31547403, 0.45778391],\n",
       "        ...,\n",
       "        [0.46627183, 0.31821444, 0.21551373],\n",
       "        [0.46968511, 0.27372671, 0.25658818],\n",
       "        [0.36769251, 0.37145711, 0.26085038]]),\n",
       " array([[0.27074204, 0.35715025, 0.37210771],\n",
       "        [0.33374854, 0.61530542, 0.05094604],\n",
       "        [0.16566485, 0.33456587, 0.49976927],\n",
       "        ...,\n",
       "        [0.44421063, 0.28535723, 0.27043214],\n",
       "        [0.44421063, 0.28535723, 0.27043214],\n",
       "        [0.35460656, 0.31357361, 0.33181984]]),\n",
       " array([[0.22719293, 0.36785366, 0.40495341],\n",
       "        [0.32161463, 0.60898747, 0.06939791],\n",
       "        [0.194342  , 0.34741182, 0.45824618],\n",
       "        ...,\n",
       "        [0.58078698, 0.2643074 , 0.15490562],\n",
       "        [0.58078698, 0.2643074 , 0.15490562],\n",
       "        [0.2733525 , 0.33725686, 0.38939063]]),\n",
       " array([[0.49633309, 0.38708067, 0.11658624],\n",
       "        [0.39609163, 0.15694589, 0.44696248],\n",
       "        [0.27883088, 0.50158422, 0.2195849 ],\n",
       "        ...,\n",
       "        [0.62587616, 0.30230346, 0.07182037],\n",
       "        [0.46814655, 0.42051201, 0.11134144],\n",
       "        [0.40749895, 0.47032661, 0.12217444]]),\n",
       " array([[0.30126176, 0.31547939, 0.38325884],\n",
       "        [0.35987526, 0.30206625, 0.33805849],\n",
       "        [0.33921919, 0.3582143 , 0.3025665 ],\n",
       "        ...,\n",
       "        [0.30126176, 0.31547939, 0.38325884],\n",
       "        [0.35987526, 0.30206625, 0.33805849],\n",
       "        [0.29706177, 0.34877882, 0.35415941]]),\n",
       " array([[0.22729831, 0.32140678, 0.4512949 ],\n",
       "        [0.24068948, 0.33830589, 0.42100463],\n",
       "        [0.24068948, 0.33830589, 0.42100463],\n",
       "        ...,\n",
       "        [0.61288616, 0.26573805, 0.12137579],\n",
       "        [0.59444884, 0.25338287, 0.1521683 ],\n",
       "        [0.23485003, 0.3691428 , 0.39600717]]),\n",
       " array([[0.53686246, 0.36975126, 0.09338627],\n",
       "        [0.26252735, 0.49615752, 0.24131513],\n",
       "        [0.45883704, 0.38771884, 0.15344412],\n",
       "        ...,\n",
       "        [0.37536433, 0.34473632, 0.27989935],\n",
       "        [0.36983665, 0.47738627, 0.15277707],\n",
       "        [0.38790002, 0.4262929 , 0.18580708]]),\n",
       " array([[0.25282516, 0.35276513, 0.39440971],\n",
       "        [0.25282516, 0.35276513, 0.39440971],\n",
       "        [0.2041991 , 0.37444875, 0.42135214],\n",
       "        ...,\n",
       "        [0.59562403, 0.25635697, 0.148019  ],\n",
       "        [0.59562403, 0.25635697, 0.148019  ],\n",
       "        [0.25282516, 0.35276513, 0.39440971]]),\n",
       " array([[0.5916595 , 0.37387488, 0.03446563],\n",
       "        [0.25832095, 0.46802721, 0.27365184],\n",
       "        [0.370447  , 0.47929592, 0.15025708],\n",
       "        ...,\n",
       "        [0.44519871, 0.4017573 , 0.15304399],\n",
       "        [0.34563233, 0.4737582 , 0.18060948],\n",
       "        [0.37914904, 0.42484745, 0.19600351]]),\n",
       " array([[0.46900353, 0.46033401, 0.07066246],\n",
       "        [0.2051963 , 0.48944667, 0.30535702],\n",
       "        [0.33705673, 0.47842875, 0.18451452],\n",
       "        ...,\n",
       "        [0.72520078, 0.25717194, 0.01762728],\n",
       "        [0.59534968, 0.37333495, 0.03131537],\n",
       "        [0.3035164 , 0.48159032, 0.21489328]]),\n",
       " array([[0.0266547 , 0.33197737, 0.64136793],\n",
       "        [0.01323458, 0.25049677, 0.73626865],\n",
       "        [0.05701758, 0.56791485, 0.37506757],\n",
       "        ...,\n",
       "        [0.79126062, 0.20135485, 0.00738452],\n",
       "        [0.70369405, 0.28110185, 0.0152041 ],\n",
       "        [0.40058782, 0.57099756, 0.02841462]]),\n",
       " array([[0.        , 0.16565945, 0.83434055],\n",
       "        [0.25086658, 0.42130538, 0.32782805],\n",
       "        [0.43326626, 0.50937093, 0.05736281],\n",
       "        ...,\n",
       "        [0.6179118 , 0.36539611, 0.01669209],\n",
       "        [0.45071037, 0.52208545, 0.02720419],\n",
       "        [0.64420682, 0.34210355, 0.01368964]]),\n",
       " array([[0.09653178, 0.55668872, 0.3467795 ],\n",
       "        [0.2849532 , 0.53845867, 0.17658813],\n",
       "        [0.05378148, 0.39486111, 0.55135741],\n",
       "        ...,\n",
       "        [0.60668243, 0.35493801, 0.03837956],\n",
       "        [0.5735505 , 0.39035548, 0.03609402],\n",
       "        [0.23021966, 0.54527766, 0.22450269]]),\n",
       " array([[0.34649538, 0.52997046, 0.12353416],\n",
       "        [0.3506663 , 0.48004564, 0.16928806],\n",
       "        [0.27346283, 0.61544119, 0.11109597],\n",
       "        ...,\n",
       "        [0.68003671, 0.29390091, 0.02606238],\n",
       "        [0.52722704, 0.41648286, 0.05629011],\n",
       "        [0.29370515, 0.41497527, 0.29131958]]),\n",
       " array([[0.        , 0.18      , 0.82      ],\n",
       "        [0.15709975, 0.37568073, 0.46721952],\n",
       "        [0.18550937, 0.56302085, 0.25146978],\n",
       "        ...,\n",
       "        [0.56495641, 0.41569585, 0.01934774],\n",
       "        [0.82960647, 0.17039353, 0.        ],\n",
       "        [0.39210956, 0.47108   , 0.13681044]]),\n",
       " array([[0.36711398, 0.46674491, 0.16614111],\n",
       "        [0.30363276, 0.53538387, 0.16098337],\n",
       "        [0.32937925, 0.54930969, 0.12131106],\n",
       "        ...,\n",
       "        [0.55516829, 0.33469169, 0.11014002],\n",
       "        [0.37525512, 0.22269861, 0.40204627],\n",
       "        [0.38925232, 0.46928941, 0.14145827]]),\n",
       " array([[0.23310449, 0.33072466, 0.43617085],\n",
       "        [0.24093914, 0.38046556, 0.3785953 ],\n",
       "        [0.23310449, 0.33072466, 0.43617085],\n",
       "        ...,\n",
       "        [0.45215638, 0.30670505, 0.24113857],\n",
       "        [0.45215638, 0.30670505, 0.24113857],\n",
       "        [0.23310449, 0.33072466, 0.43617085]]),\n",
       " array([[0.26625754, 0.36133443, 0.37240803],\n",
       "        [0.35731814, 0.57903932, 0.06364254],\n",
       "        [0.22297306, 0.34782068, 0.42920625],\n",
       "        ...,\n",
       "        [0.44959622, 0.29427112, 0.25613266],\n",
       "        [0.44959622, 0.29427112, 0.25613266],\n",
       "        [0.34473503, 0.31692718, 0.33833779]]),\n",
       " array([[0.28861919, 0.31255441, 0.39882641],\n",
       "        [0.35679598, 0.31043282, 0.33277119],\n",
       "        [0.35679598, 0.31043282, 0.33277119],\n",
       "        ...,\n",
       "        [0.28861919, 0.31255441, 0.39882641],\n",
       "        [0.35679598, 0.31043282, 0.33277119],\n",
       "        [0.29234693, 0.35456988, 0.35308319]]),\n",
       " array([[0.3381996 , 0.32875323, 0.33304717],\n",
       "        [0.3381996 , 0.32875323, 0.33304717],\n",
       "        [0.30243373, 0.36135222, 0.33621405],\n",
       "        ...,\n",
       "        [0.3381996 , 0.32875323, 0.33304717],\n",
       "        [0.3381996 , 0.32875323, 0.33304717],\n",
       "        [0.3381996 , 0.32875323, 0.33304717]]),\n",
       " array([[0.2456734 , 0.35595455, 0.39837204],\n",
       "        [0.2456734 , 0.35595455, 0.39837204],\n",
       "        [0.2456734 , 0.35595455, 0.39837204],\n",
       "        ...,\n",
       "        [0.59417546, 0.26660129, 0.13922325],\n",
       "        [0.59417546, 0.26660129, 0.13922325],\n",
       "        [0.2456734 , 0.35595455, 0.39837204]]),\n",
       " array([[0.58743916, 0.36680887, 0.04575197],\n",
       "        [0.26176477, 0.46914589, 0.26908935],\n",
       "        [0.42034592, 0.41841989, 0.16123419],\n",
       "        ...,\n",
       "        [0.44583724, 0.4002748 , 0.15388796],\n",
       "        [0.33743781, 0.46516733, 0.19739485],\n",
       "        [0.37973546, 0.43714022, 0.18312432]]),\n",
       " array([[0.01124396, 0.03802022, 0.9507358 ],\n",
       "        [0.01317577, 0.08111973, 0.9057045 ],\n",
       "        [0.09816287, 0.61169213, 0.290145  ],\n",
       "        ...,\n",
       "        [0.7905778 , 0.19034562, 0.01907654],\n",
       "        [0.6309849 , 0.3189399 , 0.05007517],\n",
       "        [0.46196598, 0.51135814, 0.02667585]], dtype=float32),\n",
       " array([[0.0193463 , 0.15183   , 0.82882375],\n",
       "        [0.01294885, 0.07089495, 0.9161562 ],\n",
       "        [0.04462516, 0.34329405, 0.6120808 ],\n",
       "        ...,\n",
       "        [0.8152374 , 0.16818033, 0.01658228],\n",
       "        [0.7489121 , 0.2326774 , 0.01841049],\n",
       "        [0.33382413, 0.57847494, 0.08770093]], dtype=float32),\n",
       " array([[0.01917743, 0.13219526, 0.8486273 ],\n",
       "        [0.01356736, 0.07432587, 0.9121068 ],\n",
       "        [0.04573672, 0.33681166, 0.61745167],\n",
       "        ...,\n",
       "        [0.82594955, 0.1525297 , 0.02152069],\n",
       "        [0.7078773 , 0.27066043, 0.02146227],\n",
       "        [0.3399611 , 0.58403414, 0.07600473]], dtype=float32),\n",
       " array([[0.01937554, 0.14361537, 0.8370091 ],\n",
       "        [0.01349419, 0.08067098, 0.9058348 ],\n",
       "        [0.0449811 , 0.31990737, 0.6351115 ],\n",
       "        ...,\n",
       "        [0.81096137, 0.17178854, 0.01725003],\n",
       "        [0.817307  , 0.1660568 , 0.01663614],\n",
       "        [0.37634033, 0.55813336, 0.06552628]], dtype=float32),\n",
       " array([[0.0188632 , 0.14514598, 0.83599085],\n",
       "        [0.01266729, 0.08084749, 0.90648526],\n",
       "        [0.04943361, 0.33213574, 0.6184307 ],\n",
       "        ...,\n",
       "        [0.83616143, 0.14733976, 0.0164988 ],\n",
       "        [0.7872051 , 0.19357105, 0.01922386],\n",
       "        [0.35859454, 0.5672738 , 0.07413166]], dtype=float32),\n",
       " array([[0.02089467, 0.13550982, 0.8435955 ],\n",
       "        [0.01323913, 0.08008473, 0.9066762 ],\n",
       "        [0.04967475, 0.31190446, 0.6384208 ],\n",
       "        ...,\n",
       "        [0.81780684, 0.16370864, 0.01848453],\n",
       "        [0.74666065, 0.22840811, 0.02493124],\n",
       "        [0.35410583, 0.5746215 , 0.07127264]], dtype=float32),\n",
       " array([[0.01983222, 0.14107697, 0.8390908 ],\n",
       "        [0.01685367, 0.2840974 , 0.69904894],\n",
       "        [0.04755499, 0.3413118 , 0.6111332 ],\n",
       "        ...,\n",
       "        [0.8055925 , 0.1707986 , 0.02360893],\n",
       "        [0.7314541 , 0.23991843, 0.02862752],\n",
       "        [0.41112524, 0.5278805 , 0.06099426]], dtype=float32),\n",
       " array([[0.02108259, 0.12420813, 0.85470927],\n",
       "        [0.0134648 , 0.07029611, 0.91623914],\n",
       "        [0.04865715, 0.30559444, 0.64574844],\n",
       "        ...,\n",
       "        [0.7730915 , 0.20369413, 0.02321432],\n",
       "        [0.7028669 , 0.26956162, 0.0275714 ],\n",
       "        [0.370073  , 0.5640688 , 0.0658582 ]], dtype=float32),\n",
       " array([[0.02085587, 0.13553956, 0.84360456],\n",
       "        [0.0138625 , 0.07263312, 0.9135044 ],\n",
       "        [0.04598211, 0.36663303, 0.5873848 ],\n",
       "        ...,\n",
       "        [0.78199506, 0.19590186, 0.0221031 ],\n",
       "        [0.6945224 , 0.2748538 , 0.03062381],\n",
       "        [0.39217755, 0.5412207 , 0.06660175]], dtype=float32),\n",
       " array([[0.02146248, 0.14205894, 0.8364786 ],\n",
       "        [0.01377164, 0.07719795, 0.9090304 ],\n",
       "        [0.04879851, 0.32560018, 0.6256013 ],\n",
       "        ...,\n",
       "        [0.8546421 , 0.12833206, 0.01702581],\n",
       "        [0.78979063, 0.19055887, 0.01965048],\n",
       "        [0.35656077, 0.5730536 , 0.07038566]], dtype=float32),\n",
       " array([[0.03602483, 0.1694007 , 0.7945745 ],\n",
       "        [0.01317341, 0.07757022, 0.90925634],\n",
       "        [0.04176894, 0.3229276 , 0.6353035 ],\n",
       "        ...,\n",
       "        [0.77870977, 0.20307568, 0.01821457],\n",
       "        [0.63754606, 0.32685235, 0.03560155],\n",
       "        [0.38813734, 0.5460949 , 0.06576782]], dtype=float32),\n",
       " array([[0.00808322, 0.01590529, 0.9760115 ],\n",
       "        [0.07888948, 0.29981896, 0.6212916 ],\n",
       "        [0.23124024, 0.55206925, 0.21669056],\n",
       "        ...,\n",
       "        [0.6711448 , 0.310192  , 0.01866324],\n",
       "        [0.48476565, 0.41417506, 0.10105925],\n",
       "        [0.47419092, 0.47089544, 0.05491363]], dtype=float32),\n",
       " array([[0.00802439, 0.01570835, 0.9762673 ],\n",
       "        [0.08219324, 0.27987316, 0.6379336 ],\n",
       "        [0.27979404, 0.58419466, 0.13601126],\n",
       "        ...,\n",
       "        [0.69678324, 0.28521863, 0.01799818],\n",
       "        [0.47694144, 0.4265559 , 0.09650269],\n",
       "        [0.50677246, 0.4393393 , 0.05388822]], dtype=float32),\n",
       " array([[0.0085343 , 0.01663252, 0.9748332 ],\n",
       "        [0.06055377, 0.27491838, 0.66452783],\n",
       "        [0.25250483, 0.54457694, 0.20291825],\n",
       "        ...,\n",
       "        [0.6388859 , 0.3437291 , 0.01738496],\n",
       "        [0.6355339 , 0.28004643, 0.08441963],\n",
       "        [0.5658861 , 0.40033615, 0.03377777]], dtype=float32),\n",
       " array([[0.00779919, 0.0158767 , 0.9763241 ],\n",
       "        [0.07386757, 0.26396108, 0.66217136],\n",
       "        [0.30937213, 0.54617107, 0.14445676],\n",
       "        ...,\n",
       "        [0.6944071 , 0.27428025, 0.03131266],\n",
       "        [0.5277067 , 0.33422652, 0.13806681],\n",
       "        [0.6019848 , 0.37090707, 0.02710808]], dtype=float32),\n",
       " array([[0.00740512, 0.0148419 , 0.9777529 ],\n",
       "        [0.07811274, 0.2739587 , 0.64792854],\n",
       "        [0.3224589 , 0.54459095, 0.13295017],\n",
       "        ...,\n",
       "        [0.64646184, 0.32366997, 0.0298682 ],\n",
       "        [0.44182605, 0.4083035 , 0.14987053],\n",
       "        [0.53213966, 0.42050177, 0.04735856]], dtype=float32),\n",
       " array([[0.00753088, 0.01261236, 0.9798568 ],\n",
       "        [0.05872644, 0.41977817, 0.5214954 ],\n",
       "        [0.29333112, 0.5684904 , 0.13817847],\n",
       "        ...,\n",
       "        [0.6815172 , 0.29132313, 0.0271597 ],\n",
       "        [0.48621422, 0.3827507 , 0.13103509],\n",
       "        [0.65339565, 0.3122352 , 0.03436913]], dtype=float32),\n",
       " array([[0.00751258, 0.01262684, 0.9798606 ],\n",
       "        [0.09515171, 0.284561  , 0.62028724],\n",
       "        [0.43679327, 0.45459485, 0.10861182],\n",
       "        ...,\n",
       "        [0.57063496, 0.38712147, 0.04224357],\n",
       "        [0.37925443, 0.43990245, 0.18084311],\n",
       "        [0.5912422 , 0.37221643, 0.03654138]], dtype=float32),\n",
       " array([[0.00734119, 0.01647954, 0.97617924],\n",
       "        [0.0927013 , 0.28571254, 0.62158614],\n",
       "        [0.38886696, 0.5040036 , 0.10712951],\n",
       "        ...,\n",
       "        [0.58868146, 0.37170136, 0.03961723],\n",
       "        [0.3514979 , 0.46826825, 0.18023393],\n",
       "        [0.6236233 , 0.337482  , 0.03889465]], dtype=float32),\n",
       " array([[0.00769371, 0.01637644, 0.97592986],\n",
       "        [0.07607473, 0.26187807, 0.6620472 ],\n",
       "        [0.32177654, 0.55008775, 0.12813574],\n",
       "        ...,\n",
       "        [0.72496426, 0.24810089, 0.02693488],\n",
       "        [0.5615008 , 0.33855772, 0.09994151],\n",
       "        [0.53104204, 0.423081  , 0.04587694]], dtype=float32),\n",
       " array([[0.00842476, 0.01450774, 0.9770675 ],\n",
       "        [0.08059087, 0.32439816, 0.595011  ],\n",
       "        [0.3939928 , 0.49239883, 0.11360838],\n",
       "        ...,\n",
       "        [0.61128676, 0.3630866 , 0.02562661],\n",
       "        [0.30501854, 0.4856036 , 0.20937783],\n",
       "        [0.5779834 , 0.38772744, 0.0342892 ]], dtype=float32),\n",
       " array([[0.1527049 , 0.35609815, 0.49119693],\n",
       "        [0.20329598, 0.36565113, 0.4310529 ],\n",
       "        [0.10563388, 0.29889402, 0.5954721 ],\n",
       "        ...,\n",
       "        [0.66431415, 0.27220815, 0.0634777 ],\n",
       "        [0.5612342 , 0.33854336, 0.10022248],\n",
       "        [0.15740213, 0.31097364, 0.5316242 ]], dtype=float32),\n",
       " array([[0.09403871, 0.2985927 , 0.60736865],\n",
       "        [0.1201804 , 0.29128373, 0.5885359 ],\n",
       "        [0.11920667, 0.28618225, 0.59461105],\n",
       "        ...,\n",
       "        [0.6123958 , 0.32139722, 0.06620697],\n",
       "        [0.7618111 , 0.18817265, 0.0500163 ],\n",
       "        [0.22211817, 0.4109053 , 0.36697656]], dtype=float32),\n",
       " array([[0.1483245 , 0.29829898, 0.5533765 ],\n",
       "        [0.17909834, 0.38835898, 0.4325427 ],\n",
       "        [0.1064425 , 0.36429006, 0.52926743],\n",
       "        ...,\n",
       "        [0.66575426, 0.24010728, 0.09413845],\n",
       "        [0.70738554, 0.23687884, 0.05573565],\n",
       "        [0.19072762, 0.33635807, 0.4729143 ]], dtype=float32),\n",
       " array([[0.14526658, 0.31607404, 0.5386594 ],\n",
       "        [0.17309403, 0.36444122, 0.46246478],\n",
       "        [0.09895019, 0.32565793, 0.5753919 ],\n",
       "        ...,\n",
       "        [0.61210597, 0.28093547, 0.1069586 ],\n",
       "        [0.6012994 , 0.2897198 , 0.10898082],\n",
       "        [0.1835083 , 0.3230409 , 0.4934508 ]], dtype=float32),\n",
       " array([[0.1448438 , 0.34119517, 0.513961  ],\n",
       "        [0.17193048, 0.62806207, 0.20000747],\n",
       "        [0.09677762, 0.3205486 , 0.5826738 ],\n",
       "        ...,\n",
       "        [0.60636336, 0.28127223, 0.11236441],\n",
       "        [0.5865376 , 0.29543865, 0.11802371],\n",
       "        [0.18883024, 0.33451882, 0.47665095]], dtype=float32),\n",
       " array([[0.14685418, 0.31413698, 0.53900886],\n",
       "        [0.19279078, 0.32977006, 0.47743922],\n",
       "        [0.09926049, 0.31498784, 0.58575165],\n",
       "        ...,\n",
       "        [0.5619721 , 0.31680304, 0.1212249 ],\n",
       "        [0.57111156, 0.31082854, 0.11805987],\n",
       "        [0.17858472, 0.3534237 , 0.46799153]], dtype=float32),\n",
       " array([[0.14669146, 0.331552  , 0.52175653],\n",
       "        [0.19123328, 0.34612727, 0.46263948],\n",
       "        [0.09744359, 0.37004662, 0.5325098 ],\n",
       "        ...,\n",
       "        [0.5634455 , 0.31960422, 0.1169503 ],\n",
       "        [0.5474963 , 0.3325768 , 0.11992684],\n",
       "        [0.19123328, 0.34612727, 0.46263948]], dtype=float32),\n",
       " array([[0.14238122, 0.33312434, 0.52449447],\n",
       "        [0.17788002, 0.34776157, 0.4743584 ],\n",
       "        [0.10326258, 0.33120528, 0.5655321 ],\n",
       "        ...,\n",
       "        [0.7046909 , 0.22734481, 0.0679643 ],\n",
       "        [0.6621331 , 0.26164398, 0.07622293],\n",
       "        [0.17788002, 0.34776157, 0.4743584 ]], dtype=float32),\n",
       " array([[0.2591498 , 0.43119428, 0.3096559 ],\n",
       "        [0.14223903, 0.34833202, 0.5094289 ],\n",
       "        [0.10409065, 0.35137504, 0.5445343 ],\n",
       "        ...,\n",
       "        [0.6458158 , 0.29777   , 0.05641422],\n",
       "        [0.41924796, 0.38039446, 0.20035765],\n",
       "        [0.17233497, 0.35040376, 0.4772613 ]], dtype=float32),\n",
       " array([[0.11504104, 0.27117977, 0.6137792 ],\n",
       "        [0.13153489, 0.2993584 , 0.5691067 ],\n",
       "        [0.116606  , 0.2630761 , 0.6203179 ],\n",
       "        ...,\n",
       "        [0.61302644, 0.3265475 , 0.06042606],\n",
       "        [0.73151547, 0.2104442 , 0.05804032],\n",
       "        [0.22903883, 0.3686957 , 0.40226546]], dtype=float32),\n",
       " array([[0.25110927, 0.364903  , 0.38398775],\n",
       "        [0.23507288, 0.40851933, 0.35640782],\n",
       "        [0.19110817, 0.3420209 , 0.46687093],\n",
       "        ...,\n",
       "        [0.6538667 , 0.26226875, 0.08386459],\n",
       "        [0.67649245, 0.26808104, 0.05542644],\n",
       "        [0.2080967 , 0.31679055, 0.4751127 ]], dtype=float32),\n",
       " array([[0.22438647, 0.35152   , 0.4240935 ],\n",
       "        [0.23283459, 0.39519626, 0.3719692 ],\n",
       "        [0.16997337, 0.3010143 , 0.5290123 ],\n",
       "        ...,\n",
       "        [0.66618514, 0.26294202, 0.07087281],\n",
       "        [0.5471069 , 0.32215953, 0.13073353],\n",
       "        [0.19997558, 0.29464406, 0.50538033]], dtype=float32),\n",
       " array([[0.23557346, 0.36911517, 0.3953114 ],\n",
       "        [0.21500711, 0.5870377 , 0.19795515],\n",
       "        [0.17073072, 0.32938302, 0.4998863 ],\n",
       "        ...,\n",
       "        [0.66342247, 0.26403984, 0.07253772],\n",
       "        [0.5484014 , 0.31886178, 0.13273679],\n",
       "        [0.20514475, 0.30792144, 0.4869338 ]], dtype=float32),\n",
       " array([[0.25639236, 0.34139323, 0.4022144 ],\n",
       "        [0.27797893, 0.34837666, 0.37364438],\n",
       "        [0.18406095, 0.31595296, 0.4999861 ],\n",
       "        ...,\n",
       "        [0.61375856, 0.3051396 , 0.0811018 ],\n",
       "        [0.4814796 , 0.35920474, 0.15931562],\n",
       "        [0.1964071 , 0.34553772, 0.45805523]], dtype=float32),\n",
       " array([[0.26257902, 0.3531114 , 0.38430965],\n",
       "        [0.2758194 , 0.3642604 , 0.35992017],\n",
       "        [0.17824942, 0.36712015, 0.4546305 ],\n",
       "        ...,\n",
       "        [0.6279147 , 0.29569894, 0.07638632],\n",
       "        [0.47836822, 0.36763036, 0.15400141],\n",
       "        [0.20742418, 0.31701168, 0.4755641 ]], dtype=float32),\n",
       " array([[0.23268366, 0.36338428, 0.403932  ],\n",
       "        [0.2347281 , 0.38328016, 0.38199177],\n",
       "        [0.16909619, 0.3513877 , 0.47951612],\n",
       "        ...,\n",
       "        [0.70040536, 0.23699546, 0.06259915],\n",
       "        [0.64404976, 0.2699873 , 0.08596297],\n",
       "        [0.19010921, 0.3174785 , 0.4924123 ]], dtype=float32),\n",
       " array([[0.49410462, 0.39757416, 0.10832122],\n",
       "        [0.19145758, 0.37919834, 0.4293441 ],\n",
       "        [0.19524197, 0.3358819 , 0.4688761 ],\n",
       "        ...,\n",
       "        [0.6593049 , 0.26328215, 0.0774129 ],\n",
       "        [0.3872134 , 0.40567484, 0.20711167],\n",
       "        [0.17734994, 0.34960705, 0.47304302]], dtype=float32),\n",
       " array([[0.10153253, 0.2652452 , 0.6332223 ],\n",
       "        [0.11945387, 0.33097225, 0.54957384],\n",
       "        [0.1452169 , 0.32128868, 0.5334945 ],\n",
       "        ...,\n",
       "        [0.5837506 , 0.32906106, 0.08718833],\n",
       "        [0.7943817 , 0.16622873, 0.0393896 ],\n",
       "        [0.33335882, 0.38232875, 0.2843125 ]], dtype=float32),\n",
       " array([[0.10240639, 0.28975582, 0.6078378 ],\n",
       "        [0.12170582, 0.30627963, 0.5720146 ],\n",
       "        [0.13917166, 0.28830796, 0.5725203 ],\n",
       "        ...,\n",
       "        [0.57336   , 0.35184157, 0.07479838],\n",
       "        [0.775259  , 0.17219087, 0.05255014],\n",
       "        [0.33247802, 0.39007148, 0.27745053]], dtype=float32),\n",
       " array([[0.0983097 , 0.29852134, 0.60316896],\n",
       "        [0.17701629, 0.5605569 , 0.26242682],\n",
       "        [0.13839047, 0.28912672, 0.57248276],\n",
       "        ...,\n",
       "        [0.55997163, 0.3495241 , 0.0905043 ],\n",
       "        [0.7721406 , 0.17354795, 0.05431149],\n",
       "        [0.33521008, 0.3579563 , 0.30683362]], dtype=float32),\n",
       " array([[0.10002478, 0.25942254, 0.6405527 ],\n",
       "        [0.12448083, 0.2877729 , 0.5877463 ],\n",
       "        [0.13649213, 0.2838249 , 0.57968295],\n",
       "        ...,\n",
       "        [0.5571218 , 0.36282486, 0.08005331],\n",
       "        [0.7808091 , 0.1652787 , 0.05391216],\n",
       "        [0.319756  , 0.3837416 , 0.2965024 ]], dtype=float32),\n",
       " array([[0.1040634 , 0.28135976, 0.6145768 ],\n",
       "        [0.12681481, 0.29610908, 0.57707614],\n",
       "        [0.14329192, 0.29101092, 0.5656972 ],\n",
       "        ...,\n",
       "        [0.55536425, 0.36467656, 0.07995918],\n",
       "        [0.77720237, 0.17461376, 0.04818383],\n",
       "        [0.33293957, 0.37497088, 0.29208952]], dtype=float32),\n",
       " array([[0.09961898, 0.28398028, 0.6164008 ],\n",
       "        [0.12522626, 0.29687148, 0.57790226],\n",
       "        [0.13830407, 0.2924333 , 0.5692627 ],\n",
       "        ...,\n",
       "        [0.60866815, 0.31340116, 0.07793066],\n",
       "        [0.7807092 , 0.1718259 , 0.04746489],\n",
       "        [0.3204542 , 0.41308424, 0.26646155]], dtype=float32),\n",
       " array([[0.22135712, 0.43649188, 0.34215102],\n",
       "        [0.10437113, 0.27250192, 0.623127  ],\n",
       "        [0.15538092, 0.30990353, 0.53471553],\n",
       "        ...,\n",
       "        [0.613699  , 0.33707553, 0.04922545],\n",
       "        [0.65956527, 0.24832918, 0.09210563],\n",
       "        [0.28971833, 0.37985393, 0.3304277 ]], dtype=float32),\n",
       " array([[0.25412086, 0.33346266, 0.4124165 ],\n",
       "        [0.16963634, 0.37921172, 0.45115197],\n",
       "        [0.27644947, 0.41280007, 0.31075042],\n",
       "        ...,\n",
       "        [0.55169314, 0.25424716, 0.19405971],\n",
       "        [0.61351365, 0.2470417 , 0.13944468],\n",
       "        [0.29598373, 0.39455894, 0.30945733]], dtype=float32),\n",
       " array([[0.2691667 , 0.3499349 , 0.3808984 ],\n",
       "        [0.23248883, 0.61493707, 0.15257412],\n",
       "        [0.25054318, 0.42677355, 0.32268327],\n",
       "        ...,\n",
       "        [0.5316064 , 0.26256633, 0.20582727],\n",
       "        [0.70739335, 0.22446188, 0.06814477],\n",
       "        [0.3771652 , 0.35895607, 0.26387873]], dtype=float32),\n",
       " array([[0.28317267, 0.32428735, 0.39254   ],\n",
       "        [0.2064569 , 0.3475104 , 0.44603267],\n",
       "        [0.28467783, 0.4040273 , 0.31129488],\n",
       "        ...,\n",
       "        [0.45881066, 0.27258742, 0.26860195],\n",
       "        [0.6348299 , 0.2100791 , 0.15509097],\n",
       "        [0.31567863, 0.38208875, 0.30223265]], dtype=float32),\n",
       " array([[0.28848428, 0.36067754, 0.35083818],\n",
       "        [0.22171068, 0.36186853, 0.41642076],\n",
       "        [0.25179258, 0.3821559 , 0.36605152],\n",
       "        ...,\n",
       "        [0.49623907, 0.26325753, 0.24050345],\n",
       "        [0.59200186, 0.23560868, 0.1723895 ],\n",
       "        [0.34729266, 0.3911917 , 0.2615157 ]], dtype=float32),\n",
       " array([[0.2683912 , 0.34702778, 0.384581  ],\n",
       "        [0.22377363, 0.3552765 , 0.42094985],\n",
       "        [0.2883819 , 0.4205447 , 0.2910734 ],\n",
       "        ...,\n",
       "        [0.6028834 , 0.25545853, 0.14165807],\n",
       "        [0.60233164, 0.2076888 , 0.18997957],\n",
       "        [0.2922064 , 0.37782064, 0.32997292]], dtype=float32),\n",
       " array([[0.5315063 , 0.36410093, 0.10439274],\n",
       "        [0.14289539, 0.3974219 , 0.45968276],\n",
       "        [0.25774258, 0.38149813, 0.36075926],\n",
       "        ...,\n",
       "        [0.54660475, 0.2621559 , 0.19123931],\n",
       "        [0.482415  , 0.2841627 , 0.23342228],\n",
       "        [0.27462545, 0.35953432, 0.36584023]], dtype=float32),\n",
       " array([[0.21930245, 0.34050748, 0.44019002],\n",
       "        [0.29088283, 0.6231969 , 0.08592027],\n",
       "        [0.19474092, 0.3232522 , 0.48200697],\n",
       "        ...,\n",
       "        [0.48784348, 0.2758423 , 0.23631424],\n",
       "        [0.48784348, 0.2758423 , 0.23631424],\n",
       "        [0.25267088, 0.28397223, 0.4633569 ]], dtype=float32),\n",
       " array([[0.21910101, 0.29779553, 0.48310348],\n",
       "        [0.2412219 , 0.34932646, 0.4094516 ],\n",
       "        [0.22977938, 0.30911642, 0.46110415],\n",
       "        ...,\n",
       "        [0.40990478, 0.30378637, 0.28630888],\n",
       "        [0.48508292, 0.2884735 , 0.22644362],\n",
       "        [0.22907442, 0.35700548, 0.41392007]], dtype=float32),\n",
       " array([[0.24262708, 0.32358295, 0.43378997],\n",
       "        [0.25338063, 0.38168332, 0.36493602],\n",
       "        [0.19583523, 0.3646972 , 0.4394676 ],\n",
       "        ...,\n",
       "        [0.4498604 , 0.2994969 , 0.2506427 ],\n",
       "        [0.4498604 , 0.2994969 , 0.2506427 ],\n",
       "        [0.24262708, 0.32358295, 0.43378997]], dtype=float32),\n",
       " array([[0.2296172 , 0.33057064, 0.43981218],\n",
       "        [0.23504029, 0.38057312, 0.3843866 ],\n",
       "        [0.2296172 , 0.33057064, 0.43981218],\n",
       "        ...,\n",
       "        [0.5899926 , 0.2644951 , 0.14551227],\n",
       "        [0.5899926 , 0.2644951 , 0.14551227],\n",
       "        [0.2296172 , 0.33057064, 0.43981218]], dtype=float32),\n",
       " array([[0.43947518, 0.41182196, 0.1487029 ],\n",
       "        [0.17789467, 0.3941931 , 0.42791227],\n",
       "        [0.24033964, 0.34111893, 0.41854146],\n",
       "        ...,\n",
       "        [0.49508095, 0.30248255, 0.20243658],\n",
       "        [0.34100318, 0.3549718 , 0.30402508],\n",
       "        [0.2519417 , 0.34426668, 0.40379164]], dtype=float32),\n",
       " array([[0.24191101, 0.33783922, 0.42024973],\n",
       "        [0.34470496, 0.58140033, 0.07389466],\n",
       "        [0.23214023, 0.31772763, 0.45013222],\n",
       "        ...,\n",
       "        [0.44873455, 0.28535563, 0.2659098 ],\n",
       "        [0.46523744, 0.2777959 , 0.25696662],\n",
       "        [0.32821956, 0.33575916, 0.3360212 ]], dtype=float32),\n",
       " array([[0.27264825, 0.35930103, 0.3680507 ],\n",
       "        [0.318437  , 0.6142269 , 0.06733611],\n",
       "        [0.18721832, 0.34915543, 0.46362627],\n",
       "        ...,\n",
       "        [0.44294816, 0.28784326, 0.2692086 ],\n",
       "        [0.44294816, 0.28784326, 0.2692086 ],\n",
       "        [0.3535292 , 0.3105584 , 0.3359124 ]], dtype=float32),\n",
       " array([[0.23030011, 0.36696848, 0.4027314 ],\n",
       "        [0.29583818, 0.61322963, 0.09093219],\n",
       "        [0.20132387, 0.34895027, 0.4497258 ],\n",
       "        ...,\n",
       "        [0.57794434, 0.26328018, 0.1587755 ],\n",
       "        [0.57794434, 0.26328018, 0.1587755 ],\n",
       "        [0.27519473, 0.33469397, 0.39011127]], dtype=float32),\n",
       " array([[0.48085153, 0.39934763, 0.11980087],\n",
       "        [0.18916824, 0.5868315 , 0.22400026],\n",
       "        [0.25796878, 0.3623348 , 0.3796964 ],\n",
       "        ...,\n",
       "        [0.52789277, 0.2727598 , 0.19934742],\n",
       "        [0.3523403 , 0.334933  , 0.31272674],\n",
       "        [0.2894017 , 0.32597545, 0.38462287]], dtype=float32),\n",
       " array([[0.3018335 , 0.31293193, 0.3852345 ],\n",
       "        [0.35938138, 0.3031997 , 0.3374189 ],\n",
       "        [0.33914015, 0.34686923, 0.31399065],\n",
       "        ...,\n",
       "        [0.3018335 , 0.31293193, 0.3852345 ],\n",
       "        [0.35938138, 0.3031997 , 0.3374189 ],\n",
       "        [0.29912406, 0.34687844, 0.3539975 ]], dtype=float32),\n",
       " array([[0.23377712, 0.3250734 , 0.4411494 ],\n",
       "        [0.24166183, 0.33532274, 0.42301536],\n",
       "        [0.24166183, 0.33532274, 0.42301536],\n",
       "        ...,\n",
       "        [0.605793  , 0.256181  , 0.138026  ],\n",
       "        [0.59219974, 0.2526394 , 0.15516081],\n",
       "        [0.2370343 , 0.36608583, 0.3968799 ]], dtype=float32),\n",
       " array([[0.5450228 , 0.3308908 , 0.12408645],\n",
       "        [0.21520682, 0.3495886 , 0.4352046 ],\n",
       "        [0.33655053, 0.32152703, 0.34192243],\n",
       "        ...,\n",
       "        [0.3824701 , 0.34924224, 0.2682877 ],\n",
       "        [0.27961245, 0.34986088, 0.37052664],\n",
       "        [0.27173507, 0.35493794, 0.373327  ]], dtype=float32),\n",
       " array([[0.2550427 , 0.3516949 , 0.39326233],\n",
       "        [0.2550427 , 0.3516949 , 0.39326233],\n",
       "        [0.20835237, 0.37262315, 0.4190245 ],\n",
       "        ...,\n",
       "        [0.5925166 , 0.25538117, 0.15210229],\n",
       "        [0.5925166 , 0.25538117, 0.15210229],\n",
       "        [0.2550427 , 0.3516949 , 0.39326233]], dtype=float32),\n",
       " array([[0.56519943, 0.33038148, 0.10441907],\n",
       "        [0.21727142, 0.3544731 , 0.42825547],\n",
       "        [0.34492832, 0.33521008, 0.31986156],\n",
       "        ...,\n",
       "        [0.38894588, 0.3471207 , 0.26393342],\n",
       "        [0.2768065 , 0.38360566, 0.3395878 ],\n",
       "        [0.28704247, 0.32349834, 0.38945922]], dtype=float32),\n",
       " array([[0.44395167, 0.406614  , 0.14943431],\n",
       "        [0.18471494, 0.34565803, 0.469627  ],\n",
       "        [0.26832965, 0.37725902, 0.35441133],\n",
       "        ...,\n",
       "        [0.6761404 , 0.23224069, 0.09161883],\n",
       "        [0.5163781 , 0.2890521 , 0.19456977],\n",
       "        [0.22679156, 0.37836897, 0.3948395 ]], dtype=float32),\n",
       " array([[0.02103288, 0.13938273, 0.8395844 ],\n",
       "        [0.01352739, 0.07685364, 0.909619  ],\n",
       "        [0.04839262, 0.33447906, 0.61712825],\n",
       "        ...,\n",
       "        [0.77906483, 0.19879632, 0.02213884],\n",
       "        [0.6906724 , 0.27893725, 0.03039035],\n",
       "        [0.3848382 , 0.55024546, 0.06491634]], dtype=float32),\n",
       " array([[0.00726867, 0.01659486, 0.97613645],\n",
       "        [0.09439529, 0.28096467, 0.62464   ],\n",
       "        [0.4021826 , 0.4867734 , 0.11104395],\n",
       "        ...,\n",
       "        [0.5859894 , 0.37496898, 0.03904163],\n",
       "        [0.34625646, 0.4676954 , 0.1860481 ],\n",
       "        [0.6222804 , 0.33949608, 0.03822346]], dtype=float32),\n",
       " array([[0.1437456 , 0.34450287, 0.51175153],\n",
       "        [0.18965507, 0.34905982, 0.46128505],\n",
       "        [0.10478839, 0.33193168, 0.56328   ],\n",
       "        ...,\n",
       "        [0.56168324, 0.3228119 , 0.11550489],\n",
       "        [0.54542494, 0.33684558, 0.11772951],\n",
       "        [0.18965507, 0.34905982, 0.46128505]], dtype=float32),\n",
       " array([[0.2594092 , 0.35865968, 0.3819311 ],\n",
       "        [0.27352935, 0.36984727, 0.3566234 ],\n",
       "        [0.18887807, 0.3374435 , 0.47367847],\n",
       "        ...,\n",
       "        [0.62564254, 0.29706097, 0.07729648],\n",
       "        [0.47378743, 0.37093067, 0.1552819 ],\n",
       "        [0.20740719, 0.31712744, 0.4754654 ]], dtype=float32),\n",
       " array([[0.10224952, 0.28216404, 0.61558646],\n",
       "        [0.12716603, 0.29557317, 0.5772608 ],\n",
       "        [0.14328842, 0.29011354, 0.56659806],\n",
       "        ...,\n",
       "        [0.5514607 , 0.37152144, 0.07701788],\n",
       "        [0.77960956, 0.1729665 , 0.04742399],\n",
       "        [0.32594162, 0.37480003, 0.29925835]], dtype=float32),\n",
       " array([[0.29875264, 0.3498101 , 0.35143727],\n",
       "        [0.23680758, 0.382245  , 0.38094738],\n",
       "        [0.28048557, 0.41381305, 0.30570132],\n",
       "        ...,\n",
       "        [0.4892092 , 0.26938164, 0.24140914],\n",
       "        [0.61492455, 0.24533728, 0.13973822],\n",
       "        [0.3415531 , 0.3913259 , 0.26712102]], dtype=float32),\n",
       " array([[0.23592839, 0.32945427, 0.4346173 ],\n",
       "        [0.24321778, 0.3790618 , 0.3777204 ],\n",
       "        [0.23592839, 0.32945427, 0.4346173 ],\n",
       "        ...,\n",
       "        [0.450882  , 0.30666226, 0.24245577],\n",
       "        [0.450882  , 0.30666226, 0.24245577],\n",
       "        [0.23592839, 0.32945427, 0.4346173 ]], dtype=float32),\n",
       " array([[0.2682564 , 0.3612595 , 0.3704841 ],\n",
       "        [0.33536574, 0.58499444, 0.07963983],\n",
       "        [0.22876263, 0.3477203 , 0.42351708],\n",
       "        ...,\n",
       "        [0.44774207, 0.29485783, 0.2574001 ],\n",
       "        [0.44774207, 0.29485783, 0.2574001 ],\n",
       "        [0.3446643 , 0.3153398 , 0.33999586]], dtype=float32),\n",
       " array([[0.2904206 , 0.31318128, 0.3963981 ],\n",
       "        [0.35666236, 0.31021097, 0.33312663],\n",
       "        [0.35666236, 0.31021097, 0.33312663],\n",
       "        ...,\n",
       "        [0.2904206 , 0.31318128, 0.3963981 ],\n",
       "        [0.35666236, 0.31021097, 0.33312663],\n",
       "        [0.29324487, 0.35272852, 0.35402665]], dtype=float32),\n",
       " array([[0.33850116, 0.3286001 , 0.33289868],\n",
       "        [0.33850116, 0.3286001 , 0.33289868],\n",
       "        [0.3038478 , 0.36039656, 0.3357556 ],\n",
       "        ...,\n",
       "        [0.33850116, 0.3286001 , 0.33289868],\n",
       "        [0.33850116, 0.3286001 , 0.33289868],\n",
       "        [0.33850116, 0.3286001 , 0.33289868]], dtype=float32),\n",
       " array([[0.24813338, 0.35479397, 0.39707264],\n",
       "        [0.24813338, 0.35479397, 0.39707264],\n",
       "        [0.24813338, 0.35479397, 0.39707264],\n",
       "        ...,\n",
       "        [0.59090006, 0.2650828 , 0.14401717],\n",
       "        [0.59090006, 0.2650828 , 0.14401717],\n",
       "        [0.24813338, 0.35479397, 0.39707264]], dtype=float32),\n",
       " array([[0.5597691 , 0.33285698, 0.10737395],\n",
       "        [0.20772702, 0.37912503, 0.41314796],\n",
       "        [0.33896184, 0.31809583, 0.34294236],\n",
       "        ...,\n",
       "        [0.3843647 , 0.34863007, 0.26700526],\n",
       "        [0.2711126 , 0.38661438, 0.34227303],\n",
       "        [0.28970897, 0.3216495 , 0.38864157]], dtype=float32)]"
      ]
     },
     "execution_count": 38,
     "metadata": {},
     "output_type": "execute_result"
    },
    {
     "data": {
      "application/javascript": [
       "\n",
       "            setTimeout(function() {\n",
       "                var nbb_cell_id = 38;\n",
       "                var nbb_unformatted_code = \"ypredproba_all\";\n",
       "                var nbb_formatted_code = \"ypredproba_all\";\n",
       "                var nbb_cells = Jupyter.notebook.get_cells();\n",
       "                for (var i = 0; i < nbb_cells.length; ++i) {\n",
       "                    if (nbb_cells[i].input_prompt_number == nbb_cell_id) {\n",
       "                        if (nbb_cells[i].get_text() == nbb_unformatted_code) {\n",
       "                             nbb_cells[i].set_text(nbb_formatted_code);\n",
       "                        }\n",
       "                        break;\n",
       "                    }\n",
       "                }\n",
       "            }, 500);\n",
       "            "
      ],
      "text/plain": [
       "<IPython.core.display.Javascript object>"
      ]
     },
     "metadata": {},
     "output_type": "display_data"
    }
   ],
   "source": [
    "ypredproba_all"
   ]
  },
  {
   "cell_type": "code",
   "execution_count": 39,
   "metadata": {
    "scrolled": true
   },
   "outputs": [
    {
     "data": {
      "text/plain": [
       "[array([[0.68, 0.22, 0.01],\n",
       "        [0.28, 0.52, 0.04],\n",
       "        [0.02, 0.24, 0.94]]),\n",
       " array([[0.6 , 0.26, 0.  ],\n",
       "        [0.33, 0.47, 0.07],\n",
       "        [0.06, 0.25, 0.91]]),\n",
       " array([[0.65, 0.23, 0.  ],\n",
       "        [0.31, 0.47, 0.09],\n",
       "        [0.02, 0.29, 0.89]]),\n",
       " array([[0.68, 0.21, 0.  ],\n",
       "        [0.28, 0.49, 0.07],\n",
       "        [0.02, 0.28, 0.92]]),\n",
       " array([[0.69, 0.21, 0.  ],\n",
       "        [0.27, 0.51, 0.05],\n",
       "        [0.03, 0.27, 0.94]]),\n",
       " array([[0.7 , 0.2 , 0.  ],\n",
       "        [0.27, 0.54, 0.04],\n",
       "        [0.01, 0.24, 0.95]]),\n",
       " array([[0.69, 0.22, 0.  ],\n",
       "        [0.28, 0.53, 0.04],\n",
       "        [0.01, 0.23, 0.95]]),\n",
       " array([[0.69, 0.24, 0.  ],\n",
       "        [0.28, 0.52, 0.05],\n",
       "        [0.02, 0.22, 0.94]]),\n",
       " array([[0.69, 0.23, 0.  ],\n",
       "        [0.28, 0.53, 0.05],\n",
       "        [0.01, 0.22, 0.94]]),\n",
       " array([[0.72, 0.2 , 0.  ],\n",
       "        [0.25, 0.55, 0.03],\n",
       "        [0.01, 0.24, 0.96]]),\n",
       " array([[0.68, 0.21, 0.  ],\n",
       "        [0.29, 0.51, 0.06],\n",
       "        [0.02, 0.26, 0.92]]),\n",
       " array([[0.56, 0.29, 0.04],\n",
       "        [0.39, 0.44, 0.07],\n",
       "        [0.03, 0.26, 0.88]]),\n",
       " array([[0.6 , 0.26, 0.  ],\n",
       "        [0.35, 0.43, 0.08],\n",
       "        [0.04, 0.3 , 0.9 ]]),\n",
       " array([[0.55, 0.29, 0.01],\n",
       "        [0.35, 0.45, 0.08],\n",
       "        [0.08, 0.25, 0.89]]),\n",
       " array([[0.63, 0.23, 0.02],\n",
       "        [0.31, 0.48, 0.1 ],\n",
       "        [0.05, 0.27, 0.87]]),\n",
       " array([[0.62, 0.24, 0.  ],\n",
       "        [0.34, 0.46, 0.08],\n",
       "        [0.02, 0.29, 0.91]]),\n",
       " array([[0.63, 0.22, 0.  ],\n",
       "        [0.34, 0.46, 0.08],\n",
       "        [0.02, 0.3 , 0.91]]),\n",
       " array([[0.61, 0.25, 0.  ],\n",
       "        [0.35, 0.44, 0.09],\n",
       "        [0.03, 0.29, 0.9 ]]),\n",
       " array([[0.59, 0.24, 0.  ],\n",
       "        [0.37, 0.44, 0.06],\n",
       "        [0.02, 0.31, 0.93]]),\n",
       " array([[0.67, 0.22, 0.  ],\n",
       "        [0.3 , 0.5 , 0.06],\n",
       "        [0.01, 0.27, 0.93]]),\n",
       " array([[0.6 , 0.27, 0.  ],\n",
       "        [0.36, 0.42, 0.07],\n",
       "        [0.03, 0.29, 0.91]]),\n",
       " array([[0.41, 0.27, 0.15],\n",
       "        [0.35, 0.32, 0.28],\n",
       "        [0.23, 0.4 , 0.56]]),\n",
       " array([[0.47, 0.24, 0.16],\n",
       "        [0.32, 0.36, 0.25],\n",
       "        [0.19, 0.39, 0.58]]),\n",
       " array([[0.41, 0.27, 0.22],\n",
       "        [0.35, 0.32, 0.24],\n",
       "        [0.22, 0.39, 0.54]]),\n",
       " array([[0.48, 0.24, 0.11],\n",
       "        [0.33, 0.35, 0.16],\n",
       "        [0.17, 0.4 , 0.71]]),\n",
       " array([[0.43, 0.24, 0.22],\n",
       "        [0.36, 0.34, 0.15],\n",
       "        [0.2 , 0.41, 0.61]]),\n",
       " array([[0.47, 0.23, 0.12],\n",
       "        [0.32, 0.35, 0.24],\n",
       "        [0.2 , 0.4 , 0.63]]),\n",
       " array([[0.46, 0.24, 0.06],\n",
       "        [0.33, 0.34, 0.2 ],\n",
       "        [0.2 , 0.4 , 0.73]]),\n",
       " array([[0.49, 0.25, 0.12],\n",
       "        [0.34, 0.33, 0.22],\n",
       "        [0.15, 0.4 , 0.64]]),\n",
       " array([[0.43, 0.27, 0.22],\n",
       "        [0.35, 0.3 , 0.42],\n",
       "        [0.21, 0.42, 0.35]]),\n",
       " array([[0.48, 0.22, 0.15],\n",
       "        [0.33, 0.34, 0.25],\n",
       "        [0.18, 0.42, 0.59]]),\n",
       " array([[0.42, 0.26, 0.26],\n",
       "        [0.31, 0.36, 0.28],\n",
       "        [0.26, 0.36, 0.45]]),\n",
       " array([[0.49, 0.23, 0.13],\n",
       "        [0.33, 0.34, 0.18],\n",
       "        [0.16, 0.42, 0.68]]),\n",
       " array([[0.48, 0.22, 0.23],\n",
       "        [0.33, 0.32, 0.46],\n",
       "        [0.18, 0.45, 0.3 ]]),\n",
       " array([[0.52, 0.21, 0.16],\n",
       "        [0.31, 0.34, 0.3 ],\n",
       "        [0.15, 0.43, 0.53]]),\n",
       " array([[0.53, 0.21, 0.15],\n",
       "        [0.31, 0.35, 0.  ],\n",
       "        [0.14, 0.42, 0.84]]),\n",
       " array([[0.56, 0.2 , 0.11],\n",
       "        [0.31, 0.35, 0.  ],\n",
       "        [0.11, 0.43, 0.88]]),\n",
       " array([[0.5 , 0.22, 0.16],\n",
       "        [0.29, 0.36, 0.37],\n",
       "        [0.2 , 0.41, 0.45]]),\n",
       " array([[0.48, 0.22, 0.14],\n",
       "        [0.36, 0.31, 0.28],\n",
       "        [0.15, 0.45, 0.58]]),\n",
       " array([[0.56, 0.19, 0.15],\n",
       "        [0.33, 0.33, 0.23],\n",
       "        [0.1 , 0.46, 0.61]]),\n",
       " array([[0.51, 0.21, 0.08],\n",
       "        [0.32, 0.35, 0.18],\n",
       "        [0.15, 0.42, 0.72]]),\n",
       " array([[0.55, 0.22, 0.08],\n",
       "        [0.33, 0.34, 0.26],\n",
       "        [0.11, 0.43, 0.64]]),\n",
       " array([[0.6 , 0.21, 0.  ],\n",
       "        [0.29, 0.36, 0.17],\n",
       "        [0.1 , 0.42, 0.82]]),\n",
       " array([[0.57, 0.2 , 0.19],\n",
       "        [0.31, 0.35, 0.09],\n",
       "        [0.11, 0.43, 0.71]]),\n",
       " array([[0.5 , 0.22, 0.18],\n",
       "        [0.32, 0.34, 0.32],\n",
       "        [0.17, 0.43, 0.5 ]]),\n",
       " array([[0.49, 0.24, 0.25],\n",
       "        [0.28, 0.36, 0.16],\n",
       "        [0.21, 0.39, 0.58]]),\n",
       " array([[0.45, 0.25, 0.  ],\n",
       "        [0.28, 0.36, 0.4 ],\n",
       "        [0.26, 0.37, 0.6 ]]),\n",
       " array([[0.48, 0.24, 0.09],\n",
       "        [0.28, 0.36, 0.36],\n",
       "        [0.23, 0.39, 0.54]]),\n",
       " array([[0.46, 0.25, 0.33],\n",
       "        [0.28, 0.36, 0.33],\n",
       "        [0.24, 0.38, 0.33]]),\n",
       " array([[0.6 , 0.23, 0.33],\n",
       "        [0.25, 0.36, 0.33],\n",
       "        [0.14, 0.4 , 0.33]]),\n",
       " array([[0.47, 0.23, 0.19],\n",
       "        [0.3 , 0.35, 0.33],\n",
       "        [0.21, 0.4 , 0.47]]),\n",
       " array([[0.46, 0.23, 0.24],\n",
       "        [0.29, 0.39, 0.34],\n",
       "        [0.24, 0.37, 0.41]]),\n",
       " array([[0.44, 0.15, 0.25],\n",
       "        [0.3 , 0.47, 0.33],\n",
       "        [0.25, 0.37, 0.41]]),\n",
       " array([[0.44, 0.25, 0.22],\n",
       "        [0.3 , 0.36, 0.35],\n",
       "        [0.25, 0.37, 0.42]]),\n",
       " array([[ 6.10000000e-01, -9.22337204e+16,  2.30000000e-01],\n",
       "        [ 2.50000000e-01, -9.22337204e+16,  3.60000000e-01],\n",
       "        [ 1.30000000e-01, -9.22337204e+16,  4.00000000e-01]]),\n",
       " array([[0.49, 0.23, 0.16],\n",
       "        [0.28, 0.36, 0.5 ],\n",
       "        [0.21, 0.4 , 0.33]]),\n",
       " array([[0.45, 0.28, 0.21],\n",
       "        [0.28, 0.37, 0.35],\n",
       "        [0.26, 0.33, 0.43]]),\n",
       " array([[0.41, 0.22, 0.24],\n",
       "        [0.32, 0.41, 0.32],\n",
       "        [0.26, 0.36, 0.42]]),\n",
       " array([[0.61, 0.15, 0.23],\n",
       "        [0.25, 0.46, 0.35],\n",
       "        [0.13, 0.38, 0.4 ]]),\n",
       " array([[0.48, 0.22, 0.  ],\n",
       "        [0.28, 0.37, 0.2 ],\n",
       "        [0.22, 0.39, 0.8 ]]),\n",
       " array([[0.46, 0.25, 0.27],\n",
       "        [0.3 , 0.34, 0.35],\n",
       "        [0.23, 0.4 , 0.37]]),\n",
       " array([[0.61, 0.16, 0.24],\n",
       "        [0.25, 0.42, 0.34],\n",
       "        [0.13, 0.41, 0.4 ]]),\n",
       " array([[0.46, 0.24, 0.27],\n",
       "        [0.3 , 0.36, 0.  ],\n",
       "        [0.23, 0.39, 0.72]]),\n",
       " array([[ 6.10000000e-01, -9.22337204e+16,  2.30000000e-01],\n",
       "        [ 2.50000000e-01, -9.22337204e+16,  3.60000000e-01],\n",
       "        [ 1.30000000e-01, -9.22337204e+16,  4.00000000e-01]]),\n",
       " array([[ 4.40000000e-01,  2.30000000e-01, -9.22337204e+16],\n",
       "        [ 3.20000000e-01,  3.40000000e-01, -9.22337204e+16],\n",
       "        [ 2.20000000e-01,  4.20000000e-01, -9.22337204e+16]]),\n",
       " array([[ 5.90000000e-01,  2.00000000e-01, -9.22337204e+16],\n",
       "        [ 2.60000000e-01,  3.60000000e-01, -9.22337204e+16],\n",
       "        [ 1.30000000e-01,  4.30000000e-01, -9.22337204e+16]]),\n",
       " array([[0.69, 0.23, 0.  ],\n",
       "        [0.28, 0.53, 0.04],\n",
       "        [0.01, 0.23, 0.95]]),\n",
       " array([[0.58, 0.27, 0.  ],\n",
       "        [0.38, 0.42, 0.05],\n",
       "        [0.02, 0.29, 0.94]]),\n",
       " array([[0.46, 0.24, 0.11],\n",
       "        [0.34, 0.33, 0.19],\n",
       "        [0.18, 0.42, 0.69]]),\n",
       " array([[0.52, 0.22, 0.11],\n",
       "        [0.31, 0.35, 0.  ],\n",
       "        [0.15, 0.42, 0.88]]),\n",
       " array([[0.59, 0.2 , 0.09],\n",
       "        [0.31, 0.35, 0.09],\n",
       "        [0.08, 0.43, 0.81]]),\n",
       " array([[0.46, 0.24, 0.33],\n",
       "        [0.29, 0.35, 0.33],\n",
       "        [0.23, 0.39, 0.33]]),\n",
       " array([[0.44, 0.24, 0.22],\n",
       "        [0.3 , 0.37, 0.34],\n",
       "        [0.25, 0.37, 0.42]]),\n",
       " array([[0.39, 0.21, 0.24],\n",
       "        [0.31, 0.42, 0.33],\n",
       "        [0.28, 0.35, 0.41]]),\n",
       " array([[0.44, 0.26, 0.25],\n",
       "        [0.28, 0.36, 0.36],\n",
       "        [0.26, 0.37, 0.37]]),\n",
       " array([[ 3.40000000e-01,  2.80000000e-01, -9.22337204e+16],\n",
       "        [ 3.30000000e-01,  3.00000000e-01, -9.22337204e+16],\n",
       "        [ 3.10000000e-01,  4.00000000e-01, -9.22337204e+16]]),\n",
       " array([[ 6.10000000e-01, -9.22337204e+16,  2.30000000e-01],\n",
       "        [ 2.50000000e-01, -9.22337204e+16,  3.60000000e-01],\n",
       "        [ 1.30000000e-01, -9.22337204e+16,  4.00000000e-01]]),\n",
       " array([[ 4.60000000e-01,  2.20000000e-01, -9.22337204e+16],\n",
       "        [ 3.00000000e-01,  3.60000000e-01, -9.22337204e+16],\n",
       "        [ 2.30000000e-01,  4.10000000e-01, -9.22337204e+16]]),\n",
       " array([[0.71, 0.27, 0.  ],\n",
       "        [0.27, 0.61, 0.12],\n",
       "        [0.01, 0.1 , 0.87]]),\n",
       " array([[0.68, 0.29, 0.  ],\n",
       "        [0.29, 0.55, 0.15],\n",
       "        [0.01, 0.14, 0.83]]),\n",
       " array([[0.69, 0.25, 0.  ],\n",
       "        [0.28, 0.59, 0.14],\n",
       "        [0.02, 0.15, 0.84]]),\n",
       " array([[0.71, 0.26, 0.  ],\n",
       "        [0.26, 0.58, 0.15],\n",
       "        [0.01, 0.14, 0.84]]),\n",
       " array([[0.68, 0.29, 0.  ],\n",
       "        [0.29, 0.56, 0.15],\n",
       "        [0.01, 0.14, 0.83]]),\n",
       " array([[0.7 , 0.27, 0.  ],\n",
       "        [0.27, 0.57, 0.15],\n",
       "        [0.01, 0.14, 0.83]]),\n",
       " array([[0.68, 0.3 , 0.  ],\n",
       "        [0.29, 0.56, 0.14],\n",
       "        [0.01, 0.14, 0.84]]),\n",
       " array([[0.69, 0.29, 0.  ],\n",
       "        [0.28, 0.56, 0.15],\n",
       "        [0.01, 0.14, 0.84]]),\n",
       " array([[0.69, 0.29, 0.  ],\n",
       "        [0.28, 0.56, 0.15],\n",
       "        [0.01, 0.14, 0.84]]),\n",
       " array([[0.7 , 0.26, 0.  ],\n",
       "        [0.27, 0.58, 0.15],\n",
       "        [0.02, 0.14, 0.83]]),\n",
       " array([[0.7 , 0.26, 0.  ],\n",
       "        [0.27, 0.58, 0.13],\n",
       "        [0.01, 0.14, 0.85]]),\n",
       " array([[0.63, 0.32, 0.  ],\n",
       "        [0.34, 0.5 , 0.16],\n",
       "        [0.01, 0.16, 0.82]]),\n",
       " array([[0.62, 0.29, 0.01],\n",
       "        [0.35, 0.52, 0.17],\n",
       "        [0.02, 0.18, 0.8 ]]),\n",
       " array([[0.65, 0.3 , 0.  ],\n",
       "        [0.34, 0.5 , 0.17],\n",
       "        [0.  , 0.19, 0.81]]),\n",
       " array([[0.65, 0.29, 0.01],\n",
       "        [0.33, 0.52, 0.15],\n",
       "        [0.01, 0.18, 0.82]]),\n",
       " array([[0.63, 0.28, 0.02],\n",
       "        [0.34, 0.52, 0.17],\n",
       "        [0.02, 0.18, 0.79]]),\n",
       " array([[0.64, 0.27, 0.01],\n",
       "        [0.33, 0.53, 0.16],\n",
       "        [0.01, 0.19, 0.82]]),\n",
       " array([[0.61, 0.32, 0.01],\n",
       "        [0.35, 0.5 , 0.15],\n",
       "        [0.02, 0.17, 0.83]]),\n",
       " array([[0.59, 0.3 , 0.01],\n",
       "        [0.37, 0.49, 0.14],\n",
       "        [0.02, 0.19, 0.84]]),\n",
       " array([[0.68, 0.27, 0.02],\n",
       "        [0.3 , 0.54, 0.18],\n",
       "        [0.01, 0.18, 0.78]]),\n",
       " array([[0.62, 0.29, 0.01],\n",
       "        [0.35, 0.51, 0.15],\n",
       "        [0.02, 0.18, 0.83]]),\n",
       " array([[0.53, 0.31, 0.16],\n",
       "        [0.35, 0.36, 0.3 ],\n",
       "        [0.11, 0.32, 0.53]]),\n",
       " array([[0.56, 0.3 , 0.15],\n",
       "        [0.34, 0.39, 0.29],\n",
       "        [0.09, 0.29, 0.55]]),\n",
       " array([[0.5 , 0.32, 0.18],\n",
       "        [0.34, 0.36, 0.3 ],\n",
       "        [0.14, 0.31, 0.51]]),\n",
       " array([[0.49, 0.33, 0.17],\n",
       "        [0.34, 0.35, 0.31],\n",
       "        [0.16, 0.3 , 0.51]]),\n",
       " array([[0.48, 0.29, 0.2 ],\n",
       "        [0.36, 0.38, 0.28],\n",
       "        [0.14, 0.31, 0.51]]),\n",
       " array([[0.51, 0.24, 0.21],\n",
       "        [0.36, 0.37, 0.29],\n",
       "        [0.12, 0.37, 0.48]]),\n",
       " array([[0.48, 0.25, 0.22],\n",
       "        [0.35, 0.33, 0.31],\n",
       "        [0.15, 0.41, 0.46]]),\n",
       " array([[0.52, 0.29, 0.2 ],\n",
       "        [0.35, 0.37, 0.3 ],\n",
       "        [0.11, 0.33, 0.48]]),\n",
       " array([[0.55, 0.25, 0.18],\n",
       "        [0.33, 0.43, 0.28],\n",
       "        [0.1 , 0.3 , 0.53]]),\n",
       " array([[0.6 , 0.3 , 0.12],\n",
       "        [0.32, 0.39, 0.3 ],\n",
       "        [0.07, 0.3 , 0.56]]),\n",
       " array([[0.51, 0.3 , 0.18],\n",
       "        [0.33, 0.34, 0.32],\n",
       "        [0.14, 0.34, 0.49]]),\n",
       " array([[0.53, 0.27, 0.19],\n",
       "        [0.32, 0.37, 0.32],\n",
       "        [0.14, 0.34, 0.47]]),\n",
       " array([[0.51, 0.29, 0.18],\n",
       "        [0.34, 0.29, 0.34],\n",
       "        [0.14, 0.41, 0.47]]),\n",
       " array([[0.52, 0.24, 0.21],\n",
       "        [0.33, 0.38, 0.3 ],\n",
       "        [0.13, 0.36, 0.48]]),\n",
       " array([[0.54, 0.29, 0.17],\n",
       "        [0.33, 0.33, 0.33],\n",
       "        [0.11, 0.37, 0.48]]),\n",
       " array([[0.58, 0.29, 0.15],\n",
       "        [0.31, 0.35, 0.33],\n",
       "        [0.09, 0.34, 0.5 ]]),\n",
       " array([[0.56, 0.23, 0.17],\n",
       "        [0.33, 0.38, 0.3 ],\n",
       "        [0.1 , 0.37, 0.51]]),\n",
       " array([[0.59, 0.23, 0.16],\n",
       "        [0.31, 0.43, 0.29],\n",
       "        [0.09, 0.32, 0.53]]),\n",
       " array([[0.6 , 0.24, 0.17],\n",
       "        [0.31, 0.44, 0.28],\n",
       "        [0.07, 0.31, 0.54]]),\n",
       " array([[0.57, 0.22, 0.16],\n",
       "        [0.32, 0.44, 0.27],\n",
       "        [0.09, 0.32, 0.56]]),\n",
       " array([[0.6 , 0.2 , 0.18],\n",
       "        [0.3 , 0.44, 0.28],\n",
       "        [0.09, 0.34, 0.53]]),\n",
       " array([[0.59, 0.2 , 0.17],\n",
       "        [0.32, 0.46, 0.29],\n",
       "        [0.08, 0.33, 0.53]]),\n",
       " array([[0.59, 0.23, 0.17],\n",
       "        [0.31, 0.43, 0.29],\n",
       "        [0.09, 0.32, 0.53]]),\n",
       " array([[0.61, 0.28, 0.12],\n",
       "        [0.32, 0.38, 0.3 ],\n",
       "        [0.05, 0.32, 0.57]]),\n",
       " array([[0.51, 0.25, 0.22],\n",
       "        [0.27, 0.38, 0.33],\n",
       "        [0.21, 0.35, 0.43]]),\n",
       " array([[0.47, 0.24, 0.22],\n",
       "        [0.28, 0.38, 0.33],\n",
       "        [0.24, 0.37, 0.44]]),\n",
       " array([[0.47, 0.23, 0.25],\n",
       "        [0.28, 0.38, 0.33],\n",
       "        [0.23, 0.37, 0.4 ]]),\n",
       " array([[0.47, 0.25, 0.18],\n",
       "        [0.29, 0.35, 0.38],\n",
       "        [0.22, 0.39, 0.43]]),\n",
       " array([[0.61, 0.23, 0.22],\n",
       "        [0.25, 0.37, 0.34],\n",
       "        [0.13, 0.38, 0.42]]),\n",
       " array([[0.56, 0.22, 0.18],\n",
       "        [0.26, 0.38, 0.35],\n",
       "        [0.16, 0.39, 0.45]]),\n",
       " array([[0.46, 0.2 , 0.25],\n",
       "        [0.29, 0.39, 0.34],\n",
       "        [0.24, 0.4 , 0.39]]),\n",
       " array([[0.44, 0.18, 0.24],\n",
       "        [0.3 , 0.46, 0.33],\n",
       "        [0.25, 0.35, 0.41]]),\n",
       " array([[0.44, 0.25, 0.22],\n",
       "        [0.3 , 0.36, 0.35],\n",
       "        [0.25, 0.37, 0.42]]),\n",
       " array([[ 6.10000000e-01, -9.22337204e+16,  2.30000000e-01],\n",
       "        [ 2.50000000e-01, -9.22337204e+16,  3.60000000e-01],\n",
       "        [ 1.30000000e-01, -9.22337204e+16,  4.00000000e-01]]),\n",
       " array([[0.5 , 0.29, 0.17],\n",
       "        [0.27, 0.39, 0.33],\n",
       "        [0.22, 0.31, 0.49]]),\n",
       " array([[0.44, 0.19, 0.27],\n",
       "        [0.28, 0.44, 0.33],\n",
       "        [0.27, 0.36, 0.38]]),\n",
       " array([[0.41, 0.21, 0.24],\n",
       "        [0.32, 0.42, 0.33],\n",
       "        [0.26, 0.35, 0.42]]),\n",
       " array([[0.61, 0.15, 0.23],\n",
       "        [0.25, 0.46, 0.35],\n",
       "        [0.13, 0.38, 0.4 ]]),\n",
       " array([[0.5 , 0.26, 0.17],\n",
       "        [0.28, 0.41, 0.33],\n",
       "        [0.21, 0.32, 0.48]]),\n",
       " array([[0.46, 0.26, 0.27],\n",
       "        [0.29, 0.35, 0.35],\n",
       "        [0.23, 0.38, 0.37]]),\n",
       " array([[0.61, 0.16, 0.24],\n",
       "        [0.25, 0.42, 0.34],\n",
       "        [0.13, 0.41, 0.4 ]]),\n",
       " array([[0.46, 0.22, 0.25],\n",
       "        [0.3 , 0.43, 0.3 ],\n",
       "        [0.22, 0.34, 0.44]]),\n",
       " array([[ 6.10000000e-01, -9.22337204e+16,  2.30000000e-01],\n",
       "        [ 2.50000000e-01, -9.22337204e+16,  3.60000000e-01],\n",
       "        [ 1.30000000e-01, -9.22337204e+16,  4.00000000e-01]]),\n",
       " array([[0.44, 0.22, 0.23],\n",
       "        [0.31, 0.42, 0.3 ],\n",
       "        [0.23, 0.35, 0.46]]),\n",
       " array([[0.6 , 0.25, 0.15],\n",
       "        [0.25, 0.39, 0.34],\n",
       "        [0.13, 0.34, 0.5 ]]),\n",
       " array([[0.69, 0.29, 0.  ],\n",
       "        [0.28, 0.56, 0.15],\n",
       "        [0.01, 0.14, 0.83]]),\n",
       " array([[0.59, 0.3 , 0.01],\n",
       "        [0.37, 0.49, 0.14],\n",
       "        [0.02, 0.2 , 0.84]]),\n",
       " array([[0.5 , 0.33, 0.19],\n",
       "        [0.36, 0.3 , 0.31],\n",
       "        [0.12, 0.35, 0.48]]),\n",
       " array([[0.54, 0.3 , 0.17],\n",
       "        [0.33, 0.32, 0.33],\n",
       "        [0.12, 0.37, 0.48]]),\n",
       " array([[0.61, 0.25, 0.16],\n",
       "        [0.31, 0.43, 0.29],\n",
       "        [0.07, 0.31, 0.53]]),\n",
       " array([[0.47, 0.26, 0.19],\n",
       "        [0.29, 0.35, 0.37],\n",
       "        [0.23, 0.38, 0.43]]),\n",
       " array([[0.44, 0.24, 0.22],\n",
       "        [0.3 , 0.37, 0.34],\n",
       "        [0.25, 0.37, 0.42]]),\n",
       " array([[0.39, 0.21, 0.24],\n",
       "        [0.31, 0.42, 0.33],\n",
       "        [0.28, 0.35, 0.41]]),\n",
       " array([[0.44, 0.23, 0.26],\n",
       "        [0.28, 0.38, 0.35],\n",
       "        [0.26, 0.38, 0.37]]),\n",
       " array([[ 3.40000000e-01,  2.80000000e-01, -9.22337204e+16],\n",
       "        [ 3.30000000e-01,  3.00000000e-01, -9.22337204e+16],\n",
       "        [ 3.10000000e-01,  4.00000000e-01, -9.22337204e+16]]),\n",
       " array([[ 6.10000000e-01, -9.22337204e+16,  2.30000000e-01],\n",
       "        [ 2.50000000e-01, -9.22337204e+16,  3.60000000e-01],\n",
       "        [ 1.30000000e-01, -9.22337204e+16,  4.00000000e-01]]),\n",
       " array([[0.45, 0.22, 0.24],\n",
       "        [0.3 , 0.4 , 0.32],\n",
       "        [0.23, 0.36, 0.42]])]"
      ]
     },
     "execution_count": 39,
     "metadata": {},
     "output_type": "execute_result"
    },
    {
     "data": {
      "application/javascript": [
       "\n",
       "            setTimeout(function() {\n",
       "                var nbb_cell_id = 39;\n",
       "                var nbb_unformatted_code = \"ypredconfprob_all\";\n",
       "                var nbb_formatted_code = \"ypredconfprob_all\";\n",
       "                var nbb_cells = Jupyter.notebook.get_cells();\n",
       "                for (var i = 0; i < nbb_cells.length; ++i) {\n",
       "                    if (nbb_cells[i].input_prompt_number == nbb_cell_id) {\n",
       "                        if (nbb_cells[i].get_text() == nbb_unformatted_code) {\n",
       "                             nbb_cells[i].set_text(nbb_formatted_code);\n",
       "                        }\n",
       "                        break;\n",
       "                    }\n",
       "                }\n",
       "            }, 500);\n",
       "            "
      ],
      "text/plain": [
       "<IPython.core.display.Javascript object>"
      ]
     },
     "metadata": {},
     "output_type": "display_data"
    }
   ],
   "source": [
    "ypredconfprob_all"
   ]
  },
  {
   "cell_type": "code",
   "execution_count": null,
   "metadata": {},
   "outputs": [],
   "source": []
  },
  {
   "cell_type": "code",
   "execution_count": null,
   "metadata": {},
   "outputs": [],
   "source": []
  },
  {
   "cell_type": "code",
   "execution_count": null,
   "metadata": {},
   "outputs": [],
   "source": []
  },
  {
   "cell_type": "code",
   "execution_count": null,
   "metadata": {},
   "outputs": [],
   "source": []
  },
  {
   "cell_type": "code",
   "execution_count": null,
   "metadata": {},
   "outputs": [],
   "source": []
  },
  {
   "cell_type": "code",
   "execution_count": null,
   "metadata": {},
   "outputs": [],
   "source": []
  },
  {
   "cell_type": "markdown",
   "metadata": {},
   "source": [
    "Confusion matrix based models\n",
    "===="
   ]
  },
  {
   "cell_type": "markdown",
   "metadata": {},
   "source": [
    "# 1. baseline classifiers\n",
    "========="
   ]
  },
  {
   "cell_type": "markdown",
   "metadata": {},
   "source": [
    "# 1.1 Class 0\n",
    "===="
   ]
  },
  {
   "cell_type": "code",
   "execution_count": 11,
   "metadata": {},
   "outputs": [
    {
     "name": "stdout",
     "output_type": "stream",
     "text": [
      "0.81\n"
     ]
    },
    {
     "data": {
      "application/javascript": [
       "\n",
       "            setTimeout(function() {\n",
       "                var nbb_cell_id = 11;\n",
       "                var nbb_unformatted_code = \"clf_c0 = []\\nacc_c0 = []\\npredictedprobablities_c0 = []\\npredictedconfusionmatrix_proba_c0 = []\\n\\n# ===========================\\nytrain = ytrain_original.copy()\\nytest = ytest_original.copy()\\nytrain, ytest = swapcolumns(ytrain, ytest, 0)\\n# =================================================\\n\\nrf_c0 = RandomForestClassifier(random_state=randomseed, n_estimators=50)\\nrf_c0.fit(xtrain, ytrain)\\nrfpred_c0 = rf_c0.predict(xtest)\\nprint(m.accuracy_score(ytest, rfpred_c0))\\n\\nclf_c0.append(rf_c0)\\nacc_c0.append(m.accuracy_score(ytest, rfpred_c0))\\npredictedprobablities_c0.append(rf_c0.predict_proba(xtest))\\n\\nconfmat = m.confusion_matrix(ytest, rfpred_c0)\\nconfsumh = np.sum(confmat, axis=0)\\npropconfmat = confmat.copy()\\nfor i in range(propconfmat.shape[0]):\\n    propconfmat[:, i] = 100 * propconfmat[:, i] / confsumh[i]\\npredictedconfusionmatrix_proba_c0.append(propconfmat / 100)\";\n",
       "                var nbb_formatted_code = \"clf_c0 = []\\nacc_c0 = []\\npredictedprobablities_c0 = []\\npredictedconfusionmatrix_proba_c0 = []\\n\\n# ===========================\\nytrain = ytrain_original.copy()\\nytest = ytest_original.copy()\\nytrain, ytest = swapcolumns(ytrain, ytest, 0)\\n# =================================================\\n\\nrf_c0 = RandomForestClassifier(random_state=randomseed, n_estimators=50)\\nrf_c0.fit(xtrain, ytrain)\\nrfpred_c0 = rf_c0.predict(xtest)\\nprint(m.accuracy_score(ytest, rfpred_c0))\\n\\nclf_c0.append(rf_c0)\\nacc_c0.append(m.accuracy_score(ytest, rfpred_c0))\\npredictedprobablities_c0.append(rf_c0.predict_proba(xtest))\\n\\nconfmat = m.confusion_matrix(ytest, rfpred_c0)\\nconfsumh = np.sum(confmat, axis=0)\\npropconfmat = confmat.copy()\\nfor i in range(propconfmat.shape[0]):\\n    propconfmat[:, i] = 100 * propconfmat[:, i] / confsumh[i]\\npredictedconfusionmatrix_proba_c0.append(propconfmat / 100)\";\n",
       "                var nbb_cells = Jupyter.notebook.get_cells();\n",
       "                for (var i = 0; i < nbb_cells.length; ++i) {\n",
       "                    if (nbb_cells[i].input_prompt_number == nbb_cell_id) {\n",
       "                        if (nbb_cells[i].get_text() == nbb_unformatted_code) {\n",
       "                             nbb_cells[i].set_text(nbb_formatted_code);\n",
       "                        }\n",
       "                        break;\n",
       "                    }\n",
       "                }\n",
       "            }, 500);\n",
       "            "
      ],
      "text/plain": [
       "<IPython.core.display.Javascript object>"
      ]
     },
     "metadata": {},
     "output_type": "display_data"
    }
   ],
   "source": [
    "clf_c0 = []\n",
    "acc_c0 = []\n",
    "predictedprobablities_c0 = []\n",
    "predictedconfusionmatrix_proba_c0 = []\n",
    "\n",
    "# ===========================\n",
    "ytrain = ytrain_original.copy()\n",
    "ytest = ytest_original.copy()\n",
    "ytrain, ytest = swapcolumns(ytrain, ytest, 0)\n",
    "# =================================================\n",
    "\n",
    "rf_c0 = RandomForestClassifier(random_state=randomseed, n_estimators=50)\n",
    "rf_c0.fit(xtrain, ytrain)\n",
    "rfpred_c0 = rf_c0.predict(xtest)\n",
    "print(m.accuracy_score(ytest, rfpred_c0))\n",
    "\n",
    "clf_c0.append(rf_c0)\n",
    "acc_c0.append(m.accuracy_score(ytest, rfpred_c0))\n",
    "predictedprobablities_c0.append(rf_c0.predict_proba(xtest))\n",
    "\n",
    "confmat = m.confusion_matrix(ytest, rfpred_c0)\n",
    "confsumh = np.sum(confmat, axis=0)\n",
    "propconfmat = confmat.copy()\n",
    "for i in range(propconfmat.shape[0]):\n",
    "    propconfmat[:, i] = 100 * propconfmat[:, i] / confsumh[i]\n",
    "predictedconfusionmatrix_proba_c0.append(propconfmat / 100)"
   ]
  },
  {
   "cell_type": "code",
   "execution_count": 12,
   "metadata": {},
   "outputs": [
    {
     "name": "stdout",
     "output_type": "stream",
     "text": [
      "0.8183333333333334\n"
     ]
    },
    {
     "data": {
      "application/javascript": [
       "\n",
       "            setTimeout(function() {\n",
       "                var nbb_cell_id = 12;\n",
       "                var nbb_unformatted_code = \"ytrain = ytrain_original.copy()\\nytest = ytest_original.copy()\\nytrain, ytest = swapcolumns(ytrain, ytest, 0)\\n# =================================================\\nxgbmodel_c0 = xgb.XGBClassifier(random_state=randomseed, n_estimators=50)\\nxgbmodel_c0.fit(xtrain, ytrain)\\nxgbmodelpred_c0 = xgbmodel_c0.predict(xtest)\\nprint(m.accuracy_score(ytest, xgbmodelpred_c0))\\n\\nclf_c0.append(xgbmodel_c0)\\nacc_c0.append(m.accuracy_score(ytest, xgbmodelpred_c0))\\npredictedprobablities_c0.append(xgbmodel_c0.predict_proba(xtest))\\n\\nconfmat = m.confusion_matrix(ytest, xgbmodelpred_c0)\\nconfsumh = np.sum(confmat, axis=0)\\npropconfmat = confmat.copy()\\nfor i in range(propconfmat.shape[0]):\\n    propconfmat[:, i] = 100 * propconfmat[:, i] / confsumh[i]\\npredictedconfusionmatrix_proba_c0.append(propconfmat / 100)\";\n",
       "                var nbb_formatted_code = \"ytrain = ytrain_original.copy()\\nytest = ytest_original.copy()\\nytrain, ytest = swapcolumns(ytrain, ytest, 0)\\n# =================================================\\nxgbmodel_c0 = xgb.XGBClassifier(random_state=randomseed, n_estimators=50)\\nxgbmodel_c0.fit(xtrain, ytrain)\\nxgbmodelpred_c0 = xgbmodel_c0.predict(xtest)\\nprint(m.accuracy_score(ytest, xgbmodelpred_c0))\\n\\nclf_c0.append(xgbmodel_c0)\\nacc_c0.append(m.accuracy_score(ytest, xgbmodelpred_c0))\\npredictedprobablities_c0.append(xgbmodel_c0.predict_proba(xtest))\\n\\nconfmat = m.confusion_matrix(ytest, xgbmodelpred_c0)\\nconfsumh = np.sum(confmat, axis=0)\\npropconfmat = confmat.copy()\\nfor i in range(propconfmat.shape[0]):\\n    propconfmat[:, i] = 100 * propconfmat[:, i] / confsumh[i]\\npredictedconfusionmatrix_proba_c0.append(propconfmat / 100)\";\n",
       "                var nbb_cells = Jupyter.notebook.get_cells();\n",
       "                for (var i = 0; i < nbb_cells.length; ++i) {\n",
       "                    if (nbb_cells[i].input_prompt_number == nbb_cell_id) {\n",
       "                        if (nbb_cells[i].get_text() == nbb_unformatted_code) {\n",
       "                             nbb_cells[i].set_text(nbb_formatted_code);\n",
       "                        }\n",
       "                        break;\n",
       "                    }\n",
       "                }\n",
       "            }, 500);\n",
       "            "
      ],
      "text/plain": [
       "<IPython.core.display.Javascript object>"
      ]
     },
     "metadata": {},
     "output_type": "display_data"
    }
   ],
   "source": [
    "ytrain = ytrain_original.copy()\n",
    "ytest = ytest_original.copy()\n",
    "ytrain, ytest = swapcolumns(ytrain, ytest, 0)\n",
    "# =================================================\n",
    "xgbmodel_c0 = xgb.XGBClassifier(random_state=randomseed, n_estimators=50)\n",
    "xgbmodel_c0.fit(xtrain, ytrain)\n",
    "xgbmodelpred_c0 = xgbmodel_c0.predict(xtest)\n",
    "print(m.accuracy_score(ytest, xgbmodelpred_c0))\n",
    "\n",
    "clf_c0.append(xgbmodel_c0)\n",
    "acc_c0.append(m.accuracy_score(ytest, xgbmodelpred_c0))\n",
    "predictedprobablities_c0.append(xgbmodel_c0.predict_proba(xtest))\n",
    "\n",
    "confmat = m.confusion_matrix(ytest, xgbmodelpred_c0)\n",
    "confsumh = np.sum(confmat, axis=0)\n",
    "propconfmat = confmat.copy()\n",
    "for i in range(propconfmat.shape[0]):\n",
    "    propconfmat[:, i] = 100 * propconfmat[:, i] / confsumh[i]\n",
    "predictedconfusionmatrix_proba_c0.append(propconfmat / 100)\n"
   ]
  },
  {
   "cell_type": "code",
   "execution_count": 13,
   "metadata": {},
   "outputs": [
    {
     "name": "stdout",
     "output_type": "stream",
     "text": [
      "0.7283333333333334\n"
     ]
    },
    {
     "data": {
      "application/javascript": [
       "\n",
       "            setTimeout(function() {\n",
       "                var nbb_cell_id = 13;\n",
       "                var nbb_unformatted_code = \"ytrain = ytrain_original.copy()\\nytest = ytest_original.copy()\\nytrain, ytest = swapcolumns(ytrain, ytest, 0)\\n# =================================================\\nsvmmodel = svmgpu(random_state=randomseed, probability=True, C=0.001, gamma=0.01)\\nsvmmodel.fit(xtrain, ytrain)\\nsvmmodelpred = svmmodel.predict(xtest)\\nprint(m.accuracy_score(ytest, svmmodelpred))\\n\\nclf_c0.append(svmmodel)\\nacc_c0.append(m.accuracy_score(ytest, svmmodelpred))\\npredictedprobablities_c0.append(svmmodel.predict_proba(xtest))\\n\\nconfmat = m.confusion_matrix(ytest, svmmodelpred)\\nconfsumh = np.sum(confmat, axis=0)\\npropconfmat = confmat.copy()\\nfor i in range(propconfmat.shape[0]):\\n    propconfmat[:, i] = 100 * propconfmat[:, i] / confsumh[i]\\npredictedconfusionmatrix_proba_c0.append(propconfmat / 100)\";\n",
       "                var nbb_formatted_code = \"ytrain = ytrain_original.copy()\\nytest = ytest_original.copy()\\nytrain, ytest = swapcolumns(ytrain, ytest, 0)\\n# =================================================\\nsvmmodel = svmgpu(random_state=randomseed, probability=True, C=0.001, gamma=0.01)\\nsvmmodel.fit(xtrain, ytrain)\\nsvmmodelpred = svmmodel.predict(xtest)\\nprint(m.accuracy_score(ytest, svmmodelpred))\\n\\nclf_c0.append(svmmodel)\\nacc_c0.append(m.accuracy_score(ytest, svmmodelpred))\\npredictedprobablities_c0.append(svmmodel.predict_proba(xtest))\\n\\nconfmat = m.confusion_matrix(ytest, svmmodelpred)\\nconfsumh = np.sum(confmat, axis=0)\\npropconfmat = confmat.copy()\\nfor i in range(propconfmat.shape[0]):\\n    propconfmat[:, i] = 100 * propconfmat[:, i] / confsumh[i]\\npredictedconfusionmatrix_proba_c0.append(propconfmat / 100)\";\n",
       "                var nbb_cells = Jupyter.notebook.get_cells();\n",
       "                for (var i = 0; i < nbb_cells.length; ++i) {\n",
       "                    if (nbb_cells[i].input_prompt_number == nbb_cell_id) {\n",
       "                        if (nbb_cells[i].get_text() == nbb_unformatted_code) {\n",
       "                             nbb_cells[i].set_text(nbb_formatted_code);\n",
       "                        }\n",
       "                        break;\n",
       "                    }\n",
       "                }\n",
       "            }, 500);\n",
       "            "
      ],
      "text/plain": [
       "<IPython.core.display.Javascript object>"
      ]
     },
     "metadata": {},
     "output_type": "display_data"
    }
   ],
   "source": [
    "ytrain = ytrain_original.copy()\n",
    "ytest = ytest_original.copy()\n",
    "ytrain, ytest = swapcolumns(ytrain, ytest, 0)\n",
    "# =================================================\n",
    "svmmodel = svmgpu(random_state=randomseed, probability=True, C=0.001, gamma=0.01)\n",
    "svmmodel.fit(xtrain, ytrain)\n",
    "svmmodelpred = svmmodel.predict(xtest)\n",
    "print(m.accuracy_score(ytest, svmmodelpred))\n",
    "\n",
    "clf_c0.append(svmmodel)\n",
    "acc_c0.append(m.accuracy_score(ytest, svmmodelpred))\n",
    "predictedprobablities_c0.append(svmmodel.predict_proba(xtest))\n",
    "\n",
    "confmat = m.confusion_matrix(ytest, svmmodelpred)\n",
    "confsumh = np.sum(confmat, axis=0)\n",
    "propconfmat = confmat.copy()\n",
    "for i in range(propconfmat.shape[0]):\n",
    "    propconfmat[:, i] = 100 * propconfmat[:, i] / confsumh[i]\n",
    "predictedconfusionmatrix_proba_c0.append(propconfmat / 100)"
   ]
  },
  {
   "cell_type": "code",
   "execution_count": 14,
   "metadata": {},
   "outputs": [
    {
     "name": "stdout",
     "output_type": "stream",
     "text": [
      "[470, 788, 602, 477, 47, 626, 385, 334, 554, 597]\n"
     ]
    },
    {
     "data": {
      "application/javascript": [
       "\n",
       "            setTimeout(function() {\n",
       "                var nbb_cell_id = 14;\n",
       "                var nbb_unformatted_code = \"# generate combinations of features 12,6\\ncomb = list(itertools.combinations(np.arange(0, 12, 1), 6))\\n\\n# generate 50 random numbers\\nrandnums = []\\nfor i in range(10):\\n    randnums.append(random.randrange(0, len(comb)))\\n\\nprint(randnums)\\n\\ncomb = np.array(comb)[randnums, :]\";\n",
       "                var nbb_formatted_code = \"# generate combinations of features 12,6\\ncomb = list(itertools.combinations(np.arange(0, 12, 1), 6))\\n\\n# generate 50 random numbers\\nrandnums = []\\nfor i in range(10):\\n    randnums.append(random.randrange(0, len(comb)))\\n\\nprint(randnums)\\n\\ncomb = np.array(comb)[randnums, :]\";\n",
       "                var nbb_cells = Jupyter.notebook.get_cells();\n",
       "                for (var i = 0; i < nbb_cells.length; ++i) {\n",
       "                    if (nbb_cells[i].input_prompt_number == nbb_cell_id) {\n",
       "                        if (nbb_cells[i].get_text() == nbb_unformatted_code) {\n",
       "                             nbb_cells[i].set_text(nbb_formatted_code);\n",
       "                        }\n",
       "                        break;\n",
       "                    }\n",
       "                }\n",
       "            }, 500);\n",
       "            "
      ],
      "text/plain": [
       "<IPython.core.display.Javascript object>"
      ]
     },
     "metadata": {},
     "output_type": "display_data"
    }
   ],
   "source": [
    "# generate combinations of features 12,6\n",
    "comb = list(itertools.combinations(np.arange(0, 12, 1), 6))\n",
    "\n",
    "# generate 50 random numbers\n",
    "randnums = []\n",
    "for i in range(10):\n",
    "    randnums.append(random.randrange(0, len(comb)))\n",
    "\n",
    "print(randnums)\n",
    "\n",
    "comb = np.array(comb)[randnums, :]"
   ]
  },
  {
   "cell_type": "code",
   "execution_count": 15,
   "metadata": {
    "scrolled": true
   },
   "outputs": [
    {
     "name": "stdout",
     "output_type": "stream",
     "text": [
      "0  ====================  [1 2 3 4 6 9]\n",
      "0.7433333333333333\n",
      "0.8183333333333334\n",
      "1  ====================  [2 4 5 6 8 9]\n",
      "0.6916666666666667\n",
      "0.8183333333333334\n",
      "2  ====================  [ 1  3  4  5 10 11]\n",
      "0.78\n",
      "0.8183333333333334\n",
      "3  ====================  [1 2 3 4 8 9]\n",
      "0.765\n",
      "0.8183333333333334\n",
      "4  ====================  [ 0  1  2  4  9 11]\n",
      "0.78\n",
      "0.8183333333333334\n",
      "5  ====================  [ 1  3  5  6  7 11]\n",
      "0.7833333333333333\n",
      "0.8183333333333334\n",
      "6  ====================  [ 0  3  5  7  9 11]\n",
      "0.78\n",
      "0.8183333333333334\n",
      "7  ====================  [ 0  2  7  9 10 11]\n",
      "0.7716666666666666\n",
      "0.8183333333333334\n",
      "8  ====================  [1 2 5 6 7 9]\n",
      "0.7533333333333333\n",
      "0.8183333333333334\n",
      "9  ====================  [1 3 4 5 8 9]\n",
      "0.775\n",
      "0.8183333333333334\n"
     ]
    },
    {
     "data": {
      "application/javascript": [
       "\n",
       "            setTimeout(function() {\n",
       "                var nbb_cell_id = 15;\n",
       "                var nbb_unformatted_code = \"for i in range(len(comb)):\\n    print(i, \\\" ==================== \\\", comb[i])\\n\\n    rf_c0 = RandomForestClassifier(random_state=randomseed, n_estimators=50)\\n    rf_c0.fit(xtrain[:, comb[i]], ytrain)\\n    rfpred_c0 = rf_c0.predict(xtest[:, comb[i]])\\n    print(m.accuracy_score(ytest, rfpred_c0))\\n\\n    clf_c0.append(rf_c0)\\n    acc_c0.append(m.accuracy_score(ytest, rfpred_c0))\\n    predictedprobablities_c0.append(rf_c0.predict_proba(xtest[:, comb[i]]))\\n\\n    confmat = m.confusion_matrix(ytest, rfpred_c0)\\n    confsumh = np.sum(confmat, axis=0)\\n    propconfmat = confmat.copy()\\n    for i in range(propconfmat.shape[0]):\\n        propconfmat[:, i] = 100 * propconfmat[:, i] / confsumh[i]\\n    predictedconfusionmatrix_proba_c0.append(propconfmat / 100)\\n\\n    xgbmodel_c0 = xgb.XGBClassifier(random_state=randomseed, n_estimators=50)\\n    xgbmodel_c0.fit(xtrain, ytrain)\\n    xgbmodelpred_c0 = xgbmodel_c0.predict(xtest)\\n    print(m.accuracy_score(ytest, xgbmodelpred_c0))\\n\\n    clf_c0.append(xgbmodel_c0)\\n    acc_c0.append(m.accuracy_score(ytest, xgbmodelpred_c0))\\n    predictedprobablities_c0.append(xgbmodel_c0.predict_proba(xtest))\\n\\n    confmat = m.confusion_matrix(ytest, xgbmodelpred_c0)\\n    confsumh = np.sum(confmat, axis=0)\\n    propconfmat = confmat.copy()\\n    for i in range(propconfmat.shape[0]):\\n        propconfmat[:, i] = 100 * propconfmat[:, i] / confsumh[i]\\n    predictedconfusionmatrix_proba_c0.append(propconfmat / 100)\";\n",
       "                var nbb_formatted_code = \"for i in range(len(comb)):\\n    print(i, \\\" ==================== \\\", comb[i])\\n\\n    rf_c0 = RandomForestClassifier(random_state=randomseed, n_estimators=50)\\n    rf_c0.fit(xtrain[:, comb[i]], ytrain)\\n    rfpred_c0 = rf_c0.predict(xtest[:, comb[i]])\\n    print(m.accuracy_score(ytest, rfpred_c0))\\n\\n    clf_c0.append(rf_c0)\\n    acc_c0.append(m.accuracy_score(ytest, rfpred_c0))\\n    predictedprobablities_c0.append(rf_c0.predict_proba(xtest[:, comb[i]]))\\n\\n    confmat = m.confusion_matrix(ytest, rfpred_c0)\\n    confsumh = np.sum(confmat, axis=0)\\n    propconfmat = confmat.copy()\\n    for i in range(propconfmat.shape[0]):\\n        propconfmat[:, i] = 100 * propconfmat[:, i] / confsumh[i]\\n    predictedconfusionmatrix_proba_c0.append(propconfmat / 100)\\n\\n    xgbmodel_c0 = xgb.XGBClassifier(random_state=randomseed, n_estimators=50)\\n    xgbmodel_c0.fit(xtrain, ytrain)\\n    xgbmodelpred_c0 = xgbmodel_c0.predict(xtest)\\n    print(m.accuracy_score(ytest, xgbmodelpred_c0))\\n\\n    clf_c0.append(xgbmodel_c0)\\n    acc_c0.append(m.accuracy_score(ytest, xgbmodelpred_c0))\\n    predictedprobablities_c0.append(xgbmodel_c0.predict_proba(xtest))\\n\\n    confmat = m.confusion_matrix(ytest, xgbmodelpred_c0)\\n    confsumh = np.sum(confmat, axis=0)\\n    propconfmat = confmat.copy()\\n    for i in range(propconfmat.shape[0]):\\n        propconfmat[:, i] = 100 * propconfmat[:, i] / confsumh[i]\\n    predictedconfusionmatrix_proba_c0.append(propconfmat / 100)\";\n",
       "                var nbb_cells = Jupyter.notebook.get_cells();\n",
       "                for (var i = 0; i < nbb_cells.length; ++i) {\n",
       "                    if (nbb_cells[i].input_prompt_number == nbb_cell_id) {\n",
       "                        if (nbb_cells[i].get_text() == nbb_unformatted_code) {\n",
       "                             nbb_cells[i].set_text(nbb_formatted_code);\n",
       "                        }\n",
       "                        break;\n",
       "                    }\n",
       "                }\n",
       "            }, 500);\n",
       "            "
      ],
      "text/plain": [
       "<IPython.core.display.Javascript object>"
      ]
     },
     "metadata": {},
     "output_type": "display_data"
    }
   ],
   "source": [
    "for i in range(len(comb)):\n",
    "    print(i, \" ==================== \", comb[i])\n",
    "\n",
    "    rf_c0 = RandomForestClassifier(random_state=randomseed, n_estimators=50)\n",
    "    rf_c0.fit(xtrain[:, comb[i]], ytrain)\n",
    "    rfpred_c0 = rf_c0.predict(xtest[:, comb[i]])\n",
    "    print(m.accuracy_score(ytest, rfpred_c0))\n",
    "\n",
    "    clf_c0.append(rf_c0)\n",
    "    acc_c0.append(m.accuracy_score(ytest, rfpred_c0))\n",
    "    predictedprobablities_c0.append(rf_c0.predict_proba(xtest[:, comb[i]]))\n",
    "\n",
    "    confmat = m.confusion_matrix(ytest, rfpred_c0)\n",
    "    confsumh = np.sum(confmat, axis=0)\n",
    "    propconfmat = confmat.copy()\n",
    "    for i in range(propconfmat.shape[0]):\n",
    "        propconfmat[:, i] = 100 * propconfmat[:, i] / confsumh[i]\n",
    "    predictedconfusionmatrix_proba_c0.append(propconfmat / 100)\n",
    "\n",
    "    xgbmodel_c0 = xgb.XGBClassifier(random_state=randomseed, n_estimators=50)\n",
    "    xgbmodel_c0.fit(xtrain, ytrain)\n",
    "    xgbmodelpred_c0 = xgbmodel_c0.predict(xtest)\n",
    "    print(m.accuracy_score(ytest, xgbmodelpred_c0))\n",
    "\n",
    "    clf_c0.append(xgbmodel_c0)\n",
    "    acc_c0.append(m.accuracy_score(ytest, xgbmodelpred_c0))\n",
    "    predictedprobablities_c0.append(xgbmodel_c0.predict_proba(xtest))\n",
    "\n",
    "    confmat = m.confusion_matrix(ytest, xgbmodelpred_c0)\n",
    "    confsumh = np.sum(confmat, axis=0)\n",
    "    propconfmat = confmat.copy()\n",
    "    for i in range(propconfmat.shape[0]):\n",
    "        propconfmat[:, i] = 100 * propconfmat[:, i] / confsumh[i]\n",
    "    predictedconfusionmatrix_proba_c0.append(propconfmat / 100)"
   ]
  },
  {
   "cell_type": "code",
   "execution_count": 16,
   "metadata": {
    "scrolled": true
   },
   "outputs": [
    {
     "name": "stdout",
     "output_type": "stream",
     "text": [
      "0\n",
      "1\n",
      "2\n",
      "3\n",
      "4\n",
      "5\n",
      "6\n",
      "7\n",
      "8\n",
      "9\n",
      "10\n",
      "11\n",
      "12\n",
      "13\n",
      "14\n",
      "15\n",
      "16\n",
      "17\n",
      "18\n",
      "19\n",
      "20\n",
      "21\n",
      "22\n"
     ]
    },
    {
     "data": {
      "application/javascript": [
       "\n",
       "            setTimeout(function() {\n",
       "                var nbb_cell_id = 16;\n",
       "                var nbb_unformatted_code = \"p_k1_c0 = 0\\np_k1_c1 = 0\\nfor i in range(len(predictedprobablities_c0)):\\n    p_k1_c0 += (\\n        predictedprobablities_c0[i][:, 0] * predictedconfusionmatrix_proba_c0[i][0][0]\\n        + predictedprobablities_c0[i][:, 1] * predictedconfusionmatrix_proba_c0[i][0][1]\\n    )\\n\\n    p_k1_c1 += (\\n        predictedprobablities_c0[0][:, 0] * predictedconfusionmatrix_proba_c0[0][1][0]\\n        + predictedprobablities_c0[0][:, 1] * predictedconfusionmatrix_proba_c0[0][1][1]\\n    )\\n\\n    print(i)\\np_k1_c0 = p_k1_c0 / len(predictedprobablities_c0)\\np_k1_c1 = p_k1_c1 / len(predictedprobablities_c0)\";\n",
       "                var nbb_formatted_code = \"p_k1_c0 = 0\\np_k1_c1 = 0\\nfor i in range(len(predictedprobablities_c0)):\\n    p_k1_c0 += (\\n        predictedprobablities_c0[i][:, 0] * predictedconfusionmatrix_proba_c0[i][0][0]\\n        + predictedprobablities_c0[i][:, 1] * predictedconfusionmatrix_proba_c0[i][0][1]\\n    )\\n\\n    p_k1_c1 += (\\n        predictedprobablities_c0[0][:, 0] * predictedconfusionmatrix_proba_c0[0][1][0]\\n        + predictedprobablities_c0[0][:, 1] * predictedconfusionmatrix_proba_c0[0][1][1]\\n    )\\n\\n    print(i)\\np_k1_c0 = p_k1_c0 / len(predictedprobablities_c0)\\np_k1_c1 = p_k1_c1 / len(predictedprobablities_c0)\";\n",
       "                var nbb_cells = Jupyter.notebook.get_cells();\n",
       "                for (var i = 0; i < nbb_cells.length; ++i) {\n",
       "                    if (nbb_cells[i].input_prompt_number == nbb_cell_id) {\n",
       "                        if (nbb_cells[i].get_text() == nbb_unformatted_code) {\n",
       "                             nbb_cells[i].set_text(nbb_formatted_code);\n",
       "                        }\n",
       "                        break;\n",
       "                    }\n",
       "                }\n",
       "            }, 500);\n",
       "            "
      ],
      "text/plain": [
       "<IPython.core.display.Javascript object>"
      ]
     },
     "metadata": {},
     "output_type": "display_data"
    }
   ],
   "source": [
    "p_k1_c0 = 0\n",
    "p_k1_c1 = 0\n",
    "for i in range(len(predictedprobablities_c0)):\n",
    "    p_k1_c0 += (\n",
    "        predictedprobablities_c0[i][:, 0] * predictedconfusionmatrix_proba_c0[i][0][0]\n",
    "        + predictedprobablities_c0[i][:, 1] * predictedconfusionmatrix_proba_c0[i][0][1]\n",
    "    )\n",
    "\n",
    "    p_k1_c1 += (\n",
    "        predictedprobablities_c0[0][:, 0] * predictedconfusionmatrix_proba_c0[0][1][0]\n",
    "        + predictedprobablities_c0[0][:, 1] * predictedconfusionmatrix_proba_c0[0][1][1]\n",
    "    )\n",
    "\n",
    "    print(i)\n",
    "p_k1_c0 = p_k1_c0 / len(predictedprobablities_c0)\n",
    "p_k1_c1 = p_k1_c1 / len(predictedprobablities_c0)"
   ]
  },
  {
   "cell_type": "code",
   "execution_count": 17,
   "metadata": {},
   "outputs": [
    {
     "name": "stdout",
     "output_type": "stream",
     "text": [
      "0.8\n",
      "[[105  95]\n",
      " [ 25 375]]\n"
     ]
    },
    {
     "data": {
      "application/javascript": [
       "\n",
       "            setTimeout(function() {\n",
       "                var nbb_cell_id = 17;\n",
       "                var nbb_unformatted_code = \"finalcol = np.zeros((ytest.shape[0], 2))\\nfinalcol[:, 0] = p_k1_c0\\nfinalcol[:, 1] = p_k1_c1\\nfinalpred = np.argmax(finalcol, axis=1)\\nytrain, ytest = swapcolumns(ytrain, ytest, 0)\\n\\nprint(m.accuracy_score(ytest, finalpred))\\nprint(m.confusion_matrix(ytest, finalpred))\\n_mainacc.append(m.accuracy_score(ytest, finalpred))\";\n",
       "                var nbb_formatted_code = \"finalcol = np.zeros((ytest.shape[0], 2))\\nfinalcol[:, 0] = p_k1_c0\\nfinalcol[:, 1] = p_k1_c1\\nfinalpred = np.argmax(finalcol, axis=1)\\nytrain, ytest = swapcolumns(ytrain, ytest, 0)\\n\\nprint(m.accuracy_score(ytest, finalpred))\\nprint(m.confusion_matrix(ytest, finalpred))\\n_mainacc.append(m.accuracy_score(ytest, finalpred))\";\n",
       "                var nbb_cells = Jupyter.notebook.get_cells();\n",
       "                for (var i = 0; i < nbb_cells.length; ++i) {\n",
       "                    if (nbb_cells[i].input_prompt_number == nbb_cell_id) {\n",
       "                        if (nbb_cells[i].get_text() == nbb_unformatted_code) {\n",
       "                             nbb_cells[i].set_text(nbb_formatted_code);\n",
       "                        }\n",
       "                        break;\n",
       "                    }\n",
       "                }\n",
       "            }, 500);\n",
       "            "
      ],
      "text/plain": [
       "<IPython.core.display.Javascript object>"
      ]
     },
     "metadata": {},
     "output_type": "display_data"
    }
   ],
   "source": [
    "finalcol = np.zeros((ytest.shape[0], 2))\n",
    "finalcol[:, 0] = p_k1_c0\n",
    "finalcol[:, 1] = p_k1_c1\n",
    "finalpred = np.argmax(finalcol, axis=1)\n",
    "ytrain, ytest = swapcolumns(ytrain, ytest, 0)\n",
    "\n",
    "print(m.accuracy_score(ytest, finalpred))\n",
    "print(m.confusion_matrix(ytest, finalpred))\n",
    "_mainacc.append(m.accuracy_score(ytest, finalpred))"
   ]
  },
  {
   "cell_type": "markdown",
   "metadata": {},
   "source": [
    "# 1.2 Class 1\n",
    "===="
   ]
  },
  {
   "cell_type": "code",
   "execution_count": 18,
   "metadata": {},
   "outputs": [
    {
     "name": "stdout",
     "output_type": "stream",
     "text": [
      "0.7083333333333334\n"
     ]
    },
    {
     "data": {
      "application/javascript": [
       "\n",
       "            setTimeout(function() {\n",
       "                var nbb_cell_id = 18;\n",
       "                var nbb_unformatted_code = \"clf_c1 = []\\nacc_c1 = []\\npredictedprobablities_c1 = []\\npredictedconfusionmatrix_proba_c1 = []\\n\\n# =================================================\\n# classs 1\\n# =================================================\\nytrain = ytrain_original.copy()\\nytest = ytest_original.copy()\\nytrain, ytest = swapcolumns(ytrain, ytest, 1)\\n# =================================================\\n\\nrf = RandomForestClassifier(random_state=randomseed, n_estimators=50)\\nrf.fit(xtrain, ytrain)\\nrfpred = rf.predict(xtest)\\nprint(m.accuracy_score(ytest, rfpred))\\n\\nclf_c1.append(rf)\\nacc_c1.append(m.accuracy_score(ytest, rfpred))\\npredictedprobablities_c1.append(rf.predict_proba(xtest))\\n\\nconfmat = m.confusion_matrix(ytest, rfpred)\\nconfsumh = np.sum(confmat, axis=0)\\npropconfmat = confmat.copy()\\nfor i in range(propconfmat.shape[0]):\\n    propconfmat[:, i] = 100 * propconfmat[:, i] / confsumh[i]\\npredictedconfusionmatrix_proba_c1.append(propconfmat / 100)\";\n",
       "                var nbb_formatted_code = \"clf_c1 = []\\nacc_c1 = []\\npredictedprobablities_c1 = []\\npredictedconfusionmatrix_proba_c1 = []\\n\\n# =================================================\\n# classs 1\\n# =================================================\\nytrain = ytrain_original.copy()\\nytest = ytest_original.copy()\\nytrain, ytest = swapcolumns(ytrain, ytest, 1)\\n# =================================================\\n\\nrf = RandomForestClassifier(random_state=randomseed, n_estimators=50)\\nrf.fit(xtrain, ytrain)\\nrfpred = rf.predict(xtest)\\nprint(m.accuracy_score(ytest, rfpred))\\n\\nclf_c1.append(rf)\\nacc_c1.append(m.accuracy_score(ytest, rfpred))\\npredictedprobablities_c1.append(rf.predict_proba(xtest))\\n\\nconfmat = m.confusion_matrix(ytest, rfpred)\\nconfsumh = np.sum(confmat, axis=0)\\npropconfmat = confmat.copy()\\nfor i in range(propconfmat.shape[0]):\\n    propconfmat[:, i] = 100 * propconfmat[:, i] / confsumh[i]\\npredictedconfusionmatrix_proba_c1.append(propconfmat / 100)\";\n",
       "                var nbb_cells = Jupyter.notebook.get_cells();\n",
       "                for (var i = 0; i < nbb_cells.length; ++i) {\n",
       "                    if (nbb_cells[i].input_prompt_number == nbb_cell_id) {\n",
       "                        if (nbb_cells[i].get_text() == nbb_unformatted_code) {\n",
       "                             nbb_cells[i].set_text(nbb_formatted_code);\n",
       "                        }\n",
       "                        break;\n",
       "                    }\n",
       "                }\n",
       "            }, 500);\n",
       "            "
      ],
      "text/plain": [
       "<IPython.core.display.Javascript object>"
      ]
     },
     "metadata": {},
     "output_type": "display_data"
    }
   ],
   "source": [
    "clf_c1 = []\n",
    "acc_c1 = []\n",
    "predictedprobablities_c1 = []\n",
    "predictedconfusionmatrix_proba_c1 = []\n",
    "\n",
    "# =================================================\n",
    "# classs 1\n",
    "# =================================================\n",
    "ytrain = ytrain_original.copy()\n",
    "ytest = ytest_original.copy()\n",
    "ytrain, ytest = swapcolumns(ytrain, ytest, 1)\n",
    "# =================================================\n",
    "\n",
    "rf = RandomForestClassifier(random_state=randomseed, n_estimators=50)\n",
    "rf.fit(xtrain, ytrain)\n",
    "rfpred = rf.predict(xtest)\n",
    "print(m.accuracy_score(ytest, rfpred))\n",
    "\n",
    "clf_c1.append(rf)\n",
    "acc_c1.append(m.accuracy_score(ytest, rfpred))\n",
    "predictedprobablities_c1.append(rf.predict_proba(xtest))\n",
    "\n",
    "confmat = m.confusion_matrix(ytest, rfpred)\n",
    "confsumh = np.sum(confmat, axis=0)\n",
    "propconfmat = confmat.copy()\n",
    "for i in range(propconfmat.shape[0]):\n",
    "    propconfmat[:, i] = 100 * propconfmat[:, i] / confsumh[i]\n",
    "predictedconfusionmatrix_proba_c1.append(propconfmat / 100)\n"
   ]
  },
  {
   "cell_type": "code",
   "execution_count": 19,
   "metadata": {},
   "outputs": [
    {
     "name": "stdout",
     "output_type": "stream",
     "text": [
      "0.7416666666666667\n"
     ]
    },
    {
     "data": {
      "application/javascript": [
       "\n",
       "            setTimeout(function() {\n",
       "                var nbb_cell_id = 19;\n",
       "                var nbb_unformatted_code = \"ytrain = ytrain_original.copy()\\nytest = ytest_original.copy()\\nytrain, ytest = swapcolumns(ytrain, ytest, 1)\\n# =================================================\\nxgbmodel = xgb.XGBClassifier(random_state=randomseed, n_estimators=50)\\nxgbmodel.fit(xtrain, ytrain)\\nxgbmodelpred = xgbmodel.predict(xtest)\\nprint(m.accuracy_score(ytest, xgbmodelpred))\\n\\nclf_c1.append(xgbmodel)\\nacc_c1.append(m.accuracy_score(ytest, xgbmodelpred))\\npredictedprobablities_c1.append(xgbmodel.predict_proba(xtest))\\n\\nconfmat = m.confusion_matrix(ytest, xgbmodelpred)\\nconfsumh = np.sum(confmat, axis=0)\\npropconfmat = confmat.copy()\\nfor i in range(propconfmat.shape[0]):\\n    propconfmat[:, i] = 100 * propconfmat[:, i] / confsumh[i]\\npredictedconfusionmatrix_proba_c1.append(propconfmat / 100)\";\n",
       "                var nbb_formatted_code = \"ytrain = ytrain_original.copy()\\nytest = ytest_original.copy()\\nytrain, ytest = swapcolumns(ytrain, ytest, 1)\\n# =================================================\\nxgbmodel = xgb.XGBClassifier(random_state=randomseed, n_estimators=50)\\nxgbmodel.fit(xtrain, ytrain)\\nxgbmodelpred = xgbmodel.predict(xtest)\\nprint(m.accuracy_score(ytest, xgbmodelpred))\\n\\nclf_c1.append(xgbmodel)\\nacc_c1.append(m.accuracy_score(ytest, xgbmodelpred))\\npredictedprobablities_c1.append(xgbmodel.predict_proba(xtest))\\n\\nconfmat = m.confusion_matrix(ytest, xgbmodelpred)\\nconfsumh = np.sum(confmat, axis=0)\\npropconfmat = confmat.copy()\\nfor i in range(propconfmat.shape[0]):\\n    propconfmat[:, i] = 100 * propconfmat[:, i] / confsumh[i]\\npredictedconfusionmatrix_proba_c1.append(propconfmat / 100)\";\n",
       "                var nbb_cells = Jupyter.notebook.get_cells();\n",
       "                for (var i = 0; i < nbb_cells.length; ++i) {\n",
       "                    if (nbb_cells[i].input_prompt_number == nbb_cell_id) {\n",
       "                        if (nbb_cells[i].get_text() == nbb_unformatted_code) {\n",
       "                             nbb_cells[i].set_text(nbb_formatted_code);\n",
       "                        }\n",
       "                        break;\n",
       "                    }\n",
       "                }\n",
       "            }, 500);\n",
       "            "
      ],
      "text/plain": [
       "<IPython.core.display.Javascript object>"
      ]
     },
     "metadata": {},
     "output_type": "display_data"
    }
   ],
   "source": [
    "ytrain = ytrain_original.copy()\n",
    "ytest = ytest_original.copy()\n",
    "ytrain, ytest = swapcolumns(ytrain, ytest, 1)\n",
    "# =================================================\n",
    "xgbmodel = xgb.XGBClassifier(random_state=randomseed, n_estimators=50)\n",
    "xgbmodel.fit(xtrain, ytrain)\n",
    "xgbmodelpred = xgbmodel.predict(xtest)\n",
    "print(m.accuracy_score(ytest, xgbmodelpred))\n",
    "\n",
    "clf_c1.append(xgbmodel)\n",
    "acc_c1.append(m.accuracy_score(ytest, xgbmodelpred))\n",
    "predictedprobablities_c1.append(xgbmodel.predict_proba(xtest))\n",
    "\n",
    "confmat = m.confusion_matrix(ytest, xgbmodelpred)\n",
    "confsumh = np.sum(confmat, axis=0)\n",
    "propconfmat = confmat.copy()\n",
    "for i in range(propconfmat.shape[0]):\n",
    "    propconfmat[:, i] = 100 * propconfmat[:, i] / confsumh[i]\n",
    "predictedconfusionmatrix_proba_c1.append(propconfmat / 100)\n"
   ]
  },
  {
   "cell_type": "code",
   "execution_count": null,
   "metadata": {},
   "outputs": [],
   "source": []
  },
  {
   "cell_type": "code",
   "execution_count": 20,
   "metadata": {},
   "outputs": [
    {
     "data": {
      "application/javascript": [
       "\n",
       "            setTimeout(function() {\n",
       "                var nbb_cell_id = 20;\n",
       "                var nbb_unformatted_code = \"# ytrain = ytrain_original.copy()\\n# ytest = ytest_original.copy()\\n# ytrain, ytest = swapcolumns(ytrain, ytest, 1)\\n# # =================================================\\n# svmmodel = svmgpu(random_state=randomseed, probability=True, C=10, gamma=0.1)\\n# svmmodel.fit(xtrain, ytrain)\\n# svmmodelpred = svmmodel.predict(xtest)\\n# print(m.accuracy_score(ytest, svmmodelpred))\\n\\n# clf_c1.append(svmmodel)\\n# acc_c1.append(m.accuracy_score(ytest, svmmodelpred))\\n# predictedprobablities_c1.append(1 - svmmodel.predict_proba(xtest))\\n\\n# confmat = m.confusion_matrix(ytest, svmmodelpred)\\n# confsumh = np.sum(confmat, axis=0)\\n# propconfmat = confmat.copy()\\n# for i in range(propconfmat.shape[0]):\\n#     propconfmat[:, i] = 100 * propconfmat[:, i] / confsumh[i]\\n# predictedconfusionmatrix_proba_c1.append(propconfmat / 100)\";\n",
       "                var nbb_formatted_code = \"# ytrain = ytrain_original.copy()\\n# ytest = ytest_original.copy()\\n# ytrain, ytest = swapcolumns(ytrain, ytest, 1)\\n# # =================================================\\n# svmmodel = svmgpu(random_state=randomseed, probability=True, C=10, gamma=0.1)\\n# svmmodel.fit(xtrain, ytrain)\\n# svmmodelpred = svmmodel.predict(xtest)\\n# print(m.accuracy_score(ytest, svmmodelpred))\\n\\n# clf_c1.append(svmmodel)\\n# acc_c1.append(m.accuracy_score(ytest, svmmodelpred))\\n# predictedprobablities_c1.append(1 - svmmodel.predict_proba(xtest))\\n\\n# confmat = m.confusion_matrix(ytest, svmmodelpred)\\n# confsumh = np.sum(confmat, axis=0)\\n# propconfmat = confmat.copy()\\n# for i in range(propconfmat.shape[0]):\\n#     propconfmat[:, i] = 100 * propconfmat[:, i] / confsumh[i]\\n# predictedconfusionmatrix_proba_c1.append(propconfmat / 100)\";\n",
       "                var nbb_cells = Jupyter.notebook.get_cells();\n",
       "                for (var i = 0; i < nbb_cells.length; ++i) {\n",
       "                    if (nbb_cells[i].input_prompt_number == nbb_cell_id) {\n",
       "                        if (nbb_cells[i].get_text() == nbb_unformatted_code) {\n",
       "                             nbb_cells[i].set_text(nbb_formatted_code);\n",
       "                        }\n",
       "                        break;\n",
       "                    }\n",
       "                }\n",
       "            }, 500);\n",
       "            "
      ],
      "text/plain": [
       "<IPython.core.display.Javascript object>"
      ]
     },
     "metadata": {},
     "output_type": "display_data"
    }
   ],
   "source": [
    "# ytrain = ytrain_original.copy()\n",
    "# ytest = ytest_original.copy()\n",
    "# ytrain, ytest = swapcolumns(ytrain, ytest, 1)\n",
    "# # =================================================\n",
    "# svmmodel = svmgpu(random_state=randomseed, probability=True, C=10, gamma=0.1)\n",
    "# svmmodel.fit(xtrain, ytrain)\n",
    "# svmmodelpred = svmmodel.predict(xtest)\n",
    "# print(m.accuracy_score(ytest, svmmodelpred))\n",
    "\n",
    "# clf_c1.append(svmmodel)\n",
    "# acc_c1.append(m.accuracy_score(ytest, svmmodelpred))\n",
    "# predictedprobablities_c1.append(1 - svmmodel.predict_proba(xtest))\n",
    "\n",
    "# confmat = m.confusion_matrix(ytest, svmmodelpred)\n",
    "# confsumh = np.sum(confmat, axis=0)\n",
    "# propconfmat = confmat.copy()\n",
    "# for i in range(propconfmat.shape[0]):\n",
    "#     propconfmat[:, i] = 100 * propconfmat[:, i] / confsumh[i]\n",
    "# predictedconfusionmatrix_proba_c1.append(propconfmat / 100)"
   ]
  },
  {
   "cell_type": "code",
   "execution_count": 21,
   "metadata": {},
   "outputs": [
    {
     "name": "stdout",
     "output_type": "stream",
     "text": [
      "0  ====================  [1 2 3 4 6 9]\n",
      "0.7083333333333334\n",
      "0.7416666666666667\n",
      "1  ====================  [2 4 5 6 8 9]\n",
      "0.7083333333333334\n",
      "0.7416666666666667\n",
      "2  ====================  [ 1  3  4  5 10 11]\n",
      "0.7083333333333334\n",
      "0.7416666666666667\n",
      "3  ====================  [1 2 3 4 8 9]\n",
      "0.7083333333333334\n",
      "0.7416666666666667\n",
      "4  ====================  [ 0  1  2  4  9 11]\n",
      "0.7083333333333334\n",
      "0.7416666666666667\n",
      "5  ====================  [ 1  3  5  6  7 11]\n",
      "0.7083333333333334\n",
      "0.7416666666666667\n",
      "6  ====================  [ 0  3  5  7  9 11]\n",
      "0.7083333333333334\n",
      "0.7416666666666667\n",
      "7  ====================  [ 0  2  7  9 10 11]\n",
      "0.7083333333333334\n",
      "0.7416666666666667\n",
      "8  ====================  [1 2 5 6 7 9]\n",
      "0.7083333333333334\n",
      "0.7416666666666667\n",
      "9  ====================  [1 3 4 5 8 9]\n",
      "0.7083333333333334\n",
      "0.7416666666666667\n"
     ]
    },
    {
     "data": {
      "application/javascript": [
       "\n",
       "            setTimeout(function() {\n",
       "                var nbb_cell_id = 21;\n",
       "                var nbb_unformatted_code = \"for i in range(len(comb)):\\n    print(i, \\\" ==================== \\\", comb[i])\\n\\n    rf = RandomForestClassifier(random_state=randomseed, n_estimators=50)\\n    rf.fit(xtrain, ytrain)\\n    rfpred = rf.predict(xtest)\\n    print(m.accuracy_score(ytest, rfpred))\\n\\n    clf_c1.append(rf)\\n    acc_c1.append(m.accuracy_score(ytest, rfpred))\\n    predictedprobablities_c1.append(rf.predict_proba(xtest))\\n\\n    confmat = m.confusion_matrix(ytest, rfpred)\\n    confsumh = np.sum(confmat, axis=0)\\n    propconfmat = confmat.copy()\\n    for i in range(propconfmat.shape[0]):\\n        propconfmat[:, i] = 100 * propconfmat[:, i] / confsumh[i]\\n    predictedconfusionmatrix_proba_c1.append(propconfmat / 100)\\n\\n    xgbmodel = xgb.XGBClassifier(random_state=randomseed, n_estimators=50)\\n    xgbmodel.fit(xtrain, ytrain)\\n    xgbmodelpred = xgbmodel.predict(xtest)\\n    print(m.accuracy_score(ytest, xgbmodelpred))\\n\\n    clf_c1.append(xgbmodel)\\n    acc_c1.append(m.accuracy_score(ytest, xgbmodelpred))\\n    predictedprobablities_c1.append(xgbmodel.predict_proba(xtest))\\n\\n    confmat = m.confusion_matrix(ytest, xgbmodelpred)\\n    confsumh = np.sum(confmat, axis=0)\\n    propconfmat = confmat.copy()\\n    for i in range(propconfmat.shape[0]):\\n        propconfmat[:, i] = 100 * propconfmat[:, i] / confsumh[i]\\n    predictedconfusionmatrix_proba_c1.append(propconfmat / 100)\";\n",
       "                var nbb_formatted_code = \"for i in range(len(comb)):\\n    print(i, \\\" ==================== \\\", comb[i])\\n\\n    rf = RandomForestClassifier(random_state=randomseed, n_estimators=50)\\n    rf.fit(xtrain, ytrain)\\n    rfpred = rf.predict(xtest)\\n    print(m.accuracy_score(ytest, rfpred))\\n\\n    clf_c1.append(rf)\\n    acc_c1.append(m.accuracy_score(ytest, rfpred))\\n    predictedprobablities_c1.append(rf.predict_proba(xtest))\\n\\n    confmat = m.confusion_matrix(ytest, rfpred)\\n    confsumh = np.sum(confmat, axis=0)\\n    propconfmat = confmat.copy()\\n    for i in range(propconfmat.shape[0]):\\n        propconfmat[:, i] = 100 * propconfmat[:, i] / confsumh[i]\\n    predictedconfusionmatrix_proba_c1.append(propconfmat / 100)\\n\\n    xgbmodel = xgb.XGBClassifier(random_state=randomseed, n_estimators=50)\\n    xgbmodel.fit(xtrain, ytrain)\\n    xgbmodelpred = xgbmodel.predict(xtest)\\n    print(m.accuracy_score(ytest, xgbmodelpred))\\n\\n    clf_c1.append(xgbmodel)\\n    acc_c1.append(m.accuracy_score(ytest, xgbmodelpred))\\n    predictedprobablities_c1.append(xgbmodel.predict_proba(xtest))\\n\\n    confmat = m.confusion_matrix(ytest, xgbmodelpred)\\n    confsumh = np.sum(confmat, axis=0)\\n    propconfmat = confmat.copy()\\n    for i in range(propconfmat.shape[0]):\\n        propconfmat[:, i] = 100 * propconfmat[:, i] / confsumh[i]\\n    predictedconfusionmatrix_proba_c1.append(propconfmat / 100)\";\n",
       "                var nbb_cells = Jupyter.notebook.get_cells();\n",
       "                for (var i = 0; i < nbb_cells.length; ++i) {\n",
       "                    if (nbb_cells[i].input_prompt_number == nbb_cell_id) {\n",
       "                        if (nbb_cells[i].get_text() == nbb_unformatted_code) {\n",
       "                             nbb_cells[i].set_text(nbb_formatted_code);\n",
       "                        }\n",
       "                        break;\n",
       "                    }\n",
       "                }\n",
       "            }, 500);\n",
       "            "
      ],
      "text/plain": [
       "<IPython.core.display.Javascript object>"
      ]
     },
     "metadata": {},
     "output_type": "display_data"
    }
   ],
   "source": [
    "for i in range(len(comb)):\n",
    "    print(i, \" ==================== \", comb[i])\n",
    "\n",
    "    rf = RandomForestClassifier(random_state=randomseed, n_estimators=50)\n",
    "    rf.fit(xtrain, ytrain)\n",
    "    rfpred = rf.predict(xtest)\n",
    "    print(m.accuracy_score(ytest, rfpred))\n",
    "\n",
    "    clf_c1.append(rf)\n",
    "    acc_c1.append(m.accuracy_score(ytest, rfpred))\n",
    "    predictedprobablities_c1.append(rf.predict_proba(xtest))\n",
    "\n",
    "    confmat = m.confusion_matrix(ytest, rfpred)\n",
    "    confsumh = np.sum(confmat, axis=0)\n",
    "    propconfmat = confmat.copy()\n",
    "    for i in range(propconfmat.shape[0]):\n",
    "        propconfmat[:, i] = 100 * propconfmat[:, i] / confsumh[i]\n",
    "    predictedconfusionmatrix_proba_c1.append(propconfmat / 100)\n",
    "\n",
    "    xgbmodel = xgb.XGBClassifier(random_state=randomseed, n_estimators=50)\n",
    "    xgbmodel.fit(xtrain, ytrain)\n",
    "    xgbmodelpred = xgbmodel.predict(xtest)\n",
    "    print(m.accuracy_score(ytest, xgbmodelpred))\n",
    "\n",
    "    clf_c1.append(xgbmodel)\n",
    "    acc_c1.append(m.accuracy_score(ytest, xgbmodelpred))\n",
    "    predictedprobablities_c1.append(xgbmodel.predict_proba(xtest))\n",
    "\n",
    "    confmat = m.confusion_matrix(ytest, xgbmodelpred)\n",
    "    confsumh = np.sum(confmat, axis=0)\n",
    "    propconfmat = confmat.copy()\n",
    "    for i in range(propconfmat.shape[0]):\n",
    "        propconfmat[:, i] = 100 * propconfmat[:, i] / confsumh[i]\n",
    "    predictedconfusionmatrix_proba_c1.append(propconfmat / 100)"
   ]
  },
  {
   "cell_type": "code",
   "execution_count": 22,
   "metadata": {
    "scrolled": true
   },
   "outputs": [
    {
     "name": "stdout",
     "output_type": "stream",
     "text": [
      "0\n",
      "1\n",
      "2\n",
      "3\n",
      "4\n",
      "5\n",
      "6\n",
      "7\n",
      "8\n",
      "9\n",
      "10\n",
      "11\n",
      "12\n",
      "13\n",
      "14\n",
      "15\n",
      "16\n",
      "17\n",
      "18\n",
      "19\n",
      "20\n",
      "21\n"
     ]
    },
    {
     "data": {
      "application/javascript": [
       "\n",
       "            setTimeout(function() {\n",
       "                var nbb_cell_id = 22;\n",
       "                var nbb_unformatted_code = \"p_k2_c0 = 0\\np_k2_c1 = 0\\nfor i in range(len(predictedprobablities_c1)):\\n    p_k2_c0 += (\\n        predictedprobablities_c1[i][:, 0] * predictedconfusionmatrix_proba_c1[i][0][0]\\n        + predictedprobablities_c1[i][:, 1] * predictedconfusionmatrix_proba_c1[i][0][1]\\n    )\\n\\n    p_k2_c1 += (\\n        predictedprobablities_c1[i][:, 0] * predictedconfusionmatrix_proba_c1[i][1][0]\\n        + predictedprobablities_c1[i][:, 1] * predictedconfusionmatrix_proba_c1[i][1][1]\\n    )\\n\\n    print(i)\\np_k2_c0 = p_k2_c0 / len(predictedprobablities_c0)\\np_k2_c1 = p_k2_c1 / len(predictedprobablities_c0)\";\n",
       "                var nbb_formatted_code = \"p_k2_c0 = 0\\np_k2_c1 = 0\\nfor i in range(len(predictedprobablities_c1)):\\n    p_k2_c0 += (\\n        predictedprobablities_c1[i][:, 0] * predictedconfusionmatrix_proba_c1[i][0][0]\\n        + predictedprobablities_c1[i][:, 1] * predictedconfusionmatrix_proba_c1[i][0][1]\\n    )\\n\\n    p_k2_c1 += (\\n        predictedprobablities_c1[i][:, 0] * predictedconfusionmatrix_proba_c1[i][1][0]\\n        + predictedprobablities_c1[i][:, 1] * predictedconfusionmatrix_proba_c1[i][1][1]\\n    )\\n\\n    print(i)\\np_k2_c0 = p_k2_c0 / len(predictedprobablities_c0)\\np_k2_c1 = p_k2_c1 / len(predictedprobablities_c0)\";\n",
       "                var nbb_cells = Jupyter.notebook.get_cells();\n",
       "                for (var i = 0; i < nbb_cells.length; ++i) {\n",
       "                    if (nbb_cells[i].input_prompt_number == nbb_cell_id) {\n",
       "                        if (nbb_cells[i].get_text() == nbb_unformatted_code) {\n",
       "                             nbb_cells[i].set_text(nbb_formatted_code);\n",
       "                        }\n",
       "                        break;\n",
       "                    }\n",
       "                }\n",
       "            }, 500);\n",
       "            "
      ],
      "text/plain": [
       "<IPython.core.display.Javascript object>"
      ]
     },
     "metadata": {},
     "output_type": "display_data"
    }
   ],
   "source": [
    "p_k2_c0 = 0\n",
    "p_k2_c1 = 0\n",
    "for i in range(len(predictedprobablities_c1)):\n",
    "    p_k2_c0 += (\n",
    "        predictedprobablities_c1[i][:, 0] * predictedconfusionmatrix_proba_c1[i][0][0]\n",
    "        + predictedprobablities_c1[i][:, 1] * predictedconfusionmatrix_proba_c1[i][0][1]\n",
    "    )\n",
    "\n",
    "    p_k2_c1 += (\n",
    "        predictedprobablities_c1[i][:, 0] * predictedconfusionmatrix_proba_c1[i][1][0]\n",
    "        + predictedprobablities_c1[i][:, 1] * predictedconfusionmatrix_proba_c1[i][1][1]\n",
    "    )\n",
    "\n",
    "    print(i)\n",
    "p_k2_c0 = p_k2_c0 / len(predictedprobablities_c0)\n",
    "p_k2_c1 = p_k2_c1 / len(predictedprobablities_c0)"
   ]
  },
  {
   "cell_type": "code",
   "execution_count": 23,
   "metadata": {},
   "outputs": [
    {
     "name": "stdout",
     "output_type": "stream",
     "text": [
      "0.7416666666666667\n",
      "[[113  87]\n",
      " [ 68 332]]\n"
     ]
    },
    {
     "data": {
      "application/javascript": [
       "\n",
       "            setTimeout(function() {\n",
       "                var nbb_cell_id = 23;\n",
       "                var nbb_unformatted_code = \"finalcol = np.zeros((ytest.shape[0], 2))\\nfinalcol[:, 0] = predictedprobablities_c1[1][:, 0]  # p_k2_c0\\nfinalcol[:, 1] = predictedprobablities_c1[1][:, 1]  # p_k2_c1\\nfinalpred = np.argmax(finalcol, axis=1)\\n\\nytrain = ytrain_original.copy()\\nytest = ytest_original.copy()\\nytrain, ytest = swapcolumns(ytrain, ytest, 1)\\n\\nprint(m.accuracy_score(ytest, finalpred))\\nprint(m.confusion_matrix(ytest, finalpred))\\n_mainacc.append(m.accuracy_score(ytest, finalpred))\";\n",
       "                var nbb_formatted_code = \"finalcol = np.zeros((ytest.shape[0], 2))\\nfinalcol[:, 0] = predictedprobablities_c1[1][:, 0]  # p_k2_c0\\nfinalcol[:, 1] = predictedprobablities_c1[1][:, 1]  # p_k2_c1\\nfinalpred = np.argmax(finalcol, axis=1)\\n\\nytrain = ytrain_original.copy()\\nytest = ytest_original.copy()\\nytrain, ytest = swapcolumns(ytrain, ytest, 1)\\n\\nprint(m.accuracy_score(ytest, finalpred))\\nprint(m.confusion_matrix(ytest, finalpred))\\n_mainacc.append(m.accuracy_score(ytest, finalpred))\";\n",
       "                var nbb_cells = Jupyter.notebook.get_cells();\n",
       "                for (var i = 0; i < nbb_cells.length; ++i) {\n",
       "                    if (nbb_cells[i].input_prompt_number == nbb_cell_id) {\n",
       "                        if (nbb_cells[i].get_text() == nbb_unformatted_code) {\n",
       "                             nbb_cells[i].set_text(nbb_formatted_code);\n",
       "                        }\n",
       "                        break;\n",
       "                    }\n",
       "                }\n",
       "            }, 500);\n",
       "            "
      ],
      "text/plain": [
       "<IPython.core.display.Javascript object>"
      ]
     },
     "metadata": {},
     "output_type": "display_data"
    }
   ],
   "source": [
    "finalcol = np.zeros((ytest.shape[0], 2))\n",
    "finalcol[:, 0] = predictedprobablities_c1[1][:, 0]  # p_k2_c0\n",
    "finalcol[:, 1] = predictedprobablities_c1[1][:, 1]  # p_k2_c1\n",
    "finalpred = np.argmax(finalcol, axis=1)\n",
    "\n",
    "ytrain = ytrain_original.copy()\n",
    "ytest = ytest_original.copy()\n",
    "ytrain, ytest = swapcolumns(ytrain, ytest, 1)\n",
    "\n",
    "print(m.accuracy_score(ytest, finalpred))\n",
    "print(m.confusion_matrix(ytest, finalpred))\n",
    "_mainacc.append(m.accuracy_score(ytest, finalpred))"
   ]
  },
  {
   "cell_type": "markdown",
   "metadata": {},
   "source": [
    "# 1.3 Class 2\n",
    "===="
   ]
  },
  {
   "cell_type": "code",
   "execution_count": 24,
   "metadata": {},
   "outputs": [
    {
     "name": "stdout",
     "output_type": "stream",
     "text": [
      "0.8883333333333333\n"
     ]
    },
    {
     "data": {
      "application/javascript": [
       "\n",
       "            setTimeout(function() {\n",
       "                var nbb_cell_id = 24;\n",
       "                var nbb_unformatted_code = \"#=================================================\\n# classs 2\\n#=================================================\\n\\nclf_c2 = []\\nacc_c2 = []\\npredictedprobablities_c2 = []\\npredictedconfusionmatrix_proba_c2 = []\\n\\nytrain=ytrain_original.copy()\\nytest=ytest_original.copy()\\nytrain,ytest= swapcolumns(ytrain,ytest,2)\\n\\n#=================================================\\n\\nrf=RandomForestClassifier(random_state=randomseed, n_estimators=50)\\nrf.fit(xtrain,ytrain)\\nrfpred=rf.predict(xtest)\\nprint(m.accuracy_score(ytest,rfpred))\\n\\nclf_c2.append(rf)\\nacc_c2.append(m.accuracy_score(ytest,rfpred))\\npredictedprobablities_c2.append(rf.predict_proba(xtest))\\n\\nconfmat=m.confusion_matrix(ytest,rfpred)\\nconfsumh=np.sum(confmat,axis=0)\\npropconfmat=confmat.copy()\\nfor i in range(propconfmat.shape[0]):\\n    propconfmat[:,i]= 100*propconfmat[:,i]/confsumh[i] \\npredictedconfusionmatrix_proba_c2.append(propconfmat/100)\";\n",
       "                var nbb_formatted_code = \"# =================================================\\n# classs 2\\n# =================================================\\n\\nclf_c2 = []\\nacc_c2 = []\\npredictedprobablities_c2 = []\\npredictedconfusionmatrix_proba_c2 = []\\n\\nytrain = ytrain_original.copy()\\nytest = ytest_original.copy()\\nytrain, ytest = swapcolumns(ytrain, ytest, 2)\\n\\n# =================================================\\n\\nrf = RandomForestClassifier(random_state=randomseed, n_estimators=50)\\nrf.fit(xtrain, ytrain)\\nrfpred = rf.predict(xtest)\\nprint(m.accuracy_score(ytest, rfpred))\\n\\nclf_c2.append(rf)\\nacc_c2.append(m.accuracy_score(ytest, rfpred))\\npredictedprobablities_c2.append(rf.predict_proba(xtest))\\n\\nconfmat = m.confusion_matrix(ytest, rfpred)\\nconfsumh = np.sum(confmat, axis=0)\\npropconfmat = confmat.copy()\\nfor i in range(propconfmat.shape[0]):\\n    propconfmat[:, i] = 100 * propconfmat[:, i] / confsumh[i]\\npredictedconfusionmatrix_proba_c2.append(propconfmat / 100)\";\n",
       "                var nbb_cells = Jupyter.notebook.get_cells();\n",
       "                for (var i = 0; i < nbb_cells.length; ++i) {\n",
       "                    if (nbb_cells[i].input_prompt_number == nbb_cell_id) {\n",
       "                        if (nbb_cells[i].get_text() == nbb_unformatted_code) {\n",
       "                             nbb_cells[i].set_text(nbb_formatted_code);\n",
       "                        }\n",
       "                        break;\n",
       "                    }\n",
       "                }\n",
       "            }, 500);\n",
       "            "
      ],
      "text/plain": [
       "<IPython.core.display.Javascript object>"
      ]
     },
     "metadata": {},
     "output_type": "display_data"
    }
   ],
   "source": [
    "#=================================================\n",
    "# classs 2\n",
    "#=================================================\n",
    "\n",
    "clf_c2 = []\n",
    "acc_c2 = []\n",
    "predictedprobablities_c2 = []\n",
    "predictedconfusionmatrix_proba_c2 = []\n",
    "\n",
    "ytrain=ytrain_original.copy()\n",
    "ytest=ytest_original.copy()\n",
    "ytrain,ytest= swapcolumns(ytrain,ytest,2)\n",
    "\n",
    "#=================================================\n",
    "\n",
    "rf=RandomForestClassifier(random_state=randomseed, n_estimators=50)\n",
    "rf.fit(xtrain,ytrain)\n",
    "rfpred=rf.predict(xtest)\n",
    "print(m.accuracy_score(ytest,rfpred))\n",
    "\n",
    "clf_c2.append(rf)\n",
    "acc_c2.append(m.accuracy_score(ytest,rfpred))\n",
    "predictedprobablities_c2.append(rf.predict_proba(xtest))\n",
    "\n",
    "confmat=m.confusion_matrix(ytest,rfpred)\n",
    "confsumh=np.sum(confmat,axis=0)\n",
    "propconfmat=confmat.copy()\n",
    "for i in range(propconfmat.shape[0]):\n",
    "    propconfmat[:,i]= 100*propconfmat[:,i]/confsumh[i] \n",
    "predictedconfusionmatrix_proba_c2.append(propconfmat/100)\n"
   ]
  },
  {
   "cell_type": "code",
   "execution_count": 25,
   "metadata": {},
   "outputs": [
    {
     "name": "stdout",
     "output_type": "stream",
     "text": [
      "0.9116666666666666\n"
     ]
    },
    {
     "data": {
      "application/javascript": [
       "\n",
       "            setTimeout(function() {\n",
       "                var nbb_cell_id = 25;\n",
       "                var nbb_unformatted_code = \"ytrain = ytrain_original.copy()\\nytest = ytest_original.copy()\\nytrain, ytest = swapcolumns(ytrain, ytest, 2)\\n# =================================================\\nxgbmodel = xgb.XGBClassifier(random_state=randomseed, n_estimators=50)\\nxgbmodel.fit(xtrain, ytrain)\\nxgbmodelpred = xgbmodel.predict(xtest)\\nprint(m.accuracy_score(ytest, xgbmodelpred))\\n\\nclf_c2.append(xgbmodel)\\nacc_c2.append(m.accuracy_score(ytest, xgbmodelpred))\\npredictedprobablities_c2.append(xgbmodel.predict_proba(xtest))\\n\\nconfmat = m.confusion_matrix(ytest, xgbmodelpred)\\nconfsumh = np.sum(confmat, axis=0)\\npropconfmat = confmat.copy()\\nfor i in range(propconfmat.shape[0]):\\n    propconfmat[:, i] = 100 * propconfmat[:, i] / confsumh[i]\\npredictedconfusionmatrix_proba_c2.append(propconfmat / 100)\";\n",
       "                var nbb_formatted_code = \"ytrain = ytrain_original.copy()\\nytest = ytest_original.copy()\\nytrain, ytest = swapcolumns(ytrain, ytest, 2)\\n# =================================================\\nxgbmodel = xgb.XGBClassifier(random_state=randomseed, n_estimators=50)\\nxgbmodel.fit(xtrain, ytrain)\\nxgbmodelpred = xgbmodel.predict(xtest)\\nprint(m.accuracy_score(ytest, xgbmodelpred))\\n\\nclf_c2.append(xgbmodel)\\nacc_c2.append(m.accuracy_score(ytest, xgbmodelpred))\\npredictedprobablities_c2.append(xgbmodel.predict_proba(xtest))\\n\\nconfmat = m.confusion_matrix(ytest, xgbmodelpred)\\nconfsumh = np.sum(confmat, axis=0)\\npropconfmat = confmat.copy()\\nfor i in range(propconfmat.shape[0]):\\n    propconfmat[:, i] = 100 * propconfmat[:, i] / confsumh[i]\\npredictedconfusionmatrix_proba_c2.append(propconfmat / 100)\";\n",
       "                var nbb_cells = Jupyter.notebook.get_cells();\n",
       "                for (var i = 0; i < nbb_cells.length; ++i) {\n",
       "                    if (nbb_cells[i].input_prompt_number == nbb_cell_id) {\n",
       "                        if (nbb_cells[i].get_text() == nbb_unformatted_code) {\n",
       "                             nbb_cells[i].set_text(nbb_formatted_code);\n",
       "                        }\n",
       "                        break;\n",
       "                    }\n",
       "                }\n",
       "            }, 500);\n",
       "            "
      ],
      "text/plain": [
       "<IPython.core.display.Javascript object>"
      ]
     },
     "metadata": {},
     "output_type": "display_data"
    }
   ],
   "source": [
    "ytrain = ytrain_original.copy()\n",
    "ytest = ytest_original.copy()\n",
    "ytrain, ytest = swapcolumns(ytrain, ytest, 2)\n",
    "# =================================================\n",
    "xgbmodel = xgb.XGBClassifier(random_state=randomseed, n_estimators=50)\n",
    "xgbmodel.fit(xtrain, ytrain)\n",
    "xgbmodelpred = xgbmodel.predict(xtest)\n",
    "print(m.accuracy_score(ytest, xgbmodelpred))\n",
    "\n",
    "clf_c2.append(xgbmodel)\n",
    "acc_c2.append(m.accuracy_score(ytest, xgbmodelpred))\n",
    "predictedprobablities_c2.append(xgbmodel.predict_proba(xtest))\n",
    "\n",
    "confmat = m.confusion_matrix(ytest, xgbmodelpred)\n",
    "confsumh = np.sum(confmat, axis=0)\n",
    "propconfmat = confmat.copy()\n",
    "for i in range(propconfmat.shape[0]):\n",
    "    propconfmat[:, i] = 100 * propconfmat[:, i] / confsumh[i]\n",
    "predictedconfusionmatrix_proba_c2.append(propconfmat / 100)\n"
   ]
  },
  {
   "cell_type": "code",
   "execution_count": 26,
   "metadata": {},
   "outputs": [
    {
     "name": "stdout",
     "output_type": "stream",
     "text": [
      "0.9116666666666666\n"
     ]
    },
    {
     "data": {
      "application/javascript": [
       "\n",
       "            setTimeout(function() {\n",
       "                var nbb_cell_id = 26;\n",
       "                var nbb_unformatted_code = \"ytrain = ytrain_original.copy()\\nytest = ytest_original.copy()\\nytrain, ytest = swapcolumns(ytrain, ytest, 2)\\n# =================================================\\nsvmmodel = svmgpu(random_state=randomseed, probability=True, C=1)\\nsvmmodel.fit(xtrain, ytrain)\\nsvmmodelpred = svmmodel.predict(xtest)\\nprint(m.accuracy_score(ytest, svmmodelpred))\\n\\nclf_c2.append(svmmodel)\\nacc_c2.append(m.accuracy_score(ytest, svmmodelpred))\\npredictedprobablities_c2.append(svmmodel.predict_proba(xtest))\\n\\nconfmat = m.confusion_matrix(ytest, svmmodelpred)\\nconfsumh = np.sum(confmat, axis=0)\\npropconfmat = confmat.copy()\\nfor i in range(propconfmat.shape[0]):\\n    propconfmat[:, i] = 100 * propconfmat[:, i] / confsumh[i]\\npredictedconfusionmatrix_proba_c2.append(propconfmat / 100)\";\n",
       "                var nbb_formatted_code = \"ytrain = ytrain_original.copy()\\nytest = ytest_original.copy()\\nytrain, ytest = swapcolumns(ytrain, ytest, 2)\\n# =================================================\\nsvmmodel = svmgpu(random_state=randomseed, probability=True, C=1)\\nsvmmodel.fit(xtrain, ytrain)\\nsvmmodelpred = svmmodel.predict(xtest)\\nprint(m.accuracy_score(ytest, svmmodelpred))\\n\\nclf_c2.append(svmmodel)\\nacc_c2.append(m.accuracy_score(ytest, svmmodelpred))\\npredictedprobablities_c2.append(svmmodel.predict_proba(xtest))\\n\\nconfmat = m.confusion_matrix(ytest, svmmodelpred)\\nconfsumh = np.sum(confmat, axis=0)\\npropconfmat = confmat.copy()\\nfor i in range(propconfmat.shape[0]):\\n    propconfmat[:, i] = 100 * propconfmat[:, i] / confsumh[i]\\npredictedconfusionmatrix_proba_c2.append(propconfmat / 100)\";\n",
       "                var nbb_cells = Jupyter.notebook.get_cells();\n",
       "                for (var i = 0; i < nbb_cells.length; ++i) {\n",
       "                    if (nbb_cells[i].input_prompt_number == nbb_cell_id) {\n",
       "                        if (nbb_cells[i].get_text() == nbb_unformatted_code) {\n",
       "                             nbb_cells[i].set_text(nbb_formatted_code);\n",
       "                        }\n",
       "                        break;\n",
       "                    }\n",
       "                }\n",
       "            }, 500);\n",
       "            "
      ],
      "text/plain": [
       "<IPython.core.display.Javascript object>"
      ]
     },
     "metadata": {},
     "output_type": "display_data"
    }
   ],
   "source": [
    "ytrain = ytrain_original.copy()\n",
    "ytest = ytest_original.copy()\n",
    "ytrain, ytest = swapcolumns(ytrain, ytest, 2)\n",
    "# =================================================\n",
    "svmmodel = svmgpu(random_state=randomseed, probability=True, C=1)\n",
    "svmmodel.fit(xtrain, ytrain)\n",
    "svmmodelpred = svmmodel.predict(xtest)\n",
    "print(m.accuracy_score(ytest, svmmodelpred))\n",
    "\n",
    "clf_c2.append(svmmodel)\n",
    "acc_c2.append(m.accuracy_score(ytest, svmmodelpred))\n",
    "predictedprobablities_c2.append(svmmodel.predict_proba(xtest))\n",
    "\n",
    "confmat = m.confusion_matrix(ytest, svmmodelpred)\n",
    "confsumh = np.sum(confmat, axis=0)\n",
    "propconfmat = confmat.copy()\n",
    "for i in range(propconfmat.shape[0]):\n",
    "    propconfmat[:, i] = 100 * propconfmat[:, i] / confsumh[i]\n",
    "predictedconfusionmatrix_proba_c2.append(propconfmat / 100)"
   ]
  },
  {
   "cell_type": "code",
   "execution_count": 27,
   "metadata": {
    "scrolled": true
   },
   "outputs": [
    {
     "name": "stdout",
     "output_type": "stream",
     "text": [
      "0  ====================  [1 2 3 4 6 9]\n",
      "0.8883333333333333\n",
      "0.9116666666666666\n",
      "1  ====================  [2 4 5 6 8 9]\n",
      "0.8883333333333333\n",
      "0.9116666666666666\n",
      "2  ====================  [ 1  3  4  5 10 11]\n",
      "0.8883333333333333\n",
      "0.9116666666666666\n",
      "3  ====================  [1 2 3 4 8 9]\n",
      "0.8883333333333333\n",
      "0.9116666666666666\n",
      "4  ====================  [ 0  1  2  4  9 11]\n",
      "0.8883333333333333\n",
      "0.9116666666666666\n",
      "5  ====================  [ 1  3  5  6  7 11]\n",
      "0.8883333333333333\n",
      "0.9116666666666666\n",
      "6  ====================  [ 0  3  5  7  9 11]\n",
      "0.8883333333333333\n",
      "0.9116666666666666\n",
      "7  ====================  [ 0  2  7  9 10 11]\n",
      "0.8883333333333333\n",
      "0.9116666666666666\n",
      "8  ====================  [1 2 5 6 7 9]\n",
      "0.8883333333333333\n",
      "0.9116666666666666\n",
      "9  ====================  [1 3 4 5 8 9]\n",
      "0.8883333333333333\n",
      "0.9116666666666666\n"
     ]
    },
    {
     "data": {
      "application/javascript": [
       "\n",
       "            setTimeout(function() {\n",
       "                var nbb_cell_id = 27;\n",
       "                var nbb_unformatted_code = \"for i in range(len(comb)):\\n    print(i, \\\" ==================== \\\", comb[i])    \\n\\n    rf=RandomForestClassifier(random_state=randomseed, n_estimators=50)\\n    rf.fit(xtrain,ytrain)\\n    rfpred=rf.predict(xtest)\\n    print(m.accuracy_score(ytest,rfpred))\\n\\n    clf_c2.append(rf)\\n    acc_c2.append(m.accuracy_score(ytest,rfpred))\\n    predictedprobablities_c2.append(rf.predict_proba(xtest))\\n\\n    confmat=m.confusion_matrix(ytest,rfpred)\\n    confsumh=np.sum(confmat,axis=0)\\n    propconfmat=confmat.copy()\\n    for i in range(propconfmat.shape[0]):\\n        propconfmat[:,i]= 100*propconfmat[:,i]/confsumh[i] \\n    predictedconfusionmatrix_proba_c2.append(propconfmat/100)\\n\\n    xgbmodel = xgb.XGBClassifier(random_state=randomseed, n_estimators=50)\\n    xgbmodel.fit(xtrain, ytrain)\\n    xgbmodelpred = xgbmodel.predict(xtest)\\n    print(m.accuracy_score(ytest, xgbmodelpred))\\n\\n    clf_c2.append(xgbmodel)\\n    acc_c2.append(m.accuracy_score(ytest, xgbmodelpred))\\n    predictedprobablities_c2.append(xgbmodel.predict_proba(xtest))\\n\\n    confmat = m.confusion_matrix(ytest, xgbmodelpred)\\n    confsumh = np.sum(confmat, axis=0)\\n    propconfmat = confmat.copy()\\n    for i in range(propconfmat.shape[0]):\\n        propconfmat[:, i] = 100 * propconfmat[:, i] / confsumh[i]\\n    predictedconfusionmatrix_proba_c2.append(propconfmat / 100)\";\n",
       "                var nbb_formatted_code = \"for i in range(len(comb)):\\n    print(i, \\\" ==================== \\\", comb[i])\\n\\n    rf = RandomForestClassifier(random_state=randomseed, n_estimators=50)\\n    rf.fit(xtrain, ytrain)\\n    rfpred = rf.predict(xtest)\\n    print(m.accuracy_score(ytest, rfpred))\\n\\n    clf_c2.append(rf)\\n    acc_c2.append(m.accuracy_score(ytest, rfpred))\\n    predictedprobablities_c2.append(rf.predict_proba(xtest))\\n\\n    confmat = m.confusion_matrix(ytest, rfpred)\\n    confsumh = np.sum(confmat, axis=0)\\n    propconfmat = confmat.copy()\\n    for i in range(propconfmat.shape[0]):\\n        propconfmat[:, i] = 100 * propconfmat[:, i] / confsumh[i]\\n    predictedconfusionmatrix_proba_c2.append(propconfmat / 100)\\n\\n    xgbmodel = xgb.XGBClassifier(random_state=randomseed, n_estimators=50)\\n    xgbmodel.fit(xtrain, ytrain)\\n    xgbmodelpred = xgbmodel.predict(xtest)\\n    print(m.accuracy_score(ytest, xgbmodelpred))\\n\\n    clf_c2.append(xgbmodel)\\n    acc_c2.append(m.accuracy_score(ytest, xgbmodelpred))\\n    predictedprobablities_c2.append(xgbmodel.predict_proba(xtest))\\n\\n    confmat = m.confusion_matrix(ytest, xgbmodelpred)\\n    confsumh = np.sum(confmat, axis=0)\\n    propconfmat = confmat.copy()\\n    for i in range(propconfmat.shape[0]):\\n        propconfmat[:, i] = 100 * propconfmat[:, i] / confsumh[i]\\n    predictedconfusionmatrix_proba_c2.append(propconfmat / 100)\";\n",
       "                var nbb_cells = Jupyter.notebook.get_cells();\n",
       "                for (var i = 0; i < nbb_cells.length; ++i) {\n",
       "                    if (nbb_cells[i].input_prompt_number == nbb_cell_id) {\n",
       "                        if (nbb_cells[i].get_text() == nbb_unformatted_code) {\n",
       "                             nbb_cells[i].set_text(nbb_formatted_code);\n",
       "                        }\n",
       "                        break;\n",
       "                    }\n",
       "                }\n",
       "            }, 500);\n",
       "            "
      ],
      "text/plain": [
       "<IPython.core.display.Javascript object>"
      ]
     },
     "metadata": {},
     "output_type": "display_data"
    }
   ],
   "source": [
    "for i in range(len(comb)):\n",
    "    print(i, \" ==================== \", comb[i])    \n",
    "\n",
    "    rf=RandomForestClassifier(random_state=randomseed, n_estimators=50)\n",
    "    rf.fit(xtrain,ytrain)\n",
    "    rfpred=rf.predict(xtest)\n",
    "    print(m.accuracy_score(ytest,rfpred))\n",
    "\n",
    "    clf_c2.append(rf)\n",
    "    acc_c2.append(m.accuracy_score(ytest,rfpred))\n",
    "    predictedprobablities_c2.append(rf.predict_proba(xtest))\n",
    "\n",
    "    confmat=m.confusion_matrix(ytest,rfpred)\n",
    "    confsumh=np.sum(confmat,axis=0)\n",
    "    propconfmat=confmat.copy()\n",
    "    for i in range(propconfmat.shape[0]):\n",
    "        propconfmat[:,i]= 100*propconfmat[:,i]/confsumh[i] \n",
    "    predictedconfusionmatrix_proba_c2.append(propconfmat/100)\n",
    "\n",
    "    xgbmodel = xgb.XGBClassifier(random_state=randomseed, n_estimators=50)\n",
    "    xgbmodel.fit(xtrain, ytrain)\n",
    "    xgbmodelpred = xgbmodel.predict(xtest)\n",
    "    print(m.accuracy_score(ytest, xgbmodelpred))\n",
    "\n",
    "    clf_c2.append(xgbmodel)\n",
    "    acc_c2.append(m.accuracy_score(ytest, xgbmodelpred))\n",
    "    predictedprobablities_c2.append(xgbmodel.predict_proba(xtest))\n",
    "\n",
    "    confmat = m.confusion_matrix(ytest, xgbmodelpred)\n",
    "    confsumh = np.sum(confmat, axis=0)\n",
    "    propconfmat = confmat.copy()\n",
    "    for i in range(propconfmat.shape[0]):\n",
    "        propconfmat[:, i] = 100 * propconfmat[:, i] / confsumh[i]\n",
    "    predictedconfusionmatrix_proba_c2.append(propconfmat / 100)\n"
   ]
  },
  {
   "cell_type": "code",
   "execution_count": 28,
   "metadata": {
    "scrolled": true
   },
   "outputs": [
    {
     "name": "stdout",
     "output_type": "stream",
     "text": [
      "0\n",
      "1\n",
      "2\n",
      "3\n",
      "4\n",
      "5\n",
      "6\n",
      "7\n",
      "8\n",
      "9\n",
      "10\n",
      "11\n",
      "12\n",
      "13\n",
      "14\n",
      "15\n",
      "16\n",
      "17\n",
      "18\n",
      "19\n",
      "20\n",
      "21\n",
      "22\n"
     ]
    },
    {
     "data": {
      "application/javascript": [
       "\n",
       "            setTimeout(function() {\n",
       "                var nbb_cell_id = 28;\n",
       "                var nbb_unformatted_code = \"p_k3_c0 = 0\\np_k3_c1 = 0\\nfor i in range(len(predictedprobablities_c2)):\\n    p_k3_c0 += (\\n        predictedprobablities_c2[i][:, 0] * predictedconfusionmatrix_proba_c2[i][0][0]\\n        + predictedprobablities_c2[i][:, 1] * predictedconfusionmatrix_proba_c2[i][0][1]\\n    )\\n\\n    p_k3_c1 += (\\n        predictedprobablities_c2[i][:, 0] * predictedconfusionmatrix_proba_c2[i][1][0]\\n        + predictedprobablities_c2[i][:, 1] * predictedconfusionmatrix_proba_c2[i][1][1]\\n    )\\n\\n    print(i)\\np_k3_c0 = p_k3_c0 / len(predictedprobablities_c2)\\np_k3_c1 = p_k3_c1 / len(predictedprobablities_c2)\";\n",
       "                var nbb_formatted_code = \"p_k3_c0 = 0\\np_k3_c1 = 0\\nfor i in range(len(predictedprobablities_c2)):\\n    p_k3_c0 += (\\n        predictedprobablities_c2[i][:, 0] * predictedconfusionmatrix_proba_c2[i][0][0]\\n        + predictedprobablities_c2[i][:, 1] * predictedconfusionmatrix_proba_c2[i][0][1]\\n    )\\n\\n    p_k3_c1 += (\\n        predictedprobablities_c2[i][:, 0] * predictedconfusionmatrix_proba_c2[i][1][0]\\n        + predictedprobablities_c2[i][:, 1] * predictedconfusionmatrix_proba_c2[i][1][1]\\n    )\\n\\n    print(i)\\np_k3_c0 = p_k3_c0 / len(predictedprobablities_c2)\\np_k3_c1 = p_k3_c1 / len(predictedprobablities_c2)\";\n",
       "                var nbb_cells = Jupyter.notebook.get_cells();\n",
       "                for (var i = 0; i < nbb_cells.length; ++i) {\n",
       "                    if (nbb_cells[i].input_prompt_number == nbb_cell_id) {\n",
       "                        if (nbb_cells[i].get_text() == nbb_unformatted_code) {\n",
       "                             nbb_cells[i].set_text(nbb_formatted_code);\n",
       "                        }\n",
       "                        break;\n",
       "                    }\n",
       "                }\n",
       "            }, 500);\n",
       "            "
      ],
      "text/plain": [
       "<IPython.core.display.Javascript object>"
      ]
     },
     "metadata": {},
     "output_type": "display_data"
    }
   ],
   "source": [
    "p_k3_c0 = 0\n",
    "p_k3_c1 = 0\n",
    "for i in range(len(predictedprobablities_c2)):\n",
    "    p_k3_c0 += (\n",
    "        predictedprobablities_c2[i][:, 0] * predictedconfusionmatrix_proba_c2[i][0][0]\n",
    "        + predictedprobablities_c2[i][:, 1] * predictedconfusionmatrix_proba_c2[i][0][1]\n",
    "    )\n",
    "\n",
    "    p_k3_c1 += (\n",
    "        predictedprobablities_c2[i][:, 0] * predictedconfusionmatrix_proba_c2[i][1][0]\n",
    "        + predictedprobablities_c2[i][:, 1] * predictedconfusionmatrix_proba_c2[i][1][1]\n",
    "    )\n",
    "\n",
    "    print(i)\n",
    "p_k3_c0 = p_k3_c0 / len(predictedprobablities_c2)\n",
    "p_k3_c1 = p_k3_c1 / len(predictedprobablities_c2)"
   ]
  },
  {
   "cell_type": "code",
   "execution_count": 29,
   "metadata": {},
   "outputs": [
    {
     "name": "stdout",
     "output_type": "stream",
     "text": [
      "0.9183333333333333\n",
      "[[167  33]\n",
      " [ 16 384]]\n"
     ]
    },
    {
     "data": {
      "application/javascript": [
       "\n",
       "            setTimeout(function() {\n",
       "                var nbb_cell_id = 29;\n",
       "                var nbb_unformatted_code = \"finalcol = np.zeros((ytest.shape[0], 2))\\nfinalcol[:, 0] = p_k3_c0\\nfinalcol[:, 1] = p_k3_c1\\nfinalpred = np.argmax(finalcol, axis=1)\\n\\n\\nytrain = ytrain_original.copy()\\nytest = ytest_original.copy()\\nytrain, ytest = swapcolumns(ytrain, ytest, 2)\\n\\nprint(m.accuracy_score(ytest, finalpred))\\nprint(m.confusion_matrix(ytest, finalpred))\\n_mainacc.append(m.accuracy_score(ytest, finalpred))\";\n",
       "                var nbb_formatted_code = \"finalcol = np.zeros((ytest.shape[0], 2))\\nfinalcol[:, 0] = p_k3_c0\\nfinalcol[:, 1] = p_k3_c1\\nfinalpred = np.argmax(finalcol, axis=1)\\n\\n\\nytrain = ytrain_original.copy()\\nytest = ytest_original.copy()\\nytrain, ytest = swapcolumns(ytrain, ytest, 2)\\n\\nprint(m.accuracy_score(ytest, finalpred))\\nprint(m.confusion_matrix(ytest, finalpred))\\n_mainacc.append(m.accuracy_score(ytest, finalpred))\";\n",
       "                var nbb_cells = Jupyter.notebook.get_cells();\n",
       "                for (var i = 0; i < nbb_cells.length; ++i) {\n",
       "                    if (nbb_cells[i].input_prompt_number == nbb_cell_id) {\n",
       "                        if (nbb_cells[i].get_text() == nbb_unformatted_code) {\n",
       "                             nbb_cells[i].set_text(nbb_formatted_code);\n",
       "                        }\n",
       "                        break;\n",
       "                    }\n",
       "                }\n",
       "            }, 500);\n",
       "            "
      ],
      "text/plain": [
       "<IPython.core.display.Javascript object>"
      ]
     },
     "metadata": {},
     "output_type": "display_data"
    }
   ],
   "source": [
    "finalcol = np.zeros((ytest.shape[0], 2))\n",
    "finalcol[:, 0] = p_k3_c0\n",
    "finalcol[:, 1] = p_k3_c1\n",
    "finalpred = np.argmax(finalcol, axis=1)\n",
    "\n",
    "\n",
    "ytrain = ytrain_original.copy()\n",
    "ytest = ytest_original.copy()\n",
    "ytrain, ytest = swapcolumns(ytrain, ytest, 2)\n",
    "\n",
    "print(m.accuracy_score(ytest, finalpred))\n",
    "print(m.confusion_matrix(ytest, finalpred))\n",
    "_mainacc.append(m.accuracy_score(ytest, finalpred))"
   ]
  },
  {
   "cell_type": "markdown",
   "metadata": {},
   "source": [
    "# 2. Combine all the base line models per class\n",
    "====="
   ]
  },
  {
   "cell_type": "code",
   "execution_count": 30,
   "metadata": {
    "scrolled": true
   },
   "outputs": [
    {
     "name": "stdout",
     "output_type": "stream",
     "text": [
      "0\n",
      "1\n",
      "2\n",
      "3\n",
      "4\n",
      "5\n",
      "6\n",
      "7\n",
      "8\n",
      "9\n",
      "10\n",
      "11\n",
      "12\n",
      "13\n",
      "14\n",
      "15\n",
      "16\n",
      "17\n",
      "18\n",
      "19\n",
      "20\n",
      "21\n",
      "22\n"
     ]
    },
    {
     "data": {
      "application/javascript": [
       "\n",
       "            setTimeout(function() {\n",
       "                var nbb_cell_id = 30;\n",
       "                var nbb_unformatted_code = \"p_k1_c0 = 0\\np_k1_c1 = 0\\nfor i in range(len(predictedprobablities_c0)):\\n    p_k1_c0 += (\\n        predictedprobablities_c0[i][:, 0] * predictedconfusionmatrix_proba_c0[i][0][0]\\n        + predictedprobablities_c0[i][:, 1] * predictedconfusionmatrix_proba_c0[i][0][1]\\n    )\\n\\n    p_k1_c1 += (\\n        predictedprobablities_c0[0][:, 0] * predictedconfusionmatrix_proba_c0[0][1][0]\\n        + predictedprobablities_c0[0][:, 1] * predictedconfusionmatrix_proba_c0[0][1][1]\\n    )\\n\\n    print(i)\\np_k1_c0 = p_k1_c0 / len(predictedprobablities_c0)\\np_k1_c1 = p_k1_c1 / len(predictedprobablities_c0)\";\n",
       "                var nbb_formatted_code = \"p_k1_c0 = 0\\np_k1_c1 = 0\\nfor i in range(len(predictedprobablities_c0)):\\n    p_k1_c0 += (\\n        predictedprobablities_c0[i][:, 0] * predictedconfusionmatrix_proba_c0[i][0][0]\\n        + predictedprobablities_c0[i][:, 1] * predictedconfusionmatrix_proba_c0[i][0][1]\\n    )\\n\\n    p_k1_c1 += (\\n        predictedprobablities_c0[0][:, 0] * predictedconfusionmatrix_proba_c0[0][1][0]\\n        + predictedprobablities_c0[0][:, 1] * predictedconfusionmatrix_proba_c0[0][1][1]\\n    )\\n\\n    print(i)\\np_k1_c0 = p_k1_c0 / len(predictedprobablities_c0)\\np_k1_c1 = p_k1_c1 / len(predictedprobablities_c0)\";\n",
       "                var nbb_cells = Jupyter.notebook.get_cells();\n",
       "                for (var i = 0; i < nbb_cells.length; ++i) {\n",
       "                    if (nbb_cells[i].input_prompt_number == nbb_cell_id) {\n",
       "                        if (nbb_cells[i].get_text() == nbb_unformatted_code) {\n",
       "                             nbb_cells[i].set_text(nbb_formatted_code);\n",
       "                        }\n",
       "                        break;\n",
       "                    }\n",
       "                }\n",
       "            }, 500);\n",
       "            "
      ],
      "text/plain": [
       "<IPython.core.display.Javascript object>"
      ]
     },
     "metadata": {},
     "output_type": "display_data"
    }
   ],
   "source": [
    "p_k1_c0 = 0\n",
    "p_k1_c1 = 0\n",
    "for i in range(len(predictedprobablities_c0)):\n",
    "    p_k1_c0 += (\n",
    "        predictedprobablities_c0[i][:, 0] * predictedconfusionmatrix_proba_c0[i][0][0]\n",
    "        + predictedprobablities_c0[i][:, 1] * predictedconfusionmatrix_proba_c0[i][0][1]\n",
    "    )\n",
    "\n",
    "    p_k1_c1 += (\n",
    "        predictedprobablities_c0[0][:, 0] * predictedconfusionmatrix_proba_c0[0][1][0]\n",
    "        + predictedprobablities_c0[0][:, 1] * predictedconfusionmatrix_proba_c0[0][1][1]\n",
    "    )\n",
    "\n",
    "    print(i)\n",
    "p_k1_c0 = p_k1_c0 / len(predictedprobablities_c0)\n",
    "p_k1_c1 = p_k1_c1 / len(predictedprobablities_c0)"
   ]
  },
  {
   "cell_type": "code",
   "execution_count": 31,
   "metadata": {
    "scrolled": true
   },
   "outputs": [
    {
     "name": "stdout",
     "output_type": "stream",
     "text": [
      "0\n",
      "1\n",
      "2\n",
      "3\n",
      "4\n",
      "5\n",
      "6\n",
      "7\n",
      "8\n",
      "9\n",
      "10\n",
      "11\n",
      "12\n",
      "13\n",
      "14\n",
      "15\n",
      "16\n",
      "17\n",
      "18\n",
      "19\n",
      "20\n",
      "21\n"
     ]
    },
    {
     "data": {
      "application/javascript": [
       "\n",
       "            setTimeout(function() {\n",
       "                var nbb_cell_id = 31;\n",
       "                var nbb_unformatted_code = \"p_k2_c0 = 0\\np_k2_c1 = 0\\nfor i in range(len(predictedprobablities_c1)):\\n    p_k2_c0 += (\\n        predictedprobablities_c1[i][:, 0] * predictedconfusionmatrix_proba_c1[i][0][0]\\n        + predictedprobablities_c1[i][:, 1] * predictedconfusionmatrix_proba_c1[i][0][1]\\n    )\\n\\n    p_k2_c1 += (\\n        predictedprobablities_c1[i][:, 0] * predictedconfusionmatrix_proba_c1[i][1][0]\\n        + predictedprobablities_c1[i][:, 1] * predictedconfusionmatrix_proba_c1[i][1][1]\\n    )\\n\\n    print(i)\\np_k2_c0 = p_k2_c0 / len(predictedprobablities_c0)\\np_k2_c1 = p_k2_c1 / len(predictedprobablities_c0)\";\n",
       "                var nbb_formatted_code = \"p_k2_c0 = 0\\np_k2_c1 = 0\\nfor i in range(len(predictedprobablities_c1)):\\n    p_k2_c0 += (\\n        predictedprobablities_c1[i][:, 0] * predictedconfusionmatrix_proba_c1[i][0][0]\\n        + predictedprobablities_c1[i][:, 1] * predictedconfusionmatrix_proba_c1[i][0][1]\\n    )\\n\\n    p_k2_c1 += (\\n        predictedprobablities_c1[i][:, 0] * predictedconfusionmatrix_proba_c1[i][1][0]\\n        + predictedprobablities_c1[i][:, 1] * predictedconfusionmatrix_proba_c1[i][1][1]\\n    )\\n\\n    print(i)\\np_k2_c0 = p_k2_c0 / len(predictedprobablities_c0)\\np_k2_c1 = p_k2_c1 / len(predictedprobablities_c0)\";\n",
       "                var nbb_cells = Jupyter.notebook.get_cells();\n",
       "                for (var i = 0; i < nbb_cells.length; ++i) {\n",
       "                    if (nbb_cells[i].input_prompt_number == nbb_cell_id) {\n",
       "                        if (nbb_cells[i].get_text() == nbb_unformatted_code) {\n",
       "                             nbb_cells[i].set_text(nbb_formatted_code);\n",
       "                        }\n",
       "                        break;\n",
       "                    }\n",
       "                }\n",
       "            }, 500);\n",
       "            "
      ],
      "text/plain": [
       "<IPython.core.display.Javascript object>"
      ]
     },
     "metadata": {},
     "output_type": "display_data"
    }
   ],
   "source": [
    "p_k2_c0 = 0\n",
    "p_k2_c1 = 0\n",
    "for i in range(len(predictedprobablities_c1)):\n",
    "    p_k2_c0 += (\n",
    "        predictedprobablities_c1[i][:, 0] * predictedconfusionmatrix_proba_c1[i][0][0]\n",
    "        + predictedprobablities_c1[i][:, 1] * predictedconfusionmatrix_proba_c1[i][0][1]\n",
    "    )\n",
    "\n",
    "    p_k2_c1 += (\n",
    "        predictedprobablities_c1[i][:, 0] * predictedconfusionmatrix_proba_c1[i][1][0]\n",
    "        + predictedprobablities_c1[i][:, 1] * predictedconfusionmatrix_proba_c1[i][1][1]\n",
    "    )\n",
    "\n",
    "    print(i)\n",
    "p_k2_c0 = p_k2_c0 / len(predictedprobablities_c0)\n",
    "p_k2_c1 = p_k2_c1 / len(predictedprobablities_c0)"
   ]
  },
  {
   "cell_type": "code",
   "execution_count": 32,
   "metadata": {
    "scrolled": true
   },
   "outputs": [
    {
     "name": "stdout",
     "output_type": "stream",
     "text": [
      "0\n",
      "1\n",
      "2\n",
      "3\n",
      "4\n",
      "5\n",
      "6\n",
      "7\n",
      "8\n",
      "9\n",
      "10\n",
      "11\n",
      "12\n",
      "13\n",
      "14\n",
      "15\n",
      "16\n",
      "17\n",
      "18\n",
      "19\n",
      "20\n",
      "21\n",
      "22\n"
     ]
    },
    {
     "data": {
      "application/javascript": [
       "\n",
       "            setTimeout(function() {\n",
       "                var nbb_cell_id = 32;\n",
       "                var nbb_unformatted_code = \"p_k3_c0 = 0\\np_k3_c1 = 0\\nfor i in range(len(predictedprobablities_c2)):\\n    p_k3_c0 += (\\n        predictedprobablities_c2[i][:, 0] * predictedconfusionmatrix_proba_c2[i][0][0]\\n        + predictedprobablities_c2[i][:, 1] * predictedconfusionmatrix_proba_c2[i][0][1]\\n    )\\n\\n    p_k3_c1 += (\\n        predictedprobablities_c2[i][:, 0] * predictedconfusionmatrix_proba_c2[i][1][0]\\n        + predictedprobablities_c2[i][:, 1] * predictedconfusionmatrix_proba_c2[i][1][1]\\n    )\\n\\n    print(i)\\np_k3_c0 = p_k3_c0 / len(predictedprobablities_c2)\\np_k3_c1 = p_k3_c1 / len(predictedprobablities_c2)\";\n",
       "                var nbb_formatted_code = \"p_k3_c0 = 0\\np_k3_c1 = 0\\nfor i in range(len(predictedprobablities_c2)):\\n    p_k3_c0 += (\\n        predictedprobablities_c2[i][:, 0] * predictedconfusionmatrix_proba_c2[i][0][0]\\n        + predictedprobablities_c2[i][:, 1] * predictedconfusionmatrix_proba_c2[i][0][1]\\n    )\\n\\n    p_k3_c1 += (\\n        predictedprobablities_c2[i][:, 0] * predictedconfusionmatrix_proba_c2[i][1][0]\\n        + predictedprobablities_c2[i][:, 1] * predictedconfusionmatrix_proba_c2[i][1][1]\\n    )\\n\\n    print(i)\\np_k3_c0 = p_k3_c0 / len(predictedprobablities_c2)\\np_k3_c1 = p_k3_c1 / len(predictedprobablities_c2)\";\n",
       "                var nbb_cells = Jupyter.notebook.get_cells();\n",
       "                for (var i = 0; i < nbb_cells.length; ++i) {\n",
       "                    if (nbb_cells[i].input_prompt_number == nbb_cell_id) {\n",
       "                        if (nbb_cells[i].get_text() == nbb_unformatted_code) {\n",
       "                             nbb_cells[i].set_text(nbb_formatted_code);\n",
       "                        }\n",
       "                        break;\n",
       "                    }\n",
       "                }\n",
       "            }, 500);\n",
       "            "
      ],
      "text/plain": [
       "<IPython.core.display.Javascript object>"
      ]
     },
     "metadata": {},
     "output_type": "display_data"
    }
   ],
   "source": [
    "p_k3_c0 = 0\n",
    "p_k3_c1 = 0\n",
    "for i in range(len(predictedprobablities_c2)):\n",
    "    p_k3_c0 += (\n",
    "        predictedprobablities_c2[i][:, 0] * predictedconfusionmatrix_proba_c2[i][0][0]\n",
    "        + predictedprobablities_c2[i][:, 1] * predictedconfusionmatrix_proba_c2[i][0][1]\n",
    "    )\n",
    "\n",
    "    p_k3_c1 += (\n",
    "        predictedprobablities_c2[i][:, 0] * predictedconfusionmatrix_proba_c2[i][1][0]\n",
    "        + predictedprobablities_c2[i][:, 1] * predictedconfusionmatrix_proba_c2[i][1][1]\n",
    "    )\n",
    "\n",
    "    print(i)\n",
    "p_k3_c0 = p_k3_c0 / len(predictedprobablities_c2)\n",
    "p_k3_c1 = p_k3_c1 / len(predictedprobablities_c2)"
   ]
  },
  {
   "cell_type": "markdown",
   "metadata": {},
   "source": [
    "# 3. Calculate the probabilities of each class\n",
    "===="
   ]
  },
  {
   "cell_type": "code",
   "execution_count": 41,
   "metadata": {
    "scrolled": true
   },
   "outputs": [
    {
     "data": {
      "application/javascript": [
       "\n",
       "            setTimeout(function() {\n",
       "                var nbb_cell_id = 41;\n",
       "                var nbb_unformatted_code = \"  \\n_p_k1_c0 = _mainacc[0]*p_k1_c0 + (p_k2_c1 * p_k3_c1)\\n_p_k2_c0 = _mainacc[1]*p_k2_c0 + (p_k1_c1 * p_k3_c1)\\n_p_k3_c0 = _mainacc[2]*p_k3_c0 + (p_k2_c1 * p_k1_c1)\";\n",
       "                var nbb_formatted_code = \"_p_k1_c0 = _mainacc[0] * p_k1_c0 + (p_k2_c1 * p_k3_c1)\\n_p_k2_c0 = _mainacc[1] * p_k2_c0 + (p_k1_c1 * p_k3_c1)\\n_p_k3_c0 = _mainacc[2] * p_k3_c0 + (p_k2_c1 * p_k1_c1)\";\n",
       "                var nbb_cells = Jupyter.notebook.get_cells();\n",
       "                for (var i = 0; i < nbb_cells.length; ++i) {\n",
       "                    if (nbb_cells[i].input_prompt_number == nbb_cell_id) {\n",
       "                        if (nbb_cells[i].get_text() == nbb_unformatted_code) {\n",
       "                             nbb_cells[i].set_text(nbb_formatted_code);\n",
       "                        }\n",
       "                        break;\n",
       "                    }\n",
       "                }\n",
       "            }, 500);\n",
       "            "
      ],
      "text/plain": [
       "<IPython.core.display.Javascript object>"
      ]
     },
     "metadata": {},
     "output_type": "display_data"
    }
   ],
   "source": [
    "  \n",
    "_p_k1_c0 = _mainacc[0]*p_k1_c0 + (p_k2_c1 * p_k3_c1)\n",
    "_p_k2_c0 = _mainacc[1]*p_k2_c0 + (p_k1_c1 * p_k3_c1)\n",
    "_p_k3_c0 = _mainacc[2]*p_k3_c0 + (p_k2_c1 * p_k1_c1)\n",
    "\n"
   ]
  },
  {
   "cell_type": "code",
   "execution_count": 42,
   "metadata": {},
   "outputs": [
    {
     "name": "stdout",
     "output_type": "stream",
     "text": [
      "0.73\n",
      "[[155  44   1]\n",
      " [ 65 111  24]\n",
      " [  4  24 172]]\n"
     ]
    },
    {
     "data": {
      "application/javascript": [
       "\n",
       "            setTimeout(function() {\n",
       "                var nbb_cell_id = 42;\n",
       "                var nbb_unformatted_code = \"finalcol = np.zeros((ytest.shape[0], 3))\\nfinalcol[:, 0] = _p_k1_c0\\nfinalcol[:, 1] = _p_k2_c0\\nfinalcol[:, 2] = _p_k3_c0\\nfinalpred = np.argmax(finalcol, axis=1)\\n\\nytest = ytest_original.copy()\\nprint(m.accuracy_score(ytest, finalpred))\\nprint(m.confusion_matrix(ytest, finalpred))\\ntemppred = finalpred\";\n",
       "                var nbb_formatted_code = \"finalcol = np.zeros((ytest.shape[0], 3))\\nfinalcol[:, 0] = _p_k1_c0\\nfinalcol[:, 1] = _p_k2_c0\\nfinalcol[:, 2] = _p_k3_c0\\nfinalpred = np.argmax(finalcol, axis=1)\\n\\nytest = ytest_original.copy()\\nprint(m.accuracy_score(ytest, finalpred))\\nprint(m.confusion_matrix(ytest, finalpred))\\ntemppred = finalpred\";\n",
       "                var nbb_cells = Jupyter.notebook.get_cells();\n",
       "                for (var i = 0; i < nbb_cells.length; ++i) {\n",
       "                    if (nbb_cells[i].input_prompt_number == nbb_cell_id) {\n",
       "                        if (nbb_cells[i].get_text() == nbb_unformatted_code) {\n",
       "                             nbb_cells[i].set_text(nbb_formatted_code);\n",
       "                        }\n",
       "                        break;\n",
       "                    }\n",
       "                }\n",
       "            }, 500);\n",
       "            "
      ],
      "text/plain": [
       "<IPython.core.display.Javascript object>"
      ]
     },
     "metadata": {},
     "output_type": "display_data"
    }
   ],
   "source": [
    "finalcol = np.zeros((ytest.shape[0], 3))\n",
    "finalcol[:, 0] = _p_k1_c0\n",
    "finalcol[:, 1] = _p_k2_c0\n",
    "finalcol[:, 2] = _p_k3_c0\n",
    "finalpred = np.argmax(finalcol, axis=1)\n",
    "\n",
    "ytest = ytest_original.copy()\n",
    "print(m.accuracy_score(ytest, finalpred))\n",
    "print(m.confusion_matrix(ytest, finalpred))\n",
    "temppred = finalpred"
   ]
  },
  {
   "cell_type": "code",
   "execution_count": 43,
   "metadata": {},
   "outputs": [
    {
     "data": {
      "application/javascript": [
       "\n",
       "            setTimeout(function() {\n",
       "                var nbb_cell_id = 43;\n",
       "                var nbb_unformatted_code = \"\\n# finalcol = np.zeros((ytest.shape[0], 3))\\n# finalcol[:, 0] = p_k1_c1\\n# finalcol[:, 1] = p_k2_c1\\n# finalcol[:, 2] = p_k3_c1\\n# finalpred = np.argmin(finalcol, axis=1)\\n\\n# ytest = ytest_original.copy()\\n# print(m.accuracy_score(ytest, finalpred))\\n# print(m.confusion_matrix(ytest, finalpred))\";\n",
       "                var nbb_formatted_code = \"# finalcol = np.zeros((ytest.shape[0], 3))\\n# finalcol[:, 0] = p_k1_c1\\n# finalcol[:, 1] = p_k2_c1\\n# finalcol[:, 2] = p_k3_c1\\n# finalpred = np.argmin(finalcol, axis=1)\\n\\n# ytest = ytest_original.copy()\\n# print(m.accuracy_score(ytest, finalpred))\\n# print(m.confusion_matrix(ytest, finalpred))\";\n",
       "                var nbb_cells = Jupyter.notebook.get_cells();\n",
       "                for (var i = 0; i < nbb_cells.length; ++i) {\n",
       "                    if (nbb_cells[i].input_prompt_number == nbb_cell_id) {\n",
       "                        if (nbb_cells[i].get_text() == nbb_unformatted_code) {\n",
       "                             nbb_cells[i].set_text(nbb_formatted_code);\n",
       "                        }\n",
       "                        break;\n",
       "                    }\n",
       "                }\n",
       "            }, 500);\n",
       "            "
      ],
      "text/plain": [
       "<IPython.core.display.Javascript object>"
      ]
     },
     "metadata": {},
     "output_type": "display_data"
    }
   ],
   "source": [
    "\n",
    "# finalcol = np.zeros((ytest.shape[0], 3))\n",
    "# finalcol[:, 0] = p_k1_c1\n",
    "# finalcol[:, 1] = p_k2_c1\n",
    "# finalcol[:, 2] = p_k3_c1\n",
    "# finalpred = np.argmin(finalcol, axis=1)\n",
    "\n",
    "# ytest = ytest_original.copy()\n",
    "# print(m.accuracy_score(ytest, finalpred))\n",
    "# print(m.confusion_matrix(ytest, finalpred))\n"
   ]
  },
  {
   "cell_type": "code",
   "execution_count": null,
   "metadata": {},
   "outputs": [],
   "source": []
  },
  {
   "cell_type": "code",
   "execution_count": 44,
   "metadata": {},
   "outputs": [
    {
     "data": {
      "application/javascript": [
       "\n",
       "            setTimeout(function() {\n",
       "                var nbb_cell_id = 44;\n",
       "                var nbb_unformatted_code = \"finalcol = np.zeros((ytest.shape[0], 2))\\nfinalcol[:, 0] = p_k3_c0\\nfinalcol[:, 1] = p_k3_c1\\nfinalpred = np.argmax(finalcol, axis=1)\\npd2 = pd.DataFrame(finalcol, columns=[\\\"C0\\\", \\\"NC0\\\"])\";\n",
       "                var nbb_formatted_code = \"finalcol = np.zeros((ytest.shape[0], 2))\\nfinalcol[:, 0] = p_k3_c0\\nfinalcol[:, 1] = p_k3_c1\\nfinalpred = np.argmax(finalcol, axis=1)\\npd2 = pd.DataFrame(finalcol, columns=[\\\"C0\\\", \\\"NC0\\\"])\";\n",
       "                var nbb_cells = Jupyter.notebook.get_cells();\n",
       "                for (var i = 0; i < nbb_cells.length; ++i) {\n",
       "                    if (nbb_cells[i].input_prompt_number == nbb_cell_id) {\n",
       "                        if (nbb_cells[i].get_text() == nbb_unformatted_code) {\n",
       "                             nbb_cells[i].set_text(nbb_formatted_code);\n",
       "                        }\n",
       "                        break;\n",
       "                    }\n",
       "                }\n",
       "            }, 500);\n",
       "            "
      ],
      "text/plain": [
       "<IPython.core.display.Javascript object>"
      ]
     },
     "metadata": {},
     "output_type": "display_data"
    }
   ],
   "source": [
    "finalcol = np.zeros((ytest.shape[0], 2))\n",
    "finalcol[:, 0] = p_k3_c0\n",
    "finalcol[:, 1] = p_k3_c1\n",
    "finalpred = np.argmax(finalcol, axis=1)\n",
    "pd2 = pd.DataFrame(finalcol, columns=[\"C0\", \"NC0\"])"
   ]
  },
  {
   "cell_type": "code",
   "execution_count": 45,
   "metadata": {},
   "outputs": [
    {
     "data": {
      "application/javascript": [
       "\n",
       "            setTimeout(function() {\n",
       "                var nbb_cell_id = 45;\n",
       "                var nbb_unformatted_code = \"finalcol = np.zeros((ytest.shape[0], 2))\\nfinalcol[:, 0] = p_k2_c0\\nfinalcol[:, 1] = p_k2_c1\\nfinalpred = np.argmax(finalcol, axis=1)\\npd1 = pd.DataFrame(finalcol, columns=[\\\"C1\\\", \\\"NC1\\\"])\";\n",
       "                var nbb_formatted_code = \"finalcol = np.zeros((ytest.shape[0], 2))\\nfinalcol[:, 0] = p_k2_c0\\nfinalcol[:, 1] = p_k2_c1\\nfinalpred = np.argmax(finalcol, axis=1)\\npd1 = pd.DataFrame(finalcol, columns=[\\\"C1\\\", \\\"NC1\\\"])\";\n",
       "                var nbb_cells = Jupyter.notebook.get_cells();\n",
       "                for (var i = 0; i < nbb_cells.length; ++i) {\n",
       "                    if (nbb_cells[i].input_prompt_number == nbb_cell_id) {\n",
       "                        if (nbb_cells[i].get_text() == nbb_unformatted_code) {\n",
       "                             nbb_cells[i].set_text(nbb_formatted_code);\n",
       "                        }\n",
       "                        break;\n",
       "                    }\n",
       "                }\n",
       "            }, 500);\n",
       "            "
      ],
      "text/plain": [
       "<IPython.core.display.Javascript object>"
      ]
     },
     "metadata": {},
     "output_type": "display_data"
    }
   ],
   "source": [
    "finalcol = np.zeros((ytest.shape[0], 2))\n",
    "finalcol[:, 0] = p_k2_c0\n",
    "finalcol[:, 1] = p_k2_c1\n",
    "finalpred = np.argmax(finalcol, axis=1)\n",
    "pd1 = pd.DataFrame(finalcol, columns=[\"C1\", \"NC1\"])"
   ]
  },
  {
   "cell_type": "code",
   "execution_count": 46,
   "metadata": {},
   "outputs": [
    {
     "data": {
      "application/javascript": [
       "\n",
       "            setTimeout(function() {\n",
       "                var nbb_cell_id = 46;\n",
       "                var nbb_unformatted_code = \"finalcol = np.zeros((ytest.shape[0], 2))\\nfinalcol[:, 0] = p_k1_c0\\nfinalcol[:, 1] = p_k1_c1\\nfinalpred = np.argmax(finalcol, axis=1)\\npd0 = pd.DataFrame(finalcol, columns=[\\\"C1\\\", \\\"NC1\\\"])\";\n",
       "                var nbb_formatted_code = \"finalcol = np.zeros((ytest.shape[0], 2))\\nfinalcol[:, 0] = p_k1_c0\\nfinalcol[:, 1] = p_k1_c1\\nfinalpred = np.argmax(finalcol, axis=1)\\npd0 = pd.DataFrame(finalcol, columns=[\\\"C1\\\", \\\"NC1\\\"])\";\n",
       "                var nbb_cells = Jupyter.notebook.get_cells();\n",
       "                for (var i = 0; i < nbb_cells.length; ++i) {\n",
       "                    if (nbb_cells[i].input_prompt_number == nbb_cell_id) {\n",
       "                        if (nbb_cells[i].get_text() == nbb_unformatted_code) {\n",
       "                             nbb_cells[i].set_text(nbb_formatted_code);\n",
       "                        }\n",
       "                        break;\n",
       "                    }\n",
       "                }\n",
       "            }, 500);\n",
       "            "
      ],
      "text/plain": [
       "<IPython.core.display.Javascript object>"
      ]
     },
     "metadata": {},
     "output_type": "display_data"
    }
   ],
   "source": [
    "finalcol = np.zeros((ytest.shape[0], 2))\n",
    "finalcol[:, 0] = p_k1_c0\n",
    "finalcol[:, 1] = p_k1_c1\n",
    "finalpred = np.argmax(finalcol, axis=1)\n",
    "pd0 = pd.DataFrame(finalcol, columns=[\"C1\", \"NC1\"])"
   ]
  },
  {
   "cell_type": "code",
   "execution_count": 47,
   "metadata": {
    "scrolled": true
   },
   "outputs": [
    {
     "data": {
      "text/html": [
       "<div>\n",
       "<style scoped>\n",
       "    .dataframe tbody tr th:only-of-type {\n",
       "        vertical-align: middle;\n",
       "    }\n",
       "\n",
       "    .dataframe tbody tr th {\n",
       "        vertical-align: top;\n",
       "    }\n",
       "\n",
       "    .dataframe thead th {\n",
       "        text-align: right;\n",
       "    }\n",
       "</style>\n",
       "<table border=\"1\" class=\"dataframe\">\n",
       "  <thead>\n",
       "    <tr style=\"text-align: right;\">\n",
       "      <th></th>\n",
       "      <th>C1</th>\n",
       "      <th>NC1</th>\n",
       "      <th>C1</th>\n",
       "      <th>NC1</th>\n",
       "      <th>C0</th>\n",
       "      <th>NC0</th>\n",
       "      <th>y</th>\n",
       "      <th>temppred</th>\n",
       "    </tr>\n",
       "  </thead>\n",
       "  <tbody>\n",
       "    <tr>\n",
       "      <th>0</th>\n",
       "      <td>0.171376</td>\n",
       "      <td>0.8700</td>\n",
       "      <td>0.233528</td>\n",
       "      <td>0.713428</td>\n",
       "      <td>0.820957</td>\n",
       "      <td>0.169043</td>\n",
       "      <td>2</td>\n",
       "      <td>2</td>\n",
       "    </tr>\n",
       "    <tr>\n",
       "      <th>1</th>\n",
       "      <td>0.176246</td>\n",
       "      <td>0.8586</td>\n",
       "      <td>0.306328</td>\n",
       "      <td>0.640629</td>\n",
       "      <td>0.663748</td>\n",
       "      <td>0.326252</td>\n",
       "      <td>2</td>\n",
       "      <td>2</td>\n",
       "    </tr>\n",
       "    <tr>\n",
       "      <th>2</th>\n",
       "      <td>0.216889</td>\n",
       "      <td>0.8586</td>\n",
       "      <td>0.423555</td>\n",
       "      <td>0.523401</td>\n",
       "      <td>0.388036</td>\n",
       "      <td>0.601964</td>\n",
       "      <td>2</td>\n",
       "      <td>1</td>\n",
       "    </tr>\n",
       "    <tr>\n",
       "      <th>3</th>\n",
       "      <td>0.173899</td>\n",
       "      <td>0.8586</td>\n",
       "      <td>0.237756</td>\n",
       "      <td>0.709201</td>\n",
       "      <td>0.788086</td>\n",
       "      <td>0.201914</td>\n",
       "      <td>2</td>\n",
       "      <td>2</td>\n",
       "    </tr>\n",
       "    <tr>\n",
       "      <th>4</th>\n",
       "      <td>0.181011</td>\n",
       "      <td>0.8130</td>\n",
       "      <td>0.252964</td>\n",
       "      <td>0.693993</td>\n",
       "      <td>0.736788</td>\n",
       "      <td>0.253212</td>\n",
       "      <td>2</td>\n",
       "      <td>2</td>\n",
       "    </tr>\n",
       "    <tr>\n",
       "      <th>...</th>\n",
       "      <td>...</td>\n",
       "      <td>...</td>\n",
       "      <td>...</td>\n",
       "      <td>...</td>\n",
       "      <td>...</td>\n",
       "      <td>...</td>\n",
       "      <td>...</td>\n",
       "      <td>...</td>\n",
       "    </tr>\n",
       "    <tr>\n",
       "      <th>595</th>\n",
       "      <td>0.579841</td>\n",
       "      <td>0.4482</td>\n",
       "      <td>0.238787</td>\n",
       "      <td>0.708169</td>\n",
       "      <td>0.096659</td>\n",
       "      <td>0.893341</td>\n",
       "      <td>0</td>\n",
       "      <td>0</td>\n",
       "    </tr>\n",
       "    <tr>\n",
       "      <th>596</th>\n",
       "      <td>0.310800</td>\n",
       "      <td>0.6990</td>\n",
       "      <td>0.417894</td>\n",
       "      <td>0.529063</td>\n",
       "      <td>0.135362</td>\n",
       "      <td>0.854638</td>\n",
       "      <td>0</td>\n",
       "      <td>1</td>\n",
       "    </tr>\n",
       "    <tr>\n",
       "      <th>597</th>\n",
       "      <td>0.588900</td>\n",
       "      <td>0.3228</td>\n",
       "      <td>0.220573</td>\n",
       "      <td>0.726383</td>\n",
       "      <td>0.096269</td>\n",
       "      <td>0.893731</td>\n",
       "      <td>0</td>\n",
       "      <td>0</td>\n",
       "    </tr>\n",
       "    <tr>\n",
       "      <th>598</th>\n",
       "      <td>0.540442</td>\n",
       "      <td>0.5622</td>\n",
       "      <td>0.286131</td>\n",
       "      <td>0.660826</td>\n",
       "      <td>0.102480</td>\n",
       "      <td>0.887520</td>\n",
       "      <td>0</td>\n",
       "      <td>0</td>\n",
       "    </tr>\n",
       "    <tr>\n",
       "      <th>599</th>\n",
       "      <td>0.362369</td>\n",
       "      <td>0.6534</td>\n",
       "      <td>0.391691</td>\n",
       "      <td>0.555265</td>\n",
       "      <td>0.111098</td>\n",
       "      <td>0.878902</td>\n",
       "      <td>0</td>\n",
       "      <td>1</td>\n",
       "    </tr>\n",
       "  </tbody>\n",
       "</table>\n",
       "<p>600 rows × 8 columns</p>\n",
       "</div>"
      ],
      "text/plain": [
       "           C1     NC1        C1       NC1        C0       NC0  y  temppred\n",
       "0    0.171376  0.8700  0.233528  0.713428  0.820957  0.169043  2         2\n",
       "1    0.176246  0.8586  0.306328  0.640629  0.663748  0.326252  2         2\n",
       "2    0.216889  0.8586  0.423555  0.523401  0.388036  0.601964  2         1\n",
       "3    0.173899  0.8586  0.237756  0.709201  0.788086  0.201914  2         2\n",
       "4    0.181011  0.8130  0.252964  0.693993  0.736788  0.253212  2         2\n",
       "..        ...     ...       ...       ...       ...       ... ..       ...\n",
       "595  0.579841  0.4482  0.238787  0.708169  0.096659  0.893341  0         0\n",
       "596  0.310800  0.6990  0.417894  0.529063  0.135362  0.854638  0         1\n",
       "597  0.588900  0.3228  0.220573  0.726383  0.096269  0.893731  0         0\n",
       "598  0.540442  0.5622  0.286131  0.660826  0.102480  0.887520  0         0\n",
       "599  0.362369  0.6534  0.391691  0.555265  0.111098  0.878902  0         1\n",
       "\n",
       "[600 rows x 8 columns]"
      ]
     },
     "execution_count": 47,
     "metadata": {},
     "output_type": "execute_result"
    },
    {
     "data": {
      "application/javascript": [
       "\n",
       "            setTimeout(function() {\n",
       "                var nbb_cell_id = 47;\n",
       "                var nbb_unformatted_code = \"temp = pd.concat([pd0, pd1, pd2], axis=1)\\ntemp[\\\"y\\\"] = ytest_original\\ntemp[\\\"temppred\\\"] = temppred\\ntemp\";\n",
       "                var nbb_formatted_code = \"temp = pd.concat([pd0, pd1, pd2], axis=1)\\ntemp[\\\"y\\\"] = ytest_original\\ntemp[\\\"temppred\\\"] = temppred\\ntemp\";\n",
       "                var nbb_cells = Jupyter.notebook.get_cells();\n",
       "                for (var i = 0; i < nbb_cells.length; ++i) {\n",
       "                    if (nbb_cells[i].input_prompt_number == nbb_cell_id) {\n",
       "                        if (nbb_cells[i].get_text() == nbb_unformatted_code) {\n",
       "                             nbb_cells[i].set_text(nbb_formatted_code);\n",
       "                        }\n",
       "                        break;\n",
       "                    }\n",
       "                }\n",
       "            }, 500);\n",
       "            "
      ],
      "text/plain": [
       "<IPython.core.display.Javascript object>"
      ]
     },
     "metadata": {},
     "output_type": "display_data"
    }
   ],
   "source": [
    "temp = pd.concat([pd0, pd1, pd2], axis=1)\n",
    "temp[\"y\"] = ytest_original\n",
    "temp[\"temppred\"] = temppred\n",
    "temp"
   ]
  },
  {
   "cell_type": "code",
   "execution_count": 48,
   "metadata": {},
   "outputs": [
    {
     "data": {
      "application/javascript": [
       "\n",
       "            setTimeout(function() {\n",
       "                var nbb_cell_id = 48;\n",
       "                var nbb_unformatted_code = \"temp.to_csv(\\\"temp.csv\\\", index=False)\";\n",
       "                var nbb_formatted_code = \"temp.to_csv(\\\"temp.csv\\\", index=False)\";\n",
       "                var nbb_cells = Jupyter.notebook.get_cells();\n",
       "                for (var i = 0; i < nbb_cells.length; ++i) {\n",
       "                    if (nbb_cells[i].input_prompt_number == nbb_cell_id) {\n",
       "                        if (nbb_cells[i].get_text() == nbb_unformatted_code) {\n",
       "                             nbb_cells[i].set_text(nbb_formatted_code);\n",
       "                        }\n",
       "                        break;\n",
       "                    }\n",
       "                }\n",
       "            }, 500);\n",
       "            "
      ],
      "text/plain": [
       "<IPython.core.display.Javascript object>"
      ]
     },
     "metadata": {},
     "output_type": "display_data"
    }
   ],
   "source": [
    "temp.to_csv(\"temp.csv\", index=False)"
   ]
  },
  {
   "cell_type": "code",
   "execution_count": null,
   "metadata": {},
   "outputs": [],
   "source": []
  },
  {
   "cell_type": "code",
   "execution_count": null,
   "metadata": {},
   "outputs": [],
   "source": []
  },
  {
   "cell_type": "code",
   "execution_count": null,
   "metadata": {},
   "outputs": [],
   "source": []
  },
  {
   "cell_type": "code",
   "execution_count": null,
   "metadata": {},
   "outputs": [],
   "source": []
  },
  {
   "cell_type": "code",
   "execution_count": 51,
   "metadata": {
    "scrolled": true
   },
   "outputs": [
    {
     "name": "stderr",
     "output_type": "stream",
     "text": [
      "C:\\ProgramData\\Anaconda3\\lib\\site-packages\\ipykernel_launcher.py:7: RuntimeWarning: divide by zero encountered in double_scalars\n",
      "  import sys\n"
     ]
    },
    {
     "data": {
      "image/png": "[encoded data removed]",
      "text/plain": [
       "<Figure size 432x288 with 1 Axes>"
      ]
     },
     "metadata": {
      "needs_background": "light"
     },
     "output_type": "display_data"
    },
    {
     "data": {
      "image/png": "[encoded data removed]",
      "text/plain": [
       "<Figure size 432x288 with 1 Axes>"
      ]
     },
     "metadata": {
      "needs_background": "light"
     },
     "output_type": "display_data"
    },
    {
     "data": {
      "text/plain": [
       "<Figure size 432x288 with 0 Axes>"
      ]
     },
     "metadata": {},
     "output_type": "display_data"
    },
    {
     "data": {
      "text/plain": [
       "<Figure size 432x288 with 0 Axes>"
      ]
     },
     "metadata": {},
     "output_type": "display_data"
    },
    {
     "data": {
      "text/plain": [
       "<Figure size 432x288 with 0 Axes>"
      ]
     },
     "metadata": {},
     "output_type": "display_data"
    },
    {
     "data": {
      "text/plain": [
       "<Figure size 432x288 with 0 Axes>"
      ]
     },
     "metadata": {},
     "output_type": "display_data"
    },
    {
     "data": {
      "text/plain": [
       "<Figure size 432x288 with 0 Axes>"
      ]
     },
     "metadata": {},
     "output_type": "display_data"
    },
    {
     "data": {
      "text/plain": [
       "<Figure size 432x288 with 0 Axes>"
      ]
     },
     "metadata": {},
     "output_type": "display_data"
    },
    {
     "data": {
      "text/plain": [
       "<Figure size 432x288 with 0 Axes>"
      ]
     },
     "metadata": {},
     "output_type": "display_data"
    },
    {
     "data": {
      "text/plain": [
       "<Figure size 432x288 with 0 Axes>"
      ]
     },
     "metadata": {},
     "output_type": "display_data"
    },
    {
     "data": {
      "text/plain": [
       "<Figure size 432x288 with 0 Axes>"
      ]
     },
     "metadata": {},
     "output_type": "display_data"
    },
    {
     "data": {
      "text/plain": [
       "<Figure size 432x288 with 0 Axes>"
      ]
     },
     "metadata": {},
     "output_type": "display_data"
    },
    {
     "data": {
      "text/plain": [
       "<Figure size 432x288 with 0 Axes>"
      ]
     },
     "metadata": {},
     "output_type": "display_data"
    },
    {
     "data": {
      "text/plain": [
       "<Figure size 432x288 with 0 Axes>"
      ]
     },
     "metadata": {},
     "output_type": "display_data"
    },
    {
     "data": {
      "text/plain": [
       "<Figure size 432x288 with 0 Axes>"
      ]
     },
     "metadata": {},
     "output_type": "display_data"
    },
    {
     "data": {
      "text/plain": [
       "<Figure size 432x288 with 0 Axes>"
      ]
     },
     "metadata": {},
     "output_type": "display_data"
    },
    {
     "data": {
      "text/plain": [
       "<Figure size 432x288 with 0 Axes>"
      ]
     },
     "metadata": {},
     "output_type": "display_data"
    },
    {
     "data": {
      "text/plain": [
       "<Figure size 432x288 with 0 Axes>"
      ]
     },
     "metadata": {},
     "output_type": "display_data"
    },
    {
     "data": {
      "text/plain": [
       "<Figure size 432x288 with 0 Axes>"
      ]
     },
     "metadata": {},
     "output_type": "display_data"
    },
    {
     "data": {
      "text/plain": [
       "<Figure size 432x288 with 0 Axes>"
      ]
     },
     "metadata": {},
     "output_type": "display_data"
    },
    {
     "data": {
      "text/plain": [
       "<Figure size 432x288 with 0 Axes>"
      ]
     },
     "metadata": {},
     "output_type": "display_data"
    },
    {
     "data": {
      "text/plain": [
       "<Figure size 432x288 with 0 Axes>"
      ]
     },
     "metadata": {},
     "output_type": "display_data"
    },
    {
     "data": {
      "text/plain": [
       "<Figure size 432x288 with 0 Axes>"
      ]
     },
     "metadata": {},
     "output_type": "display_data"
    },
    {
     "data": {
      "text/plain": [
       "<Figure size 432x288 with 0 Axes>"
      ]
     },
     "metadata": {},
     "output_type": "display_data"
    },
    {
     "data": {
      "text/plain": [
       "<Figure size 432x288 with 0 Axes>"
      ]
     },
     "metadata": {},
     "output_type": "display_data"
    },
    {
     "data": {
      "text/plain": [
       "<Figure size 432x288 with 0 Axes>"
      ]
     },
     "metadata": {},
     "output_type": "display_data"
    },
    {
     "data": {
      "text/plain": [
       "<Figure size 432x288 with 0 Axes>"
      ]
     },
     "metadata": {},
     "output_type": "display_data"
    },
    {
     "data": {
      "text/plain": [
       "<Figure size 432x288 with 0 Axes>"
      ]
     },
     "metadata": {},
     "output_type": "display_data"
    },
    {
     "data": {
      "text/plain": [
       "<Figure size 432x288 with 0 Axes>"
      ]
     },
     "metadata": {},
     "output_type": "display_data"
    },
    {
     "data": {
      "text/plain": [
       "<Figure size 432x288 with 0 Axes>"
      ]
     },
     "metadata": {},
     "output_type": "display_data"
    },
    {
     "data": {
      "text/plain": [
       "<Figure size 432x288 with 0 Axes>"
      ]
     },
     "metadata": {},
     "output_type": "display_data"
    },
    {
     "data": {
      "text/plain": [
       "<Figure size 432x288 with 0 Axes>"
      ]
     },
     "metadata": {},
     "output_type": "display_data"
    },
    {
     "data": {
      "text/plain": [
       "<Figure size 432x288 with 0 Axes>"
      ]
     },
     "metadata": {},
     "output_type": "display_data"
    },
    {
     "data": {
      "text/plain": [
       "<Figure size 432x288 with 0 Axes>"
      ]
     },
     "metadata": {},
     "output_type": "display_data"
    },
    {
     "data": {
      "text/plain": [
       "<Figure size 432x288 with 0 Axes>"
      ]
     },
     "metadata": {},
     "output_type": "display_data"
    },
    {
     "data": {
      "text/plain": [
       "<Figure size 432x288 with 0 Axes>"
      ]
     },
     "metadata": {},
     "output_type": "display_data"
    },
    {
     "data": {
      "text/plain": [
       "<Figure size 432x288 with 0 Axes>"
      ]
     },
     "metadata": {},
     "output_type": "display_data"
    },
    {
     "data": {
      "text/plain": [
       "<Figure size 432x288 with 0 Axes>"
      ]
     },
     "metadata": {},
     "output_type": "display_data"
    },
    {
     "data": {
      "text/plain": [
       "<Figure size 432x288 with 0 Axes>"
      ]
     },
     "metadata": {},
     "output_type": "display_data"
    },
    {
     "data": {
      "text/plain": [
       "<Figure size 432x288 with 0 Axes>"
      ]
     },
     "metadata": {},
     "output_type": "display_data"
    },
    {
     "data": {
      "text/plain": [
       "<Figure size 432x288 with 0 Axes>"
      ]
     },
     "metadata": {},
     "output_type": "display_data"
    },
    {
     "data": {
      "text/plain": [
       "<Figure size 432x288 with 0 Axes>"
      ]
     },
     "metadata": {},
     "output_type": "display_data"
    },
    {
     "data": {
      "text/plain": [
       "<Figure size 432x288 with 0 Axes>"
      ]
     },
     "metadata": {},
     "output_type": "display_data"
    },
    {
     "data": {
      "text/plain": [
       "<Figure size 432x288 with 0 Axes>"
      ]
     },
     "metadata": {},
     "output_type": "display_data"
    },
    {
     "data": {
      "text/plain": [
       "<Figure size 432x288 with 0 Axes>"
      ]
     },
     "metadata": {},
     "output_type": "display_data"
    },
    {
     "data": {
      "text/plain": [
       "<Figure size 432x288 with 0 Axes>"
      ]
     },
     "metadata": {},
     "output_type": "display_data"
    },
    {
     "data": {
      "text/plain": [
       "<Figure size 432x288 with 0 Axes>"
      ]
     },
     "metadata": {},
     "output_type": "display_data"
    },
    {
     "data": {
      "text/plain": [
       "<Figure size 432x288 with 0 Axes>"
      ]
     },
     "metadata": {},
     "output_type": "display_data"
    },
    {
     "data": {
      "text/plain": [
       "<Figure size 432x288 with 0 Axes>"
      ]
     },
     "metadata": {},
     "output_type": "display_data"
    },
    {
     "data": {
      "text/plain": [
       "<Figure size 432x288 with 0 Axes>"
      ]
     },
     "metadata": {},
     "output_type": "display_data"
    },
    {
     "data": {
      "text/plain": [
       "<Figure size 432x288 with 0 Axes>"
      ]
     },
     "metadata": {},
     "output_type": "display_data"
    },
    {
     "data": {
      "text/plain": [
       "<Figure size 432x288 with 0 Axes>"
      ]
     },
     "metadata": {},
     "output_type": "display_data"
    },
    {
     "data": {
      "text/plain": [
       "<Figure size 432x288 with 0 Axes>"
      ]
     },
     "metadata": {},
     "output_type": "display_data"
    },
    {
     "data": {
      "text/plain": [
       "<Figure size 432x288 with 0 Axes>"
      ]
     },
     "metadata": {},
     "output_type": "display_data"
    },
    {
     "data": {
      "text/plain": [
       "<Figure size 432x288 with 0 Axes>"
      ]
     },
     "metadata": {},
     "output_type": "display_data"
    },
    {
     "data": {
      "text/plain": [
       "<Figure size 432x288 with 0 Axes>"
      ]
     },
     "metadata": {},
     "output_type": "display_data"
    },
    {
     "data": {
      "text/plain": [
       "<Figure size 432x288 with 0 Axes>"
      ]
     },
     "metadata": {},
     "output_type": "display_data"
    },
    {
     "data": {
      "text/plain": [
       "<Figure size 432x288 with 0 Axes>"
      ]
     },
     "metadata": {},
     "output_type": "display_data"
    },
    {
     "data": {
      "text/plain": [
       "<Figure size 432x288 with 0 Axes>"
      ]
     },
     "metadata": {},
     "output_type": "display_data"
    },
    {
     "data": {
      "text/plain": [
       "<Figure size 432x288 with 0 Axes>"
      ]
     },
     "metadata": {},
     "output_type": "display_data"
    },
    {
     "data": {
      "text/plain": [
       "<Figure size 432x288 with 0 Axes>"
      ]
     },
     "metadata": {},
     "output_type": "display_data"
    },
    {
     "data": {
      "text/plain": [
       "<Figure size 432x288 with 0 Axes>"
      ]
     },
     "metadata": {},
     "output_type": "display_data"
    },
    {
     "data": {
      "text/plain": [
       "<Figure size 432x288 with 0 Axes>"
      ]
     },
     "metadata": {},
     "output_type": "display_data"
    },
    {
     "data": {
      "text/plain": [
       "<Figure size 432x288 with 0 Axes>"
      ]
     },
     "metadata": {},
     "output_type": "display_data"
    },
    {
     "data": {
      "text/plain": [
       "<Figure size 432x288 with 0 Axes>"
      ]
     },
     "metadata": {},
     "output_type": "display_data"
    },
    {
     "data": {
      "text/plain": [
       "<Figure size 432x288 with 0 Axes>"
      ]
     },
     "metadata": {},
     "output_type": "display_data"
    },
    {
     "data": {
      "text/plain": [
       "<Figure size 432x288 with 0 Axes>"
      ]
     },
     "metadata": {},
     "output_type": "display_data"
    },
    {
     "data": {
      "text/plain": [
       "<Figure size 432x288 with 0 Axes>"
      ]
     },
     "metadata": {},
     "output_type": "display_data"
    },
    {
     "data": {
      "text/plain": [
       "<Figure size 432x288 with 0 Axes>"
      ]
     },
     "metadata": {},
     "output_type": "display_data"
    },
    {
     "data": {
      "text/plain": [
       "<Figure size 432x288 with 0 Axes>"
      ]
     },
     "metadata": {},
     "output_type": "display_data"
    },
    {
     "data": {
      "text/plain": [
       "<Figure size 432x288 with 0 Axes>"
      ]
     },
     "metadata": {},
     "output_type": "display_data"
    },
    {
     "data": {
      "text/plain": [
       "<Figure size 432x288 with 0 Axes>"
      ]
     },
     "metadata": {},
     "output_type": "display_data"
    },
    {
     "data": {
      "text/plain": [
       "<Figure size 432x288 with 0 Axes>"
      ]
     },
     "metadata": {},
     "output_type": "display_data"
    },
    {
     "data": {
      "text/plain": [
       "<Figure size 432x288 with 0 Axes>"
      ]
     },
     "metadata": {},
     "output_type": "display_data"
    },
    {
     "data": {
      "text/plain": [
       "<Figure size 432x288 with 0 Axes>"
      ]
     },
     "metadata": {},
     "output_type": "display_data"
    },
    {
     "data": {
      "text/plain": [
       "<Figure size 432x288 with 0 Axes>"
      ]
     },
     "metadata": {},
     "output_type": "display_data"
    },
    {
     "data": {
      "text/plain": [
       "<Figure size 432x288 with 0 Axes>"
      ]
     },
     "metadata": {},
     "output_type": "display_data"
    },
    {
     "data": {
      "text/plain": [
       "<Figure size 432x288 with 0 Axes>"
      ]
     },
     "metadata": {},
     "output_type": "display_data"
    },
    {
     "data": {
      "text/plain": [
       "<Figure size 432x288 with 0 Axes>"
      ]
     },
     "metadata": {},
     "output_type": "display_data"
    },
    {
     "data": {
      "text/plain": [
       "<Figure size 432x288 with 0 Axes>"
      ]
     },
     "metadata": {},
     "output_type": "display_data"
    },
    {
     "data": {
      "text/plain": [
       "<Figure size 432x288 with 0 Axes>"
      ]
     },
     "metadata": {},
     "output_type": "display_data"
    },
    {
     "data": {
      "text/plain": [
       "<Figure size 432x288 with 0 Axes>"
      ]
     },
     "metadata": {},
     "output_type": "display_data"
    },
    {
     "data": {
      "text/plain": [
       "<Figure size 432x288 with 0 Axes>"
      ]
     },
     "metadata": {},
     "output_type": "display_data"
    },
    {
     "data": {
      "text/plain": [
       "<Figure size 432x288 with 0 Axes>"
      ]
     },
     "metadata": {},
     "output_type": "display_data"
    },
    {
     "data": {
      "text/plain": [
       "<Figure size 432x288 with 0 Axes>"
      ]
     },
     "metadata": {},
     "output_type": "display_data"
    },
    {
     "data": {
      "text/plain": [
       "<Figure size 432x288 with 0 Axes>"
      ]
     },
     "metadata": {},
     "output_type": "display_data"
    },
    {
     "data": {
      "text/plain": [
       "<Figure size 432x288 with 0 Axes>"
      ]
     },
     "metadata": {},
     "output_type": "display_data"
    },
    {
     "data": {
      "text/plain": [
       "<Figure size 432x288 with 0 Axes>"
      ]
     },
     "metadata": {},
     "output_type": "display_data"
    },
    {
     "data": {
      "text/plain": [
       "<Figure size 432x288 with 0 Axes>"
      ]
     },
     "metadata": {},
     "output_type": "display_data"
    },
    {
     "data": {
      "text/plain": [
       "<Figure size 432x288 with 0 Axes>"
      ]
     },
     "metadata": {},
     "output_type": "display_data"
    },
    {
     "data": {
      "text/plain": [
       "<Figure size 432x288 with 0 Axes>"
      ]
     },
     "metadata": {},
     "output_type": "display_data"
    },
    {
     "data": {
      "text/plain": [
       "<Figure size 432x288 with 0 Axes>"
      ]
     },
     "metadata": {},
     "output_type": "display_data"
    },
    {
     "data": {
      "text/plain": [
       "<Figure size 432x288 with 0 Axes>"
      ]
     },
     "metadata": {},
     "output_type": "display_data"
    },
    {
     "data": {
      "text/plain": [
       "<Figure size 432x288 with 0 Axes>"
      ]
     },
     "metadata": {},
     "output_type": "display_data"
    },
    {
     "data": {
      "text/plain": [
       "<Figure size 432x288 with 0 Axes>"
      ]
     },
     "metadata": {},
     "output_type": "display_data"
    },
    {
     "data": {
      "text/plain": [
       "<Figure size 432x288 with 0 Axes>"
      ]
     },
     "metadata": {},
     "output_type": "display_data"
    },
    {
     "data": {
      "text/plain": [
       "<Figure size 432x288 with 0 Axes>"
      ]
     },
     "metadata": {},
     "output_type": "display_data"
    },
    {
     "data": {
      "text/plain": [
       "<Figure size 432x288 with 0 Axes>"
      ]
     },
     "metadata": {},
     "output_type": "display_data"
    },
    {
     "data": {
      "text/plain": [
       "<Figure size 432x288 with 0 Axes>"
      ]
     },
     "metadata": {},
     "output_type": "display_data"
    },
    {
     "data": {
      "text/plain": [
       "<Figure size 432x288 with 0 Axes>"
      ]
     },
     "metadata": {},
     "output_type": "display_data"
    },
    {
     "data": {
      "text/plain": [
       "<Figure size 432x288 with 0 Axes>"
      ]
     },
     "metadata": {},
     "output_type": "display_data"
    },
    {
     "data": {
      "text/plain": [
       "<Figure size 432x288 with 0 Axes>"
      ]
     },
     "metadata": {},
     "output_type": "display_data"
    },
    {
     "data": {
      "text/plain": [
       "<Figure size 432x288 with 0 Axes>"
      ]
     },
     "metadata": {},
     "output_type": "display_data"
    },
    {
     "data": {
      "text/plain": [
       "<Figure size 432x288 with 0 Axes>"
      ]
     },
     "metadata": {},
     "output_type": "display_data"
    },
    {
     "data": {
      "text/plain": [
       "<Figure size 432x288 with 0 Axes>"
      ]
     },
     "metadata": {},
     "output_type": "display_data"
    },
    {
     "data": {
      "text/plain": [
       "<Figure size 432x288 with 0 Axes>"
      ]
     },
     "metadata": {},
     "output_type": "display_data"
    },
    {
     "data": {
      "text/plain": [
       "<Figure size 432x288 with 0 Axes>"
      ]
     },
     "metadata": {},
     "output_type": "display_data"
    },
    {
     "data": {
      "text/plain": [
       "<Figure size 432x288 with 0 Axes>"
      ]
     },
     "metadata": {},
     "output_type": "display_data"
    },
    {
     "data": {
      "text/plain": [
       "<Figure size 432x288 with 0 Axes>"
      ]
     },
     "metadata": {},
     "output_type": "display_data"
    },
    {
     "data": {
      "text/plain": [
       "<Figure size 432x288 with 0 Axes>"
      ]
     },
     "metadata": {},
     "output_type": "display_data"
    },
    {
     "data": {
      "text/plain": [
       "<Figure size 432x288 with 0 Axes>"
      ]
     },
     "metadata": {},
     "output_type": "display_data"
    },
    {
     "data": {
      "text/plain": [
       "<Figure size 432x288 with 0 Axes>"
      ]
     },
     "metadata": {},
     "output_type": "display_data"
    },
    {
     "data": {
      "text/plain": [
       "<Figure size 432x288 with 0 Axes>"
      ]
     },
     "metadata": {},
     "output_type": "display_data"
    },
    {
     "data": {
      "text/plain": [
       "<Figure size 432x288 with 0 Axes>"
      ]
     },
     "metadata": {},
     "output_type": "display_data"
    },
    {
     "data": {
      "text/plain": [
       "<Figure size 432x288 with 0 Axes>"
      ]
     },
     "metadata": {},
     "output_type": "display_data"
    },
    {
     "data": {
      "text/plain": [
       "<Figure size 432x288 with 0 Axes>"
      ]
     },
     "metadata": {},
     "output_type": "display_data"
    },
    {
     "data": {
      "text/plain": [
       "<Figure size 432x288 with 0 Axes>"
      ]
     },
     "metadata": {},
     "output_type": "display_data"
    },
    {
     "data": {
      "text/plain": [
       "<Figure size 432x288 with 0 Axes>"
      ]
     },
     "metadata": {},
     "output_type": "display_data"
    },
    {
     "data": {
      "text/plain": [
       "<Figure size 432x288 with 0 Axes>"
      ]
     },
     "metadata": {},
     "output_type": "display_data"
    },
    {
     "data": {
      "text/plain": [
       "<Figure size 432x288 with 0 Axes>"
      ]
     },
     "metadata": {},
     "output_type": "display_data"
    },
    {
     "data": {
      "text/plain": [
       "<Figure size 432x288 with 0 Axes>"
      ]
     },
     "metadata": {},
     "output_type": "display_data"
    },
    {
     "data": {
      "text/plain": [
       "<Figure size 432x288 with 0 Axes>"
      ]
     },
     "metadata": {},
     "output_type": "display_data"
    },
    {
     "data": {
      "text/plain": [
       "<Figure size 432x288 with 0 Axes>"
      ]
     },
     "metadata": {},
     "output_type": "display_data"
    },
    {
     "data": {
      "text/plain": [
       "<Figure size 432x288 with 0 Axes>"
      ]
     },
     "metadata": {},
     "output_type": "display_data"
    },
    {
     "data": {
      "text/plain": [
       "<Figure size 432x288 with 0 Axes>"
      ]
     },
     "metadata": {},
     "output_type": "display_data"
    },
    {
     "data": {
      "text/plain": [
       "<Figure size 432x288 with 0 Axes>"
      ]
     },
     "metadata": {},
     "output_type": "display_data"
    },
    {
     "data": {
      "text/plain": [
       "<Figure size 432x288 with 0 Axes>"
      ]
     },
     "metadata": {},
     "output_type": "display_data"
    },
    {
     "data": {
      "text/plain": [
       "<Figure size 432x288 with 0 Axes>"
      ]
     },
     "metadata": {},
     "output_type": "display_data"
    },
    {
     "data": {
      "text/plain": [
       "<Figure size 432x288 with 0 Axes>"
      ]
     },
     "metadata": {},
     "output_type": "display_data"
    },
    {
     "data": {
      "text/plain": [
       "<Figure size 432x288 with 0 Axes>"
      ]
     },
     "metadata": {},
     "output_type": "display_data"
    },
    {
     "data": {
      "text/plain": [
       "<Figure size 432x288 with 0 Axes>"
      ]
     },
     "metadata": {},
     "output_type": "display_data"
    },
    {
     "data": {
      "text/plain": [
       "<Figure size 432x288 with 0 Axes>"
      ]
     },
     "metadata": {},
     "output_type": "display_data"
    },
    {
     "data": {
      "text/plain": [
       "<Figure size 432x288 with 0 Axes>"
      ]
     },
     "metadata": {},
     "output_type": "display_data"
    },
    {
     "data": {
      "text/plain": [
       "<Figure size 432x288 with 0 Axes>"
      ]
     },
     "metadata": {},
     "output_type": "display_data"
    },
    {
     "data": {
      "text/plain": [
       "<Figure size 432x288 with 0 Axes>"
      ]
     },
     "metadata": {},
     "output_type": "display_data"
    },
    {
     "data": {
      "text/plain": [
       "<Figure size 432x288 with 0 Axes>"
      ]
     },
     "metadata": {},
     "output_type": "display_data"
    },
    {
     "data": {
      "text/plain": [
       "<Figure size 432x288 with 0 Axes>"
      ]
     },
     "metadata": {},
     "output_type": "display_data"
    },
    {
     "data": {
      "text/plain": [
       "<Figure size 432x288 with 0 Axes>"
      ]
     },
     "metadata": {},
     "output_type": "display_data"
    },
    {
     "data": {
      "text/plain": [
       "<Figure size 432x288 with 0 Axes>"
      ]
     },
     "metadata": {},
     "output_type": "display_data"
    },
    {
     "data": {
      "text/plain": [
       "<Figure size 432x288 with 0 Axes>"
      ]
     },
     "metadata": {},
     "output_type": "display_data"
    },
    {
     "data": {
      "text/plain": [
       "<Figure size 432x288 with 0 Axes>"
      ]
     },
     "metadata": {},
     "output_type": "display_data"
    },
    {
     "data": {
      "text/plain": [
       "<Figure size 432x288 with 0 Axes>"
      ]
     },
     "metadata": {},
     "output_type": "display_data"
    },
    {
     "data": {
      "text/plain": [
       "<Figure size 432x288 with 0 Axes>"
      ]
     },
     "metadata": {},
     "output_type": "display_data"
    },
    {
     "data": {
      "text/plain": [
       "<Figure size 432x288 with 0 Axes>"
      ]
     },
     "metadata": {},
     "output_type": "display_data"
    },
    {
     "data": {
      "text/plain": [
       "<Figure size 432x288 with 0 Axes>"
      ]
     },
     "metadata": {},
     "output_type": "display_data"
    },
    {
     "data": {
      "text/plain": [
       "<Figure size 432x288 with 0 Axes>"
      ]
     },
     "metadata": {},
     "output_type": "display_data"
    },
    {
     "data": {
      "text/plain": [
       "<Figure size 432x288 with 0 Axes>"
      ]
     },
     "metadata": {},
     "output_type": "display_data"
    },
    {
     "data": {
      "text/plain": [
       "<Figure size 432x288 with 0 Axes>"
      ]
     },
     "metadata": {},
     "output_type": "display_data"
    },
    {
     "data": {
      "text/plain": [
       "<Figure size 432x288 with 0 Axes>"
      ]
     },
     "metadata": {},
     "output_type": "display_data"
    },
    {
     "data": {
      "text/plain": [
       "<Figure size 432x288 with 0 Axes>"
      ]
     },
     "metadata": {},
     "output_type": "display_data"
    },
    {
     "data": {
      "text/plain": [
       "<Figure size 432x288 with 0 Axes>"
      ]
     },
     "metadata": {},
     "output_type": "display_data"
    },
    {
     "data": {
      "text/plain": [
       "<Figure size 432x288 with 0 Axes>"
      ]
     },
     "metadata": {},
     "output_type": "display_data"
    },
    {
     "data": {
      "text/plain": [
       "<Figure size 432x288 with 0 Axes>"
      ]
     },
     "metadata": {},
     "output_type": "display_data"
    },
    {
     "data": {
      "text/plain": [
       "<Figure size 432x288 with 0 Axes>"
      ]
     },
     "metadata": {},
     "output_type": "display_data"
    },
    {
     "data": {
      "text/plain": [
       "<Figure size 432x288 with 0 Axes>"
      ]
     },
     "metadata": {},
     "output_type": "display_data"
    },
    {
     "data": {
      "text/plain": [
       "<Figure size 432x288 with 0 Axes>"
      ]
     },
     "metadata": {},
     "output_type": "display_data"
    },
    {
     "data": {
      "text/plain": [
       "<Figure size 432x288 with 0 Axes>"
      ]
     },
     "metadata": {},
     "output_type": "display_data"
    },
    {
     "data": {
      "text/plain": [
       "<Figure size 432x288 with 0 Axes>"
      ]
     },
     "metadata": {},
     "output_type": "display_data"
    },
    {
     "data": {
      "text/plain": [
       "<Figure size 432x288 with 0 Axes>"
      ]
     },
     "metadata": {},
     "output_type": "display_data"
    },
    {
     "data": {
      "text/plain": [
       "<Figure size 432x288 with 0 Axes>"
      ]
     },
     "metadata": {},
     "output_type": "display_data"
    },
    {
     "data": {
      "text/plain": [
       "<Figure size 432x288 with 0 Axes>"
      ]
     },
     "metadata": {},
     "output_type": "display_data"
    },
    {
     "data": {
      "text/plain": [
       "<Figure size 432x288 with 0 Axes>"
      ]
     },
     "metadata": {},
     "output_type": "display_data"
    },
    {
     "data": {
      "text/plain": [
       "<Figure size 432x288 with 0 Axes>"
      ]
     },
     "metadata": {},
     "output_type": "display_data"
    },
    {
     "data": {
      "text/plain": [
       "<Figure size 432x288 with 0 Axes>"
      ]
     },
     "metadata": {},
     "output_type": "display_data"
    },
    {
     "data": {
      "text/plain": [
       "<Figure size 432x288 with 0 Axes>"
      ]
     },
     "metadata": {},
     "output_type": "display_data"
    },
    {
     "data": {
      "text/plain": [
       "<Figure size 432x288 with 0 Axes>"
      ]
     },
     "metadata": {},
     "output_type": "display_data"
    },
    {
     "data": {
      "text/plain": [
       "<Figure size 432x288 with 0 Axes>"
      ]
     },
     "metadata": {},
     "output_type": "display_data"
    },
    {
     "data": {
      "text/plain": [
       "<Figure size 432x288 with 0 Axes>"
      ]
     },
     "metadata": {},
     "output_type": "display_data"
    },
    {
     "data": {
      "text/plain": [
       "<Figure size 432x288 with 0 Axes>"
      ]
     },
     "metadata": {},
     "output_type": "display_data"
    },
    {
     "data": {
      "text/plain": [
       "<Figure size 432x288 with 0 Axes>"
      ]
     },
     "metadata": {},
     "output_type": "display_data"
    },
    {
     "data": {
      "text/plain": [
       "<Figure size 432x288 with 0 Axes>"
      ]
     },
     "metadata": {},
     "output_type": "display_data"
    },
    {
     "data": {
      "text/plain": [
       "<Figure size 432x288 with 0 Axes>"
      ]
     },
     "metadata": {},
     "output_type": "display_data"
    },
    {
     "data": {
      "text/plain": [
       "<Figure size 432x288 with 0 Axes>"
      ]
     },
     "metadata": {},
     "output_type": "display_data"
    },
    {
     "data": {
      "text/plain": [
       "<Figure size 432x288 with 0 Axes>"
      ]
     },
     "metadata": {},
     "output_type": "display_data"
    },
    {
     "data": {
      "text/plain": [
       "<Figure size 432x288 with 0 Axes>"
      ]
     },
     "metadata": {},
     "output_type": "display_data"
    },
    {
     "data": {
      "text/plain": [
       "<Figure size 432x288 with 0 Axes>"
      ]
     },
     "metadata": {},
     "output_type": "display_data"
    },
    {
     "data": {
      "text/plain": [
       "<Figure size 432x288 with 0 Axes>"
      ]
     },
     "metadata": {},
     "output_type": "display_data"
    },
    {
     "data": {
      "text/plain": [
       "<Figure size 432x288 with 0 Axes>"
      ]
     },
     "metadata": {},
     "output_type": "display_data"
    },
    {
     "data": {
      "text/plain": [
       "<Figure size 432x288 with 0 Axes>"
      ]
     },
     "metadata": {},
     "output_type": "display_data"
    },
    {
     "data": {
      "text/plain": [
       "<Figure size 432x288 with 0 Axes>"
      ]
     },
     "metadata": {},
     "output_type": "display_data"
    },
    {
     "data": {
      "text/plain": [
       "<Figure size 432x288 with 0 Axes>"
      ]
     },
     "metadata": {},
     "output_type": "display_data"
    },
    {
     "data": {
      "text/plain": [
       "<Figure size 432x288 with 0 Axes>"
      ]
     },
     "metadata": {},
     "output_type": "display_data"
    },
    {
     "data": {
      "text/plain": [
       "<Figure size 432x288 with 0 Axes>"
      ]
     },
     "metadata": {},
     "output_type": "display_data"
    },
    {
     "data": {
      "text/plain": [
       "<Figure size 432x288 with 0 Axes>"
      ]
     },
     "metadata": {},
     "output_type": "display_data"
    },
    {
     "data": {
      "text/plain": [
       "<Figure size 432x288 with 0 Axes>"
      ]
     },
     "metadata": {},
     "output_type": "display_data"
    },
    {
     "data": {
      "text/plain": [
       "<Figure size 432x288 with 0 Axes>"
      ]
     },
     "metadata": {},
     "output_type": "display_data"
    },
    {
     "data": {
      "text/plain": [
       "<Figure size 432x288 with 0 Axes>"
      ]
     },
     "metadata": {},
     "output_type": "display_data"
    },
    {
     "data": {
      "text/plain": [
       "<Figure size 432x288 with 0 Axes>"
      ]
     },
     "metadata": {},
     "output_type": "display_data"
    },
    {
     "data": {
      "text/plain": [
       "<Figure size 432x288 with 0 Axes>"
      ]
     },
     "metadata": {},
     "output_type": "display_data"
    },
    {
     "data": {
      "text/plain": [
       "<Figure size 432x288 with 0 Axes>"
      ]
     },
     "metadata": {},
     "output_type": "display_data"
    },
    {
     "data": {
      "text/plain": [
       "<Figure size 432x288 with 0 Axes>"
      ]
     },
     "metadata": {},
     "output_type": "display_data"
    },
    {
     "data": {
      "text/plain": [
       "<Figure size 432x288 with 0 Axes>"
      ]
     },
     "metadata": {},
     "output_type": "display_data"
    },
    {
     "data": {
      "text/plain": [
       "<Figure size 432x288 with 0 Axes>"
      ]
     },
     "metadata": {},
     "output_type": "display_data"
    },
    {
     "data": {
      "text/plain": [
       "<Figure size 432x288 with 0 Axes>"
      ]
     },
     "metadata": {},
     "output_type": "display_data"
    },
    {
     "data": {
      "text/plain": [
       "<Figure size 432x288 with 0 Axes>"
      ]
     },
     "metadata": {},
     "output_type": "display_data"
    },
    {
     "data": {
      "text/plain": [
       "<Figure size 432x288 with 0 Axes>"
      ]
     },
     "metadata": {},
     "output_type": "display_data"
    },
    {
     "data": {
      "text/plain": [
       "<Figure size 432x288 with 0 Axes>"
      ]
     },
     "metadata": {},
     "output_type": "display_data"
    },
    {
     "data": {
      "text/plain": [
       "<Figure size 432x288 with 0 Axes>"
      ]
     },
     "metadata": {},
     "output_type": "display_data"
    },
    {
     "data": {
      "text/plain": [
       "<Figure size 432x288 with 0 Axes>"
      ]
     },
     "metadata": {},
     "output_type": "display_data"
    },
    {
     "data": {
      "text/plain": [
       "<Figure size 432x288 with 0 Axes>"
      ]
     },
     "metadata": {},
     "output_type": "display_data"
    },
    {
     "data": {
      "text/plain": [
       "<Figure size 432x288 with 0 Axes>"
      ]
     },
     "metadata": {},
     "output_type": "display_data"
    },
    {
     "data": {
      "text/plain": [
       "<Figure size 432x288 with 0 Axes>"
      ]
     },
     "metadata": {},
     "output_type": "display_data"
    },
    {
     "data": {
      "text/plain": [
       "<Figure size 432x288 with 0 Axes>"
      ]
     },
     "metadata": {},
     "output_type": "display_data"
    },
    {
     "data": {
      "text/plain": [
       "<Figure size 432x288 with 0 Axes>"
      ]
     },
     "metadata": {},
     "output_type": "display_data"
    },
    {
     "data": {
      "text/plain": [
       "<Figure size 432x288 with 0 Axes>"
      ]
     },
     "metadata": {},
     "output_type": "display_data"
    },
    {
     "data": {
      "text/plain": [
       "<Figure size 432x288 with 0 Axes>"
      ]
     },
     "metadata": {},
     "output_type": "display_data"
    },
    {
     "data": {
      "text/plain": [
       "<Figure size 432x288 with 0 Axes>"
      ]
     },
     "metadata": {},
     "output_type": "display_data"
    },
    {
     "data": {
      "text/plain": [
       "<Figure size 432x288 with 0 Axes>"
      ]
     },
     "metadata": {},
     "output_type": "display_data"
    },
    {
     "data": {
      "text/plain": [
       "<Figure size 432x288 with 0 Axes>"
      ]
     },
     "metadata": {},
     "output_type": "display_data"
    },
    {
     "data": {
      "text/plain": [
       "<Figure size 432x288 with 0 Axes>"
      ]
     },
     "metadata": {},
     "output_type": "display_data"
    },
    {
     "data": {
      "text/plain": [
       "<Figure size 432x288 with 0 Axes>"
      ]
     },
     "metadata": {},
     "output_type": "display_data"
    },
    {
     "data": {
      "text/plain": [
       "<Figure size 432x288 with 0 Axes>"
      ]
     },
     "metadata": {},
     "output_type": "display_data"
    },
    {
     "data": {
      "text/plain": [
       "<Figure size 432x288 with 0 Axes>"
      ]
     },
     "metadata": {},
     "output_type": "display_data"
    },
    {
     "data": {
      "text/plain": [
       "<Figure size 432x288 with 0 Axes>"
      ]
     },
     "metadata": {},
     "output_type": "display_data"
    },
    {
     "data": {
      "text/plain": [
       "<Figure size 432x288 with 0 Axes>"
      ]
     },
     "metadata": {},
     "output_type": "display_data"
    },
    {
     "data": {
      "text/plain": [
       "<Figure size 432x288 with 0 Axes>"
      ]
     },
     "metadata": {},
     "output_type": "display_data"
    },
    {
     "data": {
      "text/plain": [
       "<Figure size 432x288 with 0 Axes>"
      ]
     },
     "metadata": {},
     "output_type": "display_data"
    },
    {
     "data": {
      "text/plain": [
       "<Figure size 432x288 with 0 Axes>"
      ]
     },
     "metadata": {},
     "output_type": "display_data"
    },
    {
     "data": {
      "text/plain": [
       "<Figure size 432x288 with 0 Axes>"
      ]
     },
     "metadata": {},
     "output_type": "display_data"
    },
    {
     "data": {
      "text/plain": [
       "<Figure size 432x288 with 0 Axes>"
      ]
     },
     "metadata": {},
     "output_type": "display_data"
    },
    {
     "data": {
      "text/plain": [
       "<Figure size 432x288 with 0 Axes>"
      ]
     },
     "metadata": {},
     "output_type": "display_data"
    },
    {
     "data": {
      "text/plain": [
       "<Figure size 432x288 with 0 Axes>"
      ]
     },
     "metadata": {},
     "output_type": "display_data"
    },
    {
     "data": {
      "text/plain": [
       "<Figure size 432x288 with 0 Axes>"
      ]
     },
     "metadata": {},
     "output_type": "display_data"
    },
    {
     "data": {
      "text/plain": [
       "<Figure size 432x288 with 0 Axes>"
      ]
     },
     "metadata": {},
     "output_type": "display_data"
    },
    {
     "data": {
      "text/plain": [
       "<Figure size 432x288 with 0 Axes>"
      ]
     },
     "metadata": {},
     "output_type": "display_data"
    },
    {
     "data": {
      "text/plain": [
       "<Figure size 432x288 with 0 Axes>"
      ]
     },
     "metadata": {},
     "output_type": "display_data"
    },
    {
     "data": {
      "text/plain": [
       "<Figure size 432x288 with 0 Axes>"
      ]
     },
     "metadata": {},
     "output_type": "display_data"
    },
    {
     "data": {
      "text/plain": [
       "<Figure size 432x288 with 0 Axes>"
      ]
     },
     "metadata": {},
     "output_type": "display_data"
    },
    {
     "data": {
      "text/plain": [
       "<Figure size 432x288 with 0 Axes>"
      ]
     },
     "metadata": {},
     "output_type": "display_data"
    },
    {
     "data": {
      "text/plain": [
       "<Figure size 432x288 with 0 Axes>"
      ]
     },
     "metadata": {},
     "output_type": "display_data"
    },
    {
     "data": {
      "text/plain": [
       "<Figure size 432x288 with 0 Axes>"
      ]
     },
     "metadata": {},
     "output_type": "display_data"
    },
    {
     "data": {
      "text/plain": [
       "<Figure size 432x288 with 0 Axes>"
      ]
     },
     "metadata": {},
     "output_type": "display_data"
    },
    {
     "data": {
      "text/plain": [
       "<Figure size 432x288 with 0 Axes>"
      ]
     },
     "metadata": {},
     "output_type": "display_data"
    },
    {
     "data": {
      "text/plain": [
       "<Figure size 432x288 with 0 Axes>"
      ]
     },
     "metadata": {},
     "output_type": "display_data"
    },
    {
     "data": {
      "text/plain": [
       "<Figure size 432x288 with 0 Axes>"
      ]
     },
     "metadata": {},
     "output_type": "display_data"
    },
    {
     "data": {
      "text/plain": [
       "<Figure size 432x288 with 0 Axes>"
      ]
     },
     "metadata": {},
     "output_type": "display_data"
    },
    {
     "data": {
      "text/plain": [
       "<Figure size 432x288 with 0 Axes>"
      ]
     },
     "metadata": {},
     "output_type": "display_data"
    },
    {
     "data": {
      "text/plain": [
       "<Figure size 432x288 with 0 Axes>"
      ]
     },
     "metadata": {},
     "output_type": "display_data"
    },
    {
     "data": {
      "text/plain": [
       "<Figure size 432x288 with 0 Axes>"
      ]
     },
     "metadata": {},
     "output_type": "display_data"
    },
    {
     "data": {
      "text/plain": [
       "<Figure size 432x288 with 0 Axes>"
      ]
     },
     "metadata": {},
     "output_type": "display_data"
    },
    {
     "data": {
      "text/plain": [
       "<Figure size 432x288 with 0 Axes>"
      ]
     },
     "metadata": {},
     "output_type": "display_data"
    },
    {
     "data": {
      "text/plain": [
       "<Figure size 432x288 with 0 Axes>"
      ]
     },
     "metadata": {},
     "output_type": "display_data"
    },
    {
     "data": {
      "text/plain": [
       "<Figure size 432x288 with 0 Axes>"
      ]
     },
     "metadata": {},
     "output_type": "display_data"
    },
    {
     "data": {
      "text/plain": [
       "<Figure size 432x288 with 0 Axes>"
      ]
     },
     "metadata": {},
     "output_type": "display_data"
    },
    {
     "data": {
      "text/plain": [
       "<Figure size 432x288 with 0 Axes>"
      ]
     },
     "metadata": {},
     "output_type": "display_data"
    },
    {
     "data": {
      "text/plain": [
       "<Figure size 432x288 with 0 Axes>"
      ]
     },
     "metadata": {},
     "output_type": "display_data"
    },
    {
     "data": {
      "text/plain": [
       "<Figure size 432x288 with 0 Axes>"
      ]
     },
     "metadata": {},
     "output_type": "display_data"
    },
    {
     "data": {
      "text/plain": [
       "<Figure size 432x288 with 0 Axes>"
      ]
     },
     "metadata": {},
     "output_type": "display_data"
    },
    {
     "data": {
      "text/plain": [
       "<Figure size 432x288 with 0 Axes>"
      ]
     },
     "metadata": {},
     "output_type": "display_data"
    },
    {
     "data": {
      "text/plain": [
       "<Figure size 432x288 with 0 Axes>"
      ]
     },
     "metadata": {},
     "output_type": "display_data"
    },
    {
     "data": {
      "text/plain": [
       "<Figure size 432x288 with 0 Axes>"
      ]
     },
     "metadata": {},
     "output_type": "display_data"
    },
    {
     "data": {
      "text/plain": [
       "<Figure size 432x288 with 0 Axes>"
      ]
     },
     "metadata": {},
     "output_type": "display_data"
    },
    {
     "data": {
      "text/plain": [
       "<Figure size 432x288 with 0 Axes>"
      ]
     },
     "metadata": {},
     "output_type": "display_data"
    },
    {
     "data": {
      "text/plain": [
       "<Figure size 432x288 with 0 Axes>"
      ]
     },
     "metadata": {},
     "output_type": "display_data"
    },
    {
     "data": {
      "text/plain": [
       "<Figure size 432x288 with 0 Axes>"
      ]
     },
     "metadata": {},
     "output_type": "display_data"
    },
    {
     "data": {
      "text/plain": [
       "<Figure size 432x288 with 0 Axes>"
      ]
     },
     "metadata": {},
     "output_type": "display_data"
    },
    {
     "data": {
      "text/plain": [
       "<Figure size 432x288 with 0 Axes>"
      ]
     },
     "metadata": {},
     "output_type": "display_data"
    },
    {
     "data": {
      "text/plain": [
       "<Figure size 432x288 with 0 Axes>"
      ]
     },
     "metadata": {},
     "output_type": "display_data"
    },
    {
     "data": {
      "text/plain": [
       "<Figure size 432x288 with 0 Axes>"
      ]
     },
     "metadata": {},
     "output_type": "display_data"
    },
    {
     "data": {
      "text/plain": [
       "<Figure size 432x288 with 0 Axes>"
      ]
     },
     "metadata": {},
     "output_type": "display_data"
    },
    {
     "data": {
      "text/plain": [
       "<Figure size 432x288 with 0 Axes>"
      ]
     },
     "metadata": {},
     "output_type": "display_data"
    },
    {
     "data": {
      "text/plain": [
       "<Figure size 432x288 with 0 Axes>"
      ]
     },
     "metadata": {},
     "output_type": "display_data"
    },
    {
     "data": {
      "text/plain": [
       "<Figure size 432x288 with 0 Axes>"
      ]
     },
     "metadata": {},
     "output_type": "display_data"
    },
    {
     "data": {
      "text/plain": [
       "<Figure size 432x288 with 0 Axes>"
      ]
     },
     "metadata": {},
     "output_type": "display_data"
    },
    {
     "data": {
      "text/plain": [
       "<Figure size 432x288 with 0 Axes>"
      ]
     },
     "metadata": {},
     "output_type": "display_data"
    },
    {
     "data": {
      "text/plain": [
       "<Figure size 432x288 with 0 Axes>"
      ]
     },
     "metadata": {},
     "output_type": "display_data"
    },
    {
     "data": {
      "text/plain": [
       "<Figure size 432x288 with 0 Axes>"
      ]
     },
     "metadata": {},
     "output_type": "display_data"
    },
    {
     "data": {
      "text/plain": [
       "<Figure size 432x288 with 0 Axes>"
      ]
     },
     "metadata": {},
     "output_type": "display_data"
    },
    {
     "data": {
      "text/plain": [
       "<Figure size 432x288 with 0 Axes>"
      ]
     },
     "metadata": {},
     "output_type": "display_data"
    },
    {
     "data": {
      "text/plain": [
       "<Figure size 432x288 with 0 Axes>"
      ]
     },
     "metadata": {},
     "output_type": "display_data"
    },
    {
     "data": {
      "text/plain": [
       "<Figure size 432x288 with 0 Axes>"
      ]
     },
     "metadata": {},
     "output_type": "display_data"
    },
    {
     "data": {
      "text/plain": [
       "<Figure size 432x288 with 0 Axes>"
      ]
     },
     "metadata": {},
     "output_type": "display_data"
    },
    {
     "data": {
      "text/plain": [
       "<Figure size 432x288 with 0 Axes>"
      ]
     },
     "metadata": {},
     "output_type": "display_data"
    },
    {
     "data": {
      "text/plain": [
       "<Figure size 432x288 with 0 Axes>"
      ]
     },
     "metadata": {},
     "output_type": "display_data"
    },
    {
     "data": {
      "text/plain": [
       "<Figure size 432x288 with 0 Axes>"
      ]
     },
     "metadata": {},
     "output_type": "display_data"
    },
    {
     "data": {
      "text/plain": [
       "<Figure size 432x288 with 0 Axes>"
      ]
     },
     "metadata": {},
     "output_type": "display_data"
    },
    {
     "data": {
      "text/plain": [
       "<Figure size 432x288 with 0 Axes>"
      ]
     },
     "metadata": {},
     "output_type": "display_data"
    },
    {
     "data": {
      "text/plain": [
       "<Figure size 432x288 with 0 Axes>"
      ]
     },
     "metadata": {},
     "output_type": "display_data"
    },
    {
     "data": {
      "text/plain": [
       "<Figure size 432x288 with 0 Axes>"
      ]
     },
     "metadata": {},
     "output_type": "display_data"
    },
    {
     "data": {
      "text/plain": [
       "<Figure size 432x288 with 0 Axes>"
      ]
     },
     "metadata": {},
     "output_type": "display_data"
    },
    {
     "data": {
      "text/plain": [
       "<Figure size 432x288 with 0 Axes>"
      ]
     },
     "metadata": {},
     "output_type": "display_data"
    },
    {
     "data": {
      "text/plain": [
       "<Figure size 432x288 with 0 Axes>"
      ]
     },
     "metadata": {},
     "output_type": "display_data"
    },
    {
     "data": {
      "text/plain": [
       "<Figure size 432x288 with 0 Axes>"
      ]
     },
     "metadata": {},
     "output_type": "display_data"
    },
    {
     "data": {
      "text/plain": [
       "<Figure size 432x288 with 0 Axes>"
      ]
     },
     "metadata": {},
     "output_type": "display_data"
    },
    {
     "data": {
      "text/plain": [
       "<Figure size 432x288 with 0 Axes>"
      ]
     },
     "metadata": {},
     "output_type": "display_data"
    },
    {
     "data": {
      "text/plain": [
       "<Figure size 432x288 with 0 Axes>"
      ]
     },
     "metadata": {},
     "output_type": "display_data"
    },
    {
     "data": {
      "text/plain": [
       "<Figure size 432x288 with 0 Axes>"
      ]
     },
     "metadata": {},
     "output_type": "display_data"
    },
    {
     "data": {
      "text/plain": [
       "<Figure size 432x288 with 0 Axes>"
      ]
     },
     "metadata": {},
     "output_type": "display_data"
    },
    {
     "data": {
      "text/plain": [
       "<Figure size 432x288 with 0 Axes>"
      ]
     },
     "metadata": {},
     "output_type": "display_data"
    },
    {
     "data": {
      "text/plain": [
       "<Figure size 432x288 with 0 Axes>"
      ]
     },
     "metadata": {},
     "output_type": "display_data"
    },
    {
     "data": {
      "text/plain": [
       "<Figure size 432x288 with 0 Axes>"
      ]
     },
     "metadata": {},
     "output_type": "display_data"
    },
    {
     "data": {
      "text/plain": [
       "<Figure size 432x288 with 0 Axes>"
      ]
     },
     "metadata": {},
     "output_type": "display_data"
    },
    {
     "data": {
      "text/plain": [
       "<Figure size 432x288 with 0 Axes>"
      ]
     },
     "metadata": {},
     "output_type": "display_data"
    },
    {
     "data": {
      "text/plain": [
       "<Figure size 432x288 with 0 Axes>"
      ]
     },
     "metadata": {},
     "output_type": "display_data"
    },
    {
     "data": {
      "text/plain": [
       "<Figure size 432x288 with 0 Axes>"
      ]
     },
     "metadata": {},
     "output_type": "display_data"
    },
    {
     "data": {
      "text/plain": [
       "<Figure size 432x288 with 0 Axes>"
      ]
     },
     "metadata": {},
     "output_type": "display_data"
    },
    {
     "data": {
      "text/plain": [
       "<Figure size 432x288 with 0 Axes>"
      ]
     },
     "metadata": {},
     "output_type": "display_data"
    },
    {
     "data": {
      "text/plain": [
       "<Figure size 432x288 with 0 Axes>"
      ]
     },
     "metadata": {},
     "output_type": "display_data"
    },
    {
     "data": {
      "text/plain": [
       "<Figure size 432x288 with 0 Axes>"
      ]
     },
     "metadata": {},
     "output_type": "display_data"
    },
    {
     "data": {
      "text/plain": [
       "<Figure size 432x288 with 0 Axes>"
      ]
     },
     "metadata": {},
     "output_type": "display_data"
    },
    {
     "data": {
      "text/plain": [
       "<Figure size 432x288 with 0 Axes>"
      ]
     },
     "metadata": {},
     "output_type": "display_data"
    },
    {
     "data": {
      "text/plain": [
       "<Figure size 432x288 with 0 Axes>"
      ]
     },
     "metadata": {},
     "output_type": "display_data"
    },
    {
     "data": {
      "text/plain": [
       "<Figure size 432x288 with 0 Axes>"
      ]
     },
     "metadata": {},
     "output_type": "display_data"
    },
    {
     "data": {
      "text/plain": [
       "<Figure size 432x288 with 0 Axes>"
      ]
     },
     "metadata": {},
     "output_type": "display_data"
    },
    {
     "data": {
      "text/plain": [
       "<Figure size 432x288 with 0 Axes>"
      ]
     },
     "metadata": {},
     "output_type": "display_data"
    },
    {
     "data": {
      "text/plain": [
       "<Figure size 432x288 with 0 Axes>"
      ]
     },
     "metadata": {},
     "output_type": "display_data"
    },
    {
     "data": {
      "text/plain": [
       "<Figure size 432x288 with 0 Axes>"
      ]
     },
     "metadata": {},
     "output_type": "display_data"
    },
    {
     "data": {
      "text/plain": [
       "<Figure size 432x288 with 0 Axes>"
      ]
     },
     "metadata": {},
     "output_type": "display_data"
    },
    {
     "data": {
      "text/plain": [
       "<Figure size 432x288 with 0 Axes>"
      ]
     },
     "metadata": {},
     "output_type": "display_data"
    },
    {
     "data": {
      "text/plain": [
       "<Figure size 432x288 with 0 Axes>"
      ]
     },
     "metadata": {},
     "output_type": "display_data"
    },
    {
     "data": {
      "text/plain": [
       "<Figure size 432x288 with 0 Axes>"
      ]
     },
     "metadata": {},
     "output_type": "display_data"
    },
    {
     "data": {
      "text/plain": [
       "<Figure size 432x288 with 0 Axes>"
      ]
     },
     "metadata": {},
     "output_type": "display_data"
    },
    {
     "data": {
      "text/plain": [
       "<Figure size 432x288 with 0 Axes>"
      ]
     },
     "metadata": {},
     "output_type": "display_data"
    },
    {
     "data": {
      "text/plain": [
       "<Figure size 432x288 with 0 Axes>"
      ]
     },
     "metadata": {},
     "output_type": "display_data"
    },
    {
     "data": {
      "text/plain": [
       "<Figure size 432x288 with 0 Axes>"
      ]
     },
     "metadata": {},
     "output_type": "display_data"
    },
    {
     "data": {
      "text/plain": [
       "<Figure size 432x288 with 0 Axes>"
      ]
     },
     "metadata": {},
     "output_type": "display_data"
    },
    {
     "data": {
      "text/plain": [
       "<Figure size 432x288 with 0 Axes>"
      ]
     },
     "metadata": {},
     "output_type": "display_data"
    },
    {
     "data": {
      "text/plain": [
       "<Figure size 432x288 with 0 Axes>"
      ]
     },
     "metadata": {},
     "output_type": "display_data"
    },
    {
     "data": {
      "text/plain": [
       "<Figure size 432x288 with 0 Axes>"
      ]
     },
     "metadata": {},
     "output_type": "display_data"
    },
    {
     "data": {
      "text/plain": [
       "<Figure size 432x288 with 0 Axes>"
      ]
     },
     "metadata": {},
     "output_type": "display_data"
    },
    {
     "data": {
      "text/plain": [
       "<Figure size 432x288 with 0 Axes>"
      ]
     },
     "metadata": {},
     "output_type": "display_data"
    },
    {
     "data": {
      "text/plain": [
       "<Figure size 432x288 with 0 Axes>"
      ]
     },
     "metadata": {},
     "output_type": "display_data"
    },
    {
     "data": {
      "text/plain": [
       "<Figure size 432x288 with 0 Axes>"
      ]
     },
     "metadata": {},
     "output_type": "display_data"
    },
    {
     "data": {
      "text/plain": [
       "<Figure size 432x288 with 0 Axes>"
      ]
     },
     "metadata": {},
     "output_type": "display_data"
    },
    {
     "data": {
      "text/plain": [
       "<Figure size 432x288 with 0 Axes>"
      ]
     },
     "metadata": {},
     "output_type": "display_data"
    },
    {
     "data": {
      "text/plain": [
       "<Figure size 432x288 with 0 Axes>"
      ]
     },
     "metadata": {},
     "output_type": "display_data"
    },
    {
     "data": {
      "text/plain": [
       "<Figure size 432x288 with 0 Axes>"
      ]
     },
     "metadata": {},
     "output_type": "display_data"
    },
    {
     "data": {
      "text/plain": [
       "<Figure size 432x288 with 0 Axes>"
      ]
     },
     "metadata": {},
     "output_type": "display_data"
    },
    {
     "data": {
      "text/plain": [
       "<Figure size 432x288 with 0 Axes>"
      ]
     },
     "metadata": {},
     "output_type": "display_data"
    },
    {
     "data": {
      "text/plain": [
       "<Figure size 432x288 with 0 Axes>"
      ]
     },
     "metadata": {},
     "output_type": "display_data"
    },
    {
     "data": {
      "text/plain": [
       "<Figure size 432x288 with 0 Axes>"
      ]
     },
     "metadata": {},
     "output_type": "display_data"
    },
    {
     "data": {
      "text/plain": [
       "<Figure size 432x288 with 0 Axes>"
      ]
     },
     "metadata": {},
     "output_type": "display_data"
    },
    {
     "data": {
      "text/plain": [
       "<Figure size 432x288 with 0 Axes>"
      ]
     },
     "metadata": {},
     "output_type": "display_data"
    },
    {
     "data": {
      "text/plain": [
       "<Figure size 432x288 with 0 Axes>"
      ]
     },
     "metadata": {},
     "output_type": "display_data"
    },
    {
     "data": {
      "text/plain": [
       "<Figure size 432x288 with 0 Axes>"
      ]
     },
     "metadata": {},
     "output_type": "display_data"
    },
    {
     "data": {
      "text/plain": [
       "<Figure size 432x288 with 0 Axes>"
      ]
     },
     "metadata": {},
     "output_type": "display_data"
    },
    {
     "data": {
      "text/plain": [
       "<Figure size 432x288 with 0 Axes>"
      ]
     },
     "metadata": {},
     "output_type": "display_data"
    },
    {
     "data": {
      "text/plain": [
       "<Figure size 432x288 with 0 Axes>"
      ]
     },
     "metadata": {},
     "output_type": "display_data"
    },
    {
     "data": {
      "text/plain": [
       "<Figure size 432x288 with 0 Axes>"
      ]
     },
     "metadata": {},
     "output_type": "display_data"
    },
    {
     "data": {
      "text/plain": [
       "<Figure size 432x288 with 0 Axes>"
      ]
     },
     "metadata": {},
     "output_type": "display_data"
    },
    {
     "data": {
      "text/plain": [
       "<Figure size 432x288 with 0 Axes>"
      ]
     },
     "metadata": {},
     "output_type": "display_data"
    },
    {
     "data": {
      "text/plain": [
       "<Figure size 432x288 with 0 Axes>"
      ]
     },
     "metadata": {},
     "output_type": "display_data"
    },
    {
     "data": {
      "text/plain": [
       "<Figure size 432x288 with 0 Axes>"
      ]
     },
     "metadata": {},
     "output_type": "display_data"
    },
    {
     "data": {
      "text/plain": [
       "<Figure size 432x288 with 0 Axes>"
      ]
     },
     "metadata": {},
     "output_type": "display_data"
    },
    {
     "data": {
      "text/plain": [
       "<Figure size 432x288 with 0 Axes>"
      ]
     },
     "metadata": {},
     "output_type": "display_data"
    },
    {
     "data": {
      "text/plain": [
       "<Figure size 432x288 with 0 Axes>"
      ]
     },
     "metadata": {},
     "output_type": "display_data"
    },
    {
     "data": {
      "text/plain": [
       "<Figure size 432x288 with 0 Axes>"
      ]
     },
     "metadata": {},
     "output_type": "display_data"
    },
    {
     "data": {
      "text/plain": [
       "<Figure size 432x288 with 0 Axes>"
      ]
     },
     "metadata": {},
     "output_type": "display_data"
    },
    {
     "data": {
      "text/plain": [
       "<Figure size 432x288 with 0 Axes>"
      ]
     },
     "metadata": {},
     "output_type": "display_data"
    },
    {
     "data": {
      "text/plain": [
       "<Figure size 432x288 with 0 Axes>"
      ]
     },
     "metadata": {},
     "output_type": "display_data"
    },
    {
     "data": {
      "text/plain": [
       "<Figure size 432x288 with 0 Axes>"
      ]
     },
     "metadata": {},
     "output_type": "display_data"
    },
    {
     "data": {
      "text/plain": [
       "<Figure size 432x288 with 0 Axes>"
      ]
     },
     "metadata": {},
     "output_type": "display_data"
    },
    {
     "data": {
      "text/plain": [
       "<Figure size 432x288 with 0 Axes>"
      ]
     },
     "metadata": {},
     "output_type": "display_data"
    },
    {
     "data": {
      "text/plain": [
       "<Figure size 432x288 with 0 Axes>"
      ]
     },
     "metadata": {},
     "output_type": "display_data"
    },
    {
     "data": {
      "text/plain": [
       "<Figure size 432x288 with 0 Axes>"
      ]
     },
     "metadata": {},
     "output_type": "display_data"
    },
    {
     "data": {
      "text/plain": [
       "<Figure size 432x288 with 0 Axes>"
      ]
     },
     "metadata": {},
     "output_type": "display_data"
    },
    {
     "data": {
      "text/plain": [
       "<Figure size 432x288 with 0 Axes>"
      ]
     },
     "metadata": {},
     "output_type": "display_data"
    },
    {
     "data": {
      "text/plain": [
       "<Figure size 432x288 with 0 Axes>"
      ]
     },
     "metadata": {},
     "output_type": "display_data"
    },
    {
     "data": {
      "text/plain": [
       "<Figure size 432x288 with 0 Axes>"
      ]
     },
     "metadata": {},
     "output_type": "display_data"
    },
    {
     "data": {
      "text/plain": [
       "<Figure size 432x288 with 0 Axes>"
      ]
     },
     "metadata": {},
     "output_type": "display_data"
    },
    {
     "data": {
      "text/plain": [
       "<Figure size 432x288 with 0 Axes>"
      ]
     },
     "metadata": {},
     "output_type": "display_data"
    },
    {
     "data": {
      "application/javascript": [
       "\n",
       "            setTimeout(function() {\n",
       "                var nbb_cell_id = 51;\n",
       "                var nbb_unformatted_code = \"from scipy.stats import entropy\\nfrom matplotlib import pyplot as plt \\ntemp=np.arange(0,2,0.1)\\nentropyval=[]\\n\\nfor i in range(len(temp)):\\n    entropyval.append(1/entropy([temp[i],1-temp[i]+0.5],base=2))\\n    \\nplt.plot(temp,entropyval)\\nplt.plot(1-temp,entropyval)\\n\\n\\nimport matplotlib.pyplot as plt\\nfrom mpl_toolkits.mplot3d import Axes3D\\nfig = plt.figure()\\nax = fig.add_subplot(111, projection='3d') \\n \\n\\nax.scatter(temp, 1-temp, entropyval)\\n\\nfor angle in range(0, 360):\\n    ax.view_init(30, angle)\\n    plt.draw()\\n    plt.pause(.001)\";\n",
       "                var nbb_formatted_code = \"from scipy.stats import entropy\\nfrom matplotlib import pyplot as plt\\n\\ntemp = np.arange(0, 2, 0.1)\\nentropyval = []\\n\\nfor i in range(len(temp)):\\n    entropyval.append(1 / entropy([temp[i], 1 - temp[i] + 0.5], base=2))\\n\\nplt.plot(temp, entropyval)\\nplt.plot(1 - temp, entropyval)\\n\\n\\nimport matplotlib.pyplot as plt\\nfrom mpl_toolkits.mplot3d import Axes3D\\n\\nfig = plt.figure()\\nax = fig.add_subplot(111, projection=\\\"3d\\\")\\n\\n\\nax.scatter(temp, 1 - temp, entropyval)\\n\\nfor angle in range(0, 360):\\n    ax.view_init(30, angle)\\n    plt.draw()\\n    plt.pause(0.001)\";\n",
       "                var nbb_cells = Jupyter.notebook.get_cells();\n",
       "                for (var i = 0; i < nbb_cells.length; ++i) {\n",
       "                    if (nbb_cells[i].input_prompt_number == nbb_cell_id) {\n",
       "                        if (nbb_cells[i].get_text() == nbb_unformatted_code) {\n",
       "                             nbb_cells[i].set_text(nbb_formatted_code);\n",
       "                        }\n",
       "                        break;\n",
       "                    }\n",
       "                }\n",
       "            }, 500);\n",
       "            "
      ],
      "text/plain": [
       "<IPython.core.display.Javascript object>"
      ]
     },
     "metadata": {},
     "output_type": "display_data"
    }
   ],
   "source": [
    "from scipy.stats import entropy\n",
    "from matplotlib import pyplot as plt \n",
    "temp=np.arange(0,2,0.1)\n",
    "entropyval=[]\n",
    "\n",
    "for i in range(len(temp)):\n",
    "    entropyval.append(1/entropy([temp[i],1-temp[i]+0.5],base=2))\n",
    "    \n",
    "plt.plot(temp,entropyval)\n",
    "plt.plot(1-temp,entropyval)\n",
    "\n",
    "\n",
    "import matplotlib.pyplot as plt\n",
    "from mpl_toolkits.mplot3d import Axes3D\n",
    "fig = plt.figure()\n",
    "ax = fig.add_subplot(111, projection='3d') \n",
    " \n",
    "\n",
    "ax.scatter(temp, 1-temp, entropyval)\n",
    "\n",
    "for angle in range(0, 360):\n",
    "    ax.view_init(30, angle)\n",
    "    plt.draw()\n",
    "    plt.pause(.001)\n"
   ]
  },
  {
   "cell_type": "code",
   "execution_count": null,
   "metadata": {},
   "outputs": [],
   "source": []
  }
 ],
 "metadata": {
  "kernelspec": {
   "display_name": "Python 3",
   "language": "python",
   "name": "python3"
  },
  "language_info": {
   "codemirror_mode": {
    "name": "ipython",
    "version": 3
   },
   "file_extension": ".py",
   "mimetype": "text/x-python",
   "name": "python",
   "nbconvert_exporter": "python",
   "pygments_lexer": "ipython3",
   "version": "3.7.7"
  }
 },
 "nbformat": 4,
 "nbformat_minor": 2
}
