{
 "cells": [
  {
   "cell_type": "code",
   "execution_count": 1,
   "metadata": {},
   "outputs": [
    {
     "data": {
      "application/javascript": [
       "\n",
       "            setTimeout(function() {\n",
       "                var nbb_cell_id = 1;\n",
       "                var nbb_unformatted_code = \"%load_ext nb_black\";\n",
       "                var nbb_formatted_code = \"%load_ext nb_black\";\n",
       "                var nbb_cells = Jupyter.notebook.get_cells();\n",
       "                for (var i = 0; i < nbb_cells.length; ++i) {\n",
       "                    if (nbb_cells[i].input_prompt_number == nbb_cell_id) {\n",
       "                        if (nbb_cells[i].get_text() == nbb_unformatted_code) {\n",
       "                             nbb_cells[i].set_text(nbb_formatted_code);\n",
       "                        }\n",
       "                        break;\n",
       "                    }\n",
       "                }\n",
       "            }, 500);\n",
       "            "
      ],
      "text/plain": [
       "<IPython.core.display.Javascript object>"
      ]
     },
     "metadata": {},
     "output_type": "display_data"
    }
   ],
   "source": [
    "%load_ext nb_black"
   ]
  },
  {
   "cell_type": "code",
   "execution_count": 2,
   "metadata": {},
   "outputs": [
    {
     "data": {
      "application/javascript": [
       "\n",
       "            setTimeout(function() {\n",
       "                var nbb_cell_id = 2;\n",
       "                var nbb_unformatted_code = \"from sklearn import datasets\\nfrom sklearn import metrics as m\\nfrom sklearn.model_selection import train_test_split\\nfrom sklearn.ensemble import RandomForestClassifier\\nfrom sklearn.model_selection import cross_val_score\\nimport numpy as np\\nfrom itertools import combinations\\nfrom sklearn import datasets\\nfrom sklearn import metrics as m\\nfrom sklearn.model_selection import train_test_split\\nfrom sklearn.ensemble import RandomForestClassifier\\nfrom sklearn.model_selection import cross_val_score\\nimport numpy as np\\nimport pandas as pd\\nfrom itertools import combinations\\nfrom sklearn.svm import SVC\\nimport xgboost as xgb\\nfrom thundersvm import SVC as svmgpu\\nfrom sklearn.utils import shuffle\\nimport itertools\\nfrom sklearn.ensemble import VotingClassifier\";\n",
       "                var nbb_formatted_code = \"from sklearn import datasets\\nfrom sklearn import metrics as m\\nfrom sklearn.model_selection import train_test_split\\nfrom sklearn.ensemble import RandomForestClassifier\\nfrom sklearn.model_selection import cross_val_score\\nimport numpy as np\\nfrom itertools import combinations\\nfrom sklearn import datasets\\nfrom sklearn import metrics as m\\nfrom sklearn.model_selection import train_test_split\\nfrom sklearn.ensemble import RandomForestClassifier\\nfrom sklearn.model_selection import cross_val_score\\nimport numpy as np\\nimport pandas as pd\\nfrom itertools import combinations\\nfrom sklearn.svm import SVC\\nimport xgboost as xgb\\nfrom thundersvm import SVC as svmgpu\\nfrom sklearn.utils import shuffle\\nimport itertools\\nfrom sklearn.ensemble import VotingClassifier\";\n",
       "                var nbb_cells = Jupyter.notebook.get_cells();\n",
       "                for (var i = 0; i < nbb_cells.length; ++i) {\n",
       "                    if (nbb_cells[i].input_prompt_number == nbb_cell_id) {\n",
       "                        if (nbb_cells[i].get_text() == nbb_unformatted_code) {\n",
       "                             nbb_cells[i].set_text(nbb_formatted_code);\n",
       "                        }\n",
       "                        break;\n",
       "                    }\n",
       "                }\n",
       "            }, 500);\n",
       "            "
      ],
      "text/plain": [
       "<IPython.core.display.Javascript object>"
      ]
     },
     "metadata": {},
     "output_type": "display_data"
    }
   ],
   "source": [
    "from sklearn import datasets\n",
    "from sklearn import metrics as m\n",
    "from sklearn.model_selection import train_test_split\n",
    "from sklearn.ensemble import RandomForestClassifier\n",
    "from sklearn.model_selection import cross_val_score\n",
    "import numpy as np\n",
    "from itertools import combinations\n",
    "from sklearn import datasets\n",
    "from sklearn import metrics as m\n",
    "from sklearn.model_selection import train_test_split\n",
    "from sklearn.ensemble import RandomForestClassifier\n",
    "from sklearn.model_selection import cross_val_score\n",
    "import numpy as np\n",
    "import pandas as pd\n",
    "from itertools import combinations\n",
    "from sklearn.svm import SVC\n",
    "import xgboost as xgb\n",
    "from thundersvm import SVC as svmgpu\n",
    "from sklearn.utils import shuffle\n",
    "import itertools\n",
    "from sklearn.ensemble import VotingClassifier"
   ]
  },
  {
   "cell_type": "code",
   "execution_count": 3,
   "metadata": {},
   "outputs": [
    {
     "data": {
      "application/javascript": [
       "\n",
       "            setTimeout(function() {\n",
       "                var nbb_cell_id = 3;\n",
       "                var nbb_unformatted_code = \"randomseed = 10\\nnp.random.seed(randomseed)\\n\\nxtest = np.array(pd.read_csv(\\\"../dataset/xtest.txt\\\"))\\nxtrain = np.array(pd.read_csv(\\\"../dataset/xtrain.txt\\\"))\\nytest_original = np.array(pd.read_csv(\\\"../dataset/ytest.txt\\\")).ravel()\\nytrain_original = np.array(pd.read_csv(\\\"../dataset/ytrain.txt\\\")).ravel()\";\n",
       "                var nbb_formatted_code = \"randomseed = 10\\nnp.random.seed(randomseed)\\n\\nxtest = np.array(pd.read_csv(\\\"../dataset/xtest.txt\\\"))\\nxtrain = np.array(pd.read_csv(\\\"../dataset/xtrain.txt\\\"))\\nytest_original = np.array(pd.read_csv(\\\"../dataset/ytest.txt\\\")).ravel()\\nytrain_original = np.array(pd.read_csv(\\\"../dataset/ytrain.txt\\\")).ravel()\";\n",
       "                var nbb_cells = Jupyter.notebook.get_cells();\n",
       "                for (var i = 0; i < nbb_cells.length; ++i) {\n",
       "                    if (nbb_cells[i].input_prompt_number == nbb_cell_id) {\n",
       "                        if (nbb_cells[i].get_text() == nbb_unformatted_code) {\n",
       "                             nbb_cells[i].set_text(nbb_formatted_code);\n",
       "                        }\n",
       "                        break;\n",
       "                    }\n",
       "                }\n",
       "            }, 500);\n",
       "            "
      ],
      "text/plain": [
       "<IPython.core.display.Javascript object>"
      ]
     },
     "metadata": {},
     "output_type": "display_data"
    }
   ],
   "source": [
    "randomseed = 10\n",
    "np.random.seed(randomseed)\n",
    "\n",
    "xtest = np.array(pd.read_csv(\"../dataset/xtest.txt\"))\n",
    "xtrain = np.array(pd.read_csv(\"../dataset/xtrain.txt\"))\n",
    "ytest_original = np.array(pd.read_csv(\"../dataset/ytest.txt\")).ravel()\n",
    "ytrain_original = np.array(pd.read_csv(\"../dataset/ytrain.txt\")).ravel()"
   ]
  },
  {
   "cell_type": "code",
   "execution_count": 4,
   "metadata": {},
   "outputs": [
    {
     "data": {
      "application/javascript": [
       "\n",
       "            setTimeout(function() {\n",
       "                var nbb_cell_id = 4;\n",
       "                var nbb_unformatted_code = \"ytrain = ytrain_original.copy()\\nytest = ytest_original.copy()\\n\\n\\nclf = []\\nacc = []\\nypredproba_all = []\\nypredconfprob_all = []\\nacc_train = []\";\n",
       "                var nbb_formatted_code = \"ytrain = ytrain_original.copy()\\nytest = ytest_original.copy()\\n\\n\\nclf = []\\nacc = []\\nypredproba_all = []\\nypredconfprob_all = []\\nacc_train = []\";\n",
       "                var nbb_cells = Jupyter.notebook.get_cells();\n",
       "                for (var i = 0; i < nbb_cells.length; ++i) {\n",
       "                    if (nbb_cells[i].input_prompt_number == nbb_cell_id) {\n",
       "                        if (nbb_cells[i].get_text() == nbb_unformatted_code) {\n",
       "                             nbb_cells[i].set_text(nbb_formatted_code);\n",
       "                        }\n",
       "                        break;\n",
       "                    }\n",
       "                }\n",
       "            }, 500);\n",
       "            "
      ],
      "text/plain": [
       "<IPython.core.display.Javascript object>"
      ]
     },
     "metadata": {},
     "output_type": "display_data"
    }
   ],
   "source": [
    "ytrain = ytrain_original.copy()\n",
    "ytest = ytest_original.copy()\n",
    "\n",
    "\n",
    "clf = []\n",
    "acc = []\n",
    "ypredproba_all = []\n",
    "ypredconfprob_all = []\n",
    "acc_train = []"
   ]
  },
  {
   "cell_type": "code",
   "execution_count": 5,
   "metadata": {},
   "outputs": [
    {
     "data": {
      "application/javascript": [
       "\n",
       "            setTimeout(function() {\n",
       "                var nbb_cell_id = 5;\n",
       "                var nbb_unformatted_code = \"def swapcolumns(trainval, testval, coldindexval):\\n    trainval[trainval != coldindexval] = 5\\n    testval[testval != coldindexval] = 5\\n\\n    trainval[trainval == coldindexval] = 0\\n    trainval[trainval == 5] = 1\\n\\n    testval[testval == coldindexval] = 0\\n    testval[testval == 5] = 1\\n\\n    return trainval, testval\";\n",
       "                var nbb_formatted_code = \"def swapcolumns(trainval, testval, coldindexval):\\n    trainval[trainval != coldindexval] = 5\\n    testval[testval != coldindexval] = 5\\n\\n    trainval[trainval == coldindexval] = 0\\n    trainval[trainval == 5] = 1\\n\\n    testval[testval == coldindexval] = 0\\n    testval[testval == 5] = 1\\n\\n    return trainval, testval\";\n",
       "                var nbb_cells = Jupyter.notebook.get_cells();\n",
       "                for (var i = 0; i < nbb_cells.length; ++i) {\n",
       "                    if (nbb_cells[i].input_prompt_number == nbb_cell_id) {\n",
       "                        if (nbb_cells[i].get_text() == nbb_unformatted_code) {\n",
       "                             nbb_cells[i].set_text(nbb_formatted_code);\n",
       "                        }\n",
       "                        break;\n",
       "                    }\n",
       "                }\n",
       "            }, 500);\n",
       "            "
      ],
      "text/plain": [
       "<IPython.core.display.Javascript object>"
      ]
     },
     "metadata": {},
     "output_type": "display_data"
    }
   ],
   "source": [
    "def swapcolumns(trainval, testval, coldindexval):\n",
    "    trainval[trainval != coldindexval] = 5\n",
    "    testval[testval != coldindexval] = 5\n",
    "\n",
    "    trainval[trainval == coldindexval] = 0\n",
    "    trainval[trainval == 5] = 1\n",
    "\n",
    "    testval[testval == coldindexval] = 0\n",
    "    testval[testval == 5] = 1\n",
    "\n",
    "    return trainval, testval"
   ]
  },
  {
   "cell_type": "markdown",
   "metadata": {},
   "source": [
    "1. Baseline classifiers\n",
    "=============="
   ]
  },
  {
   "cell_type": "code",
   "execution_count": 39,
   "metadata": {},
   "outputs": [
    {
     "name": "stdout",
     "output_type": "stream",
     "text": [
      "0.7083333333333334\n"
     ]
    },
    {
     "data": {
      "application/javascript": [
       "\n",
       "            setTimeout(function() {\n",
       "                var nbb_cell_id = 39;\n",
       "                var nbb_unformatted_code = \"# Class 0\\n# ===========================\\nytrain,ytest= swapcolumns(ytrain,ytest,0)\\n#=================================================\\n\\nrf=RandomForestClassifier(random_state=randomseed, n_estimators=50)\\nrf.fit(xtrain,ytrain)\\nrfpred=rf.predict(xtest)\\nprint(m.accuracy_score(ytest,rfpred)) \\n\\nclf.append(rf)\\nacc.append(m.accuracy_score(ytest,rfpred))\\nypredproba_all.append(rf.predict_proba(xtest)) \\n\\nconfmat=m.confusion_matrix(ytest,rfpred)\\nconfsumh=np.sum(confmat,axis=0)\\npropconfmat=confmat.copy()\\nfor i in range(propconfmat.shape[0]):\\n    propconfmat[:,i]= 100*propconfmat[:,i]/confsumh[i] \\nypredconfprob_all.append(propconfmat/100)\";\n",
       "                var nbb_formatted_code = \"# Class 0\\n# ===========================\\nytrain, ytest = swapcolumns(ytrain, ytest, 0)\\n# =================================================\\n\\nrf = RandomForestClassifier(random_state=randomseed, n_estimators=50)\\nrf.fit(xtrain, ytrain)\\nrfpred = rf.predict(xtest)\\nprint(m.accuracy_score(ytest, rfpred))\\n\\nclf.append(rf)\\nacc.append(m.accuracy_score(ytest, rfpred))\\nypredproba_all.append(rf.predict_proba(xtest))\\n\\nconfmat = m.confusion_matrix(ytest, rfpred)\\nconfsumh = np.sum(confmat, axis=0)\\npropconfmat = confmat.copy()\\nfor i in range(propconfmat.shape[0]):\\n    propconfmat[:, i] = 100 * propconfmat[:, i] / confsumh[i]\\nypredconfprob_all.append(propconfmat / 100)\";\n",
       "                var nbb_cells = Jupyter.notebook.get_cells();\n",
       "                for (var i = 0; i < nbb_cells.length; ++i) {\n",
       "                    if (nbb_cells[i].input_prompt_number == nbb_cell_id) {\n",
       "                        if (nbb_cells[i].get_text() == nbb_unformatted_code) {\n",
       "                             nbb_cells[i].set_text(nbb_formatted_code);\n",
       "                        }\n",
       "                        break;\n",
       "                    }\n",
       "                }\n",
       "            }, 500);\n",
       "            "
      ],
      "text/plain": [
       "<IPython.core.display.Javascript object>"
      ]
     },
     "metadata": {},
     "output_type": "display_data"
    }
   ],
   "source": [
    "# Class 0\n",
    "# ===========================\n",
    "ytrain,ytest= swapcolumns(ytrain,ytest,0)\n",
    "#=================================================\n",
    "\n",
    "rf=RandomForestClassifier(random_state=randomseed, n_estimators=50)\n",
    "rf.fit(xtrain,ytrain)\n",
    "rfpred=rf.predict(xtest)\n",
    "print(m.accuracy_score(ytest,rfpred)) \n",
    "\n",
    "clf.append(rf)\n",
    "acc.append(m.accuracy_score(ytest,rfpred))\n",
    "ypredproba_all.append(rf.predict_proba(xtest)) \n",
    "\n",
    "confmat=m.confusion_matrix(ytest,rfpred)\n",
    "confsumh=np.sum(confmat,axis=0)\n",
    "propconfmat=confmat.copy()\n",
    "for i in range(propconfmat.shape[0]):\n",
    "    propconfmat[:,i]= 100*propconfmat[:,i]/confsumh[i] \n",
    "ypredconfprob_all.append(propconfmat/100)\n"
   ]
  },
  {
   "cell_type": "code",
   "execution_count": 40,
   "metadata": {},
   "outputs": [
    {
     "name": "stdout",
     "output_type": "stream",
     "text": [
      "0.7083333333333334\n"
     ]
    },
    {
     "data": {
      "application/javascript": [
       "\n",
       "            setTimeout(function() {\n",
       "                var nbb_cell_id = 40;\n",
       "                var nbb_unformatted_code = \"# =================================================\\n# classs 1\\n# =================================================\\nytrain = ytrain_original.copy()\\nytest = ytest_original.copy()\\nytrain, ytest = swapcolumns(ytrain, ytest, 1)\\n# =================================================\\n\\nrf = RandomForestClassifier(random_state=randomseed, n_estimators=50)\\nrf.fit(xtrain, ytrain)\\nrfpred = rf.predict(xtest)\\nprint(m.accuracy_score(ytest, rfpred))\\n\\nclf.append(rf)\\nacc.append(m.accuracy_score(ytest, rfpred))\\nypredproba_all.append(rf.predict_proba(xtest))\\n\\nconfmat = m.confusion_matrix(ytest, rfpred)\\nconfsumh = np.sum(confmat, axis=0)\\npropconfmat = confmat.copy()\\nfor i in range(propconfmat.shape[0]):\\n    propconfmat[:, i] = 100 * propconfmat[:, i] / confsumh[i]\\nypredconfprob_all.append(propconfmat / 100)\";\n",
       "                var nbb_formatted_code = \"# =================================================\\n# classs 1\\n# =================================================\\nytrain = ytrain_original.copy()\\nytest = ytest_original.copy()\\nytrain, ytest = swapcolumns(ytrain, ytest, 1)\\n# =================================================\\n\\nrf = RandomForestClassifier(random_state=randomseed, n_estimators=50)\\nrf.fit(xtrain, ytrain)\\nrfpred = rf.predict(xtest)\\nprint(m.accuracy_score(ytest, rfpred))\\n\\nclf.append(rf)\\nacc.append(m.accuracy_score(ytest, rfpred))\\nypredproba_all.append(rf.predict_proba(xtest))\\n\\nconfmat = m.confusion_matrix(ytest, rfpred)\\nconfsumh = np.sum(confmat, axis=0)\\npropconfmat = confmat.copy()\\nfor i in range(propconfmat.shape[0]):\\n    propconfmat[:, i] = 100 * propconfmat[:, i] / confsumh[i]\\nypredconfprob_all.append(propconfmat / 100)\";\n",
       "                var nbb_cells = Jupyter.notebook.get_cells();\n",
       "                for (var i = 0; i < nbb_cells.length; ++i) {\n",
       "                    if (nbb_cells[i].input_prompt_number == nbb_cell_id) {\n",
       "                        if (nbb_cells[i].get_text() == nbb_unformatted_code) {\n",
       "                             nbb_cells[i].set_text(nbb_formatted_code);\n",
       "                        }\n",
       "                        break;\n",
       "                    }\n",
       "                }\n",
       "            }, 500);\n",
       "            "
      ],
      "text/plain": [
       "<IPython.core.display.Javascript object>"
      ]
     },
     "metadata": {},
     "output_type": "display_data"
    }
   ],
   "source": [
    "# =================================================\n",
    "# classs 1\n",
    "# =================================================\n",
    "ytrain = ytrain_original.copy()\n",
    "ytest = ytest_original.copy()\n",
    "ytrain, ytest = swapcolumns(ytrain, ytest, 1)\n",
    "# =================================================\n",
    "\n",
    "rf = RandomForestClassifier(random_state=randomseed, n_estimators=50)\n",
    "rf.fit(xtrain, ytrain)\n",
    "rfpred = rf.predict(xtest)\n",
    "print(m.accuracy_score(ytest, rfpred))\n",
    "\n",
    "clf.append(rf)\n",
    "acc.append(m.accuracy_score(ytest, rfpred))\n",
    "ypredproba_all.append(rf.predict_proba(xtest))\n",
    "\n",
    "confmat = m.confusion_matrix(ytest, rfpred)\n",
    "confsumh = np.sum(confmat, axis=0)\n",
    "propconfmat = confmat.copy()\n",
    "for i in range(propconfmat.shape[0]):\n",
    "    propconfmat[:, i] = 100 * propconfmat[:, i] / confsumh[i]\n",
    "ypredconfprob_all.append(propconfmat / 100)"
   ]
  },
  {
   "cell_type": "code",
   "execution_count": 41,
   "metadata": {},
   "outputs": [
    {
     "name": "stdout",
     "output_type": "stream",
     "text": [
      "0.8883333333333333\n"
     ]
    },
    {
     "data": {
      "application/javascript": [
       "\n",
       "            setTimeout(function() {\n",
       "                var nbb_cell_id = 41;\n",
       "                var nbb_unformatted_code = \"\\n#=================================================\\n# classs 2\\n#=================================================\\n\\nytrain=ytrain_original.copy()\\nytest=ytest_original.copy()\\nytrain,ytest= swapcolumns(ytrain,ytest,2)\\n\\n#=================================================\\n\\nrf=RandomForestClassifier(random_state=randomseed, n_estimators=50)\\nrf.fit(xtrain,ytrain)\\nrfpred=rf.predict(xtest)\\nprint(m.accuracy_score(ytest,rfpred))\\n\\nclf.append(rf)\\nacc.append(m.accuracy_score(ytest,rfpred))\\nypredproba_all.append(rf.predict_proba(xtest))\\n\\nconfmat=m.confusion_matrix(ytest,rfpred)\\nconfsumh=np.sum(confmat,axis=0)\\npropconfmat=confmat.copy()\\nfor i in range(propconfmat.shape[0]):\\n    propconfmat[:,i]= 100*propconfmat[:,i]/confsumh[i] \\nypredconfprob_all.append(propconfmat/100)\";\n",
       "                var nbb_formatted_code = \"# =================================================\\n# classs 2\\n# =================================================\\n\\nytrain = ytrain_original.copy()\\nytest = ytest_original.copy()\\nytrain, ytest = swapcolumns(ytrain, ytest, 2)\\n\\n# =================================================\\n\\nrf = RandomForestClassifier(random_state=randomseed, n_estimators=50)\\nrf.fit(xtrain, ytrain)\\nrfpred = rf.predict(xtest)\\nprint(m.accuracy_score(ytest, rfpred))\\n\\nclf.append(rf)\\nacc.append(m.accuracy_score(ytest, rfpred))\\nypredproba_all.append(rf.predict_proba(xtest))\\n\\nconfmat = m.confusion_matrix(ytest, rfpred)\\nconfsumh = np.sum(confmat, axis=0)\\npropconfmat = confmat.copy()\\nfor i in range(propconfmat.shape[0]):\\n    propconfmat[:, i] = 100 * propconfmat[:, i] / confsumh[i]\\nypredconfprob_all.append(propconfmat / 100)\";\n",
       "                var nbb_cells = Jupyter.notebook.get_cells();\n",
       "                for (var i = 0; i < nbb_cells.length; ++i) {\n",
       "                    if (nbb_cells[i].input_prompt_number == nbb_cell_id) {\n",
       "                        if (nbb_cells[i].get_text() == nbb_unformatted_code) {\n",
       "                             nbb_cells[i].set_text(nbb_formatted_code);\n",
       "                        }\n",
       "                        break;\n",
       "                    }\n",
       "                }\n",
       "            }, 500);\n",
       "            "
      ],
      "text/plain": [
       "<IPython.core.display.Javascript object>"
      ]
     },
     "metadata": {},
     "output_type": "display_data"
    }
   ],
   "source": [
    "\n",
    "#=================================================\n",
    "# classs 2\n",
    "#=================================================\n",
    "\n",
    "ytrain=ytrain_original.copy()\n",
    "ytest=ytest_original.copy()\n",
    "ytrain,ytest= swapcolumns(ytrain,ytest,2)\n",
    "\n",
    "#=================================================\n",
    "\n",
    "rf=RandomForestClassifier(random_state=randomseed, n_estimators=50)\n",
    "rf.fit(xtrain,ytrain)\n",
    "rfpred=rf.predict(xtest)\n",
    "print(m.accuracy_score(ytest,rfpred))\n",
    "\n",
    "clf.append(rf)\n",
    "acc.append(m.accuracy_score(ytest,rfpred))\n",
    "ypredproba_all.append(rf.predict_proba(xtest))\n",
    "\n",
    "confmat=m.confusion_matrix(ytest,rfpred)\n",
    "confsumh=np.sum(confmat,axis=0)\n",
    "propconfmat=confmat.copy()\n",
    "for i in range(propconfmat.shape[0]):\n",
    "    propconfmat[:,i]= 100*propconfmat[:,i]/confsumh[i] \n",
    "ypredconfprob_all.append(propconfmat/100)\n"
   ]
  },
  {
   "cell_type": "code",
   "execution_count": 42,
   "metadata": {},
   "outputs": [
    {
     "data": {
      "text/plain": [
       "(9, 2, 2)"
      ]
     },
     "execution_count": 42,
     "metadata": {},
     "output_type": "execute_result"
    },
    {
     "data": {
      "application/javascript": [
       "\n",
       "            setTimeout(function() {\n",
       "                var nbb_cell_id = 42;\n",
       "                var nbb_unformatted_code = \"np.array(ypredconfprob_all).shape\";\n",
       "                var nbb_formatted_code = \"np.array(ypredconfprob_all).shape\";\n",
       "                var nbb_cells = Jupyter.notebook.get_cells();\n",
       "                for (var i = 0; i < nbb_cells.length; ++i) {\n",
       "                    if (nbb_cells[i].input_prompt_number == nbb_cell_id) {\n",
       "                        if (nbb_cells[i].get_text() == nbb_unformatted_code) {\n",
       "                             nbb_cells[i].set_text(nbb_formatted_code);\n",
       "                        }\n",
       "                        break;\n",
       "                    }\n",
       "                }\n",
       "            }, 500);\n",
       "            "
      ],
      "text/plain": [
       "<IPython.core.display.Javascript object>"
      ]
     },
     "metadata": {},
     "output_type": "display_data"
    }
   ],
   "source": [
    "np.array(ypredconfprob_all).shape"
   ]
  },
  {
   "cell_type": "markdown",
   "metadata": {},
   "source": [
    "3. Confusion matrix based ensemble method\n",
    "====="
   ]
  },
  {
   "cell_type": "code",
   "execution_count": 43,
   "metadata": {},
   "outputs": [
    {
     "data": {
      "application/javascript": [
       "\n",
       "            setTimeout(function() {\n",
       "                var nbb_cell_id = 43;\n",
       "                var nbb_unformatted_code = \"# ci0=ci1=ci2=1\\n\\n# p_k1_c0=ci0*(ypredproba_all[0][:,0] * ypredconfprob_all[0][0][0] + \\n#               ypredproba_all[0][:,1] * ypredconfprob_all[0][0][1] ) \\n\\n# p_k1_c1=ci0*(ypredproba_all[0][:,0] * ypredconfprob_all[0][1][0]   + \\n#               ypredproba_all[0][:,1] * ypredconfprob_all[0][1][1] )   \\n \\n\\n\\n# p_k2_c0=ci0*(ypredproba_all[1][:,0] * ypredconfprob_all[1][0][0] + \\n#               ypredproba_all[1][:,1] * ypredconfprob_all[1][0][1] ) \\n\\n# p_k2_c1=ci0*(ypredproba_all[1][:,0] * ypredconfprob_all[1][1][0]   + \\n#               ypredproba_all[1][:,1] * ypredconfprob_all[1][1][1] )    \\n    \\n\\n# p_k3_c0=ci0*(ypredproba_all[2][:,0] * ypredconfprob_all[2][0][0] + \\n#               ypredproba_all[2][:,1] * ypredconfprob_all[2][0][1] ) \\n\\n# p_k3_c1=ci0*(ypredproba_all[2][:,0] * ypredconfprob_all[2][1][0]   + \\n#               ypredproba_all[2][:,1] * ypredconfprob_all[2][1][1]  )     \\n \";\n",
       "                var nbb_formatted_code = \"# ci0=ci1=ci2=1\\n\\n# p_k1_c0=ci0*(ypredproba_all[0][:,0] * ypredconfprob_all[0][0][0] +\\n#               ypredproba_all[0][:,1] * ypredconfprob_all[0][0][1] )\\n\\n# p_k1_c1=ci0*(ypredproba_all[0][:,0] * ypredconfprob_all[0][1][0]   +\\n#               ypredproba_all[0][:,1] * ypredconfprob_all[0][1][1] )\\n\\n\\n# p_k2_c0=ci0*(ypredproba_all[1][:,0] * ypredconfprob_all[1][0][0] +\\n#               ypredproba_all[1][:,1] * ypredconfprob_all[1][0][1] )\\n\\n# p_k2_c1=ci0*(ypredproba_all[1][:,0] * ypredconfprob_all[1][1][0]   +\\n#               ypredproba_all[1][:,1] * ypredconfprob_all[1][1][1] )\\n\\n\\n# p_k3_c0=ci0*(ypredproba_all[2][:,0] * ypredconfprob_all[2][0][0] +\\n#               ypredproba_all[2][:,1] * ypredconfprob_all[2][0][1] )\\n\\n# p_k3_c1=ci0*(ypredproba_all[2][:,0] * ypredconfprob_all[2][1][0]   +\\n#               ypredproba_all[2][:,1] * ypredconfprob_all[2][1][1]  )\";\n",
       "                var nbb_cells = Jupyter.notebook.get_cells();\n",
       "                for (var i = 0; i < nbb_cells.length; ++i) {\n",
       "                    if (nbb_cells[i].input_prompt_number == nbb_cell_id) {\n",
       "                        if (nbb_cells[i].get_text() == nbb_unformatted_code) {\n",
       "                             nbb_cells[i].set_text(nbb_formatted_code);\n",
       "                        }\n",
       "                        break;\n",
       "                    }\n",
       "                }\n",
       "            }, 500);\n",
       "            "
      ],
      "text/plain": [
       "<IPython.core.display.Javascript object>"
      ]
     },
     "metadata": {},
     "output_type": "display_data"
    }
   ],
   "source": [
    "# ci0=ci1=ci2=1\n",
    "\n",
    "# p_k1_c0=ci0*(ypredproba_all[0][:,0] * ypredconfprob_all[0][0][0] + \n",
    "#               ypredproba_all[0][:,1] * ypredconfprob_all[0][0][1] ) \n",
    "\n",
    "# p_k1_c1=ci0*(ypredproba_all[0][:,0] * ypredconfprob_all[0][1][0]   + \n",
    "#               ypredproba_all[0][:,1] * ypredconfprob_all[0][1][1] )   \n",
    " \n",
    "\n",
    "\n",
    "# p_k2_c0=ci0*(ypredproba_all[1][:,0] * ypredconfprob_all[1][0][0] + \n",
    "#               ypredproba_all[1][:,1] * ypredconfprob_all[1][0][1] ) \n",
    "\n",
    "# p_k2_c1=ci0*(ypredproba_all[1][:,0] * ypredconfprob_all[1][1][0]   + \n",
    "#               ypredproba_all[1][:,1] * ypredconfprob_all[1][1][1] )    \n",
    "    \n",
    "\n",
    "# p_k3_c0=ci0*(ypredproba_all[2][:,0] * ypredconfprob_all[2][0][0] + \n",
    "#               ypredproba_all[2][:,1] * ypredconfprob_all[2][0][1] ) \n",
    "\n",
    "# p_k3_c1=ci0*(ypredproba_all[2][:,0] * ypredconfprob_all[2][1][0]   + \n",
    "#               ypredproba_all[2][:,1] * ypredconfprob_all[2][1][1]  )     \n",
    " \n"
   ]
  },
  {
   "cell_type": "code",
   "execution_count": 44,
   "metadata": {},
   "outputs": [
    {
     "data": {
      "application/javascript": [
       "\n",
       "            setTimeout(function() {\n",
       "                var nbb_cell_id = 44;\n",
       "                var nbb_unformatted_code = \"# modified version to include the negative prob\\n\\nci0 = ci1 = ci2 = 1\\n\\nci0 = np.sum(abs(ypredproba_all[0][:, 0] - 0.5)) / ypredproba_all[0][:, 0].shape[0]\\nci1 = np.sum(abs(ypredproba_all[1][:, 0] - 0.5)) / ypredproba_all[1][:, 0].shape[0]\\nci2 = np.sum(abs(ypredproba_all[2][:, 0] - 0.5)) / ypredproba_all[2][:, 0].shape[0]\\n\\n\\np_k1_c1 = ci0 * (\\n    ypredproba_all[0][:, 0] * ypredconfprob_all[0][1][0]\\n    + ypredproba_all[0][:, 1] * ypredconfprob_all[0][1][1]\\n)\\n\\n\\np_k2_c1 = ci0 * (\\n    ypredproba_all[1][:, 0] * ypredconfprob_all[1][1][0]\\n    + ypredproba_all[1][:, 1] * ypredconfprob_all[1][1][1]\\n)\\n\\np_k3_c1 = ci0 * (\\n    ypredproba_all[2][:, 0] * ypredconfprob_all[2][1][0]\\n    + ypredproba_all[2][:, 1] * ypredconfprob_all[2][1][1]\\n)\\n\\n\\np_k1_c0 = ci0 * (\\n    ypredproba_all[0][:, 0] * ypredconfprob_all[0][0][0]\\n    + ypredproba_all[0][:, 1] * ypredconfprob_all[0][0][1]\\n) + (p_k2_c1 * p_k3_c1)\\n\\n\\np_k2_c0 = ci0 * (\\n    ypredproba_all[1][:, 0] * ypredconfprob_all[1][0][0]\\n    + ypredproba_all[1][:, 1] * ypredconfprob_all[1][0][1]\\n) + (p_k1_c1 * p_k3_c1)\\n\\np_k3_c0 = ci0 * (\\n    ypredproba_all[2][:, 0] * ypredconfprob_all[2][0][0]\\n    + ypredproba_all[2][:, 1] * ypredconfprob_all[2][0][1]\\n) + (p_k2_c1 * p_k1_c1)\";\n",
       "                var nbb_formatted_code = \"# modified version to include the negative prob\\n\\nci0 = ci1 = ci2 = 1\\n\\nci0 = np.sum(abs(ypredproba_all[0][:, 0] - 0.5)) / ypredproba_all[0][:, 0].shape[0]\\nci1 = np.sum(abs(ypredproba_all[1][:, 0] - 0.5)) / ypredproba_all[1][:, 0].shape[0]\\nci2 = np.sum(abs(ypredproba_all[2][:, 0] - 0.5)) / ypredproba_all[2][:, 0].shape[0]\\n\\n\\np_k1_c1 = ci0 * (\\n    ypredproba_all[0][:, 0] * ypredconfprob_all[0][1][0]\\n    + ypredproba_all[0][:, 1] * ypredconfprob_all[0][1][1]\\n)\\n\\n\\np_k2_c1 = ci0 * (\\n    ypredproba_all[1][:, 0] * ypredconfprob_all[1][1][0]\\n    + ypredproba_all[1][:, 1] * ypredconfprob_all[1][1][1]\\n)\\n\\np_k3_c1 = ci0 * (\\n    ypredproba_all[2][:, 0] * ypredconfprob_all[2][1][0]\\n    + ypredproba_all[2][:, 1] * ypredconfprob_all[2][1][1]\\n)\\n\\n\\np_k1_c0 = ci0 * (\\n    ypredproba_all[0][:, 0] * ypredconfprob_all[0][0][0]\\n    + ypredproba_all[0][:, 1] * ypredconfprob_all[0][0][1]\\n) + (p_k2_c1 * p_k3_c1)\\n\\n\\np_k2_c0 = ci0 * (\\n    ypredproba_all[1][:, 0] * ypredconfprob_all[1][0][0]\\n    + ypredproba_all[1][:, 1] * ypredconfprob_all[1][0][1]\\n) + (p_k1_c1 * p_k3_c1)\\n\\np_k3_c0 = ci0 * (\\n    ypredproba_all[2][:, 0] * ypredconfprob_all[2][0][0]\\n    + ypredproba_all[2][:, 1] * ypredconfprob_all[2][0][1]\\n) + (p_k2_c1 * p_k1_c1)\";\n",
       "                var nbb_cells = Jupyter.notebook.get_cells();\n",
       "                for (var i = 0; i < nbb_cells.length; ++i) {\n",
       "                    if (nbb_cells[i].input_prompt_number == nbb_cell_id) {\n",
       "                        if (nbb_cells[i].get_text() == nbb_unformatted_code) {\n",
       "                             nbb_cells[i].set_text(nbb_formatted_code);\n",
       "                        }\n",
       "                        break;\n",
       "                    }\n",
       "                }\n",
       "            }, 500);\n",
       "            "
      ],
      "text/plain": [
       "<IPython.core.display.Javascript object>"
      ]
     },
     "metadata": {},
     "output_type": "display_data"
    }
   ],
   "source": [
    "# modified version to include the negative prob\n",
    "\n",
    "ci0 = ci1 = ci2 = 1\n",
    "\n",
    "ci0 = np.sum(abs(ypredproba_all[0][:, 0] - 0.5)) / ypredproba_all[0][:, 0].shape[0]\n",
    "ci1 = np.sum(abs(ypredproba_all[1][:, 0] - 0.5)) / ypredproba_all[1][:, 0].shape[0]\n",
    "ci2 = np.sum(abs(ypredproba_all[2][:, 0] - 0.5)) / ypredproba_all[2][:, 0].shape[0]\n",
    "\n",
    "\n",
    "p_k1_c1 = ci0 * (\n",
    "    ypredproba_all[0][:, 0] * ypredconfprob_all[0][1][0]\n",
    "    + ypredproba_all[0][:, 1] * ypredconfprob_all[0][1][1]\n",
    ")\n",
    "\n",
    "\n",
    "p_k2_c1 = ci0 * (\n",
    "    ypredproba_all[1][:, 0] * ypredconfprob_all[1][1][0]\n",
    "    + ypredproba_all[1][:, 1] * ypredconfprob_all[1][1][1]\n",
    ")\n",
    "\n",
    "p_k3_c1 = ci0 * (\n",
    "    ypredproba_all[2][:, 0] * ypredconfprob_all[2][1][0]\n",
    "    + ypredproba_all[2][:, 1] * ypredconfprob_all[2][1][1]\n",
    ")\n",
    "\n",
    "\n",
    "p_k1_c0 = ci0 * (\n",
    "    ypredproba_all[0][:, 0] * ypredconfprob_all[0][0][0]\n",
    "    + ypredproba_all[0][:, 1] * ypredconfprob_all[0][0][1]\n",
    ") + (p_k2_c1 * p_k3_c1)\n",
    "\n",
    "\n",
    "p_k2_c0 = ci0 * (\n",
    "    ypredproba_all[1][:, 0] * ypredconfprob_all[1][0][0]\n",
    "    + ypredproba_all[1][:, 1] * ypredconfprob_all[1][0][1]\n",
    ") + (p_k1_c1 * p_k3_c1)\n",
    "\n",
    "p_k3_c0 = ci0 * (\n",
    "    ypredproba_all[2][:, 0] * ypredconfprob_all[2][0][0]\n",
    "    + ypredproba_all[2][:, 1] * ypredconfprob_all[2][0][1]\n",
    ") + (p_k2_c1 * p_k1_c1)"
   ]
  },
  {
   "cell_type": "code",
   "execution_count": 45,
   "metadata": {},
   "outputs": [
    {
     "name": "stdout",
     "output_type": "stream",
     "text": [
      "0.7033333333333334\n",
      "[[150  50   0]\n",
      " [ 74 112  14]\n",
      " [  4  36 160]]\n"
     ]
    },
    {
     "data": {
      "application/javascript": [
       "\n",
       "            setTimeout(function() {\n",
       "                var nbb_cell_id = 45;\n",
       "                var nbb_unformatted_code = \"finalcol = np.zeros((ytest.shape[0], 3))\\nfinalcol[:, 0] = p_k1_c0\\nfinalcol[:, 1] = p_k2_c0\\nfinalcol[:, 2] = p_k3_c0\\nfinalpred = np.argmax(finalcol, axis=1)\\n\\nytest = ytest_original.copy()\\nprint(m.accuracy_score(ytest, finalpred))\\nprint(m.confusion_matrix(ytest, finalpred))\";\n",
       "                var nbb_formatted_code = \"finalcol = np.zeros((ytest.shape[0], 3))\\nfinalcol[:, 0] = p_k1_c0\\nfinalcol[:, 1] = p_k2_c0\\nfinalcol[:, 2] = p_k3_c0\\nfinalpred = np.argmax(finalcol, axis=1)\\n\\nytest = ytest_original.copy()\\nprint(m.accuracy_score(ytest, finalpred))\\nprint(m.confusion_matrix(ytest, finalpred))\";\n",
       "                var nbb_cells = Jupyter.notebook.get_cells();\n",
       "                for (var i = 0; i < nbb_cells.length; ++i) {\n",
       "                    if (nbb_cells[i].input_prompt_number == nbb_cell_id) {\n",
       "                        if (nbb_cells[i].get_text() == nbb_unformatted_code) {\n",
       "                             nbb_cells[i].set_text(nbb_formatted_code);\n",
       "                        }\n",
       "                        break;\n",
       "                    }\n",
       "                }\n",
       "            }, 500);\n",
       "            "
      ],
      "text/plain": [
       "<IPython.core.display.Javascript object>"
      ]
     },
     "metadata": {},
     "output_type": "display_data"
    }
   ],
   "source": [
    "finalcol = np.zeros((ytest.shape[0], 3))\n",
    "finalcol[:, 0] = p_k1_c0\n",
    "finalcol[:, 1] = p_k2_c0\n",
    "finalcol[:, 2] = p_k3_c0\n",
    "finalpred = np.argmax(finalcol, axis=1)\n",
    "\n",
    "ytest = ytest_original.copy()\n",
    "print(m.accuracy_score(ytest, finalpred))\n",
    "print(m.confusion_matrix(ytest, finalpred))"
   ]
  },
  {
   "cell_type": "code",
   "execution_count": 46,
   "metadata": {},
   "outputs": [
    {
     "name": "stdout",
     "output_type": "stream",
     "text": [
      "[[150  50   0]\n",
      " [ 74 112  14]\n",
      " [  4  36 160]]\n"
     ]
    },
    {
     "data": {
      "application/javascript": [
       "\n",
       "            setTimeout(function() {\n",
       "                var nbb_cell_id = 46;\n",
       "                var nbb_unformatted_code = \"print(m.confusion_matrix(ytest, finalpred))\";\n",
       "                var nbb_formatted_code = \"print(m.confusion_matrix(ytest, finalpred))\";\n",
       "                var nbb_cells = Jupyter.notebook.get_cells();\n",
       "                for (var i = 0; i < nbb_cells.length; ++i) {\n",
       "                    if (nbb_cells[i].input_prompt_number == nbb_cell_id) {\n",
       "                        if (nbb_cells[i].get_text() == nbb_unformatted_code) {\n",
       "                             nbb_cells[i].set_text(nbb_formatted_code);\n",
       "                        }\n",
       "                        break;\n",
       "                    }\n",
       "                }\n",
       "            }, 500);\n",
       "            "
      ],
      "text/plain": [
       "<IPython.core.display.Javascript object>"
      ]
     },
     "metadata": {},
     "output_type": "display_data"
    }
   ],
   "source": [
    "print(m.confusion_matrix(ytest, finalpred))"
   ]
  },
  {
   "cell_type": "code",
   "execution_count": null,
   "metadata": {},
   "outputs": [],
   "source": []
  },
  {
   "cell_type": "code",
   "execution_count": null,
   "metadata": {},
   "outputs": [],
   "source": []
  }
 ],
 "metadata": {
  "kernelspec": {
   "display_name": "Python 3",
   "language": "python",
   "name": "python3"
  },
  "language_info": {
   "codemirror_mode": {
    "name": "ipython",
    "version": 3
   },
   "file_extension": ".py",
   "mimetype": "text/x-python",
   "name": "python",
   "nbconvert_exporter": "python",
   "pygments_lexer": "ipython3",
   "version": "3.7.3"
  }
 },
 "nbformat": 4,
 "nbformat_minor": 2
}
