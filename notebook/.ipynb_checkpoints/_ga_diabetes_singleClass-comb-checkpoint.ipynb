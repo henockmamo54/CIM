{
 "cells": [
  {
   "cell_type": "code",
   "execution_count": 1,
   "metadata": {},
   "outputs": [
    {
     "data": {
      "application/javascript": [
       "\n",
       "            setTimeout(function() {\n",
       "                var nbb_cell_id = 1;\n",
       "                var nbb_unformatted_code = \"%load_ext nb_black\";\n",
       "                var nbb_formatted_code = \"%load_ext nb_black\";\n",
       "                var nbb_cells = Jupyter.notebook.get_cells();\n",
       "                for (var i = 0; i < nbb_cells.length; ++i) {\n",
       "                    if (nbb_cells[i].input_prompt_number == nbb_cell_id) {\n",
       "                        if (nbb_cells[i].get_text() == nbb_unformatted_code) {\n",
       "                             nbb_cells[i].set_text(nbb_formatted_code);\n",
       "                        }\n",
       "                        break;\n",
       "                    }\n",
       "                }\n",
       "            }, 500);\n",
       "            "
      ],
      "text/plain": [
       "<IPython.core.display.Javascript object>"
      ]
     },
     "metadata": {},
     "output_type": "display_data"
    }
   ],
   "source": [
    "%load_ext nb_black"
   ]
  },
  {
   "cell_type": "code",
   "execution_count": 2,
   "metadata": {},
   "outputs": [
    {
     "data": {
      "application/javascript": [
       "\n",
       "            setTimeout(function() {\n",
       "                var nbb_cell_id = 2;\n",
       "                var nbb_unformatted_code = \"import numpy as np\\nfrom sklearn import datasets\\nfrom sklearn.model_selection import train_test_split\\nfrom sklearn.ensemble import RandomForestClassifier\\nfrom sklearn.svm import SVC\\nimport xgboost as xgb\\nfrom sklearn import metrics as m\\nfrom thundersvm import SVC as svmgpu\\nimport calculateWeightUsingGa2 as aresult\\nimport pandas as pd\\nimport itertools\\nimport random\\nfrom sklearn.ensemble import VotingClassifier\\n\\nrandomseed = 42\\nnp.random.seed(randomseed)\";\n",
       "                var nbb_formatted_code = \"import numpy as np\\nfrom sklearn import datasets\\nfrom sklearn.model_selection import train_test_split\\nfrom sklearn.ensemble import RandomForestClassifier\\nfrom sklearn.svm import SVC\\nimport xgboost as xgb\\nfrom sklearn import metrics as m\\nfrom thundersvm import SVC as svmgpu\\nimport calculateWeightUsingGa2 as aresult\\nimport pandas as pd\\nimport itertools\\nimport random\\nfrom sklearn.ensemble import VotingClassifier\\n\\nrandomseed = 42\\nnp.random.seed(randomseed)\";\n",
       "                var nbb_cells = Jupyter.notebook.get_cells();\n",
       "                for (var i = 0; i < nbb_cells.length; ++i) {\n",
       "                    if (nbb_cells[i].input_prompt_number == nbb_cell_id) {\n",
       "                        if (nbb_cells[i].get_text() == nbb_unformatted_code) {\n",
       "                             nbb_cells[i].set_text(nbb_formatted_code);\n",
       "                        }\n",
       "                        break;\n",
       "                    }\n",
       "                }\n",
       "            }, 500);\n",
       "            "
      ],
      "text/plain": [
       "<IPython.core.display.Javascript object>"
      ]
     },
     "metadata": {},
     "output_type": "display_data"
    }
   ],
   "source": [
    "import numpy as np\n",
    "from sklearn import datasets\n",
    "from sklearn.model_selection import train_test_split\n",
    "from sklearn.ensemble import RandomForestClassifier\n",
    "from sklearn.svm import SVC\n",
    "import xgboost as xgb\n",
    "from sklearn import metrics as m\n",
    "from thundersvm import SVC as svmgpu\n",
    "import calculateWeightUsingGa2 as aresult\n",
    "import pandas as pd\n",
    "import itertools\n",
    "import random\n",
    "from sklearn.ensemble import VotingClassifier\n",
    "\n",
    "randomseed = 42\n",
    "np.random.seed(randomseed)"
   ]
  },
  {
   "cell_type": "markdown",
   "metadata": {},
   "source": [
    "1. Read Dataset \n",
    "==="
   ]
  },
  {
   "cell_type": "code",
   "execution_count": 3,
   "metadata": {},
   "outputs": [
    {
     "data": {
      "application/javascript": [
       "\n",
       "            setTimeout(function() {\n",
       "                var nbb_cell_id = 3;\n",
       "                var nbb_unformatted_code = \"xtest = np.array(pd.read_csv(\\\"../dataset/xtest.txt\\\"))\\nxtrain = np.array(pd.read_csv(\\\"../dataset/xtrain.txt\\\"))\\nytest_original = np.array(pd.read_csv(\\\"../dataset/ytest.txt\\\")).ravel()\\nytrain_original = np.array(pd.read_csv(\\\"../dataset/ytrain.txt\\\")).ravel()\\n\\nytrain = ytrain_original.copy()\\nytest = ytest_original.copy()\";\n",
       "                var nbb_formatted_code = \"xtest = np.array(pd.read_csv(\\\"../dataset/xtest.txt\\\"))\\nxtrain = np.array(pd.read_csv(\\\"../dataset/xtrain.txt\\\"))\\nytest_original = np.array(pd.read_csv(\\\"../dataset/ytest.txt\\\")).ravel()\\nytrain_original = np.array(pd.read_csv(\\\"../dataset/ytrain.txt\\\")).ravel()\\n\\nytrain = ytrain_original.copy()\\nytest = ytest_original.copy()\";\n",
       "                var nbb_cells = Jupyter.notebook.get_cells();\n",
       "                for (var i = 0; i < nbb_cells.length; ++i) {\n",
       "                    if (nbb_cells[i].input_prompt_number == nbb_cell_id) {\n",
       "                        if (nbb_cells[i].get_text() == nbb_unformatted_code) {\n",
       "                             nbb_cells[i].set_text(nbb_formatted_code);\n",
       "                        }\n",
       "                        break;\n",
       "                    }\n",
       "                }\n",
       "            }, 500);\n",
       "            "
      ],
      "text/plain": [
       "<IPython.core.display.Javascript object>"
      ]
     },
     "metadata": {},
     "output_type": "display_data"
    }
   ],
   "source": [
    "xtest = np.array(pd.read_csv(\"../dataset/xtest.txt\"))\n",
    "xtrain = np.array(pd.read_csv(\"../dataset/xtrain.txt\"))\n",
    "ytest_original = np.array(pd.read_csv(\"../dataset/ytest.txt\")).ravel()\n",
    "ytrain_original = np.array(pd.read_csv(\"../dataset/ytrain.txt\")).ravel()\n",
    "\n",
    "ytrain = ytrain_original.copy()\n",
    "ytest = ytest_original.copy()"
   ]
  },
  {
   "cell_type": "code",
   "execution_count": 4,
   "metadata": {},
   "outputs": [
    {
     "data": {
      "application/javascript": [
       "\n",
       "            setTimeout(function() {\n",
       "                var nbb_cell_id = 4;\n",
       "                var nbb_unformatted_code = \"# member values\\nclf = []\\nacc = []\\nfinalacc = []\\nypredproba_all = []\\nypredconfprob_all = []\";\n",
       "                var nbb_formatted_code = \"# member values\\nclf = []\\nacc = []\\nfinalacc = []\\nypredproba_all = []\\nypredconfprob_all = []\";\n",
       "                var nbb_cells = Jupyter.notebook.get_cells();\n",
       "                for (var i = 0; i < nbb_cells.length; ++i) {\n",
       "                    if (nbb_cells[i].input_prompt_number == nbb_cell_id) {\n",
       "                        if (nbb_cells[i].get_text() == nbb_unformatted_code) {\n",
       "                             nbb_cells[i].set_text(nbb_formatted_code);\n",
       "                        }\n",
       "                        break;\n",
       "                    }\n",
       "                }\n",
       "            }, 500);\n",
       "            "
      ],
      "text/plain": [
       "<IPython.core.display.Javascript object>"
      ]
     },
     "metadata": {},
     "output_type": "display_data"
    }
   ],
   "source": [
    "# member values\n",
    "clf = []\n",
    "acc = []\n",
    "finalacc = []\n",
    "ypredproba_all = []\n",
    "ypredconfprob_all = []"
   ]
  },
  {
   "cell_type": "code",
   "execution_count": 5,
   "metadata": {},
   "outputs": [
    {
     "name": "stdout",
     "output_type": "stream",
     "text": [
      "original score 0.6863966818349385\n"
     ]
    },
    {
     "data": {
      "application/javascript": [
       "\n",
       "            setTimeout(function() {\n",
       "                var nbb_cell_id = 5;\n",
       "                var nbb_unformatted_code = \"# orginal score using random forest classifier\\nrf = RandomForestClassifier(random_state=randomseed, n_estimators=10)\\nrf.fit(xtrain, ytrain)\\nprint(\\\"original score\\\", m.f1_score(ytest, rf.predict(xtest), average=\\\"weighted\\\"))\";\n",
       "                var nbb_formatted_code = \"# orginal score using random forest classifier\\nrf = RandomForestClassifier(random_state=randomseed, n_estimators=10)\\nrf.fit(xtrain, ytrain)\\nprint(\\\"original score\\\", m.f1_score(ytest, rf.predict(xtest), average=\\\"weighted\\\"))\";\n",
       "                var nbb_cells = Jupyter.notebook.get_cells();\n",
       "                for (var i = 0; i < nbb_cells.length; ++i) {\n",
       "                    if (nbb_cells[i].input_prompt_number == nbb_cell_id) {\n",
       "                        if (nbb_cells[i].get_text() == nbb_unformatted_code) {\n",
       "                             nbb_cells[i].set_text(nbb_formatted_code);\n",
       "                        }\n",
       "                        break;\n",
       "                    }\n",
       "                }\n",
       "            }, 500);\n",
       "            "
      ],
      "text/plain": [
       "<IPython.core.display.Javascript object>"
      ]
     },
     "metadata": {},
     "output_type": "display_data"
    }
   ],
   "source": [
    "# orginal score using random forest classifier\n",
    "rf = RandomForestClassifier(random_state=randomseed, n_estimators=10)\n",
    "rf.fit(xtrain, ytrain)\n",
    "print(\"original score\", m.f1_score(ytest, rf.predict(xtest), average=\"weighted\"))"
   ]
  },
  {
   "cell_type": "code",
   "execution_count": 6,
   "metadata": {},
   "outputs": [
    {
     "data": {
      "application/javascript": [
       "\n",
       "            setTimeout(function() {\n",
       "                var nbb_cell_id = 6;\n",
       "                var nbb_unformatted_code = \"def swapcolumns(trainval, testval, coldindexval):\\n    trainval[trainval != coldindexval] = 5\\n    testval[testval != coldindexval] = 5\\n\\n    trainval[trainval == coldindexval] = 0\\n    trainval[trainval == 5] = 1\\n\\n    testval[testval == coldindexval] = 0\\n    testval[testval == 5] = 1\\n\\n    return trainval, testval\";\n",
       "                var nbb_formatted_code = \"def swapcolumns(trainval, testval, coldindexval):\\n    trainval[trainval != coldindexval] = 5\\n    testval[testval != coldindexval] = 5\\n\\n    trainval[trainval == coldindexval] = 0\\n    trainval[trainval == 5] = 1\\n\\n    testval[testval == coldindexval] = 0\\n    testval[testval == 5] = 1\\n\\n    return trainval, testval\";\n",
       "                var nbb_cells = Jupyter.notebook.get_cells();\n",
       "                for (var i = 0; i < nbb_cells.length; ++i) {\n",
       "                    if (nbb_cells[i].input_prompt_number == nbb_cell_id) {\n",
       "                        if (nbb_cells[i].get_text() == nbb_unformatted_code) {\n",
       "                             nbb_cells[i].set_text(nbb_formatted_code);\n",
       "                        }\n",
       "                        break;\n",
       "                    }\n",
       "                }\n",
       "            }, 500);\n",
       "            "
      ],
      "text/plain": [
       "<IPython.core.display.Javascript object>"
      ]
     },
     "metadata": {},
     "output_type": "display_data"
    }
   ],
   "source": [
    "def swapcolumns(trainval, testval, coldindexval):\n",
    "    trainval[trainval != coldindexval] = 5\n",
    "    testval[testval != coldindexval] = 5\n",
    "\n",
    "    trainval[trainval == coldindexval] = 0\n",
    "    trainval[trainval == 5] = 1\n",
    "\n",
    "    testval[testval == coldindexval] = 0\n",
    "    testval[testval == 5] = 1\n",
    "\n",
    "    return trainval, testval\n"
   ]
  },
  {
   "cell_type": "markdown",
   "metadata": {},
   "source": [
    "2. Generate baseline classifiers \n",
    "==="
   ]
  },
  {
   "cell_type": "code",
   "execution_count": 7,
   "metadata": {},
   "outputs": [
    {
     "name": "stdout",
     "output_type": "stream",
     "text": [
      "0.8173286512555166\n",
      "0.7315606204495092\n",
      "0.9114979197447021\n"
     ]
    },
    {
     "data": {
      "application/javascript": [
       "\n",
       "            setTimeout(function() {\n",
       "                var nbb_cell_id = 7;\n",
       "                var nbb_unformatted_code = \"#================================================= \\n# Class 0\\n# ===========================\\nytrain = ytrain_original.copy()\\nytest = ytest_original.copy()\\nytrain,ytest= swapcolumns(ytrain,ytest,0)\\n#=================================================\\n\\nxgbc=xgb.XGBClassifier(random_state=randomseed,n_estimators=100)\\nxgbc.fit(xtrain,ytrain)\\n\\nxgbpred=xgbc.predict(xtest)\\nprint(m.f1_score(ytest,xgbpred,average='weighted'))\\n\\n\\nclf.append(xgbc)\\nacc.append(m.f1_score(ytest,xgbpred,average='weighted'))\\nypredproba_all.append(xgbc.predict_proba(xtest))\\n\\nconfmat=m.confusion_matrix(ytest,xgbpred)\\nconfsumh=np.sum(confmat,axis=1)\\npropconfmat=confmat.copy()\\nfor i in range(propconfmat.shape[0]):\\n    propconfmat[i]= 100*propconfmat[i]/confsumh[i] \\nypredconfprob_all.append(propconfmat/100)\\n\\n\\n# =================================================\\n# classs 1\\n# =================================================\\nytrain = ytrain_original.copy()\\nytest = ytest_original.copy()\\nytrain, ytest = swapcolumns(ytrain, ytest, 1)\\n# =================================================\\n\\nxgbc=xgb.XGBClassifier(random_state=randomseed,n_estimators=100)\\nxgbc.fit(xtrain,ytrain)\\n\\nxgbpred=xgbc.predict(xtest)\\nprint(m.f1_score(ytest,xgbpred,average='weighted'))\\n\\n\\nclf.append(xgbc)\\nacc.append(m.f1_score(ytest,xgbpred,average='weighted'))\\nypredproba_all.append(xgbc.predict_proba(xtest))\\n\\nconfmat=m.confusion_matrix(ytest,xgbpred)\\nconfsumh=np.sum(confmat,axis=1)\\npropconfmat=confmat.copy()\\nfor i in range(propconfmat.shape[0]):\\n    propconfmat[i]= 100*propconfmat[i]/confsumh[i] \\nypredconfprob_all.append(propconfmat/100)\\n\\n#=================================================\\n# classs 2\\n#=================================================\\n\\nytrain=ytrain_original.copy()\\nytest=ytest_original.copy()\\nytrain,ytest= swapcolumns(ytrain,ytest,2)\\n\\n#=================================================\\n\\nxgbc=xgb.XGBClassifier(random_state=randomseed,n_estimators=100)\\nxgbc.fit(xtrain,ytrain)\\n\\nxgbpred=xgbc.predict(xtest)\\nprint(m.f1_score(ytest,xgbpred,average='weighted'))\\n\\n\\nclf.append(xgbc)\\nacc.append(m.f1_score(ytest,xgbpred,average='weighted'))\\nypredproba_all.append(xgbc.predict_proba(xtest))\\n\\nconfmat=m.confusion_matrix(ytest,xgbpred)\\nconfsumh=np.sum(confmat,axis=1)\\npropconfmat=confmat.copy()\\nfor i in range(propconfmat.shape[0]):\\n    propconfmat[i]= 100*propconfmat[i]/confsumh[i] \\nypredconfprob_all.append(propconfmat/100)\\n\\n# #=================================================\";\n",
       "                var nbb_formatted_code = \"# =================================================\\n# Class 0\\n# ===========================\\nytrain = ytrain_original.copy()\\nytest = ytest_original.copy()\\nytrain, ytest = swapcolumns(ytrain, ytest, 0)\\n# =================================================\\n\\nxgbc = xgb.XGBClassifier(random_state=randomseed, n_estimators=100)\\nxgbc.fit(xtrain, ytrain)\\n\\nxgbpred = xgbc.predict(xtest)\\nprint(m.f1_score(ytest, xgbpred, average=\\\"weighted\\\"))\\n\\n\\nclf.append(xgbc)\\nacc.append(m.f1_score(ytest, xgbpred, average=\\\"weighted\\\"))\\nypredproba_all.append(xgbc.predict_proba(xtest))\\n\\nconfmat = m.confusion_matrix(ytest, xgbpred)\\nconfsumh = np.sum(confmat, axis=1)\\npropconfmat = confmat.copy()\\nfor i in range(propconfmat.shape[0]):\\n    propconfmat[i] = 100 * propconfmat[i] / confsumh[i]\\nypredconfprob_all.append(propconfmat / 100)\\n\\n\\n# =================================================\\n# classs 1\\n# =================================================\\nytrain = ytrain_original.copy()\\nytest = ytest_original.copy()\\nytrain, ytest = swapcolumns(ytrain, ytest, 1)\\n# =================================================\\n\\nxgbc = xgb.XGBClassifier(random_state=randomseed, n_estimators=100)\\nxgbc.fit(xtrain, ytrain)\\n\\nxgbpred = xgbc.predict(xtest)\\nprint(m.f1_score(ytest, xgbpred, average=\\\"weighted\\\"))\\n\\n\\nclf.append(xgbc)\\nacc.append(m.f1_score(ytest, xgbpred, average=\\\"weighted\\\"))\\nypredproba_all.append(xgbc.predict_proba(xtest))\\n\\nconfmat = m.confusion_matrix(ytest, xgbpred)\\nconfsumh = np.sum(confmat, axis=1)\\npropconfmat = confmat.copy()\\nfor i in range(propconfmat.shape[0]):\\n    propconfmat[i] = 100 * propconfmat[i] / confsumh[i]\\nypredconfprob_all.append(propconfmat / 100)\\n\\n# =================================================\\n# classs 2\\n# =================================================\\n\\nytrain = ytrain_original.copy()\\nytest = ytest_original.copy()\\nytrain, ytest = swapcolumns(ytrain, ytest, 2)\\n\\n# =================================================\\n\\nxgbc = xgb.XGBClassifier(random_state=randomseed, n_estimators=100)\\nxgbc.fit(xtrain, ytrain)\\n\\nxgbpred = xgbc.predict(xtest)\\nprint(m.f1_score(ytest, xgbpred, average=\\\"weighted\\\"))\\n\\n\\nclf.append(xgbc)\\nacc.append(m.f1_score(ytest, xgbpred, average=\\\"weighted\\\"))\\nypredproba_all.append(xgbc.predict_proba(xtest))\\n\\nconfmat = m.confusion_matrix(ytest, xgbpred)\\nconfsumh = np.sum(confmat, axis=1)\\npropconfmat = confmat.copy()\\nfor i in range(propconfmat.shape[0]):\\n    propconfmat[i] = 100 * propconfmat[i] / confsumh[i]\\nypredconfprob_all.append(propconfmat / 100)\\n\\n# #=================================================\";\n",
       "                var nbb_cells = Jupyter.notebook.get_cells();\n",
       "                for (var i = 0; i < nbb_cells.length; ++i) {\n",
       "                    if (nbb_cells[i].input_prompt_number == nbb_cell_id) {\n",
       "                        if (nbb_cells[i].get_text() == nbb_unformatted_code) {\n",
       "                             nbb_cells[i].set_text(nbb_formatted_code);\n",
       "                        }\n",
       "                        break;\n",
       "                    }\n",
       "                }\n",
       "            }, 500);\n",
       "            "
      ],
      "text/plain": [
       "<IPython.core.display.Javascript object>"
      ]
     },
     "metadata": {},
     "output_type": "display_data"
    }
   ],
   "source": [
    "#================================================= \n",
    "# Class 0\n",
    "# ===========================\n",
    "ytrain = ytrain_original.copy()\n",
    "ytest = ytest_original.copy()\n",
    "ytrain,ytest= swapcolumns(ytrain,ytest,0)\n",
    "#=================================================\n",
    "\n",
    "xgbc=xgb.XGBClassifier(random_state=randomseed,n_estimators=100)\n",
    "xgbc.fit(xtrain,ytrain)\n",
    "\n",
    "xgbpred=xgbc.predict(xtest)\n",
    "print(m.f1_score(ytest,xgbpred,average='weighted'))\n",
    "\n",
    "\n",
    "clf.append(xgbc)\n",
    "acc.append(m.f1_score(ytest,xgbpred,average='weighted'))\n",
    "ypredproba_all.append(xgbc.predict_proba(xtest))\n",
    "\n",
    "confmat=m.confusion_matrix(ytest,xgbpred)\n",
    "confsumh=np.sum(confmat,axis=1)\n",
    "propconfmat=confmat.copy()\n",
    "for i in range(propconfmat.shape[0]):\n",
    "    propconfmat[i]= 100*propconfmat[i]/confsumh[i] \n",
    "ypredconfprob_all.append(propconfmat/100)\n",
    "\n",
    "\n",
    "# =================================================\n",
    "# classs 1\n",
    "# =================================================\n",
    "ytrain = ytrain_original.copy()\n",
    "ytest = ytest_original.copy()\n",
    "ytrain, ytest = swapcolumns(ytrain, ytest, 1)\n",
    "# =================================================\n",
    "\n",
    "xgbc=xgb.XGBClassifier(random_state=randomseed,n_estimators=100)\n",
    "xgbc.fit(xtrain,ytrain)\n",
    "\n",
    "xgbpred=xgbc.predict(xtest)\n",
    "print(m.f1_score(ytest,xgbpred,average='weighted'))\n",
    "\n",
    "\n",
    "clf.append(xgbc)\n",
    "acc.append(m.f1_score(ytest,xgbpred,average='weighted'))\n",
    "ypredproba_all.append(xgbc.predict_proba(xtest))\n",
    "\n",
    "confmat=m.confusion_matrix(ytest,xgbpred)\n",
    "confsumh=np.sum(confmat,axis=1)\n",
    "propconfmat=confmat.copy()\n",
    "for i in range(propconfmat.shape[0]):\n",
    "    propconfmat[i]= 100*propconfmat[i]/confsumh[i] \n",
    "ypredconfprob_all.append(propconfmat/100)\n",
    "\n",
    "#=================================================\n",
    "# classs 2\n",
    "#=================================================\n",
    "\n",
    "ytrain=ytrain_original.copy()\n",
    "ytest=ytest_original.copy()\n",
    "ytrain,ytest= swapcolumns(ytrain,ytest,2)\n",
    "\n",
    "#=================================================\n",
    "\n",
    "xgbc=xgb.XGBClassifier(random_state=randomseed,n_estimators=100)\n",
    "xgbc.fit(xtrain,ytrain)\n",
    "\n",
    "xgbpred=xgbc.predict(xtest)\n",
    "print(m.f1_score(ytest,xgbpred,average='weighted'))\n",
    "\n",
    "\n",
    "clf.append(xgbc)\n",
    "acc.append(m.f1_score(ytest,xgbpred,average='weighted'))\n",
    "ypredproba_all.append(xgbc.predict_proba(xtest))\n",
    "\n",
    "confmat=m.confusion_matrix(ytest,xgbpred)\n",
    "confsumh=np.sum(confmat,axis=1)\n",
    "propconfmat=confmat.copy()\n",
    "for i in range(propconfmat.shape[0]):\n",
    "    propconfmat[i]= 100*propconfmat[i]/confsumh[i] \n",
    "ypredconfprob_all.append(propconfmat/100)\n",
    "\n",
    "# #=================================================\n",
    "\n"
   ]
  },
  {
   "cell_type": "code",
   "execution_count": 8,
   "metadata": {
    "scrolled": false
   },
   "outputs": [
    {
     "name": "stdout",
     "output_type": "stream",
     "text": [
      "0\n",
      "1\n",
      "2\n",
      "3\n",
      "4\n",
      "5\n",
      "6\n",
      "7\n",
      "8\n",
      "9\n",
      "2.37059927036403 [0.97878875 0.91091935 0.99839557]\n",
      "trial1_scores f1_score 0.723583416284291\n",
      "0\n",
      "1\n",
      "2\n",
      "3\n",
      "4\n",
      "5\n",
      "6\n",
      "7\n",
      "8\n",
      "9\n",
      "1.5673837377871513 [0.97996736 0.96250438 0.99522855]\n",
      "trial2_scores f1_score 0.7315781878943336\n",
      "0\n",
      "1\n",
      "2\n",
      "3\n",
      "4\n",
      "5\n",
      "6\n",
      "7\n",
      "8\n",
      "9\n",
      "1.5055075475508528 [0.94863422 0.87757649 0.9945267 ]\n",
      "trial3_scores f1_score 0.7390744412248148\n",
      "0\n",
      "1\n",
      "2\n",
      "3\n",
      "4\n",
      "5\n",
      "6\n",
      "7\n",
      "8\n",
      "9\n",
      "0.6573258960210222 [0.95281139 0.698377   0.88241369 0.68959999 0.97522741 0.88211626]\n",
      "trial4_scores f1_score 0.39859846522071707\n",
      "0\n",
      "1\n",
      "2\n",
      "3\n",
      "4\n",
      "5\n",
      "6\n",
      "7\n",
      "8\n",
      "9\n",
      "2.1134167033284816 [0.98878675 0.93507689 0.99750158]\n",
      "trial5_scores f1_score 0.7272454686613103\n",
      "0\n",
      "1\n",
      "2\n",
      "3\n",
      "4\n",
      "5\n",
      "6\n",
      "7\n",
      "8\n",
      "9\n",
      "2.1298417022166367 [0.98164629 0.96282275 0.99745869]\n",
      "trial6_scores f1_score 0.7310398511685873\n"
     ]
    },
    {
     "data": {
      "application/javascript": [
       "\n",
       "            setTimeout(function() {\n",
       "                var nbb_cell_id = 8;\n",
       "                var nbb_unformatted_code = \"\\nimport calculateWeightUsingGa2 as aresult\\nweightvalga=aresult.getbestvalues(acc)\\n\\nfinalcol = np.zeros((ytest.shape[0], 3))\\nfinalcol[:, 0] = ypredproba_all[0][:, 0]*weightvalga[0]\\nfinalcol[:, 1] = ypredproba_all[1][:, 0]*weightvalga[1]\\nfinalcol[:, 2] = ypredproba_all[2][:, 0]*weightvalga[2]\\n\\nfinalpred = np.argmax(finalcol, axis=1)\\n\\nytest = ytest_original.copy()\\nprint('trial1_scores f1_score',m.f1_score(ytest, finalpred,average='weighted')) \\n\\n# #=================================================\\n\\nimport calculateWeightUsingGa2 as aresult\\nweightvalga=aresult.getbestvalues([\\n    ypredconfprob_all[0][0][0] * ypredconfprob_all[1][1][1]*ypredconfprob_all[2][1][1],\\n    ypredconfprob_all[1][0][0] * ypredconfprob_all[0][1][1]*ypredconfprob_all[2][1][1],\\n    ypredconfprob_all[2][0][0] * ypredconfprob_all[0][1][1]*ypredconfprob_all[1][1][1]])\\n\\nfinalcol = np.zeros((ytest.shape[0], 3))\\nfinalcol[:, 0] = ypredproba_all[0][:, 0]*weightvalga[0]\\nfinalcol[:, 1] = ypredproba_all[1][:, 0]*weightvalga[1]\\nfinalcol[:, 2] = ypredproba_all[2][:, 0]*weightvalga[2]\\n\\nfinalpred = np.argmax(finalcol, axis=1)\\n\\nytest = ytest_original.copy()\\nprint('trial2_scores f1_score',m.f1_score(ytest, finalpred,average='weighted')) \\n\\n# #=================================================\\n\\nimport calculateWeightUsingGa2 as aresult\\nweightvalga=aresult.getbestvalues([\\n    ypredconfprob_all[0][0][0] * ypredconfprob_all[1][1][1]*ypredconfprob_all[2][1][1],\\n    ypredconfprob_all[1][0][0] * ypredconfprob_all[0][1][1]*ypredconfprob_all[2][1][1],\\n    ypredconfprob_all[2][0][0] * ypredconfprob_all[0][1][1]*ypredconfprob_all[1][1][1]])\\n\\nfinalcol = np.zeros((ytest.shape[0], 3))\\nfinalcol[:, 0] = ypredproba_all[0][:, 0] * weightvalga[0] + ypredproba_all[0][:, 1] * ypredconfprob_all[0][0][1]\\nfinalcol[:, 1] = ypredproba_all[1][:, 0] * weightvalga[1] + ypredproba_all[1][:, 1] * ypredconfprob_all[1][0][1]\\nfinalcol[:, 2] = ypredproba_all[2][:, 0] * weightvalga[2] + ypredproba_all[2][:, 1] * ypredconfprob_all[2][0][1]\\n\\nfinalpred = np.argmax(finalcol, axis=1)\\n\\nytest = ytest_original.copy()\\nprint('trial3_scores f1_score',m.f1_score(ytest, finalpred,average='weighted'))\\n\\n\\n# #=================================================\\n\\nimport calculateWeightUsingGa2 as aresult\\nweightvalga=aresult.getbestvalues([\\n    ypredconfprob_all[0][0][0] * ypredconfprob_all[1][1][1]*ypredconfprob_all[2][1][1] ,\\n    -ypredconfprob_all[0][0][1],\\n\\n    ypredconfprob_all[1][0][0] * ypredconfprob_all[0][1][1]*ypredconfprob_all[2][1][1],\\n    -ypredconfprob_all[1][0][1],\\n\\n    ypredconfprob_all[2][0][0] * ypredconfprob_all[0][1][1]*ypredconfprob_all[1][1][1],\\n    -ypredconfprob_all[2][0][1],\\n\\n    ])\\n\\nfinalcol = np.zeros((ytest.shape[0], 3))\\nfinalcol[:, 0] = ypredproba_all[0][:, 0]*weightvalga[0] + ypredproba_all[0][:, 1]*weightvalga[1]\\nfinalcol[:, 1] = ypredproba_all[1][:, 0]*weightvalga[2] + ypredproba_all[1][:, 1]*weightvalga[3]\\nfinalcol[:, 2] = ypredproba_all[2][:, 0]*weightvalga[4] + ypredproba_all[2][:, 1]*weightvalga[5]\\n\\nfinalpred = np.argmax(finalcol, axis=1)\\n\\nytest = ytest_original.copy()\\nprint('trial4_scores f1_score',m.f1_score(ytest, finalpred,average='weighted'))\\n\\n\\n# #=================================================\\n\\nimport calculateWeightUsingGa2 as aresult\\nweightvalga=aresult.getbestvalues([\\n    ypredconfprob_all[0][0][0] ,\\n    ypredconfprob_all[1][0][0] ,\\n    ypredconfprob_all[2][0][0] ])\\n\\nfinalcol = np.zeros((ytest.shape[0], 3))\\nfinalcol[:, 0] = weightvalga[0] * (ypredproba_all[0][:, 0] * ypredconfprob_all[0][0][0] + ypredproba_all[0][:, 1] * ypredconfprob_all[0][0][1])\\nfinalcol[:, 1] = weightvalga[1] * (ypredproba_all[1][:, 0] * ypredconfprob_all[1][0][0] + ypredproba_all[1][:, 1] * ypredconfprob_all[1][0][1])\\nfinalcol[:, 2] = weightvalga[2] * (ypredproba_all[2][:, 0] * ypredconfprob_all[2][0][0] + ypredproba_all[2][:, 1] * ypredconfprob_all[2][0][1])\\n\\nfinalpred = np.argmax(finalcol, axis=1)\\n\\nytest = ytest_original.copy()\\nprint('trial5_scores f1_score',m.f1_score(ytest, finalpred,average='weighted')) \\n\\n# #=================================================\\n\\nimport calculateWeightUsingGa2 as aresult\\nweightvalga=aresult.getbestvalues([\\n    ypredconfprob_all[0][0][0] ,\\n    ypredconfprob_all[1][0][0] ,\\n    ypredconfprob_all[2][0][0] ])\\n\\nfinalcol = np.zeros((ytest.shape[0], 3))\\nfinalcol[:, 0] =  (weightvalga[0] *ypredproba_all[0][:, 0] * ypredconfprob_all[0][0][0] + ypredproba_all[0][:, 1] * ypredconfprob_all[0][0][1])\\nfinalcol[:, 1] = (weightvalga[1] * ypredproba_all[1][:, 0] * ypredconfprob_all[1][0][0] + ypredproba_all[1][:, 1] * ypredconfprob_all[1][0][1])\\nfinalcol[:, 2] =  (weightvalga[2] *ypredproba_all[2][:, 0] * ypredconfprob_all[2][0][0] + ypredproba_all[2][:, 1] * ypredconfprob_all[2][0][1])\\n\\nfinalpred = np.argmax(finalcol, axis=1)\\n\\nytest = ytest_original.copy()\\nprint('trial6_scores f1_score',m.f1_score(ytest, finalpred,average='weighted'))\";\n",
       "                var nbb_formatted_code = \"import calculateWeightUsingGa2 as aresult\\n\\nweightvalga = aresult.getbestvalues(acc)\\n\\nfinalcol = np.zeros((ytest.shape[0], 3))\\nfinalcol[:, 0] = ypredproba_all[0][:, 0] * weightvalga[0]\\nfinalcol[:, 1] = ypredproba_all[1][:, 0] * weightvalga[1]\\nfinalcol[:, 2] = ypredproba_all[2][:, 0] * weightvalga[2]\\n\\nfinalpred = np.argmax(finalcol, axis=1)\\n\\nytest = ytest_original.copy()\\nprint(\\\"trial1_scores f1_score\\\", m.f1_score(ytest, finalpred, average=\\\"weighted\\\"))\\n\\n# #=================================================\\n\\nimport calculateWeightUsingGa2 as aresult\\n\\nweightvalga = aresult.getbestvalues(\\n    [\\n        ypredconfprob_all[0][0][0]\\n        * ypredconfprob_all[1][1][1]\\n        * ypredconfprob_all[2][1][1],\\n        ypredconfprob_all[1][0][0]\\n        * ypredconfprob_all[0][1][1]\\n        * ypredconfprob_all[2][1][1],\\n        ypredconfprob_all[2][0][0]\\n        * ypredconfprob_all[0][1][1]\\n        * ypredconfprob_all[1][1][1],\\n    ]\\n)\\n\\nfinalcol = np.zeros((ytest.shape[0], 3))\\nfinalcol[:, 0] = ypredproba_all[0][:, 0] * weightvalga[0]\\nfinalcol[:, 1] = ypredproba_all[1][:, 0] * weightvalga[1]\\nfinalcol[:, 2] = ypredproba_all[2][:, 0] * weightvalga[2]\\n\\nfinalpred = np.argmax(finalcol, axis=1)\\n\\nytest = ytest_original.copy()\\nprint(\\\"trial2_scores f1_score\\\", m.f1_score(ytest, finalpred, average=\\\"weighted\\\"))\\n\\n# #=================================================\\n\\nimport calculateWeightUsingGa2 as aresult\\n\\nweightvalga = aresult.getbestvalues(\\n    [\\n        ypredconfprob_all[0][0][0]\\n        * ypredconfprob_all[1][1][1]\\n        * ypredconfprob_all[2][1][1],\\n        ypredconfprob_all[1][0][0]\\n        * ypredconfprob_all[0][1][1]\\n        * ypredconfprob_all[2][1][1],\\n        ypredconfprob_all[2][0][0]\\n        * ypredconfprob_all[0][1][1]\\n        * ypredconfprob_all[1][1][1],\\n    ]\\n)\\n\\nfinalcol = np.zeros((ytest.shape[0], 3))\\nfinalcol[:, 0] = (\\n    ypredproba_all[0][:, 0] * weightvalga[0]\\n    + ypredproba_all[0][:, 1] * ypredconfprob_all[0][0][1]\\n)\\nfinalcol[:, 1] = (\\n    ypredproba_all[1][:, 0] * weightvalga[1]\\n    + ypredproba_all[1][:, 1] * ypredconfprob_all[1][0][1]\\n)\\nfinalcol[:, 2] = (\\n    ypredproba_all[2][:, 0] * weightvalga[2]\\n    + ypredproba_all[2][:, 1] * ypredconfprob_all[2][0][1]\\n)\\n\\nfinalpred = np.argmax(finalcol, axis=1)\\n\\nytest = ytest_original.copy()\\nprint(\\\"trial3_scores f1_score\\\", m.f1_score(ytest, finalpred, average=\\\"weighted\\\"))\\n\\n\\n# #=================================================\\n\\nimport calculateWeightUsingGa2 as aresult\\n\\nweightvalga = aresult.getbestvalues(\\n    [\\n        ypredconfprob_all[0][0][0]\\n        * ypredconfprob_all[1][1][1]\\n        * ypredconfprob_all[2][1][1],\\n        -ypredconfprob_all[0][0][1],\\n        ypredconfprob_all[1][0][0]\\n        * ypredconfprob_all[0][1][1]\\n        * ypredconfprob_all[2][1][1],\\n        -ypredconfprob_all[1][0][1],\\n        ypredconfprob_all[2][0][0]\\n        * ypredconfprob_all[0][1][1]\\n        * ypredconfprob_all[1][1][1],\\n        -ypredconfprob_all[2][0][1],\\n    ]\\n)\\n\\nfinalcol = np.zeros((ytest.shape[0], 3))\\nfinalcol[:, 0] = (\\n    ypredproba_all[0][:, 0] * weightvalga[0] + ypredproba_all[0][:, 1] * weightvalga[1]\\n)\\nfinalcol[:, 1] = (\\n    ypredproba_all[1][:, 0] * weightvalga[2] + ypredproba_all[1][:, 1] * weightvalga[3]\\n)\\nfinalcol[:, 2] = (\\n    ypredproba_all[2][:, 0] * weightvalga[4] + ypredproba_all[2][:, 1] * weightvalga[5]\\n)\\n\\nfinalpred = np.argmax(finalcol, axis=1)\\n\\nytest = ytest_original.copy()\\nprint(\\\"trial4_scores f1_score\\\", m.f1_score(ytest, finalpred, average=\\\"weighted\\\"))\\n\\n\\n# #=================================================\\n\\nimport calculateWeightUsingGa2 as aresult\\n\\nweightvalga = aresult.getbestvalues(\\n    [ypredconfprob_all[0][0][0], ypredconfprob_all[1][0][0], ypredconfprob_all[2][0][0]]\\n)\\n\\nfinalcol = np.zeros((ytest.shape[0], 3))\\nfinalcol[:, 0] = weightvalga[0] * (\\n    ypredproba_all[0][:, 0] * ypredconfprob_all[0][0][0]\\n    + ypredproba_all[0][:, 1] * ypredconfprob_all[0][0][1]\\n)\\nfinalcol[:, 1] = weightvalga[1] * (\\n    ypredproba_all[1][:, 0] * ypredconfprob_all[1][0][0]\\n    + ypredproba_all[1][:, 1] * ypredconfprob_all[1][0][1]\\n)\\nfinalcol[:, 2] = weightvalga[2] * (\\n    ypredproba_all[2][:, 0] * ypredconfprob_all[2][0][0]\\n    + ypredproba_all[2][:, 1] * ypredconfprob_all[2][0][1]\\n)\\n\\nfinalpred = np.argmax(finalcol, axis=1)\\n\\nytest = ytest_original.copy()\\nprint(\\\"trial5_scores f1_score\\\", m.f1_score(ytest, finalpred, average=\\\"weighted\\\"))\\n\\n# #=================================================\\n\\nimport calculateWeightUsingGa2 as aresult\\n\\nweightvalga = aresult.getbestvalues(\\n    [ypredconfprob_all[0][0][0], ypredconfprob_all[1][0][0], ypredconfprob_all[2][0][0]]\\n)\\n\\nfinalcol = np.zeros((ytest.shape[0], 3))\\nfinalcol[:, 0] = (\\n    weightvalga[0] * ypredproba_all[0][:, 0] * ypredconfprob_all[0][0][0]\\n    + ypredproba_all[0][:, 1] * ypredconfprob_all[0][0][1]\\n)\\nfinalcol[:, 1] = (\\n    weightvalga[1] * ypredproba_all[1][:, 0] * ypredconfprob_all[1][0][0]\\n    + ypredproba_all[1][:, 1] * ypredconfprob_all[1][0][1]\\n)\\nfinalcol[:, 2] = (\\n    weightvalga[2] * ypredproba_all[2][:, 0] * ypredconfprob_all[2][0][0]\\n    + ypredproba_all[2][:, 1] * ypredconfprob_all[2][0][1]\\n)\\n\\nfinalpred = np.argmax(finalcol, axis=1)\\n\\nytest = ytest_original.copy()\\nprint(\\\"trial6_scores f1_score\\\", m.f1_score(ytest, finalpred, average=\\\"weighted\\\"))\";\n",
       "                var nbb_cells = Jupyter.notebook.get_cells();\n",
       "                for (var i = 0; i < nbb_cells.length; ++i) {\n",
       "                    if (nbb_cells[i].input_prompt_number == nbb_cell_id) {\n",
       "                        if (nbb_cells[i].get_text() == nbb_unformatted_code) {\n",
       "                             nbb_cells[i].set_text(nbb_formatted_code);\n",
       "                        }\n",
       "                        break;\n",
       "                    }\n",
       "                }\n",
       "            }, 500);\n",
       "            "
      ],
      "text/plain": [
       "<IPython.core.display.Javascript object>"
      ]
     },
     "metadata": {},
     "output_type": "display_data"
    }
   ],
   "source": [
    "\n",
    "import calculateWeightUsingGa2 as aresult\n",
    "weightvalga=aresult.getbestvalues(acc)\n",
    "\n",
    "finalcol = np.zeros((ytest.shape[0], 3))\n",
    "finalcol[:, 0] = ypredproba_all[0][:, 0]*weightvalga[0]\n",
    "finalcol[:, 1] = ypredproba_all[1][:, 0]*weightvalga[1]\n",
    "finalcol[:, 2] = ypredproba_all[2][:, 0]*weightvalga[2]\n",
    "\n",
    "finalpred = np.argmax(finalcol, axis=1)\n",
    "\n",
    "ytest = ytest_original.copy()\n",
    "print('trial1_scores f1_score',m.f1_score(ytest, finalpred,average='weighted')) \n",
    "\n",
    "# #=================================================\n",
    "\n",
    "import calculateWeightUsingGa2 as aresult\n",
    "weightvalga=aresult.getbestvalues([\n",
    "    ypredconfprob_all[0][0][0] * ypredconfprob_all[1][1][1]*ypredconfprob_all[2][1][1],\n",
    "    ypredconfprob_all[1][0][0] * ypredconfprob_all[0][1][1]*ypredconfprob_all[2][1][1],\n",
    "    ypredconfprob_all[2][0][0] * ypredconfprob_all[0][1][1]*ypredconfprob_all[1][1][1]])\n",
    "\n",
    "finalcol = np.zeros((ytest.shape[0], 3))\n",
    "finalcol[:, 0] = ypredproba_all[0][:, 0]*weightvalga[0]\n",
    "finalcol[:, 1] = ypredproba_all[1][:, 0]*weightvalga[1]\n",
    "finalcol[:, 2] = ypredproba_all[2][:, 0]*weightvalga[2]\n",
    "\n",
    "finalpred = np.argmax(finalcol, axis=1)\n",
    "\n",
    "ytest = ytest_original.copy()\n",
    "print('trial2_scores f1_score',m.f1_score(ytest, finalpred,average='weighted')) \n",
    "\n",
    "# #=================================================\n",
    "\n",
    "import calculateWeightUsingGa2 as aresult\n",
    "weightvalga=aresult.getbestvalues([\n",
    "    ypredconfprob_all[0][0][0] * ypredconfprob_all[1][1][1]*ypredconfprob_all[2][1][1],\n",
    "    ypredconfprob_all[1][0][0] * ypredconfprob_all[0][1][1]*ypredconfprob_all[2][1][1],\n",
    "    ypredconfprob_all[2][0][0] * ypredconfprob_all[0][1][1]*ypredconfprob_all[1][1][1]])\n",
    "\n",
    "finalcol = np.zeros((ytest.shape[0], 3))\n",
    "finalcol[:, 0] = ypredproba_all[0][:, 0] * weightvalga[0] + ypredproba_all[0][:, 1] * ypredconfprob_all[0][0][1]\n",
    "finalcol[:, 1] = ypredproba_all[1][:, 0] * weightvalga[1] + ypredproba_all[1][:, 1] * ypredconfprob_all[1][0][1]\n",
    "finalcol[:, 2] = ypredproba_all[2][:, 0] * weightvalga[2] + ypredproba_all[2][:, 1] * ypredconfprob_all[2][0][1]\n",
    "\n",
    "finalpred = np.argmax(finalcol, axis=1)\n",
    "\n",
    "ytest = ytest_original.copy()\n",
    "print('trial3_scores f1_score',m.f1_score(ytest, finalpred,average='weighted'))\n",
    "\n",
    "\n",
    "# #=================================================\n",
    "\n",
    "import calculateWeightUsingGa2 as aresult\n",
    "weightvalga=aresult.getbestvalues([\n",
    "    ypredconfprob_all[0][0][0] * ypredconfprob_all[1][1][1]*ypredconfprob_all[2][1][1] ,\n",
    "    -ypredconfprob_all[0][0][1],\n",
    "\n",
    "    ypredconfprob_all[1][0][0] * ypredconfprob_all[0][1][1]*ypredconfprob_all[2][1][1],\n",
    "    -ypredconfprob_all[1][0][1],\n",
    "\n",
    "    ypredconfprob_all[2][0][0] * ypredconfprob_all[0][1][1]*ypredconfprob_all[1][1][1],\n",
    "    -ypredconfprob_all[2][0][1],\n",
    "\n",
    "    ])\n",
    "\n",
    "finalcol = np.zeros((ytest.shape[0], 3))\n",
    "finalcol[:, 0] = ypredproba_all[0][:, 0]*weightvalga[0] + ypredproba_all[0][:, 1]*weightvalga[1]\n",
    "finalcol[:, 1] = ypredproba_all[1][:, 0]*weightvalga[2] + ypredproba_all[1][:, 1]*weightvalga[3]\n",
    "finalcol[:, 2] = ypredproba_all[2][:, 0]*weightvalga[4] + ypredproba_all[2][:, 1]*weightvalga[5]\n",
    "\n",
    "finalpred = np.argmax(finalcol, axis=1)\n",
    "\n",
    "ytest = ytest_original.copy()\n",
    "print('trial4_scores f1_score',m.f1_score(ytest, finalpred,average='weighted'))\n",
    "\n",
    "\n",
    "# #=================================================\n",
    "\n",
    "import calculateWeightUsingGa2 as aresult\n",
    "weightvalga=aresult.getbestvalues([\n",
    "    ypredconfprob_all[0][0][0] ,\n",
    "    ypredconfprob_all[1][0][0] ,\n",
    "    ypredconfprob_all[2][0][0] ])\n",
    "\n",
    "finalcol = np.zeros((ytest.shape[0], 3))\n",
    "finalcol[:, 0] = weightvalga[0] * (ypredproba_all[0][:, 0] * ypredconfprob_all[0][0][0] + ypredproba_all[0][:, 1] * ypredconfprob_all[0][0][1])\n",
    "finalcol[:, 1] = weightvalga[1] * (ypredproba_all[1][:, 0] * ypredconfprob_all[1][0][0] + ypredproba_all[1][:, 1] * ypredconfprob_all[1][0][1])\n",
    "finalcol[:, 2] = weightvalga[2] * (ypredproba_all[2][:, 0] * ypredconfprob_all[2][0][0] + ypredproba_all[2][:, 1] * ypredconfprob_all[2][0][1])\n",
    "\n",
    "finalpred = np.argmax(finalcol, axis=1)\n",
    "\n",
    "ytest = ytest_original.copy()\n",
    "print('trial5_scores f1_score',m.f1_score(ytest, finalpred,average='weighted')) \n",
    "\n",
    "# #=================================================\n",
    "\n",
    "import calculateWeightUsingGa2 as aresult\n",
    "weightvalga=aresult.getbestvalues([\n",
    "    ypredconfprob_all[0][0][0] ,\n",
    "    ypredconfprob_all[1][0][0] ,\n",
    "    ypredconfprob_all[2][0][0] ])\n",
    "\n",
    "finalcol = np.zeros((ytest.shape[0], 3))\n",
    "finalcol[:, 0] =  (weightvalga[0] *ypredproba_all[0][:, 0] * ypredconfprob_all[0][0][0] + ypredproba_all[0][:, 1] * ypredconfprob_all[0][0][1])\n",
    "finalcol[:, 1] = (weightvalga[1] * ypredproba_all[1][:, 0] * ypredconfprob_all[1][0][0] + ypredproba_all[1][:, 1] * ypredconfprob_all[1][0][1])\n",
    "finalcol[:, 2] =  (weightvalga[2] *ypredproba_all[2][:, 0] * ypredconfprob_all[2][0][0] + ypredproba_all[2][:, 1] * ypredconfprob_all[2][0][1])\n",
    "\n",
    "finalpred = np.argmax(finalcol, axis=1)\n",
    "\n",
    "ytest = ytest_original.copy()\n",
    "print('trial6_scores f1_score',m.f1_score(ytest, finalpred,average='weighted'))\n"
   ]
  },
  {
   "cell_type": "code",
   "execution_count": null,
   "metadata": {},
   "outputs": [],
   "source": []
  },
  {
   "cell_type": "code",
   "execution_count": null,
   "metadata": {},
   "outputs": [],
   "source": []
  }
 ],
 "metadata": {
  "kernelspec": {
   "display_name": "Python 3",
   "language": "python",
   "name": "python3"
  },
  "language_info": {
   "codemirror_mode": {
    "name": "ipython",
    "version": 3
   },
   "file_extension": ".py",
   "mimetype": "text/x-python",
   "name": "python",
   "nbconvert_exporter": "python",
   "pygments_lexer": "ipython3",
   "version": "3.7.7"
  }
 },
 "nbformat": 4,
 "nbformat_minor": 4
}
