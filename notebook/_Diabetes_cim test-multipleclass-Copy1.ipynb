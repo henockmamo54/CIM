{
 "cells": [
  {
   "cell_type": "code",
   "execution_count": 1,
   "metadata": {},
   "outputs": [
    {
     "data": {
      "application/javascript": [
       "\n",
       "            setTimeout(function() {\n",
       "                var nbb_cell_id = 1;\n",
       "                var nbb_unformatted_code = \"%load_ext nb_black\";\n",
       "                var nbb_formatted_code = \"%load_ext nb_black\";\n",
       "                var nbb_cells = Jupyter.notebook.get_cells();\n",
       "                for (var i = 0; i < nbb_cells.length; ++i) {\n",
       "                    if (nbb_cells[i].input_prompt_number == nbb_cell_id) {\n",
       "                        if (nbb_cells[i].get_text() == nbb_unformatted_code) {\n",
       "                             nbb_cells[i].set_text(nbb_formatted_code);\n",
       "                        }\n",
       "                        break;\n",
       "                    }\n",
       "                }\n",
       "            }, 500);\n",
       "            "
      ],
      "text/plain": [
       "<IPython.core.display.Javascript object>"
      ]
     },
     "metadata": {},
     "output_type": "display_data"
    }
   ],
   "source": [
    "%load_ext nb_black"
   ]
  },
  {
   "cell_type": "code",
   "execution_count": 2,
   "metadata": {},
   "outputs": [
    {
     "data": {
      "application/javascript": [
       "\n",
       "            setTimeout(function() {\n",
       "                var nbb_cell_id = 2;\n",
       "                var nbb_unformatted_code = \"from sklearn import datasets\\nfrom sklearn import metrics as m\\nfrom sklearn.model_selection import train_test_split\\nfrom sklearn.ensemble import RandomForestClassifier\\nfrom sklearn.model_selection import cross_val_score\\nimport numpy as np\\nfrom itertools import combinations\\nfrom sklearn import datasets\\nfrom sklearn import metrics as m\\nfrom sklearn.model_selection import train_test_split\\nfrom sklearn.ensemble import RandomForestClassifier\\nfrom sklearn.model_selection import cross_val_score\\nimport numpy as np\\nimport pandas as pd\\nfrom itertools import combinations\\nfrom sklearn.svm import SVC\\nimport xgboost as xgb\\nfrom thundersvm import SVC as svmgpu\\nfrom sklearn.utils import shuffle\\nimport itertools\\nfrom sklearn.ensemble import VotingClassifier\\nfrom sklearn.preprocessing import LabelEncoder\\nimport random\\n\\nrandomseed = 10\\nnp.random.seed(randomseed)\";\n",
       "                var nbb_formatted_code = \"from sklearn import datasets\\nfrom sklearn import metrics as m\\nfrom sklearn.model_selection import train_test_split\\nfrom sklearn.ensemble import RandomForestClassifier\\nfrom sklearn.model_selection import cross_val_score\\nimport numpy as np\\nfrom itertools import combinations\\nfrom sklearn import datasets\\nfrom sklearn import metrics as m\\nfrom sklearn.model_selection import train_test_split\\nfrom sklearn.ensemble import RandomForestClassifier\\nfrom sklearn.model_selection import cross_val_score\\nimport numpy as np\\nimport pandas as pd\\nfrom itertools import combinations\\nfrom sklearn.svm import SVC\\nimport xgboost as xgb\\nfrom thundersvm import SVC as svmgpu\\nfrom sklearn.utils import shuffle\\nimport itertools\\nfrom sklearn.ensemble import VotingClassifier\\nfrom sklearn.preprocessing import LabelEncoder\\nimport random\\n\\nrandomseed = 10\\nnp.random.seed(randomseed)\";\n",
       "                var nbb_cells = Jupyter.notebook.get_cells();\n",
       "                for (var i = 0; i < nbb_cells.length; ++i) {\n",
       "                    if (nbb_cells[i].input_prompt_number == nbb_cell_id) {\n",
       "                        if (nbb_cells[i].get_text() == nbb_unformatted_code) {\n",
       "                             nbb_cells[i].set_text(nbb_formatted_code);\n",
       "                        }\n",
       "                        break;\n",
       "                    }\n",
       "                }\n",
       "            }, 500);\n",
       "            "
      ],
      "text/plain": [
       "<IPython.core.display.Javascript object>"
      ]
     },
     "metadata": {},
     "output_type": "display_data"
    }
   ],
   "source": [
    "from sklearn import datasets\n",
    "from sklearn import metrics as m\n",
    "from sklearn.model_selection import train_test_split\n",
    "from sklearn.ensemble import RandomForestClassifier\n",
    "from sklearn.model_selection import cross_val_score\n",
    "import numpy as np\n",
    "from itertools import combinations\n",
    "from sklearn import datasets\n",
    "from sklearn import metrics as m\n",
    "from sklearn.model_selection import train_test_split\n",
    "from sklearn.ensemble import RandomForestClassifier\n",
    "from sklearn.model_selection import cross_val_score\n",
    "import numpy as np\n",
    "import pandas as pd\n",
    "from itertools import combinations\n",
    "from sklearn.svm import SVC\n",
    "import xgboost as xgb\n",
    "from thundersvm import SVC as svmgpu\n",
    "from sklearn.utils import shuffle\n",
    "import itertools\n",
    "from sklearn.ensemble import VotingClassifier\n",
    "from sklearn.preprocessing import LabelEncoder\n",
    "import random\n",
    "\n",
    "randomseed = 10\n",
    "np.random.seed(randomseed)"
   ]
  },
  {
   "cell_type": "code",
   "execution_count": 3,
   "metadata": {},
   "outputs": [
    {
     "data": {
      "application/javascript": [
       "\n",
       "            setTimeout(function() {\n",
       "                var nbb_cell_id = 3;\n",
       "                var nbb_unformatted_code = \"def swapcolumns(trainval, testval, coldindexval):\\n    trainval[trainval != coldindexval] = 5\\n    testval[testval != coldindexval] = 5\\n\\n    trainval[trainval == coldindexval] = 0\\n    trainval[trainval == 5] = 1\\n\\n    testval[testval == coldindexval] = 0\\n    testval[testval == 5] = 1\\n\\n    return trainval, testval\";\n",
       "                var nbb_formatted_code = \"def swapcolumns(trainval, testval, coldindexval):\\n    trainval[trainval != coldindexval] = 5\\n    testval[testval != coldindexval] = 5\\n\\n    trainval[trainval == coldindexval] = 0\\n    trainval[trainval == 5] = 1\\n\\n    testval[testval == coldindexval] = 0\\n    testval[testval == 5] = 1\\n\\n    return trainval, testval\";\n",
       "                var nbb_cells = Jupyter.notebook.get_cells();\n",
       "                for (var i = 0; i < nbb_cells.length; ++i) {\n",
       "                    if (nbb_cells[i].input_prompt_number == nbb_cell_id) {\n",
       "                        if (nbb_cells[i].get_text() == nbb_unformatted_code) {\n",
       "                             nbb_cells[i].set_text(nbb_formatted_code);\n",
       "                        }\n",
       "                        break;\n",
       "                    }\n",
       "                }\n",
       "            }, 500);\n",
       "            "
      ],
      "text/plain": [
       "<IPython.core.display.Javascript object>"
      ]
     },
     "metadata": {},
     "output_type": "display_data"
    }
   ],
   "source": [
    "def swapcolumns(trainval, testval, coldindexval):\n",
    "    trainval[trainval != coldindexval] = 5\n",
    "    testval[testval != coldindexval] = 5\n",
    "\n",
    "    trainval[trainval == coldindexval] = 0\n",
    "    trainval[trainval == 5] = 1\n",
    "\n",
    "    testval[testval == coldindexval] = 0\n",
    "    testval[testval == 5] = 1\n",
    "\n",
    "    return trainval, testval"
   ]
  },
  {
   "cell_type": "code",
   "execution_count": 4,
   "metadata": {
    "scrolled": true
   },
   "outputs": [
    {
     "data": {
      "application/javascript": [
       "\n",
       "            setTimeout(function() {\n",
       "                var nbb_cell_id = 4;\n",
       "                var nbb_unformatted_code = \"# data = pd.read_csv(\\\"../dataset/seeds_dataset.txt\\\", sep=\\\"\\\\t\\\", header=None)\\n# data = shuffle(data)\\n\\n# le = LabelEncoder()\\n# data.iloc[:, -1] = le.fit_transform(data.iloc[:, -1])\\n# x = data.iloc[:, :-1]\\n# y = data.iloc[:, -1]\\n# print(np.unique(y))\";\n",
       "                var nbb_formatted_code = \"# data = pd.read_csv(\\\"../dataset/seeds_dataset.txt\\\", sep=\\\"\\\\t\\\", header=None)\\n# data = shuffle(data)\\n\\n# le = LabelEncoder()\\n# data.iloc[:, -1] = le.fit_transform(data.iloc[:, -1])\\n# x = data.iloc[:, :-1]\\n# y = data.iloc[:, -1]\\n# print(np.unique(y))\";\n",
       "                var nbb_cells = Jupyter.notebook.get_cells();\n",
       "                for (var i = 0; i < nbb_cells.length; ++i) {\n",
       "                    if (nbb_cells[i].input_prompt_number == nbb_cell_id) {\n",
       "                        if (nbb_cells[i].get_text() == nbb_unformatted_code) {\n",
       "                             nbb_cells[i].set_text(nbb_formatted_code);\n",
       "                        }\n",
       "                        break;\n",
       "                    }\n",
       "                }\n",
       "            }, 500);\n",
       "            "
      ],
      "text/plain": [
       "<IPython.core.display.Javascript object>"
      ]
     },
     "metadata": {},
     "output_type": "display_data"
    }
   ],
   "source": [
    "# data = pd.read_csv(\"../dataset/seeds_dataset.txt\", sep=\"\\t\", header=None)\n",
    "# data = shuffle(data)\n",
    "\n",
    "# le = LabelEncoder()\n",
    "# data.iloc[:, -1] = le.fit_transform(data.iloc[:, -1])\n",
    "# x = data.iloc[:, :-1]\n",
    "# y = data.iloc[:, -1]\n",
    "# print(np.unique(y))"
   ]
  },
  {
   "cell_type": "code",
   "execution_count": 5,
   "metadata": {},
   "outputs": [
    {
     "data": {
      "application/javascript": [
       "\n",
       "            setTimeout(function() {\n",
       "                var nbb_cell_id = 5;\n",
       "                var nbb_unformatted_code = \"# data = datasets.load_iris()\\n# x = data.data\\n# y = data.target.ravel()\\n# print(np.unique(y))\";\n",
       "                var nbb_formatted_code = \"# data = datasets.load_iris()\\n# x = data.data\\n# y = data.target.ravel()\\n# print(np.unique(y))\";\n",
       "                var nbb_cells = Jupyter.notebook.get_cells();\n",
       "                for (var i = 0; i < nbb_cells.length; ++i) {\n",
       "                    if (nbb_cells[i].input_prompt_number == nbb_cell_id) {\n",
       "                        if (nbb_cells[i].get_text() == nbb_unformatted_code) {\n",
       "                             nbb_cells[i].set_text(nbb_formatted_code);\n",
       "                        }\n",
       "                        break;\n",
       "                    }\n",
       "                }\n",
       "            }, 500);\n",
       "            "
      ],
      "text/plain": [
       "<IPython.core.display.Javascript object>"
      ]
     },
     "metadata": {},
     "output_type": "display_data"
    }
   ],
   "source": [
    "# data = datasets.load_iris()\n",
    "# x = data.data\n",
    "# y = data.target.ravel()\n",
    "# print(np.unique(y))"
   ]
  },
  {
   "cell_type": "code",
   "execution_count": 6,
   "metadata": {},
   "outputs": [
    {
     "data": {
      "application/javascript": [
       "\n",
       "            setTimeout(function() {\n",
       "                var nbb_cell_id = 6;\n",
       "                var nbb_unformatted_code = \"# xtrain, xtest, ytrain_original, ytest_original = train_test_split(\\n#     x, y, test_size=0.3, random_state=10\\n# )\";\n",
       "                var nbb_formatted_code = \"# xtrain, xtest, ytrain_original, ytest_original = train_test_split(\\n#     x, y, test_size=0.3, random_state=10\\n# )\";\n",
       "                var nbb_cells = Jupyter.notebook.get_cells();\n",
       "                for (var i = 0; i < nbb_cells.length; ++i) {\n",
       "                    if (nbb_cells[i].input_prompt_number == nbb_cell_id) {\n",
       "                        if (nbb_cells[i].get_text() == nbb_unformatted_code) {\n",
       "                             nbb_cells[i].set_text(nbb_formatted_code);\n",
       "                        }\n",
       "                        break;\n",
       "                    }\n",
       "                }\n",
       "            }, 500);\n",
       "            "
      ],
      "text/plain": [
       "<IPython.core.display.Javascript object>"
      ]
     },
     "metadata": {},
     "output_type": "display_data"
    }
   ],
   "source": [
    "# xtrain, xtest, ytrain_original, ytest_original = train_test_split(\n",
    "#     x, y, test_size=0.3, random_state=10\n",
    "# )"
   ]
  },
  {
   "cell_type": "code",
   "execution_count": 7,
   "metadata": {},
   "outputs": [
    {
     "data": {
      "application/javascript": [
       "\n",
       "            setTimeout(function() {\n",
       "                var nbb_cell_id = 7;\n",
       "                var nbb_unformatted_code = \"randomseed = 10\\nnp.random.seed(randomseed)\\n\\nxtest = np.array(pd.read_csv(\\\"../dataset/xtest.txt\\\"))\\nxtrain = np.array(pd.read_csv(\\\"../dataset/xtrain.txt\\\"))\\nytest_original = np.array(pd.read_csv(\\\"../dataset/ytest.txt\\\")).ravel()\\nytrain_original = np.array(pd.read_csv(\\\"../dataset/ytrain.txt\\\")).ravel()\\n\\nytrain = ytrain_original.copy()\\nytest = ytest_original.copy()\";\n",
       "                var nbb_formatted_code = \"randomseed = 10\\nnp.random.seed(randomseed)\\n\\nxtest = np.array(pd.read_csv(\\\"../dataset/xtest.txt\\\"))\\nxtrain = np.array(pd.read_csv(\\\"../dataset/xtrain.txt\\\"))\\nytest_original = np.array(pd.read_csv(\\\"../dataset/ytest.txt\\\")).ravel()\\nytrain_original = np.array(pd.read_csv(\\\"../dataset/ytrain.txt\\\")).ravel()\\n\\nytrain = ytrain_original.copy()\\nytest = ytest_original.copy()\";\n",
       "                var nbb_cells = Jupyter.notebook.get_cells();\n",
       "                for (var i = 0; i < nbb_cells.length; ++i) {\n",
       "                    if (nbb_cells[i].input_prompt_number == nbb_cell_id) {\n",
       "                        if (nbb_cells[i].get_text() == nbb_unformatted_code) {\n",
       "                             nbb_cells[i].set_text(nbb_formatted_code);\n",
       "                        }\n",
       "                        break;\n",
       "                    }\n",
       "                }\n",
       "            }, 500);\n",
       "            "
      ],
      "text/plain": [
       "<IPython.core.display.Javascript object>"
      ]
     },
     "metadata": {},
     "output_type": "display_data"
    }
   ],
   "source": [
    "randomseed = 10\n",
    "np.random.seed(randomseed)\n",
    "\n",
    "xtest = np.array(pd.read_csv(\"../dataset/xtest.txt\"))\n",
    "xtrain = np.array(pd.read_csv(\"../dataset/xtrain.txt\"))\n",
    "ytest_original = np.array(pd.read_csv(\"../dataset/ytest.txt\")).ravel()\n",
    "ytrain_original = np.array(pd.read_csv(\"../dataset/ytrain.txt\")).ravel()\n",
    "\n",
    "ytrain = ytrain_original.copy()\n",
    "ytest = ytest_original.copy()"
   ]
  },
  {
   "cell_type": "code",
   "execution_count": null,
   "metadata": {},
   "outputs": [],
   "source": []
  },
  {
   "cell_type": "code",
   "execution_count": 8,
   "metadata": {
    "scrolled": true
   },
   "outputs": [
    {
     "name": "stdout",
     "output_type": "stream",
     "text": [
      "0.735\n"
     ]
    },
    {
     "data": {
      "application/javascript": [
       "\n",
       "            setTimeout(function() {\n",
       "                var nbb_cell_id = 8;\n",
       "                var nbb_unformatted_code = \"xgbmodel = xgb.XGBClassifier(random_state=randomseed)\\nxgbmodel.fit(xtrain, ytrain_original)\\nprint(m.accuracy_score(ytest_original, xgbmodel.predict(xtest)))\";\n",
       "                var nbb_formatted_code = \"xgbmodel = xgb.XGBClassifier(random_state=randomseed)\\nxgbmodel.fit(xtrain, ytrain_original)\\nprint(m.accuracy_score(ytest_original, xgbmodel.predict(xtest)))\";\n",
       "                var nbb_cells = Jupyter.notebook.get_cells();\n",
       "                for (var i = 0; i < nbb_cells.length; ++i) {\n",
       "                    if (nbb_cells[i].input_prompt_number == nbb_cell_id) {\n",
       "                        if (nbb_cells[i].get_text() == nbb_unformatted_code) {\n",
       "                             nbb_cells[i].set_text(nbb_formatted_code);\n",
       "                        }\n",
       "                        break;\n",
       "                    }\n",
       "                }\n",
       "            }, 500);\n",
       "            "
      ],
      "text/plain": [
       "<IPython.core.display.Javascript object>"
      ]
     },
     "metadata": {},
     "output_type": "display_data"
    }
   ],
   "source": [
    "xgbmodel = xgb.XGBClassifier(random_state=randomseed)\n",
    "xgbmodel.fit(xtrain, ytrain_original)\n",
    "print(m.accuracy_score(ytest_original, xgbmodel.predict(xtest)))"
   ]
  },
  {
   "cell_type": "code",
   "execution_count": 9,
   "metadata": {},
   "outputs": [
    {
     "data": {
      "application/javascript": [
       "\n",
       "            setTimeout(function() {\n",
       "                var nbb_cell_id = 9;\n",
       "                var nbb_unformatted_code = \"# cvscore = cross_val_score(xgbmodel, x, y, cv=10)\\n# print(\\\"mean= \\\", np.mean(cvscore), \\\", std= \\\", np.std(cvscore))\";\n",
       "                var nbb_formatted_code = \"# cvscore = cross_val_score(xgbmodel, x, y, cv=10)\\n# print(\\\"mean= \\\", np.mean(cvscore), \\\", std= \\\", np.std(cvscore))\";\n",
       "                var nbb_cells = Jupyter.notebook.get_cells();\n",
       "                for (var i = 0; i < nbb_cells.length; ++i) {\n",
       "                    if (nbb_cells[i].input_prompt_number == nbb_cell_id) {\n",
       "                        if (nbb_cells[i].get_text() == nbb_unformatted_code) {\n",
       "                             nbb_cells[i].set_text(nbb_formatted_code);\n",
       "                        }\n",
       "                        break;\n",
       "                    }\n",
       "                }\n",
       "            }, 500);\n",
       "            "
      ],
      "text/plain": [
       "<IPython.core.display.Javascript object>"
      ]
     },
     "metadata": {},
     "output_type": "display_data"
    }
   ],
   "source": [
    "# cvscore = cross_val_score(xgbmodel, x, y, cv=10)\n",
    "# print(\"mean= \", np.mean(cvscore), \", std= \", np.std(cvscore))"
   ]
  },
  {
   "cell_type": "code",
   "execution_count": 10,
   "metadata": {},
   "outputs": [
    {
     "data": {
      "application/javascript": [
       "\n",
       "            setTimeout(function() {\n",
       "                var nbb_cell_id = 10;\n",
       "                var nbb_unformatted_code = \"_mainacc = []\";\n",
       "                var nbb_formatted_code = \"_mainacc = []\";\n",
       "                var nbb_cells = Jupyter.notebook.get_cells();\n",
       "                for (var i = 0; i < nbb_cells.length; ++i) {\n",
       "                    if (nbb_cells[i].input_prompt_number == nbb_cell_id) {\n",
       "                        if (nbb_cells[i].get_text() == nbb_unformatted_code) {\n",
       "                             nbb_cells[i].set_text(nbb_formatted_code);\n",
       "                        }\n",
       "                        break;\n",
       "                    }\n",
       "                }\n",
       "            }, 500);\n",
       "            "
      ],
      "text/plain": [
       "<IPython.core.display.Javascript object>"
      ]
     },
     "metadata": {},
     "output_type": "display_data"
    }
   ],
   "source": [
    "_mainacc = []"
   ]
  },
  {
   "cell_type": "code",
   "execution_count": null,
   "metadata": {},
   "outputs": [],
   "source": []
  },
  {
   "cell_type": "markdown",
   "metadata": {},
   "source": [
    "Confusion matrix based models\n",
    "===="
   ]
  },
  {
   "cell_type": "markdown",
   "metadata": {},
   "source": [
    "# 1. baseline classifiers\n",
    "========="
   ]
  },
  {
   "cell_type": "markdown",
   "metadata": {},
   "source": [
    "# 1.1 Class 0\n",
    "===="
   ]
  },
  {
   "cell_type": "code",
   "execution_count": 11,
   "metadata": {},
   "outputs": [
    {
     "name": "stdout",
     "output_type": "stream",
     "text": [
      "0.81\n"
     ]
    },
    {
     "data": {
      "application/javascript": [
       "\n",
       "            setTimeout(function() {\n",
       "                var nbb_cell_id = 11;\n",
       "                var nbb_unformatted_code = \"clf_c0 = []\\nacc_c0 = []\\npredictedprobablities_c0 = []\\npredictedconfusionmatrix_proba_c0 = []\\n\\n# ===========================\\nytrain = ytrain_original.copy()\\nytest = ytest_original.copy()\\nytrain, ytest = swapcolumns(ytrain, ytest, 0)\\n# =================================================\\n\\nrf_c0 = RandomForestClassifier(random_state=randomseed, n_estimators=50)\\nrf_c0.fit(xtrain, ytrain)\\nrfpred_c0 = rf_c0.predict(xtest)\\nprint(m.accuracy_score(ytest, rfpred_c0))\\n\\nclf_c0.append(rf_c0)\\nacc_c0.append(m.accuracy_score(ytest, rfpred_c0))\\npredictedprobablities_c0.append(rf_c0.predict_proba(xtest))\\n\\nconfmat = m.confusion_matrix(ytest, rfpred_c0)\\nconfsumh = np.sum(confmat, axis=0)\\npropconfmat = confmat.copy()\\nfor i in range(propconfmat.shape[0]):\\n    propconfmat[:, i] = 100 * propconfmat[:, i] / confsumh[i]\\npredictedconfusionmatrix_proba_c0.append(propconfmat / 100)\";\n",
       "                var nbb_formatted_code = \"clf_c0 = []\\nacc_c0 = []\\npredictedprobablities_c0 = []\\npredictedconfusionmatrix_proba_c0 = []\\n\\n# ===========================\\nytrain = ytrain_original.copy()\\nytest = ytest_original.copy()\\nytrain, ytest = swapcolumns(ytrain, ytest, 0)\\n# =================================================\\n\\nrf_c0 = RandomForestClassifier(random_state=randomseed, n_estimators=50)\\nrf_c0.fit(xtrain, ytrain)\\nrfpred_c0 = rf_c0.predict(xtest)\\nprint(m.accuracy_score(ytest, rfpred_c0))\\n\\nclf_c0.append(rf_c0)\\nacc_c0.append(m.accuracy_score(ytest, rfpred_c0))\\npredictedprobablities_c0.append(rf_c0.predict_proba(xtest))\\n\\nconfmat = m.confusion_matrix(ytest, rfpred_c0)\\nconfsumh = np.sum(confmat, axis=0)\\npropconfmat = confmat.copy()\\nfor i in range(propconfmat.shape[0]):\\n    propconfmat[:, i] = 100 * propconfmat[:, i] / confsumh[i]\\npredictedconfusionmatrix_proba_c0.append(propconfmat / 100)\";\n",
       "                var nbb_cells = Jupyter.notebook.get_cells();\n",
       "                for (var i = 0; i < nbb_cells.length; ++i) {\n",
       "                    if (nbb_cells[i].input_prompt_number == nbb_cell_id) {\n",
       "                        if (nbb_cells[i].get_text() == nbb_unformatted_code) {\n",
       "                             nbb_cells[i].set_text(nbb_formatted_code);\n",
       "                        }\n",
       "                        break;\n",
       "                    }\n",
       "                }\n",
       "            }, 500);\n",
       "            "
      ],
      "text/plain": [
       "<IPython.core.display.Javascript object>"
      ]
     },
     "metadata": {},
     "output_type": "display_data"
    }
   ],
   "source": [
    "clf_c0 = []\n",
    "acc_c0 = []\n",
    "predictedprobablities_c0 = []\n",
    "predictedconfusionmatrix_proba_c0 = []\n",
    "\n",
    "# ===========================\n",
    "ytrain = ytrain_original.copy()\n",
    "ytest = ytest_original.copy()\n",
    "ytrain, ytest = swapcolumns(ytrain, ytest, 0)\n",
    "# =================================================\n",
    "\n",
    "rf_c0 = RandomForestClassifier(random_state=randomseed, n_estimators=50)\n",
    "rf_c0.fit(xtrain, ytrain)\n",
    "rfpred_c0 = rf_c0.predict(xtest)\n",
    "print(m.accuracy_score(ytest, rfpred_c0))\n",
    "\n",
    "clf_c0.append(rf_c0)\n",
    "acc_c0.append(m.accuracy_score(ytest, rfpred_c0))\n",
    "predictedprobablities_c0.append(rf_c0.predict_proba(xtest))\n",
    "\n",
    "confmat = m.confusion_matrix(ytest, rfpred_c0)\n",
    "confsumh = np.sum(confmat, axis=0)\n",
    "propconfmat = confmat.copy()\n",
    "for i in range(propconfmat.shape[0]):\n",
    "    propconfmat[:, i] = 100 * propconfmat[:, i] / confsumh[i]\n",
    "predictedconfusionmatrix_proba_c0.append(propconfmat / 100)"
   ]
  },
  {
   "cell_type": "code",
   "execution_count": 12,
   "metadata": {},
   "outputs": [
    {
     "name": "stdout",
     "output_type": "stream",
     "text": [
      "0.8183333333333334\n"
     ]
    },
    {
     "data": {
      "application/javascript": [
       "\n",
       "            setTimeout(function() {\n",
       "                var nbb_cell_id = 12;\n",
       "                var nbb_unformatted_code = \"ytrain = ytrain_original.copy()\\nytest = ytest_original.copy()\\nytrain, ytest = swapcolumns(ytrain, ytest, 0)\\n# =================================================\\nxgbmodel_c0 = xgb.XGBClassifier(random_state=randomseed, n_estimators=50)\\nxgbmodel_c0.fit(xtrain, ytrain)\\nxgbmodelpred_c0 = xgbmodel_c0.predict(xtest)\\nprint(m.accuracy_score(ytest, xgbmodelpred_c0))\\n\\nclf_c0.append(xgbmodel_c0)\\nacc_c0.append(m.accuracy_score(ytest, xgbmodelpred_c0))\\npredictedprobablities_c0.append(xgbmodel_c0.predict_proba(xtest))\\n\\nconfmat = m.confusion_matrix(ytest, xgbmodelpred_c0)\\nconfsumh = np.sum(confmat, axis=0)\\npropconfmat = confmat.copy()\\nfor i in range(propconfmat.shape[0]):\\n    propconfmat[:, i] = 100 * propconfmat[:, i] / confsumh[i]\\npredictedconfusionmatrix_proba_c0.append(propconfmat / 100)\";\n",
       "                var nbb_formatted_code = \"ytrain = ytrain_original.copy()\\nytest = ytest_original.copy()\\nytrain, ytest = swapcolumns(ytrain, ytest, 0)\\n# =================================================\\nxgbmodel_c0 = xgb.XGBClassifier(random_state=randomseed, n_estimators=50)\\nxgbmodel_c0.fit(xtrain, ytrain)\\nxgbmodelpred_c0 = xgbmodel_c0.predict(xtest)\\nprint(m.accuracy_score(ytest, xgbmodelpred_c0))\\n\\nclf_c0.append(xgbmodel_c0)\\nacc_c0.append(m.accuracy_score(ytest, xgbmodelpred_c0))\\npredictedprobablities_c0.append(xgbmodel_c0.predict_proba(xtest))\\n\\nconfmat = m.confusion_matrix(ytest, xgbmodelpred_c0)\\nconfsumh = np.sum(confmat, axis=0)\\npropconfmat = confmat.copy()\\nfor i in range(propconfmat.shape[0]):\\n    propconfmat[:, i] = 100 * propconfmat[:, i] / confsumh[i]\\npredictedconfusionmatrix_proba_c0.append(propconfmat / 100)\";\n",
       "                var nbb_cells = Jupyter.notebook.get_cells();\n",
       "                for (var i = 0; i < nbb_cells.length; ++i) {\n",
       "                    if (nbb_cells[i].input_prompt_number == nbb_cell_id) {\n",
       "                        if (nbb_cells[i].get_text() == nbb_unformatted_code) {\n",
       "                             nbb_cells[i].set_text(nbb_formatted_code);\n",
       "                        }\n",
       "                        break;\n",
       "                    }\n",
       "                }\n",
       "            }, 500);\n",
       "            "
      ],
      "text/plain": [
       "<IPython.core.display.Javascript object>"
      ]
     },
     "metadata": {},
     "output_type": "display_data"
    }
   ],
   "source": [
    "ytrain = ytrain_original.copy()\n",
    "ytest = ytest_original.copy()\n",
    "ytrain, ytest = swapcolumns(ytrain, ytest, 0)\n",
    "# =================================================\n",
    "xgbmodel_c0 = xgb.XGBClassifier(random_state=randomseed, n_estimators=50)\n",
    "xgbmodel_c0.fit(xtrain, ytrain)\n",
    "xgbmodelpred_c0 = xgbmodel_c0.predict(xtest)\n",
    "print(m.accuracy_score(ytest, xgbmodelpred_c0))\n",
    "\n",
    "clf_c0.append(xgbmodel_c0)\n",
    "acc_c0.append(m.accuracy_score(ytest, xgbmodelpred_c0))\n",
    "predictedprobablities_c0.append(xgbmodel_c0.predict_proba(xtest))\n",
    "\n",
    "confmat = m.confusion_matrix(ytest, xgbmodelpred_c0)\n",
    "confsumh = np.sum(confmat, axis=0)\n",
    "propconfmat = confmat.copy()\n",
    "for i in range(propconfmat.shape[0]):\n",
    "    propconfmat[:, i] = 100 * propconfmat[:, i] / confsumh[i]\n",
    "predictedconfusionmatrix_proba_c0.append(propconfmat / 100)\n"
   ]
  },
  {
   "cell_type": "code",
   "execution_count": 13,
   "metadata": {},
   "outputs": [
    {
     "name": "stdout",
     "output_type": "stream",
     "text": [
      "0.7283333333333334\n"
     ]
    },
    {
     "data": {
      "application/javascript": [
       "\n",
       "            setTimeout(function() {\n",
       "                var nbb_cell_id = 13;\n",
       "                var nbb_unformatted_code = \"ytrain = ytrain_original.copy()\\nytest = ytest_original.copy()\\nytrain, ytest = swapcolumns(ytrain, ytest, 0)\\n# =================================================\\nsvmmodel = svmgpu(random_state=randomseed, probability=True, C=0.001, gamma=0.01)\\nsvmmodel.fit(xtrain, ytrain)\\nsvmmodelpred = svmmodel.predict(xtest)\\nprint(m.accuracy_score(ytest, svmmodelpred))\\n\\nclf_c0.append(svmmodel)\\nacc_c0.append(m.accuracy_score(ytest, svmmodelpred))\\npredictedprobablities_c0.append(svmmodel.predict_proba(xtest))\\n\\nconfmat = m.confusion_matrix(ytest, svmmodelpred)\\nconfsumh = np.sum(confmat, axis=0)\\npropconfmat = confmat.copy()\\nfor i in range(propconfmat.shape[0]):\\n    propconfmat[:, i] = 100 * propconfmat[:, i] / confsumh[i]\\npredictedconfusionmatrix_proba_c0.append(propconfmat / 100)\";\n",
       "                var nbb_formatted_code = \"ytrain = ytrain_original.copy()\\nytest = ytest_original.copy()\\nytrain, ytest = swapcolumns(ytrain, ytest, 0)\\n# =================================================\\nsvmmodel = svmgpu(random_state=randomseed, probability=True, C=0.001, gamma=0.01)\\nsvmmodel.fit(xtrain, ytrain)\\nsvmmodelpred = svmmodel.predict(xtest)\\nprint(m.accuracy_score(ytest, svmmodelpred))\\n\\nclf_c0.append(svmmodel)\\nacc_c0.append(m.accuracy_score(ytest, svmmodelpred))\\npredictedprobablities_c0.append(svmmodel.predict_proba(xtest))\\n\\nconfmat = m.confusion_matrix(ytest, svmmodelpred)\\nconfsumh = np.sum(confmat, axis=0)\\npropconfmat = confmat.copy()\\nfor i in range(propconfmat.shape[0]):\\n    propconfmat[:, i] = 100 * propconfmat[:, i] / confsumh[i]\\npredictedconfusionmatrix_proba_c0.append(propconfmat / 100)\";\n",
       "                var nbb_cells = Jupyter.notebook.get_cells();\n",
       "                for (var i = 0; i < nbb_cells.length; ++i) {\n",
       "                    if (nbb_cells[i].input_prompt_number == nbb_cell_id) {\n",
       "                        if (nbb_cells[i].get_text() == nbb_unformatted_code) {\n",
       "                             nbb_cells[i].set_text(nbb_formatted_code);\n",
       "                        }\n",
       "                        break;\n",
       "                    }\n",
       "                }\n",
       "            }, 500);\n",
       "            "
      ],
      "text/plain": [
       "<IPython.core.display.Javascript object>"
      ]
     },
     "metadata": {},
     "output_type": "display_data"
    }
   ],
   "source": [
    "ytrain = ytrain_original.copy()\n",
    "ytest = ytest_original.copy()\n",
    "ytrain, ytest = swapcolumns(ytrain, ytest, 0)\n",
    "# =================================================\n",
    "svmmodel = svmgpu(random_state=randomseed, probability=True, C=0.001, gamma=0.01)\n",
    "svmmodel.fit(xtrain, ytrain)\n",
    "svmmodelpred = svmmodel.predict(xtest)\n",
    "print(m.accuracy_score(ytest, svmmodelpred))\n",
    "\n",
    "clf_c0.append(svmmodel)\n",
    "acc_c0.append(m.accuracy_score(ytest, svmmodelpred))\n",
    "predictedprobablities_c0.append(svmmodel.predict_proba(xtest))\n",
    "\n",
    "confmat = m.confusion_matrix(ytest, svmmodelpred)\n",
    "confsumh = np.sum(confmat, axis=0)\n",
    "propconfmat = confmat.copy()\n",
    "for i in range(propconfmat.shape[0]):\n",
    "    propconfmat[:, i] = 100 * propconfmat[:, i] / confsumh[i]\n",
    "predictedconfusionmatrix_proba_c0.append(propconfmat / 100)"
   ]
  },
  {
   "cell_type": "code",
   "execution_count": 14,
   "metadata": {},
   "outputs": [
    {
     "name": "stdout",
     "output_type": "stream",
     "text": [
      "[470, 788, 602, 477, 47, 626, 385, 334, 554, 597]\n"
     ]
    },
    {
     "data": {
      "application/javascript": [
       "\n",
       "            setTimeout(function() {\n",
       "                var nbb_cell_id = 14;\n",
       "                var nbb_unformatted_code = \"# generate combinations of features 12,6\\ncomb = list(itertools.combinations(np.arange(0, 12, 1), 6))\\n\\n# generate 50 random numbers\\nrandnums = []\\nfor i in range(10):\\n    randnums.append(random.randrange(0, len(comb)))\\n\\nprint(randnums)\\n\\ncomb = np.array(comb)[randnums, :]\";\n",
       "                var nbb_formatted_code = \"# generate combinations of features 12,6\\ncomb = list(itertools.combinations(np.arange(0, 12, 1), 6))\\n\\n# generate 50 random numbers\\nrandnums = []\\nfor i in range(10):\\n    randnums.append(random.randrange(0, len(comb)))\\n\\nprint(randnums)\\n\\ncomb = np.array(comb)[randnums, :]\";\n",
       "                var nbb_cells = Jupyter.notebook.get_cells();\n",
       "                for (var i = 0; i < nbb_cells.length; ++i) {\n",
       "                    if (nbb_cells[i].input_prompt_number == nbb_cell_id) {\n",
       "                        if (nbb_cells[i].get_text() == nbb_unformatted_code) {\n",
       "                             nbb_cells[i].set_text(nbb_formatted_code);\n",
       "                        }\n",
       "                        break;\n",
       "                    }\n",
       "                }\n",
       "            }, 500);\n",
       "            "
      ],
      "text/plain": [
       "<IPython.core.display.Javascript object>"
      ]
     },
     "metadata": {},
     "output_type": "display_data"
    }
   ],
   "source": [
    "# generate combinations of features 12,6\n",
    "comb = list(itertools.combinations(np.arange(0, 12, 1), 6))\n",
    "\n",
    "# generate 50 random numbers\n",
    "randnums = []\n",
    "for i in range(10):\n",
    "    randnums.append(random.randrange(0, len(comb)))\n",
    "\n",
    "print(randnums)\n",
    "\n",
    "comb = np.array(comb)[randnums, :]"
   ]
  },
  {
   "cell_type": "code",
   "execution_count": 15,
   "metadata": {
    "scrolled": true
   },
   "outputs": [
    {
     "name": "stdout",
     "output_type": "stream",
     "text": [
      "0  ====================  [1 2 3 4 6 9]\n",
      "0.7433333333333333\n",
      "0.8183333333333334\n",
      "1  ====================  [2 4 5 6 8 9]\n",
      "0.6916666666666667\n",
      "0.8183333333333334\n",
      "2  ====================  [ 1  3  4  5 10 11]\n",
      "0.78\n",
      "0.8183333333333334\n",
      "3  ====================  [1 2 3 4 8 9]\n",
      "0.765\n",
      "0.8183333333333334\n",
      "4  ====================  [ 0  1  2  4  9 11]\n",
      "0.78\n",
      "0.8183333333333334\n",
      "5  ====================  [ 1  3  5  6  7 11]\n",
      "0.7833333333333333\n",
      "0.8183333333333334\n",
      "6  ====================  [ 0  3  5  7  9 11]\n",
      "0.78\n",
      "0.8183333333333334\n",
      "7  ====================  [ 0  2  7  9 10 11]\n",
      "0.7716666666666666\n",
      "0.8183333333333334\n",
      "8  ====================  [1 2 5 6 7 9]\n",
      "0.7533333333333333\n",
      "0.8183333333333334\n",
      "9  ====================  [1 3 4 5 8 9]\n",
      "0.775\n",
      "0.8183333333333334\n"
     ]
    },
    {
     "data": {
      "application/javascript": [
       "\n",
       "            setTimeout(function() {\n",
       "                var nbb_cell_id = 15;\n",
       "                var nbb_unformatted_code = \"for i in range(len(comb)):\\n    print(i, \\\" ==================== \\\", comb[i])\\n\\n    rf_c0 = RandomForestClassifier(random_state=randomseed, n_estimators=50)\\n    rf_c0.fit(xtrain[:, comb[i]], ytrain)\\n    rfpred_c0 = rf_c0.predict(xtest[:, comb[i]])\\n    print(m.accuracy_score(ytest, rfpred_c0))\\n\\n    clf_c0.append(rf_c0)\\n    acc_c0.append(m.accuracy_score(ytest, rfpred_c0))\\n    predictedprobablities_c0.append(rf_c0.predict_proba(xtest[:, comb[i]]))\\n\\n    confmat = m.confusion_matrix(ytest, rfpred_c0)\\n    confsumh = np.sum(confmat, axis=0)\\n    propconfmat = confmat.copy()\\n    for i in range(propconfmat.shape[0]):\\n        propconfmat[:, i] = 100 * propconfmat[:, i] / confsumh[i]\\n    predictedconfusionmatrix_proba_c0.append(propconfmat / 100)\\n\\n    xgbmodel_c0 = xgb.XGBClassifier(random_state=randomseed, n_estimators=50)\\n    xgbmodel_c0.fit(xtrain, ytrain)\\n    xgbmodelpred_c0 = xgbmodel_c0.predict(xtest)\\n    print(m.accuracy_score(ytest, xgbmodelpred_c0))\\n\\n    clf_c0.append(xgbmodel_c0)\\n    acc_c0.append(m.accuracy_score(ytest, xgbmodelpred_c0))\\n    predictedprobablities_c0.append(xgbmodel_c0.predict_proba(xtest))\\n\\n    confmat = m.confusion_matrix(ytest, xgbmodelpred_c0)\\n    confsumh = np.sum(confmat, axis=0)\\n    propconfmat = confmat.copy()\\n    for i in range(propconfmat.shape[0]):\\n        propconfmat[:, i] = 100 * propconfmat[:, i] / confsumh[i]\\n    predictedconfusionmatrix_proba_c0.append(propconfmat / 100)\";\n",
       "                var nbb_formatted_code = \"for i in range(len(comb)):\\n    print(i, \\\" ==================== \\\", comb[i])\\n\\n    rf_c0 = RandomForestClassifier(random_state=randomseed, n_estimators=50)\\n    rf_c0.fit(xtrain[:, comb[i]], ytrain)\\n    rfpred_c0 = rf_c0.predict(xtest[:, comb[i]])\\n    print(m.accuracy_score(ytest, rfpred_c0))\\n\\n    clf_c0.append(rf_c0)\\n    acc_c0.append(m.accuracy_score(ytest, rfpred_c0))\\n    predictedprobablities_c0.append(rf_c0.predict_proba(xtest[:, comb[i]]))\\n\\n    confmat = m.confusion_matrix(ytest, rfpred_c0)\\n    confsumh = np.sum(confmat, axis=0)\\n    propconfmat = confmat.copy()\\n    for i in range(propconfmat.shape[0]):\\n        propconfmat[:, i] = 100 * propconfmat[:, i] / confsumh[i]\\n    predictedconfusionmatrix_proba_c0.append(propconfmat / 100)\\n\\n    xgbmodel_c0 = xgb.XGBClassifier(random_state=randomseed, n_estimators=50)\\n    xgbmodel_c0.fit(xtrain, ytrain)\\n    xgbmodelpred_c0 = xgbmodel_c0.predict(xtest)\\n    print(m.accuracy_score(ytest, xgbmodelpred_c0))\\n\\n    clf_c0.append(xgbmodel_c0)\\n    acc_c0.append(m.accuracy_score(ytest, xgbmodelpred_c0))\\n    predictedprobablities_c0.append(xgbmodel_c0.predict_proba(xtest))\\n\\n    confmat = m.confusion_matrix(ytest, xgbmodelpred_c0)\\n    confsumh = np.sum(confmat, axis=0)\\n    propconfmat = confmat.copy()\\n    for i in range(propconfmat.shape[0]):\\n        propconfmat[:, i] = 100 * propconfmat[:, i] / confsumh[i]\\n    predictedconfusionmatrix_proba_c0.append(propconfmat / 100)\";\n",
       "                var nbb_cells = Jupyter.notebook.get_cells();\n",
       "                for (var i = 0; i < nbb_cells.length; ++i) {\n",
       "                    if (nbb_cells[i].input_prompt_number == nbb_cell_id) {\n",
       "                        if (nbb_cells[i].get_text() == nbb_unformatted_code) {\n",
       "                             nbb_cells[i].set_text(nbb_formatted_code);\n",
       "                        }\n",
       "                        break;\n",
       "                    }\n",
       "                }\n",
       "            }, 500);\n",
       "            "
      ],
      "text/plain": [
       "<IPython.core.display.Javascript object>"
      ]
     },
     "metadata": {},
     "output_type": "display_data"
    }
   ],
   "source": [
    "for i in range(len(comb)):\n",
    "    print(i, \" ==================== \", comb[i])\n",
    "\n",
    "    rf_c0 = RandomForestClassifier(random_state=randomseed, n_estimators=50)\n",
    "    rf_c0.fit(xtrain[:, comb[i]], ytrain)\n",
    "    rfpred_c0 = rf_c0.predict(xtest[:, comb[i]])\n",
    "    print(m.accuracy_score(ytest, rfpred_c0))\n",
    "\n",
    "    clf_c0.append(rf_c0)\n",
    "    acc_c0.append(m.accuracy_score(ytest, rfpred_c0))\n",
    "    predictedprobablities_c0.append(rf_c0.predict_proba(xtest[:, comb[i]]))\n",
    "\n",
    "    confmat = m.confusion_matrix(ytest, rfpred_c0)\n",
    "    confsumh = np.sum(confmat, axis=0)\n",
    "    propconfmat = confmat.copy()\n",
    "    for i in range(propconfmat.shape[0]):\n",
    "        propconfmat[:, i] = 100 * propconfmat[:, i] / confsumh[i]\n",
    "    predictedconfusionmatrix_proba_c0.append(propconfmat / 100)\n",
    "\n",
    "    xgbmodel_c0 = xgb.XGBClassifier(random_state=randomseed, n_estimators=50)\n",
    "    xgbmodel_c0.fit(xtrain, ytrain)\n",
    "    xgbmodelpred_c0 = xgbmodel_c0.predict(xtest)\n",
    "    print(m.accuracy_score(ytest, xgbmodelpred_c0))\n",
    "\n",
    "    clf_c0.append(xgbmodel_c0)\n",
    "    acc_c0.append(m.accuracy_score(ytest, xgbmodelpred_c0))\n",
    "    predictedprobablities_c0.append(xgbmodel_c0.predict_proba(xtest))\n",
    "\n",
    "    confmat = m.confusion_matrix(ytest, xgbmodelpred_c0)\n",
    "    confsumh = np.sum(confmat, axis=0)\n",
    "    propconfmat = confmat.copy()\n",
    "    for i in range(propconfmat.shape[0]):\n",
    "        propconfmat[:, i] = 100 * propconfmat[:, i] / confsumh[i]\n",
    "    predictedconfusionmatrix_proba_c0.append(propconfmat / 100)"
   ]
  },
  {
   "cell_type": "code",
   "execution_count": 16,
   "metadata": {
    "scrolled": true
   },
   "outputs": [
    {
     "name": "stdout",
     "output_type": "stream",
     "text": [
      "0\n",
      "1\n",
      "2\n",
      "3\n",
      "4\n",
      "5\n",
      "6\n",
      "7\n",
      "8\n",
      "9\n",
      "10\n",
      "11\n",
      "12\n",
      "13\n",
      "14\n",
      "15\n",
      "16\n",
      "17\n",
      "18\n",
      "19\n",
      "20\n",
      "21\n",
      "22\n"
     ]
    },
    {
     "data": {
      "application/javascript": [
       "\n",
       "            setTimeout(function() {\n",
       "                var nbb_cell_id = 16;\n",
       "                var nbb_unformatted_code = \"p_k1_c0 = 0\\np_k1_c1 = 0\\nfor i in range(len(predictedprobablities_c0)):\\n    p_k1_c0 += (\\n        predictedprobablities_c0[i][:, 0] * predictedconfusionmatrix_proba_c0[i][0][0]\\n        + predictedprobablities_c0[i][:, 1] * predictedconfusionmatrix_proba_c0[i][0][1]\\n    )\\n\\n    p_k1_c1 += (\\n        predictedprobablities_c0[0][:, 0] * predictedconfusionmatrix_proba_c0[0][1][0]\\n        + predictedprobablities_c0[0][:, 1] * predictedconfusionmatrix_proba_c0[0][1][1]\\n    )\\n\\n    print(i)\\np_k1_c0 = p_k1_c0 / len(predictedprobablities_c0)\\np_k1_c1 = p_k1_c1 / len(predictedprobablities_c0)\";\n",
       "                var nbb_formatted_code = \"p_k1_c0 = 0\\np_k1_c1 = 0\\nfor i in range(len(predictedprobablities_c0)):\\n    p_k1_c0 += (\\n        predictedprobablities_c0[i][:, 0] * predictedconfusionmatrix_proba_c0[i][0][0]\\n        + predictedprobablities_c0[i][:, 1] * predictedconfusionmatrix_proba_c0[i][0][1]\\n    )\\n\\n    p_k1_c1 += (\\n        predictedprobablities_c0[0][:, 0] * predictedconfusionmatrix_proba_c0[0][1][0]\\n        + predictedprobablities_c0[0][:, 1] * predictedconfusionmatrix_proba_c0[0][1][1]\\n    )\\n\\n    print(i)\\np_k1_c0 = p_k1_c0 / len(predictedprobablities_c0)\\np_k1_c1 = p_k1_c1 / len(predictedprobablities_c0)\";\n",
       "                var nbb_cells = Jupyter.notebook.get_cells();\n",
       "                for (var i = 0; i < nbb_cells.length; ++i) {\n",
       "                    if (nbb_cells[i].input_prompt_number == nbb_cell_id) {\n",
       "                        if (nbb_cells[i].get_text() == nbb_unformatted_code) {\n",
       "                             nbb_cells[i].set_text(nbb_formatted_code);\n",
       "                        }\n",
       "                        break;\n",
       "                    }\n",
       "                }\n",
       "            }, 500);\n",
       "            "
      ],
      "text/plain": [
       "<IPython.core.display.Javascript object>"
      ]
     },
     "metadata": {},
     "output_type": "display_data"
    }
   ],
   "source": [
    "p_k1_c0 = 0\n",
    "p_k1_c1 = 0\n",
    "for i in range(len(predictedprobablities_c0)):\n",
    "    p_k1_c0 += (\n",
    "        predictedprobablities_c0[i][:, 0] * predictedconfusionmatrix_proba_c0[i][0][0]\n",
    "        + predictedprobablities_c0[i][:, 1] * predictedconfusionmatrix_proba_c0[i][0][1]\n",
    "    )\n",
    "\n",
    "    p_k1_c1 += (\n",
    "        predictedprobablities_c0[0][:, 0] * predictedconfusionmatrix_proba_c0[0][1][0]\n",
    "        + predictedprobablities_c0[0][:, 1] * predictedconfusionmatrix_proba_c0[0][1][1]\n",
    "    )\n",
    "\n",
    "    print(i)\n",
    "p_k1_c0 = p_k1_c0 / len(predictedprobablities_c0)\n",
    "p_k1_c1 = p_k1_c1 / len(predictedprobablities_c0)"
   ]
  },
  {
   "cell_type": "code",
   "execution_count": 17,
   "metadata": {},
   "outputs": [
    {
     "name": "stdout",
     "output_type": "stream",
     "text": [
      "0.8\n",
      "[[105  95]\n",
      " [ 25 375]]\n"
     ]
    },
    {
     "data": {
      "application/javascript": [
       "\n",
       "            setTimeout(function() {\n",
       "                var nbb_cell_id = 17;\n",
       "                var nbb_unformatted_code = \"finalcol = np.zeros((ytest.shape[0], 2))\\nfinalcol[:, 0] = p_k1_c0\\nfinalcol[:, 1] = p_k1_c1\\nfinalpred = np.argmax(finalcol, axis=1)\\nytrain, ytest = swapcolumns(ytrain, ytest, 0)\\n\\nprint(m.accuracy_score(ytest, finalpred))\\nprint(m.confusion_matrix(ytest, finalpred))\\n_mainacc.append(m.accuracy_score(ytest, finalpred))\";\n",
       "                var nbb_formatted_code = \"finalcol = np.zeros((ytest.shape[0], 2))\\nfinalcol[:, 0] = p_k1_c0\\nfinalcol[:, 1] = p_k1_c1\\nfinalpred = np.argmax(finalcol, axis=1)\\nytrain, ytest = swapcolumns(ytrain, ytest, 0)\\n\\nprint(m.accuracy_score(ytest, finalpred))\\nprint(m.confusion_matrix(ytest, finalpred))\\n_mainacc.append(m.accuracy_score(ytest, finalpred))\";\n",
       "                var nbb_cells = Jupyter.notebook.get_cells();\n",
       "                for (var i = 0; i < nbb_cells.length; ++i) {\n",
       "                    if (nbb_cells[i].input_prompt_number == nbb_cell_id) {\n",
       "                        if (nbb_cells[i].get_text() == nbb_unformatted_code) {\n",
       "                             nbb_cells[i].set_text(nbb_formatted_code);\n",
       "                        }\n",
       "                        break;\n",
       "                    }\n",
       "                }\n",
       "            }, 500);\n",
       "            "
      ],
      "text/plain": [
       "<IPython.core.display.Javascript object>"
      ]
     },
     "metadata": {},
     "output_type": "display_data"
    }
   ],
   "source": [
    "finalcol = np.zeros((ytest.shape[0], 2))\n",
    "finalcol[:, 0] = p_k1_c0\n",
    "finalcol[:, 1] = p_k1_c1\n",
    "finalpred = np.argmax(finalcol, axis=1)\n",
    "ytrain, ytest = swapcolumns(ytrain, ytest, 0)\n",
    "\n",
    "print(m.accuracy_score(ytest, finalpred))\n",
    "print(m.confusion_matrix(ytest, finalpred))\n",
    "_mainacc.append(m.accuracy_score(ytest, finalpred))"
   ]
  },
  {
   "cell_type": "markdown",
   "metadata": {},
   "source": [
    "# 1.2 Class 1\n",
    "===="
   ]
  },
  {
   "cell_type": "code",
   "execution_count": 18,
   "metadata": {},
   "outputs": [
    {
     "name": "stdout",
     "output_type": "stream",
     "text": [
      "0.7083333333333334\n"
     ]
    },
    {
     "data": {
      "application/javascript": [
       "\n",
       "            setTimeout(function() {\n",
       "                var nbb_cell_id = 18;\n",
       "                var nbb_unformatted_code = \"clf_c1 = []\\nacc_c1 = []\\npredictedprobablities_c1 = []\\npredictedconfusionmatrix_proba_c1 = []\\n\\n# =================================================\\n# classs 1\\n# =================================================\\nytrain = ytrain_original.copy()\\nytest = ytest_original.copy()\\nytrain, ytest = swapcolumns(ytrain, ytest, 1)\\n# =================================================\\n\\nrf = RandomForestClassifier(random_state=randomseed, n_estimators=50)\\nrf.fit(xtrain, ytrain)\\nrfpred = rf.predict(xtest)\\nprint(m.accuracy_score(ytest, rfpred))\\n\\nclf_c1.append(rf)\\nacc_c1.append(m.accuracy_score(ytest, rfpred))\\npredictedprobablities_c1.append(rf.predict_proba(xtest))\\n\\nconfmat = m.confusion_matrix(ytest, rfpred)\\nconfsumh = np.sum(confmat, axis=0)\\npropconfmat = confmat.copy()\\nfor i in range(propconfmat.shape[0]):\\n    propconfmat[:, i] = 100 * propconfmat[:, i] / confsumh[i]\\npredictedconfusionmatrix_proba_c1.append(propconfmat / 100)\";\n",
       "                var nbb_formatted_code = \"clf_c1 = []\\nacc_c1 = []\\npredictedprobablities_c1 = []\\npredictedconfusionmatrix_proba_c1 = []\\n\\n# =================================================\\n# classs 1\\n# =================================================\\nytrain = ytrain_original.copy()\\nytest = ytest_original.copy()\\nytrain, ytest = swapcolumns(ytrain, ytest, 1)\\n# =================================================\\n\\nrf = RandomForestClassifier(random_state=randomseed, n_estimators=50)\\nrf.fit(xtrain, ytrain)\\nrfpred = rf.predict(xtest)\\nprint(m.accuracy_score(ytest, rfpred))\\n\\nclf_c1.append(rf)\\nacc_c1.append(m.accuracy_score(ytest, rfpred))\\npredictedprobablities_c1.append(rf.predict_proba(xtest))\\n\\nconfmat = m.confusion_matrix(ytest, rfpred)\\nconfsumh = np.sum(confmat, axis=0)\\npropconfmat = confmat.copy()\\nfor i in range(propconfmat.shape[0]):\\n    propconfmat[:, i] = 100 * propconfmat[:, i] / confsumh[i]\\npredictedconfusionmatrix_proba_c1.append(propconfmat / 100)\";\n",
       "                var nbb_cells = Jupyter.notebook.get_cells();\n",
       "                for (var i = 0; i < nbb_cells.length; ++i) {\n",
       "                    if (nbb_cells[i].input_prompt_number == nbb_cell_id) {\n",
       "                        if (nbb_cells[i].get_text() == nbb_unformatted_code) {\n",
       "                             nbb_cells[i].set_text(nbb_formatted_code);\n",
       "                        }\n",
       "                        break;\n",
       "                    }\n",
       "                }\n",
       "            }, 500);\n",
       "            "
      ],
      "text/plain": [
       "<IPython.core.display.Javascript object>"
      ]
     },
     "metadata": {},
     "output_type": "display_data"
    }
   ],
   "source": [
    "clf_c1 = []\n",
    "acc_c1 = []\n",
    "predictedprobablities_c1 = []\n",
    "predictedconfusionmatrix_proba_c1 = []\n",
    "\n",
    "# =================================================\n",
    "# classs 1\n",
    "# =================================================\n",
    "ytrain = ytrain_original.copy()\n",
    "ytest = ytest_original.copy()\n",
    "ytrain, ytest = swapcolumns(ytrain, ytest, 1)\n",
    "# =================================================\n",
    "\n",
    "rf = RandomForestClassifier(random_state=randomseed, n_estimators=50)\n",
    "rf.fit(xtrain, ytrain)\n",
    "rfpred = rf.predict(xtest)\n",
    "print(m.accuracy_score(ytest, rfpred))\n",
    "\n",
    "clf_c1.append(rf)\n",
    "acc_c1.append(m.accuracy_score(ytest, rfpred))\n",
    "predictedprobablities_c1.append(rf.predict_proba(xtest))\n",
    "\n",
    "confmat = m.confusion_matrix(ytest, rfpred)\n",
    "confsumh = np.sum(confmat, axis=0)\n",
    "propconfmat = confmat.copy()\n",
    "for i in range(propconfmat.shape[0]):\n",
    "    propconfmat[:, i] = 100 * propconfmat[:, i] / confsumh[i]\n",
    "predictedconfusionmatrix_proba_c1.append(propconfmat / 100)\n"
   ]
  },
  {
   "cell_type": "code",
   "execution_count": 19,
   "metadata": {},
   "outputs": [
    {
     "name": "stdout",
     "output_type": "stream",
     "text": [
      "0.7416666666666667\n"
     ]
    },
    {
     "data": {
      "application/javascript": [
       "\n",
       "            setTimeout(function() {\n",
       "                var nbb_cell_id = 19;\n",
       "                var nbb_unformatted_code = \"ytrain = ytrain_original.copy()\\nytest = ytest_original.copy()\\nytrain, ytest = swapcolumns(ytrain, ytest, 1)\\n# =================================================\\nxgbmodel = xgb.XGBClassifier(random_state=randomseed, n_estimators=50)\\nxgbmodel.fit(xtrain, ytrain)\\nxgbmodelpred = xgbmodel.predict(xtest)\\nprint(m.accuracy_score(ytest, xgbmodelpred))\\n\\nclf_c1.append(xgbmodel)\\nacc_c1.append(m.accuracy_score(ytest, xgbmodelpred))\\npredictedprobablities_c1.append(xgbmodel.predict_proba(xtest))\\n\\nconfmat = m.confusion_matrix(ytest, xgbmodelpred)\\nconfsumh = np.sum(confmat, axis=0)\\npropconfmat = confmat.copy()\\nfor i in range(propconfmat.shape[0]):\\n    propconfmat[:, i] = 100 * propconfmat[:, i] / confsumh[i]\\npredictedconfusionmatrix_proba_c1.append(propconfmat / 100)\";\n",
       "                var nbb_formatted_code = \"ytrain = ytrain_original.copy()\\nytest = ytest_original.copy()\\nytrain, ytest = swapcolumns(ytrain, ytest, 1)\\n# =================================================\\nxgbmodel = xgb.XGBClassifier(random_state=randomseed, n_estimators=50)\\nxgbmodel.fit(xtrain, ytrain)\\nxgbmodelpred = xgbmodel.predict(xtest)\\nprint(m.accuracy_score(ytest, xgbmodelpred))\\n\\nclf_c1.append(xgbmodel)\\nacc_c1.append(m.accuracy_score(ytest, xgbmodelpred))\\npredictedprobablities_c1.append(xgbmodel.predict_proba(xtest))\\n\\nconfmat = m.confusion_matrix(ytest, xgbmodelpred)\\nconfsumh = np.sum(confmat, axis=0)\\npropconfmat = confmat.copy()\\nfor i in range(propconfmat.shape[0]):\\n    propconfmat[:, i] = 100 * propconfmat[:, i] / confsumh[i]\\npredictedconfusionmatrix_proba_c1.append(propconfmat / 100)\";\n",
       "                var nbb_cells = Jupyter.notebook.get_cells();\n",
       "                for (var i = 0; i < nbb_cells.length; ++i) {\n",
       "                    if (nbb_cells[i].input_prompt_number == nbb_cell_id) {\n",
       "                        if (nbb_cells[i].get_text() == nbb_unformatted_code) {\n",
       "                             nbb_cells[i].set_text(nbb_formatted_code);\n",
       "                        }\n",
       "                        break;\n",
       "                    }\n",
       "                }\n",
       "            }, 500);\n",
       "            "
      ],
      "text/plain": [
       "<IPython.core.display.Javascript object>"
      ]
     },
     "metadata": {},
     "output_type": "display_data"
    }
   ],
   "source": [
    "ytrain = ytrain_original.copy()\n",
    "ytest = ytest_original.copy()\n",
    "ytrain, ytest = swapcolumns(ytrain, ytest, 1)\n",
    "# =================================================\n",
    "xgbmodel = xgb.XGBClassifier(random_state=randomseed, n_estimators=50)\n",
    "xgbmodel.fit(xtrain, ytrain)\n",
    "xgbmodelpred = xgbmodel.predict(xtest)\n",
    "print(m.accuracy_score(ytest, xgbmodelpred))\n",
    "\n",
    "clf_c1.append(xgbmodel)\n",
    "acc_c1.append(m.accuracy_score(ytest, xgbmodelpred))\n",
    "predictedprobablities_c1.append(xgbmodel.predict_proba(xtest))\n",
    "\n",
    "confmat = m.confusion_matrix(ytest, xgbmodelpred)\n",
    "confsumh = np.sum(confmat, axis=0)\n",
    "propconfmat = confmat.copy()\n",
    "for i in range(propconfmat.shape[0]):\n",
    "    propconfmat[:, i] = 100 * propconfmat[:, i] / confsumh[i]\n",
    "predictedconfusionmatrix_proba_c1.append(propconfmat / 100)\n"
   ]
  },
  {
   "cell_type": "code",
   "execution_count": null,
   "metadata": {},
   "outputs": [],
   "source": []
  },
  {
   "cell_type": "code",
   "execution_count": 20,
   "metadata": {},
   "outputs": [
    {
     "data": {
      "application/javascript": [
       "\n",
       "            setTimeout(function() {\n",
       "                var nbb_cell_id = 20;\n",
       "                var nbb_unformatted_code = \"# ytrain = ytrain_original.copy()\\n# ytest = ytest_original.copy()\\n# ytrain, ytest = swapcolumns(ytrain, ytest, 1)\\n# # =================================================\\n# svmmodel = svmgpu(random_state=randomseed, probability=True, C=10, gamma=0.1)\\n# svmmodel.fit(xtrain, ytrain)\\n# svmmodelpred = svmmodel.predict(xtest)\\n# print(m.accuracy_score(ytest, svmmodelpred))\\n\\n# clf_c1.append(svmmodel)\\n# acc_c1.append(m.accuracy_score(ytest, svmmodelpred))\\n# predictedprobablities_c1.append(1 - svmmodel.predict_proba(xtest))\\n\\n# confmat = m.confusion_matrix(ytest, svmmodelpred)\\n# confsumh = np.sum(confmat, axis=0)\\n# propconfmat = confmat.copy()\\n# for i in range(propconfmat.shape[0]):\\n#     propconfmat[:, i] = 100 * propconfmat[:, i] / confsumh[i]\\n# predictedconfusionmatrix_proba_c1.append(propconfmat / 100)\";\n",
       "                var nbb_formatted_code = \"# ytrain = ytrain_original.copy()\\n# ytest = ytest_original.copy()\\n# ytrain, ytest = swapcolumns(ytrain, ytest, 1)\\n# # =================================================\\n# svmmodel = svmgpu(random_state=randomseed, probability=True, C=10, gamma=0.1)\\n# svmmodel.fit(xtrain, ytrain)\\n# svmmodelpred = svmmodel.predict(xtest)\\n# print(m.accuracy_score(ytest, svmmodelpred))\\n\\n# clf_c1.append(svmmodel)\\n# acc_c1.append(m.accuracy_score(ytest, svmmodelpred))\\n# predictedprobablities_c1.append(1 - svmmodel.predict_proba(xtest))\\n\\n# confmat = m.confusion_matrix(ytest, svmmodelpred)\\n# confsumh = np.sum(confmat, axis=0)\\n# propconfmat = confmat.copy()\\n# for i in range(propconfmat.shape[0]):\\n#     propconfmat[:, i] = 100 * propconfmat[:, i] / confsumh[i]\\n# predictedconfusionmatrix_proba_c1.append(propconfmat / 100)\";\n",
       "                var nbb_cells = Jupyter.notebook.get_cells();\n",
       "                for (var i = 0; i < nbb_cells.length; ++i) {\n",
       "                    if (nbb_cells[i].input_prompt_number == nbb_cell_id) {\n",
       "                        if (nbb_cells[i].get_text() == nbb_unformatted_code) {\n",
       "                             nbb_cells[i].set_text(nbb_formatted_code);\n",
       "                        }\n",
       "                        break;\n",
       "                    }\n",
       "                }\n",
       "            }, 500);\n",
       "            "
      ],
      "text/plain": [
       "<IPython.core.display.Javascript object>"
      ]
     },
     "metadata": {},
     "output_type": "display_data"
    }
   ],
   "source": [
    "# ytrain = ytrain_original.copy()\n",
    "# ytest = ytest_original.copy()\n",
    "# ytrain, ytest = swapcolumns(ytrain, ytest, 1)\n",
    "# # =================================================\n",
    "# svmmodel = svmgpu(random_state=randomseed, probability=True, C=10, gamma=0.1)\n",
    "# svmmodel.fit(xtrain, ytrain)\n",
    "# svmmodelpred = svmmodel.predict(xtest)\n",
    "# print(m.accuracy_score(ytest, svmmodelpred))\n",
    "\n",
    "# clf_c1.append(svmmodel)\n",
    "# acc_c1.append(m.accuracy_score(ytest, svmmodelpred))\n",
    "# predictedprobablities_c1.append(1 - svmmodel.predict_proba(xtest))\n",
    "\n",
    "# confmat = m.confusion_matrix(ytest, svmmodelpred)\n",
    "# confsumh = np.sum(confmat, axis=0)\n",
    "# propconfmat = confmat.copy()\n",
    "# for i in range(propconfmat.shape[0]):\n",
    "#     propconfmat[:, i] = 100 * propconfmat[:, i] / confsumh[i]\n",
    "# predictedconfusionmatrix_proba_c1.append(propconfmat / 100)"
   ]
  },
  {
   "cell_type": "code",
   "execution_count": 21,
   "metadata": {},
   "outputs": [
    {
     "name": "stdout",
     "output_type": "stream",
     "text": [
      "0  ====================  [1 2 3 4 6 9]\n",
      "0.7083333333333334\n",
      "0.7416666666666667\n",
      "1  ====================  [2 4 5 6 8 9]\n",
      "0.7083333333333334\n",
      "0.7416666666666667\n",
      "2  ====================  [ 1  3  4  5 10 11]\n",
      "0.7083333333333334\n",
      "0.7416666666666667\n",
      "3  ====================  [1 2 3 4 8 9]\n",
      "0.7083333333333334\n",
      "0.7416666666666667\n",
      "4  ====================  [ 0  1  2  4  9 11]\n",
      "0.7083333333333334\n",
      "0.7416666666666667\n",
      "5  ====================  [ 1  3  5  6  7 11]\n",
      "0.7083333333333334\n",
      "0.7416666666666667\n",
      "6  ====================  [ 0  3  5  7  9 11]\n",
      "0.7083333333333334\n",
      "0.7416666666666667\n",
      "7  ====================  [ 0  2  7  9 10 11]\n",
      "0.7083333333333334\n",
      "0.7416666666666667\n",
      "8  ====================  [1 2 5 6 7 9]\n",
      "0.7083333333333334\n",
      "0.7416666666666667\n",
      "9  ====================  [1 3 4 5 8 9]\n",
      "0.7083333333333334\n",
      "0.7416666666666667\n"
     ]
    },
    {
     "data": {
      "application/javascript": [
       "\n",
       "            setTimeout(function() {\n",
       "                var nbb_cell_id = 21;\n",
       "                var nbb_unformatted_code = \"for i in range(len(comb)):\\n    print(i, \\\" ==================== \\\", comb[i])\\n\\n    rf = RandomForestClassifier(random_state=randomseed, n_estimators=50)\\n    rf.fit(xtrain, ytrain)\\n    rfpred = rf.predict(xtest)\\n    print(m.accuracy_score(ytest, rfpred))\\n\\n    clf_c1.append(rf)\\n    acc_c1.append(m.accuracy_score(ytest, rfpred))\\n    predictedprobablities_c1.append(rf.predict_proba(xtest))\\n\\n    confmat = m.confusion_matrix(ytest, rfpred)\\n    confsumh = np.sum(confmat, axis=0)\\n    propconfmat = confmat.copy()\\n    for i in range(propconfmat.shape[0]):\\n        propconfmat[:, i] = 100 * propconfmat[:, i] / confsumh[i]\\n    predictedconfusionmatrix_proba_c1.append(propconfmat / 100)\\n\\n    xgbmodel = xgb.XGBClassifier(random_state=randomseed, n_estimators=50)\\n    xgbmodel.fit(xtrain, ytrain)\\n    xgbmodelpred = xgbmodel.predict(xtest)\\n    print(m.accuracy_score(ytest, xgbmodelpred))\\n\\n    clf_c1.append(xgbmodel)\\n    acc_c1.append(m.accuracy_score(ytest, xgbmodelpred))\\n    predictedprobablities_c1.append(xgbmodel.predict_proba(xtest))\\n\\n    confmat = m.confusion_matrix(ytest, xgbmodelpred)\\n    confsumh = np.sum(confmat, axis=0)\\n    propconfmat = confmat.copy()\\n    for i in range(propconfmat.shape[0]):\\n        propconfmat[:, i] = 100 * propconfmat[:, i] / confsumh[i]\\n    predictedconfusionmatrix_proba_c1.append(propconfmat / 100)\";\n",
       "                var nbb_formatted_code = \"for i in range(len(comb)):\\n    print(i, \\\" ==================== \\\", comb[i])\\n\\n    rf = RandomForestClassifier(random_state=randomseed, n_estimators=50)\\n    rf.fit(xtrain, ytrain)\\n    rfpred = rf.predict(xtest)\\n    print(m.accuracy_score(ytest, rfpred))\\n\\n    clf_c1.append(rf)\\n    acc_c1.append(m.accuracy_score(ytest, rfpred))\\n    predictedprobablities_c1.append(rf.predict_proba(xtest))\\n\\n    confmat = m.confusion_matrix(ytest, rfpred)\\n    confsumh = np.sum(confmat, axis=0)\\n    propconfmat = confmat.copy()\\n    for i in range(propconfmat.shape[0]):\\n        propconfmat[:, i] = 100 * propconfmat[:, i] / confsumh[i]\\n    predictedconfusionmatrix_proba_c1.append(propconfmat / 100)\\n\\n    xgbmodel = xgb.XGBClassifier(random_state=randomseed, n_estimators=50)\\n    xgbmodel.fit(xtrain, ytrain)\\n    xgbmodelpred = xgbmodel.predict(xtest)\\n    print(m.accuracy_score(ytest, xgbmodelpred))\\n\\n    clf_c1.append(xgbmodel)\\n    acc_c1.append(m.accuracy_score(ytest, xgbmodelpred))\\n    predictedprobablities_c1.append(xgbmodel.predict_proba(xtest))\\n\\n    confmat = m.confusion_matrix(ytest, xgbmodelpred)\\n    confsumh = np.sum(confmat, axis=0)\\n    propconfmat = confmat.copy()\\n    for i in range(propconfmat.shape[0]):\\n        propconfmat[:, i] = 100 * propconfmat[:, i] / confsumh[i]\\n    predictedconfusionmatrix_proba_c1.append(propconfmat / 100)\";\n",
       "                var nbb_cells = Jupyter.notebook.get_cells();\n",
       "                for (var i = 0; i < nbb_cells.length; ++i) {\n",
       "                    if (nbb_cells[i].input_prompt_number == nbb_cell_id) {\n",
       "                        if (nbb_cells[i].get_text() == nbb_unformatted_code) {\n",
       "                             nbb_cells[i].set_text(nbb_formatted_code);\n",
       "                        }\n",
       "                        break;\n",
       "                    }\n",
       "                }\n",
       "            }, 500);\n",
       "            "
      ],
      "text/plain": [
       "<IPython.core.display.Javascript object>"
      ]
     },
     "metadata": {},
     "output_type": "display_data"
    }
   ],
   "source": [
    "for i in range(len(comb)):\n",
    "    print(i, \" ==================== \", comb[i])\n",
    "\n",
    "    rf = RandomForestClassifier(random_state=randomseed, n_estimators=50)\n",
    "    rf.fit(xtrain, ytrain)\n",
    "    rfpred = rf.predict(xtest)\n",
    "    print(m.accuracy_score(ytest, rfpred))\n",
    "\n",
    "    clf_c1.append(rf)\n",
    "    acc_c1.append(m.accuracy_score(ytest, rfpred))\n",
    "    predictedprobablities_c1.append(rf.predict_proba(xtest))\n",
    "\n",
    "    confmat = m.confusion_matrix(ytest, rfpred)\n",
    "    confsumh = np.sum(confmat, axis=0)\n",
    "    propconfmat = confmat.copy()\n",
    "    for i in range(propconfmat.shape[0]):\n",
    "        propconfmat[:, i] = 100 * propconfmat[:, i] / confsumh[i]\n",
    "    predictedconfusionmatrix_proba_c1.append(propconfmat / 100)\n",
    "\n",
    "    xgbmodel = xgb.XGBClassifier(random_state=randomseed, n_estimators=50)\n",
    "    xgbmodel.fit(xtrain, ytrain)\n",
    "    xgbmodelpred = xgbmodel.predict(xtest)\n",
    "    print(m.accuracy_score(ytest, xgbmodelpred))\n",
    "\n",
    "    clf_c1.append(xgbmodel)\n",
    "    acc_c1.append(m.accuracy_score(ytest, xgbmodelpred))\n",
    "    predictedprobablities_c1.append(xgbmodel.predict_proba(xtest))\n",
    "\n",
    "    confmat = m.confusion_matrix(ytest, xgbmodelpred)\n",
    "    confsumh = np.sum(confmat, axis=0)\n",
    "    propconfmat = confmat.copy()\n",
    "    for i in range(propconfmat.shape[0]):\n",
    "        propconfmat[:, i] = 100 * propconfmat[:, i] / confsumh[i]\n",
    "    predictedconfusionmatrix_proba_c1.append(propconfmat / 100)"
   ]
  },
  {
   "cell_type": "code",
   "execution_count": 22,
   "metadata": {
    "scrolled": true
   },
   "outputs": [
    {
     "name": "stdout",
     "output_type": "stream",
     "text": [
      "0\n",
      "1\n",
      "2\n",
      "3\n",
      "4\n",
      "5\n",
      "6\n",
      "7\n",
      "8\n",
      "9\n",
      "10\n",
      "11\n",
      "12\n",
      "13\n",
      "14\n",
      "15\n",
      "16\n",
      "17\n",
      "18\n",
      "19\n",
      "20\n",
      "21\n"
     ]
    },
    {
     "data": {
      "application/javascript": [
       "\n",
       "            setTimeout(function() {\n",
       "                var nbb_cell_id = 22;\n",
       "                var nbb_unformatted_code = \"p_k2_c0 = 0\\np_k2_c1 = 0\\nfor i in range(len(predictedprobablities_c1)):\\n    p_k2_c0 += (\\n        predictedprobablities_c1[i][:, 0] * predictedconfusionmatrix_proba_c1[i][0][0]\\n        + predictedprobablities_c1[i][:, 1] * predictedconfusionmatrix_proba_c1[i][0][1]\\n    )\\n\\n    p_k2_c1 += (\\n        predictedprobablities_c1[i][:, 0] * predictedconfusionmatrix_proba_c1[i][1][0]\\n        + predictedprobablities_c1[i][:, 1] * predictedconfusionmatrix_proba_c1[i][1][1]\\n    )\\n\\n    print(i)\\np_k2_c0 = p_k2_c0 / len(predictedprobablities_c0)\\np_k2_c1 = p_k2_c1 / len(predictedprobablities_c0)\";\n",
       "                var nbb_formatted_code = \"p_k2_c0 = 0\\np_k2_c1 = 0\\nfor i in range(len(predictedprobablities_c1)):\\n    p_k2_c0 += (\\n        predictedprobablities_c1[i][:, 0] * predictedconfusionmatrix_proba_c1[i][0][0]\\n        + predictedprobablities_c1[i][:, 1] * predictedconfusionmatrix_proba_c1[i][0][1]\\n    )\\n\\n    p_k2_c1 += (\\n        predictedprobablities_c1[i][:, 0] * predictedconfusionmatrix_proba_c1[i][1][0]\\n        + predictedprobablities_c1[i][:, 1] * predictedconfusionmatrix_proba_c1[i][1][1]\\n    )\\n\\n    print(i)\\np_k2_c0 = p_k2_c0 / len(predictedprobablities_c0)\\np_k2_c1 = p_k2_c1 / len(predictedprobablities_c0)\";\n",
       "                var nbb_cells = Jupyter.notebook.get_cells();\n",
       "                for (var i = 0; i < nbb_cells.length; ++i) {\n",
       "                    if (nbb_cells[i].input_prompt_number == nbb_cell_id) {\n",
       "                        if (nbb_cells[i].get_text() == nbb_unformatted_code) {\n",
       "                             nbb_cells[i].set_text(nbb_formatted_code);\n",
       "                        }\n",
       "                        break;\n",
       "                    }\n",
       "                }\n",
       "            }, 500);\n",
       "            "
      ],
      "text/plain": [
       "<IPython.core.display.Javascript object>"
      ]
     },
     "metadata": {},
     "output_type": "display_data"
    }
   ],
   "source": [
    "p_k2_c0 = 0\n",
    "p_k2_c1 = 0\n",
    "for i in range(len(predictedprobablities_c1)):\n",
    "    p_k2_c0 += (\n",
    "        predictedprobablities_c1[i][:, 0] * predictedconfusionmatrix_proba_c1[i][0][0]\n",
    "        + predictedprobablities_c1[i][:, 1] * predictedconfusionmatrix_proba_c1[i][0][1]\n",
    "    )\n",
    "\n",
    "    p_k2_c1 += (\n",
    "        predictedprobablities_c1[i][:, 0] * predictedconfusionmatrix_proba_c1[i][1][0]\n",
    "        + predictedprobablities_c1[i][:, 1] * predictedconfusionmatrix_proba_c1[i][1][1]\n",
    "    )\n",
    "\n",
    "    print(i)\n",
    "p_k2_c0 = p_k2_c0 / len(predictedprobablities_c0)\n",
    "p_k2_c1 = p_k2_c1 / len(predictedprobablities_c0)"
   ]
  },
  {
   "cell_type": "code",
   "execution_count": 23,
   "metadata": {},
   "outputs": [
    {
     "name": "stdout",
     "output_type": "stream",
     "text": [
      "0.7416666666666667\n",
      "[[113  87]\n",
      " [ 68 332]]\n"
     ]
    },
    {
     "data": {
      "application/javascript": [
       "\n",
       "            setTimeout(function() {\n",
       "                var nbb_cell_id = 23;\n",
       "                var nbb_unformatted_code = \"finalcol = np.zeros((ytest.shape[0], 2))\\nfinalcol[:, 0] = predictedprobablities_c1[1][:, 0]  # p_k2_c0\\nfinalcol[:, 1] = predictedprobablities_c1[1][:, 1]  # p_k2_c1\\nfinalpred = np.argmax(finalcol, axis=1)\\n\\nytrain = ytrain_original.copy()\\nytest = ytest_original.copy()\\nytrain, ytest = swapcolumns(ytrain, ytest, 1)\\n\\nprint(m.accuracy_score(ytest, finalpred))\\nprint(m.confusion_matrix(ytest, finalpred))\\n_mainacc.append(m.accuracy_score(ytest, finalpred))\";\n",
       "                var nbb_formatted_code = \"finalcol = np.zeros((ytest.shape[0], 2))\\nfinalcol[:, 0] = predictedprobablities_c1[1][:, 0]  # p_k2_c0\\nfinalcol[:, 1] = predictedprobablities_c1[1][:, 1]  # p_k2_c1\\nfinalpred = np.argmax(finalcol, axis=1)\\n\\nytrain = ytrain_original.copy()\\nytest = ytest_original.copy()\\nytrain, ytest = swapcolumns(ytrain, ytest, 1)\\n\\nprint(m.accuracy_score(ytest, finalpred))\\nprint(m.confusion_matrix(ytest, finalpred))\\n_mainacc.append(m.accuracy_score(ytest, finalpred))\";\n",
       "                var nbb_cells = Jupyter.notebook.get_cells();\n",
       "                for (var i = 0; i < nbb_cells.length; ++i) {\n",
       "                    if (nbb_cells[i].input_prompt_number == nbb_cell_id) {\n",
       "                        if (nbb_cells[i].get_text() == nbb_unformatted_code) {\n",
       "                             nbb_cells[i].set_text(nbb_formatted_code);\n",
       "                        }\n",
       "                        break;\n",
       "                    }\n",
       "                }\n",
       "            }, 500);\n",
       "            "
      ],
      "text/plain": [
       "<IPython.core.display.Javascript object>"
      ]
     },
     "metadata": {},
     "output_type": "display_data"
    }
   ],
   "source": [
    "finalcol = np.zeros((ytest.shape[0], 2))\n",
    "finalcol[:, 0] = predictedprobablities_c1[1][:, 0]  # p_k2_c0\n",
    "finalcol[:, 1] = predictedprobablities_c1[1][:, 1]  # p_k2_c1\n",
    "finalpred = np.argmax(finalcol, axis=1)\n",
    "\n",
    "ytrain = ytrain_original.copy()\n",
    "ytest = ytest_original.copy()\n",
    "ytrain, ytest = swapcolumns(ytrain, ytest, 1)\n",
    "\n",
    "print(m.accuracy_score(ytest, finalpred))\n",
    "print(m.confusion_matrix(ytest, finalpred))\n",
    "_mainacc.append(m.accuracy_score(ytest, finalpred))"
   ]
  },
  {
   "cell_type": "markdown",
   "metadata": {},
   "source": [
    "# 1.3 Class 2\n",
    "===="
   ]
  },
  {
   "cell_type": "code",
   "execution_count": 24,
   "metadata": {},
   "outputs": [
    {
     "name": "stdout",
     "output_type": "stream",
     "text": [
      "0.8883333333333333\n"
     ]
    },
    {
     "data": {
      "application/javascript": [
       "\n",
       "            setTimeout(function() {\n",
       "                var nbb_cell_id = 24;\n",
       "                var nbb_unformatted_code = \"#=================================================\\n# classs 2\\n#=================================================\\n\\nclf_c2 = []\\nacc_c2 = []\\npredictedprobablities_c2 = []\\npredictedconfusionmatrix_proba_c2 = []\\n\\nytrain=ytrain_original.copy()\\nytest=ytest_original.copy()\\nytrain,ytest= swapcolumns(ytrain,ytest,2)\\n\\n#=================================================\\n\\nrf=RandomForestClassifier(random_state=randomseed, n_estimators=50)\\nrf.fit(xtrain,ytrain)\\nrfpred=rf.predict(xtest)\\nprint(m.accuracy_score(ytest,rfpred))\\n\\nclf_c2.append(rf)\\nacc_c2.append(m.accuracy_score(ytest,rfpred))\\npredictedprobablities_c2.append(rf.predict_proba(xtest))\\n\\nconfmat=m.confusion_matrix(ytest,rfpred)\\nconfsumh=np.sum(confmat,axis=0)\\npropconfmat=confmat.copy()\\nfor i in range(propconfmat.shape[0]):\\n    propconfmat[:,i]= 100*propconfmat[:,i]/confsumh[i] \\npredictedconfusionmatrix_proba_c2.append(propconfmat/100)\";\n",
       "                var nbb_formatted_code = \"# =================================================\\n# classs 2\\n# =================================================\\n\\nclf_c2 = []\\nacc_c2 = []\\npredictedprobablities_c2 = []\\npredictedconfusionmatrix_proba_c2 = []\\n\\nytrain = ytrain_original.copy()\\nytest = ytest_original.copy()\\nytrain, ytest = swapcolumns(ytrain, ytest, 2)\\n\\n# =================================================\\n\\nrf = RandomForestClassifier(random_state=randomseed, n_estimators=50)\\nrf.fit(xtrain, ytrain)\\nrfpred = rf.predict(xtest)\\nprint(m.accuracy_score(ytest, rfpred))\\n\\nclf_c2.append(rf)\\nacc_c2.append(m.accuracy_score(ytest, rfpred))\\npredictedprobablities_c2.append(rf.predict_proba(xtest))\\n\\nconfmat = m.confusion_matrix(ytest, rfpred)\\nconfsumh = np.sum(confmat, axis=0)\\npropconfmat = confmat.copy()\\nfor i in range(propconfmat.shape[0]):\\n    propconfmat[:, i] = 100 * propconfmat[:, i] / confsumh[i]\\npredictedconfusionmatrix_proba_c2.append(propconfmat / 100)\";\n",
       "                var nbb_cells = Jupyter.notebook.get_cells();\n",
       "                for (var i = 0; i < nbb_cells.length; ++i) {\n",
       "                    if (nbb_cells[i].input_prompt_number == nbb_cell_id) {\n",
       "                        if (nbb_cells[i].get_text() == nbb_unformatted_code) {\n",
       "                             nbb_cells[i].set_text(nbb_formatted_code);\n",
       "                        }\n",
       "                        break;\n",
       "                    }\n",
       "                }\n",
       "            }, 500);\n",
       "            "
      ],
      "text/plain": [
       "<IPython.core.display.Javascript object>"
      ]
     },
     "metadata": {},
     "output_type": "display_data"
    }
   ],
   "source": [
    "#=================================================\n",
    "# classs 2\n",
    "#=================================================\n",
    "\n",
    "clf_c2 = []\n",
    "acc_c2 = []\n",
    "predictedprobablities_c2 = []\n",
    "predictedconfusionmatrix_proba_c2 = []\n",
    "\n",
    "ytrain=ytrain_original.copy()\n",
    "ytest=ytest_original.copy()\n",
    "ytrain,ytest= swapcolumns(ytrain,ytest,2)\n",
    "\n",
    "#=================================================\n",
    "\n",
    "rf=RandomForestClassifier(random_state=randomseed, n_estimators=50)\n",
    "rf.fit(xtrain,ytrain)\n",
    "rfpred=rf.predict(xtest)\n",
    "print(m.accuracy_score(ytest,rfpred))\n",
    "\n",
    "clf_c2.append(rf)\n",
    "acc_c2.append(m.accuracy_score(ytest,rfpred))\n",
    "predictedprobablities_c2.append(rf.predict_proba(xtest))\n",
    "\n",
    "confmat=m.confusion_matrix(ytest,rfpred)\n",
    "confsumh=np.sum(confmat,axis=0)\n",
    "propconfmat=confmat.copy()\n",
    "for i in range(propconfmat.shape[0]):\n",
    "    propconfmat[:,i]= 100*propconfmat[:,i]/confsumh[i] \n",
    "predictedconfusionmatrix_proba_c2.append(propconfmat/100)\n"
   ]
  },
  {
   "cell_type": "code",
   "execution_count": 25,
   "metadata": {},
   "outputs": [
    {
     "name": "stdout",
     "output_type": "stream",
     "text": [
      "0.9116666666666666\n"
     ]
    },
    {
     "data": {
      "application/javascript": [
       "\n",
       "            setTimeout(function() {\n",
       "                var nbb_cell_id = 25;\n",
       "                var nbb_unformatted_code = \"ytrain = ytrain_original.copy()\\nytest = ytest_original.copy()\\nytrain, ytest = swapcolumns(ytrain, ytest, 2)\\n# =================================================\\nxgbmodel = xgb.XGBClassifier(random_state=randomseed, n_estimators=50)\\nxgbmodel.fit(xtrain, ytrain)\\nxgbmodelpred = xgbmodel.predict(xtest)\\nprint(m.accuracy_score(ytest, xgbmodelpred))\\n\\nclf_c2.append(xgbmodel)\\nacc_c2.append(m.accuracy_score(ytest, xgbmodelpred))\\npredictedprobablities_c2.append(xgbmodel.predict_proba(xtest))\\n\\nconfmat = m.confusion_matrix(ytest, xgbmodelpred)\\nconfsumh = np.sum(confmat, axis=0)\\npropconfmat = confmat.copy()\\nfor i in range(propconfmat.shape[0]):\\n    propconfmat[:, i] = 100 * propconfmat[:, i] / confsumh[i]\\npredictedconfusionmatrix_proba_c2.append(propconfmat / 100)\";\n",
       "                var nbb_formatted_code = \"ytrain = ytrain_original.copy()\\nytest = ytest_original.copy()\\nytrain, ytest = swapcolumns(ytrain, ytest, 2)\\n# =================================================\\nxgbmodel = xgb.XGBClassifier(random_state=randomseed, n_estimators=50)\\nxgbmodel.fit(xtrain, ytrain)\\nxgbmodelpred = xgbmodel.predict(xtest)\\nprint(m.accuracy_score(ytest, xgbmodelpred))\\n\\nclf_c2.append(xgbmodel)\\nacc_c2.append(m.accuracy_score(ytest, xgbmodelpred))\\npredictedprobablities_c2.append(xgbmodel.predict_proba(xtest))\\n\\nconfmat = m.confusion_matrix(ytest, xgbmodelpred)\\nconfsumh = np.sum(confmat, axis=0)\\npropconfmat = confmat.copy()\\nfor i in range(propconfmat.shape[0]):\\n    propconfmat[:, i] = 100 * propconfmat[:, i] / confsumh[i]\\npredictedconfusionmatrix_proba_c2.append(propconfmat / 100)\";\n",
       "                var nbb_cells = Jupyter.notebook.get_cells();\n",
       "                for (var i = 0; i < nbb_cells.length; ++i) {\n",
       "                    if (nbb_cells[i].input_prompt_number == nbb_cell_id) {\n",
       "                        if (nbb_cells[i].get_text() == nbb_unformatted_code) {\n",
       "                             nbb_cells[i].set_text(nbb_formatted_code);\n",
       "                        }\n",
       "                        break;\n",
       "                    }\n",
       "                }\n",
       "            }, 500);\n",
       "            "
      ],
      "text/plain": [
       "<IPython.core.display.Javascript object>"
      ]
     },
     "metadata": {},
     "output_type": "display_data"
    }
   ],
   "source": [
    "ytrain = ytrain_original.copy()\n",
    "ytest = ytest_original.copy()\n",
    "ytrain, ytest = swapcolumns(ytrain, ytest, 2)\n",
    "# =================================================\n",
    "xgbmodel = xgb.XGBClassifier(random_state=randomseed, n_estimators=50)\n",
    "xgbmodel.fit(xtrain, ytrain)\n",
    "xgbmodelpred = xgbmodel.predict(xtest)\n",
    "print(m.accuracy_score(ytest, xgbmodelpred))\n",
    "\n",
    "clf_c2.append(xgbmodel)\n",
    "acc_c2.append(m.accuracy_score(ytest, xgbmodelpred))\n",
    "predictedprobablities_c2.append(xgbmodel.predict_proba(xtest))\n",
    "\n",
    "confmat = m.confusion_matrix(ytest, xgbmodelpred)\n",
    "confsumh = np.sum(confmat, axis=0)\n",
    "propconfmat = confmat.copy()\n",
    "for i in range(propconfmat.shape[0]):\n",
    "    propconfmat[:, i] = 100 * propconfmat[:, i] / confsumh[i]\n",
    "predictedconfusionmatrix_proba_c2.append(propconfmat / 100)\n"
   ]
  },
  {
   "cell_type": "code",
   "execution_count": 26,
   "metadata": {},
   "outputs": [
    {
     "name": "stdout",
     "output_type": "stream",
     "text": [
      "0.9116666666666666\n"
     ]
    },
    {
     "data": {
      "application/javascript": [
       "\n",
       "            setTimeout(function() {\n",
       "                var nbb_cell_id = 26;\n",
       "                var nbb_unformatted_code = \"ytrain = ytrain_original.copy()\\nytest = ytest_original.copy()\\nytrain, ytest = swapcolumns(ytrain, ytest, 2)\\n# =================================================\\nsvmmodel = svmgpu(random_state=randomseed, probability=True, C=1)\\nsvmmodel.fit(xtrain, ytrain)\\nsvmmodelpred = svmmodel.predict(xtest)\\nprint(m.accuracy_score(ytest, svmmodelpred))\\n\\nclf_c2.append(svmmodel)\\nacc_c2.append(m.accuracy_score(ytest, svmmodelpred))\\npredictedprobablities_c2.append(svmmodel.predict_proba(xtest))\\n\\nconfmat = m.confusion_matrix(ytest, svmmodelpred)\\nconfsumh = np.sum(confmat, axis=0)\\npropconfmat = confmat.copy()\\nfor i in range(propconfmat.shape[0]):\\n    propconfmat[:, i] = 100 * propconfmat[:, i] / confsumh[i]\\npredictedconfusionmatrix_proba_c2.append(propconfmat / 100)\";\n",
       "                var nbb_formatted_code = \"ytrain = ytrain_original.copy()\\nytest = ytest_original.copy()\\nytrain, ytest = swapcolumns(ytrain, ytest, 2)\\n# =================================================\\nsvmmodel = svmgpu(random_state=randomseed, probability=True, C=1)\\nsvmmodel.fit(xtrain, ytrain)\\nsvmmodelpred = svmmodel.predict(xtest)\\nprint(m.accuracy_score(ytest, svmmodelpred))\\n\\nclf_c2.append(svmmodel)\\nacc_c2.append(m.accuracy_score(ytest, svmmodelpred))\\npredictedprobablities_c2.append(svmmodel.predict_proba(xtest))\\n\\nconfmat = m.confusion_matrix(ytest, svmmodelpred)\\nconfsumh = np.sum(confmat, axis=0)\\npropconfmat = confmat.copy()\\nfor i in range(propconfmat.shape[0]):\\n    propconfmat[:, i] = 100 * propconfmat[:, i] / confsumh[i]\\npredictedconfusionmatrix_proba_c2.append(propconfmat / 100)\";\n",
       "                var nbb_cells = Jupyter.notebook.get_cells();\n",
       "                for (var i = 0; i < nbb_cells.length; ++i) {\n",
       "                    if (nbb_cells[i].input_prompt_number == nbb_cell_id) {\n",
       "                        if (nbb_cells[i].get_text() == nbb_unformatted_code) {\n",
       "                             nbb_cells[i].set_text(nbb_formatted_code);\n",
       "                        }\n",
       "                        break;\n",
       "                    }\n",
       "                }\n",
       "            }, 500);\n",
       "            "
      ],
      "text/plain": [
       "<IPython.core.display.Javascript object>"
      ]
     },
     "metadata": {},
     "output_type": "display_data"
    }
   ],
   "source": [
    "ytrain = ytrain_original.copy()\n",
    "ytest = ytest_original.copy()\n",
    "ytrain, ytest = swapcolumns(ytrain, ytest, 2)\n",
    "# =================================================\n",
    "svmmodel = svmgpu(random_state=randomseed, probability=True, C=1)\n",
    "svmmodel.fit(xtrain, ytrain)\n",
    "svmmodelpred = svmmodel.predict(xtest)\n",
    "print(m.accuracy_score(ytest, svmmodelpred))\n",
    "\n",
    "clf_c2.append(svmmodel)\n",
    "acc_c2.append(m.accuracy_score(ytest, svmmodelpred))\n",
    "predictedprobablities_c2.append(svmmodel.predict_proba(xtest))\n",
    "\n",
    "confmat = m.confusion_matrix(ytest, svmmodelpred)\n",
    "confsumh = np.sum(confmat, axis=0)\n",
    "propconfmat = confmat.copy()\n",
    "for i in range(propconfmat.shape[0]):\n",
    "    propconfmat[:, i] = 100 * propconfmat[:, i] / confsumh[i]\n",
    "predictedconfusionmatrix_proba_c2.append(propconfmat / 100)"
   ]
  },
  {
   "cell_type": "code",
   "execution_count": 27,
   "metadata": {
    "scrolled": true
   },
   "outputs": [
    {
     "name": "stdout",
     "output_type": "stream",
     "text": [
      "0  ====================  [1 2 3 4 6 9]\n",
      "0.8883333333333333\n",
      "0.9116666666666666\n",
      "1  ====================  [2 4 5 6 8 9]\n",
      "0.8883333333333333\n",
      "0.9116666666666666\n",
      "2  ====================  [ 1  3  4  5 10 11]\n",
      "0.8883333333333333\n",
      "0.9116666666666666\n",
      "3  ====================  [1 2 3 4 8 9]\n",
      "0.8883333333333333\n",
      "0.9116666666666666\n",
      "4  ====================  [ 0  1  2  4  9 11]\n",
      "0.8883333333333333\n",
      "0.9116666666666666\n",
      "5  ====================  [ 1  3  5  6  7 11]\n",
      "0.8883333333333333\n",
      "0.9116666666666666\n",
      "6  ====================  [ 0  3  5  7  9 11]\n",
      "0.8883333333333333\n",
      "0.9116666666666666\n",
      "7  ====================  [ 0  2  7  9 10 11]\n",
      "0.8883333333333333\n",
      "0.9116666666666666\n",
      "8  ====================  [1 2 5 6 7 9]\n",
      "0.8883333333333333\n",
      "0.9116666666666666\n",
      "9  ====================  [1 3 4 5 8 9]\n",
      "0.8883333333333333\n",
      "0.9116666666666666\n"
     ]
    },
    {
     "data": {
      "application/javascript": [
       "\n",
       "            setTimeout(function() {\n",
       "                var nbb_cell_id = 27;\n",
       "                var nbb_unformatted_code = \"for i in range(len(comb)):\\n    print(i, \\\" ==================== \\\", comb[i])    \\n\\n    rf=RandomForestClassifier(random_state=randomseed, n_estimators=50)\\n    rf.fit(xtrain,ytrain)\\n    rfpred=rf.predict(xtest)\\n    print(m.accuracy_score(ytest,rfpred))\\n\\n    clf_c2.append(rf)\\n    acc_c2.append(m.accuracy_score(ytest,rfpred))\\n    predictedprobablities_c2.append(rf.predict_proba(xtest))\\n\\n    confmat=m.confusion_matrix(ytest,rfpred)\\n    confsumh=np.sum(confmat,axis=0)\\n    propconfmat=confmat.copy()\\n    for i in range(propconfmat.shape[0]):\\n        propconfmat[:,i]= 100*propconfmat[:,i]/confsumh[i] \\n    predictedconfusionmatrix_proba_c2.append(propconfmat/100)\\n\\n    xgbmodel = xgb.XGBClassifier(random_state=randomseed, n_estimators=50)\\n    xgbmodel.fit(xtrain, ytrain)\\n    xgbmodelpred = xgbmodel.predict(xtest)\\n    print(m.accuracy_score(ytest, xgbmodelpred))\\n\\n    clf_c2.append(xgbmodel)\\n    acc_c2.append(m.accuracy_score(ytest, xgbmodelpred))\\n    predictedprobablities_c2.append(xgbmodel.predict_proba(xtest))\\n\\n    confmat = m.confusion_matrix(ytest, xgbmodelpred)\\n    confsumh = np.sum(confmat, axis=0)\\n    propconfmat = confmat.copy()\\n    for i in range(propconfmat.shape[0]):\\n        propconfmat[:, i] = 100 * propconfmat[:, i] / confsumh[i]\\n    predictedconfusionmatrix_proba_c2.append(propconfmat / 100)\";\n",
       "                var nbb_formatted_code = \"for i in range(len(comb)):\\n    print(i, \\\" ==================== \\\", comb[i])\\n\\n    rf = RandomForestClassifier(random_state=randomseed, n_estimators=50)\\n    rf.fit(xtrain, ytrain)\\n    rfpred = rf.predict(xtest)\\n    print(m.accuracy_score(ytest, rfpred))\\n\\n    clf_c2.append(rf)\\n    acc_c2.append(m.accuracy_score(ytest, rfpred))\\n    predictedprobablities_c2.append(rf.predict_proba(xtest))\\n\\n    confmat = m.confusion_matrix(ytest, rfpred)\\n    confsumh = np.sum(confmat, axis=0)\\n    propconfmat = confmat.copy()\\n    for i in range(propconfmat.shape[0]):\\n        propconfmat[:, i] = 100 * propconfmat[:, i] / confsumh[i]\\n    predictedconfusionmatrix_proba_c2.append(propconfmat / 100)\\n\\n    xgbmodel = xgb.XGBClassifier(random_state=randomseed, n_estimators=50)\\n    xgbmodel.fit(xtrain, ytrain)\\n    xgbmodelpred = xgbmodel.predict(xtest)\\n    print(m.accuracy_score(ytest, xgbmodelpred))\\n\\n    clf_c2.append(xgbmodel)\\n    acc_c2.append(m.accuracy_score(ytest, xgbmodelpred))\\n    predictedprobablities_c2.append(xgbmodel.predict_proba(xtest))\\n\\n    confmat = m.confusion_matrix(ytest, xgbmodelpred)\\n    confsumh = np.sum(confmat, axis=0)\\n    propconfmat = confmat.copy()\\n    for i in range(propconfmat.shape[0]):\\n        propconfmat[:, i] = 100 * propconfmat[:, i] / confsumh[i]\\n    predictedconfusionmatrix_proba_c2.append(propconfmat / 100)\";\n",
       "                var nbb_cells = Jupyter.notebook.get_cells();\n",
       "                for (var i = 0; i < nbb_cells.length; ++i) {\n",
       "                    if (nbb_cells[i].input_prompt_number == nbb_cell_id) {\n",
       "                        if (nbb_cells[i].get_text() == nbb_unformatted_code) {\n",
       "                             nbb_cells[i].set_text(nbb_formatted_code);\n",
       "                        }\n",
       "                        break;\n",
       "                    }\n",
       "                }\n",
       "            }, 500);\n",
       "            "
      ],
      "text/plain": [
       "<IPython.core.display.Javascript object>"
      ]
     },
     "metadata": {},
     "output_type": "display_data"
    }
   ],
   "source": [
    "for i in range(len(comb)):\n",
    "    print(i, \" ==================== \", comb[i])    \n",
    "\n",
    "    rf=RandomForestClassifier(random_state=randomseed, n_estimators=50)\n",
    "    rf.fit(xtrain,ytrain)\n",
    "    rfpred=rf.predict(xtest)\n",
    "    print(m.accuracy_score(ytest,rfpred))\n",
    "\n",
    "    clf_c2.append(rf)\n",
    "    acc_c2.append(m.accuracy_score(ytest,rfpred))\n",
    "    predictedprobablities_c2.append(rf.predict_proba(xtest))\n",
    "\n",
    "    confmat=m.confusion_matrix(ytest,rfpred)\n",
    "    confsumh=np.sum(confmat,axis=0)\n",
    "    propconfmat=confmat.copy()\n",
    "    for i in range(propconfmat.shape[0]):\n",
    "        propconfmat[:,i]= 100*propconfmat[:,i]/confsumh[i] \n",
    "    predictedconfusionmatrix_proba_c2.append(propconfmat/100)\n",
    "\n",
    "    xgbmodel = xgb.XGBClassifier(random_state=randomseed, n_estimators=50)\n",
    "    xgbmodel.fit(xtrain, ytrain)\n",
    "    xgbmodelpred = xgbmodel.predict(xtest)\n",
    "    print(m.accuracy_score(ytest, xgbmodelpred))\n",
    "\n",
    "    clf_c2.append(xgbmodel)\n",
    "    acc_c2.append(m.accuracy_score(ytest, xgbmodelpred))\n",
    "    predictedprobablities_c2.append(xgbmodel.predict_proba(xtest))\n",
    "\n",
    "    confmat = m.confusion_matrix(ytest, xgbmodelpred)\n",
    "    confsumh = np.sum(confmat, axis=0)\n",
    "    propconfmat = confmat.copy()\n",
    "    for i in range(propconfmat.shape[0]):\n",
    "        propconfmat[:, i] = 100 * propconfmat[:, i] / confsumh[i]\n",
    "    predictedconfusionmatrix_proba_c2.append(propconfmat / 100)\n"
   ]
  },
  {
   "cell_type": "code",
   "execution_count": 28,
   "metadata": {
    "scrolled": true
   },
   "outputs": [
    {
     "name": "stdout",
     "output_type": "stream",
     "text": [
      "0\n",
      "1\n",
      "2\n",
      "3\n",
      "4\n",
      "5\n",
      "6\n",
      "7\n",
      "8\n",
      "9\n",
      "10\n",
      "11\n",
      "12\n",
      "13\n",
      "14\n",
      "15\n",
      "16\n",
      "17\n",
      "18\n",
      "19\n",
      "20\n",
      "21\n",
      "22\n"
     ]
    },
    {
     "data": {
      "application/javascript": [
       "\n",
       "            setTimeout(function() {\n",
       "                var nbb_cell_id = 28;\n",
       "                var nbb_unformatted_code = \"p_k3_c0 = 0\\np_k3_c1 = 0\\nfor i in range(len(predictedprobablities_c2)):\\n    p_k3_c0 += (\\n        predictedprobablities_c2[i][:, 0] * predictedconfusionmatrix_proba_c2[i][0][0]\\n        + predictedprobablities_c2[i][:, 1] * predictedconfusionmatrix_proba_c2[i][0][1]\\n    )\\n\\n    p_k3_c1 += (\\n        predictedprobablities_c2[i][:, 0] * predictedconfusionmatrix_proba_c2[i][1][0]\\n        + predictedprobablities_c2[i][:, 1] * predictedconfusionmatrix_proba_c2[i][1][1]\\n    )\\n\\n    print(i)\\np_k3_c0 = p_k3_c0 / len(predictedprobablities_c2)\\np_k3_c1 = p_k3_c1 / len(predictedprobablities_c2)\";\n",
       "                var nbb_formatted_code = \"p_k3_c0 = 0\\np_k3_c1 = 0\\nfor i in range(len(predictedprobablities_c2)):\\n    p_k3_c0 += (\\n        predictedprobablities_c2[i][:, 0] * predictedconfusionmatrix_proba_c2[i][0][0]\\n        + predictedprobablities_c2[i][:, 1] * predictedconfusionmatrix_proba_c2[i][0][1]\\n    )\\n\\n    p_k3_c1 += (\\n        predictedprobablities_c2[i][:, 0] * predictedconfusionmatrix_proba_c2[i][1][0]\\n        + predictedprobablities_c2[i][:, 1] * predictedconfusionmatrix_proba_c2[i][1][1]\\n    )\\n\\n    print(i)\\np_k3_c0 = p_k3_c0 / len(predictedprobablities_c2)\\np_k3_c1 = p_k3_c1 / len(predictedprobablities_c2)\";\n",
       "                var nbb_cells = Jupyter.notebook.get_cells();\n",
       "                for (var i = 0; i < nbb_cells.length; ++i) {\n",
       "                    if (nbb_cells[i].input_prompt_number == nbb_cell_id) {\n",
       "                        if (nbb_cells[i].get_text() == nbb_unformatted_code) {\n",
       "                             nbb_cells[i].set_text(nbb_formatted_code);\n",
       "                        }\n",
       "                        break;\n",
       "                    }\n",
       "                }\n",
       "            }, 500);\n",
       "            "
      ],
      "text/plain": [
       "<IPython.core.display.Javascript object>"
      ]
     },
     "metadata": {},
     "output_type": "display_data"
    }
   ],
   "source": [
    "p_k3_c0 = 0\n",
    "p_k3_c1 = 0\n",
    "for i in range(len(predictedprobablities_c2)):\n",
    "    p_k3_c0 += (\n",
    "        predictedprobablities_c2[i][:, 0] * predictedconfusionmatrix_proba_c2[i][0][0]\n",
    "        + predictedprobablities_c2[i][:, 1] * predictedconfusionmatrix_proba_c2[i][0][1]\n",
    "    )\n",
    "\n",
    "    p_k3_c1 += (\n",
    "        predictedprobablities_c2[i][:, 0] * predictedconfusionmatrix_proba_c2[i][1][0]\n",
    "        + predictedprobablities_c2[i][:, 1] * predictedconfusionmatrix_proba_c2[i][1][1]\n",
    "    )\n",
    "\n",
    "    print(i)\n",
    "p_k3_c0 = p_k3_c0 / len(predictedprobablities_c2)\n",
    "p_k3_c1 = p_k3_c1 / len(predictedprobablities_c2)"
   ]
  },
  {
   "cell_type": "code",
   "execution_count": 29,
   "metadata": {},
   "outputs": [
    {
     "name": "stdout",
     "output_type": "stream",
     "text": [
      "0.9183333333333333\n",
      "[[167  33]\n",
      " [ 16 384]]\n"
     ]
    },
    {
     "data": {
      "application/javascript": [
       "\n",
       "            setTimeout(function() {\n",
       "                var nbb_cell_id = 29;\n",
       "                var nbb_unformatted_code = \"finalcol = np.zeros((ytest.shape[0], 2))\\nfinalcol[:, 0] = p_k3_c0\\nfinalcol[:, 1] = p_k3_c1\\nfinalpred = np.argmax(finalcol, axis=1)\\n\\n\\nytrain = ytrain_original.copy()\\nytest = ytest_original.copy()\\nytrain, ytest = swapcolumns(ytrain, ytest, 2)\\n\\nprint(m.accuracy_score(ytest, finalpred))\\nprint(m.confusion_matrix(ytest, finalpred))\\n_mainacc.append(m.accuracy_score(ytest, finalpred))\";\n",
       "                var nbb_formatted_code = \"finalcol = np.zeros((ytest.shape[0], 2))\\nfinalcol[:, 0] = p_k3_c0\\nfinalcol[:, 1] = p_k3_c1\\nfinalpred = np.argmax(finalcol, axis=1)\\n\\n\\nytrain = ytrain_original.copy()\\nytest = ytest_original.copy()\\nytrain, ytest = swapcolumns(ytrain, ytest, 2)\\n\\nprint(m.accuracy_score(ytest, finalpred))\\nprint(m.confusion_matrix(ytest, finalpred))\\n_mainacc.append(m.accuracy_score(ytest, finalpred))\";\n",
       "                var nbb_cells = Jupyter.notebook.get_cells();\n",
       "                for (var i = 0; i < nbb_cells.length; ++i) {\n",
       "                    if (nbb_cells[i].input_prompt_number == nbb_cell_id) {\n",
       "                        if (nbb_cells[i].get_text() == nbb_unformatted_code) {\n",
       "                             nbb_cells[i].set_text(nbb_formatted_code);\n",
       "                        }\n",
       "                        break;\n",
       "                    }\n",
       "                }\n",
       "            }, 500);\n",
       "            "
      ],
      "text/plain": [
       "<IPython.core.display.Javascript object>"
      ]
     },
     "metadata": {},
     "output_type": "display_data"
    }
   ],
   "source": [
    "finalcol = np.zeros((ytest.shape[0], 2))\n",
    "finalcol[:, 0] = p_k3_c0\n",
    "finalcol[:, 1] = p_k3_c1\n",
    "finalpred = np.argmax(finalcol, axis=1)\n",
    "\n",
    "\n",
    "ytrain = ytrain_original.copy()\n",
    "ytest = ytest_original.copy()\n",
    "ytrain, ytest = swapcolumns(ytrain, ytest, 2)\n",
    "\n",
    "print(m.accuracy_score(ytest, finalpred))\n",
    "print(m.confusion_matrix(ytest, finalpred))\n",
    "_mainacc.append(m.accuracy_score(ytest, finalpred))"
   ]
  },
  {
   "cell_type": "markdown",
   "metadata": {},
   "source": [
    "# 2. Combine all the base line models per class\n",
    "====="
   ]
  },
  {
   "cell_type": "code",
   "execution_count": 30,
   "metadata": {
    "scrolled": true
   },
   "outputs": [
    {
     "name": "stdout",
     "output_type": "stream",
     "text": [
      "0\n",
      "1\n",
      "2\n",
      "3\n",
      "4\n",
      "5\n",
      "6\n",
      "7\n",
      "8\n",
      "9\n",
      "10\n",
      "11\n",
      "12\n",
      "13\n",
      "14\n",
      "15\n",
      "16\n",
      "17\n",
      "18\n",
      "19\n",
      "20\n",
      "21\n",
      "22\n"
     ]
    },
    {
     "data": {
      "application/javascript": [
       "\n",
       "            setTimeout(function() {\n",
       "                var nbb_cell_id = 30;\n",
       "                var nbb_unformatted_code = \"p_k1_c0 = 0\\np_k1_c1 = 0\\nfor i in range(len(predictedprobablities_c0)):\\n    p_k1_c0 += (\\n        predictedprobablities_c0[i][:, 0] * predictedconfusionmatrix_proba_c0[i][0][0]\\n        + predictedprobablities_c0[i][:, 1] * predictedconfusionmatrix_proba_c0[i][0][1]\\n    )\\n\\n    p_k1_c1 += (\\n        predictedprobablities_c0[0][:, 0] * predictedconfusionmatrix_proba_c0[0][1][0]\\n        + predictedprobablities_c0[0][:, 1] * predictedconfusionmatrix_proba_c0[0][1][1]\\n    )\\n\\n    print(i)\\np_k1_c0 = p_k1_c0 / len(predictedprobablities_c0)\\np_k1_c1 = p_k1_c1 / len(predictedprobablities_c0)\";\n",
       "                var nbb_formatted_code = \"p_k1_c0 = 0\\np_k1_c1 = 0\\nfor i in range(len(predictedprobablities_c0)):\\n    p_k1_c0 += (\\n        predictedprobablities_c0[i][:, 0] * predictedconfusionmatrix_proba_c0[i][0][0]\\n        + predictedprobablities_c0[i][:, 1] * predictedconfusionmatrix_proba_c0[i][0][1]\\n    )\\n\\n    p_k1_c1 += (\\n        predictedprobablities_c0[0][:, 0] * predictedconfusionmatrix_proba_c0[0][1][0]\\n        + predictedprobablities_c0[0][:, 1] * predictedconfusionmatrix_proba_c0[0][1][1]\\n    )\\n\\n    print(i)\\np_k1_c0 = p_k1_c0 / len(predictedprobablities_c0)\\np_k1_c1 = p_k1_c1 / len(predictedprobablities_c0)\";\n",
       "                var nbb_cells = Jupyter.notebook.get_cells();\n",
       "                for (var i = 0; i < nbb_cells.length; ++i) {\n",
       "                    if (nbb_cells[i].input_prompt_number == nbb_cell_id) {\n",
       "                        if (nbb_cells[i].get_text() == nbb_unformatted_code) {\n",
       "                             nbb_cells[i].set_text(nbb_formatted_code);\n",
       "                        }\n",
       "                        break;\n",
       "                    }\n",
       "                }\n",
       "            }, 500);\n",
       "            "
      ],
      "text/plain": [
       "<IPython.core.display.Javascript object>"
      ]
     },
     "metadata": {},
     "output_type": "display_data"
    }
   ],
   "source": [
    "p_k1_c0 = 0\n",
    "p_k1_c1 = 0\n",
    "for i in range(len(predictedprobablities_c0)):\n",
    "    p_k1_c0 += (\n",
    "        predictedprobablities_c0[i][:, 0] * predictedconfusionmatrix_proba_c0[i][0][0]\n",
    "        + predictedprobablities_c0[i][:, 1] * predictedconfusionmatrix_proba_c0[i][0][1]\n",
    "    )\n",
    "\n",
    "    p_k1_c1 += (\n",
    "        predictedprobablities_c0[0][:, 0] * predictedconfusionmatrix_proba_c0[0][1][0]\n",
    "        + predictedprobablities_c0[0][:, 1] * predictedconfusionmatrix_proba_c0[0][1][1]\n",
    "    )\n",
    "\n",
    "    print(i)\n",
    "p_k1_c0 = p_k1_c0 / len(predictedprobablities_c0)\n",
    "p_k1_c1 = p_k1_c1 / len(predictedprobablities_c0)"
   ]
  },
  {
   "cell_type": "code",
   "execution_count": 31,
   "metadata": {
    "scrolled": true
   },
   "outputs": [
    {
     "name": "stdout",
     "output_type": "stream",
     "text": [
      "0\n",
      "1\n",
      "2\n",
      "3\n",
      "4\n",
      "5\n",
      "6\n",
      "7\n",
      "8\n",
      "9\n",
      "10\n",
      "11\n",
      "12\n",
      "13\n",
      "14\n",
      "15\n",
      "16\n",
      "17\n",
      "18\n",
      "19\n",
      "20\n",
      "21\n"
     ]
    },
    {
     "data": {
      "application/javascript": [
       "\n",
       "            setTimeout(function() {\n",
       "                var nbb_cell_id = 31;\n",
       "                var nbb_unformatted_code = \"p_k2_c0 = 0\\np_k2_c1 = 0\\nfor i in range(len(predictedprobablities_c1)):\\n    p_k2_c0 += (\\n        predictedprobablities_c1[i][:, 0] * predictedconfusionmatrix_proba_c1[i][0][0]\\n        + predictedprobablities_c1[i][:, 1] * predictedconfusionmatrix_proba_c1[i][0][1]\\n    )\\n\\n    p_k2_c1 += (\\n        predictedprobablities_c1[i][:, 0] * predictedconfusionmatrix_proba_c1[i][1][0]\\n        + predictedprobablities_c1[i][:, 1] * predictedconfusionmatrix_proba_c1[i][1][1]\\n    )\\n\\n    print(i)\\np_k2_c0 = p_k2_c0 / len(predictedprobablities_c0)\\np_k2_c1 = p_k2_c1 / len(predictedprobablities_c0)\";\n",
       "                var nbb_formatted_code = \"p_k2_c0 = 0\\np_k2_c1 = 0\\nfor i in range(len(predictedprobablities_c1)):\\n    p_k2_c0 += (\\n        predictedprobablities_c1[i][:, 0] * predictedconfusionmatrix_proba_c1[i][0][0]\\n        + predictedprobablities_c1[i][:, 1] * predictedconfusionmatrix_proba_c1[i][0][1]\\n    )\\n\\n    p_k2_c1 += (\\n        predictedprobablities_c1[i][:, 0] * predictedconfusionmatrix_proba_c1[i][1][0]\\n        + predictedprobablities_c1[i][:, 1] * predictedconfusionmatrix_proba_c1[i][1][1]\\n    )\\n\\n    print(i)\\np_k2_c0 = p_k2_c0 / len(predictedprobablities_c0)\\np_k2_c1 = p_k2_c1 / len(predictedprobablities_c0)\";\n",
       "                var nbb_cells = Jupyter.notebook.get_cells();\n",
       "                for (var i = 0; i < nbb_cells.length; ++i) {\n",
       "                    if (nbb_cells[i].input_prompt_number == nbb_cell_id) {\n",
       "                        if (nbb_cells[i].get_text() == nbb_unformatted_code) {\n",
       "                             nbb_cells[i].set_text(nbb_formatted_code);\n",
       "                        }\n",
       "                        break;\n",
       "                    }\n",
       "                }\n",
       "            }, 500);\n",
       "            "
      ],
      "text/plain": [
       "<IPython.core.display.Javascript object>"
      ]
     },
     "metadata": {},
     "output_type": "display_data"
    }
   ],
   "source": [
    "p_k2_c0 = 0\n",
    "p_k2_c1 = 0\n",
    "for i in range(len(predictedprobablities_c1)):\n",
    "    p_k2_c0 += (\n",
    "        predictedprobablities_c1[i][:, 0] * predictedconfusionmatrix_proba_c1[i][0][0]\n",
    "        + predictedprobablities_c1[i][:, 1] * predictedconfusionmatrix_proba_c1[i][0][1]\n",
    "    )\n",
    "\n",
    "    p_k2_c1 += (\n",
    "        predictedprobablities_c1[i][:, 0] * predictedconfusionmatrix_proba_c1[i][1][0]\n",
    "        + predictedprobablities_c1[i][:, 1] * predictedconfusionmatrix_proba_c1[i][1][1]\n",
    "    )\n",
    "\n",
    "    print(i)\n",
    "p_k2_c0 = p_k2_c0 / len(predictedprobablities_c0)\n",
    "p_k2_c1 = p_k2_c1 / len(predictedprobablities_c0)"
   ]
  },
  {
   "cell_type": "code",
   "execution_count": 32,
   "metadata": {
    "scrolled": true
   },
   "outputs": [
    {
     "name": "stdout",
     "output_type": "stream",
     "text": [
      "0\n",
      "1\n",
      "2\n",
      "3\n",
      "4\n",
      "5\n",
      "6\n",
      "7\n",
      "8\n",
      "9\n",
      "10\n",
      "11\n",
      "12\n",
      "13\n",
      "14\n",
      "15\n",
      "16\n",
      "17\n",
      "18\n",
      "19\n",
      "20\n",
      "21\n",
      "22\n"
     ]
    },
    {
     "data": {
      "application/javascript": [
       "\n",
       "            setTimeout(function() {\n",
       "                var nbb_cell_id = 32;\n",
       "                var nbb_unformatted_code = \"p_k3_c0 = 0\\np_k3_c1 = 0\\nfor i in range(len(predictedprobablities_c2)):\\n    p_k3_c0 += (\\n        predictedprobablities_c2[i][:, 0] * predictedconfusionmatrix_proba_c2[i][0][0]\\n        + predictedprobablities_c2[i][:, 1] * predictedconfusionmatrix_proba_c2[i][0][1]\\n    )\\n\\n    p_k3_c1 += (\\n        predictedprobablities_c2[i][:, 0] * predictedconfusionmatrix_proba_c2[i][1][0]\\n        + predictedprobablities_c2[i][:, 1] * predictedconfusionmatrix_proba_c2[i][1][1]\\n    )\\n\\n    print(i)\\np_k3_c0 = p_k3_c0 / len(predictedprobablities_c2)\\np_k3_c1 = p_k3_c1 / len(predictedprobablities_c2)\";\n",
       "                var nbb_formatted_code = \"p_k3_c0 = 0\\np_k3_c1 = 0\\nfor i in range(len(predictedprobablities_c2)):\\n    p_k3_c0 += (\\n        predictedprobablities_c2[i][:, 0] * predictedconfusionmatrix_proba_c2[i][0][0]\\n        + predictedprobablities_c2[i][:, 1] * predictedconfusionmatrix_proba_c2[i][0][1]\\n    )\\n\\n    p_k3_c1 += (\\n        predictedprobablities_c2[i][:, 0] * predictedconfusionmatrix_proba_c2[i][1][0]\\n        + predictedprobablities_c2[i][:, 1] * predictedconfusionmatrix_proba_c2[i][1][1]\\n    )\\n\\n    print(i)\\np_k3_c0 = p_k3_c0 / len(predictedprobablities_c2)\\np_k3_c1 = p_k3_c1 / len(predictedprobablities_c2)\";\n",
       "                var nbb_cells = Jupyter.notebook.get_cells();\n",
       "                for (var i = 0; i < nbb_cells.length; ++i) {\n",
       "                    if (nbb_cells[i].input_prompt_number == nbb_cell_id) {\n",
       "                        if (nbb_cells[i].get_text() == nbb_unformatted_code) {\n",
       "                             nbb_cells[i].set_text(nbb_formatted_code);\n",
       "                        }\n",
       "                        break;\n",
       "                    }\n",
       "                }\n",
       "            }, 500);\n",
       "            "
      ],
      "text/plain": [
       "<IPython.core.display.Javascript object>"
      ]
     },
     "metadata": {},
     "output_type": "display_data"
    }
   ],
   "source": [
    "p_k3_c0 = 0\n",
    "p_k3_c1 = 0\n",
    "for i in range(len(predictedprobablities_c2)):\n",
    "    p_k3_c0 += (\n",
    "        predictedprobablities_c2[i][:, 0] * predictedconfusionmatrix_proba_c2[i][0][0]\n",
    "        + predictedprobablities_c2[i][:, 1] * predictedconfusionmatrix_proba_c2[i][0][1]\n",
    "    )\n",
    "\n",
    "    p_k3_c1 += (\n",
    "        predictedprobablities_c2[i][:, 0] * predictedconfusionmatrix_proba_c2[i][1][0]\n",
    "        + predictedprobablities_c2[i][:, 1] * predictedconfusionmatrix_proba_c2[i][1][1]\n",
    "    )\n",
    "\n",
    "    print(i)\n",
    "p_k3_c0 = p_k3_c0 / len(predictedprobablities_c2)\n",
    "p_k3_c1 = p_k3_c1 / len(predictedprobablities_c2)"
   ]
  },
  {
   "cell_type": "markdown",
   "metadata": {},
   "source": [
    "# 3. Calculate the probabilities of each class\n",
    "===="
   ]
  },
  {
   "cell_type": "code",
   "execution_count": 41,
   "metadata": {
    "scrolled": true
   },
   "outputs": [
    {
     "data": {
      "application/javascript": [
       "\n",
       "            setTimeout(function() {\n",
       "                var nbb_cell_id = 41;\n",
       "                var nbb_unformatted_code = \"  \\n_p_k1_c0 = _mainacc[0]*p_k1_c0 + (p_k2_c1 * p_k3_c1)\\n_p_k2_c0 = _mainacc[1]*p_k2_c0 + (p_k1_c1 * p_k3_c1)\\n_p_k3_c0 = _mainacc[2]*p_k3_c0 + (p_k2_c1 * p_k1_c1)\";\n",
       "                var nbb_formatted_code = \"_p_k1_c0 = _mainacc[0] * p_k1_c0 + (p_k2_c1 * p_k3_c1)\\n_p_k2_c0 = _mainacc[1] * p_k2_c0 + (p_k1_c1 * p_k3_c1)\\n_p_k3_c0 = _mainacc[2] * p_k3_c0 + (p_k2_c1 * p_k1_c1)\";\n",
       "                var nbb_cells = Jupyter.notebook.get_cells();\n",
       "                for (var i = 0; i < nbb_cells.length; ++i) {\n",
       "                    if (nbb_cells[i].input_prompt_number == nbb_cell_id) {\n",
       "                        if (nbb_cells[i].get_text() == nbb_unformatted_code) {\n",
       "                             nbb_cells[i].set_text(nbb_formatted_code);\n",
       "                        }\n",
       "                        break;\n",
       "                    }\n",
       "                }\n",
       "            }, 500);\n",
       "            "
      ],
      "text/plain": [
       "<IPython.core.display.Javascript object>"
      ]
     },
     "metadata": {},
     "output_type": "display_data"
    }
   ],
   "source": [
    "  \n",
    "_p_k1_c0 = _mainacc[0]*p_k1_c0 + (p_k2_c1 * p_k3_c1)\n",
    "_p_k2_c0 = _mainacc[1]*p_k2_c0 + (p_k1_c1 * p_k3_c1)\n",
    "_p_k3_c0 = _mainacc[2]*p_k3_c0 + (p_k2_c1 * p_k1_c1)\n",
    "\n"
   ]
  },
  {
   "cell_type": "code",
   "execution_count": 42,
   "metadata": {},
   "outputs": [
    {
     "name": "stdout",
     "output_type": "stream",
     "text": [
      "0.73\n",
      "[[155  44   1]\n",
      " [ 65 111  24]\n",
      " [  4  24 172]]\n"
     ]
    },
    {
     "data": {
      "application/javascript": [
       "\n",
       "            setTimeout(function() {\n",
       "                var nbb_cell_id = 42;\n",
       "                var nbb_unformatted_code = \"finalcol = np.zeros((ytest.shape[0], 3))\\nfinalcol[:, 0] = _p_k1_c0\\nfinalcol[:, 1] = _p_k2_c0\\nfinalcol[:, 2] = _p_k3_c0\\nfinalpred = np.argmax(finalcol, axis=1)\\n\\nytest = ytest_original.copy()\\nprint(m.accuracy_score(ytest, finalpred))\\nprint(m.confusion_matrix(ytest, finalpred))\\ntemppred = finalpred\";\n",
       "                var nbb_formatted_code = \"finalcol = np.zeros((ytest.shape[0], 3))\\nfinalcol[:, 0] = _p_k1_c0\\nfinalcol[:, 1] = _p_k2_c0\\nfinalcol[:, 2] = _p_k3_c0\\nfinalpred = np.argmax(finalcol, axis=1)\\n\\nytest = ytest_original.copy()\\nprint(m.accuracy_score(ytest, finalpred))\\nprint(m.confusion_matrix(ytest, finalpred))\\ntemppred = finalpred\";\n",
       "                var nbb_cells = Jupyter.notebook.get_cells();\n",
       "                for (var i = 0; i < nbb_cells.length; ++i) {\n",
       "                    if (nbb_cells[i].input_prompt_number == nbb_cell_id) {\n",
       "                        if (nbb_cells[i].get_text() == nbb_unformatted_code) {\n",
       "                             nbb_cells[i].set_text(nbb_formatted_code);\n",
       "                        }\n",
       "                        break;\n",
       "                    }\n",
       "                }\n",
       "            }, 500);\n",
       "            "
      ],
      "text/plain": [
       "<IPython.core.display.Javascript object>"
      ]
     },
     "metadata": {},
     "output_type": "display_data"
    }
   ],
   "source": [
    "finalcol = np.zeros((ytest.shape[0], 3))\n",
    "finalcol[:, 0] = _p_k1_c0\n",
    "finalcol[:, 1] = _p_k2_c0\n",
    "finalcol[:, 2] = _p_k3_c0\n",
    "finalpred = np.argmax(finalcol, axis=1)\n",
    "\n",
    "ytest = ytest_original.copy()\n",
    "print(m.accuracy_score(ytest, finalpred))\n",
    "print(m.confusion_matrix(ytest, finalpred))\n",
    "temppred = finalpred"
   ]
  },
  {
   "cell_type": "code",
   "execution_count": 43,
   "metadata": {},
   "outputs": [
    {
     "data": {
      "application/javascript": [
       "\n",
       "            setTimeout(function() {\n",
       "                var nbb_cell_id = 43;\n",
       "                var nbb_unformatted_code = \"\\n# finalcol = np.zeros((ytest.shape[0], 3))\\n# finalcol[:, 0] = p_k1_c1\\n# finalcol[:, 1] = p_k2_c1\\n# finalcol[:, 2] = p_k3_c1\\n# finalpred = np.argmin(finalcol, axis=1)\\n\\n# ytest = ytest_original.copy()\\n# print(m.accuracy_score(ytest, finalpred))\\n# print(m.confusion_matrix(ytest, finalpred))\";\n",
       "                var nbb_formatted_code = \"# finalcol = np.zeros((ytest.shape[0], 3))\\n# finalcol[:, 0] = p_k1_c1\\n# finalcol[:, 1] = p_k2_c1\\n# finalcol[:, 2] = p_k3_c1\\n# finalpred = np.argmin(finalcol, axis=1)\\n\\n# ytest = ytest_original.copy()\\n# print(m.accuracy_score(ytest, finalpred))\\n# print(m.confusion_matrix(ytest, finalpred))\";\n",
       "                var nbb_cells = Jupyter.notebook.get_cells();\n",
       "                for (var i = 0; i < nbb_cells.length; ++i) {\n",
       "                    if (nbb_cells[i].input_prompt_number == nbb_cell_id) {\n",
       "                        if (nbb_cells[i].get_text() == nbb_unformatted_code) {\n",
       "                             nbb_cells[i].set_text(nbb_formatted_code);\n",
       "                        }\n",
       "                        break;\n",
       "                    }\n",
       "                }\n",
       "            }, 500);\n",
       "            "
      ],
      "text/plain": [
       "<IPython.core.display.Javascript object>"
      ]
     },
     "metadata": {},
     "output_type": "display_data"
    }
   ],
   "source": [
    "\n",
    "# finalcol = np.zeros((ytest.shape[0], 3))\n",
    "# finalcol[:, 0] = p_k1_c1\n",
    "# finalcol[:, 1] = p_k2_c1\n",
    "# finalcol[:, 2] = p_k3_c1\n",
    "# finalpred = np.argmin(finalcol, axis=1)\n",
    "\n",
    "# ytest = ytest_original.copy()\n",
    "# print(m.accuracy_score(ytest, finalpred))\n",
    "# print(m.confusion_matrix(ytest, finalpred))\n"
   ]
  },
  {
   "cell_type": "code",
   "execution_count": null,
   "metadata": {},
   "outputs": [],
   "source": []
  },
  {
   "cell_type": "code",
   "execution_count": 44,
   "metadata": {},
   "outputs": [
    {
     "data": {
      "application/javascript": [
       "\n",
       "            setTimeout(function() {\n",
       "                var nbb_cell_id = 44;\n",
       "                var nbb_unformatted_code = \"finalcol = np.zeros((ytest.shape[0], 2))\\nfinalcol[:, 0] = p_k3_c0\\nfinalcol[:, 1] = p_k3_c1\\nfinalpred = np.argmax(finalcol, axis=1)\\npd2 = pd.DataFrame(finalcol, columns=[\\\"C0\\\", \\\"NC0\\\"])\";\n",
       "                var nbb_formatted_code = \"finalcol = np.zeros((ytest.shape[0], 2))\\nfinalcol[:, 0] = p_k3_c0\\nfinalcol[:, 1] = p_k3_c1\\nfinalpred = np.argmax(finalcol, axis=1)\\npd2 = pd.DataFrame(finalcol, columns=[\\\"C0\\\", \\\"NC0\\\"])\";\n",
       "                var nbb_cells = Jupyter.notebook.get_cells();\n",
       "                for (var i = 0; i < nbb_cells.length; ++i) {\n",
       "                    if (nbb_cells[i].input_prompt_number == nbb_cell_id) {\n",
       "                        if (nbb_cells[i].get_text() == nbb_unformatted_code) {\n",
       "                             nbb_cells[i].set_text(nbb_formatted_code);\n",
       "                        }\n",
       "                        break;\n",
       "                    }\n",
       "                }\n",
       "            }, 500);\n",
       "            "
      ],
      "text/plain": [
       "<IPython.core.display.Javascript object>"
      ]
     },
     "metadata": {},
     "output_type": "display_data"
    }
   ],
   "source": [
    "finalcol = np.zeros((ytest.shape[0], 2))\n",
    "finalcol[:, 0] = p_k3_c0\n",
    "finalcol[:, 1] = p_k3_c1\n",
    "finalpred = np.argmax(finalcol, axis=1)\n",
    "pd2 = pd.DataFrame(finalcol, columns=[\"C0\", \"NC0\"])"
   ]
  },
  {
   "cell_type": "code",
   "execution_count": 45,
   "metadata": {},
   "outputs": [
    {
     "data": {
      "application/javascript": [
       "\n",
       "            setTimeout(function() {\n",
       "                var nbb_cell_id = 45;\n",
       "                var nbb_unformatted_code = \"finalcol = np.zeros((ytest.shape[0], 2))\\nfinalcol[:, 0] = p_k2_c0\\nfinalcol[:, 1] = p_k2_c1\\nfinalpred = np.argmax(finalcol, axis=1)\\npd1 = pd.DataFrame(finalcol, columns=[\\\"C1\\\", \\\"NC1\\\"])\";\n",
       "                var nbb_formatted_code = \"finalcol = np.zeros((ytest.shape[0], 2))\\nfinalcol[:, 0] = p_k2_c0\\nfinalcol[:, 1] = p_k2_c1\\nfinalpred = np.argmax(finalcol, axis=1)\\npd1 = pd.DataFrame(finalcol, columns=[\\\"C1\\\", \\\"NC1\\\"])\";\n",
       "                var nbb_cells = Jupyter.notebook.get_cells();\n",
       "                for (var i = 0; i < nbb_cells.length; ++i) {\n",
       "                    if (nbb_cells[i].input_prompt_number == nbb_cell_id) {\n",
       "                        if (nbb_cells[i].get_text() == nbb_unformatted_code) {\n",
       "                             nbb_cells[i].set_text(nbb_formatted_code);\n",
       "                        }\n",
       "                        break;\n",
       "                    }\n",
       "                }\n",
       "            }, 500);\n",
       "            "
      ],
      "text/plain": [
       "<IPython.core.display.Javascript object>"
      ]
     },
     "metadata": {},
     "output_type": "display_data"
    }
   ],
   "source": [
    "finalcol = np.zeros((ytest.shape[0], 2))\n",
    "finalcol[:, 0] = p_k2_c0\n",
    "finalcol[:, 1] = p_k2_c1\n",
    "finalpred = np.argmax(finalcol, axis=1)\n",
    "pd1 = pd.DataFrame(finalcol, columns=[\"C1\", \"NC1\"])"
   ]
  },
  {
   "cell_type": "code",
   "execution_count": 46,
   "metadata": {},
   "outputs": [
    {
     "data": {
      "application/javascript": [
       "\n",
       "            setTimeout(function() {\n",
       "                var nbb_cell_id = 46;\n",
       "                var nbb_unformatted_code = \"finalcol = np.zeros((ytest.shape[0], 2))\\nfinalcol[:, 0] = p_k1_c0\\nfinalcol[:, 1] = p_k1_c1\\nfinalpred = np.argmax(finalcol, axis=1)\\npd0 = pd.DataFrame(finalcol, columns=[\\\"C1\\\", \\\"NC1\\\"])\";\n",
       "                var nbb_formatted_code = \"finalcol = np.zeros((ytest.shape[0], 2))\\nfinalcol[:, 0] = p_k1_c0\\nfinalcol[:, 1] = p_k1_c1\\nfinalpred = np.argmax(finalcol, axis=1)\\npd0 = pd.DataFrame(finalcol, columns=[\\\"C1\\\", \\\"NC1\\\"])\";\n",
       "                var nbb_cells = Jupyter.notebook.get_cells();\n",
       "                for (var i = 0; i < nbb_cells.length; ++i) {\n",
       "                    if (nbb_cells[i].input_prompt_number == nbb_cell_id) {\n",
       "                        if (nbb_cells[i].get_text() == nbb_unformatted_code) {\n",
       "                             nbb_cells[i].set_text(nbb_formatted_code);\n",
       "                        }\n",
       "                        break;\n",
       "                    }\n",
       "                }\n",
       "            }, 500);\n",
       "            "
      ],
      "text/plain": [
       "<IPython.core.display.Javascript object>"
      ]
     },
     "metadata": {},
     "output_type": "display_data"
    }
   ],
   "source": [
    "finalcol = np.zeros((ytest.shape[0], 2))\n",
    "finalcol[:, 0] = p_k1_c0\n",
    "finalcol[:, 1] = p_k1_c1\n",
    "finalpred = np.argmax(finalcol, axis=1)\n",
    "pd0 = pd.DataFrame(finalcol, columns=[\"C1\", \"NC1\"])"
   ]
  },
  {
   "cell_type": "code",
   "execution_count": 47,
   "metadata": {
    "scrolled": true
   },
   "outputs": [
    {
     "data": {
      "text/html": [
       "<div>\n",
       "<style scoped>\n",
       "    .dataframe tbody tr th:only-of-type {\n",
       "        vertical-align: middle;\n",
       "    }\n",
       "\n",
       "    .dataframe tbody tr th {\n",
       "        vertical-align: top;\n",
       "    }\n",
       "\n",
       "    .dataframe thead th {\n",
       "        text-align: right;\n",
       "    }\n",
       "</style>\n",
       "<table border=\"1\" class=\"dataframe\">\n",
       "  <thead>\n",
       "    <tr style=\"text-align: right;\">\n",
       "      <th></th>\n",
       "      <th>C1</th>\n",
       "      <th>NC1</th>\n",
       "      <th>C1</th>\n",
       "      <th>NC1</th>\n",
       "      <th>C0</th>\n",
       "      <th>NC0</th>\n",
       "      <th>y</th>\n",
       "      <th>temppred</th>\n",
       "    </tr>\n",
       "  </thead>\n",
       "  <tbody>\n",
       "    <tr>\n",
       "      <th>0</th>\n",
       "      <td>0.171376</td>\n",
       "      <td>0.8700</td>\n",
       "      <td>0.233528</td>\n",
       "      <td>0.713428</td>\n",
       "      <td>0.820957</td>\n",
       "      <td>0.169043</td>\n",
       "      <td>2</td>\n",
       "      <td>2</td>\n",
       "    </tr>\n",
       "    <tr>\n",
       "      <th>1</th>\n",
       "      <td>0.176246</td>\n",
       "      <td>0.8586</td>\n",
       "      <td>0.306328</td>\n",
       "      <td>0.640629</td>\n",
       "      <td>0.663748</td>\n",
       "      <td>0.326252</td>\n",
       "      <td>2</td>\n",
       "      <td>2</td>\n",
       "    </tr>\n",
       "    <tr>\n",
       "      <th>2</th>\n",
       "      <td>0.216889</td>\n",
       "      <td>0.8586</td>\n",
       "      <td>0.423555</td>\n",
       "      <td>0.523401</td>\n",
       "      <td>0.388036</td>\n",
       "      <td>0.601964</td>\n",
       "      <td>2</td>\n",
       "      <td>1</td>\n",
       "    </tr>\n",
       "    <tr>\n",
       "      <th>3</th>\n",
       "      <td>0.173899</td>\n",
       "      <td>0.8586</td>\n",
       "      <td>0.237756</td>\n",
       "      <td>0.709201</td>\n",
       "      <td>0.788086</td>\n",
       "      <td>0.201914</td>\n",
       "      <td>2</td>\n",
       "      <td>2</td>\n",
       "    </tr>\n",
       "    <tr>\n",
       "      <th>4</th>\n",
       "      <td>0.181011</td>\n",
       "      <td>0.8130</td>\n",
       "      <td>0.252964</td>\n",
       "      <td>0.693993</td>\n",
       "      <td>0.736788</td>\n",
       "      <td>0.253212</td>\n",
       "      <td>2</td>\n",
       "      <td>2</td>\n",
       "    </tr>\n",
       "    <tr>\n",
       "      <th>...</th>\n",
       "      <td>...</td>\n",
       "      <td>...</td>\n",
       "      <td>...</td>\n",
       "      <td>...</td>\n",
       "      <td>...</td>\n",
       "      <td>...</td>\n",
       "      <td>...</td>\n",
       "      <td>...</td>\n",
       "    </tr>\n",
       "    <tr>\n",
       "      <th>595</th>\n",
       "      <td>0.579841</td>\n",
       "      <td>0.4482</td>\n",
       "      <td>0.238787</td>\n",
       "      <td>0.708169</td>\n",
       "      <td>0.096659</td>\n",
       "      <td>0.893341</td>\n",
       "      <td>0</td>\n",
       "      <td>0</td>\n",
       "    </tr>\n",
       "    <tr>\n",
       "      <th>596</th>\n",
       "      <td>0.310800</td>\n",
       "      <td>0.6990</td>\n",
       "      <td>0.417894</td>\n",
       "      <td>0.529063</td>\n",
       "      <td>0.135362</td>\n",
       "      <td>0.854638</td>\n",
       "      <td>0</td>\n",
       "      <td>1</td>\n",
       "    </tr>\n",
       "    <tr>\n",
       "      <th>597</th>\n",
       "      <td>0.588900</td>\n",
       "      <td>0.3228</td>\n",
       "      <td>0.220573</td>\n",
       "      <td>0.726383</td>\n",
       "      <td>0.096269</td>\n",
       "      <td>0.893731</td>\n",
       "      <td>0</td>\n",
       "      <td>0</td>\n",
       "    </tr>\n",
       "    <tr>\n",
       "      <th>598</th>\n",
       "      <td>0.540442</td>\n",
       "      <td>0.5622</td>\n",
       "      <td>0.286131</td>\n",
       "      <td>0.660826</td>\n",
       "      <td>0.102480</td>\n",
       "      <td>0.887520</td>\n",
       "      <td>0</td>\n",
       "      <td>0</td>\n",
       "    </tr>\n",
       "    <tr>\n",
       "      <th>599</th>\n",
       "      <td>0.362369</td>\n",
       "      <td>0.6534</td>\n",
       "      <td>0.391691</td>\n",
       "      <td>0.555265</td>\n",
       "      <td>0.111098</td>\n",
       "      <td>0.878902</td>\n",
       "      <td>0</td>\n",
       "      <td>1</td>\n",
       "    </tr>\n",
       "  </tbody>\n",
       "</table>\n",
       "<p>600 rows × 8 columns</p>\n",
       "</div>"
      ],
      "text/plain": [
       "           C1     NC1        C1       NC1        C0       NC0  y  temppred\n",
       "0    0.171376  0.8700  0.233528  0.713428  0.820957  0.169043  2         2\n",
       "1    0.176246  0.8586  0.306328  0.640629  0.663748  0.326252  2         2\n",
       "2    0.216889  0.8586  0.423555  0.523401  0.388036  0.601964  2         1\n",
       "3    0.173899  0.8586  0.237756  0.709201  0.788086  0.201914  2         2\n",
       "4    0.181011  0.8130  0.252964  0.693993  0.736788  0.253212  2         2\n",
       "..        ...     ...       ...       ...       ...       ... ..       ...\n",
       "595  0.579841  0.4482  0.238787  0.708169  0.096659  0.893341  0         0\n",
       "596  0.310800  0.6990  0.417894  0.529063  0.135362  0.854638  0         1\n",
       "597  0.588900  0.3228  0.220573  0.726383  0.096269  0.893731  0         0\n",
       "598  0.540442  0.5622  0.286131  0.660826  0.102480  0.887520  0         0\n",
       "599  0.362369  0.6534  0.391691  0.555265  0.111098  0.878902  0         1\n",
       "\n",
       "[600 rows x 8 columns]"
      ]
     },
     "execution_count": 47,
     "metadata": {},
     "output_type": "execute_result"
    },
    {
     "data": {
      "application/javascript": [
       "\n",
       "            setTimeout(function() {\n",
       "                var nbb_cell_id = 47;\n",
       "                var nbb_unformatted_code = \"temp = pd.concat([pd0, pd1, pd2], axis=1)\\ntemp[\\\"y\\\"] = ytest_original\\ntemp[\\\"temppred\\\"] = temppred\\ntemp\";\n",
       "                var nbb_formatted_code = \"temp = pd.concat([pd0, pd1, pd2], axis=1)\\ntemp[\\\"y\\\"] = ytest_original\\ntemp[\\\"temppred\\\"] = temppred\\ntemp\";\n",
       "                var nbb_cells = Jupyter.notebook.get_cells();\n",
       "                for (var i = 0; i < nbb_cells.length; ++i) {\n",
       "                    if (nbb_cells[i].input_prompt_number == nbb_cell_id) {\n",
       "                        if (nbb_cells[i].get_text() == nbb_unformatted_code) {\n",
       "                             nbb_cells[i].set_text(nbb_formatted_code);\n",
       "                        }\n",
       "                        break;\n",
       "                    }\n",
       "                }\n",
       "            }, 500);\n",
       "            "
      ],
      "text/plain": [
       "<IPython.core.display.Javascript object>"
      ]
     },
     "metadata": {},
     "output_type": "display_data"
    }
   ],
   "source": [
    "temp = pd.concat([pd0, pd1, pd2], axis=1)\n",
    "temp[\"y\"] = ytest_original\n",
    "temp[\"temppred\"] = temppred\n",
    "temp"
   ]
  },
  {
   "cell_type": "code",
   "execution_count": 48,
   "metadata": {},
   "outputs": [
    {
     "data": {
      "application/javascript": [
       "\n",
       "            setTimeout(function() {\n",
       "                var nbb_cell_id = 48;\n",
       "                var nbb_unformatted_code = \"temp.to_csv(\\\"temp.csv\\\", index=False)\";\n",
       "                var nbb_formatted_code = \"temp.to_csv(\\\"temp.csv\\\", index=False)\";\n",
       "                var nbb_cells = Jupyter.notebook.get_cells();\n",
       "                for (var i = 0; i < nbb_cells.length; ++i) {\n",
       "                    if (nbb_cells[i].input_prompt_number == nbb_cell_id) {\n",
       "                        if (nbb_cells[i].get_text() == nbb_unformatted_code) {\n",
       "                             nbb_cells[i].set_text(nbb_formatted_code);\n",
       "                        }\n",
       "                        break;\n",
       "                    }\n",
       "                }\n",
       "            }, 500);\n",
       "            "
      ],
      "text/plain": [
       "<IPython.core.display.Javascript object>"
      ]
     },
     "metadata": {},
     "output_type": "display_data"
    }
   ],
   "source": [
    "temp.to_csv(\"temp.csv\", index=False)"
   ]
  },
  {
   "cell_type": "code",
   "execution_count": null,
   "metadata": {},
   "outputs": [],
   "source": []
  },
  {
   "cell_type": "code",
   "execution_count": null,
   "metadata": {},
   "outputs": [],
   "source": []
  },
  {
   "cell_type": "code",
   "execution_count": null,
   "metadata": {},
   "outputs": [],
   "source": []
  },
  {
   "cell_type": "code",
   "execution_count": null,
   "metadata": {},
   "outputs": [],
   "source": []
  },
  {
   "cell_type": "code",
   "execution_count": 51,
   "metadata": {
    "scrolled": true
   },
   "outputs": [
    {
     "name": "stderr",
     "output_type": "stream",
     "text": [
      "C:\\ProgramData\\Anaconda3\\lib\\site-packages\\ipykernel_launcher.py:7: RuntimeWarning: divide by zero encountered in double_scalars\n",
      "  import sys\n"
     ]
    },
    {
     "data": {
      "image/png": "[encoded data removed]",
      "text/plain": [
       "<Figure size 432x288 with 1 Axes>"
      ]
     },
     "metadata": {
      "needs_background": "light"
     },
     "output_type": "display_data"
    },
    {
     "data": {
      "image/png": "[encoded data removed]",
      "text/plain": [
       "<Figure size 432x288 with 1 Axes>"
      ]
     },
     "metadata": {
      "needs_background": "light"
     },
     "output_type": "display_data"
    },
    {
     "data": {
      "text/plain": [
       "<Figure size 432x288 with 0 Axes>"
      ]
     },
     "metadata": {},
     "output_type": "display_data"
    },
    {
     "data": {
      "text/plain": [
       "<Figure size 432x288 with 0 Axes>"
      ]
     },
     "metadata": {},
     "output_type": "display_data"
    },
    {
     "data": {
      "text/plain": [
       "<Figure size 432x288 with 0 Axes>"
      ]
     },
     "metadata": {},
     "output_type": "display_data"
    },
    {
     "data": {
      "text/plain": [
       "<Figure size 432x288 with 0 Axes>"
      ]
     },
     "metadata": {},
     "output_type": "display_data"
    },
    {
     "data": {
      "text/plain": [
       "<Figure size 432x288 with 0 Axes>"
      ]
     },
     "metadata": {},
     "output_type": "display_data"
    },
    {
     "data": {
      "text/plain": [
       "<Figure size 432x288 with 0 Axes>"
      ]
     },
     "metadata": {},
     "output_type": "display_data"
    },
    {
     "data": {
      "text/plain": [
       "<Figure size 432x288 with 0 Axes>"
      ]
     },
     "metadata": {},
     "output_type": "display_data"
    },
    {
     "data": {
      "text/plain": [
       "<Figure size 432x288 with 0 Axes>"
      ]
     },
     "metadata": {},
     "output_type": "display_data"
    },
    {
     "data": {
      "text/plain": [
       "<Figure size 432x288 with 0 Axes>"
      ]
     },
     "metadata": {},
     "output_type": "display_data"
    },
    {
     "data": {
      "text/plain": [
       "<Figure size 432x288 with 0 Axes>"
      ]
     },
     "metadata": {},
     "output_type": "display_data"
    },
    {
     "data": {
      "text/plain": [
       "<Figure size 432x288 with 0 Axes>"
      ]
     },
     "metadata": {},
     "output_type": "display_data"
    },
    {
     "data": {
      "text/plain": [
       "<Figure size 432x288 with 0 Axes>"
      ]
     },
     "metadata": {},
     "output_type": "display_data"
    },
    {
     "data": {
      "text/plain": [
       "<Figure size 432x288 with 0 Axes>"
      ]
     },
     "metadata": {},
     "output_type": "display_data"
    },
    {
     "data": {
      "text/plain": [
       "<Figure size 432x288 with 0 Axes>"
      ]
     },
     "metadata": {},
     "output_type": "display_data"
    },
    {
     "data": {
      "text/plain": [
       "<Figure size 432x288 with 0 Axes>"
      ]
     },
     "metadata": {},
     "output_type": "display_data"
    },
    {
     "data": {
      "text/plain": [
       "<Figure size 432x288 with 0 Axes>"
      ]
     },
     "metadata": {},
     "output_type": "display_data"
    },
    {
     "data": {
      "text/plain": [
       "<Figure size 432x288 with 0 Axes>"
      ]
     },
     "metadata": {},
     "output_type": "display_data"
    },
    {
     "data": {
      "text/plain": [
       "<Figure size 432x288 with 0 Axes>"
      ]
     },
     "metadata": {},
     "output_type": "display_data"
    },
    {
     "data": {
      "text/plain": [
       "<Figure size 432x288 with 0 Axes>"
      ]
     },
     "metadata": {},
     "output_type": "display_data"
    },
    {
     "data": {
      "text/plain": [
       "<Figure size 432x288 with 0 Axes>"
      ]
     },
     "metadata": {},
     "output_type": "display_data"
    },
    {
     "data": {
      "text/plain": [
       "<Figure size 432x288 with 0 Axes>"
      ]
     },
     "metadata": {},
     "output_type": "display_data"
    },
    {
     "data": {
      "text/plain": [
       "<Figure size 432x288 with 0 Axes>"
      ]
     },
     "metadata": {},
     "output_type": "display_data"
    },
    {
     "data": {
      "text/plain": [
       "<Figure size 432x288 with 0 Axes>"
      ]
     },
     "metadata": {},
     "output_type": "display_data"
    },
    {
     "data": {
      "text/plain": [
       "<Figure size 432x288 with 0 Axes>"
      ]
     },
     "metadata": {},
     "output_type": "display_data"
    },
    {
     "data": {
      "text/plain": [
       "<Figure size 432x288 with 0 Axes>"
      ]
     },
     "metadata": {},
     "output_type": "display_data"
    },
    {
     "data": {
      "text/plain": [
       "<Figure size 432x288 with 0 Axes>"
      ]
     },
     "metadata": {},
     "output_type": "display_data"
    },
    {
     "data": {
      "text/plain": [
       "<Figure size 432x288 with 0 Axes>"
      ]
     },
     "metadata": {},
     "output_type": "display_data"
    },
    {
     "data": {
      "text/plain": [
       "<Figure size 432x288 with 0 Axes>"
      ]
     },
     "metadata": {},
     "output_type": "display_data"
    },
    {
     "data": {
      "text/plain": [
       "<Figure size 432x288 with 0 Axes>"
      ]
     },
     "metadata": {},
     "output_type": "display_data"
    },
    {
     "data": {
      "text/plain": [
       "<Figure size 432x288 with 0 Axes>"
      ]
     },
     "metadata": {},
     "output_type": "display_data"
    },
    {
     "data": {
      "text/plain": [
       "<Figure size 432x288 with 0 Axes>"
      ]
     },
     "metadata": {},
     "output_type": "display_data"
    },
    {
     "data": {
      "text/plain": [
       "<Figure size 432x288 with 0 Axes>"
      ]
     },
     "metadata": {},
     "output_type": "display_data"
    },
    {
     "data": {
      "text/plain": [
       "<Figure size 432x288 with 0 Axes>"
      ]
     },
     "metadata": {},
     "output_type": "display_data"
    },
    {
     "data": {
      "text/plain": [
       "<Figure size 432x288 with 0 Axes>"
      ]
     },
     "metadata": {},
     "output_type": "display_data"
    },
    {
     "data": {
      "text/plain": [
       "<Figure size 432x288 with 0 Axes>"
      ]
     },
     "metadata": {},
     "output_type": "display_data"
    },
    {
     "data": {
      "text/plain": [
       "<Figure size 432x288 with 0 Axes>"
      ]
     },
     "metadata": {},
     "output_type": "display_data"
    },
    {
     "data": {
      "text/plain": [
       "<Figure size 432x288 with 0 Axes>"
      ]
     },
     "metadata": {},
     "output_type": "display_data"
    },
    {
     "data": {
      "text/plain": [
       "<Figure size 432x288 with 0 Axes>"
      ]
     },
     "metadata": {},
     "output_type": "display_data"
    },
    {
     "data": {
      "text/plain": [
       "<Figure size 432x288 with 0 Axes>"
      ]
     },
     "metadata": {},
     "output_type": "display_data"
    },
    {
     "data": {
      "text/plain": [
       "<Figure size 432x288 with 0 Axes>"
      ]
     },
     "metadata": {},
     "output_type": "display_data"
    },
    {
     "data": {
      "text/plain": [
       "<Figure size 432x288 with 0 Axes>"
      ]
     },
     "metadata": {},
     "output_type": "display_data"
    },
    {
     "data": {
      "text/plain": [
       "<Figure size 432x288 with 0 Axes>"
      ]
     },
     "metadata": {},
     "output_type": "display_data"
    },
    {
     "data": {
      "text/plain": [
       "<Figure size 432x288 with 0 Axes>"
      ]
     },
     "metadata": {},
     "output_type": "display_data"
    },
    {
     "data": {
      "text/plain": [
       "<Figure size 432x288 with 0 Axes>"
      ]
     },
     "metadata": {},
     "output_type": "display_data"
    },
    {
     "data": {
      "text/plain": [
       "<Figure size 432x288 with 0 Axes>"
      ]
     },
     "metadata": {},
     "output_type": "display_data"
    },
    {
     "data": {
      "text/plain": [
       "<Figure size 432x288 with 0 Axes>"
      ]
     },
     "metadata": {},
     "output_type": "display_data"
    },
    {
     "data": {
      "text/plain": [
       "<Figure size 432x288 with 0 Axes>"
      ]
     },
     "metadata": {},
     "output_type": "display_data"
    },
    {
     "data": {
      "text/plain": [
       "<Figure size 432x288 with 0 Axes>"
      ]
     },
     "metadata": {},
     "output_type": "display_data"
    },
    {
     "data": {
      "text/plain": [
       "<Figure size 432x288 with 0 Axes>"
      ]
     },
     "metadata": {},
     "output_type": "display_data"
    },
    {
     "data": {
      "text/plain": [
       "<Figure size 432x288 with 0 Axes>"
      ]
     },
     "metadata": {},
     "output_type": "display_data"
    },
    {
     "data": {
      "text/plain": [
       "<Figure size 432x288 with 0 Axes>"
      ]
     },
     "metadata": {},
     "output_type": "display_data"
    },
    {
     "data": {
      "text/plain": [
       "<Figure size 432x288 with 0 Axes>"
      ]
     },
     "metadata": {},
     "output_type": "display_data"
    },
    {
     "data": {
      "text/plain": [
       "<Figure size 432x288 with 0 Axes>"
      ]
     },
     "metadata": {},
     "output_type": "display_data"
    },
    {
     "data": {
      "text/plain": [
       "<Figure size 432x288 with 0 Axes>"
      ]
     },
     "metadata": {},
     "output_type": "display_data"
    },
    {
     "data": {
      "text/plain": [
       "<Figure size 432x288 with 0 Axes>"
      ]
     },
     "metadata": {},
     "output_type": "display_data"
    },
    {
     "data": {
      "text/plain": [
       "<Figure size 432x288 with 0 Axes>"
      ]
     },
     "metadata": {},
     "output_type": "display_data"
    },
    {
     "data": {
      "text/plain": [
       "<Figure size 432x288 with 0 Axes>"
      ]
     },
     "metadata": {},
     "output_type": "display_data"
    },
    {
     "data": {
      "text/plain": [
       "<Figure size 432x288 with 0 Axes>"
      ]
     },
     "metadata": {},
     "output_type": "display_data"
    },
    {
     "data": {
      "text/plain": [
       "<Figure size 432x288 with 0 Axes>"
      ]
     },
     "metadata": {},
     "output_type": "display_data"
    },
    {
     "data": {
      "text/plain": [
       "<Figure size 432x288 with 0 Axes>"
      ]
     },
     "metadata": {},
     "output_type": "display_data"
    },
    {
     "data": {
      "text/plain": [
       "<Figure size 432x288 with 0 Axes>"
      ]
     },
     "metadata": {},
     "output_type": "display_data"
    },
    {
     "data": {
      "text/plain": [
       "<Figure size 432x288 with 0 Axes>"
      ]
     },
     "metadata": {},
     "output_type": "display_data"
    },
    {
     "data": {
      "text/plain": [
       "<Figure size 432x288 with 0 Axes>"
      ]
     },
     "metadata": {},
     "output_type": "display_data"
    },
    {
     "data": {
      "text/plain": [
       "<Figure size 432x288 with 0 Axes>"
      ]
     },
     "metadata": {},
     "output_type": "display_data"
    },
    {
     "data": {
      "text/plain": [
       "<Figure size 432x288 with 0 Axes>"
      ]
     },
     "metadata": {},
     "output_type": "display_data"
    },
    {
     "data": {
      "text/plain": [
       "<Figure size 432x288 with 0 Axes>"
      ]
     },
     "metadata": {},
     "output_type": "display_data"
    },
    {
     "data": {
      "text/plain": [
       "<Figure size 432x288 with 0 Axes>"
      ]
     },
     "metadata": {},
     "output_type": "display_data"
    },
    {
     "data": {
      "text/plain": [
       "<Figure size 432x288 with 0 Axes>"
      ]
     },
     "metadata": {},
     "output_type": "display_data"
    },
    {
     "data": {
      "text/plain": [
       "<Figure size 432x288 with 0 Axes>"
      ]
     },
     "metadata": {},
     "output_type": "display_data"
    },
    {
     "data": {
      "text/plain": [
       "<Figure size 432x288 with 0 Axes>"
      ]
     },
     "metadata": {},
     "output_type": "display_data"
    },
    {
     "data": {
      "text/plain": [
       "<Figure size 432x288 with 0 Axes>"
      ]
     },
     "metadata": {},
     "output_type": "display_data"
    },
    {
     "data": {
      "text/plain": [
       "<Figure size 432x288 with 0 Axes>"
      ]
     },
     "metadata": {},
     "output_type": "display_data"
    },
    {
     "data": {
      "text/plain": [
       "<Figure size 432x288 with 0 Axes>"
      ]
     },
     "metadata": {},
     "output_type": "display_data"
    },
    {
     "data": {
      "text/plain": [
       "<Figure size 432x288 with 0 Axes>"
      ]
     },
     "metadata": {},
     "output_type": "display_data"
    },
    {
     "data": {
      "text/plain": [
       "<Figure size 432x288 with 0 Axes>"
      ]
     },
     "metadata": {},
     "output_type": "display_data"
    },
    {
     "data": {
      "text/plain": [
       "<Figure size 432x288 with 0 Axes>"
      ]
     },
     "metadata": {},
     "output_type": "display_data"
    },
    {
     "data": {
      "text/plain": [
       "<Figure size 432x288 with 0 Axes>"
      ]
     },
     "metadata": {},
     "output_type": "display_data"
    },
    {
     "data": {
      "text/plain": [
       "<Figure size 432x288 with 0 Axes>"
      ]
     },
     "metadata": {},
     "output_type": "display_data"
    },
    {
     "data": {
      "text/plain": [
       "<Figure size 432x288 with 0 Axes>"
      ]
     },
     "metadata": {},
     "output_type": "display_data"
    },
    {
     "data": {
      "text/plain": [
       "<Figure size 432x288 with 0 Axes>"
      ]
     },
     "metadata": {},
     "output_type": "display_data"
    },
    {
     "data": {
      "text/plain": [
       "<Figure size 432x288 with 0 Axes>"
      ]
     },
     "metadata": {},
     "output_type": "display_data"
    },
    {
     "data": {
      "text/plain": [
       "<Figure size 432x288 with 0 Axes>"
      ]
     },
     "metadata": {},
     "output_type": "display_data"
    },
    {
     "data": {
      "text/plain": [
       "<Figure size 432x288 with 0 Axes>"
      ]
     },
     "metadata": {},
     "output_type": "display_data"
    },
    {
     "data": {
      "text/plain": [
       "<Figure size 432x288 with 0 Axes>"
      ]
     },
     "metadata": {},
     "output_type": "display_data"
    },
    {
     "data": {
      "text/plain": [
       "<Figure size 432x288 with 0 Axes>"
      ]
     },
     "metadata": {},
     "output_type": "display_data"
    },
    {
     "data": {
      "text/plain": [
       "<Figure size 432x288 with 0 Axes>"
      ]
     },
     "metadata": {},
     "output_type": "display_data"
    },
    {
     "data": {
      "text/plain": [
       "<Figure size 432x288 with 0 Axes>"
      ]
     },
     "metadata": {},
     "output_type": "display_data"
    },
    {
     "data": {
      "text/plain": [
       "<Figure size 432x288 with 0 Axes>"
      ]
     },
     "metadata": {},
     "output_type": "display_data"
    },
    {
     "data": {
      "text/plain": [
       "<Figure size 432x288 with 0 Axes>"
      ]
     },
     "metadata": {},
     "output_type": "display_data"
    },
    {
     "data": {
      "text/plain": [
       "<Figure size 432x288 with 0 Axes>"
      ]
     },
     "metadata": {},
     "output_type": "display_data"
    },
    {
     "data": {
      "text/plain": [
       "<Figure size 432x288 with 0 Axes>"
      ]
     },
     "metadata": {},
     "output_type": "display_data"
    },
    {
     "data": {
      "text/plain": [
       "<Figure size 432x288 with 0 Axes>"
      ]
     },
     "metadata": {},
     "output_type": "display_data"
    },
    {
     "data": {
      "text/plain": [
       "<Figure size 432x288 with 0 Axes>"
      ]
     },
     "metadata": {},
     "output_type": "display_data"
    },
    {
     "data": {
      "text/plain": [
       "<Figure size 432x288 with 0 Axes>"
      ]
     },
     "metadata": {},
     "output_type": "display_data"
    },
    {
     "data": {
      "text/plain": [
       "<Figure size 432x288 with 0 Axes>"
      ]
     },
     "metadata": {},
     "output_type": "display_data"
    },
    {
     "data": {
      "text/plain": [
       "<Figure size 432x288 with 0 Axes>"
      ]
     },
     "metadata": {},
     "output_type": "display_data"
    },
    {
     "data": {
      "text/plain": [
       "<Figure size 432x288 with 0 Axes>"
      ]
     },
     "metadata": {},
     "output_type": "display_data"
    },
    {
     "data": {
      "text/plain": [
       "<Figure size 432x288 with 0 Axes>"
      ]
     },
     "metadata": {},
     "output_type": "display_data"
    },
    {
     "data": {
      "text/plain": [
       "<Figure size 432x288 with 0 Axes>"
      ]
     },
     "metadata": {},
     "output_type": "display_data"
    },
    {
     "data": {
      "text/plain": [
       "<Figure size 432x288 with 0 Axes>"
      ]
     },
     "metadata": {},
     "output_type": "display_data"
    },
    {
     "data": {
      "text/plain": [
       "<Figure size 432x288 with 0 Axes>"
      ]
     },
     "metadata": {},
     "output_type": "display_data"
    },
    {
     "data": {
      "text/plain": [
       "<Figure size 432x288 with 0 Axes>"
      ]
     },
     "metadata": {},
     "output_type": "display_data"
    },
    {
     "data": {
      "text/plain": [
       "<Figure size 432x288 with 0 Axes>"
      ]
     },
     "metadata": {},
     "output_type": "display_data"
    },
    {
     "data": {
      "text/plain": [
       "<Figure size 432x288 with 0 Axes>"
      ]
     },
     "metadata": {},
     "output_type": "display_data"
    },
    {
     "data": {
      "text/plain": [
       "<Figure size 432x288 with 0 Axes>"
      ]
     },
     "metadata": {},
     "output_type": "display_data"
    },
    {
     "data": {
      "text/plain": [
       "<Figure size 432x288 with 0 Axes>"
      ]
     },
     "metadata": {},
     "output_type": "display_data"
    },
    {
     "data": {
      "text/plain": [
       "<Figure size 432x288 with 0 Axes>"
      ]
     },
     "metadata": {},
     "output_type": "display_data"
    },
    {
     "data": {
      "text/plain": [
       "<Figure size 432x288 with 0 Axes>"
      ]
     },
     "metadata": {},
     "output_type": "display_data"
    },
    {
     "data": {
      "text/plain": [
       "<Figure size 432x288 with 0 Axes>"
      ]
     },
     "metadata": {},
     "output_type": "display_data"
    },
    {
     "data": {
      "text/plain": [
       "<Figure size 432x288 with 0 Axes>"
      ]
     },
     "metadata": {},
     "output_type": "display_data"
    },
    {
     "data": {
      "text/plain": [
       "<Figure size 432x288 with 0 Axes>"
      ]
     },
     "metadata": {},
     "output_type": "display_data"
    },
    {
     "data": {
      "text/plain": [
       "<Figure size 432x288 with 0 Axes>"
      ]
     },
     "metadata": {},
     "output_type": "display_data"
    },
    {
     "data": {
      "text/plain": [
       "<Figure size 432x288 with 0 Axes>"
      ]
     },
     "metadata": {},
     "output_type": "display_data"
    },
    {
     "data": {
      "text/plain": [
       "<Figure size 432x288 with 0 Axes>"
      ]
     },
     "metadata": {},
     "output_type": "display_data"
    },
    {
     "data": {
      "text/plain": [
       "<Figure size 432x288 with 0 Axes>"
      ]
     },
     "metadata": {},
     "output_type": "display_data"
    },
    {
     "data": {
      "text/plain": [
       "<Figure size 432x288 with 0 Axes>"
      ]
     },
     "metadata": {},
     "output_type": "display_data"
    },
    {
     "data": {
      "text/plain": [
       "<Figure size 432x288 with 0 Axes>"
      ]
     },
     "metadata": {},
     "output_type": "display_data"
    },
    {
     "data": {
      "text/plain": [
       "<Figure size 432x288 with 0 Axes>"
      ]
     },
     "metadata": {},
     "output_type": "display_data"
    },
    {
     "data": {
      "text/plain": [
       "<Figure size 432x288 with 0 Axes>"
      ]
     },
     "metadata": {},
     "output_type": "display_data"
    },
    {
     "data": {
      "text/plain": [
       "<Figure size 432x288 with 0 Axes>"
      ]
     },
     "metadata": {},
     "output_type": "display_data"
    },
    {
     "data": {
      "text/plain": [
       "<Figure size 432x288 with 0 Axes>"
      ]
     },
     "metadata": {},
     "output_type": "display_data"
    },
    {
     "data": {
      "text/plain": [
       "<Figure size 432x288 with 0 Axes>"
      ]
     },
     "metadata": {},
     "output_type": "display_data"
    },
    {
     "data": {
      "text/plain": [
       "<Figure size 432x288 with 0 Axes>"
      ]
     },
     "metadata": {},
     "output_type": "display_data"
    },
    {
     "data": {
      "text/plain": [
       "<Figure size 432x288 with 0 Axes>"
      ]
     },
     "metadata": {},
     "output_type": "display_data"
    },
    {
     "data": {
      "text/plain": [
       "<Figure size 432x288 with 0 Axes>"
      ]
     },
     "metadata": {},
     "output_type": "display_data"
    },
    {
     "data": {
      "text/plain": [
       "<Figure size 432x288 with 0 Axes>"
      ]
     },
     "metadata": {},
     "output_type": "display_data"
    },
    {
     "data": {
      "text/plain": [
       "<Figure size 432x288 with 0 Axes>"
      ]
     },
     "metadata": {},
     "output_type": "display_data"
    },
    {
     "data": {
      "text/plain": [
       "<Figure size 432x288 with 0 Axes>"
      ]
     },
     "metadata": {},
     "output_type": "display_data"
    },
    {
     "data": {
      "text/plain": [
       "<Figure size 432x288 with 0 Axes>"
      ]
     },
     "metadata": {},
     "output_type": "display_data"
    },
    {
     "data": {
      "text/plain": [
       "<Figure size 432x288 with 0 Axes>"
      ]
     },
     "metadata": {},
     "output_type": "display_data"
    },
    {
     "data": {
      "text/plain": [
       "<Figure size 432x288 with 0 Axes>"
      ]
     },
     "metadata": {},
     "output_type": "display_data"
    },
    {
     "data": {
      "text/plain": [
       "<Figure size 432x288 with 0 Axes>"
      ]
     },
     "metadata": {},
     "output_type": "display_data"
    },
    {
     "data": {
      "text/plain": [
       "<Figure size 432x288 with 0 Axes>"
      ]
     },
     "metadata": {},
     "output_type": "display_data"
    },
    {
     "data": {
      "text/plain": [
       "<Figure size 432x288 with 0 Axes>"
      ]
     },
     "metadata": {},
     "output_type": "display_data"
    },
    {
     "data": {
      "text/plain": [
       "<Figure size 432x288 with 0 Axes>"
      ]
     },
     "metadata": {},
     "output_type": "display_data"
    },
    {
     "data": {
      "text/plain": [
       "<Figure size 432x288 with 0 Axes>"
      ]
     },
     "metadata": {},
     "output_type": "display_data"
    },
    {
     "data": {
      "text/plain": [
       "<Figure size 432x288 with 0 Axes>"
      ]
     },
     "metadata": {},
     "output_type": "display_data"
    },
    {
     "data": {
      "text/plain": [
       "<Figure size 432x288 with 0 Axes>"
      ]
     },
     "metadata": {},
     "output_type": "display_data"
    },
    {
     "data": {
      "text/plain": [
       "<Figure size 432x288 with 0 Axes>"
      ]
     },
     "metadata": {},
     "output_type": "display_data"
    },
    {
     "data": {
      "text/plain": [
       "<Figure size 432x288 with 0 Axes>"
      ]
     },
     "metadata": {},
     "output_type": "display_data"
    },
    {
     "data": {
      "text/plain": [
       "<Figure size 432x288 with 0 Axes>"
      ]
     },
     "metadata": {},
     "output_type": "display_data"
    },
    {
     "data": {
      "text/plain": [
       "<Figure size 432x288 with 0 Axes>"
      ]
     },
     "metadata": {},
     "output_type": "display_data"
    },
    {
     "data": {
      "text/plain": [
       "<Figure size 432x288 with 0 Axes>"
      ]
     },
     "metadata": {},
     "output_type": "display_data"
    },
    {
     "data": {
      "text/plain": [
       "<Figure size 432x288 with 0 Axes>"
      ]
     },
     "metadata": {},
     "output_type": "display_data"
    },
    {
     "data": {
      "text/plain": [
       "<Figure size 432x288 with 0 Axes>"
      ]
     },
     "metadata": {},
     "output_type": "display_data"
    },
    {
     "data": {
      "text/plain": [
       "<Figure size 432x288 with 0 Axes>"
      ]
     },
     "metadata": {},
     "output_type": "display_data"
    },
    {
     "data": {
      "text/plain": [
       "<Figure size 432x288 with 0 Axes>"
      ]
     },
     "metadata": {},
     "output_type": "display_data"
    },
    {
     "data": {
      "text/plain": [
       "<Figure size 432x288 with 0 Axes>"
      ]
     },
     "metadata": {},
     "output_type": "display_data"
    },
    {
     "data": {
      "text/plain": [
       "<Figure size 432x288 with 0 Axes>"
      ]
     },
     "metadata": {},
     "output_type": "display_data"
    },
    {
     "data": {
      "text/plain": [
       "<Figure size 432x288 with 0 Axes>"
      ]
     },
     "metadata": {},
     "output_type": "display_data"
    },
    {
     "data": {
      "text/plain": [
       "<Figure size 432x288 with 0 Axes>"
      ]
     },
     "metadata": {},
     "output_type": "display_data"
    },
    {
     "data": {
      "text/plain": [
       "<Figure size 432x288 with 0 Axes>"
      ]
     },
     "metadata": {},
     "output_type": "display_data"
    },
    {
     "data": {
      "text/plain": [
       "<Figure size 432x288 with 0 Axes>"
      ]
     },
     "metadata": {},
     "output_type": "display_data"
    },
    {
     "data": {
      "text/plain": [
       "<Figure size 432x288 with 0 Axes>"
      ]
     },
     "metadata": {},
     "output_type": "display_data"
    },
    {
     "data": {
      "text/plain": [
       "<Figure size 432x288 with 0 Axes>"
      ]
     },
     "metadata": {},
     "output_type": "display_data"
    },
    {
     "data": {
      "text/plain": [
       "<Figure size 432x288 with 0 Axes>"
      ]
     },
     "metadata": {},
     "output_type": "display_data"
    },
    {
     "data": {
      "text/plain": [
       "<Figure size 432x288 with 0 Axes>"
      ]
     },
     "metadata": {},
     "output_type": "display_data"
    },
    {
     "data": {
      "text/plain": [
       "<Figure size 432x288 with 0 Axes>"
      ]
     },
     "metadata": {},
     "output_type": "display_data"
    },
    {
     "data": {
      "text/plain": [
       "<Figure size 432x288 with 0 Axes>"
      ]
     },
     "metadata": {},
     "output_type": "display_data"
    },
    {
     "data": {
      "text/plain": [
       "<Figure size 432x288 with 0 Axes>"
      ]
     },
     "metadata": {},
     "output_type": "display_data"
    },
    {
     "data": {
      "text/plain": [
       "<Figure size 432x288 with 0 Axes>"
      ]
     },
     "metadata": {},
     "output_type": "display_data"
    },
    {
     "data": {
      "text/plain": [
       "<Figure size 432x288 with 0 Axes>"
      ]
     },
     "metadata": {},
     "output_type": "display_data"
    },
    {
     "data": {
      "text/plain": [
       "<Figure size 432x288 with 0 Axes>"
      ]
     },
     "metadata": {},
     "output_type": "display_data"
    },
    {
     "data": {
      "text/plain": [
       "<Figure size 432x288 with 0 Axes>"
      ]
     },
     "metadata": {},
     "output_type": "display_data"
    },
    {
     "data": {
      "text/plain": [
       "<Figure size 432x288 with 0 Axes>"
      ]
     },
     "metadata": {},
     "output_type": "display_data"
    },
    {
     "data": {
      "text/plain": [
       "<Figure size 432x288 with 0 Axes>"
      ]
     },
     "metadata": {},
     "output_type": "display_data"
    },
    {
     "data": {
      "text/plain": [
       "<Figure size 432x288 with 0 Axes>"
      ]
     },
     "metadata": {},
     "output_type": "display_data"
    },
    {
     "data": {
      "text/plain": [
       "<Figure size 432x288 with 0 Axes>"
      ]
     },
     "metadata": {},
     "output_type": "display_data"
    },
    {
     "data": {
      "text/plain": [
       "<Figure size 432x288 with 0 Axes>"
      ]
     },
     "metadata": {},
     "output_type": "display_data"
    },
    {
     "data": {
      "text/plain": [
       "<Figure size 432x288 with 0 Axes>"
      ]
     },
     "metadata": {},
     "output_type": "display_data"
    },
    {
     "data": {
      "text/plain": [
       "<Figure size 432x288 with 0 Axes>"
      ]
     },
     "metadata": {},
     "output_type": "display_data"
    },
    {
     "data": {
      "text/plain": [
       "<Figure size 432x288 with 0 Axes>"
      ]
     },
     "metadata": {},
     "output_type": "display_data"
    },
    {
     "data": {
      "text/plain": [
       "<Figure size 432x288 with 0 Axes>"
      ]
     },
     "metadata": {},
     "output_type": "display_data"
    },
    {
     "data": {
      "text/plain": [
       "<Figure size 432x288 with 0 Axes>"
      ]
     },
     "metadata": {},
     "output_type": "display_data"
    },
    {
     "data": {
      "text/plain": [
       "<Figure size 432x288 with 0 Axes>"
      ]
     },
     "metadata": {},
     "output_type": "display_data"
    },
    {
     "data": {
      "text/plain": [
       "<Figure size 432x288 with 0 Axes>"
      ]
     },
     "metadata": {},
     "output_type": "display_data"
    },
    {
     "data": {
      "text/plain": [
       "<Figure size 432x288 with 0 Axes>"
      ]
     },
     "metadata": {},
     "output_type": "display_data"
    },
    {
     "data": {
      "text/plain": [
       "<Figure size 432x288 with 0 Axes>"
      ]
     },
     "metadata": {},
     "output_type": "display_data"
    },
    {
     "data": {
      "text/plain": [
       "<Figure size 432x288 with 0 Axes>"
      ]
     },
     "metadata": {},
     "output_type": "display_data"
    },
    {
     "data": {
      "text/plain": [
       "<Figure size 432x288 with 0 Axes>"
      ]
     },
     "metadata": {},
     "output_type": "display_data"
    },
    {
     "data": {
      "text/plain": [
       "<Figure size 432x288 with 0 Axes>"
      ]
     },
     "metadata": {},
     "output_type": "display_data"
    },
    {
     "data": {
      "text/plain": [
       "<Figure size 432x288 with 0 Axes>"
      ]
     },
     "metadata": {},
     "output_type": "display_data"
    },
    {
     "data": {
      "text/plain": [
       "<Figure size 432x288 with 0 Axes>"
      ]
     },
     "metadata": {},
     "output_type": "display_data"
    },
    {
     "data": {
      "text/plain": [
       "<Figure size 432x288 with 0 Axes>"
      ]
     },
     "metadata": {},
     "output_type": "display_data"
    },
    {
     "data": {
      "text/plain": [
       "<Figure size 432x288 with 0 Axes>"
      ]
     },
     "metadata": {},
     "output_type": "display_data"
    },
    {
     "data": {
      "text/plain": [
       "<Figure size 432x288 with 0 Axes>"
      ]
     },
     "metadata": {},
     "output_type": "display_data"
    },
    {
     "data": {
      "text/plain": [
       "<Figure size 432x288 with 0 Axes>"
      ]
     },
     "metadata": {},
     "output_type": "display_data"
    },
    {
     "data": {
      "text/plain": [
       "<Figure size 432x288 with 0 Axes>"
      ]
     },
     "metadata": {},
     "output_type": "display_data"
    },
    {
     "data": {
      "text/plain": [
       "<Figure size 432x288 with 0 Axes>"
      ]
     },
     "metadata": {},
     "output_type": "display_data"
    },
    {
     "data": {
      "text/plain": [
       "<Figure size 432x288 with 0 Axes>"
      ]
     },
     "metadata": {},
     "output_type": "display_data"
    },
    {
     "data": {
      "text/plain": [
       "<Figure size 432x288 with 0 Axes>"
      ]
     },
     "metadata": {},
     "output_type": "display_data"
    },
    {
     "data": {
      "text/plain": [
       "<Figure size 432x288 with 0 Axes>"
      ]
     },
     "metadata": {},
     "output_type": "display_data"
    },
    {
     "data": {
      "text/plain": [
       "<Figure size 432x288 with 0 Axes>"
      ]
     },
     "metadata": {},
     "output_type": "display_data"
    },
    {
     "data": {
      "text/plain": [
       "<Figure size 432x288 with 0 Axes>"
      ]
     },
     "metadata": {},
     "output_type": "display_data"
    },
    {
     "data": {
      "text/plain": [
       "<Figure size 432x288 with 0 Axes>"
      ]
     },
     "metadata": {},
     "output_type": "display_data"
    },
    {
     "data": {
      "text/plain": [
       "<Figure size 432x288 with 0 Axes>"
      ]
     },
     "metadata": {},
     "output_type": "display_data"
    },
    {
     "data": {
      "text/plain": [
       "<Figure size 432x288 with 0 Axes>"
      ]
     },
     "metadata": {},
     "output_type": "display_data"
    },
    {
     "data": {
      "text/plain": [
       "<Figure size 432x288 with 0 Axes>"
      ]
     },
     "metadata": {},
     "output_type": "display_data"
    },
    {
     "data": {
      "text/plain": [
       "<Figure size 432x288 with 0 Axes>"
      ]
     },
     "metadata": {},
     "output_type": "display_data"
    },
    {
     "data": {
      "text/plain": [
       "<Figure size 432x288 with 0 Axes>"
      ]
     },
     "metadata": {},
     "output_type": "display_data"
    },
    {
     "data": {
      "text/plain": [
       "<Figure size 432x288 with 0 Axes>"
      ]
     },
     "metadata": {},
     "output_type": "display_data"
    },
    {
     "data": {
      "text/plain": [
       "<Figure size 432x288 with 0 Axes>"
      ]
     },
     "metadata": {},
     "output_type": "display_data"
    },
    {
     "data": {
      "text/plain": [
       "<Figure size 432x288 with 0 Axes>"
      ]
     },
     "metadata": {},
     "output_type": "display_data"
    },
    {
     "data": {
      "text/plain": [
       "<Figure size 432x288 with 0 Axes>"
      ]
     },
     "metadata": {},
     "output_type": "display_data"
    },
    {
     "data": {
      "text/plain": [
       "<Figure size 432x288 with 0 Axes>"
      ]
     },
     "metadata": {},
     "output_type": "display_data"
    },
    {
     "data": {
      "text/plain": [
       "<Figure size 432x288 with 0 Axes>"
      ]
     },
     "metadata": {},
     "output_type": "display_data"
    },
    {
     "data": {
      "text/plain": [
       "<Figure size 432x288 with 0 Axes>"
      ]
     },
     "metadata": {},
     "output_type": "display_data"
    },
    {
     "data": {
      "text/plain": [
       "<Figure size 432x288 with 0 Axes>"
      ]
     },
     "metadata": {},
     "output_type": "display_data"
    },
    {
     "data": {
      "text/plain": [
       "<Figure size 432x288 with 0 Axes>"
      ]
     },
     "metadata": {},
     "output_type": "display_data"
    },
    {
     "data": {
      "text/plain": [
       "<Figure size 432x288 with 0 Axes>"
      ]
     },
     "metadata": {},
     "output_type": "display_data"
    },
    {
     "data": {
      "text/plain": [
       "<Figure size 432x288 with 0 Axes>"
      ]
     },
     "metadata": {},
     "output_type": "display_data"
    },
    {
     "data": {
      "text/plain": [
       "<Figure size 432x288 with 0 Axes>"
      ]
     },
     "metadata": {},
     "output_type": "display_data"
    },
    {
     "data": {
      "text/plain": [
       "<Figure size 432x288 with 0 Axes>"
      ]
     },
     "metadata": {},
     "output_type": "display_data"
    },
    {
     "data": {
      "text/plain": [
       "<Figure size 432x288 with 0 Axes>"
      ]
     },
     "metadata": {},
     "output_type": "display_data"
    },
    {
     "data": {
      "text/plain": [
       "<Figure size 432x288 with 0 Axes>"
      ]
     },
     "metadata": {},
     "output_type": "display_data"
    },
    {
     "data": {
      "text/plain": [
       "<Figure size 432x288 with 0 Axes>"
      ]
     },
     "metadata": {},
     "output_type": "display_data"
    },
    {
     "data": {
      "text/plain": [
       "<Figure size 432x288 with 0 Axes>"
      ]
     },
     "metadata": {},
     "output_type": "display_data"
    },
    {
     "data": {
      "text/plain": [
       "<Figure size 432x288 with 0 Axes>"
      ]
     },
     "metadata": {},
     "output_type": "display_data"
    },
    {
     "data": {
      "text/plain": [
       "<Figure size 432x288 with 0 Axes>"
      ]
     },
     "metadata": {},
     "output_type": "display_data"
    },
    {
     "data": {
      "text/plain": [
       "<Figure size 432x288 with 0 Axes>"
      ]
     },
     "metadata": {},
     "output_type": "display_data"
    },
    {
     "data": {
      "text/plain": [
       "<Figure size 432x288 with 0 Axes>"
      ]
     },
     "metadata": {},
     "output_type": "display_data"
    },
    {
     "data": {
      "text/plain": [
       "<Figure size 432x288 with 0 Axes>"
      ]
     },
     "metadata": {},
     "output_type": "display_data"
    },
    {
     "data": {
      "text/plain": [
       "<Figure size 432x288 with 0 Axes>"
      ]
     },
     "metadata": {},
     "output_type": "display_data"
    },
    {
     "data": {
      "text/plain": [
       "<Figure size 432x288 with 0 Axes>"
      ]
     },
     "metadata": {},
     "output_type": "display_data"
    },
    {
     "data": {
      "text/plain": [
       "<Figure size 432x288 with 0 Axes>"
      ]
     },
     "metadata": {},
     "output_type": "display_data"
    },
    {
     "data": {
      "text/plain": [
       "<Figure size 432x288 with 0 Axes>"
      ]
     },
     "metadata": {},
     "output_type": "display_data"
    },
    {
     "data": {
      "text/plain": [
       "<Figure size 432x288 with 0 Axes>"
      ]
     },
     "metadata": {},
     "output_type": "display_data"
    },
    {
     "data": {
      "text/plain": [
       "<Figure size 432x288 with 0 Axes>"
      ]
     },
     "metadata": {},
     "output_type": "display_data"
    },
    {
     "data": {
      "text/plain": [
       "<Figure size 432x288 with 0 Axes>"
      ]
     },
     "metadata": {},
     "output_type": "display_data"
    },
    {
     "data": {
      "text/plain": [
       "<Figure size 432x288 with 0 Axes>"
      ]
     },
     "metadata": {},
     "output_type": "display_data"
    },
    {
     "data": {
      "text/plain": [
       "<Figure size 432x288 with 0 Axes>"
      ]
     },
     "metadata": {},
     "output_type": "display_data"
    },
    {
     "data": {
      "text/plain": [
       "<Figure size 432x288 with 0 Axes>"
      ]
     },
     "metadata": {},
     "output_type": "display_data"
    },
    {
     "data": {
      "text/plain": [
       "<Figure size 432x288 with 0 Axes>"
      ]
     },
     "metadata": {},
     "output_type": "display_data"
    },
    {
     "data": {
      "text/plain": [
       "<Figure size 432x288 with 0 Axes>"
      ]
     },
     "metadata": {},
     "output_type": "display_data"
    },
    {
     "data": {
      "text/plain": [
       "<Figure size 432x288 with 0 Axes>"
      ]
     },
     "metadata": {},
     "output_type": "display_data"
    },
    {
     "data": {
      "text/plain": [
       "<Figure size 432x288 with 0 Axes>"
      ]
     },
     "metadata": {},
     "output_type": "display_data"
    },
    {
     "data": {
      "text/plain": [
       "<Figure size 432x288 with 0 Axes>"
      ]
     },
     "metadata": {},
     "output_type": "display_data"
    },
    {
     "data": {
      "text/plain": [
       "<Figure size 432x288 with 0 Axes>"
      ]
     },
     "metadata": {},
     "output_type": "display_data"
    },
    {
     "data": {
      "text/plain": [
       "<Figure size 432x288 with 0 Axes>"
      ]
     },
     "metadata": {},
     "output_type": "display_data"
    },
    {
     "data": {
      "text/plain": [
       "<Figure size 432x288 with 0 Axes>"
      ]
     },
     "metadata": {},
     "output_type": "display_data"
    },
    {
     "data": {
      "text/plain": [
       "<Figure size 432x288 with 0 Axes>"
      ]
     },
     "metadata": {},
     "output_type": "display_data"
    },
    {
     "data": {
      "text/plain": [
       "<Figure size 432x288 with 0 Axes>"
      ]
     },
     "metadata": {},
     "output_type": "display_data"
    },
    {
     "data": {
      "text/plain": [
       "<Figure size 432x288 with 0 Axes>"
      ]
     },
     "metadata": {},
     "output_type": "display_data"
    },
    {
     "data": {
      "text/plain": [
       "<Figure size 432x288 with 0 Axes>"
      ]
     },
     "metadata": {},
     "output_type": "display_data"
    },
    {
     "data": {
      "text/plain": [
       "<Figure size 432x288 with 0 Axes>"
      ]
     },
     "metadata": {},
     "output_type": "display_data"
    },
    {
     "data": {
      "text/plain": [
       "<Figure size 432x288 with 0 Axes>"
      ]
     },
     "metadata": {},
     "output_type": "display_data"
    },
    {
     "data": {
      "text/plain": [
       "<Figure size 432x288 with 0 Axes>"
      ]
     },
     "metadata": {},
     "output_type": "display_data"
    },
    {
     "data": {
      "text/plain": [
       "<Figure size 432x288 with 0 Axes>"
      ]
     },
     "metadata": {},
     "output_type": "display_data"
    },
    {
     "data": {
      "text/plain": [
       "<Figure size 432x288 with 0 Axes>"
      ]
     },
     "metadata": {},
     "output_type": "display_data"
    },
    {
     "data": {
      "text/plain": [
       "<Figure size 432x288 with 0 Axes>"
      ]
     },
     "metadata": {},
     "output_type": "display_data"
    },
    {
     "data": {
      "text/plain": [
       "<Figure size 432x288 with 0 Axes>"
      ]
     },
     "metadata": {},
     "output_type": "display_data"
    },
    {
     "data": {
      "text/plain": [
       "<Figure size 432x288 with 0 Axes>"
      ]
     },
     "metadata": {},
     "output_type": "display_data"
    },
    {
     "data": {
      "text/plain": [
       "<Figure size 432x288 with 0 Axes>"
      ]
     },
     "metadata": {},
     "output_type": "display_data"
    },
    {
     "data": {
      "text/plain": [
       "<Figure size 432x288 with 0 Axes>"
      ]
     },
     "metadata": {},
     "output_type": "display_data"
    },
    {
     "data": {
      "text/plain": [
       "<Figure size 432x288 with 0 Axes>"
      ]
     },
     "metadata": {},
     "output_type": "display_data"
    },
    {
     "data": {
      "text/plain": [
       "<Figure size 432x288 with 0 Axes>"
      ]
     },
     "metadata": {},
     "output_type": "display_data"
    },
    {
     "data": {
      "text/plain": [
       "<Figure size 432x288 with 0 Axes>"
      ]
     },
     "metadata": {},
     "output_type": "display_data"
    },
    {
     "data": {
      "text/plain": [
       "<Figure size 432x288 with 0 Axes>"
      ]
     },
     "metadata": {},
     "output_type": "display_data"
    },
    {
     "data": {
      "text/plain": [
       "<Figure size 432x288 with 0 Axes>"
      ]
     },
     "metadata": {},
     "output_type": "display_data"
    },
    {
     "data": {
      "text/plain": [
       "<Figure size 432x288 with 0 Axes>"
      ]
     },
     "metadata": {},
     "output_type": "display_data"
    },
    {
     "data": {
      "text/plain": [
       "<Figure size 432x288 with 0 Axes>"
      ]
     },
     "metadata": {},
     "output_type": "display_data"
    },
    {
     "data": {
      "text/plain": [
       "<Figure size 432x288 with 0 Axes>"
      ]
     },
     "metadata": {},
     "output_type": "display_data"
    },
    {
     "data": {
      "text/plain": [
       "<Figure size 432x288 with 0 Axes>"
      ]
     },
     "metadata": {},
     "output_type": "display_data"
    },
    {
     "data": {
      "text/plain": [
       "<Figure size 432x288 with 0 Axes>"
      ]
     },
     "metadata": {},
     "output_type": "display_data"
    },
    {
     "data": {
      "text/plain": [
       "<Figure size 432x288 with 0 Axes>"
      ]
     },
     "metadata": {},
     "output_type": "display_data"
    },
    {
     "data": {
      "text/plain": [
       "<Figure size 432x288 with 0 Axes>"
      ]
     },
     "metadata": {},
     "output_type": "display_data"
    },
    {
     "data": {
      "text/plain": [
       "<Figure size 432x288 with 0 Axes>"
      ]
     },
     "metadata": {},
     "output_type": "display_data"
    },
    {
     "data": {
      "text/plain": [
       "<Figure size 432x288 with 0 Axes>"
      ]
     },
     "metadata": {},
     "output_type": "display_data"
    },
    {
     "data": {
      "text/plain": [
       "<Figure size 432x288 with 0 Axes>"
      ]
     },
     "metadata": {},
     "output_type": "display_data"
    },
    {
     "data": {
      "text/plain": [
       "<Figure size 432x288 with 0 Axes>"
      ]
     },
     "metadata": {},
     "output_type": "display_data"
    },
    {
     "data": {
      "text/plain": [
       "<Figure size 432x288 with 0 Axes>"
      ]
     },
     "metadata": {},
     "output_type": "display_data"
    },
    {
     "data": {
      "text/plain": [
       "<Figure size 432x288 with 0 Axes>"
      ]
     },
     "metadata": {},
     "output_type": "display_data"
    },
    {
     "data": {
      "text/plain": [
       "<Figure size 432x288 with 0 Axes>"
      ]
     },
     "metadata": {},
     "output_type": "display_data"
    },
    {
     "data": {
      "text/plain": [
       "<Figure size 432x288 with 0 Axes>"
      ]
     },
     "metadata": {},
     "output_type": "display_data"
    },
    {
     "data": {
      "text/plain": [
       "<Figure size 432x288 with 0 Axes>"
      ]
     },
     "metadata": {},
     "output_type": "display_data"
    },
    {
     "data": {
      "text/plain": [
       "<Figure size 432x288 with 0 Axes>"
      ]
     },
     "metadata": {},
     "output_type": "display_data"
    },
    {
     "data": {
      "text/plain": [
       "<Figure size 432x288 with 0 Axes>"
      ]
     },
     "metadata": {},
     "output_type": "display_data"
    },
    {
     "data": {
      "text/plain": [
       "<Figure size 432x288 with 0 Axes>"
      ]
     },
     "metadata": {},
     "output_type": "display_data"
    },
    {
     "data": {
      "text/plain": [
       "<Figure size 432x288 with 0 Axes>"
      ]
     },
     "metadata": {},
     "output_type": "display_data"
    },
    {
     "data": {
      "text/plain": [
       "<Figure size 432x288 with 0 Axes>"
      ]
     },
     "metadata": {},
     "output_type": "display_data"
    },
    {
     "data": {
      "text/plain": [
       "<Figure size 432x288 with 0 Axes>"
      ]
     },
     "metadata": {},
     "output_type": "display_data"
    },
    {
     "data": {
      "text/plain": [
       "<Figure size 432x288 with 0 Axes>"
      ]
     },
     "metadata": {},
     "output_type": "display_data"
    },
    {
     "data": {
      "text/plain": [
       "<Figure size 432x288 with 0 Axes>"
      ]
     },
     "metadata": {},
     "output_type": "display_data"
    },
    {
     "data": {
      "text/plain": [
       "<Figure size 432x288 with 0 Axes>"
      ]
     },
     "metadata": {},
     "output_type": "display_data"
    },
    {
     "data": {
      "text/plain": [
       "<Figure size 432x288 with 0 Axes>"
      ]
     },
     "metadata": {},
     "output_type": "display_data"
    },
    {
     "data": {
      "text/plain": [
       "<Figure size 432x288 with 0 Axes>"
      ]
     },
     "metadata": {},
     "output_type": "display_data"
    },
    {
     "data": {
      "text/plain": [
       "<Figure size 432x288 with 0 Axes>"
      ]
     },
     "metadata": {},
     "output_type": "display_data"
    },
    {
     "data": {
      "text/plain": [
       "<Figure size 432x288 with 0 Axes>"
      ]
     },
     "metadata": {},
     "output_type": "display_data"
    },
    {
     "data": {
      "text/plain": [
       "<Figure size 432x288 with 0 Axes>"
      ]
     },
     "metadata": {},
     "output_type": "display_data"
    },
    {
     "data": {
      "text/plain": [
       "<Figure size 432x288 with 0 Axes>"
      ]
     },
     "metadata": {},
     "output_type": "display_data"
    },
    {
     "data": {
      "text/plain": [
       "<Figure size 432x288 with 0 Axes>"
      ]
     },
     "metadata": {},
     "output_type": "display_data"
    },
    {
     "data": {
      "text/plain": [
       "<Figure size 432x288 with 0 Axes>"
      ]
     },
     "metadata": {},
     "output_type": "display_data"
    },
    {
     "data": {
      "text/plain": [
       "<Figure size 432x288 with 0 Axes>"
      ]
     },
     "metadata": {},
     "output_type": "display_data"
    },
    {
     "data": {
      "text/plain": [
       "<Figure size 432x288 with 0 Axes>"
      ]
     },
     "metadata": {},
     "output_type": "display_data"
    },
    {
     "data": {
      "text/plain": [
       "<Figure size 432x288 with 0 Axes>"
      ]
     },
     "metadata": {},
     "output_type": "display_data"
    },
    {
     "data": {
      "text/plain": [
       "<Figure size 432x288 with 0 Axes>"
      ]
     },
     "metadata": {},
     "output_type": "display_data"
    },
    {
     "data": {
      "text/plain": [
       "<Figure size 432x288 with 0 Axes>"
      ]
     },
     "metadata": {},
     "output_type": "display_data"
    },
    {
     "data": {
      "text/plain": [
       "<Figure size 432x288 with 0 Axes>"
      ]
     },
     "metadata": {},
     "output_type": "display_data"
    },
    {
     "data": {
      "text/plain": [
       "<Figure size 432x288 with 0 Axes>"
      ]
     },
     "metadata": {},
     "output_type": "display_data"
    },
    {
     "data": {
      "text/plain": [
       "<Figure size 432x288 with 0 Axes>"
      ]
     },
     "metadata": {},
     "output_type": "display_data"
    },
    {
     "data": {
      "text/plain": [
       "<Figure size 432x288 with 0 Axes>"
      ]
     },
     "metadata": {},
     "output_type": "display_data"
    },
    {
     "data": {
      "text/plain": [
       "<Figure size 432x288 with 0 Axes>"
      ]
     },
     "metadata": {},
     "output_type": "display_data"
    },
    {
     "data": {
      "text/plain": [
       "<Figure size 432x288 with 0 Axes>"
      ]
     },
     "metadata": {},
     "output_type": "display_data"
    },
    {
     "data": {
      "text/plain": [
       "<Figure size 432x288 with 0 Axes>"
      ]
     },
     "metadata": {},
     "output_type": "display_data"
    },
    {
     "data": {
      "text/plain": [
       "<Figure size 432x288 with 0 Axes>"
      ]
     },
     "metadata": {},
     "output_type": "display_data"
    },
    {
     "data": {
      "text/plain": [
       "<Figure size 432x288 with 0 Axes>"
      ]
     },
     "metadata": {},
     "output_type": "display_data"
    },
    {
     "data": {
      "text/plain": [
       "<Figure size 432x288 with 0 Axes>"
      ]
     },
     "metadata": {},
     "output_type": "display_data"
    },
    {
     "data": {
      "text/plain": [
       "<Figure size 432x288 with 0 Axes>"
      ]
     },
     "metadata": {},
     "output_type": "display_data"
    },
    {
     "data": {
      "text/plain": [
       "<Figure size 432x288 with 0 Axes>"
      ]
     },
     "metadata": {},
     "output_type": "display_data"
    },
    {
     "data": {
      "text/plain": [
       "<Figure size 432x288 with 0 Axes>"
      ]
     },
     "metadata": {},
     "output_type": "display_data"
    },
    {
     "data": {
      "text/plain": [
       "<Figure size 432x288 with 0 Axes>"
      ]
     },
     "metadata": {},
     "output_type": "display_data"
    },
    {
     "data": {
      "text/plain": [
       "<Figure size 432x288 with 0 Axes>"
      ]
     },
     "metadata": {},
     "output_type": "display_data"
    },
    {
     "data": {
      "text/plain": [
       "<Figure size 432x288 with 0 Axes>"
      ]
     },
     "metadata": {},
     "output_type": "display_data"
    },
    {
     "data": {
      "text/plain": [
       "<Figure size 432x288 with 0 Axes>"
      ]
     },
     "metadata": {},
     "output_type": "display_data"
    },
    {
     "data": {
      "text/plain": [
       "<Figure size 432x288 with 0 Axes>"
      ]
     },
     "metadata": {},
     "output_type": "display_data"
    },
    {
     "data": {
      "text/plain": [
       "<Figure size 432x288 with 0 Axes>"
      ]
     },
     "metadata": {},
     "output_type": "display_data"
    },
    {
     "data": {
      "text/plain": [
       "<Figure size 432x288 with 0 Axes>"
      ]
     },
     "metadata": {},
     "output_type": "display_data"
    },
    {
     "data": {
      "text/plain": [
       "<Figure size 432x288 with 0 Axes>"
      ]
     },
     "metadata": {},
     "output_type": "display_data"
    },
    {
     "data": {
      "text/plain": [
       "<Figure size 432x288 with 0 Axes>"
      ]
     },
     "metadata": {},
     "output_type": "display_data"
    },
    {
     "data": {
      "text/plain": [
       "<Figure size 432x288 with 0 Axes>"
      ]
     },
     "metadata": {},
     "output_type": "display_data"
    },
    {
     "data": {
      "text/plain": [
       "<Figure size 432x288 with 0 Axes>"
      ]
     },
     "metadata": {},
     "output_type": "display_data"
    },
    {
     "data": {
      "text/plain": [
       "<Figure size 432x288 with 0 Axes>"
      ]
     },
     "metadata": {},
     "output_type": "display_data"
    },
    {
     "data": {
      "text/plain": [
       "<Figure size 432x288 with 0 Axes>"
      ]
     },
     "metadata": {},
     "output_type": "display_data"
    },
    {
     "data": {
      "text/plain": [
       "<Figure size 432x288 with 0 Axes>"
      ]
     },
     "metadata": {},
     "output_type": "display_data"
    },
    {
     "data": {
      "text/plain": [
       "<Figure size 432x288 with 0 Axes>"
      ]
     },
     "metadata": {},
     "output_type": "display_data"
    },
    {
     "data": {
      "text/plain": [
       "<Figure size 432x288 with 0 Axes>"
      ]
     },
     "metadata": {},
     "output_type": "display_data"
    },
    {
     "data": {
      "text/plain": [
       "<Figure size 432x288 with 0 Axes>"
      ]
     },
     "metadata": {},
     "output_type": "display_data"
    },
    {
     "data": {
      "text/plain": [
       "<Figure size 432x288 with 0 Axes>"
      ]
     },
     "metadata": {},
     "output_type": "display_data"
    },
    {
     "data": {
      "text/plain": [
       "<Figure size 432x288 with 0 Axes>"
      ]
     },
     "metadata": {},
     "output_type": "display_data"
    },
    {
     "data": {
      "text/plain": [
       "<Figure size 432x288 with 0 Axes>"
      ]
     },
     "metadata": {},
     "output_type": "display_data"
    },
    {
     "data": {
      "text/plain": [
       "<Figure size 432x288 with 0 Axes>"
      ]
     },
     "metadata": {},
     "output_type": "display_data"
    },
    {
     "data": {
      "text/plain": [
       "<Figure size 432x288 with 0 Axes>"
      ]
     },
     "metadata": {},
     "output_type": "display_data"
    },
    {
     "data": {
      "text/plain": [
       "<Figure size 432x288 with 0 Axes>"
      ]
     },
     "metadata": {},
     "output_type": "display_data"
    },
    {
     "data": {
      "text/plain": [
       "<Figure size 432x288 with 0 Axes>"
      ]
     },
     "metadata": {},
     "output_type": "display_data"
    },
    {
     "data": {
      "text/plain": [
       "<Figure size 432x288 with 0 Axes>"
      ]
     },
     "metadata": {},
     "output_type": "display_data"
    },
    {
     "data": {
      "text/plain": [
       "<Figure size 432x288 with 0 Axes>"
      ]
     },
     "metadata": {},
     "output_type": "display_data"
    },
    {
     "data": {
      "text/plain": [
       "<Figure size 432x288 with 0 Axes>"
      ]
     },
     "metadata": {},
     "output_type": "display_data"
    },
    {
     "data": {
      "text/plain": [
       "<Figure size 432x288 with 0 Axes>"
      ]
     },
     "metadata": {},
     "output_type": "display_data"
    },
    {
     "data": {
      "text/plain": [
       "<Figure size 432x288 with 0 Axes>"
      ]
     },
     "metadata": {},
     "output_type": "display_data"
    },
    {
     "data": {
      "text/plain": [
       "<Figure size 432x288 with 0 Axes>"
      ]
     },
     "metadata": {},
     "output_type": "display_data"
    },
    {
     "data": {
      "text/plain": [
       "<Figure size 432x288 with 0 Axes>"
      ]
     },
     "metadata": {},
     "output_type": "display_data"
    },
    {
     "data": {
      "text/plain": [
       "<Figure size 432x288 with 0 Axes>"
      ]
     },
     "metadata": {},
     "output_type": "display_data"
    },
    {
     "data": {
      "text/plain": [
       "<Figure size 432x288 with 0 Axes>"
      ]
     },
     "metadata": {},
     "output_type": "display_data"
    },
    {
     "data": {
      "text/plain": [
       "<Figure size 432x288 with 0 Axes>"
      ]
     },
     "metadata": {},
     "output_type": "display_data"
    },
    {
     "data": {
      "text/plain": [
       "<Figure size 432x288 with 0 Axes>"
      ]
     },
     "metadata": {},
     "output_type": "display_data"
    },
    {
     "data": {
      "text/plain": [
       "<Figure size 432x288 with 0 Axes>"
      ]
     },
     "metadata": {},
     "output_type": "display_data"
    },
    {
     "data": {
      "text/plain": [
       "<Figure size 432x288 with 0 Axes>"
      ]
     },
     "metadata": {},
     "output_type": "display_data"
    },
    {
     "data": {
      "text/plain": [
       "<Figure size 432x288 with 0 Axes>"
      ]
     },
     "metadata": {},
     "output_type": "display_data"
    },
    {
     "data": {
      "text/plain": [
       "<Figure size 432x288 with 0 Axes>"
      ]
     },
     "metadata": {},
     "output_type": "display_data"
    },
    {
     "data": {
      "text/plain": [
       "<Figure size 432x288 with 0 Axes>"
      ]
     },
     "metadata": {},
     "output_type": "display_data"
    },
    {
     "data": {
      "text/plain": [
       "<Figure size 432x288 with 0 Axes>"
      ]
     },
     "metadata": {},
     "output_type": "display_data"
    },
    {
     "data": {
      "text/plain": [
       "<Figure size 432x288 with 0 Axes>"
      ]
     },
     "metadata": {},
     "output_type": "display_data"
    },
    {
     "data": {
      "text/plain": [
       "<Figure size 432x288 with 0 Axes>"
      ]
     },
     "metadata": {},
     "output_type": "display_data"
    },
    {
     "data": {
      "text/plain": [
       "<Figure size 432x288 with 0 Axes>"
      ]
     },
     "metadata": {},
     "output_type": "display_data"
    },
    {
     "data": {
      "text/plain": [
       "<Figure size 432x288 with 0 Axes>"
      ]
     },
     "metadata": {},
     "output_type": "display_data"
    },
    {
     "data": {
      "text/plain": [
       "<Figure size 432x288 with 0 Axes>"
      ]
     },
     "metadata": {},
     "output_type": "display_data"
    },
    {
     "data": {
      "text/plain": [
       "<Figure size 432x288 with 0 Axes>"
      ]
     },
     "metadata": {},
     "output_type": "display_data"
    },
    {
     "data": {
      "text/plain": [
       "<Figure size 432x288 with 0 Axes>"
      ]
     },
     "metadata": {},
     "output_type": "display_data"
    },
    {
     "data": {
      "text/plain": [
       "<Figure size 432x288 with 0 Axes>"
      ]
     },
     "metadata": {},
     "output_type": "display_data"
    },
    {
     "data": {
      "application/javascript": [
       "\n",
       "            setTimeout(function() {\n",
       "                var nbb_cell_id = 51;\n",
       "                var nbb_unformatted_code = \"from scipy.stats import entropy\\nfrom matplotlib import pyplot as plt \\ntemp=np.arange(0,2,0.1)\\nentropyval=[]\\n\\nfor i in range(len(temp)):\\n    entropyval.append(1/entropy([temp[i],1-temp[i]+0.5],base=2))\\n    \\nplt.plot(temp,entropyval)\\nplt.plot(1-temp,entropyval)\\n\\n\\nimport matplotlib.pyplot as plt\\nfrom mpl_toolkits.mplot3d import Axes3D\\nfig = plt.figure()\\nax = fig.add_subplot(111, projection='3d') \\n \\n\\nax.scatter(temp, 1-temp, entropyval)\\n\\nfor angle in range(0, 360):\\n    ax.view_init(30, angle)\\n    plt.draw()\\n    plt.pause(.001)\";\n",
       "                var nbb_formatted_code = \"from scipy.stats import entropy\\nfrom matplotlib import pyplot as plt\\n\\ntemp = np.arange(0, 2, 0.1)\\nentropyval = []\\n\\nfor i in range(len(temp)):\\n    entropyval.append(1 / entropy([temp[i], 1 - temp[i] + 0.5], base=2))\\n\\nplt.plot(temp, entropyval)\\nplt.plot(1 - temp, entropyval)\\n\\n\\nimport matplotlib.pyplot as plt\\nfrom mpl_toolkits.mplot3d import Axes3D\\n\\nfig = plt.figure()\\nax = fig.add_subplot(111, projection=\\\"3d\\\")\\n\\n\\nax.scatter(temp, 1 - temp, entropyval)\\n\\nfor angle in range(0, 360):\\n    ax.view_init(30, angle)\\n    plt.draw()\\n    plt.pause(0.001)\";\n",
       "                var nbb_cells = Jupyter.notebook.get_cells();\n",
       "                for (var i = 0; i < nbb_cells.length; ++i) {\n",
       "                    if (nbb_cells[i].input_prompt_number == nbb_cell_id) {\n",
       "                        if (nbb_cells[i].get_text() == nbb_unformatted_code) {\n",
       "                             nbb_cells[i].set_text(nbb_formatted_code);\n",
       "                        }\n",
       "                        break;\n",
       "                    }\n",
       "                }\n",
       "            }, 500);\n",
       "            "
      ],
      "text/plain": [
       "<IPython.core.display.Javascript object>"
      ]
     },
     "metadata": {},
     "output_type": "display_data"
    }
   ],
   "source": [
    "from scipy.stats import entropy\n",
    "from matplotlib import pyplot as plt \n",
    "temp=np.arange(0,2,0.1)\n",
    "entropyval=[]\n",
    "\n",
    "for i in range(len(temp)):\n",
    "    entropyval.append(1/entropy([temp[i],1-temp[i]+0.5],base=2))\n",
    "    \n",
    "plt.plot(temp,entropyval)\n",
    "plt.plot(1-temp,entropyval)\n",
    "\n",
    "\n",
    "import matplotlib.pyplot as plt\n",
    "from mpl_toolkits.mplot3d import Axes3D\n",
    "fig = plt.figure()\n",
    "ax = fig.add_subplot(111, projection='3d') \n",
    " \n",
    "\n",
    "ax.scatter(temp, 1-temp, entropyval)\n",
    "\n",
    "for angle in range(0, 360):\n",
    "    ax.view_init(30, angle)\n",
    "    plt.draw()\n",
    "    plt.pause(.001)\n"
   ]
  },
  {
   "cell_type": "code",
   "execution_count": null,
   "metadata": {},
   "outputs": [],
   "source": []
  }
 ],
 "metadata": {
  "kernelspec": {
   "display_name": "Python 3",
   "language": "python",
   "name": "python3"
  },
  "language_info": {
   "codemirror_mode": {
    "name": "ipython",
    "version": 3
   },
   "file_extension": ".py",
   "mimetype": "text/x-python",
   "name": "python",
   "nbconvert_exporter": "python",
   "pygments_lexer": "ipython3",
   "version": "3.7.7"
  }
 },
 "nbformat": 4,
 "nbformat_minor": 2
}
